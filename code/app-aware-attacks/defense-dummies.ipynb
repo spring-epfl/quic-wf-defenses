{
 "cells": [
  {
   "cell_type": "code",
   "execution_count": 1,
   "metadata": {},
   "outputs": [],
   "source": [
    "# imports and functions, does nothing\n",
    "\n",
    "from IPython.display import Image\n",
    "from sklearn import metrics\n",
    "from sklearn.ensemble import RandomForestClassifier\n",
    "from sklearn.feature_selection import RFE\n",
    "from sklearn.model_selection import StratifiedShuffleSplit\n",
    "import matplotlib.pyplot as plt\n",
    "import numpy as np\n",
    "import os\n",
    "import random\n",
    "from json import JSONEncoder\n",
    "import json\n",
    "\n",
    "class NumpyArrayEncoder(JSONEncoder):\n",
    "    def default(self, obj):\n",
    "        if isinstance(obj, np.integer):\n",
    "            return int(obj)\n",
    "        elif isinstance(obj, np.floating):\n",
    "            return float(obj)\n",
    "        elif isinstance(obj, np.ndarray):\n",
    "            return obj.tolist()\n",
    "        return JSONEncoder.default(self, obj)\n",
    "\n",
    "def serialize(uri, o, version=''):\n",
    "    try:\n",
    "        os.remove(\".cache/\"+uri)\n",
    "    except:\n",
    "        pass\n",
    "    with open(\".cache/\"+uri, \"w\") as f:\n",
    "        if version != '':\n",
    "            f.write('#version: '+version+'\\n')\n",
    "        json.dump(o, f, cls=NumpyArrayEncoder)\n",
    "\n",
    "def deserialize(uri, version=''):\n",
    "    if os.path.isfile(\".cache/\"+uri):\n",
    "        with open(\".cache/\"+uri, \"r\") as f:\n",
    "            data = []\n",
    "            for line in f:\n",
    "                if not line.startswith('#version:'):\n",
    "                    data.append(line)\n",
    "            return json.loads(''.join(data))\n",
    "    return None\n",
    "\n",
    "def load_or_compute(uri, compute_function, rebuild=False):\n",
    "    data = None\n",
    "    if not rebuild:\n",
    "        data = deserialize(uri)\n",
    "    if data is None:\n",
    "        data = compute_function()\n",
    "        serialize(uri, data)\n",
    "        return data\n",
    "    return data\n",
    "\n",
    "def img(path, width=400):\n",
    "    rnd = random.randint(0,2e9)\n",
    "    return f\"\"\"<img src=\"{path}?nocache={rnd}\" style=\"width:{width}px; \"></img>\"\"\""
   ]
  },
  {
   "cell_type": "code",
   "execution_count": 2,
   "metadata": {},
   "outputs": [],
   "source": [
    "data_all = np.load('datasets/quic-100p-150-40runs.npy', allow_pickle=True).item()\n",
    "data = data_all['nofilter'] # adblock + decentraleyes\n",
    "urls = [url for url in data]\n",
    "\n",
    "# total incoming size\n",
    "def add(a, b):\n",
    "    x = 0\n",
    "    if a is not None:\n",
    "        x += abs(a)\n",
    "    if b is not None:\n",
    "        x += abs(b)\n",
    "    return x\n",
    "\n",
    "def toOldHARFormat(data):\n",
    "    data2 = {}\n",
    "    for url in data:\n",
    "        data2[url] = {}\n",
    "        for sample in data[url]:\n",
    "            data2[url][sample] = []\n",
    "            for request in data[url][sample]:\n",
    "                domain, fullurl, t, out_h, out_b, t_resp, inc_h, inc_b = request\n",
    "                data2[url][sample].append([t, add(out_h, out_b), add(inc_h, inc_b)])\n",
    "    return data2\n",
    "\n",
    "data_old_format = toOldHARFormat(data)\n",
    "data_old_format_noprotections = toOldHARFormat(data_all['nofilter'])"
   ]
  },
  {
   "cell_type": "code",
   "execution_count": 3,
   "metadata": {},
   "outputs": [],
   "source": [
    "from lib.features import *\n",
    "from lib.rf import *"
   ]
  },
  {
   "cell_type": "code",
   "execution_count": 4,
   "metadata": {},
   "outputs": [
    {
     "data": {
      "image/png": "[encoded data removed]",
      "text/plain": [
       "<Figure size 640x480 with 1 Axes>"
      ]
     },
     "metadata": {},
     "output_type": "display_data"
    }
   ],
   "source": [
    "# total incoming size\n",
    "def add(a, b):\n",
    "    x = 0\n",
    "    if a is not None:\n",
    "        x += abs(a)\n",
    "    if b is not None:\n",
    "        x += abs(b)\n",
    "    return x\n",
    "\n",
    "def incoming_sizes_distrib(data):\n",
    "    incoming_bytes = []\n",
    "    incoming_bytes_per_website = dict()\n",
    "\n",
    "    for url in data:\n",
    "        incoming_bytes_for_this_website = []\n",
    "        for sample in data[url]:\n",
    "            total = 0\n",
    "            for request in data[url][sample]:\n",
    "                domain, fullurl, t_query, out_h, out_b, t_resp, inc_h, inc_b = request\n",
    "                total += add(inc_h, inc_b)\n",
    "            incoming_bytes_for_this_website.append(total)\n",
    "\n",
    "        if len(incoming_bytes_for_this_website) > 0:\n",
    "            incoming_bytes_per_website[url] =  [np.mean(incoming_bytes_for_this_website), np.std(incoming_bytes_for_this_website)]\n",
    "\n",
    "    tuples = list(incoming_bytes_per_website.items())\n",
    "    tuples.sort(key=lambda row: row[1][0])\n",
    "\n",
    "\n",
    "    xs = [t[0][:3] for t in tuples]\n",
    "    ys = [int(t[1][0]) for t in tuples]\n",
    "    yerr = [int(t[1][1]) for t in tuples]\n",
    "\n",
    "    plt.bar(np.arange(len(ys)), ys, yerr=yerr)\n",
    "    plt.xlabel('Websites')\n",
    "    plt.ylabel('Total Incoming [B]')\n",
    "    #plt.yscale('log')\n",
    "    #plt.ylim([0, 10000])\n",
    "\n",
    "incoming_sizes_distrib(data)"
   ]
  },
  {
   "cell_type": "code",
   "execution_count": 5,
   "metadata": {},
   "outputs": [
    {
     "name": "stdout",
     "output_type": "stream",
     "text": [
      "7.9714285714285715\n",
      "28739.899600379023\n",
      "https://fonts.gstatic.com/s/kadwa/v5/rnCm-x5V0g7ipiTAT8Y.woff2\n",
      "https://accounts.google.com/_/kids/signup/eligible?hl=fr&amp;_reqid=56237&amp;rt=j\n",
      "https://lh3.googleusercontent.com/a-/AOh14GhUIhpMPA4TexCDXknk7-8qmtdqkrcUaGeM5kR54A=s96-p\n",
      "https://lh3.googleusercontent.com/a-/AOh14GjNgN1fu7gD34GhwrrehReu3HFHX0dbNIWj1Cca=s96-p\n",
      "https://accounts.google.com/_/kids/signup/eligible?hl=fr&amp;_reqid=82807&amp;rt=j\n",
      "https://accounts.google.com/_/kids/signup/eligible?hl=fr&amp;_reqid=1301&amp;rt=j\n",
      "https://accounts.google.com/_/kids/signup/eligible?hl=fr&amp;_reqid=35812&amp;rt=j\n",
      "https://www.gstatic.com/devrel-devsite/prod/v0492b3db79b8927fe2347ea2dc87c471b22f173331622ffd10334837d43ea37f/js/devsite_devsite_snackbar_module.js\n",
      "https://accounts.google.com/_/kids/signup/eligible?hl=fr&amp;_reqid=47902&amp;rt=j\n",
      "https://www.gstatic.com/devrel-devsite/prod/v0492b3db79b8927fe2347ea2dc87c471b22f173331622ffd10334837d43ea37f/js/devsite_devsite_book_nav_module.js\n",
      "https://fonts.googleapis.com/css?family=Open+Sans%3A300%2C400%2C600%2C700&amp;subset=latin%2Clatin-ext\n",
      "https://lh3.googleusercontent.com/QURxYQfk-nuyIwW63leiDjB6x00CE9EMSO9CE-PrSzUNT5hhHM6P0BJpwskRJvz2h9QCukBEnSwA=w384-h286-no\n",
      "https://lh3.googleusercontent.com/GAQeE21qI8M1kMFXOuvIjaUgeO0CTVKIFSd0YJa-KJeOm7oSBNX27nTSEdSo_hy-n6sMQDKIDFLC=w700-h525-no\n",
      "https://fonts.gstatic.com/s/materialiconsextended/v105/kJEjBvgX7BgnkSrUwT8UnLVc38YydejYY-oE_LvJ.woff2\n",
      "https://lh3.googleusercontent.com/proxy/KPsyjN9Wbi8Qd-Q6R10cbI0gF0SKwoSqJy3AsmosgKuqA_mRWx3WlWcND-r5i3aTmT-D9q5jubbkyIpV0vUL8ND3hpuDvXEo=w720-h377-rj-pd-pc0x00e9e9e9\n",
      "https://apis.google.com/js/api.js\n",
      "https://accounts.google.com/ServiceLogin?continue=https://www.blogger.com/followers.g?blogID%3D3512172885516050706%26colors%3DCgt0cmFuc3BhcmVudBILdHJhbnNwYXJlbnQaByMyMTIxMjEiByM2ODMxYzYqByNlY2VjZWMyByMwMDUxYzY6ByMyMTIxMjFCByM2ODMxYzZKByNjNjAwNTFSByM2ODMxYzZaC3RyYW5zcGFyZW50%26pageSize%3D21%26origin%3Dhttps://krdlogoped.blogspot.com/%26usegapi%3D1%26jsh%3Dm;/_/scs/apps-static/_/js/k%253Doz.gapi.en_US.4sn9RO63fqo.O/am%253DAQ/d%253D1/rs%253DAGLTcCO5GqPeHrbNQGs79bP09BnjVkdwag/m%253D__features__%26bpli%3D1&amp;followup=https://www.blogger.com/followers.g?blogID%3D3512172885516050706%26colors%3DCgt0cmFuc3BhcmVudBILdHJhbnNwYXJlbnQaByMyMTIxMjEiByM2ODMxYzYqByNlY2VjZWMyByMwMDUxYzY6ByMyMTIxMjFCByM2ODMxYzZKByNjNjAwNTFSByM2ODMxYzZaC3RyYW5zcGFyZW50%26pageSize%3D21%26origin%3Dhttps://krdlogoped.blogspot.com/%26usegapi%3D1%26jsh%3Dm;/_/scs/apps-static/_/js/k%253Doz.gapi.en_US.4sn9RO63fqo.O/am%253DAQ/d%253D1/rs%253DAGLTcCO5GqPeHrbNQGs79bP09BnjVkdwag/m%253D__features__%26bpli%3D1&amp;passive=true&amp;go=true#id=I0_1628084912600&amp;_gfid=I0_1628084912600&amp;parent=https%3A%2F%2Fkrdlogoped.blogspot.com&amp;pfname=&amp;rpctoken=28290757\n",
      "https://www.gstatic.com/devrel-devsite/prod/v0089c83aa8227c3439bf2708c0795dd13db533711d44eb626e640152d9fdf05e/js/devsite_app_module.js\n",
      "https://fonts.gstatic.com/s/googlesans/v35/4UabrENHsxJlGDuGo1OIlLU94Yt9CwZ-Pw.woff2\n",
      "https://fonts.googleapis.com/css?family=Roboto%3A400\n",
      "https://www.gstatic.com/feedback/api.js\n",
      "https://www.gstatic.com/devrel-devsite/prod/v0492b3db79b8927fe2347ea2dc87c471b22f173331622ffd10334837d43ea37f/js/devsite_devsite_footer_promos_module.js\n",
      "https://accounts.google.com/_/kids/signup/eligible?hl=fr&amp;_reqid=71981&amp;rt=j\n",
      "https://accounts.google.com/ServiceLogin?continue=https://www.blogger.com/followers.g?blogID%3D1719811995182941521%26colors%3DCgt0cmFuc3BhcmVudBILdHJhbnNwYXJlbnQaByMyMjIyMjIiByM5OTMzMDAqByNmZmY5ZWUyByMwMDAwMDA6ByMyMjIyMjJCByM5OTMzMDBKByM5OTk5OTlSByM5OTMzMDBaC3RyYW5zcGFyZW50%26pageSize%3D21%26origin%3Dhttps://makalebilgi.blogspot.com/%26usegapi%3D1%26jsh%3Dm;/_/scs/apps-static/_/js/k%253Doz.gapi.en_US.4sn9RO63fqo.O/am%253DAQ/d%253D1/rs%253DAGLTcCO5GqPeHrbNQGs79bP09BnjVkdwag/m%253D__features__%26bpli%3D1&amp;followup=https://www.blogger.com/followers.g?blogID%3D1719811995182941521%26colors%3DCgt0cmFuc3BhcmVudBILdHJhbnNwYXJlbnQaByMyMjIyMjIiByM5OTMzMDAqByNmZmY5ZWUyByMwMDAwMDA6ByMyMjIyMjJCByM5OTMzMDBKByM5OTk5OTlSByM5OTMzMDBaC3RyYW5zcGFyZW50%26pageSize%3D21%26origin%3Dhttps://makalebilgi.blogspot.com/%26usegapi%3D1%26jsh%3Dm;/_/scs/apps-static/_/js/k%253Doz.gapi.en_US.4sn9RO63fqo.O/am%253DAQ/d%253D1/rs%253DAGLTcCO5GqPeHrbNQGs79bP09BnjVkdwag/m%253D__features__%26bpli%3D1&amp;passive=true&amp;go=true#id=I0_1628545307870&amp;_gfid=I0_1628545307870&amp;parent=https%3A%2F%2Fmakalebilgi.blogspot.com&amp;pfname=&amp;rpctoken=24808307\n",
      "https://www.gstatic.com/devrel-devsite/prod/v0089c83aa8227c3439bf2708c0795dd13db533711d44eb626e640152d9fdf05e/js/devsite_devsite_book_nav_module.js\n",
      "https://fonts.gstatic.com/s/roboto/v27/KFOkCnqEu92Fr1MmgVxIIzI.woff2\n",
      "https://fonts.gstatic.com/s/roboto/v18/KFOmCnqEu92Fr1Mu7GxKOzY.woff2\n",
      "https://fonts.gstatic.com/s/rubik/v14/iJWZBXyIfDnIV5PNhY1KTN7Z-Yh-NYiFV0U1.woff2\n",
      "https://accounts.google.com/ServiceLogin?continue=https://www.blogger.com/followers.g?blogID%3D3512172885516050706%26colors%3DCgt0cmFuc3BhcmVudBILdHJhbnNwYXJlbnQaByMyMTIxMjEiByM2ODMxYzYqByNlY2VjZWMyByMwMDUxYzY6ByMyMTIxMjFCByM2ODMxYzZKByNjNjAwNTFSByM2ODMxYzZaC3RyYW5zcGFyZW50%26pageSize%3D21%26origin%3Dhttps://krdlogoped.blogspot.com/%26usegapi%3D1%26jsh%3Dm;/_/scs/apps-static/_/js/k%253Doz.gapi.en_US.4sn9RO63fqo.O/am%253DAQ/d%253D1/rs%253DAGLTcCO5GqPeHrbNQGs79bP09BnjVkdwag/m%253D__features__%26bpli%3D1&amp;followup=https://www.blogger.com/followers.g?blogID%3D3512172885516050706%26colors%3DCgt0cmFuc3BhcmVudBILdHJhbnNwYXJlbnQaByMyMTIxMjEiByM2ODMxYzYqByNlY2VjZWMyByMwMDUxYzY6ByMyMTIxMjFCByM2ODMxYzZKByNjNjAwNTFSByM2ODMxYzZaC3RyYW5zcGFyZW50%26pageSize%3D21%26origin%3Dhttps://krdlogoped.blogspot.com/%26usegapi%3D1%26jsh%3Dm;/_/scs/apps-static/_/js/k%253Doz.gapi.en_US.4sn9RO63fqo.O/am%253DAQ/d%253D1/rs%253DAGLTcCO5GqPeHrbNQGs79bP09BnjVkdwag/m%253D__features__%26bpli%3D1&amp;passive=true&amp;go=true#id=I0_1628150066359&amp;_gfid=I0_1628150066359&amp;parent=https%3A%2F%2Fkrdlogoped.blogspot.com&amp;pfname=&amp;rpctoken=41077798\n",
      "https://accounts.google.com/o/oauth2/auth/_/common/diagnostics/?diagnostics=%5B%5B%5B%22gaia_fe_minutemaid%3Ass%22%2Cnull%2Cnull%2Cnull%2C1628119047328%5D%5D%5D&amp;rt=j\n",
      "https://accounts.google.com/ServiceLogin?continue=https://www.blogger.com/followers.g?blogID%3D3512172885516050706%26colors%3DCgt0cmFuc3BhcmVudBILdHJhbnNwYXJlbnQaByMyMTIxMjEiByM2ODMxYzYqByNlY2VjZWMyByMwMDUxYzY6ByMyMTIxMjFCByM2ODMxYzZKByNjNjAwNTFSByM2ODMxYzZaC3RyYW5zcGFyZW50%26pageSize%3D21%26origin%3Dhttps://krdlogoped.blogspot.com/%26usegapi%3D1%26jsh%3Dm;/_/scs/apps-static/_/js/k%253Doz.gapi.en_US.4sn9RO63fqo.O/am%253DAQ/d%253D1/rs%253DAGLTcCO5GqPeHrbNQGs79bP09BnjVkdwag/m%253D__features__%26bpli%3D1&amp;followup=https://www.blogger.com/followers.g?blogID%3D3512172885516050706%26colors%3DCgt0cmFuc3BhcmVudBILdHJhbnNwYXJlbnQaByMyMTIxMjEiByM2ODMxYzYqByNlY2VjZWMyByMwMDUxYzY6ByMyMTIxMjFCByM2ODMxYzZKByNjNjAwNTFSByM2ODMxYzZaC3RyYW5zcGFyZW50%26pageSize%3D21%26origin%3Dhttps://krdlogoped.blogspot.com/%26usegapi%3D1%26jsh%3Dm;/_/scs/apps-static/_/js/k%253Doz.gapi.en_US.4sn9RO63fqo.O/am%253DAQ/d%253D1/rs%253DAGLTcCO5GqPeHrbNQGs79bP09BnjVkdwag/m%253D__features__%26bpli%3D1&amp;passive=true&amp;go=true#id=I0_1628195035247&amp;_gfid=I0_1628195035247&amp;parent=https%3A%2F%2Fkrdlogoped.blogspot.com&amp;pfname=&amp;rpctoken=40028952\n",
      "https://lh3.googleusercontent.com/6by44nWDzb5SaaKyF1lO38JXT_D1dNQVLTZ--BqU0aAEnwD079a-5tXLdXZeC3WcH5N4ZITol1mJBv9YTQ=w960-h960-n-o-v1\n",
      "https://accounts.google.com/ServiceLogin?continue=https://www.blogger.com/followers.g?blogID%3D1719811995182941521%26colors%3DCgt0cmFuc3BhcmVudBILdHJhbnNwYXJlbnQaByMyMjIyMjIiByM5OTMzMDAqByNmZmY5ZWUyByMwMDAwMDA6ByMyMjIyMjJCByM5OTMzMDBKByM5OTk5OTlSByM5OTMzMDBaC3RyYW5zcGFyZW50%26pageSize%3D21%26origin%3Dhttps://makalebilgi.blogspot.com/%26usegapi%3D1%26jsh%3Dm;/_/scs/apps-static/_/js/k%253Doz.gapi.en_US.4sn9RO63fqo.O/am%253DAQ/d%253D1/rs%253DAGLTcCO5GqPeHrbNQGs79bP09BnjVkdwag/m%253D__features__%26bpli%3D1&amp;followup=https://www.blogger.com/followers.g?blogID%3D1719811995182941521%26colors%3DCgt0cmFuc3BhcmVudBILdHJhbnNwYXJlbnQaByMyMjIyMjIiByM5OTMzMDAqByNmZmY5ZWUyByMwMDAwMDA6ByMyMjIyMjJCByM5OTMzMDBKByM5OTk5OTlSByM5OTMzMDBaC3RyYW5zcGFyZW50%26pageSize%3D21%26origin%3Dhttps://makalebilgi.blogspot.com/%26usegapi%3D1%26jsh%3Dm;/_/scs/apps-static/_/js/k%253Doz.gapi.en_US.4sn9RO63fqo.O/am%253DAQ/d%253D1/rs%253DAGLTcCO5GqPeHrbNQGs79bP09BnjVkdwag/m%253D__features__%26bpli%3D1&amp;passive=true&amp;go=true#id=I0_1628178114764&amp;_gfid=I0_1628178114764&amp;parent=https%3A%2F%2Fmakalebilgi.blogspot.com&amp;pfname=&amp;rpctoken=34480110\n",
      "https://fonts.gstatic.com/s/opensans/v20/mem5YaGs126MiZpBA-UN_r8OUuhp.woff2\n",
      "https://accounts.google.com/_/kids/signup/eligible?hl=fr&amp;_reqid=85450&amp;rt=j\n",
      "https://lh3.googleusercontent.com/xtBZYEWQ1Ua_SXXO5_fL-qnwVsYIrTVmiR6eesmcy3d-rJEhbwG5EqcsMtpvGgePtpmexZbLvp7c9Dfvnw=w960-h960-n-o-v1\n",
      "https://fonts.gstatic.com/s/montserrat/v15/JTURjIg1_i6t8kCHKm45_dJE3gnD_g.woff2\n",
      "https://fonts.gstatic.com/s/raleway/v22/1Ptxg8zYS_SKggPN4iEgvnHyvveLxVvaorCIPrE.woff2\n",
      "https://fonts.googleapis.com/css?family=Poppins%3A400%2C500%2C600%2C700&amp;ver=5.8\n",
      "https://www.gstatic.com/og/_/js/k=og.qtm.en_US.opB_WWY1tyA.O/rt=j/m=qabr,q_d,qcwid,qapid,qald/exm=qaaw,qadd,qaid,qein,qhaw,qhbr,qhch,qhga,qhid,qhin,qhpr/d=1/ed=1/rs=AA2YrTu4DZwU_99wQrR_FbG_e4NYhX4m2A\n",
      "https://accounts.google.com/_/kids/signup/eligible?hl=fr&amp;_reqid=15102&amp;rt=j\n",
      "https://accounts.google.com/ServiceLogin?continue=https://www.blogger.com/followers.g?blogID%3D6949068298798094008%26colors%3DCgt0cmFuc3BhcmVudBILdHJhbnNwYXJlbnQaByMwMDAwMDAiByMwMDAwMDAqByNGRkZGRkYyByMwMDAwMDA6ByMwMDAwMDBCByMwMDAwMDBKByMwMDAwMDBSByNGRkZGRkZaC3RyYW5zcGFyZW50%26pageSize%3D21%26origin%3Dhttps://aneukrantau30.blogspot.com/%26usegapi%3D1%26jsh%3Dm;/_/scs/apps-static/_/js/k%253Doz.gapi.en_US.4sn9RO63fqo.O/am%253DAQ/d%253D1/rs%253DAGLTcCO5GqPeHrbNQGs79bP09BnjVkdwag/m%253D__features__%26bpli%3D1&amp;followup=https://www.blogger.com/followers.g?blogID%3D6949068298798094008%26colors%3DCgt0cmFuc3BhcmVudBILdHJhbnNwYXJlbnQaByMwMDAwMDAiByMwMDAwMDAqByNGRkZGRkYyByMwMDAwMDA6ByMwMDAwMDBCByMwMDAwMDBKByMwMDAwMDBSByNGRkZGRkZaC3RyYW5zcGFyZW50%26pageSize%3D21%26origin%3Dhttps://aneukrantau30.blogspot.com/%26usegapi%3D1%26jsh%3Dm;/_/scs/apps-static/_/js/k%253Doz.gapi.en_US.4sn9RO63fqo.O/am%253DAQ/d%253D1/rs%253DAGLTcCO5GqPeHrbNQGs79bP09BnjVkdwag/m%253D__features__%26bpli%3D1&amp;passive=true&amp;go=true#id=I0_1628629014773&amp;_gfid=I0_1628629014773&amp;parent=https%3A%2F%2Faneukrantau30.blogspot.com&amp;pfname=&amp;rpctoken=38658635\n",
      "https://www.gstatic.com/_/mss/boq-geo/_/js/k=boq-geo.GeoMerchantPrestoSiteUi.en_US.fofLzo0j7ak.es5.O/ck=boq-geo.GeoMerchantPrestoSiteUi.G2AuozuRP-8.L.F4.O/am=BIEAgACA/d=1/exm=_b,_tp/excm=_b,_tp,siteview/ed=1/wt=2/rs=AD4das0Ysg0JVr1k1pKek_3N9iYcA6KKlg/m=byfTOb,lsjVmc,LEikZe\n",
      "https://www.gstatic.com/_/mss/boq-geo/_/js/k=boq-geo.GeoMerchantPrestoSiteUi.en_US.9cHVhqb8VC4.es5.O/am=BBEBAAEAAg/d=1/excm=_b,_tp,siteview/ed=1/dg=0/wt=2/rs=AD4das0XSjRz26QO4mL5kxV3bmfAj8-Ocw/m=_b,_tp\n",
      "https://accounts.google.com/ServiceLogin?continue=https://www.blogger.com/followers.g?blogID%3D3512172885516050706%26colors%3DCgt0cmFuc3BhcmVudBILdHJhbnNwYXJlbnQaByMyMTIxMjEiByM2ODMxYzYqByNlY2VjZWMyByMwMDUxYzY6ByMyMTIxMjFCByM2ODMxYzZKByNjNjAwNTFSByM2ODMxYzZaC3RyYW5zcGFyZW50%26pageSize%3D21%26origin%3Dhttps://krdlogoped.blogspot.com/%26usegapi%3D1%26jsh%3Dm;/_/scs/apps-static/_/js/k%253Doz.gapi.en_US.4sn9RO63fqo.O/am%253DAQ/d%253D1/rs%253DAGLTcCO5GqPeHrbNQGs79bP09BnjVkdwag/m%253D__features__%26bpli%3D1&amp;followup=https://www.blogger.com/followers.g?blogID%3D3512172885516050706%26colors%3DCgt0cmFuc3BhcmVudBILdHJhbnNwYXJlbnQaByMyMTIxMjEiByM2ODMxYzYqByNlY2VjZWMyByMwMDUxYzY6ByMyMTIxMjFCByM2ODMxYzZKByNjNjAwNTFSByM2ODMxYzZaC3RyYW5zcGFyZW50%26pageSize%3D21%26origin%3Dhttps://krdlogoped.blogspot.com/%26usegapi%3D1%26jsh%3Dm;/_/scs/apps-static/_/js/k%253Doz.gapi.en_US.4sn9RO63fqo.O/am%253DAQ/d%253D1/rs%253DAGLTcCO5GqPeHrbNQGs79bP09BnjVkdwag/m%253D__features__%26bpli%3D1&amp;passive=true&amp;go=true#id=I0_1628043415208&amp;_gfid=I0_1628043415208&amp;parent=https%3A%2F%2Fkrdlogoped.blogspot.com&amp;pfname=&amp;rpctoken=59543457\n",
      "https://www.gstatic.com/mysidia/6ec7bd8fa804071d5b199900649fb74a.js?tag=pingback\n",
      "https://fonts.googleapis.com/css2?family=Monoton&amp;display=swap\n",
      "https://accounts.google.com/_/kids/signup/eligible?hl=fr&amp;_reqid=68826&amp;rt=j\n",
      "https://lh3.googleusercontent.com/M3-YaCY4WyVmytbNj2aYrvm-uQCYG6UTbqQcf8U5jP8h0IIydzkRTqk9PYaVfoSwrYwQp9ahDCOs=w24-h47-no\n",
      "https://accounts.google.com/ServiceLogin?continue=https://www.blogger.com/followers.g?blogID%3D3512172885516050706%26colors%3DCgt0cmFuc3BhcmVudBILdHJhbnNwYXJlbnQaByMyMTIxMjEiByM2ODMxYzYqByNlY2VjZWMyByMwMDUxYzY6ByMyMTIxMjFCByM2ODMxYzZKByNjNjAwNTFSByM2ODMxYzZaC3RyYW5zcGFyZW50%26pageSize%3D21%26origin%3Dhttps://krdlogoped.blogspot.com/%26usegapi%3D1%26jsh%3Dm;/_/scs/apps-static/_/js/k%253Doz.gapi.en_US.4sn9RO63fqo.O/am%253DAQ/d%253D1/rs%253DAGLTcCO5GqPeHrbNQGs79bP09BnjVkdwag/m%253D__features__%26bpli%3D1&amp;followup=https://www.blogger.com/followers.g?blogID%3D3512172885516050706%26colors%3DCgt0cmFuc3BhcmVudBILdHJhbnNwYXJlbnQaByMyMTIxMjEiByM2ODMxYzYqByNlY2VjZWMyByMwMDUxYzY6ByMyMTIxMjFCByM2ODMxYzZKByNjNjAwNTFSByM2ODMxYzZaC3RyYW5zcGFyZW50%26pageSize%3D21%26origin%3Dhttps://krdlogoped.blogspot.com/%26usegapi%3D1%26jsh%3Dm;/_/scs/apps-static/_/js/k%253Doz.gapi.en_US.4sn9RO63fqo.O/am%253DAQ/d%253D1/rs%253DAGLTcCO5GqPeHrbNQGs79bP09BnjVkdwag/m%253D__features__%26bpli%3D1&amp;passive=true&amp;go=true#id=I0_1628206988144&amp;_gfid=I0_1628206988144&amp;parent=https%3A%2F%2Fkrdlogoped.blogspot.com&amp;pfname=&amp;rpctoken=27735762\n",
      "https://accounts.google.com/_/kids/signup/eligible?hl=fr&amp;_reqid=50046&amp;rt=j\n",
      "https://lh3.googleusercontent.com/OWWPluyAJO41gWg-Z5YmJBDqSu5_kNGJtN7HknCEYbpCZ5_ASMEYFxrvSun2J3RVWnK3g7ftHCc7=w57-h98-no\n",
      "https://accounts.google.com/ServiceLogin?service=ah&amp;passive=true&amp;continue=https://uc.appengine.google.com/_ah/conflogin%3Fcontinue%3Dhttps://us-central1-hearsttelevision-158321.cloudfunctions.net/\n",
      "https://www.gstatic.com/devrel-devsite/prod/v0492b3db79b8927fe2347ea2dc87c471b22f173331622ffd10334837d43ea37f/nest/images/lockup-developers.svg\n",
      "https://fonts.googleapis.com/css?family=Open+Sans%3A300%2C400%2C600%2C700&amp;ver=5.8\n",
      "https://fonts.gstatic.com/s/opensans/v20/mem5YaGs126MiZpBA-UN7rgOXOhpOqc.woff2\n",
      "https://fonts.gstatic.com/s/opensans/v22/mem5YaGs126MiZpBA-UNirkOUuhp.woff2\n",
      "https://apis.google.com/js/plusone.js\n",
      "https://www.gstatic.com/charts/51/js/jsapi_compiled_graphics_module.js\n",
      "https://fonts.gstatic.com/s/opensans/v20/mem6YaGs126MiZpBA-UFUK0Zdc0.woff2\n",
      "https://fonts.gstatic.com/s/ibmplexsans/v8/zYXgKVElMYYaJe8bpLHnCwDKhdHeFQ.woff2\n",
      "https://www.gstatic.com/devrel-devsite/prod/v0089c83aa8227c3439bf2708c0795dd13db533711d44eb626e640152d9fdf05e/js/devsite_devsite_search_module.js\n",
      "https://fonts.gstatic.com/s/opensans/v23/mem6YaGs126MiZpBA-UFUK0Zdc0.woff2\n",
      "https://accounts.google.com/_/kids/signup/eligible?hl=fr&amp;_reqid=47796&amp;rt=j\n",
      "https://lh3.googleusercontent.com/eBgXEvVz_cqaqw5ZZRjWndAKwLuWlFXuf9CW0NHHMgK3BY5TCrI2AE1tsq20ZeXM55Ay4lGC3k39gfjxW2hsgdWsDteysR3NdiHaVAA=s768\n",
      "https://fonts.googleapis.com/css?family=Open+Sans:400italic,700italic,400,700&amp;subset=latin,latin-ext\n",
      "https://lh3.googleusercontent.com/a-/AOh14GjjmSdeB1PObJkhJXLLlACcJlu9dgyvRUfuFAoEpQ=s96-p\n",
      "https://accounts.google.com/ServiceLogin?continue=https://www.blogger.com/followers.g?blogID%3D3512172885516050706%26colors%3DCgt0cmFuc3BhcmVudBILdHJhbnNwYXJlbnQaByMyMTIxMjEiByM2ODMxYzYqByNlY2VjZWMyByMwMDUxYzY6ByMyMTIxMjFCByM2ODMxYzZKByNjNjAwNTFSByM2ODMxYzZaC3RyYW5zcGFyZW50%26pageSize%3D21%26origin%3Dhttps://krdlogoped.blogspot.com/%26usegapi%3D1%26jsh%3Dm;/_/scs/apps-static/_/js/k%253Doz.gapi.en_US.4sn9RO63fqo.O/am%253DAQ/d%253D1/rs%253DAGLTcCO5GqPeHrbNQGs79bP09BnjVkdwag/m%253D__features__%26bpli%3D1&amp;followup=https://www.blogger.com/followers.g?blogID%3D3512172885516050706%26colors%3DCgt0cmFuc3BhcmVudBILdHJhbnNwYXJlbnQaByMyMTIxMjEiByM2ODMxYzYqByNlY2VjZWMyByMwMDUxYzY6ByMyMTIxMjFCByM2ODMxYzZKByNjNjAwNTFSByM2ODMxYzZaC3RyYW5zcGFyZW50%26pageSize%3D21%26origin%3Dhttps://krdlogoped.blogspot.com/%26usegapi%3D1%26jsh%3Dm;/_/scs/apps-static/_/js/k%253Doz.gapi.en_US.4sn9RO63fqo.O/am%253DAQ/d%253D1/rs%253DAGLTcCO5GqPeHrbNQGs79bP09BnjVkdwag/m%253D__features__%26bpli%3D1&amp;passive=true&amp;go=true#id=I0_1628099834784&amp;_gfid=I0_1628099834784&amp;parent=https%3A%2F%2Fkrdlogoped.blogspot.com&amp;pfname=&amp;rpctoken=30055598\n",
      "https://fonts.googleapis.com/css?family=Open+Sans:400,700|Montserrat:400|Roboto+Slab\n",
      "https://accounts.google.com/_/kids/signup/eligible?hl=fr&amp;_reqid=7716&amp;rt=j\n",
      "https://fonts.gstatic.com/s/opensans/v22/memnYaGs126MiZpBA-UFUKWyV9hrIqM.woff2\n",
      "https://fonts.gstatic.com/s/googlesans/v27/4UabrENHsxJlGDuGo1OIlLU94Yt9CwZ-Pw.woff2\n",
      "https://accounts.google.com/o/oauth2/auth/_/common/diagnostics/?diagnostics=%5B%5B%5B%22gaia_fe_minutemaid%3Ass%22%2Cnull%2Cnull%2Cnull%2C1628728461586%5D%5D%5D&amp;rt=j\n",
      "https://accounts.google.com/o/oauth2/auth/_/common/diagnostics/?diagnostics=%5B%5B%5B%22gaia_fe_minutemaid%3Ass%22%2Cnull%2Cnull%2Cnull%2C1628732048246%5D%5D%5D&amp;rt=j\n",
      "https://accounts.google.com/ServiceLogin?continue=https://www.blogger.com/followers.g?blogID%3D6949068298798094008%26colors%3DCgt0cmFuc3BhcmVudBILdHJhbnNwYXJlbnQaByMwMDAwMDAiByMwMDAwMDAqByNGRkZGRkYyByMwMDAwMDA6ByMwMDAwMDBCByMwMDAwMDBKByMwMDAwMDBSByNGRkZGRkZaC3RyYW5zcGFyZW50%26pageSize%3D21%26origin%3Dhttps://aneukrantau30.blogspot.com/%26usegapi%3D1%26jsh%3Dm;/_/scs/apps-static/_/js/k%253Doz.gapi.en_US.4sn9RO63fqo.O/am%253DAQ/d%253D1/rs%253DAGLTcCO5GqPeHrbNQGs79bP09BnjVkdwag/m%253D__features__%26bpli%3D1&amp;followup=https://www.blogger.com/followers.g?blogID%3D6949068298798094008%26colors%3DCgt0cmFuc3BhcmVudBILdHJhbnNwYXJlbnQaByMwMDAwMDAiByMwMDAwMDAqByNGRkZGRkYyByMwMDAwMDA6ByMwMDAwMDBCByMwMDAwMDBKByMwMDAwMDBSByNGRkZGRkZaC3RyYW5zcGFyZW50%26pageSize%3D21%26origin%3Dhttps://aneukrantau30.blogspot.com/%26usegapi%3D1%26jsh%3Dm;/_/scs/apps-static/_/js/k%253Doz.gapi.en_US.4sn9RO63fqo.O/am%253DAQ/d%253D1/rs%253DAGLTcCO5GqPeHrbNQGs79bP09BnjVkdwag/m%253D__features__%26bpli%3D1&amp;passive=true&amp;go=true#id=I0_1628096084338&amp;_gfid=I0_1628096084338&amp;parent=https%3A%2F%2Faneukrantau30.blogspot.com&amp;pfname=&amp;rpctoken=16955651\n",
      "https://fonts.googleapis.com/css?family=Raleway:300,400,500|Roboto:400&amp;lang=fr\n",
      "https://accounts.google.com/ServiceLogin?continue=https://www.blogger.com/followers.g?blogID%3D3512172885516050706%26colors%3DCgt0cmFuc3BhcmVudBILdHJhbnNwYXJlbnQaByMyMTIxMjEiByM2ODMxYzYqByNlY2VjZWMyByMwMDUxYzY6ByMyMTIxMjFCByM2ODMxYzZKByNjNjAwNTFSByM2ODMxYzZaC3RyYW5zcGFyZW50%26pageSize%3D21%26origin%3Dhttps://krdlogoped.blogspot.com/%26usegapi%3D1%26jsh%3Dm;/_/scs/apps-static/_/js/k%253Doz.gapi.en_US.4sn9RO63fqo.O/am%253DAQ/d%253D1/rs%253DAGLTcCO5GqPeHrbNQGs79bP09BnjVkdwag/m%253D__features__%26bpli%3D1&amp;followup=https://www.blogger.com/followers.g?blogID%3D3512172885516050706%26colors%3DCgt0cmFuc3BhcmVudBILdHJhbnNwYXJlbnQaByMyMTIxMjEiByM2ODMxYzYqByNlY2VjZWMyByMwMDUxYzY6ByMyMTIxMjFCByM2ODMxYzZKByNjNjAwNTFSByM2ODMxYzZaC3RyYW5zcGFyZW50%26pageSize%3D21%26origin%3Dhttps://krdlogoped.blogspot.com/%26usegapi%3D1%26jsh%3Dm;/_/scs/apps-static/_/js/k%253Doz.gapi.en_US.4sn9RO63fqo.O/am%253DAQ/d%253D1/rs%253DAGLTcCO5GqPeHrbNQGs79bP09BnjVkdwag/m%253D__features__%26bpli%3D1&amp;passive=true&amp;go=true#id=I0_1627984122161&amp;_gfid=I0_1627984122161&amp;parent=https%3A%2F%2Fkrdlogoped.blogspot.com&amp;pfname=&amp;rpctoken=18956453\n",
      "https://lh3.googleusercontent.com/p/AF1QipNV-9ZvWl7XzSUkfjQg7xoKRDdP7sLSAKSLC3Gr=s1280-p-no-v1\n",
      "https://accounts.google.com/signin/v2/_/common/diagnostics/?diagnostics=%5B%5B%5B%22gaia_fe_minutemaid%3Ass%22%2Cnull%2Cnull%2Cnull%2C1628190343190%5D%5D%5D&amp;rt=j\n",
      "https://fonts.gstatic.com/s/poppins/v15/pxiByp8kv8JHgFVrLCz7Z1xlFQ.woff2\n",
      "https://fonts.googleapis.com/css2?family=JetBrains+Mono:wght@100;400&amp;Open+Sans:wght@300&amp;display=swap\n",
      "https://fonts.gstatic.com/s/roboto/v27/KFOlCnqEu92Fr1MmSU5fBBc4.woff2\n",
      "https://lh3.googleusercontent.com/a-/AOh14GipfYyJmO6V1OKKmzXIp-8E5J25dz_RJteocBF-=s96-p\n",
      "https://accounts.google.com/_/kids/signup/eligible?hl=fr&amp;_reqid=64893&amp;rt=j\n",
      "https://fonts.googleapis.com/css?family=Montserrat:400,700%7CLato:400,700%7CLustria:400\n",
      "https://accounts.google.com/ServiceLogin?continue=https://www.blogger.com/followers.g?blogID%3D1719811995182941521%26colors%3DCgt0cmFuc3BhcmVudBILdHJhbnNwYXJlbnQaByMyMjIyMjIiByM5OTMzMDAqByNmZmY5ZWUyByMwMDAwMDA6ByMyMjIyMjJCByM5OTMzMDBKByM5OTk5OTlSByM5OTMzMDBaC3RyYW5zcGFyZW50%26pageSize%3D21%26origin%3Dhttps://makalebilgi.blogspot.com/%26usegapi%3D1%26jsh%3Dm;/_/scs/apps-static/_/js/k%253Doz.gapi.en_US.4sn9RO63fqo.O/am%253DAQ/d%253D1/rs%253DAGLTcCO5GqPeHrbNQGs79bP09BnjVkdwag/m%253D__features__%26bpli%3D1&amp;followup=https://www.blogger.com/followers.g?blogID%3D1719811995182941521%26colors%3DCgt0cmFuc3BhcmVudBILdHJhbnNwYXJlbnQaByMyMjIyMjIiByM5OTMzMDAqByNmZmY5ZWUyByMwMDAwMDA6ByMyMjIyMjJCByM5OTMzMDBKByM5OTk5OTlSByM5OTMzMDBaC3RyYW5zcGFyZW50%26pageSize%3D21%26origin%3Dhttps://makalebilgi.blogspot.com/%26usegapi%3D1%26jsh%3Dm;/_/scs/apps-static/_/js/k%253Doz.gapi.en_US.4sn9RO63fqo.O/am%253DAQ/d%253D1/rs%253DAGLTcCO5GqPeHrbNQGs79bP09BnjVkdwag/m%253D__features__%26bpli%3D1&amp;passive=true&amp;go=true#id=I0_1628291679619&amp;_gfid=I0_1628291679619&amp;parent=https%3A%2F%2Fmakalebilgi.blogspot.com&amp;pfname=&amp;rpctoken=60689493\n",
      "https://accounts.google.com/signin/v2/_/common/diagnostics/?diagnostics=%5B%5B%5B%22gaia_fe_minutemaid%3Ass%22%2Cnull%2Cnull%2Cnull%2C1628546883604%5D%5D%5D&amp;rt=j\n",
      "https://lh3.googleusercontent.com/proxy/tmFGx4gRg3tqEvxy928avHMIRXPFbA7m5vY5HNayCL01oNcNwXhW4WhQ2E9Xr9k2snKxvjPRlKAEMzPDdViD_fSdJtHRqlk=w720-h377-rj-pd-pc0x00e9e9e9\n",
      "https://accounts.google.com/ServiceLogin?continue=https://www.blogger.com/followers.g?blogID%3D3756545811499060445%26colors%3DCgt0cmFuc3BhcmVudBILdHJhbnNwYXJlbnQaByM3Nzc3NzciByMzNTYwYWIqByMzNTYwYWIyByMwMDAwMDA6ByM3Nzc3NzdCByMzNTYwYWJKByMwMDAwMDBSByNGRkZGRkZaC3RyYW5zcGFyZW50%26pageSize%3D21%26origin%3Dhttps://www.tafhem.com/%26usegapi%3D1%26jsh%3Dm;/_/scs/apps-static/_/js/k%253Doz.gapi.en_US.4sn9RO63fqo.O/am%253DAQ/d%253D1/rs%253DAGLTcCO5GqPeHrbNQGs79bP09BnjVkdwag/m%253D__features__%26bpli%3D1&amp;followup=https://www.blogger.com/followers.g?blogID%3D3756545811499060445%26colors%3DCgt0cmFuc3BhcmVudBILdHJhbnNwYXJlbnQaByM3Nzc3NzciByMzNTYwYWIqByMzNTYwYWIyByMwMDAwMDA6ByM3Nzc3NzdCByMzNTYwYWJKByMwMDAwMDBSByNGRkZGRkZaC3RyYW5zcGFyZW50%26pageSize%3D21%26origin%3Dhttps://www.tafhem.com/%26usegapi%3D1%26jsh%3Dm;/_/scs/apps-static/_/js/k%253Doz.gapi.en_US.4sn9RO63fqo.O/am%253DAQ/d%253D1/rs%253DAGLTcCO5GqPeHrbNQGs79bP09BnjVkdwag/m%253D__features__%26bpli%3D1&amp;passive=true&amp;go=true#id=I0_1628587495529&amp;_gfid=I0_1628587495529&amp;parent=https%3A%2F%2Fwww.tafhem.com&amp;pfname=&amp;rpctoken=12801018\n",
      "https://fonts.gstatic.com/s/googlesansdisplay/v15/ea8IacM9Wef3EJPWRrHjgE4B6CnlZxHVBg3etBD7TA.woff2\n",
      "https://fonts.gstatic.com/s/googlesans/v35/4UabrENHsxJlGDuGo1OIlLU94Yt3CwZ-Pw.woff2\n",
      "https://fonts.googleapis.com/css?family=Open+Sans%3A300italic%2C400italic%2C600italic%2C300%2C400%2C600&amp;subset=latin%2Clatin-ext&amp;display=fallback&amp;ver=5.7.1\n",
      "https://accounts.google.com/ServiceLogin?continue=https://www.blogger.com/followers.g?blogID%3D3756545811499060445%26colors%3DCgt0cmFuc3BhcmVudBILdHJhbnNwYXJlbnQaByM3Nzc3NzciByMzNTYwYWIqByMzNTYwYWIyByMwMDAwMDA6ByM3Nzc3NzdCByMzNTYwYWJKByMwMDAwMDBSByNGRkZGRkZaC3RyYW5zcGFyZW50%26pageSize%3D21%26origin%3Dhttps://www.tafhem.com/%26usegapi%3D1%26jsh%3Dm;/_/scs/apps-static/_/js/k%253Doz.gapi.en_US.4sn9RO63fqo.O/am%253DAQ/d%253D1/rs%253DAGLTcCO5GqPeHrbNQGs79bP09BnjVkdwag/m%253D__features__%26bpli%3D1&amp;followup=https://www.blogger.com/followers.g?blogID%3D3756545811499060445%26colors%3DCgt0cmFuc3BhcmVudBILdHJhbnNwYXJlbnQaByM3Nzc3NzciByMzNTYwYWIqByMzNTYwYWIyByMwMDAwMDA6ByM3Nzc3NzdCByMzNTYwYWJKByMwMDAwMDBSByNGRkZGRkZaC3RyYW5zcGFyZW50%26pageSize%3D21%26origin%3Dhttps://www.tafhem.com/%26usegapi%3D1%26jsh%3Dm;/_/scs/apps-static/_/js/k%253Doz.gapi.en_US.4sn9RO63fqo.O/am%253DAQ/d%253D1/rs%253DAGLTcCO5GqPeHrbNQGs79bP09BnjVkdwag/m%253D__features__%26bpli%3D1&amp;passive=true&amp;go=true#id=I0_1628545221103&amp;_gfid=I0_1628545221103&amp;parent=https%3A%2F%2Fwww.tafhem.com&amp;pfname=&amp;rpctoken=19535546\n",
      "https://www.gstatic.com/call-tracking/call-tracking_7.js\n",
      "https://lh3.googleusercontent.com/FmMwsfTIkUCI6m8Jm9zodiyVcUVxxXPbYzidyb1MZdw2OK1KGJrkPHQyawGsCDOuFFqpY_zTfdf6=w700-h525-no\n",
      "https://accounts.google.com/ServiceLogin?continue=https://www.blogger.com/followers.g?blogID%3D3756545811499060445%26colors%3DCgt0cmFuc3BhcmVudBILdHJhbnNwYXJlbnQaByM3Nzc3NzciByMzNTYwYWIqByMzNTYwYWIyByMwMDAwMDA6ByM3Nzc3NzdCByMzNTYwYWJKByMwMDAwMDBSByNGRkZGRkZaC3RyYW5zcGFyZW50%26pageSize%3D21%26origin%3Dhttps://www.tafhem.com/%26usegapi%3D1%26jsh%3Dm;/_/scs/apps-static/_/js/k%253Doz.gapi.en_US.4sn9RO63fqo.O/am%253DAQ/d%253D1/rs%253DAGLTcCO5GqPeHrbNQGs79bP09BnjVkdwag/m%253D__features__%26bpli%3D1&amp;followup=https://www.blogger.com/followers.g?blogID%3D3756545811499060445%26colors%3DCgt0cmFuc3BhcmVudBILdHJhbnNwYXJlbnQaByM3Nzc3NzciByMzNTYwYWIqByMzNTYwYWIyByMwMDAwMDA6ByM3Nzc3NzdCByMzNTYwYWJKByMwMDAwMDBSByNGRkZGRkZaC3RyYW5zcGFyZW50%26pageSize%3D21%26origin%3Dhttps://www.tafhem.com/%26usegapi%3D1%26jsh%3Dm;/_/scs/apps-static/_/js/k%253Doz.gapi.en_US.4sn9RO63fqo.O/am%253DAQ/d%253D1/rs%253DAGLTcCO5GqPeHrbNQGs79bP09BnjVkdwag/m%253D__features__%26bpli%3D1&amp;passive=true&amp;go=true#id=I0_1628583884135&amp;_gfid=I0_1628583884135&amp;parent=https%3A%2F%2Fwww.tafhem.com&amp;pfname=&amp;rpctoken=14342393\n",
      "https://fonts.gstatic.com/s/oswald/v40/TK3_WkUHHAIjg75cFRf3bXL8LICs1_FvsUtiZTaR.woff2\n",
      "https://www.gstatic.com/devrel-devsite/prod/v0089c83aa8227c3439bf2708c0795dd13db533711d44eb626e640152d9fdf05e/js/devsite_devsite_tabs_module.js\n",
      "https://www.gstatic.com/_/mss/boq-geo/_/js/k=boq-geo.GeoMerchantPrestoSiteUi.en_US.9cHVhqb8VC4.es5.O/ck=boq-geo.GeoMerchantPrestoSiteUi.AqgetGZq0W4.L.F4.O/am=BBEBAAEAAg/d=1/exm=A4UTCb,A7fCU,BVgquf,COQbmf,EFQ78c,EGNJFf,GkRiKb,IZT63,JNoxi,JbzNG,KG2eXe,KUM7Z,L1AAkb,LEikZe,MI6k7c,MdUzUe,MpJwZc,NwH0H,O1Gjze,O6y8ed,OmgaI,PQaYAf,PrPYRd,RMhBfe,SdcwHb,SpsfSb,U0aPgd,UUJqVe,Uas9Hd,Ulmmrd,V3dDOb,VwDzFe,XVMNvd,ZfAoz,ZwDk9d,_b,_tp,aW3pY,aurFic,blwjVc,byfTOb,e5qFLc,fKUV3e,gychg,hKSk3e,hc6Ubd,hr05tc,iSvg6e,kjKdXe,lPKSwe,lazG7b,lfpdyf,lsjVmc,lwddkf,mI3LFb,mdR7q,n73qwf,pjICDe,uY3Nvd,vfuNJf,w9hDv,ws9Tlc,xQtZb,xUdipf,yDVVkb,zbML3c/excm=_b,_tp,siteview/ed=1/wt=2/rs=AD4das2obQTb7oNv-z1pIl5Ee1BJ_fyeuw/m=Wt6vjf,_latency,FCpbqb,WhJNk\n",
      "https://fonts.googleapis.com/css?family=Ruda%3A400%2C700&amp;ver=4.6.12\n",
      "https://www.gstatic.com/bfe/apps/website/img/h/3348095-dog-cat-1440.jpg\n",
      "https://accounts.google.com/_/kids/signup/eligible?hl=fr&amp;_reqid=8391&amp;rt=j\n",
      "https://accounts.google.com/_/kids/signup/eligible?hl=fr&amp;_reqid=69023&amp;rt=j\n",
      "https://lh3.googleusercontent.com/proxy/QY9ypvY_Sx9WWRVfkFXvVHc2wla2NB7Izmgv3mXFvIL09XaBu4Wtf1r5lQ-YTO7SSTjOwgiVV8J-9Hbq6c3negeJAq41aKuJ=w720-h377-rj-pd-pc0x00e9e9e9\n",
      "https://fonts.googleapis.com/css?family=Noto+Sans:100,100i,200,200i,300,300i,400,400i,500,500i,600,600i,700,700i,800,800i,900,900i\n",
      "https://fonts.gstatic.com/ea/droidarabickufi/v6/DroidKufi-Bold.woff2\n",
      "https://lh3.googleusercontent.com/GwoRAsrVkvjbDQ7KT1Mo8szeWw3r0GfWNV6DzAN_vFb83miby5hanKxOHvQpiTLJm-OhkszcRcLRZa7TgFFwH4eX8A5bXOTpOgk2Hjs=w298-h170-p-nu-pa\n",
      "https://lh3.googleusercontent.com/M3BEUZgVVGIo4Y9o1YaEaurfGUy3aquf87fXzlo5UnZC-iLOAQ-N1ho9u9Ywx-4TmjbbAZWuNEPrGOjF3Q66y7SX3mmzwYpVaBSZvJg=s768\n",
      "https://fonts.gstatic.com/s/lobstertwo/v13/BngTUXZGTXPUvIoyV6yN5-fI3hyE8R-ifg.woff2\n",
      "https://accounts.google.com/ServiceLogin?continue=https://www.blogger.com/followers.g?blogID%3D3756545811499060445%26colors%3DCgt0cmFuc3BhcmVudBILdHJhbnNwYXJlbnQaByM3Nzc3NzciByMzNTYwYWIqByMzNTYwYWIyByMwMDAwMDA6ByM3Nzc3NzdCByMzNTYwYWJKByMwMDAwMDBSByNGRkZGRkZaC3RyYW5zcGFyZW50%26pageSize%3D21%26origin%3Dhttps://www.tafhem.com/%26usegapi%3D1%26jsh%3Dm;/_/scs/apps-static/_/js/k%253Doz.gapi.en_US.4sn9RO63fqo.O/am%253DAQ/d%253D1/rs%253DAGLTcCO5GqPeHrbNQGs79bP09BnjVkdwag/m%253D__features__%26bpli%3D1&amp;followup=https://www.blogger.com/followers.g?blogID%3D3756545811499060445%26colors%3DCgt0cmFuc3BhcmVudBILdHJhbnNwYXJlbnQaByM3Nzc3NzciByMzNTYwYWIqByMzNTYwYWIyByMwMDAwMDA6ByM3Nzc3NzdCByMzNTYwYWJKByMwMDAwMDBSByNGRkZGRkZaC3RyYW5zcGFyZW50%26pageSize%3D21%26origin%3Dhttps://www.tafhem.com/%26usegapi%3D1%26jsh%3Dm;/_/scs/apps-static/_/js/k%253Doz.gapi.en_US.4sn9RO63fqo.O/am%253DAQ/d%253D1/rs%253DAGLTcCO5GqPeHrbNQGs79bP09BnjVkdwag/m%253D__features__%26bpli%3D1&amp;passive=true&amp;go=true#id=I0_1628726213521&amp;_gfid=I0_1628726213521&amp;parent=https%3A%2F%2Fwww.tafhem.com&amp;pfname=&amp;rpctoken=42907950\n",
      "https://accounts.google.com/_/kids/signup/eligible?hl=fr&amp;_reqid=16113&amp;rt=j\n",
      "https://accounts.google.com/ServiceLogin?continue=https://www.blogger.com/followers.g?blogID%3D3512172885516050706%26colors%3DCgt0cmFuc3BhcmVudBILdHJhbnNwYXJlbnQaByMyMTIxMjEiByM2ODMxYzYqByNlY2VjZWMyByMwMDUxYzY6ByMyMTIxMjFCByM2ODMxYzZKByNjNjAwNTFSByM2ODMxYzZaC3RyYW5zcGFyZW50%26pageSize%3D21%26origin%3Dhttps://krdlogoped.blogspot.com/%26usegapi%3D1%26jsh%3Dm;/_/scs/apps-static/_/js/k%253Doz.gapi.en_US.4sn9RO63fqo.O/am%253DAQ/d%253D1/rs%253DAGLTcCO5GqPeHrbNQGs79bP09BnjVkdwag/m%253D__features__%26bpli%3D1&amp;followup=https://www.blogger.com/followers.g?blogID%3D3512172885516050706%26colors%3DCgt0cmFuc3BhcmVudBILdHJhbnNwYXJlbnQaByMyMTIxMjEiByM2ODMxYzYqByNlY2VjZWMyByMwMDUxYzY6ByMyMTIxMjFCByM2ODMxYzZKByNjNjAwNTFSByM2ODMxYzZaC3RyYW5zcGFyZW50%26pageSize%3D21%26origin%3Dhttps://krdlogoped.blogspot.com/%26usegapi%3D1%26jsh%3Dm;/_/scs/apps-static/_/js/k%253Doz.gapi.en_US.4sn9RO63fqo.O/am%253DAQ/d%253D1/rs%253DAGLTcCO5GqPeHrbNQGs79bP09BnjVkdwag/m%253D__features__%26bpli%3D1&amp;passive=true&amp;go=true#id=I0_1628129060747&amp;_gfid=I0_1628129060747&amp;parent=https%3A%2F%2Fkrdlogoped.blogspot.com&amp;pfname=&amp;rpctoken=15021584\n",
      "https://fonts.gstatic.com/s/opensans/v23/mem5YaGs126MiZpBA-UN7rgOXOhpOqc.woff2\n",
      "https://fonts.gstatic.com/s/oswald/v39/TK3_WkUHHAIjg75cFRf3bXL8LICs1_FvsUZiZQ.woff2\n",
      "https://www.gstatic.com/prose/brandjs.js\n",
      "https://accounts.google.com/_/kids/signup/eligible?hl=fr&amp;_reqid=8497&amp;rt=j\n",
      "https://www.gstatic.com/devrel-devsite/prod/v0492b3db79b8927fe2347ea2dc87c471b22f173331622ffd10334837d43ea37f/nest/css/app.css\n",
      "https://fonts.gstatic.com/s/montserrat/v15/JTURjIg1_i6t8kCHKm45_cJD3gnD_g.woff2\n",
      "https://lh3.googleusercontent.com/a-/AOh14GiZExXTiB3HFJ616bNUcQJjmi-qSf9zYZ3eKi4TPw=s96-p\n",
      "https://fonts.gstatic.com/s/merriweather/v22/u-4l0qyriQwlOrhSvowK_l5-eR7lXff4jvk.ttf\n",
      "https://fonts.gstatic.com/s/opensans/v22/mem8YaGs126MiZpBA-UFWp0bbck.woff2\n",
      "https://accounts.google.com/o/oauth2/auth?scope=email&amp;response_type=code&amp;state=https%3A%2F%2Fbackend.tiki.vn%2F&amp;login_hint=tiki.vn&amp;redirect_uri=https%3A%2F%2Fbackend.tiki.vn%2F_oauth&amp;client_id=1056485738973-teko4ckmqt9clv8870o8bctuhl71cb4k.apps.googleusercontent.com\n",
      "https://lh3.googleusercontent.com/HDA2H9geIgSd1Rgq-ifcJ-VAO9aQrCUJcNw8p7Y1colJ91c25nJFOJi9C226cE3lj2tcvF8w44Dp=w700-h525-no\n",
      "https://accounts.google.com/o/oauth2/auth/_/common/diagnostics/?diagnostics=%5B%5B%5B%22gaia_fe_minutemaid%3Ass%22%2Cnull%2Cnull%2Cnull%2C1628077869181%5D%5D%5D&amp;rt=j\n",
      "https://accounts.google.com/ServiceLogin?continue=https://www.blogger.com/followers.g?blogID%3D6949068298798094008%26colors%3DCgt0cmFuc3BhcmVudBILdHJhbnNwYXJlbnQaByMwMDAwMDAiByMwMDAwMDAqByNGRkZGRkYyByMwMDAwMDA6ByMwMDAwMDBCByMwMDAwMDBKByMwMDAwMDBSByNGRkZGRkZaC3RyYW5zcGFyZW50%26pageSize%3D21%26origin%3Dhttps://aneukrantau30.blogspot.com/%26usegapi%3D1%26jsh%3Dm;/_/scs/apps-static/_/js/k%253Doz.gapi.en_US.4sn9RO63fqo.O/am%253DAQ/d%253D1/rs%253DAGLTcCO5GqPeHrbNQGs79bP09BnjVkdwag/m%253D__features__%26bpli%3D1&amp;followup=https://www.blogger.com/followers.g?blogID%3D6949068298798094008%26colors%3DCgt0cmFuc3BhcmVudBILdHJhbnNwYXJlbnQaByMwMDAwMDAiByMwMDAwMDAqByNGRkZGRkYyByMwMDAwMDA6ByMwMDAwMDBCByMwMDAwMDBKByMwMDAwMDBSByNGRkZGRkZaC3RyYW5zcGFyZW50%26pageSize%3D21%26origin%3Dhttps://aneukrantau30.blogspot.com/%26usegapi%3D1%26jsh%3Dm;/_/scs/apps-static/_/js/k%253Doz.gapi.en_US.4sn9RO63fqo.O/am%253DAQ/d%253D1/rs%253DAGLTcCO5GqPeHrbNQGs79bP09BnjVkdwag/m%253D__features__%26bpli%3D1&amp;passive=true&amp;go=true#id=I0_1628195096511&amp;_gfid=I0_1628195096511&amp;parent=https%3A%2F%2Faneukrantau30.blogspot.com&amp;pfname=&amp;rpctoken=12536962\n",
      "https://fonts.gstatic.com/s/nunitosans/v6/pe0qMImSLYBIv1o4X1M8cce9I9s.woff2\n",
      "https://lh3.googleusercontent.com/J-pgPRMdRciXje7Ujcy77n2PG4Vw6RzxRLjkJRdsp9M5MsMqi8BFFGCB7FTDWcCWLwZva8977IbH=w270-h479-no\n",
      "https://accounts.google.com/o/oauth2/auth/_/common/diagnostics/?diagnostics=%5B%5B%5B%22gaia_fe_minutemaid%3Ass%22%2Cnull%2Cnull%2Cnull%2C1628547956997%5D%5D%5D&amp;rt=j\n",
      "https://fonts.gstatic.com/s/merriweather/v23/u-4n0qyriQwlOrhSvowK_l521wRZWMf6.woff2\n",
      "https://fonts.googleapis.com/css?family=Roboto:300,400,500,700&amp;lang=en\n",
      "https://accounts.google.com/_/kids/signup/eligible?hl=fr&amp;_reqid=33354&amp;rt=j\n",
      "https://www.gstatic.com/devrel-devsite/prod/v0492b3db79b8927fe2347ea2dc87c471b22f173331622ffd10334837d43ea37f/js/devsite_devsite_progress_module.js\n",
      "https://accounts.google.com/signin/v2/_/common/diagnostics/?diagnostics=%5B%5B%5B%22gaia_fe_minutemaid%3Ass%22%2Cnull%2Cnull%2Cnull%2C1628054206491%5D%5D%5D&amp;rt=j\n",
      "https://fonts.gstatic.com/s/raleway/v22/1Ptxg8zYS_SKggPN4iEgvnHyvveLxVuEorCIPrE.woff2\n",
      "https://www.gstatic.com/devrel-devsite/prod/v0492b3db79b8927fe2347ea2dc87c471b22f173331622ffd10334837d43ea37f/js/devsite_devsite_heading_link_module.js\n",
      "https://accounts.google.com/signin/v2/_/common/diagnostics/?diagnostics=%5B%5B%5B%22gaia_fe_minutemaid%3Ass%22%2Cnull%2Cnull%2Cnull%2C1628795202846%5D%5D%5D&amp;rt=j\n",
      "https://www.gstatic.com/charts/51/loader.js\n",
      "https://apis.google.com/_/scs/apps-static/_/js/k=oz.gapi.en_US.4sn9RO63fqo.O/m=profile/exm=gapi_iframes,plusone/rt=j/sv=1/d=1/ed=1/am=AQ/rs=AGLTcCO5GqPeHrbNQGs79bP09BnjVkdwag/cb=gapi.loaded_2?le=ili,ipu\n",
      "https://lh3.googleusercontent.com/proxy/_Viezwt3QtK_LzuYEofFJNH2z7gj3i4-jeHtyTnD4g0PUuVqpulga5dEAXPNS9g1xjZNjiQThWbideEa8ohtnLax5qFMuiY=w720-h377-rj-pd-pc0x00e9e9e9\n",
      "https://accounts.google.com/_/kids/signup/eligible?hl=fr&amp;_reqid=68960&amp;rt=j\n",
      "https://lh3.googleusercontent.com/Ot47OY5iBOtCU6tFWtZCuVtNhjglSjmmq-KHnBzXpVwSKzEtEaQ4hnQpCUa22FQ0RwNM5WUW3V_j=w233-h69-no\n",
      "https://fonts.gstatic.com/s/imfellenglish/v10/Ktk1ALSLW8zDe0rthJysWrnLsAzHEKOY.woff2\n",
      "https://www.gstatic.com/charts/51/css/core/tooltip.css\n",
      "https://accounts.google.com/ServiceLogin?continue=https://www.blogger.com/followers.g?blogID%3D1719811995182941521%26colors%3DCgt0cmFuc3BhcmVudBILdHJhbnNwYXJlbnQaByMyMjIyMjIiByM5OTMzMDAqByNmZmY5ZWUyByMwMDAwMDA6ByMyMjIyMjJCByM5OTMzMDBKByM5OTk5OTlSByM5OTMzMDBaC3RyYW5zcGFyZW50%26pageSize%3D21%26origin%3Dhttps://makalebilgi.blogspot.com/%26usegapi%3D1%26jsh%3Dm;/_/scs/apps-static/_/js/k%253Doz.gapi.en_US.4sn9RO63fqo.O/am%253DAQ/d%253D1/rs%253DAGLTcCO5GqPeHrbNQGs79bP09BnjVkdwag/m%253D__features__%26bpli%3D1&amp;followup=https://www.blogger.com/followers.g?blogID%3D1719811995182941521%26colors%3DCgt0cmFuc3BhcmVudBILdHJhbnNwYXJlbnQaByMyMjIyMjIiByM5OTMzMDAqByNmZmY5ZWUyByMwMDAwMDA6ByMyMjIyMjJCByM5OTMzMDBKByM5OTk5OTlSByM5OTMzMDBaC3RyYW5zcGFyZW50%26pageSize%3D21%26origin%3Dhttps://makalebilgi.blogspot.com/%26usegapi%3D1%26jsh%3Dm;/_/scs/apps-static/_/js/k%253Doz.gapi.en_US.4sn9RO63fqo.O/am%253DAQ/d%253D1/rs%253DAGLTcCO5GqPeHrbNQGs79bP09BnjVkdwag/m%253D__features__%26bpli%3D1&amp;passive=true&amp;go=true#id=I0_1628583979988&amp;_gfid=I0_1628583979988&amp;parent=https%3A%2F%2Fmakalebilgi.blogspot.com&amp;pfname=&amp;rpctoken=16364313\n",
      "https://fonts.gstatic.com/s/raleway/v22/1Ptxg8zYS_SKggPN4iEgvnHyvveLxVvaorCGPrEHJA.woff2\n",
      "https://accounts.google.com/ServiceLogin?continue=https://www.blogger.com/followers.g?blogID%3D3756545811499060445%26colors%3DCgt0cmFuc3BhcmVudBILdHJhbnNwYXJlbnQaByM3Nzc3NzciByMzNTYwYWIqByMzNTYwYWIyByMwMDAwMDA6ByM3Nzc3NzdCByMzNTYwYWJKByMwMDAwMDBSByNGRkZGRkZaC3RyYW5zcGFyZW50%26pageSize%3D21%26origin%3Dhttps://www.tafhem.com/%26usegapi%3D1%26jsh%3Dm;/_/scs/apps-static/_/js/k%253Doz.gapi.en_US.4sn9RO63fqo.O/am%253DAQ/d%253D1/rs%253DAGLTcCO5GqPeHrbNQGs79bP09BnjVkdwag/m%253D__features__%26bpli%3D1&amp;followup=https://www.blogger.com/followers.g?blogID%3D3756545811499060445%26colors%3DCgt0cmFuc3BhcmVudBILdHJhbnNwYXJlbnQaByM3Nzc3NzciByMzNTYwYWIqByMzNTYwYWIyByMwMDAwMDA6ByM3Nzc3NzdCByMzNTYwYWJKByMwMDAwMDBSByNGRkZGRkZaC3RyYW5zcGFyZW50%26pageSize%3D21%26origin%3Dhttps://www.tafhem.com/%26usegapi%3D1%26jsh%3Dm;/_/scs/apps-static/_/js/k%253Doz.gapi.en_US.4sn9RO63fqo.O/am%253DAQ/d%253D1/rs%253DAGLTcCO5GqPeHrbNQGs79bP09BnjVkdwag/m%253D__features__%26bpli%3D1&amp;passive=true&amp;go=true#id=I0_1628311290724&amp;_gfid=I0_1628311290724&amp;parent=https%3A%2F%2Fwww.tafhem.com&amp;pfname=&amp;rpctoken=30300997\n",
      "https://lh3.googleusercontent.com/DgLaFV6_tiByMcu1ZzxH0AbKPc8_YTveTUBJHm7dKS3lsSNbA9dWibqtXp7TJHLkpl3SAs-we9DbYBsorvyetd8-wxcKzpSv63w3G0Y=s2500\n",
      "https://accounts.google.com/_/kids/signup/eligible?hl=fr&amp;_reqid=68765&amp;rt=j\n",
      "https://lh3.googleusercontent.com/a-/AOh14GgfeXm4enkNC8aH_8rHyBHQ31z7DnTtLe20Drgf=s96-p\n",
      "https://fonts.googleapis.com/css?family=Roboto:400,700&amp;subset=cyrillic,cyrillic-ext,latin-ext\n",
      "https://accounts.google.com/ServiceLogin?continue=https://www.blogger.com/followers.g?blogID%3D6949068298798094008%26colors%3DCgt0cmFuc3BhcmVudBILdHJhbnNwYXJlbnQaByMwMDAwMDAiByMwMDAwMDAqByNGRkZGRkYyByMwMDAwMDA6ByMwMDAwMDBCByMwMDAwMDBKByMwMDAwMDBSByNGRkZGRkZaC3RyYW5zcGFyZW50%26pageSize%3D21%26origin%3Dhttps://aneukrantau30.blogspot.com/%26usegapi%3D1%26jsh%3Dm;/_/scs/apps-static/_/js/k%253Doz.gapi.en_US.4sn9RO63fqo.O/am%253DAQ/d%253D1/rs%253DAGLTcCO5GqPeHrbNQGs79bP09BnjVkdwag/m%253D__features__%26bpli%3D1&amp;followup=https://www.blogger.com/followers.g?blogID%3D6949068298798094008%26colors%3DCgt0cmFuc3BhcmVudBILdHJhbnNwYXJlbnQaByMwMDAwMDAiByMwMDAwMDAqByNGRkZGRkYyByMwMDAwMDA6ByMwMDAwMDBCByMwMDAwMDBKByMwMDAwMDBSByNGRkZGRkZaC3RyYW5zcGFyZW50%26pageSize%3D21%26origin%3Dhttps://aneukrantau30.blogspot.com/%26usegapi%3D1%26jsh%3Dm;/_/scs/apps-static/_/js/k%253Doz.gapi.en_US.4sn9RO63fqo.O/am%253DAQ/d%253D1/rs%253DAGLTcCO5GqPeHrbNQGs79bP09BnjVkdwag/m%253D__features__%26bpli%3D1&amp;passive=true&amp;go=true#id=I0_1628207062816&amp;_gfid=I0_1628207062816&amp;parent=https%3A%2F%2Faneukrantau30.blogspot.com&amp;pfname=&amp;rpctoken=30922007\n",
      "https://fonts.googleapis.com/css?family=Roboto+Slab%3Aregular&amp;subset=latin%2Call&amp;ver=5.7.2\n",
      "https://fonts.gstatic.com/s/robotoslab/v13/BngbUXZYTXPIvIBgJJSb6s3BzlRRfKOFbvjo0oSmb2Rj.woff2\n",
      "https://fonts.googleapis.com/css?family=Roboto:300,400,500,500i,700,700i&amp;display=swap\n",
      "https://fonts.googleapis.com/css?family=Lato:400,700%7CRoboto:400,500,400italic\n",
      "https://accounts.google.com/ServiceLogin?continue=https://www.blogger.com/followers.g?blogID%3D3756545811499060445%26colors%3DCgt0cmFuc3BhcmVudBILdHJhbnNwYXJlbnQaByM3Nzc3NzciByMzNTYwYWIqByMzNTYwYWIyByMwMDAwMDA6ByM3Nzc3NzdCByMzNTYwYWJKByMwMDAwMDBSByNGRkZGRkZaC3RyYW5zcGFyZW50%26pageSize%3D21%26origin%3Dhttps://www.tafhem.com/%26usegapi%3D1%26jsh%3Dm;/_/scs/apps-static/_/js/k%253Doz.gapi.en_US.4sn9RO63fqo.O/am%253DAQ/d%253D1/rs%253DAGLTcCO5GqPeHrbNQGs79bP09BnjVkdwag/m%253D__features__%26bpli%3D1&amp;followup=https://www.blogger.com/followers.g?blogID%3D3756545811499060445%26colors%3DCgt0cmFuc3BhcmVudBILdHJhbnNwYXJlbnQaByM3Nzc3NzciByMzNTYwYWIqByMzNTYwYWIyByMwMDAwMDA6ByM3Nzc3NzdCByMzNTYwYWJKByMwMDAwMDBSByNGRkZGRkZaC3RyYW5zcGFyZW50%26pageSize%3D21%26origin%3Dhttps://www.tafhem.com/%26usegapi%3D1%26jsh%3Dm;/_/scs/apps-static/_/js/k%253Doz.gapi.en_US.4sn9RO63fqo.O/am%253DAQ/d%253D1/rs%253DAGLTcCO5GqPeHrbNQGs79bP09BnjVkdwag/m%253D__features__%26bpli%3D1&amp;passive=true&amp;go=true#id=I0_1628077647388&amp;_gfid=I0_1628077647388&amp;parent=https%3A%2F%2Fwww.tafhem.com&amp;pfname=&amp;rpctoken=41100856\n",
      "https://fonts.gstatic.com/s/didactgothic/v14/ahcfv8qz1zt6hCC5G4F_P4ASlUuYpg.woff2\n",
      "https://fonts.gstatic.com/s/roboto/v27/KFOmCnqEu92Fr1Mu7GxKOzY.woff2\n",
      "https://accounts.google.com/_/kids/signup/eligible?hl=fr&amp;_reqid=18920&amp;rt=j\n",
      "https://accounts.google.com/ServiceLogin?continue=http://draft.blogger.com/followers.g?blogID%3D3512172885516050706%26colors%3DCgt0cmFuc3BhcmVudBILdHJhbnNwYXJlbnQaByMyMTIxMjEiByM2ODMxYzYqByNlY2VjZWMyByMwMDUxYzY6ByMyMTIxMjFCByM2ODMxYzZKByNjNjAwNTFSByM2ODMxYzZaC3RyYW5zcGFyZW50%26pageSize%3D21%26origin%3Dhttps://krdlogoped.blogspot.com/%26usegapi%3D1%26jsh%3Dm;/_/scs/apps-static/_/js/k%253Doz.gapi.en_US.4sn9RO63fqo.O/am%253DAQ/d%253D1/rs%253DAGLTcCO5GqPeHrbNQGs79bP09BnjVkdwag/m%253D__features__%26bpli%3D1&amp;followup=http://draft.blogger.com/followers.g?blogID%3D3512172885516050706%26colors%3DCgt0cmFuc3BhcmVudBILdHJhbnNwYXJlbnQaByMyMTIxMjEiByM2ODMxYzYqByNlY2VjZWMyByMwMDUxYzY6ByMyMTIxMjFCByM2ODMxYzZKByNjNjAwNTFSByM2ODMxYzZaC3RyYW5zcGFyZW50%26pageSize%3D21%26origin%3Dhttps://krdlogoped.blogspot.com/%26usegapi%3D1%26jsh%3Dm;/_/scs/apps-static/_/js/k%253Doz.gapi.en_US.4sn9RO63fqo.O/am%253DAQ/d%253D1/rs%253DAGLTcCO5GqPeHrbNQGs79bP09BnjVkdwag/m%253D__features__%26bpli%3D1&amp;passive=true&amp;go=true#id=I0_1628053948334&amp;_gfid=I0_1628053948334&amp;parent=https%3A%2F%2Fkrdlogoped.blogspot.com&amp;pfname=&amp;rpctoken=26796133\n",
      "https://accounts.google.com/_/kids/signup/eligible?hl=fr&amp;_reqid=56439&amp;rt=j\n",
      "https://accounts.google.com/ServiceLogin?continue=https://www.blogger.com/followers.g?blogID%3D3512172885516050706%26colors%3DCgt0cmFuc3BhcmVudBILdHJhbnNwYXJlbnQaByMyMTIxMjEiByM2ODMxYzYqByNlY2VjZWMyByMwMDUxYzY6ByMyMTIxMjFCByM2ODMxYzZKByNjNjAwNTFSByM2ODMxYzZaC3RyYW5zcGFyZW50%26pageSize%3D21%26origin%3Dhttps://krdlogoped.blogspot.com/%26usegapi%3D1%26jsh%3Dm;/_/scs/apps-static/_/js/k%253Doz.gapi.en_US.4sn9RO63fqo.O/am%253DAQ/d%253D1/rs%253DAGLTcCO5GqPeHrbNQGs79bP09BnjVkdwag/m%253D__features__%26bpli%3D1&amp;followup=https://www.blogger.com/followers.g?blogID%3D3512172885516050706%26colors%3DCgt0cmFuc3BhcmVudBILdHJhbnNwYXJlbnQaByMyMTIxMjEiByM2ODMxYzYqByNlY2VjZWMyByMwMDUxYzY6ByMyMTIxMjFCByM2ODMxYzZKByNjNjAwNTFSByM2ODMxYzZaC3RyYW5zcGFyZW50%26pageSize%3D21%26origin%3Dhttps://krdlogoped.blogspot.com/%26usegapi%3D1%26jsh%3Dm;/_/scs/apps-static/_/js/k%253Doz.gapi.en_US.4sn9RO63fqo.O/am%253DAQ/d%253D1/rs%253DAGLTcCO5GqPeHrbNQGs79bP09BnjVkdwag/m%253D__features__%26bpli%3D1&amp;passive=true&amp;go=true#id=I0_1628290529531&amp;_gfid=I0_1628290529531&amp;parent=https%3A%2F%2Fkrdlogoped.blogspot.com&amp;pfname=&amp;rpctoken=20662534\n",
      "https://fonts.gstatic.com/s/opensans/v22/mem8YaGs126MiZpBA-UFW50bbck.woff2\n",
      "https://www.gstatic.com/devrel-devsite/prod/v0089c83aa8227c3439bf2708c0795dd13db533711d44eb626e640152d9fdf05e/js/devsite_devsite_heading_link_module.js\n",
      "https://fonts.googleapis.com/css?family=Poppins%3A400%2C%7CAbril+Fatface%3A400&amp;display=fallback&amp;ver=3.6.2\n",
      "https://fonts.gstatic.com/s/oswald/v36/TK3_WkUHHAIjg75cFRf3bXL8LICs1_FvsUtiZTaR.woff2\n",
      "https://lh3.googleusercontent.com/a-/AOh14GjyNDBYrjAQkp2pnWqcNHDOadQxzoo8lwU7eELVyw=s96-p\n",
      "https://fonts.gstatic.com/s/merriweather/v25/u-440qyriQwlOrhSvowK_l5-fCZM.woff2\n",
      "https://accounts.google.com/ServiceLogin?continue=https://www.blogger.com/followers.g?blogID%3D3512172885516050706%26colors%3DCgt0cmFuc3BhcmVudBILdHJhbnNwYXJlbnQaByMyMTIxMjEiByM2ODMxYzYqByNlY2VjZWMyByMwMDUxYzY6ByMyMTIxMjFCByM2ODMxYzZKByNjNjAwNTFSByM2ODMxYzZaC3RyYW5zcGFyZW50%26pageSize%3D21%26origin%3Dhttps://krdlogoped.blogspot.com/%26usegapi%3D1%26jsh%3Dm;/_/scs/apps-static/_/js/k%253Doz.gapi.en_US.4sn9RO63fqo.O/am%253DAQ/d%253D1/rs%253DAGLTcCO5GqPeHrbNQGs79bP09BnjVkdwag/m%253D__features__%26bpli%3D1&amp;followup=https://www.blogger.com/followers.g?blogID%3D3512172885516050706%26colors%3DCgt0cmFuc3BhcmVudBILdHJhbnNwYXJlbnQaByMyMTIxMjEiByM2ODMxYzYqByNlY2VjZWMyByMwMDUxYzY6ByMyMTIxMjFCByM2ODMxYzZKByNjNjAwNTFSByM2ODMxYzZaC3RyYW5zcGFyZW50%26pageSize%3D21%26origin%3Dhttps://krdlogoped.blogspot.com/%26usegapi%3D1%26jsh%3Dm;/_/scs/apps-static/_/js/k%253Doz.gapi.en_US.4sn9RO63fqo.O/am%253DAQ/d%253D1/rs%253DAGLTcCO5GqPeHrbNQGs79bP09BnjVkdwag/m%253D__features__%26bpli%3D1&amp;passive=true&amp;go=true#id=I0_1628009235203&amp;_gfid=I0_1628009235203&amp;parent=https%3A%2F%2Fkrdlogoped.blogspot.com&amp;pfname=&amp;rpctoken=31414121\n",
      "https://accounts.google.com/_/kids/signup/eligible?hl=fr&amp;_reqid=68710&amp;rt=j\n",
      "https://fonts.gstatic.com/s/roboto/v27/KFOkCnqEu92Fr1Mu51xIIzI.woff2\n",
      "https://lh3.googleusercontent.com/a-/AOh14GgixYB4_GPc0ysOBPKWjPb-Iu40Szo-mYnZW0Jo=s96-p\n",
      "https://accounts.google.com/ServiceLogin?continue=https://www.blogger.com/followers.g?blogID%3D6949068298798094008%26colors%3DCgt0cmFuc3BhcmVudBILdHJhbnNwYXJlbnQaByMwMDAwMDAiByMwMDAwMDAqByNGRkZGRkYyByMwMDAwMDA6ByMwMDAwMDBCByMwMDAwMDBKByMwMDAwMDBSByNGRkZGRkZaC3RyYW5zcGFyZW50%26pageSize%3D21%26origin%3Dhttps://aneukrantau30.blogspot.com/%26usegapi%3D1%26jsh%3Dm;/_/scs/apps-static/_/js/k%253Doz.gapi.en_US.4sn9RO63fqo.O/am%253DAQ/d%253D1/rs%253DAGLTcCO5GqPeHrbNQGs79bP09BnjVkdwag/m%253D__features__%26bpli%3D1&amp;followup=https://www.blogger.com/followers.g?blogID%3D6949068298798094008%26colors%3DCgt0cmFuc3BhcmVudBILdHJhbnNwYXJlbnQaByMwMDAwMDAiByMwMDAwMDAqByNGRkZGRkYyByMwMDAwMDA6ByMwMDAwMDBCByMwMDAwMDBKByMwMDAwMDBSByNGRkZGRkZaC3RyYW5zcGFyZW50%26pageSize%3D21%26origin%3Dhttps://aneukrantau30.blogspot.com/%26usegapi%3D1%26jsh%3Dm;/_/scs/apps-static/_/js/k%253Doz.gapi.en_US.4sn9RO63fqo.O/am%253DAQ/d%253D1/rs%253DAGLTcCO5GqPeHrbNQGs79bP09BnjVkdwag/m%253D__features__%26bpli%3D1&amp;passive=true&amp;go=true#id=I0_1628310301882&amp;_gfid=I0_1628310301882&amp;parent=https%3A%2F%2Faneukrantau30.blogspot.com&amp;pfname=&amp;rpctoken=51792156\n",
      "https://lh3.googleusercontent.com/proxy/7tJveJ4Otb3MVDu1qh9ftE5-qYRoiMeD6i5KhfiXypb1qS72N7vlUil6cLRTY9AAIx4C6RZqWUb_SAxrMS08V34sp8Y=w72-h72-n-k-no-nu\n",
      "https://accounts.google.com/ServiceLogin?continue=https://www.blogger.com/followers.g?blogID%3D3512172885516050706%26colors%3DCgt0cmFuc3BhcmVudBILdHJhbnNwYXJlbnQaByMyMTIxMjEiByM2ODMxYzYqByNlY2VjZWMyByMwMDUxYzY6ByMyMTIxMjFCByM2ODMxYzZKByNjNjAwNTFSByM2ODMxYzZaC3RyYW5zcGFyZW50%26pageSize%3D21%26origin%3Dhttps://krdlogoped.blogspot.com/%26usegapi%3D1%26jsh%3Dm;/_/scs/apps-static/_/js/k%253Doz.gapi.en_US.4sn9RO63fqo.O/am%253DAQ/d%253D1/rs%253DAGLTcCO5GqPeHrbNQGs79bP09BnjVkdwag/m%253D__features__%26bpli%3D1&amp;followup=https://www.blogger.com/followers.g?blogID%3D3512172885516050706%26colors%3DCgt0cmFuc3BhcmVudBILdHJhbnNwYXJlbnQaByMyMTIxMjEiByM2ODMxYzYqByNlY2VjZWMyByMwMDUxYzY6ByMyMTIxMjFCByM2ODMxYzZKByNjNjAwNTFSByM2ODMxYzZaC3RyYW5zcGFyZW50%26pageSize%3D21%26origin%3Dhttps://krdlogoped.blogspot.com/%26usegapi%3D1%26jsh%3Dm;/_/scs/apps-static/_/js/k%253Doz.gapi.en_US.4sn9RO63fqo.O/am%253DAQ/d%253D1/rs%253DAGLTcCO5GqPeHrbNQGs79bP09BnjVkdwag/m%253D__features__%26bpli%3D1&amp;passive=true&amp;go=true#id=I0_1628318124814&amp;_gfid=I0_1628318124814&amp;parent=https%3A%2F%2Fkrdlogoped.blogspot.com&amp;pfname=&amp;rpctoken=38875796\n",
      "https://lh3.googleusercontent.com/LoWzVxdBP6thVy29-4Gd2Nb5PEYsQHQYWWz9BDBZDwmkJsQ_SfqJHunWXAY3Mz3UP2kj6tsnV_qjnLcyPg=w960-h960-n-o-v1\n",
      "https://accounts.google.com/signin/v2/_/common/diagnostics/?diagnostics=%5B%5B%5B%22gaia_fe_minutemaid%3Ass%22%2Cnull%2Cnull%2Cnull%2C1628624371183%5D%5D%5D&amp;rt=j\n",
      "https://fonts.gstatic.com/s/opensans/v22/mem5YaGs126MiZpBA-UNirkOXOhpOqc.woff2\n",
      "https://fonts.gstatic.com/s/cairo/v10/SLXGc1nY6HkvalIhTps.woff2\n",
      "https://lh3.googleusercontent.com/p/AF1QipNmXX9psFmLErB0GYIABS4jOCUkXR2KaVNJ_KlL=s1280-p-no-v1\n",
      "https://fonts.googleapis.com/css?family=Kaushan+Script&amp;display=swap\n",
      "https://fonts.gstatic.com/s/opensans/v22/mem5YaGs126MiZpBA-UN_r8OUuhp.woff2\n",
      "https://fonts.gstatic.com/s/opensans/v20/mem8YaGs126MiZpBA-UFVZ0b.woff2\n",
      "https://fonts.googleapis.com/css?family=Roboto%3A100%2C100italic%2C200%2C200italic%2C300%2C300italic%2C400%2C400italic%2C500%2C500italic%2C600%2C600italic%2C700%2C700italic%2C800%2C800italic%2C900%2C900italic%7CRoboto+Slab%3A100%2C100italic%2C200%2C200italic%2C300%2C300italic%2C400%2C400italic%2C500%2C500italic%2C600%2C600italic%2C700%2C700italic%2C800%2C800italic%2C900%2C900italic&amp;display=auto&amp;ver=5.8\n",
      "https://accounts.google.com/signin/v2/_/common/diagnostics/?diagnostics=%5B%5B%5B%22gaia_fe_minutemaid%3Ass%22%2Cnull%2Cnull%2Cnull%2C1628118056637%5D%5D%5D&amp;rt=j\n",
      "https://accounts.google.com/o/oauth2/auth/_/common/diagnostics/?diagnostics=%5B%5B%5B%22gaia_fe_minutemaid%3Ass%22%2Cnull%2Cnull%2Cnull%2C1628816264809%5D%5D%5D&amp;rt=j\n",
      "https://fonts.googleapis.com/css?family=Roboto:300,400,500&amp;lang=en\n",
      "https://fonts.googleapis.com/css?family=Roboto:300,400,500&amp;text=\n",
      "https://accounts.google.com/ServiceLogin?continue=https://www.blogger.com/followers.g?blogID%3D1719811995182941521%26colors%3DCgt0cmFuc3BhcmVudBILdHJhbnNwYXJlbnQaByMyMjIyMjIiByM5OTMzMDAqByNmZmY5ZWUyByMwMDAwMDA6ByMyMjIyMjJCByM5OTMzMDBKByM5OTk5OTlSByM5OTMzMDBaC3RyYW5zcGFyZW50%26pageSize%3D21%26origin%3Dhttps://makalebilgi.blogspot.com/%26usegapi%3D1%26jsh%3Dm;/_/scs/apps-static/_/js/k%253Doz.gapi.en_US.4sn9RO63fqo.O/am%253DAQ/d%253D1/rs%253DAGLTcCO5GqPeHrbNQGs79bP09BnjVkdwag/m%253D__features__%26bpli%3D1&amp;followup=https://www.blogger.com/followers.g?blogID%3D1719811995182941521%26colors%3DCgt0cmFuc3BhcmVudBILdHJhbnNwYXJlbnQaByMyMjIyMjIiByM5OTMzMDAqByNmZmY5ZWUyByMwMDAwMDA6ByMyMjIyMjJCByM5OTMzMDBKByM5OTk5OTlSByM5OTMzMDBaC3RyYW5zcGFyZW50%26pageSize%3D21%26origin%3Dhttps://makalebilgi.blogspot.com/%26usegapi%3D1%26jsh%3Dm;/_/scs/apps-static/_/js/k%253Doz.gapi.en_US.4sn9RO63fqo.O/am%253DAQ/d%253D1/rs%253DAGLTcCO5GqPeHrbNQGs79bP09BnjVkdwag/m%253D__features__%26bpli%3D1&amp;passive=true&amp;go=true#id=I0_1628086046596&amp;_gfid=I0_1628086046596&amp;parent=https%3A%2F%2Fmakalebilgi.blogspot.com&amp;pfname=&amp;rpctoken=21391500\n",
      "https://www.gstatic.com/mysidia/42d1b86cb875341df5a163347562cfa0.js?tag=mysidia_one_click_handler_one_afma_2019\n",
      "https://fonts.gstatic.com/s/tajawal/v3/Iurf6YBj_oCad4k1l4qkHrRpiYlJ.woff2\n",
      "https://fonts.googleapis.com/css?family=Roboto%3A500%2C400%7CAlegreya+Sans%3A500%2C400&amp;ver=1608361039\n",
      "https://lh3.googleusercontent.com/BfyS-j_OOTMqkt4eomWru4C8MOdli_YtSaXpmkI-qdjd6cAF1Po5s5CxF6i_iFSYfhjPlb7VpAPMAySNN-tz-bzp1lvhg9N0BGwG=s768\n",
      "https://fonts.gstatic.com/s/lato/v19/S6u9w4BMUTPHh50XSwiPGQ.woff2\n",
      "https://accounts.google.com/_/kids/signup/eligible?hl=fr&amp;_reqid=14988&amp;rt=j\n",
      "https://accounts.google.com/ServiceLogin?continue=https://www.blogger.com/followers.g?blogID%3D1719811995182941521%26colors%3DCgt0cmFuc3BhcmVudBILdHJhbnNwYXJlbnQaByMyMjIyMjIiByM5OTMzMDAqByNmZmY5ZWUyByMwMDAwMDA6ByMyMjIyMjJCByM5OTMzMDBKByM5OTk5OTlSByM5OTMzMDBaC3RyYW5zcGFyZW50%26pageSize%3D21%26origin%3Dhttps://makalebilgi.blogspot.com/%26usegapi%3D1%26jsh%3Dm;/_/scs/apps-static/_/js/k%253Doz.gapi.en_US.4sn9RO63fqo.O/am%253DAQ/d%253D1/rs%253DAGLTcCO5GqPeHrbNQGs79bP09BnjVkdwag/m%253D__features__%26bpli%3D1&amp;followup=https://www.blogger.com/followers.g?blogID%3D1719811995182941521%26colors%3DCgt0cmFuc3BhcmVudBILdHJhbnNwYXJlbnQaByMyMjIyMjIiByM5OTMzMDAqByNmZmY5ZWUyByMwMDAwMDA6ByMyMjIyMjJCByM5OTMzMDBKByM5OTk5OTlSByM5OTMzMDBaC3RyYW5zcGFyZW50%26pageSize%3D21%26origin%3Dhttps://makalebilgi.blogspot.com/%26usegapi%3D1%26jsh%3Dm;/_/scs/apps-static/_/js/k%253Doz.gapi.en_US.4sn9RO63fqo.O/am%253DAQ/d%253D1/rs%253DAGLTcCO5GqPeHrbNQGs79bP09BnjVkdwag/m%253D__features__%26bpli%3D1&amp;passive=true&amp;go=true#id=I0_1628547689617&amp;_gfid=I0_1628547689617&amp;parent=https%3A%2F%2Fmakalebilgi.blogspot.com&amp;pfname=&amp;rpctoken=16702169\n",
      "https://accounts.google.com/_/kids/signup/eligible?hl=fr&amp;_reqid=24235&amp;rt=j\n",
      "https://lh3.googleusercontent.com/a-/AOh14Gi1KCDG1PInMI1O9d8sWLyjrPiZGxKu9g3D16cqd4U=s96-p\n",
      "https://accounts.google.com/ServiceLogin?continue=https://www.blogger.com/followers.g?blogID%3D1719811995182941521%26colors%3DCgt0cmFuc3BhcmVudBILdHJhbnNwYXJlbnQaByMyMjIyMjIiByM5OTMzMDAqByNmZmY5ZWUyByMwMDAwMDA6ByMyMjIyMjJCByM5OTMzMDBKByM5OTk5OTlSByM5OTMzMDBaC3RyYW5zcGFyZW50%26pageSize%3D21%26origin%3Dhttps://makalebilgi.blogspot.com/%26usegapi%3D1%26jsh%3Dm;/_/scs/apps-static/_/js/k%253Doz.gapi.en_US.4sn9RO63fqo.O/am%253DAQ/d%253D1/rs%253DAGLTcCO5GqPeHrbNQGs79bP09BnjVkdwag/m%253D__features__%26bpli%3D1&amp;followup=https://www.blogger.com/followers.g?blogID%3D1719811995182941521%26colors%3DCgt0cmFuc3BhcmVudBILdHJhbnNwYXJlbnQaByMyMjIyMjIiByM5OTMzMDAqByNmZmY5ZWUyByMwMDAwMDA6ByMyMjIyMjJCByM5OTMzMDBKByM5OTk5OTlSByM5OTMzMDBaC3RyYW5zcGFyZW50%26pageSize%3D21%26origin%3Dhttps://makalebilgi.blogspot.com/%26usegapi%3D1%26jsh%3Dm;/_/scs/apps-static/_/js/k%253Doz.gapi.en_US.4sn9RO63fqo.O/am%253DAQ/d%253D1/rs%253DAGLTcCO5GqPeHrbNQGs79bP09BnjVkdwag/m%253D__features__%26bpli%3D1&amp;passive=true&amp;go=true#id=I0_1628223921135&amp;_gfid=I0_1628223921135&amp;parent=https%3A%2F%2Fmakalebilgi.blogspot.com&amp;pfname=&amp;rpctoken=29961428\n",
      "https://accounts.google.com/ServiceLogin?continue=https://www.blogger.com/followers.g?blogID%3D6949068298798094008%26colors%3DCgt0cmFuc3BhcmVudBILdHJhbnNwYXJlbnQaByMwMDAwMDAiByMwMDAwMDAqByNGRkZGRkYyByMwMDAwMDA6ByMwMDAwMDBCByMwMDAwMDBKByMwMDAwMDBSByNGRkZGRkZaC3RyYW5zcGFyZW50%26pageSize%3D21%26origin%3Dhttps://aneukrantau30.blogspot.com/%26usegapi%3D1%26jsh%3Dm;/_/scs/apps-static/_/js/k%253Doz.gapi.en_US.4sn9RO63fqo.O/am%253DAQ/d%253D1/rs%253DAGLTcCO5GqPeHrbNQGs79bP09BnjVkdwag/m%253D__features__%26bpli%3D1&amp;followup=https://www.blogger.com/followers.g?blogID%3D6949068298798094008%26colors%3DCgt0cmFuc3BhcmVudBILdHJhbnNwYXJlbnQaByMwMDAwMDAiByMwMDAwMDAqByNGRkZGRkYyByMwMDAwMDA6ByMwMDAwMDBCByMwMDAwMDBKByMwMDAwMDBSByNGRkZGRkZaC3RyYW5zcGFyZW50%26pageSize%3D21%26origin%3Dhttps://aneukrantau30.blogspot.com/%26usegapi%3D1%26jsh%3Dm;/_/scs/apps-static/_/js/k%253Doz.gapi.en_US.4sn9RO63fqo.O/am%253DAQ/d%253D1/rs%253DAGLTcCO5GqPeHrbNQGs79bP09BnjVkdwag/m%253D__features__%26bpli%3D1&amp;passive=true&amp;go=true#id=I0_1628290590182&amp;_gfid=I0_1628290590182&amp;parent=https%3A%2F%2Faneukrantau30.blogspot.com&amp;pfname=&amp;rpctoken=27482466\n",
      "https://lh3.googleusercontent.com/NCjzeYHd66NVonOkRt4caIlVVmMXGlPlJaE8NETrPzyNllPArl052DBL6XkFd-oSxWiK2BqR-3Y2cDFX7Q=w960-h960-n-o-v1\n",
      "https://fonts.googleapis.com/css?family=Lato:300,400,500,600,700&amp;display=swap\n",
      "https://lh3.googleusercontent.com/6gPnjISKPgqTkBVPO1wHPqvTcaQYtCRE4SMHAGhtLeHGqgMa5Uda9tQHK2HQYD7I_ulbCuL_FPeuKMgNuQ=w960-h960-n-o-v1\n",
      "https://accounts.google.com/ServiceLogin?continue=https://www.blogger.com/followers.g?blogID%3D6949068298798094008%26colors%3DCgt0cmFuc3BhcmVudBILdHJhbnNwYXJlbnQaByMwMDAwMDAiByMwMDAwMDAqByNGRkZGRkYyByMwMDAwMDA6ByMwMDAwMDBCByMwMDAwMDBKByMwMDAwMDBSByNGRkZGRkZaC3RyYW5zcGFyZW50%26pageSize%3D21%26origin%3Dhttps://aneukrantau30.blogspot.com/%26usegapi%3D1%26jsh%3Dm;/_/scs/apps-static/_/js/k%253Doz.gapi.en_US.4sn9RO63fqo.O/am%253DAQ/d%253D1/rs%253DAGLTcCO5GqPeHrbNQGs79bP09BnjVkdwag/m%253D__features__%26bpli%3D1&amp;followup=https://www.blogger.com/followers.g?blogID%3D6949068298798094008%26colors%3DCgt0cmFuc3BhcmVudBILdHJhbnNwYXJlbnQaByMwMDAwMDAiByMwMDAwMDAqByNGRkZGRkYyByMwMDAwMDA6ByMwMDAwMDBCByMwMDAwMDBKByMwMDAwMDBSByNGRkZGRkZaC3RyYW5zcGFyZW50%26pageSize%3D21%26origin%3Dhttps://aneukrantau30.blogspot.com/%26usegapi%3D1%26jsh%3Dm;/_/scs/apps-static/_/js/k%253Doz.gapi.en_US.4sn9RO63fqo.O/am%253DAQ/d%253D1/rs%253DAGLTcCO5GqPeHrbNQGs79bP09BnjVkdwag/m%253D__features__%26bpli%3D1&amp;passive=true&amp;go=true#id=I0_1628112861546&amp;_gfid=I0_1628112861546&amp;parent=https%3A%2F%2Faneukrantau30.blogspot.com&amp;pfname=&amp;rpctoken=29268274\n",
      "https://accounts.google.com/ServiceLogin?continue=https://www.blogger.com/followers.g?blogID%3D6949068298798094008%26colors%3DCgt0cmFuc3BhcmVudBILdHJhbnNwYXJlbnQaByMwMDAwMDAiByMwMDAwMDAqByNGRkZGRkYyByMwMDAwMDA6ByMwMDAwMDBCByMwMDAwMDBKByMwMDAwMDBSByNGRkZGRkZaC3RyYW5zcGFyZW50%26pageSize%3D21%26origin%3Dhttps://aneukrantau30.blogspot.com/%26usegapi%3D1%26jsh%3Dm;/_/scs/apps-static/_/js/k%253Doz.gapi.en_US.4sn9RO63fqo.O/am%253DAQ/d%253D1/rs%253DAGLTcCO5GqPeHrbNQGs79bP09BnjVkdwag/m%253D__features__%26bpli%3D1&amp;followup=https://www.blogger.com/followers.g?blogID%3D6949068298798094008%26colors%3DCgt0cmFuc3BhcmVudBILdHJhbnNwYXJlbnQaByMwMDAwMDAiByMwMDAwMDAqByNGRkZGRkYyByMwMDAwMDA6ByMwMDAwMDBCByMwMDAwMDBKByMwMDAwMDBSByNGRkZGRkZaC3RyYW5zcGFyZW50%26pageSize%3D21%26origin%3Dhttps://aneukrantau30.blogspot.com/%26usegapi%3D1%26jsh%3Dm;/_/scs/apps-static/_/js/k%253Doz.gapi.en_US.4sn9RO63fqo.O/am%253DAQ/d%253D1/rs%253DAGLTcCO5GqPeHrbNQGs79bP09BnjVkdwag/m%253D__features__%26bpli%3D1&amp;passive=true&amp;go=true#id=I0_1628284284363&amp;_gfid=I0_1628284284363&amp;parent=https%3A%2F%2Faneukrantau30.blogspot.com&amp;pfname=&amp;rpctoken=10502399\n",
      "https://accounts.google.com/signin/v2/_/common/diagnostics/?diagnostics=%5B%5B%5B%22gaia_fe_minutemaid%3Ass%22%2Cnull%2Cnull%2Cnull%2C1628258023274%5D%5D%5D&amp;rt=j\n",
      "https://www.gstatic.com/devrel-devsite/prod/v0089c83aa8227c3439bf2708c0795dd13db533711d44eb626e640152d9fdf05e/js/devsite_devsite_analytics_module.js\n",
      "https://accounts.google.com/ServiceLogin?continue=https://www.blogger.com/followers.g?blogID%3D6949068298798094008%26colors%3DCgt0cmFuc3BhcmVudBILdHJhbnNwYXJlbnQaByMwMDAwMDAiByMwMDAwMDAqByNGRkZGRkYyByMwMDAwMDA6ByMwMDAwMDBCByMwMDAwMDBKByMwMDAwMDBSByNGRkZGRkZaC3RyYW5zcGFyZW50%26pageSize%3D21%26origin%3Dhttps://aneukrantau30.blogspot.com/%26usegapi%3D1%26jsh%3Dm;/_/scs/apps-static/_/js/k%253Doz.gapi.en_US.4sn9RO63fqo.O/am%253DAQ/d%253D1/rs%253DAGLTcCO5GqPeHrbNQGs79bP09BnjVkdwag/m%253D__features__%26bpli%3D1&amp;followup=https://www.blogger.com/followers.g?blogID%3D6949068298798094008%26colors%3DCgt0cmFuc3BhcmVudBILdHJhbnNwYXJlbnQaByMwMDAwMDAiByMwMDAwMDAqByNGRkZGRkYyByMwMDAwMDA6ByMwMDAwMDBCByMwMDAwMDBKByMwMDAwMDBSByNGRkZGRkZaC3RyYW5zcGFyZW50%26pageSize%3D21%26origin%3Dhttps://aneukrantau30.blogspot.com/%26usegapi%3D1%26jsh%3Dm;/_/scs/apps-static/_/js/k%253Doz.gapi.en_US.4sn9RO63fqo.O/am%253DAQ/d%253D1/rs%253DAGLTcCO5GqPeHrbNQGs79bP09BnjVkdwag/m%253D__features__%26bpli%3D1&amp;passive=true&amp;go=true#id=I0_1628076701426&amp;_gfid=I0_1628076701426&amp;parent=https%3A%2F%2Faneukrantau30.blogspot.com&amp;pfname=&amp;rpctoken=41552081\n",
      "https://accounts.google.com/ServiceLogin?continue=https://www.blogger.com/followers.g?blogID%3D6949068298798094008%26colors%3DCgt0cmFuc3BhcmVudBILdHJhbnNwYXJlbnQaByMwMDAwMDAiByMwMDAwMDAqByNGRkZGRkYyByMwMDAwMDA6ByMwMDAwMDBCByMwMDAwMDBKByMwMDAwMDBSByNGRkZGRkZaC3RyYW5zcGFyZW50%26pageSize%3D21%26origin%3Dhttps://aneukrantau30.blogspot.com/%26usegapi%3D1%26jsh%3Dm;/_/scs/apps-static/_/js/k%253Doz.gapi.en_US.4sn9RO63fqo.O/am%253DAQ/d%253D1/rs%253DAGLTcCO5GqPeHrbNQGs79bP09BnjVkdwag/m%253D__features__%26bpli%3D1&amp;followup=https://www.blogger.com/followers.g?blogID%3D6949068298798094008%26colors%3DCgt0cmFuc3BhcmVudBILdHJhbnNwYXJlbnQaByMwMDAwMDAiByMwMDAwMDAqByNGRkZGRkYyByMwMDAwMDA6ByMwMDAwMDBCByMwMDAwMDBKByMwMDAwMDBSByNGRkZGRkZaC3RyYW5zcGFyZW50%26pageSize%3D21%26origin%3Dhttps://aneukrantau30.blogspot.com/%26usegapi%3D1%26jsh%3Dm;/_/scs/apps-static/_/js/k%253Doz.gapi.en_US.4sn9RO63fqo.O/am%253DAQ/d%253D1/rs%253DAGLTcCO5GqPeHrbNQGs79bP09BnjVkdwag/m%253D__features__%26bpli%3D1&amp;passive=true&amp;go=true#id=I0_1628222874090&amp;_gfid=I0_1628222874090&amp;parent=https%3A%2F%2Faneukrantau30.blogspot.com&amp;pfname=&amp;rpctoken=13869436\n",
      "https://www.gstatic.com/devrel-devsite/prod/v0492b3db79b8927fe2347ea2dc87c471b22f173331622ffd10334837d43ea37f/js/devsite_devsite_a11y_announce_module.js\n",
      "https://lh3.googleusercontent.com/a-/AOh14GivPLDly06ED98M23mBnE_jW-zrty_ThKdcPT2Q=s96-p\n",
      "https://fonts.gstatic.com/s/opensans/v20/mem8YaGs126MiZpBA-UFUZ0bbck.woff2\n",
      "https://fonts.gstatic.com/s/prompt/v5/-W_8XJnvUD7dzB2Cv_4IaWMu.woff2\n",
      "https://fonts.gstatic.com/s/opensans/v20/mem5YaGs126MiZpBA-UN_r8OXOhpOqc.woff2\n",
      "https://accounts.google.com/signin/v2/_/common/diagnostics/?diagnostics=%5B%5B%5B%22gaia_fe_minutemaid%3Ass%22%2Cnull%2Cnull%2Cnull%2C1628586707207%5D%5D%5D&amp;rt=j\n",
      "https://accounts.google.com/ServiceLogin?continue=https://www.blogger.com/followers.g?blogID%3D6949068298798094008%26colors%3DCgt0cmFuc3BhcmVudBILdHJhbnNwYXJlbnQaByMwMDAwMDAiByMwMDAwMDAqByNGRkZGRkYyByMwMDAwMDA6ByMwMDAwMDBCByMwMDAwMDBKByMwMDAwMDBSByNGRkZGRkZaC3RyYW5zcGFyZW50%26pageSize%3D21%26origin%3Dhttps://aneukrantau30.blogspot.com/%26usegapi%3D1%26jsh%3Dm;/_/scs/apps-static/_/js/k%253Doz.gapi.en_US.4sn9RO63fqo.O/am%253DAQ/d%253D1/rs%253DAGLTcCO5GqPeHrbNQGs79bP09BnjVkdwag/m%253D__features__%26bpli%3D1&amp;followup=https://www.blogger.com/followers.g?blogID%3D6949068298798094008%26colors%3DCgt0cmFuc3BhcmVudBILdHJhbnNwYXJlbnQaByMwMDAwMDAiByMwMDAwMDAqByNGRkZGRkYyByMwMDAwMDA6ByMwMDAwMDBCByMwMDAwMDBKByMwMDAwMDBSByNGRkZGRkZaC3RyYW5zcGFyZW50%26pageSize%3D21%26origin%3Dhttps://aneukrantau30.blogspot.com/%26usegapi%3D1%26jsh%3Dm;/_/scs/apps-static/_/js/k%253Doz.gapi.en_US.4sn9RO63fqo.O/am%253DAQ/d%253D1/rs%253DAGLTcCO5GqPeHrbNQGs79bP09BnjVkdwag/m%253D__features__%26bpli%3D1&amp;passive=true&amp;go=true#id=I0_1628106954782&amp;_gfid=I0_1628106954782&amp;parent=https%3A%2F%2Faneukrantau30.blogspot.com&amp;pfname=&amp;rpctoken=15834846\n",
      "https://accounts.google.com/_/kids/signup/eligible?hl=fr&amp;_reqid=79707&amp;rt=j\n",
      "https://fonts.gstatic.com/s/ebgaramond/v15/SlGDmQSNjdsmc35JDF1K5E55YMjF_7DPuGi-6_RkBI9_.woff2\n",
      "https://lh3.googleusercontent.com/proxy/yY71H2mPhE_RviJU0m06WymFqOfRkr5Z2Oa1Svzj1fnRTDUAJT7pTTeyNLWpscAKSoRNNW9S7zTQwsW8kDOue_CLPdH0cVI=w720-h377-rj-pd-pc0x00e9e9e9\n",
      "https://accounts.google.com/_/kids/signup/eligible?hl=fr&amp;_reqid=59447&amp;rt=j\n",
      "https://lh3.googleusercontent.com/z165bVG8m475JaTMM3dHfEREoBJmVvfFW2-gzecAaJUR_ag0NSMIRuqFccUIsuQ0TsssdREuv4K7=w56-h45-no\n",
      "https://accounts.google.com/ServiceLogin?continue=https://www.blogger.com/followers.g?blogID%3D3512172885516050706%26colors%3DCgt0cmFuc3BhcmVudBILdHJhbnNwYXJlbnQaByMyMTIxMjEiByM2ODMxYzYqByNlY2VjZWMyByMwMDUxYzY6ByMyMTIxMjFCByM2ODMxYzZKByNjNjAwNTFSByM2ODMxYzZaC3RyYW5zcGFyZW50%26pageSize%3D21%26origin%3Dhttps://krdlogoped.blogspot.com/%26usegapi%3D1%26jsh%3Dm;/_/scs/apps-static/_/js/k%253Doz.gapi.en_US.4sn9RO63fqo.O/am%253DAQ/d%253D1/rs%253DAGLTcCO5GqPeHrbNQGs79bP09BnjVkdwag/m%253D__features__%26bpli%3D1&amp;followup=https://www.blogger.com/followers.g?blogID%3D3512172885516050706%26colors%3DCgt0cmFuc3BhcmVudBILdHJhbnNwYXJlbnQaByMyMTIxMjEiByM2ODMxYzYqByNlY2VjZWMyByMwMDUxYzY6ByMyMTIxMjFCByM2ODMxYzZKByNjNjAwNTFSByM2ODMxYzZaC3RyYW5zcGFyZW50%26pageSize%3D21%26origin%3Dhttps://krdlogoped.blogspot.com/%26usegapi%3D1%26jsh%3Dm;/_/scs/apps-static/_/js/k%253Doz.gapi.en_US.4sn9RO63fqo.O/am%253DAQ/d%253D1/rs%253DAGLTcCO5GqPeHrbNQGs79bP09BnjVkdwag/m%253D__features__%26bpli%3D1&amp;passive=true&amp;go=true#id=I0_1628239559566&amp;_gfid=I0_1628239559566&amp;parent=https%3A%2F%2Fkrdlogoped.blogspot.com&amp;pfname=&amp;rpctoken=34633692\n",
      "https://accounts.google.com/_/kids/signup/eligible?hl=fr&amp;_reqid=19009&amp;rt=j\n",
      "https://apis.google.com/js/platform:gapi.iframes.style.common.js\n",
      "https://accounts.google.com/_/kids/signup/eligible?hl=fr&amp;_reqid=70686&amp;rt=j\n",
      "https://accounts.google.com/_/kids/signup/eligible?hl=fr&amp;_reqid=8478&amp;rt=j\n",
      "https://accounts.google.com/ServiceLogin?continue=https://www.blogger.com/followers.g?blogID%3D6949068298798094008%26colors%3DCgt0cmFuc3BhcmVudBILdHJhbnNwYXJlbnQaByMwMDAwMDAiByMwMDAwMDAqByNGRkZGRkYyByMwMDAwMDA6ByMwMDAwMDBCByMwMDAwMDBKByMwMDAwMDBSByNGRkZGRkZaC3RyYW5zcGFyZW50%26pageSize%3D21%26origin%3Dhttps://aneukrantau30.blogspot.com/%26usegapi%3D1%26jsh%3Dm;/_/scs/apps-static/_/js/k%253Doz.gapi.en_US.4sn9RO63fqo.O/am%253DAQ/d%253D1/rs%253DAGLTcCO5GqPeHrbNQGs79bP09BnjVkdwag/m%253D__features__%26bpli%3D1&amp;followup=https://www.blogger.com/followers.g?blogID%3D6949068298798094008%26colors%3DCgt0cmFuc3BhcmVudBILdHJhbnNwYXJlbnQaByMwMDAwMDAiByMwMDAwMDAqByNGRkZGRkYyByMwMDAwMDA6ByMwMDAwMDBCByMwMDAwMDBKByMwMDAwMDBSByNGRkZGRkZaC3RyYW5zcGFyZW50%26pageSize%3D21%26origin%3Dhttps://aneukrantau30.blogspot.com/%26usegapi%3D1%26jsh%3Dm;/_/scs/apps-static/_/js/k%253Doz.gapi.en_US.4sn9RO63fqo.O/am%253DAQ/d%253D1/rs%253DAGLTcCO5GqPeHrbNQGs79bP09BnjVkdwag/m%253D__features__%26bpli%3D1&amp;passive=true&amp;go=true#id=I0_1628216267586&amp;_gfid=I0_1628216267586&amp;parent=https%3A%2F%2Faneukrantau30.blogspot.com&amp;pfname=&amp;rpctoken=70636290\n",
      "https://www.gstatic.com/devrel-devsite/prod/v0492b3db79b8927fe2347ea2dc87c471b22f173331622ffd10334837d43ea37f/js/devsite_devsite_content_module.js\n",
      "https://fonts.gstatic.com/s/firasanscondensed/v5/wEOsEADFm8hSaQTFG18FErVhsC9x-tarWU3IuMR0cg.woff2\n",
      "https://fonts.gstatic.com/s/montserrat/v16/JTUQjIg1_i6t8kCHKm45_QpRyS7m.woff2\n",
      "https://lh3.googleusercontent.com/SrtbqAdOHyyix_VYhv7iUXjpV4t2U6nN0oHqW8ca2bUUvmWakIQ6kUz6-bnDGf5duoMliBByMPMOXMUQlA=w960-h960-n-o-v1\n",
      "https://accounts.google.com/ServiceLogin?continue=https://www.blogger.com/followers.g?blogID%3D3756545811499060445%26colors%3DCgt0cmFuc3BhcmVudBILdHJhbnNwYXJlbnQaByM3Nzc3NzciByMzNTYwYWIqByMzNTYwYWIyByMwMDAwMDA6ByM3Nzc3NzdCByMzNTYwYWJKByMwMDAwMDBSByNGRkZGRkZaC3RyYW5zcGFyZW50%26pageSize%3D21%26origin%3Dhttps://www.tafhem.com/%26usegapi%3D1%26jsh%3Dm;/_/scs/apps-static/_/js/k%253Doz.gapi.en_US.4sn9RO63fqo.O/am%253DAQ/d%253D1/rs%253DAGLTcCO5GqPeHrbNQGs79bP09BnjVkdwag/m%253D__features__%26bpli%3D1&amp;followup=https://www.blogger.com/followers.g?blogID%3D3756545811499060445%26colors%3DCgt0cmFuc3BhcmVudBILdHJhbnNwYXJlbnQaByM3Nzc3NzciByMzNTYwYWIqByMzNTYwYWIyByMwMDAwMDA6ByM3Nzc3NzdCByMzNTYwYWJKByMwMDAwMDBSByNGRkZGRkZaC3RyYW5zcGFyZW50%26pageSize%3D21%26origin%3Dhttps://www.tafhem.com/%26usegapi%3D1%26jsh%3Dm;/_/scs/apps-static/_/js/k%253Doz.gapi.en_US.4sn9RO63fqo.O/am%253DAQ/d%253D1/rs%253DAGLTcCO5GqPeHrbNQGs79bP09BnjVkdwag/m%253D__features__%26bpli%3D1&amp;passive=true&amp;go=true#id=I0_1628223835316&amp;_gfid=I0_1628223835316&amp;parent=https%3A%2F%2Fwww.tafhem.com&amp;pfname=&amp;rpctoken=33639996\n",
      "https://www.gstatic.com/devrel-devsite/prod/v0492b3db79b8927fe2347ea2dc87c471b22f173331622ffd10334837d43ea37f/js/analytics_library.js\n",
      "https://accounts.google.com/_/kids/signup/eligible?hl=fr&amp;_reqid=53492&amp;rt=j\n",
      "https://fonts.gstatic.com/s/overpass/v5/qFdH35WCmI96Ajtm81GlU9s.woff2\n",
      "https://accounts.google.com/ServiceLogin?continue=https://www.blogger.com/followers.g?blogID%3D6949068298798094008%26colors%3DCgt0cmFuc3BhcmVudBILdHJhbnNwYXJlbnQaByMwMDAwMDAiByMwMDAwMDAqByNGRkZGRkYyByMwMDAwMDA6ByMwMDAwMDBCByMwMDAwMDBKByMwMDAwMDBSByNGRkZGRkZaC3RyYW5zcGFyZW50%26pageSize%3D21%26origin%3Dhttps://aneukrantau30.blogspot.com/%26usegapi%3D1%26jsh%3Dm;/_/scs/apps-static/_/js/k%253Doz.gapi.en_US.4sn9RO63fqo.O/am%253DAQ/d%253D1/rs%253DAGLTcCO5GqPeHrbNQGs79bP09BnjVkdwag/m%253D__features__%26bpli%3D1&amp;followup=https://www.blogger.com/followers.g?blogID%3D6949068298798094008%26colors%3DCgt0cmFuc3BhcmVudBILdHJhbnNwYXJlbnQaByMwMDAwMDAiByMwMDAwMDAqByNGRkZGRkYyByMwMDAwMDA6ByMwMDAwMDBCByMwMDAwMDBKByMwMDAwMDBSByNGRkZGRkZaC3RyYW5zcGFyZW50%26pageSize%3D21%26origin%3Dhttps://aneukrantau30.blogspot.com/%26usegapi%3D1%26jsh%3Dm;/_/scs/apps-static/_/js/k%253Doz.gapi.en_US.4sn9RO63fqo.O/am%253DAQ/d%253D1/rs%253DAGLTcCO5GqPeHrbNQGs79bP09BnjVkdwag/m%253D__features__%26bpli%3D1&amp;passive=true&amp;go=true#id=I0_1628099896287&amp;_gfid=I0_1628099896287&amp;parent=https%3A%2F%2Faneukrantau30.blogspot.com&amp;pfname=&amp;rpctoken=36168704\n",
      "https://accounts.google.com/ServiceLogin?continue=https://www.blogger.com/followers.g?blogID%3D1719811995182941521%26colors%3DCgt0cmFuc3BhcmVudBILdHJhbnNwYXJlbnQaByMyMjIyMjIiByM5OTMzMDAqByNmZmY5ZWUyByMwMDAwMDA6ByMyMjIyMjJCByM5OTMzMDBKByM5OTk5OTlSByM5OTMzMDBaC3RyYW5zcGFyZW50%26pageSize%3D21%26origin%3Dhttps://makalebilgi.blogspot.com/%26usegapi%3D1%26jsh%3Dm;/_/scs/apps-static/_/js/k%253Doz.gapi.en_US.4sn9RO63fqo.O/am%253DAQ/d%253D1/rs%253DAGLTcCO5GqPeHrbNQGs79bP09BnjVkdwag/m%253D__features__%26bpli%3D1&amp;followup=https://www.blogger.com/followers.g?blogID%3D1719811995182941521%26colors%3DCgt0cmFuc3BhcmVudBILdHJhbnNwYXJlbnQaByMyMjIyMjIiByM5OTMzMDAqByNmZmY5ZWUyByMwMDAwMDA6ByMyMjIyMjJCByM5OTMzMDBKByM5OTk5OTlSByM5OTMzMDBaC3RyYW5zcGFyZW50%26pageSize%3D21%26origin%3Dhttps://makalebilgi.blogspot.com/%26usegapi%3D1%26jsh%3Dm;/_/scs/apps-static/_/js/k%253Doz.gapi.en_US.4sn9RO63fqo.O/am%253DAQ/d%253D1/rs%253DAGLTcCO5GqPeHrbNQGs79bP09BnjVkdwag/m%253D__features__%26bpli%3D1&amp;passive=true&amp;go=true#id=I0_1628130146055&amp;_gfid=I0_1628130146055&amp;parent=https%3A%2F%2Fmakalebilgi.blogspot.com&amp;pfname=&amp;rpctoken=29312593\n",
      "https://www.gstatic.com/recaptcha/releases/RDRwZ7RcROX_wCxEJ01WeqEX/styles__ltr.css\n",
      "https://fonts.gstatic.com/s/roboto/v27/KFOlCnqEu92Fr1MmWUlfABc4EsA.woff2\n",
      "https://fonts.gstatic.com/s/jetbrainsmono/v6/tDbY2o-flEEny0FZhsfKu5WU4zr3E_BX0PnT8RD8yK1TOlOV.woff2\n",
      "https://www.gstatic.com/mysidia/5873a79b3d0aecd259633a298db18e2d.js?tag=pingback\n",
      "https://www.gstatic.com/mysidia/359d8744270302c99802f1759c580b27.js?tag=client_fast_engine_2019\n",
      "https://accounts.google.com/ServiceLogin?continue=http://draft.blogger.com/followers.g?blogID%3D3756545811499060445%26colors%3DCgt0cmFuc3BhcmVudBILdHJhbnNwYXJlbnQaByM3Nzc3NzciByMzNTYwYWIqByMzNTYwYWIyByMwMDAwMDA6ByM3Nzc3NzdCByMzNTYwYWJKByMwMDAwMDBSByNGRkZGRkZaC3RyYW5zcGFyZW50%26pageSize%3D21%26origin%3Dhttps://www.tafhem.com/%26usegapi%3D1%26jsh%3Dm;/_/scs/apps-static/_/js/k%253Doz.gapi.en_US.4sn9RO63fqo.O/am%253DAQ/d%253D1/rs%253DAGLTcCO5GqPeHrbNQGs79bP09BnjVkdwag/m%253D__features__%26bpli%3D1&amp;followup=http://draft.blogger.com/followers.g?blogID%3D3756545811499060445%26colors%3DCgt0cmFuc3BhcmVudBILdHJhbnNwYXJlbnQaByM3Nzc3NzciByMzNTYwYWIqByMzNTYwYWIyByMwMDAwMDA6ByM3Nzc3NzdCByMzNTYwYWJKByMwMDAwMDBSByNGRkZGRkZaC3RyYW5zcGFyZW50%26pageSize%3D21%26origin%3Dhttps://www.tafhem.com/%26usegapi%3D1%26jsh%3Dm;/_/scs/apps-static/_/js/k%253Doz.gapi.en_US.4sn9RO63fqo.O/am%253DAQ/d%253D1/rs%253DAGLTcCO5GqPeHrbNQGs79bP09BnjVkdwag/m%253D__features__%26bpli%3D1&amp;passive=true&amp;go=true#id=I0_1628101020576&amp;_gfid=I0_1628101020576&amp;parent=https%3A%2F%2Fwww.tafhem.com&amp;pfname=&amp;rpctoken=15379224\n",
      "https://fonts.gstatic.com/s/googlesans/v27/4UabrENHsxJlGDuGo1OIlLU94YtzCwY.woff2\n",
      "https://lh3.googleusercontent.com/proxy/wgwrOw7t1LWgNkrAom5B_4SIwkZN9k1DoiNT4LGZp45AOwDJZDxBC3xlGfyxoIOc_2e1jkzRRDKnr1C-aDYnNmE=w72-h72-p-k-no-nu\n",
      "https://accounts.google.com/signin/v2/_/common/diagnostics/?diagnostics=%5B%5B%5B%22gaia_fe_minutemaid%3Ass%22%2Cnull%2Cnull%2Cnull%2C1628523435092%5D%5D%5D&amp;rt=j\n",
      "https://www.gstatic.com/recaptcha/releases/ecapuzyywmdXQ5gJHS3JQiXe/styles__ltr.css\n",
      "https://fonts.gstatic.com/s/oswald/v39/TK3_WkUHHAIjg75cFRf3bXL8LICs1_FvsUhiZTaR.woff2\n",
      "https://accounts.google.com/signin/v2/_/common/diagnostics/?diagnostics=%5B%5B%5B%22gaia_fe_minutemaid%3Ass%22%2Cnull%2Cnull%2Cnull%2C1628107158149%5D%5D%5D&amp;rt=j\n",
      "https://accounts.google.com/ServiceLogin?continue=https://www.blogger.com/followers.g?blogID%3D6949068298798094008%26colors%3DCgt0cmFuc3BhcmVudBILdHJhbnNwYXJlbnQaByMwMDAwMDAiByMwMDAwMDAqByNGRkZGRkYyByMwMDAwMDA6ByMwMDAwMDBCByMwMDAwMDBKByMwMDAwMDBSByNGRkZGRkZaC3RyYW5zcGFyZW50%26pageSize%3D21%26origin%3Dhttps://aneukrantau30.blogspot.com/%26usegapi%3D1%26jsh%3Dm;/_/scs/apps-static/_/js/k%253Doz.gapi.en_US.4sn9RO63fqo.O/am%253DAQ/d%253D1/rs%253DAGLTcCO5GqPeHrbNQGs79bP09BnjVkdwag/m%253D__features__%26bpli%3D1&amp;followup=https://www.blogger.com/followers.g?blogID%3D6949068298798094008%26colors%3DCgt0cmFuc3BhcmVudBILdHJhbnNwYXJlbnQaByMwMDAwMDAiByMwMDAwMDAqByNGRkZGRkYyByMwMDAwMDA6ByMwMDAwMDBCByMwMDAwMDBKByMwMDAwMDBSByNGRkZGRkZaC3RyYW5zcGFyZW50%26pageSize%3D21%26origin%3Dhttps://aneukrantau30.blogspot.com/%26usegapi%3D1%26jsh%3Dm;/_/scs/apps-static/_/js/k%253Doz.gapi.en_US.4sn9RO63fqo.O/am%253DAQ/d%253D1/rs%253DAGLTcCO5GqPeHrbNQGs79bP09BnjVkdwag/m%253D__features__%26bpli%3D1&amp;passive=true&amp;go=true#id=I0_1628129124066&amp;_gfid=I0_1628129124066&amp;parent=https%3A%2F%2Faneukrantau30.blogspot.com&amp;pfname=&amp;rpctoken=26481469\n",
      "https://accounts.google.com/o/oauth2/auth/_/common/diagnostics/?diagnostics=%5B%5B%5B%22gaia_fe_minutemaid%3Ass%22%2Cnull%2Cnull%2Cnull%2C1628250039110%5D%5D%5D&amp;rt=j\n",
      "https://fonts.gstatic.com/s/materialiconsextended/v97/kJEjBvgX7BgnkSrUwT8UnLVc38YydejYY-oE_LvJ.woff2\n",
      "https://lh3.googleusercontent.com/wrHKPwn_RKCusdpmICnKeZoYVzfup5x3e6UFj58iVzEymAnru1XWjhrl2mFu5eLJ8XMp_6uNuffhhCr0HiIGUtQkhh4WKXH-COzmOA=s2500\n",
      "https://fonts.gstatic.com/s/opensans/v23/mem5YaGs126MiZpBA-UN_r8OXOhpOqc.woff2\n",
      "https://accounts.google.com/_/kids/signup/eligible?hl=fr&amp;_reqid=68647&amp;rt=j\n",
      "https://fonts.googleapis.com/css?family=Montserrat:400,700|Fira+Sans:400,700|Roboto:300,400,500,700\n",
      "https://accounts.google.com/_/kids/signup/eligible?hl=fr&amp;_reqid=33339&amp;rt=j\n",
      "https://fonts.googleapis.com/css?family=Satisfy\n",
      "https://accounts.google.com/ServiceLogin?continue=https://www.blogger.com/followers.g?blogID%3D3756545811499060445%26colors%3DCgt0cmFuc3BhcmVudBILdHJhbnNwYXJlbnQaByM3Nzc3NzciByMzNTYwYWIqByMzNTYwYWIyByMwMDAwMDA6ByM3Nzc3NzdCByMzNTYwYWJKByMwMDAwMDBSByNGRkZGRkZaC3RyYW5zcGFyZW50%26pageSize%3D21%26origin%3Dhttps://www.tafhem.com/%26usegapi%3D1%26jsh%3Dm;/_/scs/apps-static/_/js/k%253Doz.gapi.en_US.4sn9RO63fqo.O/am%253DAQ/d%253D1/rs%253DAGLTcCO5GqPeHrbNQGs79bP09BnjVkdwag/m%253D__features__%26bpli%3D1&amp;followup=https://www.blogger.com/followers.g?blogID%3D3756545811499060445%26colors%3DCgt0cmFuc3BhcmVudBILdHJhbnNwYXJlbnQaByM3Nzc3NzciByMzNTYwYWIqByMzNTYwYWIyByMwMDAwMDA6ByM3Nzc3NzdCByMzNTYwYWJKByMwMDAwMDBSByNGRkZGRkZaC3RyYW5zcGFyZW50%26pageSize%3D21%26origin%3Dhttps://www.tafhem.com/%26usegapi%3D1%26jsh%3Dm;/_/scs/apps-static/_/js/k%253Doz.gapi.en_US.4sn9RO63fqo.O/am%253DAQ/d%253D1/rs%253DAGLTcCO5GqPeHrbNQGs79bP09BnjVkdwag/m%253D__features__%26bpli%3D1&amp;passive=true&amp;go=true#id=I0_1628107930819&amp;_gfid=I0_1628107930819&amp;parent=https%3A%2F%2Fwww.tafhem.com&amp;pfname=&amp;rpctoken=16097794\n",
      "https://accounts.google.com/_/kids/signup/eligible?hl=fr&amp;_reqid=24021&amp;rt=j\n",
      "https://www.gstatic.com/mysidia/697eb35175a5e1a92c6f513115607e09.js?tag=video_mra/web_raspberry_hotfixable\n",
      "https://accounts.google.com/_/kids/signup/eligible?hl=fr&amp;_reqid=70773&amp;rt=j\n",
      "https://fonts.googleapis.com/css2?family=Cairo:wght@400;600;700&amp;family=Lato:ital,wght@0,400;0,700;1,400&amp;display=swap\n",
      "https://fonts.gstatic.com/s/opensans/v21/mem5YaGs126MiZpBA-UNirkOXOhpOqc.woff2\n",
      "https://fonts.gstatic.com/s/ibmplexsans/v8/zYX9KVElMYYaJe8bpLHnCwDKjWr7AIFsdA.woff2\n",
      "https://fonts.gstatic.com/s/oswald/v38/TK3_WkUHHAIjg75cFRf3bXL8LICs1_FvsUZiZQ.woff2\n",
      "https://fonts.gstatic.com/s/materialiconsextended/v107/kJEjBvgX7BgnkSrUwT8UnLVc38YydejYY-oE_LvJ.woff2\n",
      "https://fonts.gstatic.com/s/merriweather/v24/u-4l0qyriQwlOrhSvowK_l5-eR7lXff4jvk.ttf\n",
      "https://fonts.gstatic.com/s/opensans/v21/mem8YaGs126MiZpBA-UFVZ0b.woff2\n",
      "https://fonts.googleapis.com/css?family=Hind%3A300%2C500%2C700&amp;ver=5.8\n",
      "https://www.gstatic.com/feedback/js/help/prod/service/lazy.min.js\n",
      "https://lh3.googleusercontent.com/proxy/DPlCioIR7cxSW04I3nmx9Bh8jGBYtGXloVqZCqsPWQb4wxeJMqPYy0Oj-wx6KbTqDgHlO_-joC6vF6GJ5Wht8IbXrK63QkBc=w720-h377-rj-pd-pc0x00e9e9e9\n",
      "https://lh3.googleusercontent.com/a2x05862-ukEx_uE_z2CqSyNU0ZRWqzckAzdbHo8qlpXDOLiN2n7h-E8lMR_a3fhObWWzCn_Y5OD=w46-h45-no\n",
      "https://accounts.google.com/_/kids/signup/eligible?hl=fr&amp;_reqid=55709&amp;rt=j\n",
      "https://accounts.google.com/ServiceLogin?continue=https://www.blogger.com/followers.g?blogID%3D1719811995182941521%26colors%3DCgt0cmFuc3BhcmVudBILdHJhbnNwYXJlbnQaByMyMjIyMjIiByM5OTMzMDAqByNmZmY5ZWUyByMwMDAwMDA6ByMyMjIyMjJCByM5OTMzMDBKByM5OTk5OTlSByM5OTMzMDBaC3RyYW5zcGFyZW50%26pageSize%3D21%26origin%3Dhttps://makalebilgi.blogspot.com/%26usegapi%3D1%26jsh%3Dm;/_/scs/apps-static/_/js/k%253Doz.gapi.en_US.4sn9RO63fqo.O/am%253DAQ/d%253D1/rs%253DAGLTcCO5GqPeHrbNQGs79bP09BnjVkdwag/m%253D__features__%26bpli%3D1&amp;followup=https://www.blogger.com/followers.g?blogID%3D1719811995182941521%26colors%3DCgt0cmFuc3BhcmVudBILdHJhbnNwYXJlbnQaByMyMjIyMjIiByM5OTMzMDAqByNmZmY5ZWUyByMwMDAwMDA6ByMyMjIyMjJCByM5OTMzMDBKByM5OTk5OTlSByM5OTMzMDBaC3RyYW5zcGFyZW50%26pageSize%3D21%26origin%3Dhttps://makalebilgi.blogspot.com/%26usegapi%3D1%26jsh%3Dm;/_/scs/apps-static/_/js/k%253Doz.gapi.en_US.4sn9RO63fqo.O/am%253DAQ/d%253D1/rs%253DAGLTcCO5GqPeHrbNQGs79bP09BnjVkdwag/m%253D__features__%26bpli%3D1&amp;passive=true&amp;go=true#id=I0_1628191183815&amp;_gfid=I0_1628191183815&amp;parent=https%3A%2F%2Fmakalebilgi.blogspot.com&amp;pfname=&amp;rpctoken=16000954\n",
      "https://accounts.google.com/_/kids/signup/eligible?hl=fr&amp;_reqid=25795&amp;rt=j\n",
      "https://lh3.googleusercontent.com/proxy/sUzpkre1Im_h7CnyhV_9F-PvVLBfxyKgKGyzdsKgJuxNRVd-ZiD7r73_I38BLErdrUpnPqbETfwdXPjWZ8DQm4uOcBduVQ1viLYucQ=s0-d\n",
      "https://accounts.google.com/ServiceLogin?continue=http://www.blogger.com/followers.g?blogID%3D3512172885516050706%26colors%3DCgt0cmFuc3BhcmVudBILdHJhbnNwYXJlbnQaByMyMTIxMjEiByM2ODMxYzYqByNlY2VjZWMyByMwMDUxYzY6ByMyMTIxMjFCByM2ODMxYzZKByNjNjAwNTFSByM2ODMxYzZaC3RyYW5zcGFyZW50%26pageSize%3D21%26origin%3Dhttps://krdlogoped.blogspot.com/%26usegapi%3D1%26jsh%3Dm;/_/scs/apps-static/_/js/k%253Doz.gapi.en_US.4sn9RO63fqo.O/am%253DAQ/d%253D1/rs%253DAGLTcCO5GqPeHrbNQGs79bP09BnjVkdwag/m%253D__features__%26bpli%3D1&amp;followup=http://www.blogger.com/followers.g?blogID%3D3512172885516050706%26colors%3DCgt0cmFuc3BhcmVudBILdHJhbnNwYXJlbnQaByMyMTIxMjEiByM2ODMxYzYqByNlY2VjZWMyByMwMDUxYzY6ByMyMTIxMjFCByM2ODMxYzZKByNjNjAwNTFSByM2ODMxYzZaC3RyYW5zcGFyZW50%26pageSize%3D21%26origin%3Dhttps://krdlogoped.blogspot.com/%26usegapi%3D1%26jsh%3Dm;/_/scs/apps-static/_/js/k%253Doz.gapi.en_US.4sn9RO63fqo.O/am%253DAQ/d%253D1/rs%253DAGLTcCO5GqPeHrbNQGs79bP09BnjVkdwag/m%253D__features__%26bpli%3D1&amp;passive=true&amp;go=true#id=I0_1628169213620&amp;_gfid=I0_1628169213620&amp;parent=https%3A%2F%2Fkrdlogoped.blogspot.com&amp;pfname=&amp;rpctoken=20755543\n",
      "https://accounts.google.com/ServiceLogin?continue=http://draft.blogger.com/followers.g?blogID%3D3756545811499060445%26colors%3DCgt0cmFuc3BhcmVudBILdHJhbnNwYXJlbnQaByM3Nzc3NzciByMzNTYwYWIqByMzNTYwYWIyByMwMDAwMDA6ByM3Nzc3NzdCByMzNTYwYWJKByMwMDAwMDBSByNGRkZGRkZaC3RyYW5zcGFyZW50%26pageSize%3D21%26origin%3Dhttps://www.tafhem.com/%26usegapi%3D1%26jsh%3Dm;/_/scs/apps-static/_/js/k%253Doz.gapi.en_US.4sn9RO63fqo.O/am%253DAQ/d%253D1/rs%253DAGLTcCO5GqPeHrbNQGs79bP09BnjVkdwag/m%253D__features__%26bpli%3D1&amp;followup=http://draft.blogger.com/followers.g?blogID%3D3756545811499060445%26colors%3DCgt0cmFuc3BhcmVudBILdHJhbnNwYXJlbnQaByM3Nzc3NzciByMzNTYwYWIqByMzNTYwYWIyByMwMDAwMDA6ByM3Nzc3NzdCByMzNTYwYWJKByMwMDAwMDBSByNGRkZGRkZaC3RyYW5zcGFyZW50%26pageSize%3D21%26origin%3Dhttps://www.tafhem.com/%26usegapi%3D1%26jsh%3Dm;/_/scs/apps-static/_/js/k%253Doz.gapi.en_US.4sn9RO63fqo.O/am%253DAQ/d%253D1/rs%253DAGLTcCO5GqPeHrbNQGs79bP09BnjVkdwag/m%253D__features__%26bpli%3D1&amp;passive=true&amp;go=true#id=I0_1628033388913&amp;_gfid=I0_1628033388913&amp;parent=https%3A%2F%2Fwww.tafhem.com&amp;pfname=&amp;rpctoken=19508852\n",
      "https://accounts.google.com/_/kids/signup/eligible?hl=fr&amp;_reqid=16133&amp;rt=j\n",
      "https://www.gstatic.com/_/mss/boq-geo/_/js/k=boq-geo.GeoMerchantPrestoSiteUi.en_US.9cHVhqb8VC4.es5.O/ck=boq-geo.GeoMerchantPrestoSiteUi.AqgetGZq0W4.L.F4.O/am=BBEBAAEAAg/d=1/exm=LEikZe,_b,_tp,byfTOb,lsjVmc/excm=_b,_tp,siteview/ed=1/wt=2/rs=AD4das2obQTb7oNv-z1pIl5Ee1BJ_fyeuw/m=n73qwf,ws9Tlc,IZT63,e5qFLc,GkRiKb,vfuNJf,UUJqVe,O1Gjze,xUdipf,blwjVc,fKUV3e,aurFic,COQbmf,U0aPgd,ZwDk9d,V3dDOb,mI3LFb,O6y8ed,PrPYRd,MpJwZc,NwH0H,OmgaI,lazG7b,XVMNvd,L1AAkb,KUM7Z,lfpdyf,hc6Ubd,lwddkf,gychg,w9hDv,RMhBfe,SdcwHb,aW3pY,PQaYAf,SpsfSb,EFQ78c,Ulmmrd,ZfAoz,mdR7q,MdUzUe,xQtZb,lPKSwe,JNoxi,MI6k7c,kjKdXe,yDVVkb,hKSk3e,zbML3c,Uas9Hd,BVgquf,KG2eXe,VwDzFe,A7fCU,pjICDe\n",
      "https://fonts.googleapis.com/icon?family=Material+Icons&amp;ver=2.4.6\n",
      "https://accounts.google.com/ServiceLogin?continue=https://www.blogger.com/followers.g?blogID%3D3512172885516050706%26colors%3DCgt0cmFuc3BhcmVudBILdHJhbnNwYXJlbnQaByMyMTIxMjEiByM2ODMxYzYqByNlY2VjZWMyByMwMDUxYzY6ByMyMTIxMjFCByM2ODMxYzZKByNjNjAwNTFSByM2ODMxYzZaC3RyYW5zcGFyZW50%26pageSize%3D21%26origin%3Dhttps://krdlogoped.blogspot.com/%26usegapi%3D1%26jsh%3Dm;/_/scs/apps-static/_/js/k%253Doz.gapi.en_US.4sn9RO63fqo.O/am%253DAQ/d%253D1/rs%253DAGLTcCO5GqPeHrbNQGs79bP09BnjVkdwag/m%253D__features__%26bpli%3D1&amp;followup=https://www.blogger.com/followers.g?blogID%3D3512172885516050706%26colors%3DCgt0cmFuc3BhcmVudBILdHJhbnNwYXJlbnQaByMyMTIxMjEiByM2ODMxYzYqByNlY2VjZWMyByMwMDUxYzY6ByMyMTIxMjFCByM2ODMxYzZKByNjNjAwNTFSByM2ODMxYzZaC3RyYW5zcGFyZW50%26pageSize%3D21%26origin%3Dhttps://krdlogoped.blogspot.com/%26usegapi%3D1%26jsh%3Dm;/_/scs/apps-static/_/js/k%253Doz.gapi.en_US.4sn9RO63fqo.O/am%253DAQ/d%253D1/rs%253DAGLTcCO5GqPeHrbNQGs79bP09BnjVkdwag/m%253D__features__%26bpli%3D1&amp;passive=true&amp;go=true#id=I0_1628154760955&amp;_gfid=I0_1628154760955&amp;parent=https%3A%2F%2Fkrdlogoped.blogspot.com&amp;pfname=&amp;rpctoken=17213880\n",
      "https://fonts.gstatic.com/s/opensans/v21/mem5YaGs126MiZpBA-UNirkOUuhp.woff2\n",
      "https://apis.google.com/_/scs/apps-static/_/js/k=oz.gapi.en_US.4sn9RO63fqo.O/m=gapi_iframes_style_bubble/exm=gapi_iframes,plusone,profile/rt=j/sv=1/d=1/ed=1/am=AQ/rs=AGLTcCO5GqPeHrbNQGs79bP09BnjVkdwag/cb=gapi.loaded_3?le=ili,ipu\n",
      "https://accounts.google.com/_/kids/signup/eligible?hl=fr&amp;_reqid=25913&amp;rt=j\n",
      "https://accounts.google.com/signin/v2/_/common/diagnostics/?diagnostics=%5B%5B%5B%22gaia_fe_minutemaid%3Ass%22%2Cnull%2Cnull%2Cnull%2C1628290804807%5D%5D%5D&amp;rt=j\n",
      "https://accounts.google.com/o/oauth2/auth/_/common/diagnostics/?diagnostics=%5B%5B%5B%22gaia_fe_minutemaid%3Ass%22%2Cnull%2Cnull%2Cnull%2C1628191326530%5D%5D%5D&amp;rt=j\n",
      "https://accounts.google.com/signin/v2/_/common/diagnostics/?diagnostics=%5B%5B%5B%22gaia_fe_minutemaid%3Ass%22%2Cnull%2Cnull%2Cnull%2C1628544469365%5D%5D%5D&amp;rt=j\n",
      "https://fonts.gstatic.com/s/oswald/v38/TK3_WkUHHAIjg75cFRf3bXL8LICs1_FvsUhiZTaR.woff2\n",
      "https://fonts.gstatic.com/s/opensans/v23/mem8YaGs126MiZpBA-UFVZ0b.woff2\n",
      "https://accounts.google.com/_/kids/signup/eligible?hl=fr&amp;_reqid=41735&amp;rt=j\n",
      "https://apis.google.com/_/scs/apps-static/_/js/k=oz.gapi.en_US.4sn9RO63fqo.O/m=gapi_iframes,gapi_iframes_style_common/exm=plusone/rt=j/sv=1/d=1/ed=1/am=AQ/rs=AGLTcCO5GqPeHrbNQGs79bP09BnjVkdwag/cb=gapi.loaded_1?le=ili,ipu\n",
      "https://accounts.google.com/ServiceLogin?continue=https://www.blogger.com/followers.g?blogID%3D3756545811499060445%26colors%3DCgt0cmFuc3BhcmVudBILdHJhbnNwYXJlbnQaByM3Nzc3NzciByMzNTYwYWIqByMzNTYwYWIyByMwMDAwMDA6ByM3Nzc3NzdCByMzNTYwYWJKByMwMDAwMDBSByNGRkZGRkZaC3RyYW5zcGFyZW50%26pageSize%3D21%26origin%3Dhttps://www.tafhem.com/%26usegapi%3D1%26jsh%3Dm;/_/scs/apps-static/_/js/k%253Doz.gapi.en_US.4sn9RO63fqo.O/am%253DAQ/d%253D1/rs%253DAGLTcCO5GqPeHrbNQGs79bP09BnjVkdwag/m%253D__features__%26bpli%3D1&amp;followup=https://www.blogger.com/followers.g?blogID%3D3756545811499060445%26colors%3DCgt0cmFuc3BhcmVudBILdHJhbnNwYXJlbnQaByM3Nzc3NzciByMzNTYwYWIqByMzNTYwYWIyByMwMDAwMDA6ByM3Nzc3NzdCByMzNTYwYWJKByMwMDAwMDBSByNGRkZGRkZaC3RyYW5zcGFyZW50%26pageSize%3D21%26origin%3Dhttps://www.tafhem.com/%26usegapi%3D1%26jsh%3Dm;/_/scs/apps-static/_/js/k%253Doz.gapi.en_US.4sn9RO63fqo.O/am%253DAQ/d%253D1/rs%253DAGLTcCO5GqPeHrbNQGs79bP09BnjVkdwag/m%253D__features__%26bpli%3D1&amp;passive=true&amp;go=true#id=I0_1628728213276&amp;_gfid=I0_1628728213276&amp;parent=https%3A%2F%2Fwww.tafhem.com&amp;pfname=&amp;rpctoken=17614770\n",
      "https://accounts.google.com/_/kids/signup/eligible?hl=fr&amp;_reqid=47881&amp;rt=j\n",
      "https://fonts.gstatic.com/s/googlesans/v14/4UaGrENHsxJlGDuGo1OIlL3Owp4.woff2\n",
      "https://fonts.gstatic.com/s/lato/v17/S6uyw4BMUTPHjxAwXjeu.woff2\n",
      "https://fonts.googleapis.com/css?family=Lobster%7CDosis:500%7CDosis:700\n",
      "https://accounts.google.com/o/oauth2/auth/_/common/diagnostics/?diagnostics=%5B%5B%5B%22gaia_fe_minutemaid%3Ass%22%2Cnull%2Cnull%2Cnull%2C1628328756212%5D%5D%5D&amp;rt=j\n",
      "https://www.gstatic.com/devrel-devsite/prod/v0089c83aa8227c3439bf2708c0795dd13db533711d44eb626e640152d9fdf05e/js/devsite_devsite_spinner_module.js\n",
      "https://accounts.google.com/_/kids/signup/eligible?hl=fr&amp;_reqid=41268&amp;rt=j\n",
      "https://fonts.googleapis.com/css?family=Roboto:100,300,400,500,700|Google+Sans:400,500|Product+Sans:400&amp;lang=en\n",
      "https://accounts.google.com/o/oauth2/auth/_/common/diagnostics/?diagnostics=%5B%5B%5B%22gaia_fe_minutemaid%3Ass%22%2Cnull%2Cnull%2Cnull%2C1628101236130%5D%5D%5D&amp;rt=j\n",
      "https://fonts.gstatic.com/s/montserrat/v15/JTUSjIg1_i6t8kCHKm459Wlhyw.woff2\n",
      "https://accounts.google.com/o/oauth2/auth/_/common/diagnostics/?diagnostics=%5B%5B%5B%22gaia_fe_minutemaid%3Ass%22%2Cnull%2Cnull%2Cnull%2C1628587813748%5D%5D%5D&amp;rt=j\n",
      "https://lh3.googleusercontent.com/a-/AOh14GjDsESy1PwI1T8ARdH4iJkoEathNcUC-xMMwzHe=s96-p\n",
      "https://fonts.gstatic.com/s/opensans/v20/mem8YaGs126MiZpBA-UFWp0bbck.woff2\n",
      "https://fonts.gstatic.com/s/montserrat/v15/JTURjIg1_i6t8kCHKm45_bZF3gnD_g.woff2\n",
      "https://lh3.googleusercontent.com/p/AF1QipOYOtpMWSAp2pVucA06sbXwAW216Gg78GEPfHd7=s1280-p-no-v1\n",
      "https://fonts.gstatic.com/s/googlesansdisplay/v15/ea8FacM9Wef3EJPWRrHjgE4B6CnlZxHVDv79oQ.woff2\n",
      "https://fonts.googleapis.com/css?family=Prompt:300,400,600&amp;display=swap\n",
      "https://fonts.gstatic.com/s/oswald/v39/TK3_WkUHHAIjg75cFRf3bXL8LICs1_FvsUJiZTaR.woff2\n",
      "https://fonts.gstatic.com/s/librebaskerville/v9/kmKiZrc3Hgbbcjq75U4uslyuy4kn0qviTgY3KcA.woff2\n",
      "https://fonts.googleapis.com/css?family=Oswald\n",
      "https://accounts.google.com/_/kids/signup/eligible?hl=fr&amp;_reqid=55924&amp;rt=j\n",
      "https://www.gstatic.com/brandstudio/kato/cookie_choice_component/cookie_consent_bar.v3.js\n",
      "https://lh3.googleusercontent.com/proxy/rk5rhZGzg1WCmYBG7EjHqpxOd9iWEB1mht2WDLkMd3NJ5gJ5DS3WbbsFeFop6vXvzErgbruIwteR4L_eaPdW3tiw9LjKQ-22VFHt4OaysOvsmN_haFKru63VPTqPF1oqzaSaX7PTL-g5jG0=w72-h72-p-k-no-nu\n",
      "https://fonts.gstatic.com/s/opensans/v23/memnYaGs126MiZpBA-UFUKWyV9hrIqM.woff2\n",
      "https://fonts.googleapis.com/css?family=Assistant%3A300%2C400%2C600%7COpen+Sans%3A400%2C600%2C700%2C800&amp;ver=137fe87f4c7c950bc87c2f23ea454b48\n",
      "https://accounts.google.com/o/oauth2/auth/_/common/diagnostics/?diagnostics=%5B%5B%5B%22gaia_fe_minutemaid%3Ass%22%2Cnull%2Cnull%2Cnull%2C1627985365959%5D%5D%5D&amp;rt=j\n",
      "https://accounts.google.com/ServiceLogin?continue=https://www.blogger.com/followers.g?blogID%3D3756545811499060445%26colors%3DCgt0cmFuc3BhcmVudBILdHJhbnNwYXJlbnQaByM3Nzc3NzciByMzNTYwYWIqByMzNTYwYWIyByMwMDAwMDA6ByM3Nzc3NzdCByMzNTYwYWJKByMwMDAwMDBSByNGRkZGRkZaC3RyYW5zcGFyZW50%26pageSize%3D21%26origin%3Dhttps://www.tafhem.com/%26usegapi%3D1%26jsh%3Dm;/_/scs/apps-static/_/js/k%253Doz.gapi.en_US.4sn9RO63fqo.O/am%253DAQ/d%253D1/rs%253DAGLTcCO5GqPeHrbNQGs79bP09BnjVkdwag/m%253D__features__%26bpli%3D1&amp;followup=https://www.blogger.com/followers.g?blogID%3D3756545811499060445%26colors%3DCgt0cmFuc3BhcmVudBILdHJhbnNwYXJlbnQaByM3Nzc3NzciByMzNTYwYWIqByMzNTYwYWIyByMwMDAwMDA6ByM3Nzc3NzdCByMzNTYwYWJKByMwMDAwMDBSByNGRkZGRkZaC3RyYW5zcGFyZW50%26pageSize%3D21%26origin%3Dhttps://www.tafhem.com/%26usegapi%3D1%26jsh%3Dm;/_/scs/apps-static/_/js/k%253Doz.gapi.en_US.4sn9RO63fqo.O/am%253DAQ/d%253D1/rs%253DAGLTcCO5GqPeHrbNQGs79bP09BnjVkdwag/m%253D__features__%26bpli%3D1&amp;passive=true&amp;go=true#id=I0_1628319173232&amp;_gfid=I0_1628319173232&amp;parent=https%3A%2F%2Fwww.tafhem.com&amp;pfname=&amp;rpctoken=42096872\n",
      "https://accounts.google.com/_/kids/signup/eligible?hl=fr&amp;_reqid=19233&amp;rt=j\n",
      "https://fonts.gstatic.com/s/merriweather/v24/u-440qyriQwlOrhSvowK_l5-fCZJ.ttf\n",
      "https://fonts.gstatic.com/s/opensans/v23/mem5YaGs126MiZpBA-UN7rgOUuhp.woff2\n",
      "https://accounts.google.com/_/kids/signup/eligible?hl=fr&amp;_reqid=33109&amp;rt=j\n",
      "https://fonts.gstatic.com/s/montserrat/v18/JTURjIg1_i6t8kCHKm45_dJE3gnD_g.woff2\n",
      "https://fonts.gstatic.com/s/roboto/v27/KFOlCnqEu92Fr1MmYUtfABc4EsA.woff2\n",
      "https://fonts.googleapis.com/icon?family=Material+Icons+Extended\n",
      "https://accounts.google.com/o/oauth2/auth/_/common/diagnostics/?diagnostics=%5B%5B%5B%22gaia_fe_minutemaid%3Ass%22%2Cnull%2Cnull%2Cnull%2C1628170429314%5D%5D%5D&amp;rt=j\n",
      "https://fonts.gstatic.com/s/googlesans/v27/4UabrENHsxJlGDuGo1OIlLV154tzCwY.woff2\n",
      "https://fonts.googleapis.com/css?family=Muli:300,300i,400,400i,500,600\n",
      "https://fonts.googleapis.com/css?family=Raleway%3A400%7COpen+Sans%3A300italic%2C400%2C400italic%2C600%2C600italic%2C700%7CRoboto%3A300%2C400%2C400italic%2C500%2C500italic%2C700%2C900&amp;subset=cyrillic&amp;ver=8.1.1\n",
      "https://accounts.google.com/ServiceLogin?continue=https://www.blogger.com/followers.g?blogID%3D6949068298798094008%26colors%3DCgt0cmFuc3BhcmVudBILdHJhbnNwYXJlbnQaByMwMDAwMDAiByMwMDAwMDAqByNGRkZGRkYyByMwMDAwMDA6ByMwMDAwMDBCByMwMDAwMDBKByMwMDAwMDBSByNGRkZGRkZaC3RyYW5zcGFyZW50%26pageSize%3D21%26origin%3Dhttps://aneukrantau30.blogspot.com/%26usegapi%3D1%26jsh%3Dm;/_/scs/apps-static/_/js/k%253Doz.gapi.en_US.4sn9RO63fqo.O/am%253DAQ/d%253D1/rs%253DAGLTcCO5GqPeHrbNQGs79bP09BnjVkdwag/m%253D__features__%26bpli%3D1&amp;followup=https://www.blogger.com/followers.g?blogID%3D6949068298798094008%26colors%3DCgt0cmFuc3BhcmVudBILdHJhbnNwYXJlbnQaByMwMDAwMDAiByMwMDAwMDAqByNGRkZGRkYyByMwMDAwMDA6ByMwMDAwMDBCByMwMDAwMDBKByMwMDAwMDBSByNGRkZGRkZaC3RyYW5zcGFyZW50%26pageSize%3D21%26origin%3Dhttps://aneukrantau30.blogspot.com/%26usegapi%3D1%26jsh%3Dm;/_/scs/apps-static/_/js/k%253Doz.gapi.en_US.4sn9RO63fqo.O/am%253DAQ/d%253D1/rs%253DAGLTcCO5GqPeHrbNQGs79bP09BnjVkdwag/m%253D__features__%26bpli%3D1&amp;passive=true&amp;go=true#id=I0_1628228966453&amp;_gfid=I0_1628228966453&amp;parent=https%3A%2F%2Faneukrantau30.blogspot.com&amp;pfname=&amp;rpctoken=34486381\n",
      "https://fonts.gstatic.com/s/ibmplexsans/v8/zYX9KVElMYYaJe8bpLHnCwDKjQ76AIFsdA.woff2\n",
      "https://fonts.googleapis.com/css?family=Google%20Sans%3A400%2C700\n",
      "https://fonts.gstatic.com/s/opensans/v20/mem8YaGs126MiZpBA-UFW50bbck.woff2\n",
      "https://lh3.googleusercontent.com/a-/AOh14GhD7Ak6zu_E7X9YEb-R8Bm-Q5ZX_Hj6kmGViPf_rQ=s96-p\n",
      "https://fonts.gstatic.com/s/materialicons/v95/flUhRq6tzZclQEJ-Vdg-IuiaDsNc.woff2\n",
      "https://accounts.google.com/ServiceLogin?continue=https://www.blogger.com/followers.g?blogID%3D6949068298798094008%26colors%3DCgt0cmFuc3BhcmVudBILdHJhbnNwYXJlbnQaByMwMDAwMDAiByMwMDAwMDAqByNGRkZGRkYyByMwMDAwMDA6ByMwMDAwMDBCByMwMDAwMDBKByMwMDAwMDBSByNGRkZGRkZaC3RyYW5zcGFyZW50%26pageSize%3D21%26origin%3Dhttps://aneukrantau30.blogspot.com/%26usegapi%3D1%26jsh%3Dm;/_/scs/apps-static/_/js/k%253Doz.gapi.en_US.4sn9RO63fqo.O/am%253DAQ/d%253D1/rs%253DAGLTcCO5GqPeHrbNQGs79bP09BnjVkdwag/m%253D__features__%26bpli%3D1&amp;followup=https://www.blogger.com/followers.g?blogID%3D6949068298798094008%26colors%3DCgt0cmFuc3BhcmVudBILdHJhbnNwYXJlbnQaByMwMDAwMDAiByMwMDAwMDAqByNGRkZGRkYyByMwMDAwMDA6ByMwMDAwMDBCByMwMDAwMDBKByMwMDAwMDBSByNGRkZGRkZaC3RyYW5zcGFyZW50%26pageSize%3D21%26origin%3Dhttps://aneukrantau30.blogspot.com/%26usegapi%3D1%26jsh%3Dm;/_/scs/apps-static/_/js/k%253Doz.gapi.en_US.4sn9RO63fqo.O/am%253DAQ/d%253D1/rs%253DAGLTcCO5GqPeHrbNQGs79bP09BnjVkdwag/m%253D__features__%26bpli%3D1&amp;passive=true&amp;go=true#id=I0_1628084989210&amp;_gfid=I0_1628084989210&amp;parent=https%3A%2F%2Faneukrantau30.blogspot.com&amp;pfname=&amp;rpctoken=17019926\n",
      "https://fonts.gstatic.com/s/muli/v22/7Aulp_0qiz-aVz7u3PJLcUMYOFmQkEk30eg.woff2\n",
      "https://fonts.gstatic.com/s/hind/v11/5aU19_a8oxmIfNJdERySjQ.woff2\n",
      "https://fonts.gstatic.com/s/assistant/v7/2sDPZGJYnIjSi6H75xkZZE1I0yCmYzzQtjhgIGaV3w.woff2\n",
      "https://fonts.googleapis.com/css?family=Source+Sans+Pro:300,300i,400,400i,700%7CKadwa:400,700\n",
      "https://accounts.google.com/_/kids/signup/eligible?hl=fr&amp;_reqid=65327&amp;rt=j\n",
      "https://fonts.gstatic.com/s/sourcesanspro/v14/6xKydSBYKcSV-LCoeQqfX1RYOo3ig4vwlxdu.woff2\n",
      "https://fonts.gstatic.com/s/opensans/v23/mem8YaGs126MiZpBA-UFW50bbck.woff2\n",
      "https://fonts.gstatic.com/s/opensans/v22/mem5YaGs126MiZpBA-UN_r8OXOhpOqc.woff2\n",
      "https://www.gstatic.com/og/_/js/k=og.qtm.en_US.38L9F6mYc1U.O/rt=j/m=qabr,q_d,qcwid,qapid,qald/exm=qaaw,qadd,qaid,qein,qhaw,qhbr,qhch,qhga,qhid,qhin,qhpr/d=1/ed=1/rs=AA2YrTsOqmng0D__mtPtmMyv2hH_VU6AQw\n",
      "https://www.gstatic.com/charts/51/js/jsapi_compiled_default_module.js\n",
      "https://fonts.gstatic.com/s/vollkorn/v13/0ybuGDoxxrvAnPhYGxksckM2WMCpRjDj-DJGWlmeObQ.woff2\n",
      "https://fonts.googleapis.com/css?family=Fira+Sans+Condensed:400,700&amp;display=swap\n",
      "https://accounts.google.com/signin/v2/_/common/diagnostics/?diagnostics=%5B%5B%5B%22gaia_fe_minutemaid%3Ass%22%2Cnull%2Cnull%2Cnull%2C1628096292032%5D%5D%5D&amp;rt=j\n",
      "https://lh3.googleusercontent.com/wZdiydJip8BpsMtTuyzCxwYPNXx7CoW-3Fyup4x-SfzjWQA1Is38v0Vf5JuH3kjIUt-cg6tsGW6V=w270-h479-no\n",
      "https://accounts.google.com/ServiceLogin?continue=https://www.blogger.com/followers.g?blogID%3D3756545811499060445%26colors%3DCgt0cmFuc3BhcmVudBILdHJhbnNwYXJlbnQaByM3Nzc3NzciByMzNTYwYWIqByMzNTYwYWIyByMwMDAwMDA6ByM3Nzc3NzdCByMzNTYwYWJKByMwMDAwMDBSByNGRkZGRkZaC3RyYW5zcGFyZW50%26pageSize%3D21%26origin%3Dhttps://www.tafhem.com/%26usegapi%3D1%26jsh%3Dm;/_/scs/apps-static/_/js/k%253Doz.gapi.en_US.4sn9RO63fqo.O/am%253DAQ/d%253D1/rs%253DAGLTcCO5GqPeHrbNQGs79bP09BnjVkdwag/m%253D__features__%26bpli%3D1&amp;followup=https://www.blogger.com/followers.g?blogID%3D3756545811499060445%26colors%3DCgt0cmFuc3BhcmVudBILdHJhbnNwYXJlbnQaByM3Nzc3NzciByMzNTYwYWIqByMzNTYwYWIyByMwMDAwMDA6ByM3Nzc3NzdCByMzNTYwYWJKByMwMDAwMDBSByNGRkZGRkZaC3RyYW5zcGFyZW50%26pageSize%3D21%26origin%3Dhttps://www.tafhem.com/%26usegapi%3D1%26jsh%3Dm;/_/scs/apps-static/_/js/k%253Doz.gapi.en_US.4sn9RO63fqo.O/am%253DAQ/d%253D1/rs%253DAGLTcCO5GqPeHrbNQGs79bP09BnjVkdwag/m%253D__features__%26bpli%3D1&amp;passive=true&amp;go=true#id=I0_1628130059681&amp;_gfid=I0_1628130059681&amp;parent=https%3A%2F%2Fwww.tafhem.com&amp;pfname=&amp;rpctoken=14318147\n",
      "https://fonts.googleapis.com/css?family=Roboto%3A300%2C400%2C500\n",
      "https://accounts.google.com/ServiceLogin?continue=https://www.blogger.com/followers.g?blogID%3D6949068298798094008%26colors%3DCgt0cmFuc3BhcmVudBILdHJhbnNwYXJlbnQaByMwMDAwMDAiByMwMDAwMDAqByNGRkZGRkYyByMwMDAwMDA6ByMwMDAwMDBCByMwMDAwMDBKByMwMDAwMDBSByNGRkZGRkZaC3RyYW5zcGFyZW50%26pageSize%3D21%26origin%3Dhttps://aneukrantau30.blogspot.com/%26usegapi%3D1%26jsh%3Dm;/_/scs/apps-static/_/js/k%253Doz.gapi.en_US.4sn9RO63fqo.O/am%253DAQ/d%253D1/rs%253DAGLTcCO5GqPeHrbNQGs79bP09BnjVkdwag/m%253D__features__%26bpli%3D1&amp;followup=https://www.blogger.com/followers.g?blogID%3D6949068298798094008%26colors%3DCgt0cmFuc3BhcmVudBILdHJhbnNwYXJlbnQaByMwMDAwMDAiByMwMDAwMDAqByNGRkZGRkYyByMwMDAwMDA6ByMwMDAwMDBCByMwMDAwMDBKByMwMDAwMDBSByNGRkZGRkZaC3RyYW5zcGFyZW50%26pageSize%3D21%26origin%3Dhttps://aneukrantau30.blogspot.com/%26usegapi%3D1%26jsh%3Dm;/_/scs/apps-static/_/js/k%253Doz.gapi.en_US.4sn9RO63fqo.O/am%253DAQ/d%253D1/rs%253DAGLTcCO5GqPeHrbNQGs79bP09BnjVkdwag/m%253D__features__%26bpli%3D1&amp;passive=true&amp;go=true#id=I0_1628245124216&amp;_gfid=I0_1628245124216&amp;parent=https%3A%2F%2Faneukrantau30.blogspot.com&amp;pfname=&amp;rpctoken=24580382\n",
      "https://www.gstatic.com/_/mss/boq-geo/_/js/k=boq-geo.GeoMerchantPrestoSiteUi.en_US.9cHVhqb8VC4.es5.O/ck=boq-geo.GeoMerchantPrestoSiteUi.AqgetGZq0W4.L.F4.O/am=BBEBAAEAAg/d=1/exm=A7fCU,BVgquf,COQbmf,EFQ78c,GkRiKb,IZT63,JNoxi,KG2eXe,KUM7Z,L1AAkb,LEikZe,MI6k7c,MdUzUe,MpJwZc,NwH0H,O1Gjze,O6y8ed,OmgaI,PQaYAf,PrPYRd,RMhBfe,SdcwHb,SpsfSb,U0aPgd,UUJqVe,Uas9Hd,Ulmmrd,V3dDOb,VwDzFe,XVMNvd,ZfAoz,ZwDk9d,_b,_tp,aW3pY,aurFic,blwjVc,byfTOb,e5qFLc,fKUV3e,gychg,hKSk3e,hc6Ubd,kjKdXe,lPKSwe,lazG7b,lfpdyf,lsjVmc,lwddkf,mI3LFb,mdR7q,n73qwf,pjICDe,vfuNJf,w9hDv,ws9Tlc,xQtZb,xUdipf,yDVVkb,zbML3c/excm=_b,_tp,siteview/ed=1/wt=2/rs=AD4das2obQTb7oNv-z1pIl5Ee1BJ_fyeuw/m=A4UTCb,hr05tc,JbzNG,EGNJFf,iSvg6e,uY3Nvd\n",
      "https://accounts.google.com/ServiceLogin?continue=https://www.blogger.com/followers.g?blogID%3D3512172885516050706%26colors%3DCgt0cmFuc3BhcmVudBILdHJhbnNwYXJlbnQaByMyMTIxMjEiByM2ODMxYzYqByNlY2VjZWMyByMwMDUxYzY6ByMyMTIxMjFCByM2ODMxYzZKByNjNjAwNTFSByM2ODMxYzZaC3RyYW5zcGFyZW50%26pageSize%3D21%26origin%3Dhttps://krdlogoped.blogspot.com/%26usegapi%3D1%26jsh%3Dm;/_/scs/apps-static/_/js/k%253Doz.gapi.en_US.4sn9RO63fqo.O/am%253DAQ/d%253D1/rs%253DAGLTcCO5GqPeHrbNQGs79bP09BnjVkdwag/m%253D__features__%26bpli%3D1&amp;followup=https://www.blogger.com/followers.g?blogID%3D3512172885516050706%26colors%3DCgt0cmFuc3BhcmVudBILdHJhbnNwYXJlbnQaByMyMTIxMjEiByM2ODMxYzYqByNlY2VjZWMyByMwMDUxYzY6ByMyMTIxMjFCByM2ODMxYzZKByNjNjAwNTFSByM2ODMxYzZaC3RyYW5zcGFyZW50%26pageSize%3D21%26origin%3Dhttps://krdlogoped.blogspot.com/%26usegapi%3D1%26jsh%3Dm;/_/scs/apps-static/_/js/k%253Doz.gapi.en_US.4sn9RO63fqo.O/am%253DAQ/d%253D1/rs%253DAGLTcCO5GqPeHrbNQGs79bP09BnjVkdwag/m%253D__features__%26bpli%3D1&amp;passive=true&amp;go=true#id=I0_1628327393757&amp;_gfid=I0_1628327393757&amp;parent=https%3A%2F%2Fkrdlogoped.blogspot.com&amp;pfname=&amp;rpctoken=28316175\n",
      "https://fonts.googleapis.com/css?family=Google%20Sans%3A400%2C500%2C700\n",
      "https://fonts.gstatic.com/s/asap/v15/KFO9CniXp96a4Tc2EZzSuDAoKsHd0ZhJW34.woff2\n",
      "https://accounts.google.com/o/oauth2/auth/_/common/diagnostics/?diagnostics=%5B%5B%5B%22gaia_fe_minutemaid%3Ass%22%2Cnull%2Cnull%2Cnull%2C1628812941075%5D%5D%5D&amp;rt=j\n",
      "https://www.gstatic.com/devrel-devsite/prod/v0492b3db79b8927fe2347ea2dc87c471b22f173331622ffd10334837d43ea37f/js/devsite_devsite_select_module.js\n",
      "https://fonts.gstatic.com/s/ubuntu/v15/4iCv6KVjbNBYlgoCjC3jsGyI.ttf\n",
      "https://accounts.google.com/signin/v2/_/common/diagnostics/?diagnostics=%5B%5B%5B%22gaia_fe_minutemaid%3Ass%22%2Cnull%2Cnull%2Cnull%2C1628076913797%5D%5D%5D&amp;rt=j\n",
      "https://fonts.googleapis.com/css?family=Raleway:300,400,500|Roboto:400&amp;lang=en\n",
      "https://accounts.google.com/_/kids/signup/eligible?hl=fr&amp;_reqid=33568&amp;rt=j\n",
      "https://fonts.gstatic.com/s/notosans/v14/o-0IIpQlx3QUlC5A4PNr5TRA.woff2\n",
      "https://fonts.googleapis.com/css?family=Montserrat:700,400|Droid+Serif:400,400italic|Varela+Round\n",
      "https://www.gstatic.com/devrel-devsite/prod/v0492b3db79b8927fe2347ea2dc87c471b22f173331622ffd10334837d43ea37f/nest/images/lockup.svg\n",
      "https://lh3.googleusercontent.com/p/AF1QipP_pCc1ylbs8IIdvGSbJTChNiMkzNAbzNm0XzYH=s1280-p-no-v1\n",
      "https://accounts.google.com/ServiceLogin?continue=https://www.blogger.com/followers.g?blogID%3D3512172885516050706%26colors%3DCgt0cmFuc3BhcmVudBILdHJhbnNwYXJlbnQaByMyMTIxMjEiByM2ODMxYzYqByNlY2VjZWMyByMwMDUxYzY6ByMyMTIxMjFCByM2ODMxYzZKByNjNjAwNTFSByM2ODMxYzZaC3RyYW5zcGFyZW50%26pageSize%3D21%26origin%3Dhttps://krdlogoped.blogspot.com/%26usegapi%3D1%26jsh%3Dm;/_/scs/apps-static/_/js/k%253Doz.gapi.en_US.4sn9RO63fqo.O/am%253DAQ/d%253D1/rs%253DAGLTcCO5GqPeHrbNQGs79bP09BnjVkdwag/m%253D__features__%26bpli%3D1&amp;followup=https://www.blogger.com/followers.g?blogID%3D3512172885516050706%26colors%3DCgt0cmFuc3BhcmVudBILdHJhbnNwYXJlbnQaByMyMTIxMjEiByM2ODMxYzYqByNlY2VjZWMyByMwMDUxYzY6ByMyMTIxMjFCByM2ODMxYzZKByNjNjAwNTFSByM2ODMxYzZaC3RyYW5zcGFyZW50%26pageSize%3D21%26origin%3Dhttps://krdlogoped.blogspot.com/%26usegapi%3D1%26jsh%3Dm;/_/scs/apps-static/_/js/k%253Doz.gapi.en_US.4sn9RO63fqo.O/am%253DAQ/d%253D1/rs%253DAGLTcCO5GqPeHrbNQGs79bP09BnjVkdwag/m%253D__features__%26bpli%3D1&amp;passive=true&amp;go=true#id=I0_1628284220149&amp;_gfid=I0_1628284220149&amp;parent=https%3A%2F%2Fkrdlogoped.blogspot.com&amp;pfname=&amp;rpctoken=36242620\n",
      "https://apis.google.com/_/scs/apps-static/_/js/k=oz.gapi.en_US.4sn9RO63fqo.O/m=gapi_iframes_style_common/rt=j/sv=1/d=1/ed=1/am=AQ/rs=AGLTcCO5GqPeHrbNQGs79bP09BnjVkdwag/cb=gapi.loaded_0?le=ili,ipu\n",
      "https://lh3.googleusercontent.com/ci846VdXwxBDZGDsFbXHJUSOb9bZLb2wbjuteNUfhI38u5bLOrQwF4AqLQY3lKyn7gAi3BC7N6VC5Vrprg=w960-h960-n-o-v1\n",
      "https://fonts.gstatic.com/s/lato/v18/S6uyw4BMUTPHjx4wXg.woff2\n",
      "https://fonts.googleapis.com/css2?family=Nunito:wght@400;600;700&amp;display=swap\n",
      "https://accounts.google.com/signin/v2/_/common/diagnostics/?diagnostics=%5B%5B%5B%22gaia_fe_minutemaid%3Ass%22%2Cnull%2Cnull%2Cnull%2C1628085190551%5D%5D%5D&amp;rt=j\n",
      "https://fonts.gstatic.com/s/montserrat/v18/JTUSjIg1_i6t8kCHKm459Wlhyw.woff2\n",
      "https://lh3.googleusercontent.com/gQ3fzf7Zd7bP-w5Vx0pKumRfpWVJSVQFry5efdR8Zr6kDzDyE2-hKz1yIHwDLiGGAZX8wCOToxq3=w700-h525-no\n",
      "https://accounts.google.com/ServiceLogin?continue=https://www.blogger.com/followers.g?blogID%3D3512172885516050706%26colors%3DCgt0cmFuc3BhcmVudBILdHJhbnNwYXJlbnQaByMyMTIxMjEiByM2ODMxYzYqByNlY2VjZWMyByMwMDUxYzY6ByMyMTIxMjFCByM2ODMxYzZKByNjNjAwNTFSByM2ODMxYzZaC3RyYW5zcGFyZW50%26pageSize%3D21%26origin%3Dhttps://krdlogoped.blogspot.com/%26usegapi%3D1%26jsh%3Dm;/_/scs/apps-static/_/js/k%253Doz.gapi.en_US.4sn9RO63fqo.O/am%253DAQ/d%253D1/rs%253DAGLTcCO5GqPeHrbNQGs79bP09BnjVkdwag/m%253D__features__%26bpli%3D1&amp;followup=https://www.blogger.com/followers.g?blogID%3D3512172885516050706%26colors%3DCgt0cmFuc3BhcmVudBILdHJhbnNwYXJlbnQaByMyMTIxMjEiByM2ODMxYzYqByNlY2VjZWMyByMwMDUxYzY6ByMyMTIxMjFCByM2ODMxYzZKByNjNjAwNTFSByM2ODMxYzZaC3RyYW5zcGFyZW50%26pageSize%3D21%26origin%3Dhttps://krdlogoped.blogspot.com/%26usegapi%3D1%26jsh%3Dm;/_/scs/apps-static/_/js/k%253Doz.gapi.en_US.4sn9RO63fqo.O/am%253DAQ/d%253D1/rs%253DAGLTcCO5GqPeHrbNQGs79bP09BnjVkdwag/m%253D__features__%26bpli%3D1&amp;passive=true&amp;go=true#id=I0_1628222812233&amp;_gfid=I0_1628222812233&amp;parent=https%3A%2F%2Fkrdlogoped.blogspot.com&amp;pfname=&amp;rpctoken=71998066\n",
      "https://www.gstatic.com/devrel-devsite/prod/v0089c83aa8227c3439bf2708c0795dd13db533711d44eb626e640152d9fdf05e/js/devsite_devsite_a11y_announce_module.js\n",
      "https://accounts.google.com/o/oauth2/auth/_/common/diagnostics/?diagnostics=%5B%5B%5B%22gaia_fe_minutemaid%3Ass%22%2Cnull%2Cnull%2Cnull%2C1628319415727%5D%5D%5D&amp;rt=j\n",
      "https://fonts.gstatic.com/s/roboto/v27/KFOlCnqEu92Fr1MmEU9fCxc4EsA.woff2\n",
      "https://accounts.google.com/ServiceLogin?continue=https://www.blogger.com/followers.g?blogID%3D1719811995182941521%26colors%3DCgt0cmFuc3BhcmVudBILdHJhbnNwYXJlbnQaByMyMjIyMjIiByM5OTMzMDAqByNmZmY5ZWUyByMwMDAwMDA6ByMyMjIyMjJCByM5OTMzMDBKByM5OTk5OTlSByM5OTMzMDBaC3RyYW5zcGFyZW50%26pageSize%3D21%26origin%3Dhttps://makalebilgi.blogspot.com/%26usegapi%3D1%26jsh%3Dm;/_/scs/apps-static/_/js/k%253Doz.gapi.en_US.4sn9RO63fqo.O/am%253DAQ/d%253D1/rs%253DAGLTcCO5GqPeHrbNQGs79bP09BnjVkdwag/m%253D__features__%26bpli%3D1&amp;followup=https://www.blogger.com/followers.g?blogID%3D1719811995182941521%26colors%3DCgt0cmFuc3BhcmVudBILdHJhbnNwYXJlbnQaByMyMjIyMjIiByM5OTMzMDAqByNmZmY5ZWUyByMwMDAwMDA6ByMyMjIyMjJCByM5OTMzMDBKByM5OTk5OTlSByM5OTMzMDBaC3RyYW5zcGFyZW50%26pageSize%3D21%26origin%3Dhttps://makalebilgi.blogspot.com/%26usegapi%3D1%26jsh%3Dm;/_/scs/apps-static/_/js/k%253Doz.gapi.en_US.4sn9RO63fqo.O/am%253DAQ/d%253D1/rs%253DAGLTcCO5GqPeHrbNQGs79bP09BnjVkdwag/m%253D__features__%26bpli%3D1&amp;passive=true&amp;go=true#id=I0_1628101099932&amp;_gfid=I0_1628101099932&amp;parent=https%3A%2F%2Fmakalebilgi.blogspot.com&amp;pfname=&amp;rpctoken=20427516\n",
      "https://lh3.googleusercontent.com/a-/AOh14GjVUEhVsRsURiPlUvN5E0Z9OBKMfmUutUSSLwwD0g=s96-p\n",
      "https://accounts.google.com/_/kids/signup/eligible?hl=fr&amp;_reqid=84055&amp;rt=j\n",
      "https://fonts.gstatic.com/s/montserrat/v16/JTURjIg1_i6t8kCHKm45_cJD3gnD_g.woff2\n",
      "https://accounts.google.com/signin/v2/_/common/diagnostics/?diagnostics=%5B%5B%5B%22gaia_fe_minutemaid%3Ass%22%2Cnull%2Cnull%2Cnull%2C1628811934372%5D%5D%5D&amp;rt=j\n",
      "https://www.gstatic.com/external_hosted/scrollmagic/ScrollMagic.min.js\n",
      "https://fonts.gstatic.com/s/abrilfatface/v12/zOL64pLDlL1D99S8g8PtiKchq-dmjQ.woff2\n",
      "https://www.gstatic.com/devrel-devsite/prod/v0492b3db79b8927fe2347ea2dc87c471b22f173331622ffd10334837d43ea37f/js/devsite_devsite_toc_module.js\n",
      "https://www.gstatic.com/og/_/ss/k=og.qtm.XPsaP_AQlzo.L.F4.O/m=qcwid/excm=qaaw,qadd,qaid,qein,qhaw,qhbr,qhch,qhga,qhid,qhin,qhpr/d=1/ed=1/ct=zgms/rs=AA2YrTvPFDX0ClpRbAjllPdRC-SIUvuv9Q\n",
      "https://accounts.google.com/_/kids/signup/eligible?hl=fr&amp;_reqid=81151&amp;rt=j\n",
      "https://accounts.google.com/ServiceLogin?continue=https://www.blogger.com/followers.g?blogID%3D6949068298798094008%26colors%3DCgt0cmFuc3BhcmVudBILdHJhbnNwYXJlbnQaByMwMDAwMDAiByMwMDAwMDAqByNGRkZGRkYyByMwMDAwMDA6ByMwMDAwMDBCByMwMDAwMDBKByMwMDAwMDBSByNGRkZGRkZaC3RyYW5zcGFyZW50%26pageSize%3D21%26origin%3Dhttps://aneukrantau30.blogspot.com/%26usegapi%3D1%26jsh%3Dm;/_/scs/apps-static/_/js/k%253Doz.gapi.en_US.4sn9RO63fqo.O/am%253DAQ/d%253D1/rs%253DAGLTcCO5GqPeHrbNQGs79bP09BnjVkdwag/m%253D__features__%26bpli%3D1&amp;followup=https://www.blogger.com/followers.g?blogID%3D6949068298798094008%26colors%3DCgt0cmFuc3BhcmVudBILdHJhbnNwYXJlbnQaByMwMDAwMDAiByMwMDAwMDAqByNGRkZGRkYyByMwMDAwMDA6ByMwMDAwMDBCByMwMDAwMDBKByMwMDAwMDBSByNGRkZGRkZaC3RyYW5zcGFyZW50%26pageSize%3D21%26origin%3Dhttps://aneukrantau30.blogspot.com/%26usegapi%3D1%26jsh%3Dm;/_/scs/apps-static/_/js/k%253Doz.gapi.en_US.4sn9RO63fqo.O/am%253DAQ/d%253D1/rs%253DAGLTcCO5GqPeHrbNQGs79bP09BnjVkdwag/m%253D__features__%26bpli%3D1&amp;passive=true&amp;go=true#id=I0_1628318186027&amp;_gfid=I0_1628318186027&amp;parent=https%3A%2F%2Faneukrantau30.blogspot.com&amp;pfname=&amp;rpctoken=13449714\n",
      "https://fonts.gstatic.com/s/merriweather/v22/u-440qyriQwlOrhSvowK_l5-fCZJ.ttf\n",
      "https://lh3.googleusercontent.com/a-/AOh14GgNKdKGLj3iQ1nfUxrgkuuXgXTOTr0Ik0rpwBCh=s96-p\n",
      "https://accounts.google.com/signin/v2/_/common/diagnostics/?diagnostics=%5B%5B%5B%22gaia_fe_minutemaid%3Ass%22%2Cnull%2Cnull%2Cnull%2C1628727482429%5D%5D%5D&amp;rt=j\n",
      "https://fonts.gstatic.com/s/ruda/v14/k3kKo8YQJOpFgHQ1mQ5VkEbUKaKitR_50qk.woff2\n",
      "https://accounts.google.com/ServiceLogin?continue=https://www.blogger.com/followers.g?blogID%3D3512172885516050706%26colors%3DCgt0cmFuc3BhcmVudBILdHJhbnNwYXJlbnQaByMyMTIxMjEiByM2ODMxYzYqByNlY2VjZWMyByMwMDUxYzY6ByMyMTIxMjFCByM2ODMxYzZKByNjNjAwNTFSByM2ODMxYzZaC3RyYW5zcGFyZW50%26pageSize%3D21%26origin%3Dhttps://krdlogoped.blogspot.com/%26usegapi%3D1%26jsh%3Dm;/_/scs/apps-static/_/js/k%253Doz.gapi.en_US.4sn9RO63fqo.O/am%253DAQ/d%253D1/rs%253DAGLTcCO5GqPeHrbNQGs79bP09BnjVkdwag/m%253D__features__%26bpli%3D1&amp;followup=https://www.blogger.com/followers.g?blogID%3D3512172885516050706%26colors%3DCgt0cmFuc3BhcmVudBILdHJhbnNwYXJlbnQaByMyMTIxMjEiByM2ODMxYzYqByNlY2VjZWMyByMwMDUxYzY6ByMyMTIxMjFCByM2ODMxYzZKByNjNjAwNTFSByM2ODMxYzZaC3RyYW5zcGFyZW50%26pageSize%3D21%26origin%3Dhttps://krdlogoped.blogspot.com/%26usegapi%3D1%26jsh%3Dm;/_/scs/apps-static/_/js/k%253Doz.gapi.en_US.4sn9RO63fqo.O/am%253DAQ/d%253D1/rs%253DAGLTcCO5GqPeHrbNQGs79bP09BnjVkdwag/m%253D__features__%26bpli%3D1&amp;passive=true&amp;go=true#id=I0_1628038656851&amp;_gfid=I0_1628038656851&amp;parent=https%3A%2F%2Fkrdlogoped.blogspot.com&amp;pfname=&amp;rpctoken=31960502\n",
      "https://accounts.google.com/_/kids/signup/eligible?hl=fr&amp;_reqid=41615&amp;rt=j\n",
      "https://accounts.google.com/ServiceLogin?continue=https://www.blogger.com/followers.g?blogID%3D1719811995182941521%26colors%3DCgt0cmFuc3BhcmVudBILdHJhbnNwYXJlbnQaByMyMjIyMjIiByM5OTMzMDAqByNmZmY5ZWUyByMwMDAwMDA6ByMyMjIyMjJCByM5OTMzMDBKByM5OTk5OTlSByM5OTMzMDBaC3RyYW5zcGFyZW50%26pageSize%3D21%26origin%3Dhttps://makalebilgi.blogspot.com/%26usegapi%3D1%26jsh%3Dm;/_/scs/apps-static/_/js/k%253Doz.gapi.en_US.4sn9RO63fqo.O/am%253DAQ/d%253D1/rs%253DAGLTcCO5GqPeHrbNQGs79bP09BnjVkdwag/m%253D__features__%26bpli%3D1&amp;followup=https://www.blogger.com/followers.g?blogID%3D1719811995182941521%26colors%3DCgt0cmFuc3BhcmVudBILdHJhbnNwYXJlbnQaByMyMjIyMjIiByM5OTMzMDAqByNmZmY5ZWUyByMwMDAwMDA6ByMyMjIyMjJCByM5OTMzMDBKByM5OTk5OTlSByM5OTMzMDBaC3RyYW5zcGFyZW50%26pageSize%3D21%26origin%3Dhttps://makalebilgi.blogspot.com/%26usegapi%3D1%26jsh%3Dm;/_/scs/apps-static/_/js/k%253Doz.gapi.en_US.4sn9RO63fqo.O/am%253DAQ/d%253D1/rs%253DAGLTcCO5GqPeHrbNQGs79bP09BnjVkdwag/m%253D__features__%26bpli%3D1&amp;passive=true&amp;go=true#id=I0_1628796060408&amp;_gfid=I0_1628796060408&amp;parent=https%3A%2F%2Fmakalebilgi.blogspot.com&amp;pfname=&amp;rpctoken=13819373\n",
      "https://fonts.googleapis.com/css?family=Roboto:300,400,500,700&amp;text=\n",
      "https://accounts.google.com/ServiceLogin?continue=https://www.blogger.com/followers.g?blogID%3D3756545811499060445%26colors%3DCgt0cmFuc3BhcmVudBILdHJhbnNwYXJlbnQaByM3Nzc3NzciByMzNTYwYWIqByMzNTYwYWIyByMwMDAwMDA6ByM3Nzc3NzdCByMzNTYwYWJKByMwMDAwMDBSByNGRkZGRkZaC3RyYW5zcGFyZW50%26pageSize%3D21%26origin%3Dhttps://www.tafhem.com/%26usegapi%3D1%26jsh%3Dm;/_/scs/apps-static/_/js/k%253Doz.gapi.en_US.4sn9RO63fqo.O/am%253DAQ/d%253D1/rs%253DAGLTcCO5GqPeHrbNQGs79bP09BnjVkdwag/m%253D__features__%26bpli%3D1&amp;followup=https://www.blogger.com/followers.g?blogID%3D3756545811499060445%26colors%3DCgt0cmFuc3BhcmVudBILdHJhbnNwYXJlbnQaByM3Nzc3NzciByMzNTYwYWIqByMzNTYwYWIyByMwMDAwMDA6ByM3Nzc3NzdCByMzNTYwYWJKByMwMDAwMDBSByNGRkZGRkZaC3RyYW5zcGFyZW50%26pageSize%3D21%26origin%3Dhttps://www.tafhem.com/%26usegapi%3D1%26jsh%3Dm;/_/scs/apps-static/_/js/k%253Doz.gapi.en_US.4sn9RO63fqo.O/am%253DAQ/d%253D1/rs%253DAGLTcCO5GqPeHrbNQGs79bP09BnjVkdwag/m%253D__features__%26bpli%3D1&amp;passive=true&amp;go=true#id=I0_1628625113897&amp;_gfid=I0_1628625113897&amp;parent=https%3A%2F%2Fwww.tafhem.com&amp;pfname=&amp;rpctoken=35417871\n",
      "https://fonts.gstatic.com/s/montserrat/v15/JTUPjIg1_i6t8kCHKm459WxZYgzz_PZw.woff2\n",
      "https://fonts.gstatic.com/s/montserrat/v15/JTUQjIg1_i6t8kCHKm45_QpRyS7m.woff2\n",
      "https://fonts.googleapis.com/css?family=Montserrat:400,300,500,600,700|Open+Sans:300italic,400,400italic,600,600italic,700,300,500|Roboto:300,400,400italic,500,500italic,700,900,600&amp;display=swap\n",
      "https://accounts.google.com/_/kids/signup/eligible?hl=fr&amp;_reqid=82858&amp;rt=j\n",
      "https://www.gstatic.com/external_hosted/vanillamasonry-v3_1_5/masonry.pkgd.min.js\n",
      "https://fonts.googleapis.com/css?family=Muli:400,300,500,600,700|Open+Sans:300italic,400,400italic,600,600italic,700,300,500|Roboto:300,400,400italic,500,500italic,700,900,600&amp;display=swap\n",
      "https://fonts.googleapis.com/css2?family=Montserrat:ital,wght@0,300;1,300&amp;display=swap\n",
      "https://accounts.google.com/_/kids/signup/eligible?hl=fr&amp;_reqid=85723&amp;rt=j\n",
      "https://accounts.google.com/ServiceLogin?continue=https://www.blogger.com/followers.g?blogID%3D1719811995182941521%26colors%3DCgt0cmFuc3BhcmVudBILdHJhbnNwYXJlbnQaByMyMjIyMjIiByM5OTMzMDAqByNmZmY5ZWUyByMwMDAwMDA6ByMyMjIyMjJCByM5OTMzMDBKByM5OTk5OTlSByM5OTMzMDBaC3RyYW5zcGFyZW50%26pageSize%3D21%26origin%3Dhttps://makalebilgi.blogspot.com/%26usegapi%3D1%26jsh%3Dm;/_/scs/apps-static/_/js/k%253Doz.gapi.en_US.4sn9RO63fqo.O/am%253DAQ/d%253D1/rs%253DAGLTcCO5GqPeHrbNQGs79bP09BnjVkdwag/m%253D__features__%26bpli%3D1&amp;followup=https://www.blogger.com/followers.g?blogID%3D1719811995182941521%26colors%3DCgt0cmFuc3BhcmVudBILdHJhbnNwYXJlbnQaByMyMjIyMjIiByM5OTMzMDAqByNmZmY5ZWUyByMwMDAwMDA6ByMyMjIyMjJCByM5OTMzMDBKByM5OTk5OTlSByM5OTMzMDBaC3RyYW5zcGFyZW50%26pageSize%3D21%26origin%3Dhttps://makalebilgi.blogspot.com/%26usegapi%3D1%26jsh%3Dm;/_/scs/apps-static/_/js/k%253Doz.gapi.en_US.4sn9RO63fqo.O/am%253DAQ/d%253D1/rs%253DAGLTcCO5GqPeHrbNQGs79bP09BnjVkdwag/m%253D__features__%26bpli%3D1&amp;passive=true&amp;go=true#id=I0_1628033471629&amp;_gfid=I0_1628033471629&amp;parent=https%3A%2F%2Fmakalebilgi.blogspot.com&amp;pfname=&amp;rpctoken=14751286\n",
      "https://accounts.google.com/_/kids/signup/eligible?hl=fr&amp;_reqid=7928&amp;rt=j\n",
      "https://fonts.googleapis.com/css2?family=Roboto:wght@400;700&amp;display=swap\n",
      "https://www.gstatic.com/_/mss/boq-geo/_/js/k=boq-geo.GeoMerchantPrestoSiteUi.en_US.fofLzo0j7ak.es5.O/ck=boq-geo.GeoMerchantPrestoSiteUi.G2AuozuRP-8.L.F4.O/am=BIEAgACA/d=1/exm=A7fCU,BVgquf,CBlRxf,COQbmf,EFQ78c,GkRiKb,HDvRde,HLo3Ef,IZT63,JNoxi,KG2eXe,KUM7Z,L1AAkb,LEikZe,MI6k7c,MdUzUe,MpJwZc,NpD4ec,NwH0H,O1Gjze,O6y8ed,O8k1Cd,OmgaI,PQaYAf,PrPYRd,RMhBfe,SF3gsd,SdcwHb,SpsfSb,U0aPgd,UUJqVe,Uas9Hd,UgAtXe,Ulmmrd,V3dDOb,VwDzFe,XVMNvd,YLQSd,ZfAoz,ZwDk9d,_b,_tp,aW3pY,aurFic,blwjVc,byfTOb,e5qFLc,fKUV3e,gychg,hKSk3e,hc6Ubd,iTsyac,iWP1Yb,kjKdXe,lPKSwe,lazG7b,lfpdyf,lsjVmc,lwddkf,mI3LFb,mdR7q,n73qwf,o02Jie,pB6Zqd,pjICDe,qCSYWe,rHjpXd,tfTN8c,vfuNJf,w9hDv,ws9Tlc,x60fie,xQtZb,xUdipf,xiqEse,yDVVkb,zbML3c/excm=_b,_tp,siteview/ed=1/wt=2/rs=AD4das0Ysg0JVr1k1pKek_3N9iYcA6KKlg/m=A4UTCb,hr05tc,JbzNG,EGNJFf,iSvg6e,uY3Nvd\n",
      "https://accounts.google.com/_/kids/signup/eligible?hl=fr&amp;_reqid=35600&amp;rt=j\n",
      "https://www.gstatic.com/external_hosted/autotrack/autotrack.js\n",
      "https://lh3.googleusercontent.com/g1VeY9p01k-fMeY0yTPigiPXx09HBHtcK6SfGLrX_GVk1UO9zik80izCL5yecuKJqKJF-EgpTBIcdpN8ekQGh-dEgLoeJmxlpuU=s2500\n",
      "https://accounts.google.com/_/kids/signup/eligible?hl=fr&amp;_reqid=68805&amp;rt=j\n",
      "https://fonts.gstatic.com/s/jetbrainsmono/v6/tDbY2o-flEEny0FZhsfKu5WU4zr3E_BX0PnT8RD8yKxTOlOV.woff2\n",
      "https://fonts.gstatic.com/s/ruda/v14/k3kKo8YQJOpFgHQ1mQ5VkEbUKaJFsh_50qk.woff2\n",
      "https://lh3.googleusercontent.com/AcqxVHyqbgAd8aABhOsbgFTf9FIhtmZOflVce7Mu8zX8kEcA6-BEhdHfK2rHhZjufQ9B4uUMyPe-=w797-h495-no\n",
      "https://accounts.google.com/_/kids/signup/eligible?hl=fr&amp;_reqid=50252&amp;rt=j\n",
      "https://accounts.google.com/ServiceLogin?continue=https://www.blogger.com/followers.g?blogID%3D3512172885516050706%26colors%3DCgt0cmFuc3BhcmVudBILdHJhbnNwYXJlbnQaByMyMTIxMjEiByM2ODMxYzYqByNlY2VjZWMyByMwMDUxYzY6ByMyMTIxMjFCByM2ODMxYzZKByNjNjAwNTFSByM2ODMxYzZaC3RyYW5zcGFyZW50%26pageSize%3D21%26origin%3Dhttps://krdlogoped.blogspot.com/%26usegapi%3D1%26jsh%3Dm;/_/scs/apps-static/_/js/k%253Doz.gapi.en_US.4sn9RO63fqo.O/am%253DAQ/d%253D1/rs%253DAGLTcCO5GqPeHrbNQGs79bP09BnjVkdwag/m%253D__features__%26bpli%3D1&amp;followup=https://www.blogger.com/followers.g?blogID%3D3512172885516050706%26colors%3DCgt0cmFuc3BhcmVudBILdHJhbnNwYXJlbnQaByMyMTIxMjEiByM2ODMxYzYqByNlY2VjZWMyByMwMDUxYzY6ByMyMTIxMjFCByM2ODMxYzZKByNjNjAwNTFSByM2ODMxYzZaC3RyYW5zcGFyZW50%26pageSize%3D21%26origin%3Dhttps://krdlogoped.blogspot.com/%26usegapi%3D1%26jsh%3Dm;/_/scs/apps-static/_/js/k%253Doz.gapi.en_US.4sn9RO63fqo.O/am%253DAQ/d%253D1/rs%253DAGLTcCO5GqPeHrbNQGs79bP09BnjVkdwag/m%253D__features__%26bpli%3D1&amp;passive=true&amp;go=true#id=I0_1628032346494&amp;_gfid=I0_1628032346494&amp;parent=https%3A%2F%2Fkrdlogoped.blogspot.com&amp;pfname=&amp;rpctoken=34958939\n",
      "https://fonts.googleapis.com/css?family=Muli%3A400%2C500%2C600%2C900%7CRubik%3A500%2C700&amp;subset=latin%2Clatin-ext\n",
      "https://accounts.google.com/_/kids/signup/eligible?hl=fr&amp;_reqid=58741&amp;rt=j\n",
      "https://www.gstatic.com/images/icons/material/system/2x/feedback_grey600_24dp.png\n",
      "https://lh3.googleusercontent.com/c1mTuVNyqkpjMZrVCIkfV4CztdaoPhQEhyt7pztRhZ9qcrbTS63P2G-Rie6wC3OfafJgzpWw-RKPotwzZw=w960-h960-n-o-v1\n",
      "https://fonts.gstatic.com/s/opensans/v23/mem5YaGs126MiZpBA-UN7rgOXehpOqc.woff2\n",
      "https://accounts.google.com/ServiceLogin?continue=https://www.blogger.com/followers.g?blogID%3D3756545811499060445%26colors%3DCgt0cmFuc3BhcmVudBILdHJhbnNwYXJlbnQaByM3Nzc3NzciByMzNTYwYWIqByMzNTYwYWIyByMwMDAwMDA6ByM3Nzc3NzdCByMzNTYwYWJKByMwMDAwMDBSByNGRkZGRkZaC3RyYW5zcGFyZW50%26pageSize%3D21%26origin%3Dhttps://www.tafhem.com/%26usegapi%3D1%26jsh%3Dm;/_/scs/apps-static/_/js/k%253Doz.gapi.en_US.4sn9RO63fqo.O/am%253DAQ/d%253D1/rs%253DAGLTcCO5GqPeHrbNQGs79bP09BnjVkdwag/m%253D__features__%26bpli%3D1&amp;followup=https://www.blogger.com/followers.g?blogID%3D3756545811499060445%26colors%3DCgt0cmFuc3BhcmVudBILdHJhbnNwYXJlbnQaByM3Nzc3NzciByMzNTYwYWIqByMzNTYwYWIyByMwMDAwMDA6ByM3Nzc3NzdCByMzNTYwYWJKByMwMDAwMDBSByNGRkZGRkZaC3RyYW5zcGFyZW50%26pageSize%3D21%26origin%3Dhttps://www.tafhem.com/%26usegapi%3D1%26jsh%3Dm;/_/scs/apps-static/_/js/k%253Doz.gapi.en_US.4sn9RO63fqo.O/am%253DAQ/d%253D1/rs%253DAGLTcCO5GqPeHrbNQGs79bP09BnjVkdwag/m%253D__features__%26bpli%3D1&amp;passive=true&amp;go=true#id=I0_1628191100112&amp;_gfid=I0_1628191100112&amp;parent=https%3A%2F%2Fwww.tafhem.com&amp;pfname=&amp;rpctoken=71537080\n",
      "https://fonts.gstatic.com/s/montserrat/v16/JTUSjIg1_i6t8kCHKm459Wlhyw.woff2\n",
      "https://fonts.gstatic.com/s/lora/v17/0QI8MX1D_JOuMw_hLdO6T2wV9KnW-MoFoq92nA.woff2\n",
      "https://fonts.gstatic.com/s/opensans/v23/mem5YaGs126MiZpBA-UNirkOXOhpOqc.woff2\n",
      "https://fonts.gstatic.com/s/roboto/v27/KFOmCnqEu92Fr1Mu5mxKOzY.woff2\n",
      "https://www.gstatic.com/charts/51/js/jsapi_compiled_ui_module.js\n",
      "https://fonts.gstatic.com/s/varelaround/v13/w8gdH283Tvk__Lua32TysjIfp8uP.woff2\n",
      "https://accounts.google.com/ServiceLogin?continue=https://www.blogger.com/followers.g?blogID%3D6949068298798094008%26colors%3DCgt0cmFuc3BhcmVudBILdHJhbnNwYXJlbnQaByMwMDAwMDAiByMwMDAwMDAqByNGRkZGRkYyByMwMDAwMDA6ByMwMDAwMDBCByMwMDAwMDBKByMwMDAwMDBSByNGRkZGRkZaC3RyYW5zcGFyZW50%26pageSize%3D21%26origin%3Dhttps://aneukrantau30.blogspot.com/%26usegapi%3D1%26jsh%3Dm;/_/scs/apps-static/_/js/k%253Doz.gapi.en_US.4sn9RO63fqo.O/am%253DAQ/d%253D1/rs%253DAGLTcCO5GqPeHrbNQGs79bP09BnjVkdwag/m%253D__features__%26bpli%3D1&amp;followup=https://www.blogger.com/followers.g?blogID%3D6949068298798094008%26colors%3DCgt0cmFuc3BhcmVudBILdHJhbnNwYXJlbnQaByMwMDAwMDAiByMwMDAwMDAqByNGRkZGRkYyByMwMDAwMDA6ByMwMDAwMDBCByMwMDAwMDBKByMwMDAwMDBSByNGRkZGRkZaC3RyYW5zcGFyZW50%26pageSize%3D21%26origin%3Dhttps://aneukrantau30.blogspot.com/%26usegapi%3D1%26jsh%3Dm;/_/scs/apps-static/_/js/k%253Doz.gapi.en_US.4sn9RO63fqo.O/am%253DAQ/d%253D1/rs%253DAGLTcCO5GqPeHrbNQGs79bP09BnjVkdwag/m%253D__features__%26bpli%3D1&amp;passive=true&amp;go=true#id=I0_1628043478955&amp;_gfid=I0_1628043478955&amp;parent=https%3A%2F%2Faneukrantau30.blogspot.com&amp;pfname=&amp;rpctoken=42314761\n",
      "https://fonts.gstatic.com/s/notosans/v14/o-0NIpQlx3QUlC5A4PNjXhFVZNyB.woff2\n",
      "https://lh3.googleusercontent.com/a-/AOh14GhcE9DjgQ5w4-zv0Ble8lIJu8N_CM6PJAt19P2glw=s96-p\n",
      "https://www.gstatic.com/devrel-devsite/prod/v0089c83aa8227c3439bf2708c0795dd13db533711d44eb626e640152d9fdf05e/js/devsite_devsite_select_module.js\n",
      "https://www.gstatic.com/_/mss/boq-geo/_/js/k=boq-geo.GeoMerchantPrestoSiteUi.en_US.9cHVhqb8VC4.es5.O/ck=boq-geo.GeoMerchantPrestoSiteUi.AqgetGZq0W4.L.F4.O/am=BBEBAAEAAg/d=1/exm=_b,_tp/excm=_b,_tp,siteview/ed=1/wt=2/rs=AD4das2obQTb7oNv-z1pIl5Ee1BJ_fyeuw/m=byfTOb,lsjVmc,LEikZe\n",
      "https://accounts.google.com/o/oauth2/auth/_/common/diagnostics/?diagnostics=%5B%5B%5B%22gaia_fe_minutemaid%3Ass%22%2Cnull%2Cnull%2Cnull%2C1628753311278%5D%5D%5D&amp;rt=j\n",
      "https://accounts.google.com/ServiceLogin?continue=https://www.blogger.com/followers.g?blogID%3D3756545811499060445%26colors%3DCgt0cmFuc3BhcmVudBILdHJhbnNwYXJlbnQaByM3Nzc3NzciByMzNTYwYWIqByMzNTYwYWIyByMwMDAwMDA6ByM3Nzc3NzdCByMzNTYwYWJKByMwMDAwMDBSByNGRkZGRkZaC3RyYW5zcGFyZW50%26pageSize%3D21%26origin%3Dhttps://www.tafhem.com/%26usegapi%3D1%26jsh%3Dm;/_/scs/apps-static/_/js/k%253Doz.gapi.en_US.4sn9RO63fqo.O/am%253DAQ/d%253D1/rs%253DAGLTcCO5GqPeHrbNQGs79bP09BnjVkdwag/m%253D__features__%26bpli%3D1&amp;followup=https://www.blogger.com/followers.g?blogID%3D3756545811499060445%26colors%3DCgt0cmFuc3BhcmVudBILdHJhbnNwYXJlbnQaByM3Nzc3NzciByMzNTYwYWIqByMzNTYwYWIyByMwMDAwMDA6ByM3Nzc3NzdCByMzNTYwYWJKByMwMDAwMDBSByNGRkZGRkZaC3RyYW5zcGFyZW50%26pageSize%3D21%26origin%3Dhttps://www.tafhem.com/%26usegapi%3D1%26jsh%3Dm;/_/scs/apps-static/_/js/k%253Doz.gapi.en_US.4sn9RO63fqo.O/am%253DAQ/d%253D1/rs%253DAGLTcCO5GqPeHrbNQGs79bP09BnjVkdwag/m%253D__features__%26bpli%3D1&amp;passive=true&amp;go=true#id=I0_1628054950103&amp;_gfid=I0_1628054950103&amp;parent=https%3A%2F%2Fwww.tafhem.com&amp;pfname=&amp;rpctoken=11366907\n",
      "https://accounts.google.com/ServiceLogin?continue=https://www.blogger.com/followers.g?blogID%3D3756545811499060445%26colors%3DCgt0cmFuc3BhcmVudBILdHJhbnNwYXJlbnQaByM3Nzc3NzciByMzNTYwYWIqByMzNTYwYWIyByMwMDAwMDA6ByM3Nzc3NzdCByMzNTYwYWJKByMwMDAwMDBSByNGRkZGRkZaC3RyYW5zcGFyZW50%26pageSize%3D21%26origin%3Dhttps://www.tafhem.com/%26usegapi%3D1%26jsh%3Dm;/_/scs/apps-static/_/js/k%253Doz.gapi.en_US.4sn9RO63fqo.O/am%253DAQ/d%253D1/rs%253DAGLTcCO5GqPeHrbNQGs79bP09BnjVkdwag/m%253D__features__%26bpli%3D1&amp;followup=https://www.blogger.com/followers.g?blogID%3D3756545811499060445%26colors%3DCgt0cmFuc3BhcmVudBILdHJhbnNwYXJlbnQaByM3Nzc3NzciByMzNTYwYWIqByMzNTYwYWIyByMwMDAwMDA6ByM3Nzc3NzdCByMzNTYwYWJKByMwMDAwMDBSByNGRkZGRkZaC3RyYW5zcGFyZW50%26pageSize%3D21%26origin%3Dhttps://www.tafhem.com/%26usegapi%3D1%26jsh%3Dm;/_/scs/apps-static/_/js/k%253Doz.gapi.en_US.4sn9RO63fqo.O/am%253DAQ/d%253D1/rs%253DAGLTcCO5GqPeHrbNQGs79bP09BnjVkdwag/m%253D__features__%26bpli%3D1&amp;passive=true&amp;go=true#id=I0_1627985133215&amp;_gfid=I0_1627985133215&amp;parent=https%3A%2F%2Fwww.tafhem.com&amp;pfname=&amp;rpctoken=11783340\n",
      "https://fonts.gstatic.com/s/poppins/v15/pxiByp8kv8JHgFVrLEj6Z1xlFQ.woff2\n",
      "https://accounts.google.com/_/kids/signup/eligible?hl=fr&amp;_reqid=29540&amp;rt=j\n",
      "https://accounts.google.com/_/kids/signup/eligible?hl=fr&amp;_reqid=33333&amp;rt=j\n",
      "https://lh3.googleusercontent.com/a-/AOh14GjZ2mMhiQ8Hj1FqxK4PXSa3HlSkaSStKlb8kmlAAQ=s96-p\n",
      "https://www.gstatic.com/devrel-devsite/prod/v0492b3db79b8927fe2347ea2dc87c471b22f173331622ffd10334837d43ea37f/nest/images/favicon.png\n",
      "https://lh3.googleusercontent.com/D_YXzYVpfQZninrFkp2GxK3NKPg2k-kuqXHwfiiinjOlQunU2FSt2tsOYq9T6NEn19AW3eTKDBUX=w1374-h619-no\n",
      "https://fonts.googleapis.com/css?family=Roboto:300,100%7CLobster+Two:700italic\n",
      "https://fonts.googleapis.com/css?family=Open+Sans%3A300italic%2C400%2C400italic%2C600%2C600italic%2C700%7CRoboto%3A300%2C400%2C400italic%2C500%2C500italic%2C700%2C900&amp;ver=9.7.4\n",
      "https://accounts.google.com/_/kids/signup/eligible?hl=fr&amp;_reqid=16333&amp;rt=j\n",
      "https://fonts.googleapis.com/css?family=Roboto:400,700,300&amp;subset=latin,latin-ext&amp;display=swap\n",
      "https://accounts.google.com/ServiceLogin?continue=https://www.blogger.com/followers.g?blogID%3D3512172885516050706%26colors%3DCgt0cmFuc3BhcmVudBILdHJhbnNwYXJlbnQaByMyMTIxMjEiByM2ODMxYzYqByNlY2VjZWMyByMwMDUxYzY6ByMyMTIxMjFCByM2ODMxYzZKByNjNjAwNTFSByM2ODMxYzZaC3RyYW5zcGFyZW50%26pageSize%3D21%26origin%3Dhttps://krdlogoped.blogspot.com/%26usegapi%3D1%26jsh%3Dm;/_/scs/apps-static/_/js/k%253Doz.gapi.en_US.4sn9RO63fqo.O/am%253DAQ/d%253D1/rs%253DAGLTcCO5GqPeHrbNQGs79bP09BnjVkdwag/m%253D__features__%26bpli%3D1&amp;followup=https://www.blogger.com/followers.g?blogID%3D3512172885516050706%26colors%3DCgt0cmFuc3BhcmVudBILdHJhbnNwYXJlbnQaByMyMTIxMjEiByM2ODMxYzYqByNlY2VjZWMyByMwMDUxYzY6ByMyMTIxMjFCByM2ODMxYzZKByNjNjAwNTFSByM2ODMxYzZaC3RyYW5zcGFyZW50%26pageSize%3D21%26origin%3Dhttps://krdlogoped.blogspot.com/%26usegapi%3D1%26jsh%3Dm;/_/scs/apps-static/_/js/k%253Doz.gapi.en_US.4sn9RO63fqo.O/am%253DAQ/d%253D1/rs%253DAGLTcCO5GqPeHrbNQGs79bP09BnjVkdwag/m%253D__features__%26bpli%3D1&amp;passive=true&amp;go=true#id=I0_1628248776887&amp;_gfid=I0_1628248776887&amp;parent=https%3A%2F%2Fkrdlogoped.blogspot.com&amp;pfname=&amp;rpctoken=41821430\n",
      "https://accounts.google.com/ServiceLogin?continue=https://www.blogger.com/followers.g?blogID%3D1719811995182941521%26colors%3DCgt0cmFuc3BhcmVudBILdHJhbnNwYXJlbnQaByMyMjIyMjIiByM5OTMzMDAqByNmZmY5ZWUyByMwMDAwMDA6ByMyMjIyMjJCByM5OTMzMDBKByM5OTk5OTlSByM5OTMzMDBaC3RyYW5zcGFyZW50%26pageSize%3D21%26origin%3Dhttps://makalebilgi.blogspot.com/%26usegapi%3D1%26jsh%3Dm;/_/scs/apps-static/_/js/k%253Doz.gapi.en_US.4sn9RO63fqo.O/am%253DAQ/d%253D1/rs%253DAGLTcCO5GqPeHrbNQGs79bP09BnjVkdwag/m%253D__features__%26bpli%3D1&amp;followup=https://www.blogger.com/followers.g?blogID%3D1719811995182941521%26colors%3DCgt0cmFuc3BhcmVudBILdHJhbnNwYXJlbnQaByMyMjIyMjIiByM5OTMzMDAqByNmZmY5ZWUyByMwMDAwMDA6ByMyMjIyMjJCByM5OTMzMDBKByM5OTk5OTlSByM5OTMzMDBaC3RyYW5zcGFyZW50%26pageSize%3D21%26origin%3Dhttps://makalebilgi.blogspot.com/%26usegapi%3D1%26jsh%3Dm;/_/scs/apps-static/_/js/k%253Doz.gapi.en_US.4sn9RO63fqo.O/am%253DAQ/d%253D1/rs%253DAGLTcCO5GqPeHrbNQGs79bP09BnjVkdwag/m%253D__features__%26bpli%3D1&amp;passive=true&amp;go=true#id=I0_1628108021129&amp;_gfid=I0_1628108021129&amp;parent=https%3A%2F%2Fmakalebilgi.blogspot.com&amp;pfname=&amp;rpctoken=24248660\n",
      "https://fonts.googleapis.com/css?family=Roboto%3A700%2C400%2C500&amp;subset=latin\n",
      "https://fonts.gstatic.com/s/opensans/v20/memnYaGs126MiZpBA-UFUKXGUdhrIqM.woff2\n",
      "https://accounts.google.com/ServiceLogin?continue=https://www.blogger.com/followers.g?blogID%3D6949068298798094008%26colors%3DCgt0cmFuc3BhcmVudBILdHJhbnNwYXJlbnQaByMwMDAwMDAiByMwMDAwMDAqByNGRkZGRkYyByMwMDAwMDA6ByMwMDAwMDBCByMwMDAwMDBKByMwMDAwMDBSByNGRkZGRkZaC3RyYW5zcGFyZW50%26pageSize%3D21%26origin%3Dhttps://aneukrantau30.blogspot.com/%26usegapi%3D1%26jsh%3Dm;/_/scs/apps-static/_/js/k%253Doz.gapi.en_US.4sn9RO63fqo.O/am%253DAQ/d%253D1/rs%253DAGLTcCO5GqPeHrbNQGs79bP09BnjVkdwag/m%253D__features__%26bpli%3D1&amp;followup=https://www.blogger.com/followers.g?blogID%3D6949068298798094008%26colors%3DCgt0cmFuc3BhcmVudBILdHJhbnNwYXJlbnQaByMwMDAwMDAiByMwMDAwMDAqByNGRkZGRkYyByMwMDAwMDA6ByMwMDAwMDBCByMwMDAwMDBKByMwMDAwMDBSByNGRkZGRkZaC3RyYW5zcGFyZW50%26pageSize%3D21%26origin%3Dhttps://aneukrantau30.blogspot.com/%26usegapi%3D1%26jsh%3Dm;/_/scs/apps-static/_/js/k%253Doz.gapi.en_US.4sn9RO63fqo.O/am%253DAQ/d%253D1/rs%253DAGLTcCO5GqPeHrbNQGs79bP09BnjVkdwag/m%253D__features__%26bpli%3D1&amp;passive=true&amp;go=true#id=I0_1628124656531&amp;_gfid=I0_1628124656531&amp;parent=https%3A%2F%2Faneukrantau30.blogspot.com&amp;pfname=&amp;rpctoken=19217392\n",
      "https://fonts.googleapis.com/css?family=Roboto%3A400%2C700\n",
      "https://accounts.google.com/signin/v2/_/common/diagnostics/?diagnostics=%5B%5B%5B%22gaia_fe_minutemaid%3Ass%22%2Cnull%2Cnull%2Cnull%2C1628223080617%5D%5D%5D&amp;rt=j\n",
      "https://fonts.gstatic.com/s/opensans/v20/mem5YaGs126MiZpBA-UNirkOVuhpOqc.woff2\n",
      "https://accounts.google.com/o/oauth2/auth/_/common/diagnostics/?diagnostics=%5B%5B%5B%22gaia_fe_minutemaid%3Ass%22%2Cnull%2Cnull%2Cnull%2C1628108164524%5D%5D%5D&amp;rt=j\n",
      "https://fonts.gstatic.com/s/asap/v15/KFO9CniXp96a4Tc2EZzSuDAoKsE61phJW34.woff2\n",
      "https://fonts.gstatic.com/s/lato/v18/S6uyw4BMUTPHjxAwXjeu.woff2\n",
      "https://www.gstatic.com/devrel-devsite/prod/v0089c83aa8227c3439bf2708c0795dd13db533711d44eb626e640152d9fdf05e/js/devsite_devsite_sitemask_module.js\n",
      "https://fonts.gstatic.com/s/chewy/v12/uK_94ruUb-k-wn52KjI.woff2\n",
      "https://www.gstatic.com/external_hosted/clipboardjs/clipboard.min.js\n",
      "https://accounts.google.com/_/kids/signup/eligible?hl=fr&amp;_reqid=61114&amp;rt=j\n",
      "https://fonts.gstatic.com/s/opensans/v23/mem5YaGs126MiZpBA-UN_r8OUuhp.woff2\n",
      "https://www.gstatic.com/mysidia/1cd53d457f3075f6a19b4e5055e197c6.js?tag=client_fast_engine_2019\n",
      "https://fonts.googleapis.com/css?family=Open+Sans%3A300italic%2C400italic%2C600italic%2C700italic%2C800italic%2C400%2C300%2C600%2C700%2C800&amp;ver=5.2.11\n",
      "https://accounts.google.com/ServiceLogin?continue=https://www.blogger.com/followers.g?blogID%3D3512172885516050706%26colors%3DCgt0cmFuc3BhcmVudBILdHJhbnNwYXJlbnQaByMyMTIxMjEiByM2ODMxYzYqByNlY2VjZWMyByMwMDUxYzY6ByMyMTIxMjFCByM2ODMxYzZKByNjNjAwNTFSByM2ODMxYzZaC3RyYW5zcGFyZW50%26pageSize%3D21%26origin%3Dhttps://krdlogoped.blogspot.com/%26usegapi%3D1%26jsh%3Dm;/_/scs/apps-static/_/js/k%253Doz.gapi.en_US.4sn9RO63fqo.O/am%253DAQ/d%253D1/rs%253DAGLTcCO5GqPeHrbNQGs79bP09BnjVkdwag/m%253D__features__%26bpli%3D1&amp;followup=https://www.blogger.com/followers.g?blogID%3D3512172885516050706%26colors%3DCgt0cmFuc3BhcmVudBILdHJhbnNwYXJlbnQaByMyMTIxMjEiByM2ODMxYzYqByNlY2VjZWMyByMwMDUxYzY6ByMyMTIxMjFCByM2ODMxYzZKByNjNjAwNTFSByM2ODMxYzZaC3RyYW5zcGFyZW50%26pageSize%3D21%26origin%3Dhttps://krdlogoped.blogspot.com/%26usegapi%3D1%26jsh%3Dm;/_/scs/apps-static/_/js/k%253Doz.gapi.en_US.4sn9RO63fqo.O/am%253DAQ/d%253D1/rs%253DAGLTcCO5GqPeHrbNQGs79bP09BnjVkdwag/m%253D__features__%26bpli%3D1&amp;passive=true&amp;go=true#id=I0_1628112796180&amp;_gfid=I0_1628112796180&amp;parent=https%3A%2F%2Fkrdlogoped.blogspot.com&amp;pfname=&amp;rpctoken=70013031\n",
      "https://fonts.gstatic.com/s/opensans/v21/mem5YaGs126MiZpBA-UN7rgOUuhp.woff2\n",
      "https://fonts.googleapis.com/earlyaccess/droidarabickufi?ver=5.8\n",
      "https://accounts.google.com/_/kids/signup/eligible?hl=fr&amp;_reqid=82711&amp;rt=j\n",
      "https://fonts.gstatic.com/s/prompt/v5/-W_8XJnvUD7dzB2Cv_4IfWMuQ5Q.woff2\n",
      "https://fonts.gstatic.com/s/montserrat/v15/JTUQjIg1_i6t8kCHKm459WxRyS7m.woff2\n",
      "https://lh3.googleusercontent.com/a-/AOh14GjZZDog_caW9AVqXp98-ozSbVo-ihNH2ZmolzAz5w=s96-p\n",
      "https://lh3.googleusercontent.com/a-/AOh14Gjqm4swhCfJHFmoOxkOSOWqs_-ebI1L42PuA0qTkg=s96-p\n",
      "https://accounts.google.com/_/kids/signup/eligible?hl=fr&amp;_reqid=24000&amp;rt=j\n",
      "https://accounts.google.com/ServiceLogin?continue=https://www.blogger.com/followers.g?blogID%3D6949068298798094008%26colors%3DCgt0cmFuc3BhcmVudBILdHJhbnNwYXJlbnQaByMwMDAwMDAiByMwMDAwMDAqByNGRkZGRkYyByMwMDAwMDA6ByMwMDAwMDBCByMwMDAwMDBKByMwMDAwMDBSByNGRkZGRkZaC3RyYW5zcGFyZW50%26pageSize%3D21%26origin%3Dhttps://aneukrantau30.blogspot.com/%26usegapi%3D1%26jsh%3Dm;/_/scs/apps-static/_/js/k%253Doz.gapi.en_US.4sn9RO63fqo.O/am%253DAQ/d%253D1/rs%253DAGLTcCO5GqPeHrbNQGs79bP09BnjVkdwag/m%253D__features__%26bpli%3D1&amp;followup=https://www.blogger.com/followers.g?blogID%3D6949068298798094008%26colors%3DCgt0cmFuc3BhcmVudBILdHJhbnNwYXJlbnQaByMwMDAwMDAiByMwMDAwMDAqByNGRkZGRkYyByMwMDAwMDA6ByMwMDAwMDBCByMwMDAwMDBKByMwMDAwMDBSByNGRkZGRkZaC3RyYW5zcGFyZW50%26pageSize%3D21%26origin%3Dhttps://aneukrantau30.blogspot.com/%26usegapi%3D1%26jsh%3Dm;/_/scs/apps-static/_/js/k%253Doz.gapi.en_US.4sn9RO63fqo.O/am%253DAQ/d%253D1/rs%253DAGLTcCO5GqPeHrbNQGs79bP09BnjVkdwag/m%253D__features__%26bpli%3D1&amp;passive=true&amp;go=true#id=I0_1628239634739&amp;_gfid=I0_1628239634739&amp;parent=https%3A%2F%2Faneukrantau30.blogspot.com&amp;pfname=&amp;rpctoken=22936554\n",
      "https://accounts.google.com/_/kids/signup/eligible?hl=fr&amp;_reqid=77160&amp;rt=j\n",
      "https://accounts.google.com/_/kids/signup/eligible?hl=fr&amp;_reqid=59649&amp;rt=j\n",
      "https://accounts.google.com/_/kids/signup/eligible?hl=fr&amp;_reqid=60948&amp;rt=j\n",
      "https://www.gstatic.com/mysidia/b0784018e1fbf9b21026a03ef4bd1046.js?tag=mysidia_one_click_handler_one_afma_2019\n",
      "https://fonts.googleapis.com/css?family=Google+Sans:400,500%7CRoboto:400,500%7C&amp;subset=cyrillic,cyrillic-ext,greek,greek-ext,latin-ext,vietnamese&amp;display=swap\n",
      "https://accounts.google.com/o/oauth2/auth/_/common/diagnostics/?diagnostics=%5B%5B%5B%22gaia_fe_minutemaid%3Ass%22%2Cnull%2Cnull%2Cnull%2C1628033613612%5D%5D%5D&amp;rt=j\n",
      "https://accounts.google.com/ServiceLogin?continue=https://www.blogger.com/followers.g?blogID%3D3512172885516050706%26colors%3DCgt0cmFuc3BhcmVudBILdHJhbnNwYXJlbnQaByMyMTIxMjEiByM2ODMxYzYqByNlY2VjZWMyByMwMDUxYzY6ByMyMTIxMjFCByM2ODMxYzZKByNjNjAwNTFSByM2ODMxYzZaC3RyYW5zcGFyZW50%26pageSize%3D21%26origin%3Dhttps://krdlogoped.blogspot.com/%26usegapi%3D1%26jsh%3Dm;/_/scs/apps-static/_/js/k%253Doz.gapi.en_US.4sn9RO63fqo.O/am%253DAQ/d%253D1/rs%253DAGLTcCO5GqPeHrbNQGs79bP09BnjVkdwag/m%253D__features__%26bpli%3D1&amp;followup=https://www.blogger.com/followers.g?blogID%3D3512172885516050706%26colors%3DCgt0cmFuc3BhcmVudBILdHJhbnNwYXJlbnQaByMyMTIxMjEiByM2ODMxYzYqByNlY2VjZWMyByMwMDUxYzY6ByMyMTIxMjFCByM2ODMxYzZKByNjNjAwNTFSByM2ODMxYzZaC3RyYW5zcGFyZW50%26pageSize%3D21%26origin%3Dhttps://krdlogoped.blogspot.com/%26usegapi%3D1%26jsh%3Dm;/_/scs/apps-static/_/js/k%253Doz.gapi.en_US.4sn9RO63fqo.O/am%253DAQ/d%253D1/rs%253DAGLTcCO5GqPeHrbNQGs79bP09BnjVkdwag/m%253D__features__%26bpli%3D1&amp;passive=true&amp;go=true#id=I0_1628257757555&amp;_gfid=I0_1628257757555&amp;parent=https%3A%2F%2Fkrdlogoped.blogspot.com&amp;pfname=&amp;rpctoken=40204223\n",
      "https://accounts.google.com/ServiceLogin?continue=https://www.blogger.com/followers.g?blogID%3D3756545811499060445%26colors%3DCgt0cmFuc3BhcmVudBILdHJhbnNwYXJlbnQaByM3Nzc3NzciByMzNTYwYWIqByMzNTYwYWIyByMwMDAwMDA6ByM3Nzc3NzdCByMzNTYwYWJKByMwMDAwMDBSByNGRkZGRkZaC3RyYW5zcGFyZW50%26pageSize%3D21%26origin%3Dhttps://www.tafhem.com/%26usegapi%3D1%26jsh%3Dm;/_/scs/apps-static/_/js/k%253Doz.gapi.en_US.4sn9RO63fqo.O/am%253DAQ/d%253D1/rs%253DAGLTcCO5GqPeHrbNQGs79bP09BnjVkdwag/m%253D__features__%26bpli%3D1&amp;followup=https://www.blogger.com/followers.g?blogID%3D3756545811499060445%26colors%3DCgt0cmFuc3BhcmVudBILdHJhbnNwYXJlbnQaByM3Nzc3NzciByMzNTYwYWIqByMzNTYwYWIyByMwMDAwMDA6ByM3Nzc3NzdCByMzNTYwYWJKByMwMDAwMDBSByNGRkZGRkZaC3RyYW5zcGFyZW50%26pageSize%3D21%26origin%3Dhttps://www.tafhem.com/%26usegapi%3D1%26jsh%3Dm;/_/scs/apps-static/_/js/k%253Doz.gapi.en_US.4sn9RO63fqo.O/am%253DAQ/d%253D1/rs%253DAGLTcCO5GqPeHrbNQGs79bP09BnjVkdwag/m%253D__features__%26bpli%3D1&amp;passive=true&amp;go=true#id=I0_1628249787859&amp;_gfid=I0_1628249787859&amp;parent=https%3A%2F%2Fwww.tafhem.com&amp;pfname=&amp;rpctoken=75598523\n",
      "https://lh3.googleusercontent.com/a-/AOh14GjAhJDj_WeSP1AhcSJaVQMqoIYMszuPVEe1b8Z9vw=s96-p\n",
      "https://fonts.gstatic.com/s/googlesans/v27/4UaGrENHsxJlGDuGo1OIlL3Owp4.woff2\n",
      "https://www.gstatic.com/devrel-devsite/prod/v0492b3db79b8927fe2347ea2dc87c471b22f173331622ffd10334837d43ea37f/js/devsite_app_module.js\n",
      "https://lh3.googleusercontent.com/p/AF1QipM3v2krSc7MBEDhCBIxggEJPCpyiL0BHKyKxi1v=s1280-p-no-v1\n",
      "https://lh3.googleusercontent.com/p/AF1QipNzox9VaCeAl9-_eL1QfHhFxj_oUz5gRidjrwAh=s1280-p-no-v1\n",
      "https://www.gstatic.com/devrel-devsite/prod/v0089c83aa8227c3439bf2708c0795dd13db533711d44eb626e640152d9fdf05e/nest/images/lockup-developers.svg\n",
      "https://accounts.google.com/ServiceLogin?continue=https://www.blogger.com/followers.g?blogID%3D3756545811499060445%26colors%3DCgt0cmFuc3BhcmVudBILdHJhbnNwYXJlbnQaByM3Nzc3NzciByMzNTYwYWIqByMzNTYwYWIyByMwMDAwMDA6ByM3Nzc3NzdCByMzNTYwYWJKByMwMDAwMDBSByNGRkZGRkZaC3RyYW5zcGFyZW50%26pageSize%3D21%26origin%3Dhttps://www.tafhem.com/%26usegapi%3D1%26jsh%3Dm;/_/scs/apps-static/_/js/k%253Doz.gapi.en_US.4sn9RO63fqo.O/am%253DAQ/d%253D1/rs%253DAGLTcCO5GqPeHrbNQGs79bP09BnjVkdwag/m%253D__features__%26bpli%3D1&amp;followup=https://www.blogger.com/followers.g?blogID%3D3756545811499060445%26colors%3DCgt0cmFuc3BhcmVudBILdHJhbnNwYXJlbnQaByM3Nzc3NzciByMzNTYwYWIqByMzNTYwYWIyByMwMDAwMDA6ByM3Nzc3NzdCByMzNTYwYWJKByMwMDAwMDBSByNGRkZGRkZaC3RyYW5zcGFyZW50%26pageSize%3D21%26origin%3Dhttps://www.tafhem.com/%26usegapi%3D1%26jsh%3Dm;/_/scs/apps-static/_/js/k%253Doz.gapi.en_US.4sn9RO63fqo.O/am%253DAQ/d%253D1/rs%253DAGLTcCO5GqPeHrbNQGs79bP09BnjVkdwag/m%253D__features__%26bpli%3D1&amp;passive=true&amp;go=true#id=I0_1628044416402&amp;_gfid=I0_1628044416402&amp;parent=https%3A%2F%2Fwww.tafhem.com&amp;pfname=&amp;rpctoken=22333493\n",
      "https://accounts.google.com/_/kids/signup/eligible?hl=fr&amp;_reqid=70984&amp;rt=j\n",
      "https://www.gstatic.com/devrel-devsite/prod/v0492b3db79b8927fe2347ea2dc87c471b22f173331622ffd10334837d43ea37f/js/devsite_devsite_analytics_module.js\n",
      "https://www.gstatic.com/devrel-devsite/prod/v0089c83aa8227c3439bf2708c0795dd13db533711d44eb626e640152d9fdf05e/js/devsite_devsite_footer_linkboxes_module.js\n",
      "https://accounts.google.com/ServiceLogin?continue=https://www.blogger.com/followers.g?blogID%3D6949068298798094008%26colors%3DCgt0cmFuc3BhcmVudBILdHJhbnNwYXJlbnQaByMwMDAwMDAiByMwMDAwMDAqByNGRkZGRkYyByMwMDAwMDA6ByMwMDAwMDBCByMwMDAwMDBKByMwMDAwMDBSByNGRkZGRkZaC3RyYW5zcGFyZW50%26pageSize%3D21%26origin%3Dhttps://aneukrantau30.blogspot.com/%26usegapi%3D1%26jsh%3Dm;/_/scs/apps-static/_/js/k%253Doz.gapi.en_US.4sn9RO63fqo.O/am%253DAQ/d%253D1/rs%253DAGLTcCO5GqPeHrbNQGs79bP09BnjVkdwag/m%253D__features__%26bpli%3D1&amp;followup=https://www.blogger.com/followers.g?blogID%3D6949068298798094008%26colors%3DCgt0cmFuc3BhcmVudBILdHJhbnNwYXJlbnQaByMwMDAwMDAiByMwMDAwMDAqByNGRkZGRkYyByMwMDAwMDA6ByMwMDAwMDBCByMwMDAwMDBKByMwMDAwMDBSByNGRkZGRkZaC3RyYW5zcGFyZW50%26pageSize%3D21%26origin%3Dhttps://aneukrantau30.blogspot.com/%26usegapi%3D1%26jsh%3Dm;/_/scs/apps-static/_/js/k%253Doz.gapi.en_US.4sn9RO63fqo.O/am%253DAQ/d%253D1/rs%253DAGLTcCO5GqPeHrbNQGs79bP09BnjVkdwag/m%253D__features__%26bpli%3D1&amp;passive=true&amp;go=true#id=I0_1628070576357&amp;_gfid=I0_1628070576357&amp;parent=https%3A%2F%2Faneukrantau30.blogspot.com&amp;pfname=&amp;rpctoken=35022747\n",
      "https://fonts.gstatic.com/s/lora/v17/0QI6MX1D_JOuGQbT0gvTJPa787weuxJBkq0.woff2\n",
      "https://accounts.google.com/ServiceLogin?continue=https://www.blogger.com/followers.g?blogID%3D1719811995182941521%26colors%3DCgt0cmFuc3BhcmVudBILdHJhbnNwYXJlbnQaByMyMjIyMjIiByM5OTMzMDAqByNmZmY5ZWUyByMwMDAwMDA6ByMyMjIyMjJCByM5OTMzMDBKByM5OTk5OTlSByM5OTMzMDBaC3RyYW5zcGFyZW50%26pageSize%3D21%26origin%3Dhttps://makalebilgi.blogspot.com/%26usegapi%3D1%26jsh%3Dm;/_/scs/apps-static/_/js/k%253Doz.gapi.en_US.4sn9RO63fqo.O/am%253DAQ/d%253D1/rs%253DAGLTcCO5GqPeHrbNQGs79bP09BnjVkdwag/m%253D__features__%26bpli%3D1&amp;followup=https://www.blogger.com/followers.g?blogID%3D1719811995182941521%26colors%3DCgt0cmFuc3BhcmVudBILdHJhbnNwYXJlbnQaByMyMjIyMjIiByM5OTMzMDAqByNmZmY5ZWUyByMwMDAwMDA6ByMyMjIyMjJCByM5OTMzMDBKByM5OTk5OTlSByM5OTMzMDBaC3RyYW5zcGFyZW50%26pageSize%3D21%26origin%3Dhttps://makalebilgi.blogspot.com/%26usegapi%3D1%26jsh%3Dm;/_/scs/apps-static/_/js/k%253Doz.gapi.en_US.4sn9RO63fqo.O/am%253DAQ/d%253D1/rs%253DAGLTcCO5GqPeHrbNQGs79bP09BnjVkdwag/m%253D__features__%26bpli%3D1&amp;passive=true&amp;go=true#id=I0_1628328605507&amp;_gfid=I0_1628328605507&amp;parent=https%3A%2F%2Fmakalebilgi.blogspot.com&amp;pfname=&amp;rpctoken=14697473\n",
      "https://accounts.google.com/ServiceLogin?continue=https://www.blogger.com/followers.g?blogID%3D3512172885516050706%26colors%3DCgt0cmFuc3BhcmVudBILdHJhbnNwYXJlbnQaByMyMTIxMjEiByM2ODMxYzYqByNlY2VjZWMyByMwMDUxYzY6ByMyMTIxMjFCByM2ODMxYzZKByNjNjAwNTFSByM2ODMxYzZaC3RyYW5zcGFyZW50%26pageSize%3D21%26origin%3Dhttps://krdlogoped.blogspot.com/%26usegapi%3D1%26jsh%3Dm;/_/scs/apps-static/_/js/k%253Doz.gapi.en_US.4sn9RO63fqo.O/am%253DAQ/d%253D1/rs%253DAGLTcCO5GqPeHrbNQGs79bP09BnjVkdwag/m%253D__features__%26bpli%3D1&amp;followup=https://www.blogger.com/followers.g?blogID%3D3512172885516050706%26colors%3DCgt0cmFuc3BhcmVudBILdHJhbnNwYXJlbnQaByMyMTIxMjEiByM2ODMxYzYqByNlY2VjZWMyByMwMDUxYzY6ByMyMTIxMjFCByM2ODMxYzZKByNjNjAwNTFSByM2ODMxYzZaC3RyYW5zcGFyZW50%26pageSize%3D21%26origin%3Dhttps://krdlogoped.blogspot.com/%26usegapi%3D1%26jsh%3Dm;/_/scs/apps-static/_/js/k%253Doz.gapi.en_US.4sn9RO63fqo.O/am%253DAQ/d%253D1/rs%253DAGLTcCO5GqPeHrbNQGs79bP09BnjVkdwag/m%253D__features__%26bpli%3D1&amp;passive=true&amp;go=true#id=I0_1628177052604&amp;_gfid=I0_1628177052604&amp;parent=https%3A%2F%2Fkrdlogoped.blogspot.com&amp;pfname=&amp;rpctoken=35455960\n",
      "https://accounts.google.com/_/kids/signup/eligible?hl=fr&amp;_reqid=60643&amp;rt=j\n",
      "https://fonts.gstatic.com/s/lobster/v23/neILzCirqoswsqX9zoamM5Ez.woff2\n",
      "https://accounts.google.com/ServiceLogin?continue=https://www.blogger.com/followers.g?blogID%3D1719811995182941521%26colors%3DCgt0cmFuc3BhcmVudBILdHJhbnNwYXJlbnQaByMyMjIyMjIiByM5OTMzMDAqByNmZmY5ZWUyByMwMDAwMDA6ByMyMjIyMjJCByM5OTMzMDBKByM5OTk5OTlSByM5OTMzMDBaC3RyYW5zcGFyZW50%26pageSize%3D21%26origin%3Dhttps://makalebilgi.blogspot.com/%26usegapi%3D1%26jsh%3Dm;/_/scs/apps-static/_/js/k%253Doz.gapi.en_US.4sn9RO63fqo.O/am%253DAQ/d%253D1/rs%253DAGLTcCO5GqPeHrbNQGs79bP09BnjVkdwag/m%253D__features__%26bpli%3D1&amp;followup=https://www.blogger.com/followers.g?blogID%3D1719811995182941521%26colors%3DCgt0cmFuc3BhcmVudBILdHJhbnNwYXJlbnQaByMyMjIyMjIiByM5OTMzMDAqByNmZmY5ZWUyByMwMDAwMDA6ByMyMjIyMjJCByM5OTMzMDBKByM5OTk5OTlSByM5OTMzMDBaC3RyYW5zcGFyZW50%26pageSize%3D21%26origin%3Dhttps://makalebilgi.blogspot.com/%26usegapi%3D1%26jsh%3Dm;/_/scs/apps-static/_/js/k%253Doz.gapi.en_US.4sn9RO63fqo.O/am%253DAQ/d%253D1/rs%253DAGLTcCO5GqPeHrbNQGs79bP09BnjVkdwag/m%253D__features__%26bpli%3D1&amp;passive=true&amp;go=true#id=I0_1628010356341&amp;_gfid=I0_1628010356341&amp;parent=https%3A%2F%2Fmakalebilgi.blogspot.com&amp;pfname=&amp;rpctoken=19200774\n",
      "https://fonts.gstatic.com/s/roboto/v18/KFOmCnqEu92Fr1Mu4WxKOzY.woff2\n",
      "https://accounts.google.com/_/kids/signup/eligible?hl=fr&amp;_reqid=81037&amp;rt=j\n",
      "https://fonts.googleapis.com/css?family=DM+Sans:400,400i,500,500i,700,700i&amp;display=swap\n",
      "https://fonts.googleapis.com/css?family=Open+Sans:400,600,700\n",
      "https://fonts.googleapis.com/css?family=Poppins%3A%2C400%7CPoppins%3A%2C400%7CPoppins%3A%2C400%2C%2C400&amp;subset=latin%2Clatin-ext%2Ccyrillic%2Ccyrillic-ext%2Cgreek%2Cgreek-ext%2Cvietnamese&amp;ver=1.5\n",
      "https://fonts.gstatic.com/s/hind/v11/5aU69_a8oxmIdGl4BA.woff2\n",
      "https://fonts.gstatic.com/s/poppins/v15/pxiByp8kv8JHgFVrLGT9Z1xlFQ.woff2\n",
      "https://lh3.googleusercontent.com/a-/AOh14GjTJbJe32KSXltDt0T89JLdA_ZncoR4CxxmOaHZ6g=s96-p\n",
      "https://accounts.google.com/o/oauth2/auth/_/common/diagnostics/?diagnostics=%5B%5B%5B%22gaia_fe_minutemaid%3Ass%22%2Cnull%2Cnull%2Cnull%2C1628055182875%5D%5D%5D&amp;rt=j\n",
      "https://fonts.googleapis.com/css?family=Asap:regular,italic,500,500italic,700,700italic|Jura:300,regular,500,600|Lato:100,100italic,300,300italic,regular,italic,700,700italic,900,900italic\n",
      "https://fonts.googleapis.com/css2?family=Roboto:ital,wght@0,100;0,400;0,500;0,700;1,400;1,500&amp;display=swap\n",
      "https://fonts.gstatic.com/s/nunitosans/v6/pe03MImSLYBIv1o4X1M8cc9iB85tU1E.woff2\n",
      "https://fonts.googleapis.com/css?family=Open+Sans:300,400|Roboto:300,400,500&amp;lang=fr\n",
      "https://accounts.google.com/ServiceLogin?continue=https://www.blogger.com/followers.g?blogID%3D1719811995182941521%26colors%3DCgt0cmFuc3BhcmVudBILdHJhbnNwYXJlbnQaByMyMjIyMjIiByM5OTMzMDAqByNmZmY5ZWUyByMwMDAwMDA6ByMyMjIyMjJCByM5OTMzMDBKByM5OTk5OTlSByM5OTMzMDBaC3RyYW5zcGFyZW50%26pageSize%3D21%26origin%3Dhttps://makalebilgi.blogspot.com/%26usegapi%3D1%26jsh%3Dm;/_/scs/apps-static/_/js/k%253Doz.gapi.en_US.4sn9RO63fqo.O/am%253DAQ/d%253D1/rs%253DAGLTcCO5GqPeHrbNQGs79bP09BnjVkdwag/m%253D__features__%26bpli%3D1&amp;followup=https://www.blogger.com/followers.g?blogID%3D1719811995182941521%26colors%3DCgt0cmFuc3BhcmVudBILdHJhbnNwYXJlbnQaByMyMjIyMjIiByM5OTMzMDAqByNmZmY5ZWUyByMwMDAwMDA6ByMyMjIyMjJCByM5OTMzMDBKByM5OTk5OTlSByM5OTMzMDBaC3RyYW5zcGFyZW50%26pageSize%3D21%26origin%3Dhttps://makalebilgi.blogspot.com/%26usegapi%3D1%26jsh%3Dm;/_/scs/apps-static/_/js/k%253Doz.gapi.en_US.4sn9RO63fqo.O/am%253DAQ/d%253D1/rs%253DAGLTcCO5GqPeHrbNQGs79bP09BnjVkdwag/m%253D__features__%26bpli%3D1&amp;passive=true&amp;go=true#id=I0_1628319261452&amp;_gfid=I0_1628319261452&amp;parent=https%3A%2F%2Fmakalebilgi.blogspot.com&amp;pfname=&amp;rpctoken=34091179\n",
      "https://fonts.googleapis.com/css?family=Roboto:400,500&amp;lang=fr\n",
      "https://accounts.google.com/ServiceLogin?continue=https://www.blogger.com/followers.g?blogID%3D1719811995182941521%26colors%3DCgt0cmFuc3BhcmVudBILdHJhbnNwYXJlbnQaByMyMjIyMjIiByM5OTMzMDAqByNmZmY5ZWUyByMwMDAwMDA6ByMyMjIyMjJCByM5OTMzMDBKByM5OTk5OTlSByM5OTMzMDBaC3RyYW5zcGFyZW50%26pageSize%3D21%26origin%3Dhttps://makalebilgi.blogspot.com/%26usegapi%3D1%26jsh%3Dm;/_/scs/apps-static/_/js/k%253Doz.gapi.en_US.4sn9RO63fqo.O/am%253DAQ/d%253D1/rs%253DAGLTcCO5GqPeHrbNQGs79bP09BnjVkdwag/m%253D__features__%26bpli%3D1&amp;followup=https://www.blogger.com/followers.g?blogID%3D1719811995182941521%26colors%3DCgt0cmFuc3BhcmVudBILdHJhbnNwYXJlbnQaByMyMjIyMjIiByM5OTMzMDAqByNmZmY5ZWUyByMwMDAwMDA6ByMyMjIyMjJCByM5OTMzMDBKByM5OTk5OTlSByM5OTMzMDBaC3RyYW5zcGFyZW50%26pageSize%3D21%26origin%3Dhttps://makalebilgi.blogspot.com/%26usegapi%3D1%26jsh%3Dm;/_/scs/apps-static/_/js/k%253Doz.gapi.en_US.4sn9RO63fqo.O/am%253DAQ/d%253D1/rs%253DAGLTcCO5GqPeHrbNQGs79bP09BnjVkdwag/m%253D__features__%26bpli%3D1&amp;passive=true&amp;go=true#id=I0_1628728302188&amp;_gfid=I0_1628728302188&amp;parent=https%3A%2F%2Fmakalebilgi.blogspot.com&amp;pfname=&amp;rpctoken=17729331\n",
      "https://fonts.gstatic.com/s/oswald/v40/TK3_WkUHHAIjg75cFRf3bXL8LICs1_FvsUliZTaR.woff2\n",
      "https://fonts.gstatic.com/s/opensans/v21/mem5YaGs126MiZpBA-UN7rgOXehpOqc.woff2\n",
      "https://fonts.gstatic.com/s/lato/v17/S6u9w4BMUTPHh50XSwiPGQ.woff2\n",
      "https://lh3.googleusercontent.com/a-/AOh14Gjwa3cQMaA0QWFOjCRAOB4Qi4icO59ja0Ij7LGVAg=s96-p\n",
      "https://accounts.google.com/_/kids/signup/eligible?hl=fr&amp;_reqid=61094&amp;rt=j\n",
      "https://fonts.gstatic.com/s/merriweather/v22/u-4m0qyriQwlOrhSvowK_l5-eRZOf-c.ttf\n",
      "https://fonts.gstatic.com/s/montserrat/v16/JTURjIg1_i6t8kCHKm45_ZpC3gnD_g.woff2\n",
      "https://fonts.googleapis.com/css?family=Roboto:300,400,500&amp;lang=fr\n",
      "https://accounts.google.com/signin/v2/_/common/diagnostics/?diagnostics=%5B%5B%5B%22gaia_fe_minutemaid%3Ass%22%2Cnull%2Cnull%2Cnull%2C1628100091272%5D%5D%5D&amp;rt=j\n",
      "https://accounts.google.com/signin/v2/_/common/diagnostics/?diagnostics=%5B%5B%5B%22gaia_fe_minutemaid%3Ass%22%2Cnull%2Cnull%2Cnull%2C1628752291469%5D%5D%5D&amp;rt=j\n",
      "https://fonts.googleapis.com/css?family=IBM+Plex+Sans%3A400%2C500%2C600%2C700%7CMerriweather%3A300%2C300i%7CLora%3A400%2C400i&amp;display=swap\n",
      "https://accounts.google.com/ServiceLogin?continue=https://www.blogger.com/followers.g?blogID%3D3512172885516050706%26colors%3DCgt0cmFuc3BhcmVudBILdHJhbnNwYXJlbnQaByMyMTIxMjEiByM2ODMxYzYqByNlY2VjZWMyByMwMDUxYzY6ByMyMTIxMjFCByM2ODMxYzZKByNjNjAwNTFSByM2ODMxYzZaC3RyYW5zcGFyZW50%26pageSize%3D21%26origin%3Dhttps://krdlogoped.blogspot.com/%26usegapi%3D1%26jsh%3Dm;/_/scs/apps-static/_/js/k%253Doz.gapi.en_US.4sn9RO63fqo.O/am%253DAQ/d%253D1/rs%253DAGLTcCO5GqPeHrbNQGs79bP09BnjVkdwag/m%253D__features__%26bpli%3D1&amp;followup=https://www.blogger.com/followers.g?blogID%3D3512172885516050706%26colors%3DCgt0cmFuc3BhcmVudBILdHJhbnNwYXJlbnQaByMyMTIxMjEiByM2ODMxYzYqByNlY2VjZWMyByMwMDUxYzY6ByMyMTIxMjFCByM2ODMxYzZKByNjNjAwNTFSByM2ODMxYzZaC3RyYW5zcGFyZW50%26pageSize%3D21%26origin%3Dhttps://krdlogoped.blogspot.com/%26usegapi%3D1%26jsh%3Dm;/_/scs/apps-static/_/js/k%253Doz.gapi.en_US.4sn9RO63fqo.O/am%253DAQ/d%253D1/rs%253DAGLTcCO5GqPeHrbNQGs79bP09BnjVkdwag/m%253D__features__%26bpli%3D1&amp;passive=true&amp;go=true#id=I0_1628076635360&amp;_gfid=I0_1628076635360&amp;parent=https%3A%2F%2Fkrdlogoped.blogspot.com&amp;pfname=&amp;rpctoken=86780768\n",
      "https://fonts.gstatic.com/s/roboto/v27/KFOlCnqEu92Fr1MmEU9fBxc4EsA.woff2\n",
      "https://fonts.gstatic.com/s/googlesans/v14/4UabrENHsxJlGDuGo1OIlLU94YtzCwY.woff2\n",
      "https://accounts.google.com/_/kids/signup/eligible?hl=fr&amp;_reqid=83835&amp;rt=j\n",
      "https://fonts.gstatic.com/s/montserrat/v17/JTURjIg1_i6t8kCHKm45_cJD3gnD_g.woff2\n",
      "https://www.gstatic.com/devrel-devsite/prod/v0492b3db79b8927fe2347ea2dc87c471b22f173331622ffd10334837d43ea37f/js/devsite_devsite_sitemask_module.js\n",
      "https://lh3.googleusercontent.com/a-/AOh14Gi_33sg1s3d0Ed5bE5yvpmetxTBqx0dbHe-Fujyvw=s96-p\n",
      "https://fonts.gstatic.com/s/lato/v20/S6uyw4BMUTPHjxAwXjeu.woff2\n",
      "https://lh3.googleusercontent.com/a-/AOh14GhErQQK8VD6IHPaqxoXcsEymXH2FBWHrSxCKKGZ=s96-p\n",
      "https://accounts.google.com/_/kids/signup/eligible?hl=fr&amp;_reqid=83037&amp;rt=j\n",
      "https://fonts.googleapis.com/css?family=Didact+Gothic\n",
      "https://accounts.google.com/_/kids/signup/eligible?hl=fr&amp;_reqid=29420&amp;rt=j\n",
      "https://lh3.googleusercontent.com/20cvQ98y1YUVI38pgyeEs0dnkKhRG0Cr4wjLmHH4rRFs_KrOM_JK1feG5EWb1-eZkhKMAbeJ4cY3_nITovwK_b8H-4fNRWYEBHEFCA=w298-h170-p-nu-pa\n",
      "https://fonts.gstatic.com/s/roboto/v27/KFOlCnqEu92Fr1MmSU5fABc4EsA.woff2\n",
      "https://accounts.google.com/_/kids/signup/eligible?hl=fr&amp;_reqid=79686&amp;rt=j\n",
      "https://accounts.google.com/_/kids/signup/eligible?hl=fr&amp;_reqid=79583&amp;rt=j\n",
      "https://fonts.gstatic.com/s/prompt/v5/-W_8XJnvUD7dzB2Cy_gIaWMu.woff2\n",
      "https://fonts.gstatic.com/s/googlesans/v27/4UabrENHsxJlGDuGo1OIlLU94YtwCwZ-Pw.woff2\n",
      "https://fonts.googleapis.com/css?family=Roboto%20Slab%3A300%2C400%7CRaleway%3A400%2C500%2C700&amp;subset=latin-ext\n",
      "https://fonts.gstatic.com/s/roboto/v27/KFOlCnqEu92Fr1MmEU9fCRc4EsA.woff2\n",
      "https://fonts.gstatic.com/s/overpass/v5/qFdA35WCmI96Ajtm81keds7N4ho.woff2\n",
      "https://fonts.googleapis.com/css?family=Noto+Sans\n",
      "https://fonts.gstatic.com/s/productsans/v13/pxiDypQkot1TnFhsFMOfGShVF9eO.woff2\n",
      "https://lh3.googleusercontent.com/proxy/oxYR6TSeBuBWSio9ZPEzqQ_MxVQm5WxMK8OkYU0eVpl0ZhALdpNDB3RpVPwcPlkzRqbnGu3pictRs-BRjQ6zyQqs-avS_EM=w720-h377-rj-pd-pc0x00e9e9e9\n",
      "https://www.gstatic.com/devrel-devsite/prod/v0492b3db79b8927fe2347ea2dc87c471b22f173331622ffd10334837d43ea37f/js/devsite_devsite_search_module.js\n",
      "https://accounts.google.com/ServiceLogin?continue=https://www.blogger.com/followers.g?blogID%3D6949068298798094008%26colors%3DCgt0cmFuc3BhcmVudBILdHJhbnNwYXJlbnQaByMwMDAwMDAiByMwMDAwMDAqByNGRkZGRkYyByMwMDAwMDA6ByMwMDAwMDBCByMwMDAwMDBKByMwMDAwMDBSByNGRkZGRkZaC3RyYW5zcGFyZW50%26pageSize%3D21%26origin%3Dhttps://aneukrantau30.blogspot.com/%26usegapi%3D1%26jsh%3Dm;/_/scs/apps-static/_/js/k%253Doz.gapi.en_US.4sn9RO63fqo.O/am%253DAQ/d%253D1/rs%253DAGLTcCO5GqPeHrbNQGs79bP09BnjVkdwag/m%253D__features__%26bpli%3D1&amp;followup=https://www.blogger.com/followers.g?blogID%3D6949068298798094008%26colors%3DCgt0cmFuc3BhcmVudBILdHJhbnNwYXJlbnQaByMwMDAwMDAiByMwMDAwMDAqByNGRkZGRkYyByMwMDAwMDA6ByMwMDAwMDBCByMwMDAwMDBKByMwMDAwMDBSByNGRkZGRkZaC3RyYW5zcGFyZW50%26pageSize%3D21%26origin%3Dhttps://aneukrantau30.blogspot.com/%26usegapi%3D1%26jsh%3Dm;/_/scs/apps-static/_/js/k%253Doz.gapi.en_US.4sn9RO63fqo.O/am%253DAQ/d%253D1/rs%253DAGLTcCO5GqPeHrbNQGs79bP09BnjVkdwag/m%253D__features__%26bpli%3D1&amp;passive=true&amp;go=true#id=I0_1628038717721&amp;_gfid=I0_1628038717721&amp;parent=https%3A%2F%2Faneukrantau30.blogspot.com&amp;pfname=&amp;rpctoken=14983766\n",
      "https://fonts.gstatic.com/s/oswald/v39/TK3_WkUHHAIjg75cFRf3bXL8LICs1_FvsUliZTaR.woff2\n",
      "https://accounts.google.com/_/kids/signup/eligible?hl=fr&amp;_reqid=68745&amp;rt=j\n",
      "https://lh3.googleusercontent.com/p/AF1QipMv_gYpiE-w5lbAuDv4gM4GIWOQAt788LAEQOfQ=s1280-p-no-v1\n",
      "https://fonts.gstatic.com/s/opensans/v21/mem8YaGs126MiZpBA-UFWp0bbck.woff2\n",
      "https://accounts.google.com/_/kids/signup/eligible?hl=fr&amp;_reqid=60735&amp;rt=j\n",
      "https://fonts.googleapis.com/css?family=Roboto:300,400,400i,500,500&amp;display=swap\n",
      "https://www.gstatic.com/images/branding/googlelogo/1x/googlelogo_color_84x28dp.png\n",
      "https://accounts.google.com/_/kids/signup/eligible?hl=fr&amp;_reqid=85537&amp;rt=j\n",
      "https://fonts.gstatic.com/s/muli/v22/7Aulp_0qiz-aVz7u3PJLcUMYOFkQl0k30eg.woff2\n",
      "https://accounts.google.com/_/kids/signup/eligible?hl=fr&amp;_reqid=81359&amp;rt=j\n",
      "https://www.gstatic.com/devrel-devsite/prod/v0089c83aa8227c3439bf2708c0795dd13db533711d44eb626e640152d9fdf05e/nest/css/app.css\n",
      "https://www.gstatic.com/devrel-devsite/prod/v0089c83aa8227c3439bf2708c0795dd13db533711d44eb626e640152d9fdf05e/js/devsite_devsite_progress_module.js\n",
      "https://accounts.google.com/ServiceLogin?continue=https://www.blogger.com/followers.g?blogID%3D1719811995182941521%26colors%3DCgt0cmFuc3BhcmVudBILdHJhbnNwYXJlbnQaByMyMjIyMjIiByM5OTMzMDAqByNmZmY5ZWUyByMwMDAwMDA6ByMyMjIyMjJCByM5OTMzMDBKByM5OTk5OTlSByM5OTMzMDBaC3RyYW5zcGFyZW50%26pageSize%3D21%26origin%3Dhttps://makalebilgi.blogspot.com/%26usegapi%3D1%26jsh%3Dm;/_/scs/apps-static/_/js/k%253Doz.gapi.en_US.4sn9RO63fqo.O/am%253DAQ/d%253D1/rs%253DAGLTcCO5GqPeHrbNQGs79bP09BnjVkdwag/m%253D__features__%26bpli%3D1&amp;followup=https://www.blogger.com/followers.g?blogID%3D1719811995182941521%26colors%3DCgt0cmFuc3BhcmVudBILdHJhbnNwYXJlbnQaByMyMjIyMjIiByM5OTMzMDAqByNmZmY5ZWUyByMwMDAwMDA6ByMyMjIyMjJCByM5OTMzMDBKByM5OTk5OTlSByM5OTMzMDBaC3RyYW5zcGFyZW50%26pageSize%3D21%26origin%3Dhttps://makalebilgi.blogspot.com/%26usegapi%3D1%26jsh%3Dm;/_/scs/apps-static/_/js/k%253Doz.gapi.en_US.4sn9RO63fqo.O/am%253DAQ/d%253D1/rs%253DAGLTcCO5GqPeHrbNQGs79bP09BnjVkdwag/m%253D__features__%26bpli%3D1&amp;passive=true&amp;go=true#id=I0_1628587587567&amp;_gfid=I0_1628587587567&amp;parent=https%3A%2F%2Fmakalebilgi.blogspot.com&amp;pfname=&amp;rpctoken=61105891\n",
      "https://accounts.google.com/ServiceLogin?continue=https://www.blogger.com/followers.g?blogID%3D3756545811499060445%26colors%3DCgt0cmFuc3BhcmVudBILdHJhbnNwYXJlbnQaByM3Nzc3NzciByMzNTYwYWIqByMzNTYwYWIyByMwMDAwMDA6ByM3Nzc3NzdCByMzNTYwYWJKByMwMDAwMDBSByNGRkZGRkZaC3RyYW5zcGFyZW50%26pageSize%3D21%26origin%3Dhttps://www.tafhem.com/%26usegapi%3D1%26jsh%3Dm;/_/scs/apps-static/_/js/k%253Doz.gapi.en_US.4sn9RO63fqo.O/am%253DAQ/d%253D1/rs%253DAGLTcCO5GqPeHrbNQGs79bP09BnjVkdwag/m%253D__features__%26bpli%3D1&amp;followup=https://www.blogger.com/followers.g?blogID%3D3756545811499060445%26colors%3DCgt0cmFuc3BhcmVudBILdHJhbnNwYXJlbnQaByM3Nzc3NzciByMzNTYwYWIqByMzNTYwYWIyByMwMDAwMDA6ByM3Nzc3NzdCByMzNTYwYWJKByMwMDAwMDBSByNGRkZGRkZaC3RyYW5zcGFyZW50%26pageSize%3D21%26origin%3Dhttps://www.tafhem.com/%26usegapi%3D1%26jsh%3Dm;/_/scs/apps-static/_/js/k%253Doz.gapi.en_US.4sn9RO63fqo.O/am%253DAQ/d%253D1/rs%253DAGLTcCO5GqPeHrbNQGs79bP09BnjVkdwag/m%253D__features__%26bpli%3D1&amp;passive=true&amp;go=true#id=I0_1628085954615&amp;_gfid=I0_1628085954615&amp;parent=https%3A%2F%2Fwww.tafhem.com&amp;pfname=&amp;rpctoken=25269554\n",
      "https://www.gstatic.com/devrel-devsite/prod/v0089c83aa8227c3439bf2708c0795dd13db533711d44eb626e640152d9fdf05e/nest/images/touchicon-180.png\n",
      "https://lh3.googleusercontent.com/8UC6rtQJCtXuhMckZWru8Nam1DAH8F1bqdbQpj5cqYpylSHiiakJG17kGWqViHcs8EXfK_wBmSA3=w270-h479-no\n",
      "https://lh3.googleusercontent.com/_qQNH0jXTRL503gjHPiNVtot8HyyirIwsmC1P_13FCR6abiVEqhdmLrVh3tsnrupYZ_SoX8qWOxy=w1374-h487-no\n",
      "https://www.gstatic.com/devrel-devsite/prod/v0089c83aa8227c3439bf2708c0795dd13db533711d44eb626e640152d9fdf05e/js/devsite_devsite_toc_module.js\n",
      "https://accounts.google.com/_/kids/signup/eligible?hl=fr&amp;_reqid=55618&amp;rt=j\n",
      "https://fonts.gstatic.com/s/googlesans/v27/4UabrENHsxJlGDuGo1OIlLU94Yt3CwZ-Pw.woff2\n",
      "https://accounts.google.com/_/kids/signup/eligible?hl=fr&amp;_reqid=23907&amp;rt=j\n",
      "https://www.gstatic.com/devrel-devsite/prod/v0089c83aa8227c3439bf2708c0795dd13db533711d44eb626e640152d9fdf05e/js/devsite_devsite_language_selector_module.js\n",
      "https://fonts.googleapis.com/css?family=Roboto%3A100%2C100italic%2C200%2C200italic%2C300%2C300italic%2C400%2C400italic%2C500%2C500italic%2C600%2C600italic%2C700%2C700italic%2C800%2C800italic%2C900%2C900italic%7CRoboto+Slab%3A100%2C100italic%2C200%2C200italic%2C300%2C300italic%2C400%2C400italic%2C500%2C500italic%2C600%2C600italic%2C700%2C700italic%2C800%2C800italic%2C900%2C900italic%7CMuli%3A100%2C100italic%2C200%2C200italic%2C300%2C300italic%2C400%2C400italic%2C500%2C500italic%2C600%2C600italic%2C700%2C700italic%2C800%2C800italic%2C900%2C900italic%7CMali%3A100%2C100italic%2C200%2C200italic%2C300%2C300italic%2C400%2C400italic%2C500%2C500italic%2C600%2C600italic%2C700%2C700italic%2C800%2C800italic%2C900%2C900italic&amp;ver=5.7.2\n",
      "https://accounts.google.com/ServiceLogin?continue=http://www.blogger.com/followers.g?blogID%3D1719811995182941521%26colors%3DCgt0cmFuc3BhcmVudBILdHJhbnNwYXJlbnQaByMyMjIyMjIiByM5OTMzMDAqByNmZmY5ZWUyByMwMDAwMDA6ByMyMjIyMjJCByM5OTMzMDBKByM5OTk5OTlSByM5OTMzMDBaC3RyYW5zcGFyZW50%26pageSize%3D21%26origin%3Dhttps://makalebilgi.blogspot.com/%26usegapi%3D1%26jsh%3Dm;/_/scs/apps-static/_/js/k%253Doz.gapi.en_US.4sn9RO63fqo.O/am%253DAQ/d%253D1/rs%253DAGLTcCO5GqPeHrbNQGs79bP09BnjVkdwag/m%253D__features__%26bpli%3D1&amp;followup=http://www.blogger.com/followers.g?blogID%3D1719811995182941521%26colors%3DCgt0cmFuc3BhcmVudBILdHJhbnNwYXJlbnQaByMyMjIyMjIiByM5OTMzMDAqByNmZmY5ZWUyByMwMDAwMDA6ByMyMjIyMjJCByM5OTMzMDBKByM5OTk5OTlSByM5OTMzMDBaC3RyYW5zcGFyZW50%26pageSize%3D21%26origin%3Dhttps://makalebilgi.blogspot.com/%26usegapi%3D1%26jsh%3Dm;/_/scs/apps-static/_/js/k%253Doz.gapi.en_US.4sn9RO63fqo.O/am%253DAQ/d%253D1/rs%253DAGLTcCO5GqPeHrbNQGs79bP09BnjVkdwag/m%253D__features__%26bpli%3D1&amp;passive=true&amp;go=true#id=I0_1628208652643&amp;_gfid=I0_1628208652643&amp;parent=https%3A%2F%2Fmakalebilgi.blogspot.com&amp;pfname=&amp;rpctoken=21852709\n",
      "https://fonts.gstatic.com/s/lato/v19/S6uyw4BMUTPHjx4wXg.woff2\n",
      "https://fonts.googleapis.com/css?family=Google%20Sans%3A400%2C500\n",
      "https://www.gstatic.com/devrel-devsite/prod/v0089c83aa8227c3439bf2708c0795dd13db533711d44eb626e640152d9fdf05e/nest/images/lockup.svg\n",
      "https://lh3.googleusercontent.com/wrHKPwn_RKCusdpmICnKeZoYVzfup5x3e6UFj58iVzEymAnru1XWjhrl2mFu5eLJ8XMp_6uNuffhhCr0HiIGUtQkhh4WKXH-COzmOA=s768\n",
      "https://accounts.google.com/ServiceLogin?continue=http://www.blogger.com/followers.g?blogID%3D3756545811499060445%26colors%3DCgt0cmFuc3BhcmVudBILdHJhbnNwYXJlbnQaByM3Nzc3NzciByMzNTYwYWIqByMzNTYwYWIyByMwMDAwMDA6ByM3Nzc3NzdCByMzNTYwYWJKByMwMDAwMDBSByNGRkZGRkZaC3RyYW5zcGFyZW50%26pageSize%3D21%26origin%3Dhttps://www.tafhem.com/%26usegapi%3D1%26jsh%3Dm;/_/scs/apps-static/_/js/k%253Doz.gapi.en_US.4sn9RO63fqo.O/am%253DAQ/d%253D1/rs%253DAGLTcCO5GqPeHrbNQGs79bP09BnjVkdwag/m%253D__features__%26bpli%3D1&amp;followup=http://www.blogger.com/followers.g?blogID%3D3756545811499060445%26colors%3DCgt0cmFuc3BhcmVudBILdHJhbnNwYXJlbnQaByM3Nzc3NzciByMzNTYwYWIqByMzNTYwYWIyByMwMDAwMDA6ByM3Nzc3NzdCByMzNTYwYWJKByMwMDAwMDBSByNGRkZGRkZaC3RyYW5zcGFyZW50%26pageSize%3D21%26origin%3Dhttps://www.tafhem.com/%26usegapi%3D1%26jsh%3Dm;/_/scs/apps-static/_/js/k%253Doz.gapi.en_US.4sn9RO63fqo.O/am%253DAQ/d%253D1/rs%253DAGLTcCO5GqPeHrbNQGs79bP09BnjVkdwag/m%253D__features__%26bpli%3D1&amp;passive=true&amp;go=true#id=I0_1628547612152&amp;_gfid=I0_1628547612152&amp;parent=https%3A%2F%2Fwww.tafhem.com&amp;pfname=&amp;rpctoken=23926466\n",
      "https://accounts.google.com/o/oauth2/auth/_/common/diagnostics/?diagnostics=%5B%5B%5B%22gaia_fe_minutemaid%3Ass%22%2Cnull%2Cnull%2Cnull%2C1628178260835%5D%5D%5D&amp;rt=j\n",
      "https://lh3.googleusercontent.com/a-/AOh14GjkkyeLOtRx_Yj7G4uuckCtGSsCpFunbyhgTcqK=s96-p\n",
      "https://lh3.googleusercontent.com/DmpK8ugt7esqJ4s8hDBJRCeW_dVp40duUXRr-V4Yxvvon2ZxL-jM2Ukjyk834RQcHmDROFj4BihuhovNpRIwkY8RjBu7KALQtfV_hQ=s2500\n",
      "https://accounts.google.com/ServiceLogin?continue=https://www.blogger.com/followers.g?blogID%3D1719811995182941521%26colors%3DCgt0cmFuc3BhcmVudBILdHJhbnNwYXJlbnQaByMyMjIyMjIiByM5OTMzMDAqByNmZmY5ZWUyByMwMDAwMDA6ByMyMjIyMjJCByM5OTMzMDBKByM5OTk5OTlSByM5OTMzMDBaC3RyYW5zcGFyZW50%26pageSize%3D21%26origin%3Dhttps://makalebilgi.blogspot.com/%26usegapi%3D1%26jsh%3Dm;/_/scs/apps-static/_/js/k%253Doz.gapi.en_US.4sn9RO63fqo.O/am%253DAQ/d%253D1/rs%253DAGLTcCO5GqPeHrbNQGs79bP09BnjVkdwag/m%253D__features__%26bpli%3D1&amp;followup=https://www.blogger.com/followers.g?blogID%3D1719811995182941521%26colors%3DCgt0cmFuc3BhcmVudBILdHJhbnNwYXJlbnQaByMyMjIyMjIiByM5OTMzMDAqByNmZmY5ZWUyByMwMDAwMDA6ByMyMjIyMjJCByM5OTMzMDBKByM5OTk5OTlSByM5OTMzMDBaC3RyYW5zcGFyZW50%26pageSize%3D21%26origin%3Dhttps://makalebilgi.blogspot.com/%26usegapi%3D1%26jsh%3Dm;/_/scs/apps-static/_/js/k%253Doz.gapi.en_US.4sn9RO63fqo.O/am%253DAQ/d%253D1/rs%253DAGLTcCO5GqPeHrbNQGs79bP09BnjVkdwag/m%253D__features__%26bpli%3D1&amp;passive=true&amp;go=true#id=I0_1628170286851&amp;_gfid=I0_1628170286851&amp;parent=https%3A%2F%2Fmakalebilgi.blogspot.com&amp;pfname=&amp;rpctoken=15253499\n",
      "https://accounts.google.com/signin/v2/_/common/diagnostics/?diagnostics=%5B%5B%5B%22gaia_fe_minutemaid%3Ass%22%2Cnull%2Cnull%2Cnull%2C1628129314762%5D%5D%5D&amp;rt=j\n",
      "https://fonts.gstatic.com/s/googlesans/v35/4UabrENHsxJlGDuGo1OIlLU94YtzCwY.woff2\n",
      "https://accounts.google.com/ServiceLogin?continue=https://www.blogger.com/followers.g?blogID%3D3512172885516050706%26colors%3DCgt0cmFuc3BhcmVudBILdHJhbnNwYXJlbnQaByMyMTIxMjEiByM2ODMxYzYqByNlY2VjZWMyByMwMDUxYzY6ByMyMTIxMjFCByM2ODMxYzZKByNjNjAwNTFSByM2ODMxYzZaC3RyYW5zcGFyZW50%26pageSize%3D21%26origin%3Dhttps://krdlogoped.blogspot.com/%26usegapi%3D1%26jsh%3Dm;/_/scs/apps-static/_/js/k%253Doz.gapi.en_US.4sn9RO63fqo.O/am%253DAQ/d%253D1/rs%253DAGLTcCO5GqPeHrbNQGs79bP09BnjVkdwag/m%253D__features__%26bpli%3D1&amp;followup=https://www.blogger.com/followers.g?blogID%3D3512172885516050706%26colors%3DCgt0cmFuc3BhcmVudBILdHJhbnNwYXJlbnQaByMyMTIxMjEiByM2ODMxYzYqByNlY2VjZWMyByMwMDUxYzY6ByMyMTIxMjFCByM2ODMxYzZKByNjNjAwNTFSByM2ODMxYzZaC3RyYW5zcGFyZW50%26pageSize%3D21%26origin%3Dhttps://krdlogoped.blogspot.com/%26usegapi%3D1%26jsh%3Dm;/_/scs/apps-static/_/js/k%253Doz.gapi.en_US.4sn9RO63fqo.O/am%253DAQ/d%253D1/rs%253DAGLTcCO5GqPeHrbNQGs79bP09BnjVkdwag/m%253D__features__%26bpli%3D1&amp;passive=true&amp;go=true#id=I0_1628342251783&amp;_gfid=I0_1628342251783&amp;parent=https%3A%2F%2Fkrdlogoped.blogspot.com&amp;pfname=&amp;rpctoken=10318435\n",
      "https://fonts.gstatic.com/s/oswald/v36/TK3_WkUHHAIjg75cFRf3bXL8LICs1_FvsUJiZTaR.woff2\n",
      "https://fonts.gstatic.com/s/montserrat/v18/JTURjIg1_i6t8kCHKm45_cJD3gnD_g.woff2\n",
      "https://www.gstatic.com/devrel-devsite/prod/v0089c83aa8227c3439bf2708c0795dd13db533711d44eb626e640152d9fdf05e/js/devsite_devsite_user_module.js\n",
      "https://fonts.googleapis.com/css?family=Oswald|Muli|Ovo&amp;display=swap\n",
      "https://accounts.google.com/_/kids/signup/eligible?hl=fr&amp;_reqid=59468&amp;rt=j\n",
      "https://fonts.gstatic.com/s/oswald/v36/TK3_WkUHHAIjg75cFRf3bXL8LICs1_FvsUliZTaR.woff2\n",
      "https://accounts.google.com/_/kids/signup/eligible?hl=fr&amp;_reqid=7629&amp;rt=j\n",
      "https://accounts.google.com/ServiceLogin?continue=http://www.blogger.com/followers.g?blogID%3D6949068298798094008%26colors%3DCgt0cmFuc3BhcmVudBILdHJhbnNwYXJlbnQaByMwMDAwMDAiByMwMDAwMDAqByNGRkZGRkYyByMwMDAwMDA6ByMwMDAwMDBCByMwMDAwMDBKByMwMDAwMDBSByNGRkZGRkZaC3RyYW5zcGFyZW50%26pageSize%3D21%26origin%3Dhttps://aneukrantau30.blogspot.com/%26usegapi%3D1%26jsh%3Dm;/_/scs/apps-static/_/js/k%253Doz.gapi.en_US.4sn9RO63fqo.O/am%253DAQ/d%253D1/rs%253DAGLTcCO5GqPeHrbNQGs79bP09BnjVkdwag/m%253D__features__%26bpli%3D1&amp;followup=http://www.blogger.com/followers.g?blogID%3D6949068298798094008%26colors%3DCgt0cmFuc3BhcmVudBILdHJhbnNwYXJlbnQaByMwMDAwMDAiByMwMDAwMDAqByNGRkZGRkYyByMwMDAwMDA6ByMwMDAwMDBCByMwMDAwMDBKByMwMDAwMDBSByNGRkZGRkZaC3RyYW5zcGFyZW50%26pageSize%3D21%26origin%3Dhttps://aneukrantau30.blogspot.com/%26usegapi%3D1%26jsh%3Dm;/_/scs/apps-static/_/js/k%253Doz.gapi.en_US.4sn9RO63fqo.O/am%253DAQ/d%253D1/rs%253DAGLTcCO5GqPeHrbNQGs79bP09BnjVkdwag/m%253D__features__%26bpli%3D1&amp;passive=true&amp;go=true#id=I0_1628117858560&amp;_gfid=I0_1628117858560&amp;parent=https%3A%2F%2Faneukrantau30.blogspot.com&amp;pfname=&amp;rpctoken=85115883\n",
      "https://fonts.gstatic.com/s/opensans/v18/mem5YaGs126MiZpBA-UN7rgOUuhp.woff2\n",
      "https://fonts.googleapis.com/css?family=Montserrat:500,700&amp;display=swap\n",
      "https://fonts.gstatic.com/s/muli/v22/7Aulp_0qiz-aVz7u3PJLcUMYOFnOkEk30eg.woff2\n",
      "https://accounts.google.com/_/kids/signup/eligible?hl=fr&amp;_reqid=71960&amp;rt=j\n",
      "https://fonts.googleapis.com/css?family=Open+Sans:300,400&amp;subset=latin,latin-ext\n",
      "https://accounts.google.com/_/kids/signup/eligible?hl=fr&amp;_reqid=25893&amp;rt=j\n",
      "https://www.gstatic.com/_/mss/boq-geo/_/js/k=boq-geo.GeoMerchantPrestoSiteUi.en_US.fofLzo0j7ak.es5.O/ck=boq-geo.GeoMerchantPrestoSiteUi.G2AuozuRP-8.L.F4.O/am=BIEAgACA/d=1/exm=LEikZe,_b,_tp,byfTOb,lsjVmc/excm=_b,_tp,siteview/ed=1/wt=2/rs=AD4das0Ysg0JVr1k1pKek_3N9iYcA6KKlg/m=n73qwf,ws9Tlc,IZT63,e5qFLc,GkRiKb,vfuNJf,UUJqVe,O1Gjze,xUdipf,blwjVc,fKUV3e,aurFic,COQbmf,U0aPgd,ZwDk9d,V3dDOb,mI3LFb,O6y8ed,NpD4ec,PrPYRd,iWP1Yb,SF3gsd,MpJwZc,O8k1Cd,NwH0H,OmgaI,HLo3Ef,x60fie,xiqEse,lazG7b,XVMNvd,L1AAkb,KUM7Z,lfpdyf,hc6Ubd,lwddkf,gychg,w9hDv,RMhBfe,qCSYWe,SdcwHb,aW3pY,YLQSd,PQaYAf,SpsfSb,EFQ78c,Ulmmrd,ZfAoz,mdR7q,CBlRxf,MdUzUe,xQtZb,lPKSwe,o02Jie,JNoxi,MI6k7c,kjKdXe,pB6Zqd,rHjpXd,yDVVkb,hKSk3e,zbML3c,iTsyac,Uas9Hd,BVgquf,KG2eXe,tfTN8c,VwDzFe,HDvRde,A7fCU,UgAtXe,pjICDe\n",
      "https://accounts.google.com/signin/v2/_/common/diagnostics/?diagnostics=%5B%5B%5B%22gaia_fe_minutemaid%3Ass%22%2Cnull%2Cnull%2Cnull%2C1628249040134%5D%5D%5D&amp;rt=j\n",
      "https://accounts.google.com/o/oauth2/auth/_/common/diagnostics/?diagnostics=%5B%5B%5B%22gaia_fe_minutemaid%3Ass%22%2Cnull%2Cnull%2Cnull%2C1628044652599%5D%5D%5D&amp;rt=j\n",
      "https://fonts.gstatic.com/s/assistant/v7/2sDPZGJYnIjSi6H75xkZZE1I0yCmYzzQtuZnIGaV3w.woff2\n",
      "https://www.gstatic.com/devrel-devsite/prod/v0492b3db79b8927fe2347ea2dc87c471b22f173331622ffd10334837d43ea37f/nest/images/touchicon-180.png\n",
      "https://accounts.google.com/_/kids/signup/eligible?hl=fr&amp;_reqid=77271&amp;rt=j\n",
      "https://fonts.gstatic.com/s/merriweather/v25/u-4l0qyriQwlOrhSvowK_l5-eR7lXff4jvw.woff2\n",
      "https://accounts.google.com/_/kids/signup/eligible?hl=fr&amp;_reqid=15298&amp;rt=j\n",
      "https://fonts.gstatic.com/s/montserrat/v17/JTURjIg1_i6t8kCHKm45_bZF3gnD_g.woff2\n",
      "https://fonts.googleapis.com/css?family=Google%20Sans%20Display%3A400\n",
      "https://accounts.google.com/_/kids/signup/eligible?hl=fr&amp;_reqid=71867&amp;rt=j\n",
      "https://accounts.google.com/ServiceLogin?continue=https://www.blogger.com/followers.g?blogID%3D3756545811499060445%26colors%3DCgt0cmFuc3BhcmVudBILdHJhbnNwYXJlbnQaByM3Nzc3NzciByMzNTYwYWIqByMzNTYwYWIyByMwMDAwMDA6ByM3Nzc3NzdCByMzNTYwYWJKByMwMDAwMDBSByNGRkZGRkZaC3RyYW5zcGFyZW50%26pageSize%3D21%26origin%3Dhttps://www.tafhem.com/%26usegapi%3D1%26jsh%3Dm;/_/scs/apps-static/_/js/k%253Doz.gapi.en_US.4sn9RO63fqo.O/am%253DAQ/d%253D1/rs%253DAGLTcCO5GqPeHrbNQGs79bP09BnjVkdwag/m%253D__features__%26bpli%3D1&amp;followup=https://www.blogger.com/followers.g?blogID%3D3756545811499060445%26colors%3DCgt0cmFuc3BhcmVudBILdHJhbnNwYXJlbnQaByM3Nzc3NzciByMzNTYwYWIqByMzNTYwYWIyByMwMDAwMDA6ByM3Nzc3NzdCByMzNTYwYWJKByMwMDAwMDBSByNGRkZGRkZaC3RyYW5zcGFyZW50%26pageSize%3D21%26origin%3Dhttps://www.tafhem.com/%26usegapi%3D1%26jsh%3Dm;/_/scs/apps-static/_/js/k%253Doz.gapi.en_US.4sn9RO63fqo.O/am%253DAQ/d%253D1/rs%253DAGLTcCO5GqPeHrbNQGs79bP09BnjVkdwag/m%253D__features__%26bpli%3D1&amp;passive=true&amp;go=true#id=I0_1628178032691&amp;_gfid=I0_1628178032691&amp;parent=https%3A%2F%2Fwww.tafhem.com&amp;pfname=&amp;rpctoken=29180933\n",
      "https://fonts.googleapis.com/css?family=Roboto:400,500&amp;text=\n",
      "https://accounts.google.com/_/kids/signup/eligible?hl=fr&amp;_reqid=49930&amp;rt=j\n",
      "https://fonts.gstatic.com/s/dmsans/v6/rP2Hp2ywxg089UriCZOIHQ.woff2\n",
      "https://lh3.googleusercontent.com/a-/AOh14GjQYuiarBv9YJMWhwauj9uM2XT5-HdWsXyHUhE3hA=s96-p\n",
      "https://accounts.google.com/o/oauth2/auth/_/common/diagnostics/?diagnostics=%5B%5B%5B%22gaia_fe_minutemaid%3Ass%22%2Cnull%2Cnull%2Cnull%2C1628584179108%5D%5D%5D&amp;rt=j\n",
      "https://fonts.gstatic.com/s/raleway/v22/1Ptxg8zYS_SKggPN4iEgvnHyvveLxVvoorCIPrE.woff2\n",
      "https://www.gstatic.com/devrel-devsite/prod/v0492b3db79b8927fe2347ea2dc87c471b22f173331622ffd10334837d43ea37f/js/devsite_devsite_panel_module.js\n",
      "https://www.gstatic.com/devrel-devsite/prod/v0089c83aa8227c3439bf2708c0795dd13db533711d44eb626e640152d9fdf05e/js/devsite_devsite_panel_module.js\n",
      "https://fonts.gstatic.com/s/merriweather/v25/u-4n0qyriQwlOrhSvowK_l521wRZWMf6.woff2\n",
      "https://accounts.google.com/ServiceLogin?service=ah&amp;passive=true&amp;continue=https://uc.appengine.google.com/_ah/conflogin%3Fcontinue%3Dhttps://us-central1-ohbibi-meta-prod.cloudfunctions.net/\n",
      "https://accounts.google.com/ServiceLogin?continue=https://www.blogger.com/followers.g?blogID%3D3512172885516050706%26colors%3DCgt0cmFuc3BhcmVudBILdHJhbnNwYXJlbnQaByMyMTIxMjEiByM2ODMxYzYqByNlY2VjZWMyByMwMDUxYzY6ByMyMTIxMjFCByM2ODMxYzZKByNjNjAwNTFSByM2ODMxYzZaC3RyYW5zcGFyZW50%26pageSize%3D21%26origin%3Dhttps://krdlogoped.blogspot.com/%26usegapi%3D1%26jsh%3Dm;/_/scs/apps-static/_/js/k%253Doz.gapi.en_US.4sn9RO63fqo.O/am%253DAQ/d%253D1/rs%253DAGLTcCO5GqPeHrbNQGs79bP09BnjVkdwag/m%253D__features__%26bpli%3D1&amp;followup=https://www.blogger.com/followers.g?blogID%3D3512172885516050706%26colors%3DCgt0cmFuc3BhcmVudBILdHJhbnNwYXJlbnQaByMyMTIxMjEiByM2ODMxYzYqByNlY2VjZWMyByMwMDUxYzY6ByMyMTIxMjFCByM2ODMxYzZKByNjNjAwNTFSByM2ODMxYzZaC3RyYW5zcGFyZW50%26pageSize%3D21%26origin%3Dhttps://krdlogoped.blogspot.com/%26usegapi%3D1%26jsh%3Dm;/_/scs/apps-static/_/js/k%253Doz.gapi.en_US.4sn9RO63fqo.O/am%253DAQ/d%253D1/rs%253DAGLTcCO5GqPeHrbNQGs79bP09BnjVkdwag/m%253D__features__%26bpli%3D1&amp;passive=true&amp;go=true#id=I0_1628628953995&amp;_gfid=I0_1628628953995&amp;parent=https%3A%2F%2Fkrdlogoped.blogspot.com&amp;pfname=&amp;rpctoken=97901932\n",
      "https://fonts.googleapis.com/css?family=Roboto%3A300%2C400%2C700\n",
      "https://fonts.gstatic.com/s/monoton/v10/5h1aiZUrOngCibe4TkHLQg.woff2\n",
      "https://accounts.google.com/_/kids/signup/eligible?hl=fr&amp;_reqid=83076&amp;rt=j\n",
      "https://fonts.gstatic.com/s/unicaone/v8/DPEuYwWHyAYGVTSmalsRcd3e.woff2\n",
      "https://lh3.googleusercontent.com/a-/AOh14Ggrpw2Bp6so_w7lcG36qELQBoOqa4yYHbgz3HUFDw=s96-p\n",
      "https://accounts.google.com/_/kids/signup/eligible?hl=fr&amp;_reqid=85558&amp;rt=j\n",
      "https://fonts.gstatic.com/s/lobster/v23/neILzCirqoswsqX9zoKmMw.woff2\n",
      "https://fonts.gstatic.com/s/oswald/v38/TK3_WkUHHAIjg75cFRf3bXL8LICs1_FvsUJiZTaR.woff2\n",
      "https://accounts.google.com/ServiceLogin?continue=https://www.blogger.com/followers.g?blogID%3D1719811995182941521%26colors%3DCgt0cmFuc3BhcmVudBILdHJhbnNwYXJlbnQaByMyMjIyMjIiByM5OTMzMDAqByNmZmY5ZWUyByMwMDAwMDA6ByMyMjIyMjJCByM5OTMzMDBKByM5OTk5OTlSByM5OTMzMDBaC3RyYW5zcGFyZW50%26pageSize%3D21%26origin%3Dhttps://makalebilgi.blogspot.com/%26usegapi%3D1%26jsh%3Dm;/_/scs/apps-static/_/js/k%253Doz.gapi.en_US.4sn9RO63fqo.O/am%253DAQ/d%253D1/rs%253DAGLTcCO5GqPeHrbNQGs79bP09BnjVkdwag/m%253D__features__%26bpli%3D1&amp;followup=https://www.blogger.com/followers.g?blogID%3D1719811995182941521%26colors%3DCgt0cmFuc3BhcmVudBILdHJhbnNwYXJlbnQaByMyMjIyMjIiByM5OTMzMDAqByNmZmY5ZWUyByMwMDAwMDA6ByMyMjIyMjJCByM5OTMzMDBKByM5OTk5OTlSByM5OTMzMDBaC3RyYW5zcGFyZW50%26pageSize%3D21%26origin%3Dhttps://makalebilgi.blogspot.com/%26usegapi%3D1%26jsh%3Dm;/_/scs/apps-static/_/js/k%253Doz.gapi.en_US.4sn9RO63fqo.O/am%253DAQ/d%253D1/rs%253DAGLTcCO5GqPeHrbNQGs79bP09BnjVkdwag/m%253D__features__%26bpli%3D1&amp;passive=true&amp;go=true#id=I0_1627985224537&amp;_gfid=I0_1627985224537&amp;parent=https%3A%2F%2Fmakalebilgi.blogspot.com&amp;pfname=&amp;rpctoken=25264620\n",
      "https://accounts.google.com/_/kids/signup/eligible?hl=fr&amp;_reqid=77492&amp;rt=j\n",
      "https://fonts.gstatic.com/s/opensans/v21/mem6YaGs126MiZpBA-UFUK0Zdc0.woff2\n",
      "https://www.gstatic.com/devrel-devsite/prod/v0492b3db79b8927fe2347ea2dc87c471b22f173331622ffd10334837d43ea37f/nest/js/app_loader.js\n",
      "https://fonts.gstatic.com/s/dmsans/v6/rP2Cp2ywxg089UriAWCrCBimCw.woff2\n",
      "https://lh3.googleusercontent.com/2ezCEkEYFGUWFgbVjIR7Sd6rQfFTV4KPUnK86dgLzAUentWxZELKWxaGdx9b4FnzluxWOE2OC3XQQ_WwOA=w960-h960-n-o-v1\n",
      "https://accounts.google.com/ServiceLogin?continue=https://www.blogger.com/followers.g?blogID%3D3512172885516050706%26colors%3DCgt0cmFuc3BhcmVudBILdHJhbnNwYXJlbnQaByMyMTIxMjEiByM2ODMxYzYqByNlY2VjZWMyByMwMDUxYzY6ByMyMTIxMjFCByM2ODMxYzZKByNjNjAwNTFSByM2ODMxYzZaC3RyYW5zcGFyZW50%26pageSize%3D21%26origin%3Dhttps://krdlogoped.blogspot.com/%26usegapi%3D1%26jsh%3Dm;/_/scs/apps-static/_/js/k%253Doz.gapi.en_US.4sn9RO63fqo.O/am%253DAQ/d%253D1/rs%253DAGLTcCO5GqPeHrbNQGs79bP09BnjVkdwag/m%253D__features__%26bpli%3D1&amp;followup=https://www.blogger.com/followers.g?blogID%3D3512172885516050706%26colors%3DCgt0cmFuc3BhcmVudBILdHJhbnNwYXJlbnQaByMyMTIxMjEiByM2ODMxYzYqByNlY2VjZWMyByMwMDUxYzY6ByMyMTIxMjFCByM2ODMxYzZKByNjNjAwNTFSByM2ODMxYzZaC3RyYW5zcGFyZW50%26pageSize%3D21%26origin%3Dhttps://krdlogoped.blogspot.com/%26usegapi%3D1%26jsh%3Dm;/_/scs/apps-static/_/js/k%253Doz.gapi.en_US.4sn9RO63fqo.O/am%253DAQ/d%253D1/rs%253DAGLTcCO5GqPeHrbNQGs79bP09BnjVkdwag/m%253D__features__%26bpli%3D1&amp;passive=true&amp;go=true#id=I0_1628216138207&amp;_gfid=I0_1628216138207&amp;parent=https%3A%2F%2Fkrdlogoped.blogspot.com&amp;pfname=&amp;rpctoken=14007027\n",
      "https://accounts.google.com/o/oauth2/auth/_/common/diagnostics/?diagnostics=%5B%5B%5B%22gaia_fe_minutemaid%3Ass%22%2Cnull%2Cnull%2Cnull%2C1628291825292%5D%5D%5D&amp;rt=j\n",
      "https://accounts.google.com/ServiceLogin?continue=https://www.blogger.com/followers.g?blogID%3D3512172885516050706%26colors%3DCgt0cmFuc3BhcmVudBILdHJhbnNwYXJlbnQaByMyMTIxMjEiByM2ODMxYzYqByNlY2VjZWMyByMwMDUxYzY6ByMyMTIxMjFCByM2ODMxYzZKByNjNjAwNTFSByM2ODMxYzZaC3RyYW5zcGFyZW50%26pageSize%3D21%26origin%3Dhttps://krdlogoped.blogspot.com/%26usegapi%3D1%26jsh%3Dm;/_/scs/apps-static/_/js/k%253Doz.gapi.en_US.4sn9RO63fqo.O/am%253DAQ/d%253D1/rs%253DAGLTcCO5GqPeHrbNQGs79bP09BnjVkdwag/m%253D__features__%26bpli%3D1&amp;followup=https://www.blogger.com/followers.g?blogID%3D3512172885516050706%26colors%3DCgt0cmFuc3BhcmVudBILdHJhbnNwYXJlbnQaByMyMTIxMjEiByM2ODMxYzYqByNlY2VjZWMyByMwMDUxYzY6ByMyMTIxMjFCByM2ODMxYzZKByNjNjAwNTFSByM2ODMxYzZaC3RyYW5zcGFyZW50%26pageSize%3D21%26origin%3Dhttps://krdlogoped.blogspot.com/%26usegapi%3D1%26jsh%3Dm;/_/scs/apps-static/_/js/k%253Doz.gapi.en_US.4sn9RO63fqo.O/am%253DAQ/d%253D1/rs%253DAGLTcCO5GqPeHrbNQGs79bP09BnjVkdwag/m%253D__features__%26bpli%3D1&amp;passive=true&amp;go=true#id=I0_1628016025861&amp;_gfid=I0_1628016025861&amp;parent=https%3A%2F%2Fkrdlogoped.blogspot.com&amp;pfname=&amp;rpctoken=32885131\n",
      "https://accounts.google.com/ServiceLogin?continue=https://www.blogger.com/followers.g?blogID%3D1719811995182941521%26colors%3DCgt0cmFuc3BhcmVudBILdHJhbnNwYXJlbnQaByMyMjIyMjIiByM5OTMzMDAqByNmZmY5ZWUyByMwMDAwMDA6ByMyMjIyMjJCByM5OTMzMDBKByM5OTk5OTlSByM5OTMzMDBaC3RyYW5zcGFyZW50%26pageSize%3D21%26origin%3Dhttps://makalebilgi.blogspot.com/%26usegapi%3D1%26jsh%3Dm;/_/scs/apps-static/_/js/k%253Doz.gapi.en_US.4sn9RO63fqo.O/am%253DAQ/d%253D1/rs%253DAGLTcCO5GqPeHrbNQGs79bP09BnjVkdwag/m%253D__features__%26bpli%3D1&amp;followup=https://www.blogger.com/followers.g?blogID%3D1719811995182941521%26colors%3DCgt0cmFuc3BhcmVudBILdHJhbnNwYXJlbnQaByMyMjIyMjIiByM5OTMzMDAqByNmZmY5ZWUyByMwMDAwMDA6ByMyMjIyMjJCByM5OTMzMDBKByM5OTk5OTlSByM5OTMzMDBaC3RyYW5zcGFyZW50%26pageSize%3D21%26origin%3Dhttps://makalebilgi.blogspot.com/%26usegapi%3D1%26jsh%3Dm;/_/scs/apps-static/_/js/k%253Doz.gapi.en_US.4sn9RO63fqo.O/am%253DAQ/d%253D1/rs%253DAGLTcCO5GqPeHrbNQGs79bP09BnjVkdwag/m%253D__features__%26bpli%3D1&amp;passive=true&amp;go=true#id=I0_1628077731330&amp;_gfid=I0_1628077731330&amp;parent=https%3A%2F%2Fmakalebilgi.blogspot.com&amp;pfname=&amp;rpctoken=24754416\n",
      "https://accounts.google.com/ServiceLogin?continue=https://www.blogger.com/followers.g?blogID%3D1719811995182941521%26colors%3DCgt0cmFuc3BhcmVudBILdHJhbnNwYXJlbnQaByMyMjIyMjIiByM5OTMzMDAqByNmZmY5ZWUyByMwMDAwMDA6ByMyMjIyMjJCByM5OTMzMDBKByM5OTk5OTlSByM5OTMzMDBaC3RyYW5zcGFyZW50%26pageSize%3D21%26origin%3Dhttps://makalebilgi.blogspot.com/%26usegapi%3D1%26jsh%3Dm;/_/scs/apps-static/_/js/k%253Doz.gapi.en_US.4sn9RO63fqo.O/am%253DAQ/d%253D1/rs%253DAGLTcCO5GqPeHrbNQGs79bP09BnjVkdwag/m%253D__features__%26bpli%3D1&amp;followup=https://www.blogger.com/followers.g?blogID%3D1719811995182941521%26colors%3DCgt0cmFuc3BhcmVudBILdHJhbnNwYXJlbnQaByMyMjIyMjIiByM5OTMzMDAqByNmZmY5ZWUyByMwMDAwMDA6ByMyMjIyMjJCByM5OTMzMDBKByM5OTk5OTlSByM5OTMzMDBaC3RyYW5zcGFyZW50%26pageSize%3D21%26origin%3Dhttps://makalebilgi.blogspot.com/%26usegapi%3D1%26jsh%3Dm;/_/scs/apps-static/_/js/k%253Doz.gapi.en_US.4sn9RO63fqo.O/am%253DAQ/d%253D1/rs%253DAGLTcCO5GqPeHrbNQGs79bP09BnjVkdwag/m%253D__features__%26bpli%3D1&amp;passive=true&amp;go=true#id=I0_1628055046771&amp;_gfid=I0_1628055046771&amp;parent=https%3A%2F%2Fmakalebilgi.blogspot.com&amp;pfname=&amp;rpctoken=62007738\n",
      "https://accounts.google.com/ServiceLogin?continue=https://www.blogger.com/followers.g?blogID%3D6949068298798094008%26colors%3DCgt0cmFuc3BhcmVudBILdHJhbnNwYXJlbnQaByMwMDAwMDAiByMwMDAwMDAqByNGRkZGRkYyByMwMDAwMDA6ByMwMDAwMDBCByMwMDAwMDBKByMwMDAwMDBSByNGRkZGRkZaC3RyYW5zcGFyZW50%26pageSize%3D21%26origin%3Dhttps://aneukrantau30.blogspot.com/%26usegapi%3D1%26jsh%3Dm;/_/scs/apps-static/_/js/k%253Doz.gapi.en_US.4sn9RO63fqo.O/am%253DAQ/d%253D1/rs%253DAGLTcCO5GqPeHrbNQGs79bP09BnjVkdwag/m%253D__features__%26bpli%3D1&amp;followup=https://www.blogger.com/followers.g?blogID%3D6949068298798094008%26colors%3DCgt0cmFuc3BhcmVudBILdHJhbnNwYXJlbnQaByMwMDAwMDAiByMwMDAwMDAqByNGRkZGRkYyByMwMDAwMDA6ByMwMDAwMDBCByMwMDAwMDBKByMwMDAwMDBSByNGRkZGRkZaC3RyYW5zcGFyZW50%26pageSize%3D21%26origin%3Dhttps://aneukrantau30.blogspot.com/%26usegapi%3D1%26jsh%3Dm;/_/scs/apps-static/_/js/k%253Doz.gapi.en_US.4sn9RO63fqo.O/am%253DAQ/d%253D1/rs%253DAGLTcCO5GqPeHrbNQGs79bP09BnjVkdwag/m%253D__features__%26bpli%3D1&amp;passive=true&amp;go=true#id=I0_1628265149525&amp;_gfid=I0_1628265149525&amp;parent=https%3A%2F%2Faneukrantau30.blogspot.com&amp;pfname=&amp;rpctoken=14113021\n",
      "https://fonts.googleapis.com/css?family=Open+Sans:300,400,600,700&amp;display=swap\n",
      "https://accounts.google.com/ServiceLogin?continue=https://www.blogger.com/followers.g?blogID%3D3756545811499060445%26colors%3DCgt0cmFuc3BhcmVudBILdHJhbnNwYXJlbnQaByM3Nzc3NzciByMzNTYwYWIqByMzNTYwYWIyByMwMDAwMDA6ByM3Nzc3NzdCByMzNTYwYWJKByMwMDAwMDBSByNGRkZGRkZaC3RyYW5zcGFyZW50%26pageSize%3D21%26origin%3Dhttps://www.tafhem.com/%26usegapi%3D1%26jsh%3Dm;/_/scs/apps-static/_/js/k%253Doz.gapi.en_US.4sn9RO63fqo.O/am%253DAQ/d%253D1/rs%253DAGLTcCO5GqPeHrbNQGs79bP09BnjVkdwag/m%253D__features__%26bpli%3D1&amp;followup=https://www.blogger.com/followers.g?blogID%3D3756545811499060445%26colors%3DCgt0cmFuc3BhcmVudBILdHJhbnNwYXJlbnQaByM3Nzc3NzciByMzNTYwYWIqByMzNTYwYWIyByMwMDAwMDA6ByM3Nzc3NzdCByMzNTYwYWJKByMwMDAwMDBSByNGRkZGRkZaC3RyYW5zcGFyZW50%26pageSize%3D21%26origin%3Dhttps://www.tafhem.com/%26usegapi%3D1%26jsh%3Dm;/_/scs/apps-static/_/js/k%253Doz.gapi.en_US.4sn9RO63fqo.O/am%253DAQ/d%253D1/rs%253DAGLTcCO5GqPeHrbNQGs79bP09BnjVkdwag/m%253D__features__%26bpli%3D1&amp;passive=true&amp;go=true#id=I0_1628118822695&amp;_gfid=I0_1628118822695&amp;parent=https%3A%2F%2Fwww.tafhem.com&amp;pfname=&amp;rpctoken=31486185\n",
      "https://fonts.gstatic.com/s/roboto/v27/KFOlCnqEu92Fr1MmEU9fChc4EsA.woff2\n",
      "https://www.gstatic.com/devrel-devsite/prod/v0492b3db79b8927fe2347ea2dc87c471b22f173331622ffd10334837d43ea37f/js/devsite_devsite_tabs_module.js\n",
      "https://accounts.google.com/_/kids/signup/eligible?hl=fr&amp;_reqid=40947&amp;rt=j\n",
      "https://www.gstatic.com/devrel-devsite/prod/v0089c83aa8227c3439bf2708c0795dd13db533711d44eb626e640152d9fdf05e/nest/js/app_loader.js\n",
      "https://accounts.google.com/signin/v2/_/common/diagnostics/?diagnostics=%5B%5B%5B%22gaia_fe_minutemaid%3Ass%22%2Cnull%2Cnull%2Cnull%2C1628310510951%5D%5D%5D&amp;rt=j\n",
      "https://apis.google.com/_/scs/apps-static/_/js/k=oz.gapi.en_US.4sn9RO63fqo.O/m=plusone/rt=j/sv=1/d=1/ed=1/am=AQ/rs=AGLTcCO5GqPeHrbNQGs79bP09BnjVkdwag/cb=gapi.loaded_0?le=ili,ipu\n",
      "https://fonts.gstatic.com/s/opensans/v20/memnYaGs126MiZpBA-UFUKWyV9hrIqM.woff2\n",
      "https://accounts.google.com/ServiceLogin?continue=https://www.blogger.com/followers.g?blogID%3D6949068298798094008%26colors%3DCgt0cmFuc3BhcmVudBILdHJhbnNwYXJlbnQaByMwMDAwMDAiByMwMDAwMDAqByNGRkZGRkYyByMwMDAwMDA6ByMwMDAwMDBCByMwMDAwMDBKByMwMDAwMDBSByNGRkZGRkZaC3RyYW5zcGFyZW50%26pageSize%3D21%26origin%3Dhttps://aneukrantau30.blogspot.com/%26usegapi%3D1%26jsh%3Dm;/_/scs/apps-static/_/js/k%253Doz.gapi.en_US.4sn9RO63fqo.O/am%253DAQ/d%253D1/rs%253DAGLTcCO5GqPeHrbNQGs79bP09BnjVkdwag/m%253D__features__%26bpli%3D1&amp;followup=https://www.blogger.com/followers.g?blogID%3D6949068298798094008%26colors%3DCgt0cmFuc3BhcmVudBILdHJhbnNwYXJlbnQaByMwMDAwMDAiByMwMDAwMDAqByNGRkZGRkYyByMwMDAwMDA6ByMwMDAwMDBCByMwMDAwMDBKByMwMDAwMDBSByNGRkZGRkZaC3RyYW5zcGFyZW50%26pageSize%3D21%26origin%3Dhttps://aneukrantau30.blogspot.com/%26usegapi%3D1%26jsh%3Dm;/_/scs/apps-static/_/js/k%253Doz.gapi.en_US.4sn9RO63fqo.O/am%253DAQ/d%253D1/rs%253DAGLTcCO5GqPeHrbNQGs79bP09BnjVkdwag/m%253D__features__%26bpli%3D1&amp;passive=true&amp;go=true#id=I0_1628257820750&amp;_gfid=I0_1628257820750&amp;parent=https%3A%2F%2Faneukrantau30.blogspot.com&amp;pfname=&amp;rpctoken=28264282\n",
      "https://accounts.google.com/_/kids/signup/eligible?hl=fr&amp;_reqid=19029&amp;rt=j\n",
      "https://fonts.googleapis.com/css?family=Roboto:300,400,600&amp;display=swap\n",
      "https://fonts.gstatic.com/s/opensans/v22/mem5YaGs126MiZpBA-UN7rgOXOhpOqc.woff2\n",
      "https://fonts.googleapis.com/css?family=Roboto:400,500,700&amp;display=swap\n",
      "https://fonts.gstatic.com/s/ubuntu/v15/4iCv6KVjbNBYlgoCjC3jsGyN.woff2\n",
      "https://fonts.gstatic.com/s/opensans/v21/memnYaGs126MiZpBA-UFUKXGUdhrIqM.woff2\n",
      "https://accounts.google.com/ServiceLogin?continue=https://www.blogger.com/followers.g?blogID%3D3512172885516050706%26colors%3DCgt0cmFuc3BhcmVudBILdHJhbnNwYXJlbnQaByMyMTIxMjEiByM2ODMxYzYqByNlY2VjZWMyByMwMDUxYzY6ByMyMTIxMjFCByM2ODMxYzZKByNjNjAwNTFSByM2ODMxYzZaC3RyYW5zcGFyZW50%26pageSize%3D21%26origin%3Dhttps://krdlogoped.blogspot.com/%26usegapi%3D1%26jsh%3Dm;/_/scs/apps-static/_/js/k%253Doz.gapi.en_US.4sn9RO63fqo.O/am%253DAQ/d%253D1/rs%253DAGLTcCO5GqPeHrbNQGs79bP09BnjVkdwag/m%253D__features__%26bpli%3D1&amp;followup=https://www.blogger.com/followers.g?blogID%3D3512172885516050706%26colors%3DCgt0cmFuc3BhcmVudBILdHJhbnNwYXJlbnQaByMyMTIxMjEiByM2ODMxYzYqByNlY2VjZWMyByMwMDUxYzY6ByMyMTIxMjFCByM2ODMxYzZKByNjNjAwNTFSByM2ODMxYzZaC3RyYW5zcGFyZW50%26pageSize%3D21%26origin%3Dhttps://krdlogoped.blogspot.com/%26usegapi%3D1%26jsh%3Dm;/_/scs/apps-static/_/js/k%253Doz.gapi.en_US.4sn9RO63fqo.O/am%253DAQ/d%253D1/rs%253DAGLTcCO5GqPeHrbNQGs79bP09BnjVkdwag/m%253D__features__%26bpli%3D1&amp;passive=true&amp;go=true#id=I0_1628096022614&amp;_gfid=I0_1628096022614&amp;parent=https%3A%2F%2Fkrdlogoped.blogspot.com&amp;pfname=&amp;rpctoken=23572965\n",
      "https://lh3.googleusercontent.com/BfyS-j_OOTMqkt4eomWru4C8MOdli_YtSaXpmkI-qdjd6cAF1Po5s5CxF6i_iFSYfhjPlb7VpAPMAySNN-tz-bzp1lvhg9N0BGwG=s2500\n",
      "https://www.gstatic.com/devrel-devsite/prod/v0492b3db79b8927fe2347ea2dc87c471b22f173331622ffd10334837d43ea37f/js/devsite_devsite_footer_utility_module.js\n",
      "https://www.gstatic.com/devrel-devsite/prod/v0492b3db79b8927fe2347ea2dc87c471b22f173331622ffd10334837d43ea37f/js/devsite_devsite_tooltip_module.js\n",
      "https://fonts.gstatic.com/s/oswald/v38/TK3_WkUHHAIjg75cFRf3bXL8LICs1_FvsUtiZTaR.woff2\n",
      "https://fonts.googleapis.com/css?family=Google%20Sans%20Display%3A400%2C500\n",
      "https://www.gstatic.com/devrel-devsite/prod/v0089c83aa8227c3439bf2708c0795dd13db533711d44eb626e640152d9fdf05e/js/devsite_devsite_footer_promos_module.js\n",
      "https://lh3.googleusercontent.com/r95aAVJ8Yecd3pHBjCsd7vlKMblpLJA14U6s8Q4e6_r3zqr3Le4G3qFpTzkFCLecD_tLzfMlorTn=w1014-h412-no\n",
      "https://accounts.google.com/_/kids/signup/eligible?hl=fr&amp;_reqid=7736&amp;rt=j\n",
      "https://accounts.google.com/_/kids/signup/eligible?hl=fr&amp;_reqid=33130&amp;rt=j\n",
      "https://lh3.googleusercontent.com/a-/AOh14Gi6BaKfy4XH3hQQZ3uNTnWNabIbHnEtwCiPT8tj=s96-p\n",
      "https://fonts.gstatic.com/s/prompt/v5/-W__XJnvUD7dzB2KdNodVkI.woff2\n",
      "https://www.gstatic.com/devrel-devsite/prod/v0492b3db79b8927fe2347ea2dc87c471b22f173331622ffd10334837d43ea37f/js/devsite_devsite_spinner_module.js\n",
      "https://fonts.gstatic.com/s/roboto/v27/KFOmCnqEu92Fr1Mu7WxKOzY.woff2\n",
      "https://accounts.google.com/o/oauth2/auth/_/common/diagnostics/?diagnostics=%5B%5B%5B%22gaia_fe_minutemaid%3Ass%22%2Cnull%2Cnull%2Cnull%2C1628259012874%5D%5D%5D&amp;rt=j\n",
      "https://accounts.google.com/ServiceLogin?continue=https://www.blogger.com/followers.g?blogID%3D6949068298798094008%26colors%3DCgt0cmFuc3BhcmVudBILdHJhbnNwYXJlbnQaByMwMDAwMDAiByMwMDAwMDAqByNGRkZGRkYyByMwMDAwMDA6ByMwMDAwMDBCByMwMDAwMDBKByMwMDAwMDBSByNGRkZGRkZaC3RyYW5zcGFyZW50%26pageSize%3D21%26origin%3Dhttps://aneukrantau30.blogspot.com/%26usegapi%3D1%26jsh%3Dm;/_/scs/apps-static/_/js/k%253Doz.gapi.en_US.4sn9RO63fqo.O/am%253DAQ/d%253D1/rs%253DAGLTcCO5GqPeHrbNQGs79bP09BnjVkdwag/m%253D__features__%26bpli%3D1&amp;followup=https://www.blogger.com/followers.g?blogID%3D6949068298798094008%26colors%3DCgt0cmFuc3BhcmVudBILdHJhbnNwYXJlbnQaByMwMDAwMDAiByMwMDAwMDAqByNGRkZGRkYyByMwMDAwMDA6ByMwMDAwMDBCByMwMDAwMDBKByMwMDAwMDBSByNGRkZGRkZaC3RyYW5zcGFyZW50%26pageSize%3D21%26origin%3Dhttps://aneukrantau30.blogspot.com/%26usegapi%3D1%26jsh%3Dm;/_/scs/apps-static/_/js/k%253Doz.gapi.en_US.4sn9RO63fqo.O/am%253DAQ/d%253D1/rs%253DAGLTcCO5GqPeHrbNQGs79bP09BnjVkdwag/m%253D__features__%26bpli%3D1&amp;passive=true&amp;go=true#id=I0_1628169289783&amp;_gfid=I0_1628169289783&amp;parent=https%3A%2F%2Faneukrantau30.blogspot.com&amp;pfname=&amp;rpctoken=20491064\n",
      "https://apis.google.com/_/scs/apps-static/_/js/k=oz.gapi.en_US.4sn9RO63fqo.O/m=gapi_iframes/exm=plusone/rt=j/sv=1/d=1/ed=1/am=AQ/rs=AGLTcCO5GqPeHrbNQGs79bP09BnjVkdwag/cb=gapi.loaded_1?le=ili,ipu\n",
      "https://accounts.google.com/_/kids/signup/eligible?hl=fr&amp;_reqid=53407&amp;rt=j\n",
      "https://fonts.googleapis.com/css?family=Nunito+Sans:200,300,400,600\n",
      "https://fonts.gstatic.com/s/opensans/v21/mem5YaGs126MiZpBA-UN7rgOXOhpOqc.woff2\n",
      "https://accounts.google.com/_/kids/signup/eligible?hl=fr&amp;_reqid=49992&amp;rt=j\n",
      "https://fonts.googleapis.com/css?family=Nunito%3A400%2C400i%2C600%2C600i%2C700%2C700i%2C800%2C800i%2C900%2C900i%7CPoppins%3A100%2C200%2C300%2C400%2C500%2C600%2C700%2C800%2C900&amp;subset=latin%2Clatin-ext\n",
      "https://accounts.google.com/ServiceLogin?service=wise&amp;passive=1209600&amp;continue=https://docs.google.com/spreadsheets/u/0/create?usp%3Ddot_new&amp;followup=https://docs.google.com/spreadsheets/u/0/create?usp%3Ddot_new&lt;mpl=sheets\n",
      "https://fonts.gstatic.com/s/oswald/v36/TK3_WkUHHAIjg75cFRf3bXL8LICs1_FvsUZiZQ.woff2\n",
      "https://accounts.google.com/o/oauth2/auth/_/common/diagnostics/?diagnostics=%5B%5B%5B%22gaia_fe_minutemaid%3Ass%22%2Cnull%2Cnull%2Cnull%2C1628224063438%5D%5D%5D&amp;rt=j\n",
      "https://www.gstatic.com/devrel-devsite/prod/v0089c83aa8227c3439bf2708c0795dd13db533711d44eb626e640152d9fdf05e/js/devsite_devsite_snackbar_module.js\n",
      "https://fonts.gstatic.com/s/i/productlogos/googleg/v6/24px.svg\n",
      "https://fonts.gstatic.com/s/firasanscondensed/v5/wEOhEADFm8hSaQTFG18FErVhsC9x-tarUfjtrftV.woff2\n",
      "https://accounts.google.com/signin/v2/_/common/diagnostics/?diagnostics=%5B%5B%5B%22gaia_fe_minutemaid%3Ass%22%2Cnull%2Cnull%2Cnull%2C1628318398684%5D%5D%5D&amp;rt=j\n",
      "https://accounts.google.com/_/kids/signup/eligible?hl=fr&amp;_reqid=41063&amp;rt=j\n",
      "https://fonts.googleapis.com/css?family=Open+Sans:300,300italic,regular,italic,600,600italic,700,700italic,800,800italic\n",
      "https://fonts.googleapis.com/css?family=Montserrat:100,200,300,400,500,700\n",
      "https://accounts.google.com/_/kids/signup/eligible?hl=fr&amp;_reqid=85760&amp;rt=j\n",
      "https://fonts.gstatic.com/s/lato/v19/S6u9w4BMUTPHh6UVSwiPGQ.woff2\n",
      "https://lh3.googleusercontent.com/proxy/0RgTOo41404lOof90UTlPXsS121DoiBlLGcUd-WsGDn-p1f7u4uZ-UaUMTphiUPNeNvND7IShDSLo90Zru5WQOuAAIEHaT4=w720-h377-rj-pd-pc0x00e9e9e9\n",
      "https://fonts.googleapis.com/css?family=Roboto:300,400,700,900\n",
      "https://fonts.googleapis.com/css?family=Open+Sans:300,regular,italic,600,700&amp;display=swap\n",
      "https://accounts.google.com/_/kids/signup/eligible?hl=fr&amp;_reqid=996&amp;rt=j\n",
      "https://fonts.gstatic.com/s/montserrat/v18/JTURjIg1_i6t8kCHKm45_bZF3gnD_g.woff2\n",
      "https://fonts.gstatic.com/s/muli/v22/7Aulp_0qiz-aVz7u3PJLcUMYOFkpl0k30eg.woff2\n",
      "https://fonts.gstatic.com/s/lato/v19/S6uyw4BMUTPHjxAwXjeu.woff2\n",
      "https://accounts.google.com/ServiceLogin?continue=https://www.blogger.com/followers.g?blogID%3D3756545811499060445%26colors%3DCgt0cmFuc3BhcmVudBILdHJhbnNwYXJlbnQaByM3Nzc3NzciByMzNTYwYWIqByMzNTYwYWIyByMwMDAwMDA6ByM3Nzc3NzdCByMzNTYwYWJKByMwMDAwMDBSByNGRkZGRkZaC3RyYW5zcGFyZW50%26pageSize%3D21%26origin%3Dhttps://www.tafhem.com/%26usegapi%3D1%26jsh%3Dm;/_/scs/apps-static/_/js/k%253Doz.gapi.en_US.4sn9RO63fqo.O/am%253DAQ/d%253D1/rs%253DAGLTcCO5GqPeHrbNQGs79bP09BnjVkdwag/m%253D__features__%26bpli%3D1&amp;followup=https://www.blogger.com/followers.g?blogID%3D3756545811499060445%26colors%3DCgt0cmFuc3BhcmVudBILdHJhbnNwYXJlbnQaByM3Nzc3NzciByMzNTYwYWIqByMzNTYwYWIyByMwMDAwMDA6ByM3Nzc3NzdCByMzNTYwYWJKByMwMDAwMDBSByNGRkZGRkZaC3RyYW5zcGFyZW50%26pageSize%3D21%26origin%3Dhttps://www.tafhem.com/%26usegapi%3D1%26jsh%3Dm;/_/scs/apps-static/_/js/k%253Doz.gapi.en_US.4sn9RO63fqo.O/am%253DAQ/d%253D1/rs%253DAGLTcCO5GqPeHrbNQGs79bP09BnjVkdwag/m%253D__features__%26bpli%3D1&amp;passive=true&amp;go=true#id=I0_1628721876625&amp;_gfid=I0_1628721876625&amp;parent=https%3A%2F%2Fwww.tafhem.com&amp;pfname=&amp;rpctoken=30186084\n",
      "https://www.gstatic.com/charts/loader.js\n",
      "https://www.gstatic.com/og/_/ss/k=og.qtm.KP3VQYgGr30.L.F4.O/m=qcwid/excm=qaaw,qadd,qaid,qein,qhaw,qhbr,qhch,qhga,qhid,qhin,qhpr/d=1/ed=1/ct=zgms/rs=AA2YrTs2nzEM8IF8fXn4du2QHGjg4h_09w\n",
      "https://fonts.gstatic.com/s/lato/v17/S6uyw4BMUTPHjx4wXg.woff2\n",
      "https://www.gstatic.com/og/_/js/k=og.qtm.en_US.38L9F6mYc1U.O/rt=j/m=qabr,q_dnp,qcwid,qapid,qald/exm=qaaw,qadd,qaid,qein,qhaw,qhbr,qhch,qhga,qhid,qhin,qhpr/d=1/ed=1/rs=AA2YrTsOqmng0D__mtPtmMyv2hH_VU6AQw\n",
      "https://www.gstatic.com/devrel-devsite/prod/v0089c83aa8227c3439bf2708c0795dd13db533711d44eb626e640152d9fdf05e/js/devsite_devsite_tooltip_module.js\n",
      "https://accounts.google.com/signin/v2/_/common/diagnostics/?diagnostics=%5B%5B%5B%22gaia_fe_minutemaid%3Ass%22%2Cnull%2Cnull%2Cnull%2C1628169478984%5D%5D%5D&amp;rt=j\n",
      "https://accounts.google.com/ServiceLogin?continue=https://www.blogger.com/followers.g?blogID%3D6949068298798094008%26colors%3DCgt0cmFuc3BhcmVudBILdHJhbnNwYXJlbnQaByMwMDAwMDAiByMwMDAwMDAqByNGRkZGRkYyByMwMDAwMDA6ByMwMDAwMDBCByMwMDAwMDBKByMwMDAwMDBSByNGRkZGRkZaC3RyYW5zcGFyZW50%26pageSize%3D21%26origin%3Dhttps://aneukrantau30.blogspot.com/%26usegapi%3D1%26jsh%3Dm;/_/scs/apps-static/_/js/k%253Doz.gapi.en_US.4sn9RO63fqo.O/am%253DAQ/d%253D1/rs%253DAGLTcCO5GqPeHrbNQGs79bP09BnjVkdwag/m%253D__features__%26bpli%3D1&amp;followup=https://www.blogger.com/followers.g?blogID%3D6949068298798094008%26colors%3DCgt0cmFuc3BhcmVudBILdHJhbnNwYXJlbnQaByMwMDAwMDAiByMwMDAwMDAqByNGRkZGRkYyByMwMDAwMDA6ByMwMDAwMDBCByMwMDAwMDBKByMwMDAwMDBSByNGRkZGRkZaC3RyYW5zcGFyZW50%26pageSize%3D21%26origin%3Dhttps://aneukrantau30.blogspot.com/%26usegapi%3D1%26jsh%3Dm;/_/scs/apps-static/_/js/k%253Doz.gapi.en_US.4sn9RO63fqo.O/am%253DAQ/d%253D1/rs%253DAGLTcCO5GqPeHrbNQGs79bP09BnjVkdwag/m%253D__features__%26bpli%3D1&amp;passive=true&amp;go=true#id=I0_1628009313699&amp;_gfid=I0_1628009313699&amp;parent=https%3A%2F%2Faneukrantau30.blogspot.com&amp;pfname=&amp;rpctoken=26675129\n",
      "https://accounts.google.com/signin/v2/_/common/diagnostics/?diagnostics=%5B%5B%5B%22gaia_fe_minutemaid%3Ass%22%2Cnull%2Cnull%2Cnull%2C1628583116902%5D%5D%5D&amp;rt=j\n",
      "https://accounts.google.com/o/oauth2/auth/_/common/diagnostics/?diagnostics=%5B%5B%5B%22gaia_fe_minutemaid%3Ass%22%2Cnull%2Cnull%2Cnull%2C1628130290063%5D%5D%5D&amp;rt=j\n",
      "https://lh3.googleusercontent.com/proxy/RaMRWkYfOqVDYyUE6DFi7couY6_qqpspNjqJc8rDAye-nPfQcfB2_B9X0r_j5M9KokgB4nSEeVhHdREzMt1Hq1Xguv9oJNM=w720-h377-rj-pd-pc0x00e9e9e9\n",
      "https://lh3.googleusercontent.com/a-/AOh14GjDVJsZNPuvbNrisOvpIlBguPvYCVO9dM6ApUzy=s96-p\n",
      "https://accounts.google.com/ServiceLogin?continue=https://www.blogger.com/followers.g?blogID%3D3756545811499060445%26colors%3DCgt0cmFuc3BhcmVudBILdHJhbnNwYXJlbnQaByM3Nzc3NzciByMzNTYwYWIqByMzNTYwYWIyByMwMDAwMDA6ByM3Nzc3NzdCByMzNTYwYWJKByMwMDAwMDBSByNGRkZGRkZaC3RyYW5zcGFyZW50%26pageSize%3D21%26origin%3Dhttps://www.tafhem.com/%26usegapi%3D1%26jsh%3Dm;/_/scs/apps-static/_/js/k%253Doz.gapi.en_US.4sn9RO63fqo.O/am%253DAQ/d%253D1/rs%253DAGLTcCO5GqPeHrbNQGs79bP09BnjVkdwag/m%253D__features__%26bpli%3D1&amp;followup=https://www.blogger.com/followers.g?blogID%3D3756545811499060445%26colors%3DCgt0cmFuc3BhcmVudBILdHJhbnNwYXJlbnQaByM3Nzc3NzciByMzNTYwYWIqByMzNTYwYWIyByMwMDAwMDA6ByM3Nzc3NzdCByMzNTYwYWJKByMwMDAwMDBSByNGRkZGRkZaC3RyYW5zcGFyZW50%26pageSize%3D21%26origin%3Dhttps://www.tafhem.com/%26usegapi%3D1%26jsh%3Dm;/_/scs/apps-static/_/js/k%253Doz.gapi.en_US.4sn9RO63fqo.O/am%253DAQ/d%253D1/rs%253DAGLTcCO5GqPeHrbNQGs79bP09BnjVkdwag/m%253D__features__%26bpli%3D1&amp;passive=true&amp;go=true#id=I0_1628812685550&amp;_gfid=I0_1628812685550&amp;parent=https%3A%2F%2Fwww.tafhem.com&amp;pfname=&amp;rpctoken=32083204\n",
      "https://fonts.gstatic.com/s/ruda/v10/k3kQo8YQJOpFosM4fdnoLg.woff2\n",
      "https://apis.google.com/_/scs/apps-static/_/js/k=oz.gapi.en_US.4sn9RO63fqo.O/m=profile/exm=gapi_iframes,gapi_iframes_style_bubble,plusone/rt=j/sv=1/d=1/ed=1/am=AQ/rs=AGLTcCO5GqPeHrbNQGs79bP09BnjVkdwag/cb=gapi.loaded_2?le=ili,ipu\n",
      "https://www.gstatic.com/og/_/js/k=og.qtm.en_US.fO5AlQ_QB0c.O/rt=j/m=qabr,q_dnp,qcwid,qapid,qald/exm=qaaw,qadd,qaid,qein,qhaw,qhbr,qhch,qhga,qhid,qhin,qhpr/d=1/ed=1/rs=AA2YrTtVpMMqlCUlJNqJrO3FitWk8XM5wg\n",
      "https://fonts.gstatic.com/s/materialicons/v97/flUhRq6tzZclQEJ-Vdg-IuiaDsNc.woff2\n",
      "https://accounts.google.com/_/kids/signup/eligible?hl=fr&amp;_reqid=85670&amp;rt=j\n",
      "https://fonts.gstatic.com/s/roboto/v27/KFOmCnqEu92Fr1Mu4mxK.woff2\n",
      "https://fonts.gstatic.com/s/firasanscondensed/v5/wEOsEADFm8hSaQTFG18FErVhsC9x-tarWU3IuMp0ciZb.woff2\n",
      "https://fonts.googleapis.com/icon?family=Material+Icons\n",
      "https://fonts.gstatic.com/s/rubik/v14/iJWZBXyIfDnIV5PNhY1KTN7Z-Yh-4I-FV0U1.woff2\n",
      "https://accounts.google.com/o/oauth2/auth/_/common/diagnostics/?diagnostics=%5B%5B%5B%22gaia_fe_minutemaid%3Ass%22%2Cnull%2Cnull%2Cnull%2C1628722134047%5D%5D%5D&amp;rt=j\n",
      "https://fonts.googleapis.com/css2?family=Lato:wght@400;700&amp;family=Poppins:wght@400;500;600;700;900&amp;display=swap\n",
      "https://fonts.gstatic.com/s/merriweather/v24/u-4m0qyriQwlOrhSvowK_l5-eRZOf-c.ttf\n",
      "https://www.gstatic.com/devrel-devsite/prod/v0492b3db79b8927fe2347ea2dc87c471b22f173331622ffd10334837d43ea37f/js/devsite_devsite_user_module.js\n",
      "https://fonts.gstatic.com/s/oswald/v40/TK3_WkUHHAIjg75cFRf3bXL8LICs1_FvsUJiZTaR.woff2\n",
      "https://www.gstatic.com/devrel-devsite/prod/v0492b3db79b8927fe2347ea2dc87c471b22f173331622ffd10334837d43ea37f/js/devsite_devsite_language_selector_module.js\n",
      "https://lh3.googleusercontent.com/6EXToXidjdMZMja3kLi2X6Ew4NYmcbuasMGgdMaZYSjUzsDCYmGts2br248Agqpepdeb9LoEGDtu=w700-h525-no\n",
      "https://fonts.gstatic.com/s/ruda/v10/k3kQo8YQJOpFovs6fdnoLg.woff2\n",
      "https://accounts.google.com/_/kids/signup/eligible?hl=fr&amp;_reqid=77292&amp;rt=j\n",
      "https://accounts.google.com/_/kids/signup/eligible?hl=fr&amp;_reqid=8697&amp;rt=j\n",
      "https://accounts.google.com/_/kids/signup/eligible?hl=fr&amp;_reqid=70793&amp;rt=j\n",
      "https://fonts.gstatic.com/s/ubuntu/v15/4iCs6KVjbNBYlgoKfw7z.ttf\n",
      "https://accounts.google.com/_/kids/signup/eligible?hl=fr&amp;_reqid=79903&amp;rt=j\n",
      "https://fonts.gstatic.com/s/montserrat/v17/JTURjIg1_i6t8kCHKm45_ZpC3gnD_g.woff2\n",
      "https://fonts.gstatic.com/s/sourcesanspro/v14/6xKydSBYKcSV-LCoeQqfX1RYOo3ik4zwlxdu.woff2\n",
      "https://fonts.gstatic.com/s/lato/v18/S6u9w4BMUTPHh50XSwiPGQ.woff2\n",
      "https://fonts.gstatic.com/s/opensans/v22/mem8YaGs126MiZpBA-UFVZ0b.woff2\n",
      "https://accounts.google.com/ServiceLogin?continue=https://www.blogger.com/followers.g?blogID%3D6949068298798094008%26colors%3DCgt0cmFuc3BhcmVudBILdHJhbnNwYXJlbnQaByMwMDAwMDAiByMwMDAwMDAqByNGRkZGRkYyByMwMDAwMDA6ByMwMDAwMDBCByMwMDAwMDBKByMwMDAwMDBSByNGRkZGRkZaC3RyYW5zcGFyZW50%26pageSize%3D21%26origin%3Dhttps://aneukrantau30.blogspot.com/%26usegapi%3D1%26jsh%3Dm;/_/scs/apps-static/_/js/k%253Doz.gapi.en_US.4sn9RO63fqo.O/am%253DAQ/d%253D1/rs%253DAGLTcCO5GqPeHrbNQGs79bP09BnjVkdwag/m%253D__features__%26bpli%3D1&amp;followup=https://www.blogger.com/followers.g?blogID%3D6949068298798094008%26colors%3DCgt0cmFuc3BhcmVudBILdHJhbnNwYXJlbnQaByMwMDAwMDAiByMwMDAwMDAqByNGRkZGRkYyByMwMDAwMDA6ByMwMDAwMDBCByMwMDAwMDBKByMwMDAwMDBSByNGRkZGRkZaC3RyYW5zcGFyZW50%26pageSize%3D21%26origin%3Dhttps://aneukrantau30.blogspot.com/%26usegapi%3D1%26jsh%3Dm;/_/scs/apps-static/_/js/k%253Doz.gapi.en_US.4sn9RO63fqo.O/am%253DAQ/d%253D1/rs%253DAGLTcCO5GqPeHrbNQGs79bP09BnjVkdwag/m%253D__features__%26bpli%3D1&amp;passive=true&amp;go=true#id=I0_1628342313168&amp;_gfid=I0_1628342313168&amp;parent=https%3A%2F%2Faneukrantau30.blogspot.com&amp;pfname=&amp;rpctoken=83457913\n",
      "https://fonts.gstatic.com/s/overpass/v5/qFdB35WCmI96Ajtm81GgY9nqxw.woff2\n",
      "https://accounts.google.com/ServiceLogin?continue=https://www.blogger.com/followers.g?blogID%3D3756545811499060445%26colors%3DCgt0cmFuc3BhcmVudBILdHJhbnNwYXJlbnQaByM3Nzc3NzciByMzNTYwYWIqByMzNTYwYWIyByMwMDAwMDA6ByM3Nzc3NzdCByMzNTYwYWJKByMwMDAwMDBSByNGRkZGRkZaC3RyYW5zcGFyZW50%26pageSize%3D21%26origin%3Dhttps://www.tafhem.com/%26usegapi%3D1%26jsh%3Dm;/_/scs/apps-static/_/js/k%253Doz.gapi.en_US.4sn9RO63fqo.O/am%253DAQ/d%253D1/rs%253DAGLTcCO5GqPeHrbNQGs79bP09BnjVkdwag/m%253D__features__%26bpli%3D1&amp;followup=https://www.blogger.com/followers.g?blogID%3D3756545811499060445%26colors%3DCgt0cmFuc3BhcmVudBILdHJhbnNwYXJlbnQaByM3Nzc3NzciByMzNTYwYWIqByMzNTYwYWIyByMwMDAwMDA6ByM3Nzc3NzdCByMzNTYwYWJKByMwMDAwMDBSByNGRkZGRkZaC3RyYW5zcGFyZW50%26pageSize%3D21%26origin%3Dhttps://www.tafhem.com/%26usegapi%3D1%26jsh%3Dm;/_/scs/apps-static/_/js/k%253Doz.gapi.en_US.4sn9RO63fqo.O/am%253DAQ/d%253D1/rs%253DAGLTcCO5GqPeHrbNQGs79bP09BnjVkdwag/m%253D__features__%26bpli%3D1&amp;passive=true&amp;go=true#id=I0_1628170198405&amp;_gfid=I0_1628170198405&amp;parent=https%3A%2F%2Fwww.tafhem.com&amp;pfname=&amp;rpctoken=32034919\n",
      "https://lh3.googleusercontent.com/2ixtbKrd00NDDLHlx5i-eLj43BEx4_cSpRnIkRh3DDg8ovVce0AI73mE5MR1I58WM25NMM6vQLR3cLNQC8_MknPoFQJY5X8p-BUolOE=w298-h170-p-nu-pa\n",
      "https://fonts.googleapis.com/css?family=Roboto:400,700\n",
      "https://www.gstatic.com/recaptcha/releases/ecapuzyywmdXQ5gJHS3JQiXe/recaptcha__en.js\n",
      "https://www.gstatic.com/devrel-devsite/prod/v0089c83aa8227c3439bf2708c0795dd13db533711d44eb626e640152d9fdf05e/nest/images/favicon.png\n",
      "https://fonts.googleapis.com/css2?family=Lato:wght@400;700&amp;display=swap\n",
      "https://www.gstatic.com/external_hosted/imagesloaded/imagesloaded-3.1.8.min.js\n",
      "https://fonts.gstatic.com/s/tajawal/v3/Iurf6YBj_oCad4k1l8KiHrRpiYlJ.woff2\n",
      "https://fonts.gstatic.com/s/tajawal/v3/Iurf6YBj_oCad4k1l4qkHrFpiQ.woff2\n",
      "https://fonts.gstatic.com/s/opensans/v23/memnYaGs126MiZpBA-UFUKXGUdhrIqM.woff2\n",
      "https://accounts.google.com/ServiceLogin?continue=https://www.blogger.com/followers.g?blogID%3D6949068298798094008%26colors%3DCgt0cmFuc3BhcmVudBILdHJhbnNwYXJlbnQaByMwMDAwMDAiByMwMDAwMDAqByNGRkZGRkYyByMwMDAwMDA6ByMwMDAwMDBCByMwMDAwMDBKByMwMDAwMDBSByNGRkZGRkZaC3RyYW5zcGFyZW50%26pageSize%3D21%26origin%3Dhttps://aneukrantau30.blogspot.com/%26usegapi%3D1%26jsh%3Dm;/_/scs/apps-static/_/js/k%253Doz.gapi.en_US.4sn9RO63fqo.O/am%253DAQ/d%253D1/rs%253DAGLTcCO5GqPeHrbNQGs79bP09BnjVkdwag/m%253D__features__%26bpli%3D1&amp;followup=https://www.blogger.com/followers.g?blogID%3D6949068298798094008%26colors%3DCgt0cmFuc3BhcmVudBILdHJhbnNwYXJlbnQaByMwMDAwMDAiByMwMDAwMDAqByNGRkZGRkYyByMwMDAwMDA6ByMwMDAwMDBCByMwMDAwMDBKByMwMDAwMDBSByNGRkZGRkZaC3RyYW5zcGFyZW50%26pageSize%3D21%26origin%3Dhttps://aneukrantau30.blogspot.com/%26usegapi%3D1%26jsh%3Dm;/_/scs/apps-static/_/js/k%253Doz.gapi.en_US.4sn9RO63fqo.O/am%253DAQ/d%253D1/rs%253DAGLTcCO5GqPeHrbNQGs79bP09BnjVkdwag/m%253D__features__%26bpli%3D1&amp;passive=true&amp;go=true#id=I0_1628016085150&amp;_gfid=I0_1628016085150&amp;parent=https%3A%2F%2Faneukrantau30.blogspot.com&amp;pfname=&amp;rpctoken=16565724\n",
      "https://fonts.gstatic.com/s/roboto/v27/KFOlCnqEu92Fr1MmWUlfBBc4.woff2\n",
      "https://fonts.gstatic.com/s/vollkorn/v13/0ybgGDoxxrvAnPhYGzMlQLzuMasz6Df2MHGeHmmc.woff2\n",
      "https://accounts.google.com/_/kids/signup/eligible?hl=fr&amp;_reqid=55729&amp;rt=j\n",
      "https://fonts.googleapis.com/css?family=Open+Sans:300,400|Roboto:300,400,500&amp;lang=en\n",
      "https://accounts.google.com/ServiceLogin?continue=https://www.blogger.com/followers.g?blogID%3D3512172885516050706%26colors%3DCgt0cmFuc3BhcmVudBILdHJhbnNwYXJlbnQaByMyMTIxMjEiByM2ODMxYzYqByNlY2VjZWMyByMwMDUxYzY6ByMyMTIxMjFCByM2ODMxYzZKByNjNjAwNTFSByM2ODMxYzZaC3RyYW5zcGFyZW50%26pageSize%3D21%26origin%3Dhttps://krdlogoped.blogspot.com/%26usegapi%3D1%26jsh%3Dm;/_/scs/apps-static/_/js/k%253Doz.gapi.en_US.4sn9RO63fqo.O/am%253DAQ/d%253D1/rs%253DAGLTcCO5GqPeHrbNQGs79bP09BnjVkdwag/m%253D__features__%26bpli%3D1&amp;followup=https://www.blogger.com/followers.g?blogID%3D3512172885516050706%26colors%3DCgt0cmFuc3BhcmVudBILdHJhbnNwYXJlbnQaByMyMTIxMjEiByM2ODMxYzYqByNlY2VjZWMyByMwMDUxYzY6ByMyMTIxMjFCByM2ODMxYzZKByNjNjAwNTFSByM2ODMxYzZaC3RyYW5zcGFyZW50%26pageSize%3D21%26origin%3Dhttps://krdlogoped.blogspot.com/%26usegapi%3D1%26jsh%3Dm;/_/scs/apps-static/_/js/k%253Doz.gapi.en_US.4sn9RO63fqo.O/am%253DAQ/d%253D1/rs%253DAGLTcCO5GqPeHrbNQGs79bP09BnjVkdwag/m%253D__features__%26bpli%3D1&amp;passive=true&amp;go=true#id=I0_1628245064213&amp;_gfid=I0_1628245064213&amp;parent=https%3A%2F%2Fkrdlogoped.blogspot.com&amp;pfname=&amp;rpctoken=34024811\n",
      "https://fonts.googleapis.com/css?family=Droid+Sans:400,700&amp;display=swap\n",
      "https://lh3.googleusercontent.com/proxy/oiAg0FdXYE-Vi36jlUPXkGetLRW_32ibrlnju4f_fVHvc3NyFgyW-7F9Y1CoyCb5IWKGact-0SwHa4B0Qv6anU5jZ-UHAMM=w720-h377-rj-pd-pc0x00e9e9e9\n",
      "https://fonts.gstatic.com/s/merriweather/v24/u-4n0qyriQwlOrhSvowK_l521wRZWMf6.woff2\n",
      "https://accounts.google.com/_/kids/signup/eligible?hl=fr&amp;_reqid=35620&amp;rt=j\n",
      "https://accounts.google.com/signin/v2/_/common/diagnostics/?diagnostics=%5B%5B%5B%22gaia_fe_minutemaid%3Ass%22%2Cnull%2Cnull%2Cnull%2C1628721128110%5D%5D%5D&amp;rt=j\n",
      "https://accounts.google.com/ServiceLogin?continue=https://www.blogger.com/followers.g?blogID%3D1719811995182941521%26colors%3DCgt0cmFuc3BhcmVudBILdHJhbnNwYXJlbnQaByMyMjIyMjIiByM5OTMzMDAqByNmZmY5ZWUyByMwMDAwMDA6ByMyMjIyMjJCByM5OTMzMDBKByM5OTk5OTlSByM5OTMzMDBaC3RyYW5zcGFyZW50%26pageSize%3D21%26origin%3Dhttps://makalebilgi.blogspot.com/%26usegapi%3D1%26jsh%3Dm;/_/scs/apps-static/_/js/k%253Doz.gapi.en_US.4sn9RO63fqo.O/am%253DAQ/d%253D1/rs%253DAGLTcCO5GqPeHrbNQGs79bP09BnjVkdwag/m%253D__features__%26bpli%3D1&amp;followup=https://www.blogger.com/followers.g?blogID%3D1719811995182941521%26colors%3DCgt0cmFuc3BhcmVudBILdHJhbnNwYXJlbnQaByMyMjIyMjIiByM5OTMzMDAqByNmZmY5ZWUyByMwMDAwMDA6ByMyMjIyMjJCByM5OTMzMDBKByM5OTk5OTlSByM5OTMzMDBaC3RyYW5zcGFyZW50%26pageSize%3D21%26origin%3Dhttps://makalebilgi.blogspot.com/%26usegapi%3D1%26jsh%3Dm;/_/scs/apps-static/_/js/k%253Doz.gapi.en_US.4sn9RO63fqo.O/am%253DAQ/d%253D1/rs%253DAGLTcCO5GqPeHrbNQGs79bP09BnjVkdwag/m%253D__features__%26bpli%3D1&amp;passive=true&amp;go=true#id=I0_1628249887072&amp;_gfid=I0_1628249887072&amp;parent=https%3A%2F%2Fmakalebilgi.blogspot.com&amp;pfname=&amp;rpctoken=31807397\n",
      "https://accounts.google.com/ServiceLogin?continue=https://www.blogger.com/followers.g?blogID%3D3512172885516050706%26colors%3DCgt0cmFuc3BhcmVudBILdHJhbnNwYXJlbnQaByMyMTIxMjEiByM2ODMxYzYqByNlY2VjZWMyByMwMDUxYzY6ByMyMTIxMjFCByM2ODMxYzZKByNjNjAwNTFSByM2ODMxYzZaC3RyYW5zcGFyZW50%26pageSize%3D21%26origin%3Dhttps://krdlogoped.blogspot.com/%26usegapi%3D1%26jsh%3Dm;/_/scs/apps-static/_/js/k%253Doz.gapi.en_US.4sn9RO63fqo.O/am%253DAQ/d%253D1/rs%253DAGLTcCO5GqPeHrbNQGs79bP09BnjVkdwag/m%253D__features__%26bpli%3D1&amp;followup=https://www.blogger.com/followers.g?blogID%3D3512172885516050706%26colors%3DCgt0cmFuc3BhcmVudBILdHJhbnNwYXJlbnQaByMyMTIxMjEiByM2ODMxYzYqByNlY2VjZWMyByMwMDUxYzY6ByMyMTIxMjFCByM2ODMxYzZKByNjNjAwNTFSByM2ODMxYzZaC3RyYW5zcGFyZW50%26pageSize%3D21%26origin%3Dhttps://krdlogoped.blogspot.com/%26usegapi%3D1%26jsh%3Dm;/_/scs/apps-static/_/js/k%253Doz.gapi.en_US.4sn9RO63fqo.O/am%253DAQ/d%253D1/rs%253DAGLTcCO5GqPeHrbNQGs79bP09BnjVkdwag/m%253D__features__%26bpli%3D1&amp;passive=true&amp;go=true#id=I0_1628228906746&amp;_gfid=I0_1628228906746&amp;parent=https%3A%2F%2Fkrdlogoped.blogspot.com&amp;pfname=&amp;rpctoken=12725540\n",
      "https://accounts.google.com/_/kids/signup/eligible?hl=fr&amp;_reqid=29745&amp;rt=j\n",
      "https://fonts.googleapis.com/css2?family=Roboto:wght@300;400&amp;display=swap\n",
      "https://fonts.gstatic.com/s/ubuntu/v15/4iCv6KVjbNBYlgoCxCvjsGyN.woff2\n",
      "https://fonts.gstatic.com/s/opensans/v22/mem5YaGs126MiZpBA-UN7rgOUuhp.woff2\n",
      "https://fonts.googleapis.com/css?family=Roboto+Slab:300,400,700&amp;subset=cyrillic,cyrillic-ext,latin-ext\n",
      "https://accounts.google.com/_/kids/signup/eligible?hl=fr&amp;_reqid=82879&amp;rt=j\n",
      "https://fonts.gstatic.com/s/opensans/v20/mem5YaGs126MiZpBA-UNirkOUuhp.woff2\n",
      "https://fonts.gstatic.com/s/lato/v20/S6u9w4BMUTPHh50XSwiPGQ.woff2\n",
      "https://fonts.gstatic.com/s/alegreyasans/v14/5aUu9_-1phKLFgshYDvh6Vwt5alOqEp2iw.woff2\n",
      "https://accounts.google.com/signin/v2/_/common/diagnostics/?diagnostics=%5B%5B%5B%22gaia_fe_minutemaid%3Ass%22%2Cnull%2Cnull%2Cnull%2C1628207267970%5D%5D%5D&amp;rt=j\n",
      "https://accounts.google.com/_/kids/signup/eligible?hl=fr&amp;_reqid=50014&amp;rt=j\n",
      "https://fonts.gstatic.com/s/fjallaone/v8/Yq6R-LCAWCX3-6Ky7FAFrOF6kg.woff2\n",
      "https://fonts.googleapis.com/css?family=Roboto%3A400%2C500\n",
      "https://accounts.google.com/_/kids/signup/eligible?hl=fr&amp;_reqid=29519&amp;rt=j\n",
      "https://accounts.google.com/ServiceLogin?continue=https://www.blogger.com/followers.g?blogID%3D1719811995182941521%26colors%3DCgt0cmFuc3BhcmVudBILdHJhbnNwYXJlbnQaByMyMjIyMjIiByM5OTMzMDAqByNmZmY5ZWUyByMwMDAwMDA6ByMyMjIyMjJCByM5OTMzMDBKByM5OTk5OTlSByM5OTMzMDBaC3RyYW5zcGFyZW50%26pageSize%3D21%26origin%3Dhttps://makalebilgi.blogspot.com/%26usegapi%3D1%26jsh%3Dm;/_/scs/apps-static/_/js/k%253Doz.gapi.en_US.4sn9RO63fqo.O/am%253DAQ/d%253D1/rs%253DAGLTcCO5GqPeHrbNQGs79bP09BnjVkdwag/m%253D__features__%26bpli%3D1&amp;followup=https://www.blogger.com/followers.g?blogID%3D1719811995182941521%26colors%3DCgt0cmFuc3BhcmVudBILdHJhbnNwYXJlbnQaByMyMjIyMjIiByM5OTMzMDAqByNmZmY5ZWUyByMwMDAwMDA6ByMyMjIyMjJCByM5OTMzMDBKByM5OTk5OTlSByM5OTMzMDBaC3RyYW5zcGFyZW50%26pageSize%3D21%26origin%3Dhttps://makalebilgi.blogspot.com/%26usegapi%3D1%26jsh%3Dm;/_/scs/apps-static/_/js/k%253Doz.gapi.en_US.4sn9RO63fqo.O/am%253DAQ/d%253D1/rs%253DAGLTcCO5GqPeHrbNQGs79bP09BnjVkdwag/m%253D__features__%26bpli%3D1&amp;passive=true&amp;go=true#id=I0_1628753148703&amp;_gfid=I0_1628753148703&amp;parent=https%3A%2F%2Fmakalebilgi.blogspot.com&amp;pfname=&amp;rpctoken=24911577\n",
      "https://accounts.google.com/ServiceLogin?continue=https://www.blogger.com/followers.g?blogID%3D3512172885516050706%26colors%3DCgt0cmFuc3BhcmVudBILdHJhbnNwYXJlbnQaByMyMTIxMjEiByM2ODMxYzYqByNlY2VjZWMyByMwMDUxYzY6ByMyMTIxMjFCByM2ODMxYzZKByNjNjAwNTFSByM2ODMxYzZaC3RyYW5zcGFyZW50%26pageSize%3D21%26origin%3Dhttps://krdlogoped.blogspot.com/%26usegapi%3D1%26jsh%3Dm;/_/scs/apps-static/_/js/k%253Doz.gapi.en_US.4sn9RO63fqo.O/am%253DAQ/d%253D1/rs%253DAGLTcCO5GqPeHrbNQGs79bP09BnjVkdwag/m%253D__features__%26bpli%3D1&amp;followup=https://www.blogger.com/followers.g?blogID%3D3512172885516050706%26colors%3DCgt0cmFuc3BhcmVudBILdHJhbnNwYXJlbnQaByMyMTIxMjEiByM2ODMxYzYqByNlY2VjZWMyByMwMDUxYzY6ByMyMTIxMjFCByM2ODMxYzZKByNjNjAwNTFSByM2ODMxYzZaC3RyYW5zcGFyZW50%26pageSize%3D21%26origin%3Dhttps://krdlogoped.blogspot.com/%26usegapi%3D1%26jsh%3Dm;/_/scs/apps-static/_/js/k%253Doz.gapi.en_US.4sn9RO63fqo.O/am%253DAQ/d%253D1/rs%253DAGLTcCO5GqPeHrbNQGs79bP09BnjVkdwag/m%253D__features__%26bpli%3D1&amp;passive=true&amp;go=true#id=I0_1628106890672&amp;_gfid=I0_1628106890672&amp;parent=https%3A%2F%2Fkrdlogoped.blogspot.com&amp;pfname=&amp;rpctoken=27135674\n",
      "https://accounts.google.com/_/kids/signup/eligible?hl=fr&amp;_reqid=85577&amp;rt=j\n",
      "https://apis.google.com/_/scs/apps-static/_/js/k=oz.gapi.en_US.4sn9RO63fqo.O/m=plusone,profile/rt=j/sv=1/d=1/ed=1/am=AQ/rs=AGLTcCO5GqPeHrbNQGs79bP09BnjVkdwag/cb=gapi.loaded_0?le=ili,ipu\n",
      "https://accounts.google.com/_/kids/signup/eligible?hl=fr&amp;_reqid=83856&amp;rt=j\n",
      "https://accounts.google.com/_/kids/signup/eligible?hl=fr&amp;_reqid=64915&amp;rt=j\n",
      "https://fonts.gstatic.com/s/montserrat/v16/JTURjIg1_i6t8kCHKm45_dJE3gnD_g.woff2\n",
      "https://fonts.googleapis.com/css2?family=Cairo%3Awght%40200%3B300%3B700&amp;display=swap&amp;ver=5.7.1\n",
      "https://fonts.gstatic.com/s/opensans/v21/mem8YaGs126MiZpBA-UFW50bbck.woff2\n",
      "https://fonts.gstatic.com/s/sourcesanspro/v14/6xK3dSBYKcSV-LCoeQqfX1RYOo3qOK7l.woff2\n",
      "https://fonts.gstatic.com/s/opensans/v23/mem8YaGs126MiZpBA-UFWp0bbck.woff2\n",
      "https://fonts.gstatic.com/s/ubuntu/v15/4iCv6KVjbNBYlgoCxCvjsGyI.ttf\n",
      "https://www.gstatic.com/_/mss/boq-geo/_/js/k=boq-geo.GeoMerchantPrestoSiteUi.en_US.fofLzo0j7ak.es5.O/ck=boq-geo.GeoMerchantPrestoSiteUi.G2AuozuRP-8.L.F4.O/am=BIEAgACA/d=1/exm=A4UTCb,A7fCU,BVgquf,CBlRxf,COQbmf,EFQ78c,EGNJFf,GkRiKb,HDvRde,HLo3Ef,IZT63,JNoxi,JbzNG,KG2eXe,KUM7Z,L1AAkb,LEikZe,MI6k7c,MdUzUe,MpJwZc,NpD4ec,NwH0H,O1Gjze,O6y8ed,O8k1Cd,OmgaI,PQaYAf,PrPYRd,RMhBfe,SF3gsd,SdcwHb,SpsfSb,U0aPgd,UUJqVe,Uas9Hd,UgAtXe,Ulmmrd,V3dDOb,VwDzFe,XVMNvd,YLQSd,ZfAoz,ZwDk9d,_b,_tp,aW3pY,aurFic,blwjVc,byfTOb,e5qFLc,fKUV3e,gychg,hKSk3e,hc6Ubd,hr05tc,iSvg6e,iTsyac,iWP1Yb,kjKdXe,lPKSwe,lazG7b,lfpdyf,lsjVmc,lwddkf,mI3LFb,mdR7q,n73qwf,o02Jie,pB6Zqd,pjICDe,qCSYWe,rHjpXd,tfTN8c,uY3Nvd,vfuNJf,w9hDv,ws9Tlc,x60fie,xQtZb,xUdipf,xiqEse,yDVVkb,zbML3c/excm=_b,_tp,siteview/ed=1/wt=2/rs=AD4das0Ysg0JVr1k1pKek_3N9iYcA6KKlg/m=Wt6vjf,_latency,FCpbqb,WhJNk\n",
      "https://accounts.google.com/signin/v2/_/common/diagnostics/?diagnostics=%5B%5B%5B%22gaia_fe_minutemaid%3Ass%22%2Cnull%2Cnull%2Cnull%2C1627984398303%5D%5D%5D&amp;rt=j\n",
      "https://lh3.googleusercontent.com/p/AF1QipOEsG4ji0lCObXndCGOPMe34ftCYIsfrLBbh1Jk=s1280-p-no-v1\n",
      "https://apis.google.com/_/scs/apps-static/_/js/k=oz.gapi.en_US.4sn9RO63fqo.O/m=gapi_iframes,gapi_iframes_style_bubble/exm=plusone/rt=j/sv=1/d=1/ed=1/am=AQ/rs=AGLTcCO5GqPeHrbNQGs79bP09BnjVkdwag/cb=gapi.loaded_1?le=ili,ipu\n",
      "https://fonts.gstatic.com/s/lustria/v8/9oRONYodvDEyjuhOnC8zMw.woff2\n",
      "https://accounts.google.com/_/kids/signup/eligible?hl=fr&amp;_reqid=50025&amp;rt=j\n",
      "https://fonts.gstatic.com/s/opensans/v22/memnYaGs126MiZpBA-UFUKXGUdhrIqM.woff2\n",
      "https://fonts.gstatic.com/s/opensans/v20/mem5YaGs126MiZpBA-UN7rgOUuhp.woff2\n",
      "https://www.gstatic.com/devrel-devsite/prod/v0089c83aa8227c3439bf2708c0795dd13db533711d44eb626e640152d9fdf05e/js/devsite_devsite_footer_utility_module.js\n",
      "https://lh3.googleusercontent.com/mgqSzhG5r50j_OE7loQTAFn4uPNcZVQ8ZHOJ24MKTq7gvdDG7HsU0K-lbUwsQRfnJygmcfLhsLNr=w339-h504-no\n",
      "https://accounts.google.com/ServiceLogin?continue=https://www.blogger.com/followers.g?blogID%3D6949068298798094008%26colors%3DCgt0cmFuc3BhcmVudBILdHJhbnNwYXJlbnQaByMwMDAwMDAiByMwMDAwMDAqByNGRkZGRkYyByMwMDAwMDA6ByMwMDAwMDBCByMwMDAwMDBKByMwMDAwMDBSByNGRkZGRkZaC3RyYW5zcGFyZW50%26pageSize%3D21%26origin%3Dhttps://aneukrantau30.blogspot.com/%26usegapi%3D1%26jsh%3Dm;/_/scs/apps-static/_/js/k%253Doz.gapi.en_US.4sn9RO63fqo.O/am%253DAQ/d%253D1/rs%253DAGLTcCO5GqPeHrbNQGs79bP09BnjVkdwag/m%253D__features__%26bpli%3D1&amp;followup=https://www.blogger.com/followers.g?blogID%3D6949068298798094008%26colors%3DCgt0cmFuc3BhcmVudBILdHJhbnNwYXJlbnQaByMwMDAwMDAiByMwMDAwMDAqByNGRkZGRkYyByMwMDAwMDA6ByMwMDAwMDBCByMwMDAwMDBKByMwMDAwMDBSByNGRkZGRkZaC3RyYW5zcGFyZW50%26pageSize%3D21%26origin%3Dhttps://aneukrantau30.blogspot.com/%26usegapi%3D1%26jsh%3Dm;/_/scs/apps-static/_/js/k%253Doz.gapi.en_US.4sn9RO63fqo.O/am%253DAQ/d%253D1/rs%253DAGLTcCO5GqPeHrbNQGs79bP09BnjVkdwag/m%253D__features__%26bpli%3D1&amp;passive=true&amp;go=true#id=I0_1628327468142&amp;_gfid=I0_1628327468142&amp;parent=https%3A%2F%2Faneukrantau30.blogspot.com&amp;pfname=&amp;rpctoken=83934985\n",
      "https://accounts.google.com/signin/v2/_/common/diagnostics/?diagnostics=%5B%5B%5B%22gaia_fe_minutemaid%3Ass%22%2Cnull%2Cnull%2Cnull%2C1628258044005%5D%5D%5D&amp;rt=j\n",
      "https://fonts.gstatic.com/s/lato/v20/S6uyw4BMUTPHjx4wXg.woff2\n",
      "https://fonts.gstatic.com/s/roboto/v18/KFOlCnqEu92Fr1MmEU9fBBc4.woff2\n",
      "https://fonts.gstatic.com/s/opensans/v18/mem8YaGs126MiZpBA-UFVZ0b.woff2\n",
      "https://fonts.gstatic.com/s/merriweather/v25/u-4m0qyriQwlOrhSvowK_l5-eRZOf-I.woff2\n",
      "https://fonts.googleapis.com/css?family=Unica+One|Vollkorn:400italic,400,700\n",
      "https://accounts.google.com/ServiceLogin?continue=https://www.blogger.com/followers.g?blogID%3D3756545811499060445%26colors%3DCgt0cmFuc3BhcmVudBILdHJhbnNwYXJlbnQaByM3Nzc3NzciByMzNTYwYWIqByMzNTYwYWIyByMwMDAwMDA6ByM3Nzc3NzdCByMzNTYwYWJKByMwMDAwMDBSByNGRkZGRkZaC3RyYW5zcGFyZW50%26pageSize%3D21%26origin%3Dhttps://www.tafhem.com/%26usegapi%3D1%26jsh%3Dm;/_/scs/apps-static/_/js/k%253Doz.gapi.en_US.4sn9RO63fqo.O/am%253DAQ/d%253D1/rs%253DAGLTcCO5GqPeHrbNQGs79bP09BnjVkdwag/m%253D__features__%26bpli%3D1&amp;followup=https://www.blogger.com/followers.g?blogID%3D3756545811499060445%26colors%3DCgt0cmFuc3BhcmVudBILdHJhbnNwYXJlbnQaByM3Nzc3NzciByMzNTYwYWIqByMzNTYwYWIyByMwMDAwMDA6ByM3Nzc3NzdCByMzNTYwYWJKByMwMDAwMDBSByNGRkZGRkZaC3RyYW5zcGFyZW50%26pageSize%3D21%26origin%3Dhttps://www.tafhem.com/%26usegapi%3D1%26jsh%3Dm;/_/scs/apps-static/_/js/k%253Doz.gapi.en_US.4sn9RO63fqo.O/am%253DAQ/d%253D1/rs%253DAGLTcCO5GqPeHrbNQGs79bP09BnjVkdwag/m%253D__features__%26bpli%3D1&amp;passive=true&amp;go=true#id=I0_1628258782649&amp;_gfid=I0_1628258782649&amp;parent=https%3A%2F%2Fwww.tafhem.com&amp;pfname=&amp;rpctoken=40947915\n",
      "https://accounts.google.com/ServiceLogin?continue=https://www.blogger.com/followers.g?blogID%3D6949068298798094008%26colors%3DCgt0cmFuc3BhcmVudBILdHJhbnNwYXJlbnQaByMwMDAwMDAiByMwMDAwMDAqByNGRkZGRkYyByMwMDAwMDA6ByMwMDAwMDBCByMwMDAwMDBKByMwMDAwMDBSByNGRkZGRkZaC3RyYW5zcGFyZW50%26pageSize%3D21%26origin%3Dhttps://aneukrantau30.blogspot.com/%26usegapi%3D1%26jsh%3Dm;/_/scs/apps-static/_/js/k%253Doz.gapi.en_US.4sn9RO63fqo.O/am%253DAQ/d%253D1/rs%253DAGLTcCO5GqPeHrbNQGs79bP09BnjVkdwag/m%253D__features__%26bpli%3D1&amp;followup=https://www.blogger.com/followers.g?blogID%3D6949068298798094008%26colors%3DCgt0cmFuc3BhcmVudBILdHJhbnNwYXJlbnQaByMwMDAwMDAiByMwMDAwMDAqByNGRkZGRkYyByMwMDAwMDA6ByMwMDAwMDBCByMwMDAwMDBKByMwMDAwMDBSByNGRkZGRkZaC3RyYW5zcGFyZW50%26pageSize%3D21%26origin%3Dhttps://aneukrantau30.blogspot.com/%26usegapi%3D1%26jsh%3Dm;/_/scs/apps-static/_/js/k%253Doz.gapi.en_US.4sn9RO63fqo.O/am%253DAQ/d%253D1/rs%253DAGLTcCO5GqPeHrbNQGs79bP09BnjVkdwag/m%253D__features__%26bpli%3D1&amp;passive=true&amp;go=true#id=I0_1628054006837&amp;_gfid=I0_1628054006837&amp;parent=https%3A%2F%2Faneukrantau30.blogspot.com&amp;pfname=&amp;rpctoken=31671823\n",
      "https://fonts.gstatic.com/s/roboto/v27/KFOlCnqEu92Fr1MmEU9fABc4EsA.woff2\n",
      "https://fonts.googleapis.com/css?family=Material+Icons&amp;display=block\n",
      "https://accounts.google.com/ServiceLogin?continue=https://www.blogger.com/followers.g?blogID%3D6949068298798094008%26colors%3DCgt0cmFuc3BhcmVudBILdHJhbnNwYXJlbnQaByMwMDAwMDAiByMwMDAwMDAqByNGRkZGRkYyByMwMDAwMDA6ByMwMDAwMDBCByMwMDAwMDBKByMwMDAwMDBSByNGRkZGRkZaC3RyYW5zcGFyZW50%26pageSize%3D21%26origin%3Dhttps://aneukrantau30.blogspot.com/%26usegapi%3D1%26jsh%3Dm;/_/scs/apps-static/_/js/k%253Doz.gapi.en_US.4sn9RO63fqo.O/am%253DAQ/d%253D1/rs%253DAGLTcCO5GqPeHrbNQGs79bP09BnjVkdwag/m%253D__features__%26bpli%3D1&amp;followup=https://www.blogger.com/followers.g?blogID%3D6949068298798094008%26colors%3DCgt0cmFuc3BhcmVudBILdHJhbnNwYXJlbnQaByMwMDAwMDAiByMwMDAwMDAqByNGRkZGRkYyByMwMDAwMDA6ByMwMDAwMDBCByMwMDAwMDBKByMwMDAwMDBSByNGRkZGRkZaC3RyYW5zcGFyZW50%26pageSize%3D21%26origin%3Dhttps://aneukrantau30.blogspot.com/%26usegapi%3D1%26jsh%3Dm;/_/scs/apps-static/_/js/k%253Doz.gapi.en_US.4sn9RO63fqo.O/am%253DAQ/d%253D1/rs%253DAGLTcCO5GqPeHrbNQGs79bP09BnjVkdwag/m%253D__features__%26bpli%3D1&amp;passive=true&amp;go=true#id=I0_1628154823668&amp;_gfid=I0_1628154823668&amp;parent=https%3A%2F%2Faneukrantau30.blogspot.com&amp;pfname=&amp;rpctoken=18450063\n",
      "https://www.gstatic.com/og/_/js/k=og.qtm.en_US.opB_WWY1tyA.O/rt=j/m=qabr,q_dnp,qcwid,qapid,qald/exm=qaaw,qadd,qaid,qein,qhaw,qhbr,qhch,qhga,qhid,qhin,qhpr/d=1/ed=1/rs=AA2YrTu4DZwU_99wQrR_FbG_e4NYhX4m2A\n",
      "https://accounts.google.com/ServiceLogin?continue=https://www.blogger.com/followers.g?blogID%3D3756545811499060445%26colors%3DCgt0cmFuc3BhcmVudBILdHJhbnNwYXJlbnQaByM3Nzc3NzciByMzNTYwYWIqByMzNTYwYWIyByMwMDAwMDA6ByM3Nzc3NzdCByMzNTYwYWJKByMwMDAwMDBSByNGRkZGRkZaC3RyYW5zcGFyZW50%26pageSize%3D21%26origin%3Dhttps://www.tafhem.com/%26usegapi%3D1%26jsh%3Dm;/_/scs/apps-static/_/js/k%253Doz.gapi.en_US.4sn9RO63fqo.O/am%253DAQ/d%253D1/rs%253DAGLTcCO5GqPeHrbNQGs79bP09BnjVkdwag/m%253D__features__%26bpli%3D1&amp;followup=https://www.blogger.com/followers.g?blogID%3D3756545811499060445%26colors%3DCgt0cmFuc3BhcmVudBILdHJhbnNwYXJlbnQaByM3Nzc3NzciByMzNTYwYWIqByMzNTYwYWIyByMwMDAwMDA6ByM3Nzc3NzdCByMzNTYwYWJKByMwMDAwMDBSByNGRkZGRkZaC3RyYW5zcGFyZW50%26pageSize%3D21%26origin%3Dhttps://www.tafhem.com/%26usegapi%3D1%26jsh%3Dm;/_/scs/apps-static/_/js/k%253Doz.gapi.en_US.4sn9RO63fqo.O/am%253DAQ/d%253D1/rs%253DAGLTcCO5GqPeHrbNQGs79bP09BnjVkdwag/m%253D__features__%26bpli%3D1&amp;passive=true&amp;go=true#id=I0_1628753058557&amp;_gfid=I0_1628753058557&amp;parent=https%3A%2F%2Fwww.tafhem.com&amp;pfname=&amp;rpctoken=53726457\n",
      "https://accounts.google.com/signin/v2/_/common/diagnostics/?diagnostics=%5B%5B%5B%22gaia_fe_minutemaid%3Ass%22%2Cnull%2Cnull%2Cnull%2C1628327730778%5D%5D%5D&amp;rt=j\n",
      "https://fonts.googleapis.com/css?family=Open+Sans%3A300%2C300i%2C400%2C400i%2C600%2C600i%2C700%2C700i%2C800%2C800i&amp;ver=5.5.5\n",
      "https://accounts.google.com/ServiceLogin?continue=https://www.blogger.com/followers.g?blogID%3D3512172885516050706%26colors%3DCgt0cmFuc3BhcmVudBILdHJhbnNwYXJlbnQaByMyMTIxMjEiByM2ODMxYzYqByNlY2VjZWMyByMwMDUxYzY6ByMyMTIxMjFCByM2ODMxYzZKByNjNjAwNTFSByM2ODMxYzZaC3RyYW5zcGFyZW50%26pageSize%3D21%26origin%3Dhttps://krdlogoped.blogspot.com/%26usegapi%3D1%26jsh%3Dm;/_/scs/apps-static/_/js/k%253Doz.gapi.en_US.4sn9RO63fqo.O/am%253DAQ/d%253D1/rs%253DAGLTcCO5GqPeHrbNQGs79bP09BnjVkdwag/m%253D__features__%26bpli%3D1&amp;followup=https://www.blogger.com/followers.g?blogID%3D3512172885516050706%26colors%3DCgt0cmFuc3BhcmVudBILdHJhbnNwYXJlbnQaByMyMTIxMjEiByM2ODMxYzYqByNlY2VjZWMyByMwMDUxYzY6ByMyMTIxMjFCByM2ODMxYzZKByNjNjAwNTFSByM2ODMxYzZaC3RyYW5zcGFyZW50%26pageSize%3D21%26origin%3Dhttps://krdlogoped.blogspot.com/%26usegapi%3D1%26jsh%3Dm;/_/scs/apps-static/_/js/k%253Doz.gapi.en_US.4sn9RO63fqo.O/am%253DAQ/d%253D1/rs%253DAGLTcCO5GqPeHrbNQGs79bP09BnjVkdwag/m%253D__features__%26bpli%3D1&amp;passive=true&amp;go=true#id=I0_1628310240452&amp;_gfid=I0_1628310240452&amp;parent=https%3A%2F%2Fkrdlogoped.blogspot.com&amp;pfname=&amp;rpctoken=18900786\n",
      "https://fonts.gstatic.com/s/lato/v20/S6u9w4BMUTPHh6UVSwiPGQ.woff2\n",
      "https://accounts.google.com/signin/v2/_/common/diagnostics/?diagnostics=%5B%5B%5B%22gaia_fe_minutemaid%3Ass%22%2Cnull%2Cnull%2Cnull%2C1628043676280%5D%5D%5D&amp;rt=j\n",
      "https://www.gstatic.com/external_hosted/modernizr/modernizr.js\n",
      "https://accounts.google.com/_/kids/signup/eligible?hl=fr&amp;_reqid=48096&amp;rt=j\n",
      "https://accounts.google.com/ServiceLogin?continue=https://www.blogger.com/followers.g?blogID%3D3756545811499060445%26colors%3DCgt0cmFuc3BhcmVudBILdHJhbnNwYXJlbnQaByM3Nzc3NzciByMzNTYwYWIqByMzNTYwYWIyByMwMDAwMDA6ByM3Nzc3NzdCByMzNTYwYWJKByMwMDAwMDBSByNGRkZGRkZaC3RyYW5zcGFyZW50%26pageSize%3D21%26origin%3Dhttps://www.tafhem.com/%26usegapi%3D1%26jsh%3Dm;/_/scs/apps-static/_/js/k%253Doz.gapi.en_US.4sn9RO63fqo.O/am%253DAQ/d%253D1/rs%253DAGLTcCO5GqPeHrbNQGs79bP09BnjVkdwag/m%253D__features__%26bpli%3D1&amp;followup=https://www.blogger.com/followers.g?blogID%3D3756545811499060445%26colors%3DCgt0cmFuc3BhcmVudBILdHJhbnNwYXJlbnQaByM3Nzc3NzciByMzNTYwYWIqByMzNTYwYWIyByMwMDAwMDA6ByM3Nzc3NzdCByMzNTYwYWJKByMwMDAwMDBSByNGRkZGRkZaC3RyYW5zcGFyZW50%26pageSize%3D21%26origin%3Dhttps://www.tafhem.com/%26usegapi%3D1%26jsh%3Dm;/_/scs/apps-static/_/js/k%253Doz.gapi.en_US.4sn9RO63fqo.O/am%253DAQ/d%253D1/rs%253DAGLTcCO5GqPeHrbNQGs79bP09BnjVkdwag/m%253D__features__%26bpli%3D1&amp;passive=true&amp;go=true#id=I0_1628328510518&amp;_gfid=I0_1628328510518&amp;parent=https%3A%2F%2Fwww.tafhem.com&amp;pfname=&amp;rpctoken=25578969\n",
      "https://fonts.gstatic.com/s/roboto/v27/KFOlCnqEu92Fr1MmWUlfCxc4EsA.woff2\n",
      "https://accounts.google.com/ServiceLogin?continue=https://www.blogger.com/followers.g?blogID%3D3512172885516050706%26colors%3DCgt0cmFuc3BhcmVudBILdHJhbnNwYXJlbnQaByMyMTIxMjEiByM2ODMxYzYqByNlY2VjZWMyByMwMDUxYzY6ByMyMTIxMjFCByM2ODMxYzZKByNjNjAwNTFSByM2ODMxYzZaC3RyYW5zcGFyZW50%26pageSize%3D21%26origin%3Dhttps://krdlogoped.blogspot.com/%26usegapi%3D1%26jsh%3Dm;/_/scs/apps-static/_/js/k%253Doz.gapi.en_US.4sn9RO63fqo.O/am%253DAQ/d%253D1/rs%253DAGLTcCO5GqPeHrbNQGs79bP09BnjVkdwag/m%253D__features__%26bpli%3D1&amp;followup=https://www.blogger.com/followers.g?blogID%3D3512172885516050706%26colors%3DCgt0cmFuc3BhcmVudBILdHJhbnNwYXJlbnQaByMyMTIxMjEiByM2ODMxYzYqByNlY2VjZWMyByMwMDUxYzY6ByMyMTIxMjFCByM2ODMxYzZKByNjNjAwNTFSByM2ODMxYzZaC3RyYW5zcGFyZW50%26pageSize%3D21%26origin%3Dhttps://krdlogoped.blogspot.com/%26usegapi%3D1%26jsh%3Dm;/_/scs/apps-static/_/js/k%253Doz.gapi.en_US.4sn9RO63fqo.O/am%253DAQ/d%253D1/rs%253DAGLTcCO5GqPeHrbNQGs79bP09BnjVkdwag/m%253D__features__%26bpli%3D1&amp;passive=true&amp;go=true#id=I0_1628261234565&amp;_gfid=I0_1628261234565&amp;parent=https%3A%2F%2Fkrdlogoped.blogspot.com&amp;pfname=&amp;rpctoken=25053860\n",
      "https://fonts.gstatic.com/s/poppins/v15/pxiEyp8kv8JHgFVrJJfecg.woff2\n",
      "https://fonts.gstatic.com/s/montserrat/v15/JTURjIg1_i6t8kCHKm45_ZpC3gnD_g.woff2\n",
      "https://www.gstatic.com/charts/51/js/jsapi_compiled_corechart_module.js\n",
      "https://fonts.googleapis.com/css?family=Montserrat:300,700\n",
      "https://www.gstatic.com/devrel-devsite/prod/v0492b3db79b8927fe2347ea2dc87c471b22f173331622ffd10334837d43ea37f/js/devsite_devsite_footer_linkboxes_module.js\n",
      "https://www.gstatic.com/recaptcha/releases/tFhBvPrftr7Y91fo1S1ASkA6/styles__ltr.css\n",
      "https://fonts.gstatic.com/s/opensans/v22/mem6YaGs126MiZpBA-UFUK0Zdc0.woff2\n",
      "https://fonts.gstatic.com/s/roboto/v18/KFOmCnqEu92Fr1Mu7WxKOzY.woff2\n",
      "https://lh3.googleusercontent.com/p/AF1QipPy_LebqBUKKVYsZmkm-p-uaRNqX4XZdlscXiHk=s1280-p-no-v1\n",
      "https://fonts.gstatic.com/s/lobster/v23/neILzCirqoswsqX9zoKmNg.ttf\n",
      "https://accounts.google.com/_/kids/signup/eligible?hl=fr&amp;_reqid=1084&amp;rt=j\n",
      "https://accounts.google.com/signin/v2/_/common/diagnostics/?diagnostics=%5B%5B%5B%22gaia_fe_minutemaid%3Ass%22%2Cnull%2Cnull%2Cnull%2C1628032633192%5D%5D%5D&amp;rt=j\n",
      "https://accounts.google.com/signin/v2/_/common/diagnostics/?diagnostics=%5B%5B%5B%22gaia_fe_minutemaid%3Ass%22%2Cnull%2Cnull%2Cnull%2C1628261489794%5D%5D%5D&amp;rt=j\n",
      "https://accounts.google.com/ServiceLogin?continue=https://www.blogger.com/followers.g?blogID%3D3512172885516050706%26colors%3DCgt0cmFuc3BhcmVudBILdHJhbnNwYXJlbnQaByMyMTIxMjEiByM2ODMxYzYqByNlY2VjZWMyByMwMDUxYzY6ByMyMTIxMjFCByM2ODMxYzZKByNjNjAwNTFSByM2ODMxYzZaC3RyYW5zcGFyZW50%26pageSize%3D21%26origin%3Dhttps://krdlogoped.blogspot.com/%26usegapi%3D1%26jsh%3Dm;/_/scs/apps-static/_/js/k%253Doz.gapi.en_US.4sn9RO63fqo.O/am%253DAQ/d%253D1/rs%253DAGLTcCO5GqPeHrbNQGs79bP09BnjVkdwag/m%253D__features__%26bpli%3D1&amp;followup=https://www.blogger.com/followers.g?blogID%3D3512172885516050706%26colors%3DCgt0cmFuc3BhcmVudBILdHJhbnNwYXJlbnQaByMyMTIxMjEiByM2ODMxYzYqByNlY2VjZWMyByMwMDUxYzY6ByMyMTIxMjFCByM2ODMxYzZKByNjNjAwNTFSByM2ODMxYzZaC3RyYW5zcGFyZW50%26pageSize%3D21%26origin%3Dhttps://krdlogoped.blogspot.com/%26usegapi%3D1%26jsh%3Dm;/_/scs/apps-static/_/js/k%253Doz.gapi.en_US.4sn9RO63fqo.O/am%253DAQ/d%253D1/rs%253DAGLTcCO5GqPeHrbNQGs79bP09BnjVkdwag/m%253D__features__%26bpli%3D1&amp;passive=true&amp;go=true#id=I0_1628124596137&amp;_gfid=I0_1628124596137&amp;parent=https%3A%2F%2Fkrdlogoped.blogspot.com&amp;pfname=&amp;rpctoken=12612848\n",
      "https://accounts.google.com/ServiceLogin?continue=https://www.blogger.com/followers.g?blogID%3D3512172885516050706%26colors%3DCgt0cmFuc3BhcmVudBILdHJhbnNwYXJlbnQaByMyMTIxMjEiByM2ODMxYzYqByNlY2VjZWMyByMwMDUxYzY6ByMyMTIxMjFCByM2ODMxYzZKByNjNjAwNTFSByM2ODMxYzZaC3RyYW5zcGFyZW50%26pageSize%3D21%26origin%3Dhttps://krdlogoped.blogspot.com/%26usegapi%3D1%26jsh%3Dm;/_/scs/apps-static/_/js/k%253Doz.gapi.en_US.4sn9RO63fqo.O/am%253DAQ/d%253D1/rs%253DAGLTcCO5GqPeHrbNQGs79bP09BnjVkdwag/m%253D__features__%26bpli%3D1&amp;followup=https://www.blogger.com/followers.g?blogID%3D3512172885516050706%26colors%3DCgt0cmFuc3BhcmVudBILdHJhbnNwYXJlbnQaByMyMTIxMjEiByM2ODMxYzYqByNlY2VjZWMyByMwMDUxYzY6ByMyMTIxMjFCByM2ODMxYzZKByNjNjAwNTFSByM2ODMxYzZaC3RyYW5zcGFyZW50%26pageSize%3D21%26origin%3Dhttps://krdlogoped.blogspot.com/%26usegapi%3D1%26jsh%3Dm;/_/scs/apps-static/_/js/k%253Doz.gapi.en_US.4sn9RO63fqo.O/am%253DAQ/d%253D1/rs%253DAGLTcCO5GqPeHrbNQGs79bP09BnjVkdwag/m%253D__features__%26bpli%3D1&amp;passive=true&amp;go=true#id=I0_1628190082316&amp;_gfid=I0_1628190082316&amp;parent=https%3A%2F%2Fkrdlogoped.blogspot.com&amp;pfname=&amp;rpctoken=37483751\n",
      "https://www.gstatic.com/mysidia/aedeba39b64edc89259c5bab3bb9fe61.js?tag=analytics_pingback_2019\n",
      "https://fonts.gstatic.com/s/prompt/v5/-W__XJnvUD7dzB2KYNod.woff2\n",
      "https://fonts.gstatic.com/s/oswald/v38/TK3_WkUHHAIjg75cFRf3bXL8LICs1_FvsUliZTaR.woff2\n",
      "https://accounts.google.com/o/oauth2/auth/_/common/diagnostics/?diagnostics=%5B%5B%5B%22gaia_fe_minutemaid%3Ass%22%2Cnull%2Cnull%2Cnull%2C1628311538551%5D%5D%5D&amp;rt=j\n",
      "https://www.gstatic.com/wcm/loader.js\n",
      "https://fonts.googleapis.com/css?family=Google+Sans:400,500|Roboto:400,400italic,500,500italic,700,700italic|Roboto+Mono:400,500,700&amp;display=swap\n",
      "https://accounts.google.com/_/kids/signup/eligible?hl=fr&amp;_reqid=33199&amp;rt=j\n",
      "https://fonts.gstatic.com/s/merriweather/v22/u-4n0qyriQwlOrhSvowK_l521wRZWMf6.woff2\n",
      "https://fonts.gstatic.com/s/raleway/v22/1Ptxg8zYS_SKggPN4iEgvnHyvveLxVs9pbCIPrE.woff2\n",
      "https://accounts.google.com/o/oauth2/auth/_/common/diagnostics/?diagnostics=%5B%5B%5B%22gaia_fe_minutemaid%3Ass%22%2Cnull%2Cnull%2Cnull%2C1628208794926%5D%5D%5D&amp;rt=j\n",
      "https://accounts.google.com/_/kids/signup/eligible?hl=fr&amp;_reqid=1105&amp;rt=j\n",
      "https://fonts.gstatic.com/s/oswald/v36/TK3_WkUHHAIjg75cFRf3bXL8LICs1_FvsUhiZTaR.woff2\n",
      "https://fonts.googleapis.com/css2?family=Open+Sans:wght@300;400;600;700&amp;display=swap\n",
      "https://www.gstatic.com/devrel-devsite/prod/v0492b3db79b8927fe2347ea2dc87c471b22f173331622ffd10334837d43ea37f/js/devsite_devsite_header_module.js\n",
      "https://www.gstatic.com/external_hosted/scrollmagic/animation.gsap.min.js\n",
      "https://accounts.google.com/ServiceLogin?continue=https://www.blogger.com/followers.g?blogID%3D1719811995182941521%26colors%3DCgt0cmFuc3BhcmVudBILdHJhbnNwYXJlbnQaByMyMjIyMjIiByM5OTMzMDAqByNmZmY5ZWUyByMwMDAwMDA6ByMyMjIyMjJCByM5OTMzMDBKByM5OTk5OTlSByM5OTMzMDBaC3RyYW5zcGFyZW50%26pageSize%3D21%26origin%3Dhttps://makalebilgi.blogspot.com/%26usegapi%3D1%26jsh%3Dm;/_/scs/apps-static/_/js/k%253Doz.gapi.en_US.4sn9RO63fqo.O/am%253DAQ/d%253D1/rs%253DAGLTcCO5GqPeHrbNQGs79bP09BnjVkdwag/m%253D__features__%26bpli%3D1&amp;followup=https://www.blogger.com/followers.g?blogID%3D1719811995182941521%26colors%3DCgt0cmFuc3BhcmVudBILdHJhbnNwYXJlbnQaByMyMjIyMjIiByM5OTMzMDAqByNmZmY5ZWUyByMwMDAwMDA6ByMyMjIyMjJCByM5OTMzMDBKByM5OTk5OTlSByM5OTMzMDBaC3RyYW5zcGFyZW50%26pageSize%3D21%26origin%3Dhttps://makalebilgi.blogspot.com/%26usegapi%3D1%26jsh%3Dm;/_/scs/apps-static/_/js/k%253Doz.gapi.en_US.4sn9RO63fqo.O/am%253DAQ/d%253D1/rs%253DAGLTcCO5GqPeHrbNQGs79bP09BnjVkdwag/m%253D__features__%26bpli%3D1&amp;passive=true&amp;go=true#id=I0_1628044512894&amp;_gfid=I0_1628044512894&amp;parent=https%3A%2F%2Fmakalebilgi.blogspot.com&amp;pfname=&amp;rpctoken=36200141\n",
      "https://lh3.googleusercontent.com/rrUEtHmbJKH52up0By76uuj4suJvAnLmfr_CxWD6eLObCROjerLeb-bLTTWqD-Lw1fj-ZcNTkhVWFCBw_w=w960-h960-n-o-v1\n",
      "https://fonts.gstatic.com/s/opensans/v20/mem5YaGs126MiZpBA-UN7rgOXehpOqc.woff2\n",
      "https://accounts.google.com/o/oauth2/auth/_/common/diagnostics/?diagnostics=%5B%5B%5B%22gaia_fe_minutemaid%3Ass%22%2Cnull%2Cnull%2Cnull%2C1628796221138%5D%5D%5D&amp;rt=j\n",
      "https://fonts.gstatic.com/s/googlesans/v35/4UabrENHsxJlGDuGo1OIlLU94YtwCwZ-Pw.woff2\n",
      "https://www.gstatic.com/external_hosted/polymer/v2/webcomponents-lite.js\n",
      "https://www.gstatic.com/charts/51/css/util/util.css\n",
      "https://fonts.gstatic.com/s/ubuntu/v15/4iCs6KVjbNBYlgoKfw72.woff2\n",
      "https://fonts.gstatic.com/s/roboto/v18/KFOmCnqEu92Fr1Mu5mxKOzY.woff2\n",
      "https://accounts.google.com/ServiceLogin?continue=https://www.blogger.com/followers.g?blogID%3D1719811995182941521%26colors%3DCgt0cmFuc3BhcmVudBILdHJhbnNwYXJlbnQaByMyMjIyMjIiByM5OTMzMDAqByNmZmY5ZWUyByMwMDAwMDA6ByMyMjIyMjJCByM5OTMzMDBKByM5OTk5OTlSByM5OTMzMDBaC3RyYW5zcGFyZW50%26pageSize%3D21%26origin%3Dhttps://makalebilgi.blogspot.com/%26usegapi%3D1%26jsh%3Dm;/_/scs/apps-static/_/js/k%253Doz.gapi.en_US.4sn9RO63fqo.O/am%253DAQ/d%253D1/rs%253DAGLTcCO5GqPeHrbNQGs79bP09BnjVkdwag/m%253D__features__%26bpli%3D1&amp;followup=https://www.blogger.com/followers.g?blogID%3D1719811995182941521%26colors%3DCgt0cmFuc3BhcmVudBILdHJhbnNwYXJlbnQaByMyMjIyMjIiByM5OTMzMDAqByNmZmY5ZWUyByMwMDAwMDA6ByMyMjIyMjJCByM5OTMzMDBKByM5OTk5OTlSByM5OTMzMDBaC3RyYW5zcGFyZW50%26pageSize%3D21%26origin%3Dhttps://makalebilgi.blogspot.com/%26usegapi%3D1%26jsh%3Dm;/_/scs/apps-static/_/js/k%253Doz.gapi.en_US.4sn9RO63fqo.O/am%253DAQ/d%253D1/rs%253DAGLTcCO5GqPeHrbNQGs79bP09BnjVkdwag/m%253D__features__%26bpli%3D1&amp;passive=true&amp;go=true#id=I0_1628625201878&amp;_gfid=I0_1628625201878&amp;parent=https%3A%2F%2Fmakalebilgi.blogspot.com&amp;pfname=&amp;rpctoken=18900401\n",
      "https://fonts.gstatic.com/s/alegreyasans/v14/5aUz9_-1phKLFgshYDvh6Vwt7VptvQ.woff2\n",
      "https://accounts.google.com/ServiceLogin?service=ah&amp;passive=true&amp;continue=https://uc.appengine.google.com/_ah/conflogin%3Fcontinue%3Dhttps://us-central1-relentlo-690aa.cloudfunctions.net/\n",
      "https://accounts.google.com/_/kids/signup/eligible?hl=fr&amp;_reqid=53513&amp;rt=j\n",
      "https://fonts.gstatic.com/s/tajawal/v3/Iurf6YBj_oCad4k1l8KiHrFpiQ.woff2\n",
      "https://fonts.gstatic.com/s/montserrat/v17/JTUSjIg1_i6t8kCHKm459Wlhyw.woff2\n",
      "https://fonts.gstatic.com/s/opensans/v18/mem5YaGs126MiZpBA-UNirkOUuhp.woff2\n",
      "https://fonts.googleapis.com/css?family=Roboto%3A100%2C100italic%2C200%2C200italic%2C300%2C300italic%2C400%2C400italic%2C500%2C500italic%2C600%2C600italic%2C700%2C700italic%2C800%2C800italic%2C900%2C900italic%7CRoboto+Slab%3A100%2C100italic%2C200%2C200italic%2C300%2C300italic%2C400%2C400italic%2C500%2C500italic%2C600%2C600italic%2C700%2C700italic%2C800%2C800italic%2C900%2C900italic&amp;ver=5.7.2\n",
      "https://lh3.googleusercontent.com/6ZGPsVKtS4q4KynkxYr5M3ft9bYh2gVlZxORYNHOwc0_9t8fc92SYf_IeAK42yiDETSPzLeWMXvG=w270-h479-no\n",
      "https://lh3.googleusercontent.com/a-/AOh14Gh0Eh3WgKkPnhb5pPOrDDBbkvXk3YDaJ5kxdUff=s45-c\n",
      "https://fonts.gstatic.com/s/roboto/v18/KFOmCnqEu92Fr1Mu4mxK.woff2\n",
      "https://lh3.googleusercontent.com/41VBKA3cwqrVSEtowiZagneKnpjx06lyEbwLekYa-qIzSc9N2EshzwjYpxvKXgPdQZICgDZYP01FENPu5w=w960-h960-n-o-v1\n",
      "https://fonts.gstatic.com/s/oswald/v40/TK3_WkUHHAIjg75cFRf3bXL8LICs1_FvsUZiZQ.woff2\n",
      "https://accounts.google.com/ServiceLogin?continue=https://www.blogger.com/followers.g?blogID%3D6949068298798094008%26colors%3DCgt0cmFuc3BhcmVudBILdHJhbnNwYXJlbnQaByMwMDAwMDAiByMwMDAwMDAqByNGRkZGRkYyByMwMDAwMDA6ByMwMDAwMDBCByMwMDAwMDBKByMwMDAwMDBSByNGRkZGRkZaC3RyYW5zcGFyZW50%26pageSize%3D21%26origin%3Dhttps://aneukrantau30.blogspot.com/%26usegapi%3D1%26jsh%3Dm;/_/scs/apps-static/_/js/k%253Doz.gapi.en_US.4sn9RO63fqo.O/am%253DAQ/d%253D1/rs%253DAGLTcCO5GqPeHrbNQGs79bP09BnjVkdwag/m%253D__features__%26bpli%3D1&amp;followup=https://www.blogger.com/followers.g?blogID%3D6949068298798094008%26colors%3DCgt0cmFuc3BhcmVudBILdHJhbnNwYXJlbnQaByMwMDAwMDAiByMwMDAwMDAqByNGRkZGRkYyByMwMDAwMDA6ByMwMDAwMDBCByMwMDAwMDBKByMwMDAwMDBSByNGRkZGRkZaC3RyYW5zcGFyZW50%26pageSize%3D21%26origin%3Dhttps://aneukrantau30.blogspot.com/%26usegapi%3D1%26jsh%3Dm;/_/scs/apps-static/_/js/k%253Doz.gapi.en_US.4sn9RO63fqo.O/am%253DAQ/d%253D1/rs%253DAGLTcCO5GqPeHrbNQGs79bP09BnjVkdwag/m%253D__features__%26bpli%3D1&amp;passive=true&amp;go=true#id=I0_1628150123944&amp;_gfid=I0_1628150123944&amp;parent=https%3A%2F%2Faneukrantau30.blogspot.com&amp;pfname=&amp;rpctoken=15383257\n",
      "https://fonts.googleapis.com/css?family=Roboto:300,400,500,700&amp;lang=fr\n",
      "https://accounts.google.com/_/kids/signup/eligible?hl=fr&amp;_reqid=60755&amp;rt=j\n",
      "https://www.gstatic.com/_/mss/boq-geo/_/js/k=boq-geo.GeoMerchantPrestoSiteUi.en_US.fofLzo0j7ak.es5.O/am=BIEAgACA/d=1/excm=_b,_tp,siteview/ed=1/dg=0/wt=2/rs=AD4das2cpOTPFkzfWFnZVI_0mqNBz4ZaaQ/m=_b,_tp\n",
      "https://accounts.google.com/_/kids/signup/eligible?hl=fr&amp;_reqid=41928&amp;rt=j\n",
      "https://accounts.google.com/ServiceLogin?continue=https://www.blogger.com/followers.g?blogID%3D3756545811499060445%26colors%3DCgt0cmFuc3BhcmVudBILdHJhbnNwYXJlbnQaByM3Nzc3NzciByMzNTYwYWIqByMzNTYwYWIyByMwMDAwMDA6ByM3Nzc3NzdCByMzNTYwYWJKByMwMDAwMDBSByNGRkZGRkZaC3RyYW5zcGFyZW50%26pageSize%3D21%26origin%3Dhttps://www.tafhem.com/%26usegapi%3D1%26jsh%3Dm;/_/scs/apps-static/_/js/k%253Doz.gapi.en_US.4sn9RO63fqo.O/am%253DAQ/d%253D1/rs%253DAGLTcCO5GqPeHrbNQGs79bP09BnjVkdwag/m%253D__features__%26bpli%3D1&amp;followup=https://www.blogger.com/followers.g?blogID%3D3756545811499060445%26colors%3DCgt0cmFuc3BhcmVudBILdHJhbnNwYXJlbnQaByM3Nzc3NzciByMzNTYwYWIqByMzNTYwYWIyByMwMDAwMDA6ByM3Nzc3NzdCByMzNTYwYWJKByMwMDAwMDBSByNGRkZGRkZaC3RyYW5zcGFyZW50%26pageSize%3D21%26origin%3Dhttps://www.tafhem.com/%26usegapi%3D1%26jsh%3Dm;/_/scs/apps-static/_/js/k%253Doz.gapi.en_US.4sn9RO63fqo.O/am%253DAQ/d%253D1/rs%253DAGLTcCO5GqPeHrbNQGs79bP09BnjVkdwag/m%253D__features__%26bpli%3D1&amp;passive=true&amp;go=true#id=I0_1628010267896&amp;_gfid=I0_1628010267896&amp;parent=https%3A%2F%2Fwww.tafhem.com&amp;pfname=&amp;rpctoken=25504479\n",
      "https://fonts.gstatic.com/s/dmsans/v6/rP2Cp2ywxg089UriASitCBimCw.woff2\n",
      "https://accounts.google.com/ServiceLogin?continue=https://www.blogger.com/followers.g?blogID%3D3756545811499060445%26colors%3DCgt0cmFuc3BhcmVudBILdHJhbnNwYXJlbnQaByM3Nzc3NzciByMzNTYwYWIqByMzNTYwYWIyByMwMDAwMDA6ByM3Nzc3NzdCByMzNTYwYWJKByMwMDAwMDBSByNGRkZGRkZaC3RyYW5zcGFyZW50%26pageSize%3D21%26origin%3Dhttps://www.tafhem.com/%26usegapi%3D1%26jsh%3Dm;/_/scs/apps-static/_/js/k%253Doz.gapi.en_US.4sn9RO63fqo.O/am%253DAQ/d%253D1/rs%253DAGLTcCO5GqPeHrbNQGs79bP09BnjVkdwag/m%253D__features__%26bpli%3D1&amp;followup=https://www.blogger.com/followers.g?blogID%3D3756545811499060445%26colors%3DCgt0cmFuc3BhcmVudBILdHJhbnNwYXJlbnQaByM3Nzc3NzciByMzNTYwYWIqByMzNTYwYWIyByMwMDAwMDA6ByM3Nzc3NzdCByMzNTYwYWJKByMwMDAwMDBSByNGRkZGRkZaC3RyYW5zcGFyZW50%26pageSize%3D21%26origin%3Dhttps://www.tafhem.com/%26usegapi%3D1%26jsh%3Dm;/_/scs/apps-static/_/js/k%253Doz.gapi.en_US.4sn9RO63fqo.O/am%253DAQ/d%253D1/rs%253DAGLTcCO5GqPeHrbNQGs79bP09BnjVkdwag/m%253D__features__%26bpli%3D1&amp;passive=true&amp;go=true#id=I0_1628795960163&amp;_gfid=I0_1628795960163&amp;parent=https%3A%2F%2Fwww.tafhem.com&amp;pfname=&amp;rpctoken=94371770\n",
      "https://fonts.gstatic.com/s/opensans/v21/mem5YaGs126MiZpBA-UN_r8OUuhp.woff2\n",
      "https://accounts.google.com/_/kids/signup/eligible?hl=fr&amp;_reqid=64808&amp;rt=j\n",
      "https://fonts.gstatic.com/s/ruda/v10/k3kfo8YQJOpFqngdaA.woff2\n",
      "https://accounts.google.com/_/kids/signup/eligible?hl=fr&amp;_reqid=72185&amp;rt=j\n",
      "https://accounts.google.com/_/kids/signup/eligible?hl=fr&amp;_reqid=50218&amp;rt=j\n",
      "https://fonts.gstatic.com/s/montserrat/v16/JTURjIg1_i6t8kCHKm45_bZF3gnD_g.woff2\n",
      "https://accounts.google.com/signin/v2/_/common/diagnostics/?diagnostics=%5B%5B%5B%22gaia_fe_minutemaid%3Ass%22%2Cnull%2Cnull%2Cnull%2C1628526645048%5D%5D%5D&amp;rt=j\n",
      "https://accounts.google.com/ServiceLogin?continue=https://www.blogger.com/followers.g?blogID%3D6949068298798094008%26colors%3DCgt0cmFuc3BhcmVudBILdHJhbnNwYXJlbnQaByMwMDAwMDAiByMwMDAwMDAqByNGRkZGRkYyByMwMDAwMDA6ByMwMDAwMDBCByMwMDAwMDBKByMwMDAwMDBSByNGRkZGRkZaC3RyYW5zcGFyZW50%26pageSize%3D21%26origin%3Dhttps://aneukrantau30.blogspot.com/%26usegapi%3D1%26jsh%3Dm;/_/scs/apps-static/_/js/k%253Doz.gapi.en_US.4sn9RO63fqo.O/am%253DAQ/d%253D1/rs%253DAGLTcCO5GqPeHrbNQGs79bP09BnjVkdwag/m%253D__features__%26bpli%3D1&amp;followup=https://www.blogger.com/followers.g?blogID%3D6949068298798094008%26colors%3DCgt0cmFuc3BhcmVudBILdHJhbnNwYXJlbnQaByMwMDAwMDAiByMwMDAwMDAqByNGRkZGRkYyByMwMDAwMDA6ByMwMDAwMDBCByMwMDAwMDBKByMwMDAwMDBSByNGRkZGRkZaC3RyYW5zcGFyZW50%26pageSize%3D21%26origin%3Dhttps://aneukrantau30.blogspot.com/%26usegapi%3D1%26jsh%3Dm;/_/scs/apps-static/_/js/k%253Doz.gapi.en_US.4sn9RO63fqo.O/am%253DAQ/d%253D1/rs%253DAGLTcCO5GqPeHrbNQGs79bP09BnjVkdwag/m%253D__features__%26bpli%3D1&amp;passive=true&amp;go=true#id=I0_1628177113171&amp;_gfid=I0_1628177113171&amp;parent=https%3A%2F%2Faneukrantau30.blogspot.com&amp;pfname=&amp;rpctoken=41495819\n",
      "https://fonts.googleapis.com/css?family=Open+Sans:300,400|Roboto:300,400,500&amp;text=\n",
      "https://accounts.google.com/o/oauth2/auth/_/common/diagnostics/?diagnostics=%5B%5B%5B%22gaia_fe_minutemaid%3Ass%22%2Cnull%2Cnull%2Cnull%2C1628726457848%5D%5D%5D&amp;rt=j\n",
      "https://www.gstatic.com/devrel-devsite/prod/v0089c83aa8227c3439bf2708c0795dd13db533711d44eb626e640152d9fdf05e/js/devsite_devsite_header_module.js\n",
      "https://accounts.google.com/_/kids/signup/eligible?hl=fr&amp;_reqid=82767&amp;rt=j\n",
      "https://www.gstatic.com/mysidia/45b3f1138fdb396b5bc89d75545fd453.js?tag=analytics_pingback_2019\n",
      "https://www.gstatic.com/devrel-devsite/prod/v0089c83aa8227c3439bf2708c0795dd13db533711d44eb626e640152d9fdf05e/js/analytics_library.js\n",
      "https://fonts.gstatic.com/s/montserrat/v17/JTURjIg1_i6t8kCHKm45_dJE3gnD_g.woff2\n",
      "https://accounts.google.com/ServiceLogin?continue=https://www.blogger.com/followers.g?blogID%3D3756545811499060445%26colors%3DCgt0cmFuc3BhcmVudBILdHJhbnNwYXJlbnQaByM3Nzc3NzciByMzNTYwYWIqByMzNTYwYWIyByMwMDAwMDA6ByM3Nzc3NzdCByMzNTYwYWJKByMwMDAwMDBSByNGRkZGRkZaC3RyYW5zcGFyZW50%26pageSize%3D21%26origin%3Dhttps://www.tafhem.com/%26usegapi%3D1%26jsh%3Dm;/_/scs/apps-static/_/js/k%253Doz.gapi.en_US.4sn9RO63fqo.O/am%253DAQ/d%253D1/rs%253DAGLTcCO5GqPeHrbNQGs79bP09BnjVkdwag/m%253D__features__%26bpli%3D1&amp;followup=https://www.blogger.com/followers.g?blogID%3D3756545811499060445%26colors%3DCgt0cmFuc3BhcmVudBILdHJhbnNwYXJlbnQaByM3Nzc3NzciByMzNTYwYWIqByMzNTYwYWIyByMwMDAwMDA6ByM3Nzc3NzdCByMzNTYwYWJKByMwMDAwMDBSByNGRkZGRkZaC3RyYW5zcGFyZW50%26pageSize%3D21%26origin%3Dhttps://www.tafhem.com/%26usegapi%3D1%26jsh%3Dm;/_/scs/apps-static/_/js/k%253Doz.gapi.en_US.4sn9RO63fqo.O/am%253DAQ/d%253D1/rs%253DAGLTcCO5GqPeHrbNQGs79bP09BnjVkdwag/m%253D__features__%26bpli%3D1&amp;passive=true&amp;go=true#id=I0_1628291587732&amp;_gfid=I0_1628291587732&amp;parent=https%3A%2F%2Fwww.tafhem.com&amp;pfname=&amp;rpctoken=24758296\n",
      "https://lh3.googleusercontent.com/a-/AOh14GjofD8UdyzDGTVD0EtU26EgFw6hNZUWBnnSFOt-=s96-p\n",
      "https://apis.google.com/_/scs/abc-static/_/js/k=gapi.gapi.en.2cdKFnNWjuc.O/m=gapi_iframes,googleapis_client/rt=j/sv=1/d=1/ed=1/rs=AHpOoo-rZMnae0kdWLu9CWmKEzOTJj_h7w/cb=gapi.loaded_0\n",
      "https://fonts.googleapis.com/css?family=Hind:400,700|Montserrat:400,700&amp;display=swap\n",
      "https://accounts.google.com/_/kids/signup/eligible?hl=fr&amp;_reqid=19&amp;rt=j\n",
      "https://lh3.googleusercontent.com/_Bx7xU8G6wduqMxvMAY-H5782-QdlnxHjEjv1IBrat-hwk3ce8wN0ezP7EOWNN3xE2QgNAj2qfIy=w200-h69-no\n",
      "https://fonts.googleapis.com/css?family=Montserrat%3A400%2C300%2C500%2C600%2C700%7CMuli%3A400%2C300%2C500%2C600%2C700%7COpen+Sans%3A300italic%2C400%2C400italic%2C600%2C600italic%2C700%2C300%2C500%7CRoboto%3A300%2C400%2C400italic%2C500%2C500italic%2C700%2C900%2C600&amp;display=swap&amp;ver=10.2\n",
      "https://www.gstatic.com/images/icons/material/system/2x/settings_grey600_24dp.png\n",
      "https://fonts.googleapis.com/css?family=Roboto:300,400,500,700,400italic\n",
      "https://accounts.google.com/_/kids/signup/eligible?hl=fr&amp;_reqid=26122&amp;rt=j\n",
      "https://accounts.google.com/_/kids/signup/eligible?hl=fr&amp;_reqid=82828&amp;rt=j\n",
      "https://accounts.google.com/ServiceLogin?continue=https://www.blogger.com/followers.g?blogID%3D3512172885516050706%26colors%3DCgt0cmFuc3BhcmVudBILdHJhbnNwYXJlbnQaByMyMTIxMjEiByM2ODMxYzYqByNlY2VjZWMyByMwMDUxYzY6ByMyMTIxMjFCByM2ODMxYzZKByNjNjAwNTFSByM2ODMxYzZaC3RyYW5zcGFyZW50%26pageSize%3D21%26origin%3Dhttps://krdlogoped.blogspot.com/%26usegapi%3D1%26jsh%3Dm;/_/scs/apps-static/_/js/k%253Doz.gapi.en_US.4sn9RO63fqo.O/am%253DAQ/d%253D1/rs%253DAGLTcCO5GqPeHrbNQGs79bP09BnjVkdwag/m%253D__features__%26bpli%3D1&amp;followup=https://www.blogger.com/followers.g?blogID%3D3512172885516050706%26colors%3DCgt0cmFuc3BhcmVudBILdHJhbnNwYXJlbnQaByMyMTIxMjEiByM2ODMxYzYqByNlY2VjZWMyByMwMDUxYzY6ByMyMTIxMjFCByM2ODMxYzZKByNjNjAwNTFSByM2ODMxYzZaC3RyYW5zcGFyZW50%26pageSize%3D21%26origin%3Dhttps://krdlogoped.blogspot.com/%26usegapi%3D1%26jsh%3Dm;/_/scs/apps-static/_/js/k%253Doz.gapi.en_US.4sn9RO63fqo.O/am%253DAQ/d%253D1/rs%253DAGLTcCO5GqPeHrbNQGs79bP09BnjVkdwag/m%253D__features__%26bpli%3D1&amp;passive=true&amp;go=true#id=I0_1628070498301&amp;_gfid=I0_1628070498301&amp;parent=https%3A%2F%2Fkrdlogoped.blogspot.com&amp;pfname=&amp;rpctoken=30686410\n",
      "https://accounts.google.com/_/kids/signup/eligible?hl=fr&amp;_reqid=60993&amp;rt=j\n",
      "https://lh3.googleusercontent.com/proxy/qBsOfoPxHx9pJ1BT2YyKUZUq6piS502wm9o3CWSfKE69q_hOVOAf4aJxW2hzGxS4D2ftbO7yJELpPn_V4bzFVw7HATbvNAA=w720-h377-rj-pd-pc0x00e9e9e9\n",
      "https://fonts.gstatic.com/s/montserrat/v17/JTUQjIg1_i6t8kCHKm45_QpRyS7m.woff2\n",
      "https://fonts.gstatic.com/s/opensans/v21/memnYaGs126MiZpBA-UFUKWyV9hrIqM.woff2\n",
      "https://lh3.googleusercontent.com/a-/AOh14Gg2lA5vftqI93jg8OeboqIGJAjz5gTNFEUBAuryGQ=s96-p\n",
      "https://accounts.google.com/_/kids/signup/eligible?hl=fr&amp;_reqid=83742&amp;rt=j\n",
      "https://accounts.google.com/_/kids/signup/eligible?hl=fr&amp;_reqid=56132&amp;rt=j\n",
      "https://accounts.google.com/ServiceLogin?continue=https://www.blogger.com/followers.g?blogID%3D6949068298798094008%26colors%3DCgt0cmFuc3BhcmVudBILdHJhbnNwYXJlbnQaByMwMDAwMDAiByMwMDAwMDAqByNGRkZGRkYyByMwMDAwMDA6ByMwMDAwMDBCByMwMDAwMDBKByMwMDAwMDBSByNGRkZGRkZaC3RyYW5zcGFyZW50%26pageSize%3D21%26origin%3Dhttps://aneukrantau30.blogspot.com/%26usegapi%3D1%26jsh%3Dm;/_/scs/apps-static/_/js/k%253Doz.gapi.en_US.4sn9RO63fqo.O/am%253DAQ/d%253D1/rs%253DAGLTcCO5GqPeHrbNQGs79bP09BnjVkdwag/m%253D__features__%26bpli%3D1&amp;followup=https://www.blogger.com/followers.g?blogID%3D6949068298798094008%26colors%3DCgt0cmFuc3BhcmVudBILdHJhbnNwYXJlbnQaByMwMDAwMDAiByMwMDAwMDAqByNGRkZGRkYyByMwMDAwMDA6ByMwMDAwMDBCByMwMDAwMDBKByMwMDAwMDBSByNGRkZGRkZaC3RyYW5zcGFyZW50%26pageSize%3D21%26origin%3Dhttps://aneukrantau30.blogspot.com/%26usegapi%3D1%26jsh%3Dm;/_/scs/apps-static/_/js/k%253Doz.gapi.en_US.4sn9RO63fqo.O/am%253DAQ/d%253D1/rs%253DAGLTcCO5GqPeHrbNQGs79bP09BnjVkdwag/m%253D__features__%26bpli%3D1&amp;passive=true&amp;go=true#id=I0_1628261298838&amp;_gfid=I0_1628261298838&amp;parent=https%3A%2F%2Faneukrantau30.blogspot.com&amp;pfname=&amp;rpctoken=12512360\n",
      "https://fonts.gstatic.com/s/oswald/v39/TK3_WkUHHAIjg75cFRf3bXL8LICs1_FvsUtiZTaR.woff2\n",
      "https://accounts.google.com/ServiceLogin?continue=https://www.blogger.com/followers.g?blogID%3D1719811995182941521%26colors%3DCgt0cmFuc3BhcmVudBILdHJhbnNwYXJlbnQaByMyMjIyMjIiByM5OTMzMDAqByNmZmY5ZWUyByMwMDAwMDA6ByMyMjIyMjJCByM5OTMzMDBKByM5OTk5OTlSByM5OTMzMDBaC3RyYW5zcGFyZW50%26pageSize%3D21%26origin%3Dhttps://makalebilgi.blogspot.com/%26usegapi%3D1%26jsh%3Dm;/_/scs/apps-static/_/js/k%253Doz.gapi.en_US.4sn9RO63fqo.O/am%253DAQ/d%253D1/rs%253DAGLTcCO5GqPeHrbNQGs79bP09BnjVkdwag/m%253D__features__%26bpli%3D1&amp;followup=https://www.blogger.com/followers.g?blogID%3D1719811995182941521%26colors%3DCgt0cmFuc3BhcmVudBILdHJhbnNwYXJlbnQaByMyMjIyMjIiByM5OTMzMDAqByNmZmY5ZWUyByMwMDAwMDA6ByMyMjIyMjJCByM5OTMzMDBKByM5OTk5OTlSByM5OTMzMDBaC3RyYW5zcGFyZW50%26pageSize%3D21%26origin%3Dhttps://makalebilgi.blogspot.com/%26usegapi%3D1%26jsh%3Dm;/_/scs/apps-static/_/js/k%253Doz.gapi.en_US.4sn9RO63fqo.O/am%253DAQ/d%253D1/rs%253DAGLTcCO5GqPeHrbNQGs79bP09BnjVkdwag/m%253D__features__%26bpli%3D1&amp;passive=true&amp;go=true#id=I0_1628258868553&amp;_gfid=I0_1628258868553&amp;parent=https%3A%2F%2Fmakalebilgi.blogspot.com&amp;pfname=&amp;rpctoken=71708920\n",
      "https://lh3.googleusercontent.com/a-/AOh14GiaEpS2-YDGhc30gAVypwBLZKs1OoKMJwIL8dVE=s96-p\n",
      "https://fonts.googleapis.com/css?family=Roboto+Condensed:300italic,400italic,700italic,400,300,700|Roboto:300,400,400i,500,700&amp;subset=latin,latin-ext\n",
      "https://fonts.gstatic.com/s/firasanscondensed/v5/wEOhEADFm8hSaQTFG18FErVhsC9x-tarUfbtrQ.woff2\n",
      "https://accounts.google.com/ServiceLogin?continue=https://www.blogger.com/followers.g?blogID%3D3756545811499060445%26colors%3DCgt0cmFuc3BhcmVudBILdHJhbnNwYXJlbnQaByM3Nzc3NzciByMzNTYwYWIqByMzNTYwYWIyByMwMDAwMDA6ByM3Nzc3NzdCByMzNTYwYWJKByMwMDAwMDBSByNGRkZGRkZaC3RyYW5zcGFyZW50%26pageSize%3D21%26origin%3Dhttps://www.tafhem.com/%26usegapi%3D1%26jsh%3Dm;/_/scs/apps-static/_/js/k%253Doz.gapi.en_US.4sn9RO63fqo.O/am%253DAQ/d%253D1/rs%253DAGLTcCO5GqPeHrbNQGs79bP09BnjVkdwag/m%253D__features__%26bpli%3D1&amp;followup=https://www.blogger.com/followers.g?blogID%3D3756545811499060445%26colors%3DCgt0cmFuc3BhcmVudBILdHJhbnNwYXJlbnQaByM3Nzc3NzciByMzNTYwYWIqByMzNTYwYWIyByMwMDAwMDA6ByM3Nzc3NzdCByMzNTYwYWJKByMwMDAwMDBSByNGRkZGRkZaC3RyYW5zcGFyZW50%26pageSize%3D21%26origin%3Dhttps://www.tafhem.com/%26usegapi%3D1%26jsh%3Dm;/_/scs/apps-static/_/js/k%253Doz.gapi.en_US.4sn9RO63fqo.O/am%253DAQ/d%253D1/rs%253DAGLTcCO5GqPeHrbNQGs79bP09BnjVkdwag/m%253D__features__%26bpli%3D1&amp;passive=true&amp;go=true#id=I0_1628208570294&amp;_gfid=I0_1628208570294&amp;parent=https%3A%2F%2Fwww.tafhem.com&amp;pfname=&amp;rpctoken=41798802\n",
      "https://accounts.google.com/ServiceLogin?continue=https://www.blogger.com/followers.g?blogID%3D1719811995182941521%26colors%3DCgt0cmFuc3BhcmVudBILdHJhbnNwYXJlbnQaByMyMjIyMjIiByM5OTMzMDAqByNmZmY5ZWUyByMwMDAwMDA6ByMyMjIyMjJCByM5OTMzMDBKByM5OTk5OTlSByM5OTMzMDBaC3RyYW5zcGFyZW50%26pageSize%3D21%26origin%3Dhttps://makalebilgi.blogspot.com/%26usegapi%3D1%26jsh%3Dm;/_/scs/apps-static/_/js/k%253Doz.gapi.en_US.4sn9RO63fqo.O/am%253DAQ/d%253D1/rs%253DAGLTcCO5GqPeHrbNQGs79bP09BnjVkdwag/m%253D__features__%26bpli%3D1&amp;followup=https://www.blogger.com/followers.g?blogID%3D1719811995182941521%26colors%3DCgt0cmFuc3BhcmVudBILdHJhbnNwYXJlbnQaByMyMjIyMjIiByM5OTMzMDAqByNmZmY5ZWUyByMwMDAwMDA6ByMyMjIyMjJCByM5OTMzMDBKByM5OTk5OTlSByM5OTMzMDBaC3RyYW5zcGFyZW50%26pageSize%3D21%26origin%3Dhttps://makalebilgi.blogspot.com/%26usegapi%3D1%26jsh%3Dm;/_/scs/apps-static/_/js/k%253Doz.gapi.en_US.4sn9RO63fqo.O/am%253DAQ/d%253D1/rs%253DAGLTcCO5GqPeHrbNQGs79bP09BnjVkdwag/m%253D__features__%26bpli%3D1&amp;passive=true&amp;go=true#id=I0_1628726299960&amp;_gfid=I0_1628726299960&amp;parent=https%3A%2F%2Fmakalebilgi.blogspot.com&amp;pfname=&amp;rpctoken=33932566\n",
      "https://fonts.gstatic.com/s/lato/v18/S6u9w4BMUTPHh6UVSwiPGQ.woff2\n",
      "https://www.gstatic.com/recaptcha/releases/tFhBvPrftr7Y91fo1S1ASkA6/recaptcha__en.js\n",
      "https://accounts.google.com/ServiceLogin?continue=https://www.blogger.com/followers.g?blogID%3D1719811995182941521%26colors%3DCgt0cmFuc3BhcmVudBILdHJhbnNwYXJlbnQaByMyMjIyMjIiByM5OTMzMDAqByNmZmY5ZWUyByMwMDAwMDA6ByMyMjIyMjJCByM5OTMzMDBKByM5OTk5OTlSByM5OTMzMDBaC3RyYW5zcGFyZW50%26pageSize%3D21%26origin%3Dhttps://makalebilgi.blogspot.com/%26usegapi%3D1%26jsh%3Dm;/_/scs/apps-static/_/js/k%253Doz.gapi.en_US.4sn9RO63fqo.O/am%253DAQ/d%253D1/rs%253DAGLTcCO5GqPeHrbNQGs79bP09BnjVkdwag/m%253D__features__%26bpli%3D1&amp;followup=https://www.blogger.com/followers.g?blogID%3D1719811995182941521%26colors%3DCgt0cmFuc3BhcmVudBILdHJhbnNwYXJlbnQaByMyMjIyMjIiByM5OTMzMDAqByNmZmY5ZWUyByMwMDAwMDA6ByMyMjIyMjJCByM5OTMzMDBKByM5OTk5OTlSByM5OTMzMDBaC3RyYW5zcGFyZW50%26pageSize%3D21%26origin%3Dhttps://makalebilgi.blogspot.com/%26usegapi%3D1%26jsh%3Dm;/_/scs/apps-static/_/js/k%253Doz.gapi.en_US.4sn9RO63fqo.O/am%253DAQ/d%253D1/rs%253DAGLTcCO5GqPeHrbNQGs79bP09BnjVkdwag/m%253D__features__%26bpli%3D1&amp;passive=true&amp;go=true#id=I0_1628118907503&amp;_gfid=I0_1628118907503&amp;parent=https%3A%2F%2Fmakalebilgi.blogspot.com&amp;pfname=&amp;rpctoken=32742309\n",
      "https://accounts.google.com/signin/v2/_/common/diagnostics/?diagnostics=%5B%5B%5B%22gaia_fe_minutemaid%3Ass%22%2Cnull%2Cnull%2Cnull%2C1628177306851%5D%5D%5D&amp;rt=j\n",
      "https://accounts.google.com/ServiceLogin?continue=https://www.blogger.com/followers.g?blogID%3D1719811995182941521%26colors%3DCgt0cmFuc3BhcmVudBILdHJhbnNwYXJlbnQaByMyMjIyMjIiByM5OTMzMDAqByNmZmY5ZWUyByMwMDAwMDA6ByMyMjIyMjJCByM5OTMzMDBKByM5OTk5OTlSByM5OTMzMDBaC3RyYW5zcGFyZW50%26pageSize%3D21%26origin%3Dhttps://makalebilgi.blogspot.com/%26usegapi%3D1%26jsh%3Dm;/_/scs/apps-static/_/js/k%253Doz.gapi.en_US.4sn9RO63fqo.O/am%253DAQ/d%253D1/rs%253DAGLTcCO5GqPeHrbNQGs79bP09BnjVkdwag/m%253D__features__%26bpli%3D1&amp;followup=https://www.blogger.com/followers.g?blogID%3D1719811995182941521%26colors%3DCgt0cmFuc3BhcmVudBILdHJhbnNwYXJlbnQaByMyMjIyMjIiByM5OTMzMDAqByNmZmY5ZWUyByMwMDAwMDA6ByMyMjIyMjJCByM5OTMzMDBKByM5OTk5OTlSByM5OTMzMDBaC3RyYW5zcGFyZW50%26pageSize%3D21%26origin%3Dhttps://makalebilgi.blogspot.com/%26usegapi%3D1%26jsh%3Dm;/_/scs/apps-static/_/js/k%253Doz.gapi.en_US.4sn9RO63fqo.O/am%253DAQ/d%253D1/rs%253DAGLTcCO5GqPeHrbNQGs79bP09BnjVkdwag/m%253D__features__%26bpli%3D1&amp;passive=true&amp;go=true#id=I0_1628311384779&amp;_gfid=I0_1628311384779&amp;parent=https%3A%2F%2Fmakalebilgi.blogspot.com&amp;pfname=&amp;rpctoken=38394090\n",
      "https://fonts.gstatic.com/s/roboto/v27/KFOlCnqEu92Fr1MmEU9fBBc4.woff2\n",
      "https://fonts.googleapis.com/css?family=Fjalla+One%7COpen+Sans%3A400%2C700%2C400italic%2C700italic&amp;subset=latin%2Clatin-ext\n",
      "https://accounts.google.com/_/kids/signup/eligible?hl=fr&amp;_reqid=49903&amp;rt=j\n",
      "https://fonts.gstatic.com/s/roboto/v27/KFOlCnqEu92Fr1MmWUlfChc4EsA.woff2\n",
      "https://accounts.google.com/o/oauth2/auth/_/common/diagnostics/?diagnostics=%5B%5B%5B%22gaia_fe_minutemaid%3Ass%22%2Cnull%2Cnull%2Cnull%2C1628086186949%5D%5D%5D&amp;rt=j\n",
      "https://www.gstatic.com/og/_/js/k=og.qtm.en_US.fO5AlQ_QB0c.O/rt=j/m=qabr,q_d,qcwid,qapid,qald/exm=qaaw,qadd,qaid,qein,qhaw,qhbr,qhch,qhga,qhid,qhin,qhpr/d=1/ed=1/rs=AA2YrTtVpMMqlCUlJNqJrO3FitWk8XM5wg\n",
      "https://fonts.gstatic.com/s/opensans/v20/mem5YaGs126MiZpBA-UNirkOXOhpOqc.woff2\n",
      "https://fonts.gstatic.com/s/robotoslab/v13/BngbUXZYTXPIvIBgJJSb6s3BzlRRfKOFbvjojISmb2Rj.woff2\n",
      "https://lh3.googleusercontent.com/nNYNL6ym00lCmUJkkYPk9L9O_iexLRvrnDEIgdReuoXhU5mZ0nztRMN4_CmZ6uRNbNjGuHKrbHFb=w57-h98-no\n",
      "https://accounts.google.com/_/kids/signup/eligible?hl=fr&amp;_reqid=41042&amp;rt=j\n",
      "https://lh3.googleusercontent.com/p/AF1QipNQi8DI9M8plpV63m1Ac88Zcyai_qPX7gDKiELv=s1280-p-no-v1\n",
      "https://fonts.gstatic.com/s/opensans/v23/mem5YaGs126MiZpBA-UNirkOUuhp.woff2\n",
      "https://fonts.gstatic.com/s/oswald/v40/TK3_WkUHHAIjg75cFRf3bXL8LICs1_FvsUhiZTaR.woff2\n",
      "https://www.gstatic.com/recaptcha/api2/logo_48.png\n",
      "https://accounts.google.com/_/kids/signup/eligible?hl=fr&amp;_reqid=81130&amp;rt=j\n",
      "https://www.gstatic.com/brandstudio/kato/cookie_choice_component/config.json\n",
      "https://fonts.gstatic.com/s/roboto/v27/KFOlCnqEu92Fr1MmYUtfBBc4.woff2\n",
      "https://fonts.googleapis.com/css?family=Montserrat%3Aregular%2C700%26subset%3Dlatin%2C&amp;ver=1.1.7\n",
      "https://fonts.googleapis.com/css?family=Libre+Baskerville:700|Open+Sans:400\n",
      "https://fonts.gstatic.com/s/lato/v17/S6u9w4BMUTPHh6UVSwiPGQ.woff2\n",
      "https://accounts.google.com/_/kids/signup/eligible?hl=fr&amp;_reqid=35506&amp;rt=j\n",
      "https://accounts.google.com/_/kids/signup/eligible?hl=fr&amp;_reqid=41715&amp;rt=j\n",
      "https://accounts.google.com/ServiceLogin?continue=https://www.blogger.com/followers.g?blogID%3D6949068298798094008%26colors%3DCgt0cmFuc3BhcmVudBILdHJhbnNwYXJlbnQaByMwMDAwMDAiByMwMDAwMDAqByNGRkZGRkYyByMwMDAwMDA6ByMwMDAwMDBCByMwMDAwMDBKByMwMDAwMDBSByNGRkZGRkZaC3RyYW5zcGFyZW50%26pageSize%3D21%26origin%3Dhttps://aneukrantau30.blogspot.com/%26usegapi%3D1%26jsh%3Dm;/_/scs/apps-static/_/js/k%253Doz.gapi.en_US.4sn9RO63fqo.O/am%253DAQ/d%253D1/rs%253DAGLTcCO5GqPeHrbNQGs79bP09BnjVkdwag/m%253D__features__%26bpli%3D1&amp;followup=https://www.blogger.com/followers.g?blogID%3D6949068298798094008%26colors%3DCgt0cmFuc3BhcmVudBILdHJhbnNwYXJlbnQaByMwMDAwMDAiByMwMDAwMDAqByNGRkZGRkYyByMwMDAwMDA6ByMwMDAwMDBCByMwMDAwMDBKByMwMDAwMDBSByNGRkZGRkZaC3RyYW5zcGFyZW50%26pageSize%3D21%26origin%3Dhttps://aneukrantau30.blogspot.com/%26usegapi%3D1%26jsh%3Dm;/_/scs/apps-static/_/js/k%253Doz.gapi.en_US.4sn9RO63fqo.O/am%253DAQ/d%253D1/rs%253DAGLTcCO5GqPeHrbNQGs79bP09BnjVkdwag/m%253D__features__%26bpli%3D1&amp;passive=true&amp;go=true#id=I0_1628190142689&amp;_gfid=I0_1628190142689&amp;parent=https%3A%2F%2Faneukrantau30.blogspot.com&amp;pfname=&amp;rpctoken=20827585\n",
      "https://lh3.googleusercontent.com/dpB3ImMCEPEZPKKEwMbgWWqPUlSIAdLbMAKa7Mqfk9R-sxVJd9xr1IsHdn8bN7z4aB-cR758akRC=w179-h318-no\n",
      "https://fonts.gstatic.com/s/googlesans/v35/4UaGrENHsxJlGDuGo1OIlL3Owp4.woff2\n",
      "https://accounts.google.com/ServiceLogin?continue=https://www.blogger.com/followers.g?blogID%3D6949068298798094008%26colors%3DCgt0cmFuc3BhcmVudBILdHJhbnNwYXJlbnQaByMwMDAwMDAiByMwMDAwMDAqByNGRkZGRkYyByMwMDAwMDA6ByMwMDAwMDBCByMwMDAwMDBKByMwMDAwMDBSByNGRkZGRkZaC3RyYW5zcGFyZW50%26pageSize%3D21%26origin%3Dhttps://aneukrantau30.blogspot.com/%26usegapi%3D1%26jsh%3Dm;/_/scs/apps-static/_/js/k%253Doz.gapi.en_US.4sn9RO63fqo.O/am%253DAQ/d%253D1/rs%253DAGLTcCO5GqPeHrbNQGs79bP09BnjVkdwag/m%253D__features__%26bpli%3D1&amp;followup=https://www.blogger.com/followers.g?blogID%3D6949068298798094008%26colors%3DCgt0cmFuc3BhcmVudBILdHJhbnNwYXJlbnQaByMwMDAwMDAiByMwMDAwMDAqByNGRkZGRkYyByMwMDAwMDA6ByMwMDAwMDBCByMwMDAwMDBKByMwMDAwMDBSByNGRkZGRkZaC3RyYW5zcGFyZW50%26pageSize%3D21%26origin%3Dhttps://aneukrantau30.blogspot.com/%26usegapi%3D1%26jsh%3Dm;/_/scs/apps-static/_/js/k%253Doz.gapi.en_US.4sn9RO63fqo.O/am%253DAQ/d%253D1/rs%253DAGLTcCO5GqPeHrbNQGs79bP09BnjVkdwag/m%253D__features__%26bpli%3D1&amp;passive=true&amp;go=true#id=I0_1628032423892&amp;_gfid=I0_1628032423892&amp;parent=https%3A%2F%2Faneukrantau30.blogspot.com&amp;pfname=&amp;rpctoken=35281214\n",
      "https://fonts.gstatic.com/s/roboto/v27/KFOjCnqEu92Fr1Mu51S7ACc6CsQ.woff2\n",
      "https://accounts.google.com/o/oauth2/auth/_/common/diagnostics/?diagnostics=%5B%5B%5B%22gaia_fe_minutemaid%3Ass%22%2Cnull%2Cnull%2Cnull%2C1628010501771%5D%5D%5D&amp;rt=j\n",
      "https://accounts.google.com/ServiceLogin?continue=https://www.blogger.com/followers.g?blogID%3D3512172885516050706%26colors%3DCgt0cmFuc3BhcmVudBILdHJhbnNwYXJlbnQaByMyMTIxMjEiByM2ODMxYzYqByNlY2VjZWMyByMwMDUxYzY6ByMyMTIxMjFCByM2ODMxYzZKByNjNjAwNTFSByM2ODMxYzZaC3RyYW5zcGFyZW50%26pageSize%3D21%26origin%3Dhttps://krdlogoped.blogspot.com/%26usegapi%3D1%26jsh%3Dm;/_/scs/apps-static/_/js/k%253Doz.gapi.en_US.4sn9RO63fqo.O/am%253DAQ/d%253D1/rs%253DAGLTcCO5GqPeHrbNQGs79bP09BnjVkdwag/m%253D__features__%26bpli%3D1&amp;followup=https://www.blogger.com/followers.g?blogID%3D3512172885516050706%26colors%3DCgt0cmFuc3BhcmVudBILdHJhbnNwYXJlbnQaByMyMTIxMjEiByM2ODMxYzYqByNlY2VjZWMyByMwMDUxYzY6ByMyMTIxMjFCByM2ODMxYzZKByNjNjAwNTFSByM2ODMxYzZaC3RyYW5zcGFyZW50%26pageSize%3D21%26origin%3Dhttps://krdlogoped.blogspot.com/%26usegapi%3D1%26jsh%3Dm;/_/scs/apps-static/_/js/k%253Doz.gapi.en_US.4sn9RO63fqo.O/am%253DAQ/d%253D1/rs%253DAGLTcCO5GqPeHrbNQGs79bP09BnjVkdwag/m%253D__features__%26bpli%3D1&amp;passive=true&amp;go=true#id=I0_1628117795701&amp;_gfid=I0_1628117795701&amp;parent=https%3A%2F%2Fkrdlogoped.blogspot.com&amp;pfname=&amp;rpctoken=46751804\n",
      "https://fonts.gstatic.com/s/montserrat/v18/JTUQjIg1_i6t8kCHKm45_QpRyS7m.woff2\n",
      "https://accounts.google.com/ServiceLogin?continue=https://www.blogger.com/followers.g?blogID%3D3512172885516050706%26colors%3DCgt0cmFuc3BhcmVudBILdHJhbnNwYXJlbnQaByMyMTIxMjEiByM2ODMxYzYqByNlY2VjZWMyByMwMDUxYzY6ByMyMTIxMjFCByM2ODMxYzZKByNjNjAwNTFSByM2ODMxYzZaC3RyYW5zcGFyZW50%26pageSize%3D21%26origin%3Dhttps://krdlogoped.blogspot.com/%26usegapi%3D1%26jsh%3Dm;/_/scs/apps-static/_/js/k%253Doz.gapi.en_US.4sn9RO63fqo.O/am%253DAQ/d%253D1/rs%253DAGLTcCO5GqPeHrbNQGs79bP09BnjVkdwag/m%253D__features__%26bpli%3D1&amp;followup=https://www.blogger.com/followers.g?blogID%3D3512172885516050706%26colors%3DCgt0cmFuc3BhcmVudBILdHJhbnNwYXJlbnQaByMyMTIxMjEiByM2ODMxYzYqByNlY2VjZWMyByMwMDUxYzY6ByMyMTIxMjFCByM2ODMxYzZKByNjNjAwNTFSByM2ODMxYzZaC3RyYW5zcGFyZW50%26pageSize%3D21%26origin%3Dhttps://krdlogoped.blogspot.com/%26usegapi%3D1%26jsh%3Dm;/_/scs/apps-static/_/js/k%253Doz.gapi.en_US.4sn9RO63fqo.O/am%253DAQ/d%253D1/rs%253DAGLTcCO5GqPeHrbNQGs79bP09BnjVkdwag/m%253D__features__%26bpli%3D1&amp;passive=true&amp;go=true#id=I0_1628265089989&amp;_gfid=I0_1628265089989&amp;parent=https%3A%2F%2Fkrdlogoped.blogspot.com&amp;pfname=&amp;rpctoken=26364838\n",
      "https://lh3.googleusercontent.com/a-/AOh14GhWn--gKITbKiNyrfp88eUB1fxudswOcDOhv8ny=s96-p\n",
      "https://accounts.google.com/_/kids/signup/eligible?hl=fr&amp;_reqid=33019&amp;rt=j\n",
      "https://accounts.google.com/ServiceLogin?continue=https://www.blogger.com/followers.g?blogID%3D1719811995182941521%26colors%3DCgt0cmFuc3BhcmVudBILdHJhbnNwYXJlbnQaByMyMjIyMjIiByM5OTMzMDAqByNmZmY5ZWUyByMwMDAwMDA6ByMyMjIyMjJCByM5OTMzMDBKByM5OTk5OTlSByM5OTMzMDBaC3RyYW5zcGFyZW50%26pageSize%3D21%26origin%3Dhttps://makalebilgi.blogspot.com/%26usegapi%3D1%26jsh%3Dm;/_/scs/apps-static/_/js/k%253Doz.gapi.en_US.4sn9RO63fqo.O/am%253DAQ/d%253D1/rs%253DAGLTcCO5GqPeHrbNQGs79bP09BnjVkdwag/m%253D__features__%26bpli%3D1&amp;followup=https://www.blogger.com/followers.g?blogID%3D1719811995182941521%26colors%3DCgt0cmFuc3BhcmVudBILdHJhbnNwYXJlbnQaByMyMjIyMjIiByM5OTMzMDAqByNmZmY5ZWUyByMwMDAwMDA6ByMyMjIyMjJCByM5OTMzMDBKByM5OTk5OTlSByM5OTMzMDBaC3RyYW5zcGFyZW50%26pageSize%3D21%26origin%3Dhttps://makalebilgi.blogspot.com/%26usegapi%3D1%26jsh%3Dm;/_/scs/apps-static/_/js/k%253Doz.gapi.en_US.4sn9RO63fqo.O/am%253DAQ/d%253D1/rs%253DAGLTcCO5GqPeHrbNQGs79bP09BnjVkdwag/m%253D__features__%26bpli%3D1&amp;passive=true&amp;go=true#id=I0_1628812775371&amp;_gfid=I0_1628812775371&amp;parent=https%3A%2F%2Fmakalebilgi.blogspot.com&amp;pfname=&amp;rpctoken=26996639\n",
      "https://fonts.googleapis.com/css?family=Open+Sans:400,400italic,700,600\n",
      "https://fonts.gstatic.com/s/montserrat/v18/JTURjIg1_i6t8kCHKm45_ZpC3gnD_g.woff2\n",
      "https://accounts.google.com/ServiceLogin?continue=https://www.blogger.com/followers.g?blogID%3D6949068298798094008%26colors%3DCgt0cmFuc3BhcmVudBILdHJhbnNwYXJlbnQaByMwMDAwMDAiByMwMDAwMDAqByNGRkZGRkYyByMwMDAwMDA6ByMwMDAwMDBCByMwMDAwMDBKByMwMDAwMDBSByNGRkZGRkZaC3RyYW5zcGFyZW50%26pageSize%3D21%26origin%3Dhttps://aneukrantau30.blogspot.com/%26usegapi%3D1%26jsh%3Dm;/_/scs/apps-static/_/js/k%253Doz.gapi.en_US.4sn9RO63fqo.O/am%253DAQ/d%253D1/rs%253DAGLTcCO5GqPeHrbNQGs79bP09BnjVkdwag/m%253D__features__%26bpli%3D1&amp;followup=https://www.blogger.com/followers.g?blogID%3D6949068298798094008%26colors%3DCgt0cmFuc3BhcmVudBILdHJhbnNwYXJlbnQaByMwMDAwMDAiByMwMDAwMDAqByNGRkZGRkYyByMwMDAwMDA6ByMwMDAwMDBCByMwMDAwMDBKByMwMDAwMDBSByNGRkZGRkZaC3RyYW5zcGFyZW50%26pageSize%3D21%26origin%3Dhttps://aneukrantau30.blogspot.com/%26usegapi%3D1%26jsh%3Dm;/_/scs/apps-static/_/js/k%253Doz.gapi.en_US.4sn9RO63fqo.O/am%253DAQ/d%253D1/rs%253DAGLTcCO5GqPeHrbNQGs79bP09BnjVkdwag/m%253D__features__%26bpli%3D1&amp;passive=true&amp;go=true#id=I0_1627984185441&amp;_gfid=I0_1627984185441&amp;parent=https%3A%2F%2Faneukrantau30.blogspot.com&amp;pfname=&amp;rpctoken=16199339\n",
      "https://accounts.google.com/_/kids/signup/eligible?hl=fr&amp;_reqid=16023&amp;rt=j\n",
      "https://fonts.googleapis.com/css?family=Roboto+Condensed%3A400%2C400i%2C700%7CRoboto%3A400%2C400i%2C700&amp;subset=latin%2Clatin-ext&amp;display=swap\n",
      "https://www.gstatic.com/recaptcha/releases/RDRwZ7RcROX_wCxEJ01WeqEX/recaptcha__en.js\n",
      "https://accounts.google.com/ServiceLogin?continue=https://www.blogger.com/followers.g?blogID%3D6949068298798094008%26colors%3DCgt0cmFuc3BhcmVudBILdHJhbnNwYXJlbnQaByMwMDAwMDAiByMwMDAwMDAqByNGRkZGRkYyByMwMDAwMDA6ByMwMDAwMDBCByMwMDAwMDBKByMwMDAwMDBSByNGRkZGRkZaC3RyYW5zcGFyZW50%26pageSize%3D21%26origin%3Dhttps://aneukrantau30.blogspot.com/%26usegapi%3D1%26jsh%3Dm;/_/scs/apps-static/_/js/k%253Doz.gapi.en_US.4sn9RO63fqo.O/am%253DAQ/d%253D1/rs%253DAGLTcCO5GqPeHrbNQGs79bP09BnjVkdwag/m%253D__features__%26bpli%3D1&amp;followup=https://www.blogger.com/followers.g?blogID%3D6949068298798094008%26colors%3DCgt0cmFuc3BhcmVudBILdHJhbnNwYXJlbnQaByMwMDAwMDAiByMwMDAwMDAqByNGRkZGRkYyByMwMDAwMDA6ByMwMDAwMDBCByMwMDAwMDBKByMwMDAwMDBSByNGRkZGRkZaC3RyYW5zcGFyZW50%26pageSize%3D21%26origin%3Dhttps://aneukrantau30.blogspot.com/%26usegapi%3D1%26jsh%3Dm;/_/scs/apps-static/_/js/k%253Doz.gapi.en_US.4sn9RO63fqo.O/am%253DAQ/d%253D1/rs%253DAGLTcCO5GqPeHrbNQGs79bP09BnjVkdwag/m%253D__features__%26bpli%3D1&amp;passive=true&amp;go=true#id=I0_1628248837111&amp;_gfid=I0_1628248837111&amp;parent=https%3A%2F%2Faneukrantau30.blogspot.com&amp;pfname=&amp;rpctoken=19139675\n",
      "https://accounts.google.com/ServiceLogin?continue=https://www.blogger.com/followers.g?blogID%3D1719811995182941521%26colors%3DCgt0cmFuc3BhcmVudBILdHJhbnNwYXJlbnQaByMyMjIyMjIiByM5OTMzMDAqByNmZmY5ZWUyByMwMDAwMDA6ByMyMjIyMjJCByM5OTMzMDBKByM5OTk5OTlSByM5OTMzMDBaC3RyYW5zcGFyZW50%26pageSize%3D21%26origin%3Dhttps://makalebilgi.blogspot.com/%26usegapi%3D1%26jsh%3Dm;/_/scs/apps-static/_/js/k%253Doz.gapi.en_US.4sn9RO63fqo.O/am%253DAQ/d%253D1/rs%253DAGLTcCO5GqPeHrbNQGs79bP09BnjVkdwag/m%253D__features__%26bpli%3D1&amp;followup=https://www.blogger.com/followers.g?blogID%3D1719811995182941521%26colors%3DCgt0cmFuc3BhcmVudBILdHJhbnNwYXJlbnQaByMyMjIyMjIiByM5OTMzMDAqByNmZmY5ZWUyByMwMDAwMDA6ByMyMjIyMjJCByM5OTMzMDBKByM5OTk5OTlSByM5OTMzMDBaC3RyYW5zcGFyZW50%26pageSize%3D21%26origin%3Dhttps://makalebilgi.blogspot.com/%26usegapi%3D1%26jsh%3Dm;/_/scs/apps-static/_/js/k%253Doz.gapi.en_US.4sn9RO63fqo.O/am%253DAQ/d%253D1/rs%253DAGLTcCO5GqPeHrbNQGs79bP09BnjVkdwag/m%253D__features__%26bpli%3D1&amp;passive=true&amp;go=true#id=I0_1628721965009&amp;_gfid=I0_1628721965009&amp;parent=https%3A%2F%2Fmakalebilgi.blogspot.com&amp;pfname=&amp;rpctoken=26510032\n",
      "https://lh3.googleusercontent.com/a-/AOh14Gi2JBzpOOJMa8egWJJbYTQI_WerXLkt3i7x38vYmw=s96-p\n",
      "https://www.gstatic.com/devrel-devsite/prod/v0089c83aa8227c3439bf2708c0795dd13db533711d44eb626e640152d9fdf05e/js/devsite_devsite_content_module.js\n",
      "https://lh3.googleusercontent.com/a-/AOh14GjKEdeDub9eB29GGPKmrENkkDh88K_JkSZGMu0EZg=s96-p\n",
      "https://accounts.google.com/_/bscframe\n",
      "https://accounts.google.com/signin/v2/_/common/diagnostics/?diagnostics=%5B%5B%5B%22gaia_fe_minutemaid%3Ass%22%2Cnull%2Cnull%2Cnull%2C1628009533236%5D%5D%5D&amp;rt=j\n",
      "https://fonts.gstatic.com/s/opensans/v22/mem5YaGs126MiZpBA-UN7rgOXehpOqc.woff2\n",
      "https://fonts.googleapis.com/css?family=Open+Sans%3A300italic%2C400italic%2C600italic%2C300%2C400%2C600&amp;subset=latin%2Clatin-ext\n",
      "https://fonts.gstatic.com/s/cairo/v10/SLXLc1nY6Hkvalr-ao6L59Y.woff2\n"
     ]
    }
   ],
   "source": [
    "# Identify common resources\n",
    "common_resources = dict()\n",
    "\n",
    "for url in data:\n",
    "    for sample in data[url]:\n",
    "        for request in data[url][sample]:\n",
    "\n",
    "            domain, fullurl, _, _, _, _, body_h, body_w = request\n",
    "\n",
    "            if not domain in common_resources:\n",
    "                common_resources[domain] = 0\n",
    "            common_resources[domain] += body_h + body_w\n",
    "            \n",
    "tuples = list(common_resources.items())\n",
    "tuples.sort(key=lambda row: -row[1])\n",
    "\n",
    "for t in tuples[:50]:\n",
    "    pass\n",
    "    #print(t)\n",
    "\n",
    "URLS_DUMMIES = ['fonts.gstatic.com', 'fonts.googleapis.com', 'apis.google.com', 'lh3.googleusercontent.com', 'www.gstatic.com', 'accounts.google.com']\n",
    "\n",
    "\n",
    "DUMMIES = []\n",
    "for url in data:\n",
    "    for sample in data[url]:\n",
    "        filtered = [request for request in data[url][sample] if request[0] in URLS_DUMMIES]\n",
    "        if len(filtered) > 0:\n",
    "            DUMMIES.append(filtered)\n",
    "\n",
    "weigths = []\n",
    "for requests in DUMMIES:\n",
    "    for request in requests:\n",
    "        weigths.append(request[3]+request[4]+request[6]+request[7])\n",
    "            \n",
    "lengths = [len(requests) for requests in DUMMIES]\n",
    "print(np.mean(lengths))\n",
    "print(np.mean(weigths))\n",
    "\n",
    "queried_urls = []\n",
    "for d in DUMMIES:\n",
    "    for request in d:\n",
    "        queried_urls.append(request[1])\n",
    "queried_urls = list(set(queried_urls))\n",
    "for url in queried_urls:\n",
    "    print(url)"
   ]
  },
  {
   "cell_type": "code",
   "execution_count": 6,
   "metadata": {},
   "outputs": [
    {
     "name": "stdout",
     "output_type": "stream",
     "text": [
      "***************** Working dummies=0\n",
      "Dummies cost [0.0, 0.0, 0.0, 0.0]\n",
      "Skipping sahafah24.com only 19 samples\n",
      "Skipping 9quotes.com only 19 samples\n",
      "Skipping ragazzeconlavaligia.com , 19 empty samples\n",
      "Skipping bieporn.com only 17 samples\n",
      "Skipping faktabmr.com only 14 samples\n",
      "Skipping miglianicocalcio.net only 14 samples\n",
      "Skipping www.cscpro.org only 14 samples\n",
      "Skipping levitra100pudoff.com only 14 samples\n",
      "Skipping megagroup.ir only 13 samples\n",
      "Skipping educortex.in only 12 samples\n",
      "Skipping arthurmurray.com only 13 samples\n",
      "Skipping hitburada.com only 13 samples\n",
      "Skipping odlotw.blogspot.com only 13 samples\n",
      "Skipping funakoshikarateaustralia.com.au only 13 samples\n",
      "Skipping whoisdog.com only 13 samples\n",
      "Skipping ksgroupscans.com only 1 samples\n",
      "Skipping kk-vine.at only 13 samples\n",
      "Skipping myegypthost.com only 13 samples\n",
      "Skipping matchingimages.com only 13 samples\n",
      "Skipping onlinecasino002.com only 10 samples\n",
      "Skipping kayseriolaylari.com only 9 samples\n",
      "Skipping hpsconline.in only 1 samples\n",
      "[feature_extract] Number of classes 123\n",
      "[feature_extract] Number of features 123\n",
      "[feature_extract] Number of samples 4155\n",
      "[feature_extract] Number of labels 4155\n",
      "Number of classes 123\n",
      "Number of features 123\n",
      "Number of samples 4155\n",
      "Number of labels 4155\n",
      "Fold 0\n",
      "Fold 1\n",
      "Fold 2\n",
      "Fold 3\n",
      "Fold 4\n",
      "Fold 5\n",
      "Fold 6\n",
      "Fold 7\n",
      "Fold 8\n",
      "Fold 9\n",
      "{'score': {'accuracy': (0.954632972322503, 0.0049043763832285914), 'precision': (0.9602044545337229, 0.004750673733368737), 'recall': (0.9545596205962061, 0.004483817790886499), 'f1score': (0.9536047029634208, 0.004443612262274709)}, 'features': [('bytes_incoming', 0.1286724537003897, 0.0048736758807739955), ('bytes_total', 0.12361453776378575, 0.004185567413108952), ('bytes_%_in', 0.11560682358692147, 0.0032948833787672317), ('bytes_%_out', 0.11371015143285781, 0.0028744699327644123), ('bytes_outgoing', 0.11766529585801092, 0.0036514691982286636), ('hist_2006', 0.08493399547688363, 0.002968452569898735), ('n_total', 0.08133082271755895, 0.007075978736087128), ('n_outgoing', 0.0728994268798227, 0.024608812293569378), ('hist_1672', 0.05448349624077929, 0.03569054410717205), ('n_incoming', 0.07028734151153301, 0.02410544440731296), ('time_p25', 0.008074884548701351, 0.02422465364610405), ('time_outgoing_p25', 0.007321698092102839, 0.02196509427630852), ('hist_2341', 0.014158931996793692, 0.028344929345515697), ('time_incoming_p25', 0.007240140193858863, 0.02172042058157659)]}\n",
      "***************** Working dummies=1\n",
      "Dummies cost [100453.09655172414, 225532.22512967247, 5.949132055729843, 7.9392566260053234]\n",
      "Skipping sahafah24.com only 19 samples\n",
      "Skipping 9quotes.com only 19 samples\n",
      "Skipping bieporn.com only 17 samples\n",
      "Skipping faktabmr.com only 14 samples\n",
      "Skipping miglianicocalcio.net only 14 samples\n",
      "Skipping www.cscpro.org only 14 samples\n",
      "Skipping levitra100pudoff.com only 14 samples\n",
      "Skipping megagroup.ir only 13 samples\n",
      "Skipping educortex.in only 12 samples\n",
      "Skipping arthurmurray.com only 13 samples\n",
      "Skipping hitburada.com only 13 samples\n",
      "Skipping odlotw.blogspot.com only 13 samples\n",
      "Skipping funakoshikarateaustralia.com.au only 13 samples\n",
      "Skipping whoisdog.com only 13 samples\n",
      "Skipping ksgroupscans.com only 1 samples\n",
      "Skipping kk-vine.at only 13 samples\n",
      "Skipping myegypthost.com only 13 samples\n",
      "Skipping matchingimages.com only 13 samples\n",
      "Skipping onlinecasino002.com only 10 samples\n",
      "Skipping kayseriolaylari.com only 9 samples\n",
      "Skipping hpsconline.in only 1 samples\n",
      "[feature_extract] Number of classes 124\n",
      "[feature_extract] Number of features 123\n",
      "[feature_extract] Number of samples 4188\n",
      "[feature_extract] Number of labels 4188\n",
      "Number of classes 124\n",
      "Number of features 123\n",
      "Number of samples 4188\n",
      "Number of labels 4188\n",
      "Fold 0\n",
      "Fold 1\n",
      "Fold 2\n",
      "Fold 3\n",
      "Fold 4\n",
      "Fold 5\n",
      "Fold 6\n",
      "Fold 7\n",
      "Fold 8\n"
     ]
    },
    {
     "name": "stderr",
     "output_type": "stream",
     "text": [
      "/Users/ssiby/anaconda3/lib/python3.10/site-packages/sklearn/metrics/_classification.py:1344: UndefinedMetricWarning: Precision is ill-defined and being set to 0.0 in labels with no predicted samples. Use `zero_division` parameter to control this behavior.\n",
      "  _warn_prf(average, modifier, msg_start, len(result))\n"
     ]
    },
    {
     "name": "stdout",
     "output_type": "stream",
     "text": [
      "Fold 9\n",
      "{'score': {'accuracy': (0.7137231503579953, 0.02725078227129875), 'precision': (0.724139816276913, 0.024886841835062498), 'recall': (0.7132430875576037, 0.02747516319875589), 'f1score': (0.7063840860181243, 0.027223966780630864)}, 'features': [('bytes_outgoing', 0.06349863312253232, 0.0638877410238628), ('bytes_%_out', 0.11846615520583796, 0.004409284414403149), ('bytes_%_in', 0.11412300178494639, 0.0051773685093516805), ('bytes_incoming', 0.11491478565457283, 0.009563648804627381), ('bytes_total', 0.11567216630471769, 0.009306038677267944), ('time_incoming_p25', 0.07939250909068289, 0.026670921152477357), ('time_outgoing_p25', 0.092158519830954, 0.00344409997429387), ('time_p25', 0.09065965039812039, 0.005762992204774195), ('hist_3009', 0.06947043585407532, 0.03479466596760086), ('hist_3678', 0.020762408485377633, 0.0318065105361016), ('hist_1003', 0.061224311810463415, 0.020738840158623553), ('n_outgoing', 0.024852569587635615, 0.04994230220895586), ('hist_2341', 0.034804852870083544, 0.042681316292855265)]}\n",
      "***************** Working dummies=2\n",
      "Dummies cost [245487.90689655172, 443245.85565832007, 7.40528597681073, 15.74264121988807]\n",
      "Skipping sahafah24.com only 19 samples\n",
      "Skipping 9quotes.com only 19 samples\n",
      "Skipping bieporn.com only 17 samples\n",
      "Skipping faktabmr.com only 14 samples\n",
      "Skipping miglianicocalcio.net only 14 samples\n",
      "Skipping www.cscpro.org only 14 samples\n",
      "Skipping levitra100pudoff.com only 14 samples\n",
      "Skipping megagroup.ir only 13 samples\n",
      "Skipping educortex.in only 12 samples\n",
      "Skipping arthurmurray.com only 13 samples\n",
      "Skipping hitburada.com only 13 samples\n",
      "Skipping odlotw.blogspot.com only 13 samples\n",
      "Skipping funakoshikarateaustralia.com.au only 13 samples\n",
      "Skipping whoisdog.com only 13 samples\n",
      "Skipping ksgroupscans.com only 1 samples\n",
      "Skipping kk-vine.at only 13 samples\n",
      "Skipping myegypthost.com only 13 samples\n",
      "Skipping matchingimages.com only 13 samples\n",
      "Skipping onlinecasino002.com only 10 samples\n",
      "Skipping kayseriolaylari.com only 9 samples\n",
      "Skipping hpsconline.in only 1 samples\n",
      "[feature_extract] Number of classes 124\n",
      "[feature_extract] Number of features 123\n",
      "[feature_extract] Number of samples 4188\n",
      "[feature_extract] Number of labels 4188\n",
      "Number of classes 124\n",
      "Number of features 123\n",
      "Number of samples 4188\n",
      "Number of labels 4188\n",
      "Fold 0\n"
     ]
    },
    {
     "name": "stderr",
     "output_type": "stream",
     "text": [
      "/Users/ssiby/anaconda3/lib/python3.10/site-packages/sklearn/metrics/_classification.py:1344: UndefinedMetricWarning: Precision is ill-defined and being set to 0.0 in labels with no predicted samples. Use `zero_division` parameter to control this behavior.\n",
      "  _warn_prf(average, modifier, msg_start, len(result))\n"
     ]
    },
    {
     "name": "stdout",
     "output_type": "stream",
     "text": [
      "Fold 1\n",
      "Fold 2\n",
      "Fold 3\n",
      "Fold 4\n"
     ]
    },
    {
     "name": "stderr",
     "output_type": "stream",
     "text": [
      "/Users/ssiby/anaconda3/lib/python3.10/site-packages/sklearn/metrics/_classification.py:1344: UndefinedMetricWarning: Precision is ill-defined and being set to 0.0 in labels with no predicted samples. Use `zero_division` parameter to control this behavior.\n",
      "  _warn_prf(average, modifier, msg_start, len(result))\n"
     ]
    },
    {
     "name": "stdout",
     "output_type": "stream",
     "text": [
      "Fold 5\n",
      "Fold 6\n",
      "Fold 7\n",
      "Fold 8\n",
      "Fold 9\n",
      "{'score': {'accuracy': (0.5886634844868734, 0.042203809467843176), 'precision': (0.5953830622782236, 0.04646222166144611), 'recall': (0.5869489247311828, 0.04348524674577138), 'f1score': (0.576651657803785, 0.04524642548087364)}, 'features': [('bytes_outgoing', 0.048219445252880855, 0.05924512836131447), ('bytes_%_in', 0.11785293306736722, 0.00494791484114691), ('bytes_%_out', 0.11601263098469797, 0.004400072975534267), ('bytes_incoming', 0.10981420531771971, 0.009456238585778442), ('bytes_total', 0.1103646903560002, 0.009484135059291122), ('time_p25', 0.09444560166400588, 0.002890822213929171), ('time_outgoing_p25', 0.09784767522946872, 0.002511238936800189), ('time_incoming_p25', 0.09579891627431963, 0.0029165334533094705), ('hist_2675', 0.024347126209907966, 0.03719181719391756), ('hist_1003', 0.06732122579408353, 0.0031231772949042234), ('n_outgoing', 0.037694578833013574, 0.057710700205312555), ('hist_3009', 0.048552452865998415, 0.03970324151510273), ('hist_3678', 0.014503696553857432, 0.02900982759958069), ('hist_5684', 0.005657159883561492, 0.016971479650684476), ('n_total', 0.011567661713117456, 0.03470298513935236)]}\n",
      "***************** Working dummies=3\n",
      "Dummies cost [479305.0448275862, 687008.662508918, 8.764117125302587, 23.873443176729403]\n",
      "Skipping sahafah24.com only 19 samples\n",
      "Skipping 9quotes.com only 19 samples\n",
      "Skipping bieporn.com only 17 samples\n",
      "Skipping faktabmr.com only 14 samples\n",
      "Skipping miglianicocalcio.net only 14 samples\n",
      "Skipping www.cscpro.org only 14 samples\n",
      "Skipping levitra100pudoff.com only 14 samples\n",
      "Skipping megagroup.ir only 13 samples\n",
      "Skipping educortex.in only 12 samples\n",
      "Skipping arthurmurray.com only 13 samples\n",
      "Skipping hitburada.com only 13 samples\n",
      "Skipping odlotw.blogspot.com only 13 samples\n",
      "Skipping funakoshikarateaustralia.com.au only 13 samples\n",
      "Skipping whoisdog.com only 13 samples\n",
      "Skipping ksgroupscans.com only 1 samples\n",
      "Skipping kk-vine.at only 13 samples\n",
      "Skipping myegypthost.com only 13 samples\n",
      "Skipping matchingimages.com only 13 samples\n",
      "Skipping onlinecasino002.com only 10 samples\n",
      "Skipping kayseriolaylari.com only 9 samples\n",
      "Skipping hpsconline.in only 1 samples\n",
      "[feature_extract] Number of classes 124\n",
      "[feature_extract] Number of features 123\n",
      "[feature_extract] Number of samples 4188\n",
      "[feature_extract] Number of labels 4188\n",
      "Number of classes 124\n",
      "Number of features 123\n",
      "Number of samples 4188\n",
      "Number of labels 4188\n",
      "Fold 0\n",
      "Fold 1\n"
     ]
    },
    {
     "name": "stderr",
     "output_type": "stream",
     "text": [
      "/Users/ssiby/anaconda3/lib/python3.10/site-packages/sklearn/metrics/_classification.py:1344: UndefinedMetricWarning: Precision is ill-defined and being set to 0.0 in labels with no predicted samples. Use `zero_division` parameter to control this behavior.\n",
      "  _warn_prf(average, modifier, msg_start, len(result))\n"
     ]
    },
    {
     "name": "stdout",
     "output_type": "stream",
     "text": [
      "Fold 2\n"
     ]
    },
    {
     "name": "stderr",
     "output_type": "stream",
     "text": [
      "/Users/ssiby/anaconda3/lib/python3.10/site-packages/sklearn/metrics/_classification.py:1344: UndefinedMetricWarning: Precision is ill-defined and being set to 0.0 in labels with no predicted samples. Use `zero_division` parameter to control this behavior.\n",
      "  _warn_prf(average, modifier, msg_start, len(result))\n"
     ]
    },
    {
     "name": "stdout",
     "output_type": "stream",
     "text": [
      "Fold 3\n",
      "Fold 4\n",
      "Fold 5\n",
      "Fold 6\n",
      "Fold 7\n",
      "Fold 8\n",
      "Fold 9\n",
      "{'score': {'accuracy': (0.4899761336515513, 0.04854675755643388), 'precision': (0.4928696608446372, 0.05344228489152101), 'recall': (0.48794450844854087, 0.04960538743247324), 'f1score': (0.4762815845246783, 0.05000619051148848)}, 'features': [('n_outgoing', 0.0570872414008974, 0.05712197063079581), ('bytes_%_out', 0.11460641485802603, 0.0034410963140567327), ('bytes_%_in', 0.11474714426459146, 0.0027927729486939583), ('bytes_outgoing', 0.10588114020787957, 0.036079923557676676), ('time_outgoing_p25', 0.09833507047225758, 0.002132489657259287), ('bytes_total', 0.0836677648119348, 0.04264503359412319), ('bytes_incoming', 0.0936948490196299, 0.03227361115994947), ('time_p25', 0.09612463200168107, 0.002633345519798343), ('time_incoming_p25', 0.09632618406320062, 0.0015076253794704905), ('hist_1003', 0.06965199196238994, 0.004843077000146335), ('hist_2675', 0.008303099606648729, 0.024909298819946194), ('hist_3678', 0.01264251320743576, 0.025300805347995368), ('hist_2341', 0.009075801722197244, 0.02722740516659173), ('hist_6019', 0.005301485266374694, 0.015904455799124084), ('hist_3009', 0.02333681682804396, 0.03577253689970838), ('n_total', 0.011217850306811257, 0.033653550920433775)]}\n",
      "***************** Working dummies=4\n",
      "Dummies cost [679489.6586206896, 905034.2479406302, 9.680767379112723, 31.57363213181186]\n",
      "Skipping sahafah24.com only 19 samples\n",
      "Skipping 9quotes.com only 19 samples\n",
      "Skipping bieporn.com only 17 samples\n",
      "Skipping faktabmr.com only 14 samples\n",
      "Skipping miglianicocalcio.net only 14 samples\n",
      "Skipping www.cscpro.org only 14 samples\n",
      "Skipping levitra100pudoff.com only 14 samples\n",
      "Skipping megagroup.ir only 13 samples\n",
      "Skipping educortex.in only 12 samples\n",
      "Skipping arthurmurray.com only 13 samples\n",
      "Skipping hitburada.com only 13 samples\n",
      "Skipping odlotw.blogspot.com only 13 samples\n",
      "Skipping funakoshikarateaustralia.com.au only 13 samples\n",
      "Skipping whoisdog.com only 13 samples\n",
      "Skipping ksgroupscans.com only 1 samples\n",
      "Skipping kk-vine.at only 13 samples\n",
      "Skipping myegypthost.com only 13 samples\n",
      "Skipping matchingimages.com only 13 samples\n",
      "Skipping onlinecasino002.com only 10 samples\n",
      "Skipping kayseriolaylari.com only 9 samples\n",
      "Skipping hpsconline.in only 1 samples\n",
      "[feature_extract] Number of classes 124\n",
      "[feature_extract] Number of features 123\n",
      "[feature_extract] Number of samples 4188\n",
      "[feature_extract] Number of labels 4188\n",
      "Number of classes 124\n",
      "Number of features 123\n",
      "Number of samples 4188\n",
      "Number of labels 4188\n",
      "Fold 0\n",
      "Fold 1\n",
      "Fold 2\n",
      "Fold 3\n",
      "Fold 4\n",
      "Fold 5\n",
      "Fold 6\n",
      "Fold 7\n",
      "Fold 8\n",
      "Fold 9\n",
      "{'score': {'accuracy': (0.4863961813842482, 0.049957689105702884), 'precision': (0.4857506448327132, 0.054460547222721346), 'recall': (0.48567396313364053, 0.050309621370655346), 'f1score': (0.4729145130191118, 0.05254922604591348)}, 'features': [('n_incoming', 0.03795642207484777, 0.05807721236475779), ('bytes_%_out', 0.11418877233836155, 0.003683090298690156), ('bytes_%_in', 0.11378316240799843, 0.003445580852359222), ('bytes_incoming', 0.06450920030546581, 0.05317158710137909), ('time_outgoing_p25', 0.10256109337545911, 0.002851217135570311), ('time_p25', 0.1012104613006651, 0.0016751596524213243), ('bytes_total', 0.06301892232104563, 0.05181285823494534), ('time_incoming_p25', 0.09915077057453339, 0.0012054940895108413), ('hist_1003', 0.07177052166910092, 0.006851091243119016), ('hist_6019', 0.02132062896630137, 0.026171444980106883), ('bytes_outgoing', 0.08945079020196638, 0.059308518279742435), ('n_total', 0.011488920179845857, 0.034466760539537566), ('hist_2341', 0.02703626868519061, 0.041325640526108334), ('hist_3678', 0.03434904339804208, 0.03458789407684769), ('hist_2675', 0.0250951993534236, 0.03849308834523566), ('n_outgoing', 0.02310982284775238, 0.04622435751004233)]}\n",
      "***************** Working dummies=5\n",
      "Dummies cost [893941.8344827587, 1138354.1779138031, 10.704138388287964, 39.76177850915197]\n",
      "Skipping sahafah24.com only 19 samples\n",
      "Skipping 9quotes.com only 19 samples\n",
      "Skipping bieporn.com only 17 samples\n",
      "Skipping faktabmr.com only 14 samples\n",
      "Skipping miglianicocalcio.net only 14 samples\n",
      "Skipping www.cscpro.org only 14 samples\n",
      "Skipping levitra100pudoff.com only 14 samples\n",
      "Skipping megagroup.ir only 13 samples\n",
      "Skipping educortex.in only 12 samples\n",
      "Skipping arthurmurray.com only 13 samples\n",
      "Skipping hitburada.com only 13 samples\n",
      "Skipping odlotw.blogspot.com only 13 samples\n",
      "Skipping funakoshikarateaustralia.com.au only 13 samples\n",
      "Skipping whoisdog.com only 13 samples\n",
      "Skipping ksgroupscans.com only 1 samples\n",
      "Skipping kk-vine.at only 13 samples\n",
      "Skipping myegypthost.com only 13 samples\n",
      "Skipping matchingimages.com only 13 samples\n",
      "Skipping onlinecasino002.com only 10 samples\n",
      "Skipping kayseriolaylari.com only 9 samples\n",
      "Skipping hpsconline.in only 1 samples\n",
      "[feature_extract] Number of classes 124\n",
      "[feature_extract] Number of features 123\n",
      "[feature_extract] Number of samples 4188\n",
      "[feature_extract] Number of labels 4188\n",
      "Number of classes 124\n",
      "Number of features 123\n",
      "Number of samples 4188\n",
      "Number of labels 4188\n",
      "Fold 0\n",
      "Fold 1\n",
      "Fold 2\n",
      "Fold 3\n",
      "Fold 4\n",
      "Fold 5\n",
      "Fold 6\n",
      "Fold 7\n",
      "Fold 8\n",
      "Fold 9\n",
      "{'score': {'accuracy': (0.4233890214797135, 0.05130376789433766), 'precision': (0.41999141368330173, 0.053844061603492546), 'recall': (0.422101574500768, 0.053682841310237074), 'f1score': (0.40876758968896476, 0.054234187512464525)}, 'features': [('n_outgoing', 0.04706189185007862, 0.0579026138896402), ('bytes_incoming', 0.07652650043622555, 0.05085426590668513), ('bytes_%_in', 0.11163785169420166, 0.003038200636849414), ('bytes_%_out', 0.11223778221401459, 0.0029110499213524503), ('time_outgoing_p25', 0.10428996671070097, 0.0020778878034433666), ('time_incoming_p25', 0.09965496966865622, 0.0024841107191250138), ('time_p25', 0.09967659159196941, 0.001778049217369552), ('hist_3678', 0.03502572157969305, 0.0352074996023019), ('hist_1003', 0.06953235268040653, 0.007150169047031888), ('hist_6019', 0.004914499851603812, 0.014743499554811435), ('bytes_outgoing', 0.10157026245746317, 0.051558835249257355), ('hist_1337', 0.007905644936170322, 0.02371693480851097), ('bytes_total', 0.05475900190737876, 0.05528514077344698), ('hist_2341', 0.026007869652334696, 0.039744974468884725), ('hist_5684', 0.004589489306921878, 0.013768467920765633), ('hist_3009', 0.015887428238351434, 0.03177642102892175), ('n_total', 0.021237041963166964, 0.04252525574882507), ('hist_2675', 0.007485133260662344, 0.02245539978198703)]}\n",
      "***************** Working dummies=6\n",
      "Dummies cost [1077591.4931034483, 1373208.949134779, 11.442366808129796, 47.89418365779987]\n",
      "Skipping sahafah24.com only 19 samples\n",
      "Skipping 9quotes.com only 19 samples\n",
      "Skipping bieporn.com only 17 samples\n",
      "Skipping faktabmr.com only 14 samples\n",
      "Skipping miglianicocalcio.net only 14 samples\n",
      "Skipping www.cscpro.org only 14 samples\n",
      "Skipping levitra100pudoff.com only 14 samples\n",
      "Skipping megagroup.ir only 13 samples\n",
      "Skipping educortex.in only 12 samples\n",
      "Skipping arthurmurray.com only 13 samples\n",
      "Skipping hitburada.com only 13 samples\n",
      "Skipping odlotw.blogspot.com only 13 samples\n",
      "Skipping funakoshikarateaustralia.com.au only 13 samples\n",
      "Skipping whoisdog.com only 13 samples\n",
      "Skipping ksgroupscans.com only 1 samples\n",
      "Skipping kk-vine.at only 13 samples\n",
      "Skipping myegypthost.com only 13 samples\n",
      "Skipping matchingimages.com only 13 samples\n",
      "Skipping onlinecasino002.com only 10 samples\n",
      "Skipping kayseriolaylari.com only 9 samples\n",
      "Skipping hpsconline.in only 1 samples\n",
      "[feature_extract] Number of classes 124\n",
      "[feature_extract] Number of features 123\n",
      "[feature_extract] Number of samples 4188\n",
      "[feature_extract] Number of labels 4188\n",
      "Number of classes 124\n",
      "Number of features 123\n",
      "Number of samples 4188\n",
      "Number of labels 4188\n",
      "Fold 0\n",
      "Fold 1\n",
      "Fold 2\n"
     ]
    },
    {
     "name": "stderr",
     "output_type": "stream",
     "text": [
      "/Users/ssiby/anaconda3/lib/python3.10/site-packages/sklearn/metrics/_classification.py:1344: UndefinedMetricWarning: Precision is ill-defined and being set to 0.0 in labels with no predicted samples. Use `zero_division` parameter to control this behavior.\n",
      "  _warn_prf(average, modifier, msg_start, len(result))\n"
     ]
    },
    {
     "name": "stdout",
     "output_type": "stream",
     "text": [
      "Fold 3\n",
      "Fold 4\n",
      "Fold 5\n",
      "Fold 6\n",
      "Fold 7\n"
     ]
    },
    {
     "name": "stderr",
     "output_type": "stream",
     "text": [
      "/Users/ssiby/anaconda3/lib/python3.10/site-packages/sklearn/metrics/_classification.py:1344: UndefinedMetricWarning: Precision is ill-defined and being set to 0.0 in labels with no predicted samples. Use `zero_division` parameter to control this behavior.\n",
      "  _warn_prf(average, modifier, msg_start, len(result))\n"
     ]
    },
    {
     "name": "stdout",
     "output_type": "stream",
     "text": [
      "Fold 8\n"
     ]
    },
    {
     "name": "stderr",
     "output_type": "stream",
     "text": [
      "/Users/ssiby/anaconda3/lib/python3.10/site-packages/sklearn/metrics/_classification.py:1344: UndefinedMetricWarning: Precision is ill-defined and being set to 0.0 in labels with no predicted samples. Use `zero_division` parameter to control this behavior.\n",
      "  _warn_prf(average, modifier, msg_start, len(result))\n"
     ]
    },
    {
     "name": "stdout",
     "output_type": "stream",
     "text": [
      "Fold 9\n",
      "{'score': {'accuracy': (0.4230310262529833, 0.03800018107323349), 'precision': (0.42299037866518896, 0.040152051255900045), 'recall': (0.42111367127496163, 0.037991840068601915), 'f1score': (0.4097782148997878, 0.03872276111582827)}, 'features': [('delta_rate_1', 0.022609637445647986, 0.04522083814846644), ('bytes_%_out', 0.11649870802967102, 0.004214982646107127), ('bytes_%_in', 0.11781070676095022, 0.004496375749403216), ('bytes_incoming', 0.057896716445343464, 0.057960427109574886), ('bytes_total', 0.04563173268711862, 0.05596035119337023), ('time_outgoing_p25', 0.10412311331608066, 0.0033453033965040674), ('time_incoming_p25', 0.10069156011254703, 0.0024795394156923957), ('time_p25', 0.09859791669160631, 0.002908360577271895), ('hist_2341', 0.02542456529749938, 0.03887273587837084), ('hist_1003', 0.07015945731044258, 0.004629690810072951), ('hist_1337', 0.033716708486664436, 0.04141524637500957), ('hist_6019', 0.01581726196993015, 0.024168618552199317), ('bytes_outgoing', 0.09566818592819555, 0.06290695821048711), ('hist_2675', 0.023325231019842525, 0.03566027851704609), ('hist_5684', 0.016232831284927873, 0.024797334425732565), ('n_outgoing', 0.012535329568875824, 0.03760598870662748), ('hist_3678', 0.020317218102989983, 0.03119278716239264), ('delta_rates_20_3', 0.011098716218541593, 0.033296148655624774), ('delta_rates_20_sum', 0.011844403323124818, 0.03553320996937446)]}\n",
      "***************** Working dummies=7\n",
      "Dummies cost [1300190.196551724, 1588209.98238204, 12.243356169780292, 55.964198852268616]\n",
      "Skipping sahafah24.com only 19 samples\n",
      "Skipping 9quotes.com only 19 samples\n",
      "Skipping bieporn.com only 17 samples\n",
      "Skipping faktabmr.com only 14 samples\n",
      "Skipping miglianicocalcio.net only 14 samples\n",
      "Skipping www.cscpro.org only 14 samples\n",
      "Skipping levitra100pudoff.com only 14 samples\n",
      "Skipping megagroup.ir only 13 samples\n",
      "Skipping educortex.in only 12 samples\n",
      "Skipping arthurmurray.com only 13 samples\n",
      "Skipping hitburada.com only 13 samples\n",
      "Skipping odlotw.blogspot.com only 13 samples\n",
      "Skipping funakoshikarateaustralia.com.au only 13 samples\n",
      "Skipping whoisdog.com only 13 samples\n",
      "Skipping ksgroupscans.com only 1 samples\n",
      "Skipping kk-vine.at only 13 samples\n",
      "Skipping myegypthost.com only 13 samples\n",
      "Skipping matchingimages.com only 13 samples\n",
      "Skipping onlinecasino002.com only 10 samples\n",
      "Skipping kayseriolaylari.com only 9 samples\n",
      "Skipping hpsconline.in only 1 samples\n",
      "[feature_extract] Number of classes 124\n",
      "[feature_extract] Number of features 123\n",
      "[feature_extract] Number of samples 4188\n",
      "[feature_extract] Number of labels 4188\n",
      "Number of classes 124\n",
      "Number of features 123\n",
      "Number of samples 4188\n",
      "Number of labels 4188\n",
      "Fold 0\n",
      "Fold 1\n",
      "Fold 2\n",
      "Fold 3\n",
      "Fold 4\n",
      "Fold 5\n",
      "Fold 6\n"
     ]
    },
    {
     "name": "stderr",
     "output_type": "stream",
     "text": [
      "/Users/ssiby/anaconda3/lib/python3.10/site-packages/sklearn/metrics/_classification.py:1344: UndefinedMetricWarning: Precision is ill-defined and being set to 0.0 in labels with no predicted samples. Use `zero_division` parameter to control this behavior.\n",
      "  _warn_prf(average, modifier, msg_start, len(result))\n"
     ]
    },
    {
     "name": "stdout",
     "output_type": "stream",
     "text": [
      "Fold 7\n",
      "Fold 8\n",
      "Fold 9\n",
      "{'score': {'accuracy': (0.383054892601432, 0.04913512562719294), 'precision': (0.3796919526420238, 0.05580178121181832), 'recall': (0.3812557603686636, 0.05062035362721696), 'f1score': (0.3684688814832118, 0.0512854699652862)}, 'features': [('bytes_outgoing', 0.07697414133770035, 0.06293542903850523), ('bytes_%_out', 0.11523361926569634, 0.002994984927672844), ('bytes_%_in', 0.11493267181573778, 0.005280015646070626), ('time_outgoing_p25', 0.10576239783125436, 0.005452113482483216), ('bytes_incoming', 0.05272357913723934, 0.05296607136025326), ('time_incoming_p25', 0.10128120668524518, 0.0068796751689815675), ('time_p25', 0.08976374173797645, 0.030085867786438788), ('bytes_total', 0.06369637585182766, 0.05231160588373144), ('hist_1337', 0.05776921152548011, 0.037989147594209884), ('hist_1003', 0.06763460657626125, 0.004424243169510304), ('delta_rate_1', 0.011304416941920819, 0.03391325082576245), ('hist_2341', 0.035980609094909535, 0.04411802456901911), ('hist_5684', 0.00521068627336758, 0.01563205882010274), ('n_incoming', 0.013634205387901398, 0.04090261616370419), ('delta_rates_20_3', 0.021972214109150276, 0.04394605083533938), ('hist_3678', 0.01827965912000788, 0.02793723268115439), ('n_outgoing', 0.02630340593857496, 0.05269150523136422), ('hist_6019', 0.009871671627063863, 0.01974991952054815), ('n_total', 0.011671579742684858, 0.03501473922805458)]}\n",
      "***************** Working dummies=8\n",
      "Dummies cost [1482663.4103448277, 1783381.6251240205, 12.862223509191226, 63.73926405691872]\n",
      "Skipping sahafah24.com only 19 samples\n",
      "Skipping 9quotes.com only 19 samples\n",
      "Skipping bieporn.com only 17 samples\n",
      "Skipping faktabmr.com only 14 samples\n",
      "Skipping miglianicocalcio.net only 14 samples\n",
      "Skipping www.cscpro.org only 14 samples\n",
      "Skipping levitra100pudoff.com only 14 samples\n",
      "Skipping megagroup.ir only 13 samples\n",
      "Skipping educortex.in only 12 samples\n",
      "Skipping arthurmurray.com only 13 samples\n",
      "Skipping hitburada.com only 13 samples\n",
      "Skipping odlotw.blogspot.com only 13 samples\n",
      "Skipping funakoshikarateaustralia.com.au only 13 samples\n",
      "Skipping whoisdog.com only 13 samples\n",
      "Skipping ksgroupscans.com only 1 samples\n",
      "Skipping kk-vine.at only 13 samples\n",
      "Skipping myegypthost.com only 13 samples\n",
      "Skipping matchingimages.com only 13 samples\n",
      "Skipping onlinecasino002.com only 10 samples\n",
      "Skipping kayseriolaylari.com only 9 samples\n",
      "Skipping hpsconline.in only 1 samples\n",
      "[feature_extract] Number of classes 124\n",
      "[feature_extract] Number of features 123\n",
      "[feature_extract] Number of samples 4188\n",
      "[feature_extract] Number of labels 4188\n",
      "Number of classes 124\n",
      "Number of features 123\n",
      "Number of samples 4188\n",
      "Number of labels 4188\n",
      "Fold 0\n",
      "Fold 1\n",
      "Fold 2\n",
      "Fold 3\n",
      "Fold 4\n",
      "Fold 5\n",
      "Fold 6\n"
     ]
    },
    {
     "name": "stderr",
     "output_type": "stream",
     "text": [
      "/Users/ssiby/anaconda3/lib/python3.10/site-packages/sklearn/metrics/_classification.py:1344: UndefinedMetricWarning: Precision is ill-defined and being set to 0.0 in labels with no predicted samples. Use `zero_division` parameter to control this behavior.\n",
      "  _warn_prf(average, modifier, msg_start, len(result))\n"
     ]
    },
    {
     "name": "stdout",
     "output_type": "stream",
     "text": [
      "Fold 7\n",
      "Fold 8\n"
     ]
    },
    {
     "name": "stderr",
     "output_type": "stream",
     "text": [
      "/Users/ssiby/anaconda3/lib/python3.10/site-packages/sklearn/metrics/_classification.py:1344: UndefinedMetricWarning: Precision is ill-defined and being set to 0.0 in labels with no predicted samples. Use `zero_division` parameter to control this behavior.\n",
      "  _warn_prf(average, modifier, msg_start, len(result))\n"
     ]
    },
    {
     "name": "stdout",
     "output_type": "stream",
     "text": [
      "Fold 9\n",
      "{'score': {'accuracy': (0.37553699284009545, 0.05374977737434131), 'precision': (0.37256008585289896, 0.05764460243614976), 'recall': (0.37546082949308757, 0.05508875916790166), 'f1score': (0.36229251620233077, 0.05468217376658478)}, 'features': [('bytes_outgoing', 0.12042947178331671, 0.04082815328489463), ('bytes_%_in', 0.11395876432521286, 0.007156839438527468), ('bytes_%_out', 0.11430130943525103, 0.004878954380571655), ('time_outgoing_p25', 0.10589838375169869, 0.0034886514185450595), ('time_p25', 0.10040821324844222, 0.004572870903102864), ('time_incoming_p25', 0.08934533611482043, 0.0299271544520284), ('hist_1337', 0.04273006034665174, 0.0427346957883426), ('hist_1003', 0.06774382184027414, 0.005479556948198233), ('hist_3678', 0.04659795184129339, 0.030754587877294), ('hist_5684', 0.010779125849320528, 0.021558486381703285), ('delta_rate_1', 0.03523382776080151, 0.05383324857359735), ('hist_2341', 0.008584338719927968, 0.02575301615978391), ('bytes_total', 0.03267154938141325, 0.0500505602464613), ('bytes_incoming', 0.04477921998925921, 0.05513722847850815), ('delta_rate_avg', 0.011504121888675476, 0.034512365666026425), ('delta_rates_20_3', 0.023681365850027086, 0.04736329489208815), ('hist_6019', 0.00987387276181187, 0.019747837789138568), ('hist_2675', 0.0077010058375032555, 0.023103017512509767), ('n_outgoing', 0.013778259274298715, 0.04133477782289615)]}\n",
      "***************** Working dummies=9\n",
      "Dummies cost [1679851.7206896553, 1999933.9472132684, 13.400784285742128, 70.90947411086175]\n",
      "Skipping sahafah24.com only 19 samples\n",
      "Skipping 9quotes.com only 19 samples\n",
      "Skipping bieporn.com only 17 samples\n",
      "Skipping faktabmr.com only 14 samples\n",
      "Skipping miglianicocalcio.net only 14 samples\n",
      "Skipping www.cscpro.org only 14 samples\n",
      "Skipping levitra100pudoff.com only 14 samples\n",
      "Skipping megagroup.ir only 13 samples\n",
      "Skipping educortex.in only 12 samples\n",
      "Skipping arthurmurray.com only 13 samples\n",
      "Skipping hitburada.com only 13 samples\n",
      "Skipping odlotw.blogspot.com only 13 samples\n",
      "Skipping funakoshikarateaustralia.com.au only 13 samples\n",
      "Skipping whoisdog.com only 13 samples\n",
      "Skipping ksgroupscans.com only 1 samples\n",
      "Skipping kk-vine.at only 13 samples\n",
      "Skipping myegypthost.com only 13 samples\n",
      "Skipping matchingimages.com only 13 samples\n",
      "Skipping onlinecasino002.com only 10 samples\n",
      "Skipping kayseriolaylari.com only 9 samples\n",
      "Skipping hpsconline.in only 1 samples\n",
      "[feature_extract] Number of classes 124\n",
      "[feature_extract] Number of features 123\n",
      "[feature_extract] Number of samples 4188\n",
      "[feature_extract] Number of labels 4188\n",
      "Number of classes 124\n",
      "Number of features 123\n",
      "Number of samples 4188\n",
      "Number of labels 4188\n",
      "Fold 0\n",
      "Fold 1\n",
      "Fold 2\n",
      "Fold 3\n",
      "Fold 4\n",
      "Fold 5\n",
      "Fold 6\n",
      "Fold 7\n",
      "Fold 8\n"
     ]
    },
    {
     "name": "stderr",
     "output_type": "stream",
     "text": [
      "/Users/ssiby/anaconda3/lib/python3.10/site-packages/sklearn/metrics/_classification.py:1344: UndefinedMetricWarning: Precision is ill-defined and being set to 0.0 in labels with no predicted samples. Use `zero_division` parameter to control this behavior.\n",
      "  _warn_prf(average, modifier, msg_start, len(result))\n"
     ]
    },
    {
     "name": "stdout",
     "output_type": "stream",
     "text": [
      "Fold 9\n"
     ]
    },
    {
     "name": "stderr",
     "output_type": "stream",
     "text": [
      "/Users/ssiby/anaconda3/lib/python3.10/site-packages/sklearn/metrics/_classification.py:1344: UndefinedMetricWarning: Precision is ill-defined and being set to 0.0 in labels with no predicted samples. Use `zero_division` parameter to control this behavior.\n",
      "  _warn_prf(average, modifier, msg_start, len(result))\n"
     ]
    },
    {
     "name": "stdout",
     "output_type": "stream",
     "text": [
      "{'score': {'accuracy': (0.36372315035799524, 0.04024435363499766), 'precision': (0.3608041780984143, 0.046089061122347175), 'recall': (0.3631432411674347, 0.04190153477045149), 'f1score': (0.3506857958459545, 0.042644859613739546)}, 'features': [('bytes_total', 0.035180174459957365, 0.05376590451333607), ('bytes_%_out', 0.11431303215689086, 0.00432615314519076), ('bytes_%_in', 0.11493403550261612, 0.004886997851211116), ('bytes_incoming', 0.056802609290675175, 0.05680899555449612), ('time_outgoing_p25', 0.10689918407186634, 0.005331775394382546), ('time_p25', 0.09003685433596736, 0.030199086026592135), ('time_incoming_p25', 0.10145706155371881, 0.005997271525468503), ('hist_1003', 0.0693367216811116, 0.005179802686720568), ('hist_5684', 0.013393087279690274, 0.026790737437758953), ('hist_6019', 0.01917025453465813, 0.023512238767863267), ('bytes_outgoing', 0.1047112573053367, 0.05273659031172282), ('delta_rate_1', 0.05745446465868037, 0.057467275589945875), ('hist_2341', 0.01827174158739699, 0.0365454483191711), ('hist_3678', 0.030851247534780836, 0.030937877342845334), ('delta_rates_20_3', 0.023281630634274166, 0.04656336908935683), ('hist_1337', 0.01722392468295028, 0.03446149630396301), ('hist_2675', 0.015094340007052412, 0.030336024235833134), ('n_outgoing', 0.011588378722376166, 0.034765136167128494)]}\n",
      "***************** Working dummies=10\n",
      "Dummies cost [1934189.1344827586, 2276675.353015783, 13.962898651727937, 79.97778581754372]\n",
      "Skipping sahafah24.com only 19 samples\n",
      "Skipping 9quotes.com only 19 samples\n",
      "Skipping bieporn.com only 17 samples\n",
      "Skipping faktabmr.com only 14 samples\n",
      "Skipping miglianicocalcio.net only 14 samples\n",
      "Skipping www.cscpro.org only 14 samples\n",
      "Skipping levitra100pudoff.com only 14 samples\n",
      "Skipping megagroup.ir only 13 samples\n",
      "Skipping educortex.in only 12 samples\n",
      "Skipping arthurmurray.com only 13 samples\n",
      "Skipping hitburada.com only 13 samples\n",
      "Skipping odlotw.blogspot.com only 13 samples\n",
      "Skipping funakoshikarateaustralia.com.au only 13 samples\n",
      "Skipping whoisdog.com only 13 samples\n",
      "Skipping ksgroupscans.com only 1 samples\n",
      "Skipping kk-vine.at only 13 samples\n",
      "Skipping myegypthost.com only 13 samples\n",
      "Skipping matchingimages.com only 13 samples\n",
      "Skipping onlinecasino002.com only 10 samples\n",
      "Skipping kayseriolaylari.com only 9 samples\n",
      "Skipping hpsconline.in only 1 samples\n",
      "[feature_extract] Number of classes 124\n",
      "[feature_extract] Number of features 123\n",
      "[feature_extract] Number of samples 4188\n",
      "[feature_extract] Number of labels 4188\n",
      "Number of classes 124\n",
      "Number of features 123\n",
      "Number of samples 4188\n",
      "Number of labels 4188\n",
      "Fold 0\n",
      "Fold 1\n"
     ]
    },
    {
     "name": "stderr",
     "output_type": "stream",
     "text": [
      "/Users/ssiby/anaconda3/lib/python3.10/site-packages/sklearn/metrics/_classification.py:1344: UndefinedMetricWarning: Precision is ill-defined and being set to 0.0 in labels with no predicted samples. Use `zero_division` parameter to control this behavior.\n",
      "  _warn_prf(average, modifier, msg_start, len(result))\n"
     ]
    },
    {
     "name": "stdout",
     "output_type": "stream",
     "text": [
      "Fold 2\n",
      "Fold 3\n",
      "Fold 4\n",
      "Fold 5\n"
     ]
    },
    {
     "name": "stderr",
     "output_type": "stream",
     "text": [
      "/Users/ssiby/anaconda3/lib/python3.10/site-packages/sklearn/metrics/_classification.py:1344: UndefinedMetricWarning: Precision is ill-defined and being set to 0.0 in labels with no predicted samples. Use `zero_division` parameter to control this behavior.\n",
      "  _warn_prf(average, modifier, msg_start, len(result))\n"
     ]
    },
    {
     "name": "stdout",
     "output_type": "stream",
     "text": [
      "Fold 6\n"
     ]
    },
    {
     "name": "stderr",
     "output_type": "stream",
     "text": [
      "/Users/ssiby/anaconda3/lib/python3.10/site-packages/sklearn/metrics/_classification.py:1344: UndefinedMetricWarning: Precision is ill-defined and being set to 0.0 in labels with no predicted samples. Use `zero_division` parameter to control this behavior.\n",
      "  _warn_prf(average, modifier, msg_start, len(result))\n"
     ]
    },
    {
     "name": "stdout",
     "output_type": "stream",
     "text": [
      "Fold 7\n",
      "Fold 8\n",
      "Fold 9\n",
      "{'score': {'accuracy': (0.3505966587112172, 0.03914663208365188), 'precision': (0.3439158339288795, 0.040039067440593504), 'recall': (0.35096966205837177, 0.03924268949869683), 'f1score': (0.33753318105270186, 0.03902319991260793)}, 'features': [('bytes_outgoing', 0.09399787037443603, 0.06184256047518858), ('bytes_%_out', 0.11815758167889139, 0.003426136926444989), ('bytes_%_in', 0.11728574722265017, 0.0038470832021627456), ('delta_rate_1', 0.022780023075984153, 0.045576131043596445), ('time_outgoing_p25', 0.10747048141502533, 0.003241785576772198), ('time_p25', 0.10273857752114919, 0.003639231555583073), ('time_incoming_p25', 0.10467674238392377, 0.005429758754334229), ('hist_2341', 0.03564432245793438, 0.04375425961826737), ('hist_1337', 0.07855609614776111, 0.02634094027241399), ('hist_1003', 0.06851473468815845, 0.00719613134642388), ('n_outgoing', 0.011472021514205896, 0.03441606454261768), ('delta_rate_avg', 0.0134414186887937, 0.0403242560663811), ('hist_3678', 0.04080584573328978, 0.03363706091831319), ('hist_6019', 0.019012465204969915, 0.023360686825781643), ('n_total', 0.013905698453191031, 0.04171709535957309), ('bytes_incoming', 0.034682111650724025, 0.05298528018955023), ('hist_5684', 0.0049530386481059525, 0.014859115944317856), ('delta_rates_20_3', 0.011905223140805703, 0.03571566942241711)]}\n",
      "***************** Working dummies=11\n",
      "Dummies cost [2152832.3034482757, 2520064.0006627687, 14.640044721997182, 87.63354121444027]\n",
      "Skipping sahafah24.com only 19 samples\n",
      "Skipping 9quotes.com only 19 samples\n",
      "Skipping bieporn.com only 17 samples\n",
      "Skipping faktabmr.com only 14 samples\n",
      "Skipping miglianicocalcio.net only 14 samples\n",
      "Skipping www.cscpro.org only 14 samples\n",
      "Skipping levitra100pudoff.com only 14 samples\n",
      "Skipping megagroup.ir only 13 samples\n",
      "Skipping educortex.in only 12 samples\n",
      "Skipping arthurmurray.com only 13 samples\n",
      "Skipping hitburada.com only 13 samples\n",
      "Skipping odlotw.blogspot.com only 13 samples\n",
      "Skipping funakoshikarateaustralia.com.au only 13 samples\n",
      "Skipping whoisdog.com only 13 samples\n",
      "Skipping ksgroupscans.com only 1 samples\n",
      "Skipping kk-vine.at only 13 samples\n",
      "Skipping myegypthost.com only 13 samples\n",
      "Skipping matchingimages.com only 13 samples\n",
      "Skipping onlinecasino002.com only 10 samples\n",
      "Skipping kayseriolaylari.com only 9 samples\n",
      "Skipping hpsconline.in only 1 samples\n",
      "[feature_extract] Number of classes 124\n",
      "[feature_extract] Number of features 123\n",
      "[feature_extract] Number of samples 4188\n",
      "[feature_extract] Number of labels 4188\n",
      "Number of classes 124\n",
      "Number of features 123\n",
      "Number of samples 4188\n",
      "Number of labels 4188\n",
      "Fold 0\n"
     ]
    },
    {
     "name": "stderr",
     "output_type": "stream",
     "text": [
      "/Users/ssiby/anaconda3/lib/python3.10/site-packages/sklearn/metrics/_classification.py:1344: UndefinedMetricWarning: Precision is ill-defined and being set to 0.0 in labels with no predicted samples. Use `zero_division` parameter to control this behavior.\n",
      "  _warn_prf(average, modifier, msg_start, len(result))\n"
     ]
    },
    {
     "name": "stdout",
     "output_type": "stream",
     "text": [
      "Fold 1\n",
      "Fold 2\n"
     ]
    },
    {
     "name": "stderr",
     "output_type": "stream",
     "text": [
      "/Users/ssiby/anaconda3/lib/python3.10/site-packages/sklearn/metrics/_classification.py:1344: UndefinedMetricWarning: Precision is ill-defined and being set to 0.0 in labels with no predicted samples. Use `zero_division` parameter to control this behavior.\n",
      "  _warn_prf(average, modifier, msg_start, len(result))\n"
     ]
    },
    {
     "name": "stdout",
     "output_type": "stream",
     "text": [
      "Fold 3\n",
      "Fold 4\n"
     ]
    },
    {
     "name": "stderr",
     "output_type": "stream",
     "text": [
      "/Users/ssiby/anaconda3/lib/python3.10/site-packages/sklearn/metrics/_classification.py:1344: UndefinedMetricWarning: Precision is ill-defined and being set to 0.0 in labels with no predicted samples. Use `zero_division` parameter to control this behavior.\n",
      "  _warn_prf(average, modifier, msg_start, len(result))\n"
     ]
    },
    {
     "name": "stdout",
     "output_type": "stream",
     "text": [
      "Fold 5\n",
      "Fold 6\n",
      "Fold 7\n"
     ]
    },
    {
     "name": "stderr",
     "output_type": "stream",
     "text": [
      "/Users/ssiby/anaconda3/lib/python3.10/site-packages/sklearn/metrics/_classification.py:1344: UndefinedMetricWarning: Precision is ill-defined and being set to 0.0 in labels with no predicted samples. Use `zero_division` parameter to control this behavior.\n",
      "  _warn_prf(average, modifier, msg_start, len(result))\n"
     ]
    },
    {
     "name": "stdout",
     "output_type": "stream",
     "text": [
      "Fold 8\n",
      "Fold 9\n",
      "{'score': {'accuracy': (0.33472553699284013, 0.040320180893170486), 'precision': (0.32736901539320895, 0.045178457764511196), 'recall': (0.3337346390168971, 0.040037802529964465), 'f1score': (0.3212433334278935, 0.041063102281104796)}, 'features': [('bytes_outgoing', 0.13340966624269585, 0.007182366489455765), ('delta_rates_20_3', 0.023263787885570885, 0.04653043083005736), ('bytes_total', 0.03422472243378009, 0.05228266788337757), ('bytes_%_out', 0.11490322975089222, 0.005512936026766061), ('bytes_%_in', 0.11626991833631364, 0.006996471325828314), ('time_incoming_p25', 0.10149944004073981, 0.004537111343226992), ('time_outgoing_p25', 0.10534964360708414, 0.004737823286843809), ('time_p25', 0.10208412808665475, 0.004774239096117321), ('hist_1003', 0.07025903203444572, 0.006199433626327188), ('hist_6019', 0.020015465301379938, 0.024667177549260948), ('hist_2675', 0.008895190098034727, 0.026685570294104177), ('hist_3678', 0.03719849124052053, 0.03071141036881301), ('hist_2341', 0.026211967249079714, 0.040077795431725655), ('hist_1337', 0.025711477752265545, 0.039278485731765164), ('delta_rate_1', 0.02258224819932404, 0.0451796113159681), ('hist_5684', 0.011698820468403853, 0.023441076962613834), ('n_outgoing', 0.012240997302514807, 0.03672299190754442), ('bytes_incoming', 0.03418177397029982, 0.052226295069460374)]}\n",
      "***************** Working dummies=12\n",
      "Dummies cost [2412936.3620689656, 2791262.9553743773, 15.149122506746751, 95.67887604006738]\n",
      "Skipping sahafah24.com only 19 samples\n",
      "Skipping 9quotes.com only 19 samples\n",
      "Skipping bieporn.com only 17 samples\n",
      "Skipping faktabmr.com only 14 samples\n",
      "Skipping miglianicocalcio.net only 14 samples\n",
      "Skipping www.cscpro.org only 14 samples\n",
      "Skipping levitra100pudoff.com only 14 samples\n",
      "Skipping megagroup.ir only 13 samples\n",
      "Skipping educortex.in only 12 samples\n",
      "Skipping arthurmurray.com only 13 samples\n",
      "Skipping hitburada.com only 13 samples\n",
      "Skipping odlotw.blogspot.com only 13 samples\n",
      "Skipping funakoshikarateaustralia.com.au only 13 samples\n",
      "Skipping whoisdog.com only 13 samples\n",
      "Skipping ksgroupscans.com only 1 samples\n",
      "Skipping kk-vine.at only 13 samples\n",
      "Skipping myegypthost.com only 13 samples\n",
      "Skipping matchingimages.com only 13 samples\n",
      "Skipping onlinecasino002.com only 10 samples\n",
      "Skipping kayseriolaylari.com only 9 samples\n",
      "Skipping hpsconline.in only 1 samples\n",
      "[feature_extract] Number of classes 124\n",
      "[feature_extract] Number of features 123\n",
      "[feature_extract] Number of samples 4188\n",
      "[feature_extract] Number of labels 4188\n",
      "Number of classes 124\n",
      "Number of features 123\n",
      "Number of samples 4188\n",
      "Number of labels 4188\n",
      "Fold 0\n"
     ]
    },
    {
     "name": "stderr",
     "output_type": "stream",
     "text": [
      "/Users/ssiby/anaconda3/lib/python3.10/site-packages/sklearn/metrics/_classification.py:1344: UndefinedMetricWarning: Precision is ill-defined and being set to 0.0 in labels with no predicted samples. Use `zero_division` parameter to control this behavior.\n",
      "  _warn_prf(average, modifier, msg_start, len(result))\n"
     ]
    },
    {
     "name": "stdout",
     "output_type": "stream",
     "text": [
      "Fold 1\n",
      "Fold 2\n",
      "Fold 3\n",
      "Fold 4\n"
     ]
    },
    {
     "name": "stderr",
     "output_type": "stream",
     "text": [
      "/Users/ssiby/anaconda3/lib/python3.10/site-packages/sklearn/metrics/_classification.py:1344: UndefinedMetricWarning: Precision is ill-defined and being set to 0.0 in labels with no predicted samples. Use `zero_division` parameter to control this behavior.\n",
      "  _warn_prf(average, modifier, msg_start, len(result))\n"
     ]
    },
    {
     "name": "stdout",
     "output_type": "stream",
     "text": [
      "Fold 5\n"
     ]
    },
    {
     "name": "stderr",
     "output_type": "stream",
     "text": [
      "/Users/ssiby/anaconda3/lib/python3.10/site-packages/sklearn/metrics/_classification.py:1344: UndefinedMetricWarning: Precision is ill-defined and being set to 0.0 in labels with no predicted samples. Use `zero_division` parameter to control this behavior.\n",
      "  _warn_prf(average, modifier, msg_start, len(result))\n"
     ]
    },
    {
     "name": "stdout",
     "output_type": "stream",
     "text": [
      "Fold 6\n",
      "Fold 7\n",
      "Fold 8\n",
      "Fold 9\n"
     ]
    },
    {
     "name": "stderr",
     "output_type": "stream",
     "text": [
      "/Users/ssiby/anaconda3/lib/python3.10/site-packages/sklearn/metrics/_classification.py:1344: UndefinedMetricWarning: Precision is ill-defined and being set to 0.0 in labels with no predicted samples. Use `zero_division` parameter to control this behavior.\n",
      "  _warn_prf(average, modifier, msg_start, len(result))\n"
     ]
    },
    {
     "name": "stdout",
     "output_type": "stream",
     "text": [
      "{'score': {'accuracy': (0.286873508353222, 0.05672765447921941), 'precision': (0.2776048086614663, 0.06221154318105435), 'recall': (0.28433179723502305, 0.05726021849677109), 'f1score': (0.2712832630979692, 0.05737438841568111)}, 'features': [('bytes_total', 0.050477945931897375, 0.06196828600745115), ('bytes_%_in', 0.11584335972642341, 0.003946311760972629), ('bytes_%_out', 0.11535548425901627, 0.004769362889431934), ('time_outgoing_p25', 0.10797482434899726, 0.005748577170163963), ('time_incoming_p25', 0.1029482128592903, 0.007352969915606585), ('time_p25', 0.09104296425623823, 0.030494625397384564), ('delta_rates_20_3', 0.05993890064313134, 0.05005728906459093), ('delta_rate_1', 0.05951361111061872, 0.04988008677067147), ('hist_1337', 0.05265769247779668, 0.04306452343589841), ('hist_1003', 0.06467483649227629, 0.00580559903823952), ('bytes_incoming', 0.03430323884619871, 0.05240064717069279), ('hist_3678', 0.013542232944535415, 0.027084652984940498), ('bytes_outgoing', 0.06460601866154103, 0.0647474951579957), ('n_outgoing', 0.01177521010797669, 0.03532563032393007), ('hist_2341', 0.026324577913362533, 0.04024108273018121), ('hist_5684', 0.010918911524311126, 0.022054188228688956), ('hist_6019', 0.009648654419346767, 0.019300187646022596), ('hist_2675', 0.008453323477041795, 0.025359970431125384)]}\n",
      "***************** Working dummies=13\n",
      "Dummies cost [2617915.2827586206, 3021366.0735667073, 15.480869957189153, 104.10509997822804]\n",
      "Skipping sahafah24.com only 19 samples\n",
      "Skipping 9quotes.com only 19 samples\n",
      "Skipping bieporn.com only 17 samples\n",
      "Skipping faktabmr.com only 14 samples\n",
      "Skipping miglianicocalcio.net only 14 samples\n",
      "Skipping www.cscpro.org only 14 samples\n",
      "Skipping levitra100pudoff.com only 14 samples\n",
      "Skipping megagroup.ir only 13 samples\n",
      "Skipping educortex.in only 12 samples\n",
      "Skipping arthurmurray.com only 13 samples\n",
      "Skipping hitburada.com only 13 samples\n",
      "Skipping odlotw.blogspot.com only 13 samples\n",
      "Skipping funakoshikarateaustralia.com.au only 13 samples\n",
      "Skipping whoisdog.com only 13 samples\n",
      "Skipping ksgroupscans.com only 1 samples\n",
      "Skipping kk-vine.at only 13 samples\n",
      "Skipping myegypthost.com only 13 samples\n",
      "Skipping matchingimages.com only 13 samples\n",
      "Skipping onlinecasino002.com only 10 samples\n",
      "Skipping kayseriolaylari.com only 9 samples\n",
      "Skipping hpsconline.in only 1 samples\n",
      "[feature_extract] Number of classes 124\n",
      "[feature_extract] Number of features 123\n",
      "[feature_extract] Number of samples 4188\n",
      "[feature_extract] Number of labels 4188\n",
      "Number of classes 124\n",
      "Number of features 123\n",
      "Number of samples 4188\n",
      "Number of labels 4188\n",
      "Fold 0\n",
      "Fold 1\n",
      "Fold 2\n",
      "Fold 3\n"
     ]
    },
    {
     "name": "stderr",
     "output_type": "stream",
     "text": [
      "/Users/ssiby/anaconda3/lib/python3.10/site-packages/sklearn/metrics/_classification.py:1344: UndefinedMetricWarning: Precision is ill-defined and being set to 0.0 in labels with no predicted samples. Use `zero_division` parameter to control this behavior.\n",
      "  _warn_prf(average, modifier, msg_start, len(result))\n"
     ]
    },
    {
     "name": "stdout",
     "output_type": "stream",
     "text": [
      "Fold 4\n",
      "Fold 5\n",
      "Fold 6\n"
     ]
    },
    {
     "name": "stderr",
     "output_type": "stream",
     "text": [
      "/Users/ssiby/anaconda3/lib/python3.10/site-packages/sklearn/metrics/_classification.py:1344: UndefinedMetricWarning: Precision is ill-defined and being set to 0.0 in labels with no predicted samples. Use `zero_division` parameter to control this behavior.\n",
      "  _warn_prf(average, modifier, msg_start, len(result))\n"
     ]
    },
    {
     "name": "stdout",
     "output_type": "stream",
     "text": [
      "Fold 7\n",
      "Fold 8\n"
     ]
    },
    {
     "name": "stderr",
     "output_type": "stream",
     "text": [
      "/Users/ssiby/anaconda3/lib/python3.10/site-packages/sklearn/metrics/_classification.py:1344: UndefinedMetricWarning: Precision is ill-defined and being set to 0.0 in labels with no predicted samples. Use `zero_division` parameter to control this behavior.\n",
      "  _warn_prf(average, modifier, msg_start, len(result))\n"
     ]
    },
    {
     "name": "stdout",
     "output_type": "stream",
     "text": [
      "Fold 9\n",
      "{'score': {'accuracy': (0.266945107398568, 0.025432223242375353), 'precision': (0.25873803543336277, 0.025296329460609956), 'recall': (0.26406394009216594, 0.02502219744691864), 'f1score': (0.2521313787248073, 0.024917591728873905)}, 'features': [('bytes_outgoing', 0.10316754423465938, 0.0518819613683595), ('delta_rate_1', 0.058905319248093814, 0.04892565351370241), ('bytes_%_in', 0.11170086189632145, 0.004896215206812937), ('bytes_total', 0.06666517843183573, 0.05450350922183485), ('bytes_%_out', 0.11210723758462952, 0.0059662044222177696), ('time_outgoing_p25', 0.1053952287077063, 0.00428457313730461), ('time_p25', 0.10175170812691378, 0.003411372758614523), ('time_incoming_p25', 0.10048185288280276, 0.0037739263183055377), ('hist_2341', 0.016978415487169055, 0.033956893500912314), ('hist_1003', 0.06558689602382149, 0.005337464020580464), ('n_outgoing', 0.012770210862775102, 0.03831063258832531), ('hist_1337', 0.04305375853100922, 0.04319217967510493), ('hist_3678', 0.012828550397673662, 0.02568850269903489), ('delta_rates_20_3', 0.05933032819482105, 0.049229715809277534), ('hist_5684', 0.005025229650811845, 0.015075688952435535), ('n_incoming', 0.011449789423503966, 0.034349368270511896), ('hist_6019', 0.004923004837756152, 0.014769014513268452), ('hist_2675', 0.007878885477695743, 0.023636656433087225)]}\n",
      "***************** Working dummies=14\n",
      "Dummies cost [2746268.5724137933, 3164130.728059754, 16.112202381126806, 111.0685590330415]\n",
      "Skipping sahafah24.com only 19 samples\n",
      "Skipping 9quotes.com only 19 samples\n",
      "Skipping bieporn.com only 17 samples\n",
      "Skipping faktabmr.com only 14 samples\n",
      "Skipping miglianicocalcio.net only 14 samples\n",
      "Skipping www.cscpro.org only 14 samples\n",
      "Skipping levitra100pudoff.com only 14 samples\n",
      "Skipping megagroup.ir only 13 samples\n",
      "Skipping educortex.in only 12 samples\n",
      "Skipping arthurmurray.com only 13 samples\n",
      "Skipping hitburada.com only 13 samples\n",
      "Skipping odlotw.blogspot.com only 13 samples\n",
      "Skipping funakoshikarateaustralia.com.au only 13 samples\n",
      "Skipping whoisdog.com only 13 samples\n",
      "Skipping ksgroupscans.com only 1 samples\n",
      "Skipping kk-vine.at only 13 samples\n",
      "Skipping myegypthost.com only 13 samples\n",
      "Skipping matchingimages.com only 13 samples\n",
      "Skipping onlinecasino002.com only 10 samples\n",
      "Skipping kayseriolaylari.com only 9 samples\n",
      "Skipping hpsconline.in only 1 samples\n",
      "[feature_extract] Number of classes 124\n",
      "[feature_extract] Number of features 123\n",
      "[feature_extract] Number of samples 4188\n",
      "[feature_extract] Number of labels 4188\n",
      "Number of classes 124\n",
      "Number of features 123\n",
      "Number of samples 4188\n",
      "Number of labels 4188\n",
      "Fold 0\n",
      "Fold 1\n"
     ]
    },
    {
     "name": "stderr",
     "output_type": "stream",
     "text": [
      "/Users/ssiby/anaconda3/lib/python3.10/site-packages/sklearn/metrics/_classification.py:1344: UndefinedMetricWarning: Precision is ill-defined and being set to 0.0 in labels with no predicted samples. Use `zero_division` parameter to control this behavior.\n",
      "  _warn_prf(average, modifier, msg_start, len(result))\n"
     ]
    },
    {
     "name": "stdout",
     "output_type": "stream",
     "text": [
      "Fold 2\n"
     ]
    },
    {
     "name": "stderr",
     "output_type": "stream",
     "text": [
      "/Users/ssiby/anaconda3/lib/python3.10/site-packages/sklearn/metrics/_classification.py:1344: UndefinedMetricWarning: Precision is ill-defined and being set to 0.0 in labels with no predicted samples. Use `zero_division` parameter to control this behavior.\n",
      "  _warn_prf(average, modifier, msg_start, len(result))\n"
     ]
    },
    {
     "name": "stdout",
     "output_type": "stream",
     "text": [
      "Fold 3\n",
      "Fold 4\n"
     ]
    },
    {
     "name": "stderr",
     "output_type": "stream",
     "text": [
      "/Users/ssiby/anaconda3/lib/python3.10/site-packages/sklearn/metrics/_classification.py:1344: UndefinedMetricWarning: Precision is ill-defined and being set to 0.0 in labels with no predicted samples. Use `zero_division` parameter to control this behavior.\n",
      "  _warn_prf(average, modifier, msg_start, len(result))\n"
     ]
    },
    {
     "name": "stdout",
     "output_type": "stream",
     "text": [
      "Fold 5\n",
      "Fold 6\n",
      "Fold 7\n"
     ]
    },
    {
     "name": "stderr",
     "output_type": "stream",
     "text": [
      "/Users/ssiby/anaconda3/lib/python3.10/site-packages/sklearn/metrics/_classification.py:1344: UndefinedMetricWarning: Precision is ill-defined and being set to 0.0 in labels with no predicted samples. Use `zero_division` parameter to control this behavior.\n",
      "  _warn_prf(average, modifier, msg_start, len(result))\n"
     ]
    },
    {
     "name": "stdout",
     "output_type": "stream",
     "text": [
      "Fold 8\n"
     ]
    },
    {
     "name": "stderr",
     "output_type": "stream",
     "text": [
      "/Users/ssiby/anaconda3/lib/python3.10/site-packages/sklearn/metrics/_classification.py:1344: UndefinedMetricWarning: Precision is ill-defined and being set to 0.0 in labels with no predicted samples. Use `zero_division` parameter to control this behavior.\n",
      "  _warn_prf(average, modifier, msg_start, len(result))\n"
     ]
    },
    {
     "name": "stdout",
     "output_type": "stream",
     "text": [
      "Fold 9\n",
      "{'score': {'accuracy': (0.24940334128878278, 0.033451222468911204), 'precision': (0.2349436647450167, 0.037629815705376796), 'recall': (0.24700940860215054, 0.0332640545837348), 'f1score': (0.2321098596084647, 0.03402170475436317)}, 'features': [('bytes_outgoing', 0.11493833540933054, 0.038697370862988426), ('delta_rate_1', 0.06488261517890859, 0.05379848081223884), ('bytes_%_in', 0.0976246727468623, 0.03275688593668743), ('bytes_%_out', 0.09693562895331231, 0.03252414333891617), ('time_outgoing_p25', 0.10256850594109483, 0.005819160431700789), ('time_incoming_p25', 0.09935158689122488, 0.005109613628871338), ('time_p25', 0.0988646813360202, 0.003937711328428501), ('hist_2675', 0.016479834077799717, 0.032982614348654224), ('hist_1003', 0.06514482798746699, 0.004822077203320656), ('hist_6019', 0.004617013587065677, 0.013851040761197031), ('bytes_total', 0.02259031854320413, 0.04520255160541905), ('hist_1337', 0.0419462144000569, 0.04197428819830439), ('hist_2341', 0.02593481548993277, 0.039625600025472565), ('hist_3678', 0.006591343215005272, 0.019774029645015814), ('bytes_incoming', 0.053632628593007235, 0.05364250284751072), ('delta_rate_std', 0.011250914745291534, 0.033752744235874606), ('n_incoming', 0.03544094989616218, 0.05422882697766564), ('delta_rates_20_3', 0.04120511300825394, 0.051061608883484294)]}\n",
      "***************** Working dummies=15\n",
      "Dummies cost [3053479.796551724, 3482573.2162840706, 16.4110036803639, 119.24458188411269]\n",
      "Skipping sahafah24.com only 19 samples\n",
      "Skipping 9quotes.com only 19 samples\n",
      "Skipping bieporn.com only 17 samples\n",
      "Skipping faktabmr.com only 14 samples\n",
      "Skipping miglianicocalcio.net only 14 samples\n",
      "Skipping www.cscpro.org only 14 samples\n",
      "Skipping levitra100pudoff.com only 14 samples\n",
      "Skipping megagroup.ir only 13 samples\n",
      "Skipping educortex.in only 12 samples\n",
      "Skipping arthurmurray.com only 13 samples\n",
      "Skipping hitburada.com only 13 samples\n",
      "Skipping odlotw.blogspot.com only 13 samples\n",
      "Skipping funakoshikarateaustralia.com.au only 13 samples\n",
      "Skipping whoisdog.com only 13 samples\n",
      "Skipping ksgroupscans.com only 1 samples\n",
      "Skipping kk-vine.at only 13 samples\n",
      "Skipping myegypthost.com only 13 samples\n",
      "Skipping matchingimages.com only 13 samples\n",
      "Skipping onlinecasino002.com only 10 samples\n",
      "Skipping kayseriolaylari.com only 9 samples\n",
      "Skipping hpsconline.in only 1 samples\n",
      "[feature_extract] Number of classes 124\n",
      "[feature_extract] Number of features 123\n",
      "[feature_extract] Number of samples 4188\n",
      "[feature_extract] Number of labels 4188\n",
      "Number of classes 124\n",
      "Number of features 123\n",
      "Number of samples 4188\n",
      "Number of labels 4188\n",
      "Fold 0\n",
      "Fold 1\n"
     ]
    },
    {
     "name": "stderr",
     "output_type": "stream",
     "text": [
      "/Users/ssiby/anaconda3/lib/python3.10/site-packages/sklearn/metrics/_classification.py:1344: UndefinedMetricWarning: Precision is ill-defined and being set to 0.0 in labels with no predicted samples. Use `zero_division` parameter to control this behavior.\n",
      "  _warn_prf(average, modifier, msg_start, len(result))\n"
     ]
    },
    {
     "name": "stdout",
     "output_type": "stream",
     "text": [
      "Fold 2\n"
     ]
    },
    {
     "name": "stderr",
     "output_type": "stream",
     "text": [
      "/Users/ssiby/anaconda3/lib/python3.10/site-packages/sklearn/metrics/_classification.py:1344: UndefinedMetricWarning: Precision is ill-defined and being set to 0.0 in labels with no predicted samples. Use `zero_division` parameter to control this behavior.\n",
      "  _warn_prf(average, modifier, msg_start, len(result))\n"
     ]
    },
    {
     "name": "stdout",
     "output_type": "stream",
     "text": [
      "Fold 3\n",
      "Fold 4\n"
     ]
    },
    {
     "name": "stderr",
     "output_type": "stream",
     "text": [
      "/Users/ssiby/anaconda3/lib/python3.10/site-packages/sklearn/metrics/_classification.py:1344: UndefinedMetricWarning: Precision is ill-defined and being set to 0.0 in labels with no predicted samples. Use `zero_division` parameter to control this behavior.\n",
      "  _warn_prf(average, modifier, msg_start, len(result))\n"
     ]
    },
    {
     "name": "stdout",
     "output_type": "stream",
     "text": [
      "Fold 5\n",
      "Fold 6\n",
      "Fold 7\n"
     ]
    },
    {
     "name": "stderr",
     "output_type": "stream",
     "text": [
      "/Users/ssiby/anaconda3/lib/python3.10/site-packages/sklearn/metrics/_classification.py:1344: UndefinedMetricWarning: Precision is ill-defined and being set to 0.0 in labels with no predicted samples. Use `zero_division` parameter to control this behavior.\n",
      "  _warn_prf(average, modifier, msg_start, len(result))\n"
     ]
    },
    {
     "name": "stdout",
     "output_type": "stream",
     "text": [
      "Fold 8\n",
      "Fold 9\n",
      "{'score': {'accuracy': (0.2702863961813843, 0.04269759108070369), 'precision': (0.262749613737517, 0.040350207692095366), 'recall': (0.26821524577572964, 0.042569488191292255), 'f1score': (0.25748414169309125, 0.04125111251712051)}, 'features': [('bytes_%_out', 0.11606574399404504, 0.0029814236303187325), ('bytes_%_in', 0.11610624180062232, 0.003955391699427348), ('time_outgoing_p25', 0.10482097243110142, 0.0035789442924079647), ('time_p25', 0.10127970871984963, 0.00414318583631892), ('time_incoming_p25', 0.1004430820707433, 0.003965853183759168), ('hist_2341', 0.03547030231911692, 0.043527459379225725), ('delta_rate_1', 0.07168982175793484, 0.048920330158505825), ('delta_rates_20_3', 0.05878173317070512, 0.049140421424014875), ('hist_1337', 0.07961361576052291, 0.02672888508113149), ('hist_1003', 0.06702182387605797, 0.005588878204772786), ('bytes_outgoing', 0.09080297918774552, 0.05968530477445429), ('hist_3678', 0.007330765451644465, 0.0219922963549334), ('hist_6019', 0.014624088149879682, 0.022361047117879687), ('n_outgoing', 0.01246007394646693, 0.03738022183940078), ('n_total', 0.023489047363563973, 0.046997757354049145)]}\n",
      "***************** Working dummies=16\n",
      "Dummies cost [3223758.024137931, 3665108.6372082396, 16.873645856075587, 127.45706249702063]\n",
      "Skipping sahafah24.com only 19 samples\n",
      "Skipping 9quotes.com only 19 samples\n",
      "Skipping bieporn.com only 17 samples\n",
      "Skipping faktabmr.com only 14 samples\n",
      "Skipping miglianicocalcio.net only 14 samples\n",
      "Skipping www.cscpro.org only 14 samples\n",
      "Skipping levitra100pudoff.com only 14 samples\n",
      "Skipping megagroup.ir only 13 samples\n",
      "Skipping educortex.in only 12 samples\n",
      "Skipping arthurmurray.com only 13 samples\n",
      "Skipping hitburada.com only 13 samples\n",
      "Skipping odlotw.blogspot.com only 13 samples\n",
      "Skipping funakoshikarateaustralia.com.au only 13 samples\n",
      "Skipping whoisdog.com only 13 samples\n",
      "Skipping ksgroupscans.com only 1 samples\n",
      "Skipping kk-vine.at only 13 samples\n",
      "Skipping myegypthost.com only 13 samples\n",
      "Skipping matchingimages.com only 13 samples\n",
      "Skipping onlinecasino002.com only 10 samples\n",
      "Skipping kayseriolaylari.com only 9 samples\n",
      "Skipping hpsconline.in only 1 samples\n",
      "[feature_extract] Number of classes 124\n",
      "[feature_extract] Number of features 123\n",
      "[feature_extract] Number of samples 4188\n",
      "[feature_extract] Number of labels 4188\n",
      "Number of classes 124\n",
      "Number of features 123\n",
      "Number of samples 4188\n",
      "Number of labels 4188\n",
      "Fold 0\n"
     ]
    },
    {
     "name": "stderr",
     "output_type": "stream",
     "text": [
      "/Users/ssiby/anaconda3/lib/python3.10/site-packages/sklearn/metrics/_classification.py:1344: UndefinedMetricWarning: Precision is ill-defined and being set to 0.0 in labels with no predicted samples. Use `zero_division` parameter to control this behavior.\n",
      "  _warn_prf(average, modifier, msg_start, len(result))\n"
     ]
    },
    {
     "name": "stdout",
     "output_type": "stream",
     "text": [
      "Fold 1\n",
      "Fold 2\n",
      "Fold 3\n",
      "Fold 4\n",
      "Fold 5\n",
      "Fold 6\n"
     ]
    },
    {
     "name": "stderr",
     "output_type": "stream",
     "text": [
      "/Users/ssiby/anaconda3/lib/python3.10/site-packages/sklearn/metrics/_classification.py:1344: UndefinedMetricWarning: Precision is ill-defined and being set to 0.0 in labels with no predicted samples. Use `zero_division` parameter to control this behavior.\n",
      "  _warn_prf(average, modifier, msg_start, len(result))\n"
     ]
    },
    {
     "name": "stdout",
     "output_type": "stream",
     "text": [
      "Fold 7\n",
      "Fold 8\n",
      "Fold 9\n",
      "{'score': {'accuracy': (0.21730310262529834, 0.014433222322009998), 'precision': (0.2074748765284506, 0.013608648598618411), 'recall': (0.21408314132104453, 0.014348814748860692), 'f1score': (0.20211850179522042, 0.013002753672204765)}, 'features': [('bytes_outgoing', 0.09113917280127885, 0.05984427558798765), ('bytes_incoming', 0.059596706779868704, 0.06000084958295089), ('bytes_%_in', 0.11150416348501802, 0.003468394291956125), ('bytes_%_out', 0.11136916222204149, 0.003538771042560198), ('time_outgoing_p25', 0.1064241976826964, 0.0017887220922427726), ('time_p25', 0.10140330177141665, 0.0016968790413010109), ('time_incoming_p25', 0.10022992796913768, 0.0016919371789297691), ('delta_rate_1', 0.08994709395618194, 0.00841302445490351), ('delta_rates_20_3', 0.07975985140269448, 0.026665038645989084), ('hist_1003', 0.06498172550539745, 0.003984477742943042), ('hist_1337', 0.05107298962135687, 0.04172227906184639), ('bytes_total', 0.023531204017372707, 0.04724524953479886), ('hist_2341', 0.009040502785538784, 0.027121508356616354)]}\n",
      "***************** Working dummies=17\n",
      "Dummies cost [3475875.0724137933, 3984843.0555603527, 17.21267872643958, 136.22540773011832]\n",
      "Skipping sahafah24.com only 19 samples\n",
      "Skipping 9quotes.com only 19 samples\n",
      "Skipping bieporn.com only 17 samples\n",
      "Skipping faktabmr.com only 14 samples\n",
      "Skipping miglianicocalcio.net only 14 samples\n",
      "Skipping www.cscpro.org only 14 samples\n",
      "Skipping levitra100pudoff.com only 14 samples\n",
      "Skipping megagroup.ir only 13 samples\n",
      "Skipping educortex.in only 12 samples\n",
      "Skipping arthurmurray.com only 13 samples\n",
      "Skipping hitburada.com only 13 samples\n",
      "Skipping odlotw.blogspot.com only 13 samples\n",
      "Skipping funakoshikarateaustralia.com.au only 13 samples\n",
      "Skipping whoisdog.com only 13 samples\n",
      "Skipping ksgroupscans.com only 1 samples\n",
      "Skipping kk-vine.at only 13 samples\n",
      "Skipping myegypthost.com only 13 samples\n",
      "Skipping matchingimages.com only 13 samples\n",
      "Skipping onlinecasino002.com only 10 samples\n",
      "Skipping kayseriolaylari.com only 9 samples\n",
      "Skipping hpsconline.in only 1 samples\n",
      "[feature_extract] Number of classes 124\n",
      "[feature_extract] Number of features 123\n",
      "[feature_extract] Number of samples 4188\n",
      "[feature_extract] Number of labels 4188\n",
      "Number of classes 124\n",
      "Number of features 123\n",
      "Number of samples 4188\n",
      "Number of labels 4188\n",
      "Fold 0\n",
      "Fold 1\n",
      "Fold 2\n",
      "Fold 3\n"
     ]
    },
    {
     "name": "stderr",
     "output_type": "stream",
     "text": [
      "/Users/ssiby/anaconda3/lib/python3.10/site-packages/sklearn/metrics/_classification.py:1344: UndefinedMetricWarning: Precision is ill-defined and being set to 0.0 in labels with no predicted samples. Use `zero_division` parameter to control this behavior.\n",
      "  _warn_prf(average, modifier, msg_start, len(result))\n"
     ]
    },
    {
     "name": "stdout",
     "output_type": "stream",
     "text": [
      "Fold 4\n"
     ]
    },
    {
     "name": "stderr",
     "output_type": "stream",
     "text": [
      "/Users/ssiby/anaconda3/lib/python3.10/site-packages/sklearn/metrics/_classification.py:1344: UndefinedMetricWarning: Precision is ill-defined and being set to 0.0 in labels with no predicted samples. Use `zero_division` parameter to control this behavior.\n",
      "  _warn_prf(average, modifier, msg_start, len(result))\n"
     ]
    },
    {
     "name": "stdout",
     "output_type": "stream",
     "text": [
      "Fold 5\n",
      "Fold 6\n",
      "Fold 7\n",
      "Fold 8\n",
      "Fold 9\n",
      "{'score': {'accuracy': (0.2727923627684964, 0.04456749023190365), 'precision': (0.26296569246166024, 0.04916215026182629), 'recall': (0.2701075268817204, 0.0465624315453784), 'f1score': (0.25714248885699964, 0.046985619085150206)}, 'features': [('bytes_incoming', 0.035623510045521625, 0.05452667277663974), ('delta_rates_20_3', 0.07477012990413665, 0.05014614727715488), ('bytes_%_out', 0.11355226206123412, 0.00491672179834258), ('bytes_%_in', 0.11337295284401643, 0.004261930839645816), ('time_outgoing_p25', 0.10821176641898159, 0.006136090863136204), ('time_p25', 0.09478307808250755, 0.032245079762975026), ('time_incoming_p25', 0.08249354450457928, 0.04143208308363548), ('hist_1337', 0.05459286218408993, 0.04476243076247708), ('hist_2341', 0.055449458359194424, 0.04532700746849208), ('hist_1003', 0.06780440137630753, 0.006036226564204322), ('delta_rate_1', 0.03959049865213147, 0.04897636324370014), ('hist_2675', 0.008681651151403564, 0.02604495345421069), ('bytes_outgoing', 0.06330848495360747, 0.06354565681335622), ('hist_3678', 0.0066462951476710715, 0.019938885443013213), ('hist_6019', 0.024243696546674853, 0.024262731266244578), ('n_outgoing', 0.011067075048796723, 0.033201225146390165), ('delta_rate_std', 0.01168301769587054, 0.035049053087611616), ('n_total', 0.012110574457507742, 0.036331723372523224), ('delta_rates_20_sum', 0.01159284770955789, 0.03477854312867367), ('bytes_total', 0.010421892856209557, 0.03126567856862868)]}\n",
      "***************** Working dummies=18\n",
      "Dummies cost [3634451.9413793106, 4070396.8649738245, 17.491452615499913, 142.8142634479776]\n",
      "Skipping sahafah24.com only 19 samples\n",
      "Skipping 9quotes.com only 19 samples\n",
      "Skipping bieporn.com only 17 samples\n",
      "Skipping faktabmr.com only 14 samples\n",
      "Skipping miglianicocalcio.net only 14 samples\n",
      "Skipping www.cscpro.org only 14 samples\n",
      "Skipping levitra100pudoff.com only 14 samples\n",
      "Skipping megagroup.ir only 13 samples\n",
      "Skipping educortex.in only 12 samples\n",
      "Skipping arthurmurray.com only 13 samples\n",
      "Skipping hitburada.com only 13 samples\n",
      "Skipping odlotw.blogspot.com only 13 samples\n",
      "Skipping funakoshikarateaustralia.com.au only 13 samples\n",
      "Skipping whoisdog.com only 13 samples\n",
      "Skipping ksgroupscans.com only 1 samples\n",
      "Skipping kk-vine.at only 13 samples\n",
      "Skipping myegypthost.com only 13 samples\n",
      "Skipping matchingimages.com only 13 samples\n",
      "Skipping onlinecasino002.com only 10 samples\n",
      "Skipping kayseriolaylari.com only 9 samples\n",
      "Skipping hpsconline.in only 1 samples\n",
      "[feature_extract] Number of classes 124\n",
      "[feature_extract] Number of features 123\n",
      "[feature_extract] Number of samples 4188\n",
      "[feature_extract] Number of labels 4188\n",
      "Number of classes 124\n",
      "Number of features 123\n",
      "Number of samples 4188\n",
      "Number of labels 4188\n",
      "Fold 0\n",
      "Fold 1\n",
      "Fold 2\n"
     ]
    },
    {
     "name": "stderr",
     "output_type": "stream",
     "text": [
      "/Users/ssiby/anaconda3/lib/python3.10/site-packages/sklearn/metrics/_classification.py:1344: UndefinedMetricWarning: Precision is ill-defined and being set to 0.0 in labels with no predicted samples. Use `zero_division` parameter to control this behavior.\n",
      "  _warn_prf(average, modifier, msg_start, len(result))\n"
     ]
    },
    {
     "name": "stdout",
     "output_type": "stream",
     "text": [
      "Fold 3\n"
     ]
    },
    {
     "name": "stderr",
     "output_type": "stream",
     "text": [
      "/Users/ssiby/anaconda3/lib/python3.10/site-packages/sklearn/metrics/_classification.py:1344: UndefinedMetricWarning: Precision is ill-defined and being set to 0.0 in labels with no predicted samples. Use `zero_division` parameter to control this behavior.\n",
      "  _warn_prf(average, modifier, msg_start, len(result))\n"
     ]
    },
    {
     "name": "stdout",
     "output_type": "stream",
     "text": [
      "Fold 4\n",
      "Fold 5\n"
     ]
    },
    {
     "name": "stderr",
     "output_type": "stream",
     "text": [
      "/Users/ssiby/anaconda3/lib/python3.10/site-packages/sklearn/metrics/_classification.py:1344: UndefinedMetricWarning: Precision is ill-defined and being set to 0.0 in labels with no predicted samples. Use `zero_division` parameter to control this behavior.\n",
      "  _warn_prf(average, modifier, msg_start, len(result))\n"
     ]
    },
    {
     "name": "stdout",
     "output_type": "stream",
     "text": [
      "Fold 6\n",
      "Fold 7\n",
      "Fold 8\n",
      "Fold 9\n"
     ]
    },
    {
     "name": "stderr",
     "output_type": "stream",
     "text": [
      "/Users/ssiby/anaconda3/lib/python3.10/site-packages/sklearn/metrics/_classification.py:1344: UndefinedMetricWarning: Precision is ill-defined and being set to 0.0 in labels with no predicted samples. Use `zero_division` parameter to control this behavior.\n",
      "  _warn_prf(average, modifier, msg_start, len(result))\n"
     ]
    },
    {
     "name": "stdout",
     "output_type": "stream",
     "text": [
      "{'score': {'accuracy': (0.20906921241050122, 0.02641412899145115), 'precision': (0.19902083426383085, 0.02700576959147607), 'recall': (0.2074615975422427, 0.026243413928979806), 'f1score': (0.19544095423726737, 0.025775215482595853)}, 'features': [('bytes_outgoing', 0.12167075475415394, 0.009150046977040936), ('bytes_%_in', 0.10867718925014336, 0.004580792747082195), ('n_outgoing', 0.043674336388146454, 0.0535175932428487), ('bytes_%_out', 0.10798257514793748, 0.003966054880809504), ('time_outgoing_p25', 0.10374145266775651, 0.0034846745433432273), ('time_p25', 0.10098704996878419, 0.003999711135866595), ('time_incoming_p25', 0.0892925016563523, 0.02982671789346202), ('hist_2341', 0.02638779788697741, 0.04035559287398527), ('hist_1337', 0.04316822357853227, 0.04319396031884709), ('hist_1003', 0.061652768344246676, 0.003700617672489718), ('delta_rate_1', 0.0752840141634368, 0.050239676447937434), ('delta_rates_20_3', 0.04024992154559664, 0.049949123114946585), ('bytes_incoming', 0.02127410639379344, 0.042598737748303514), ('hist_3678', 0.005836742081405074, 0.017510226244215225), ('n_incoming', 0.010699130877108968, 0.03209739263132691), ('bytes_total', 0.03117741681295496, 0.04764542015238047), ('hist_2675', 0.008244018482673527, 0.02473205544802058)]}\n",
      "***************** Working dummies=19\n",
      "Dummies cost [3868337.4413793106, 4336893.947044755, 17.823438141994615, 151.57113580314254]\n",
      "Skipping sahafah24.com only 19 samples\n",
      "Skipping 9quotes.com only 19 samples\n",
      "Skipping bieporn.com only 17 samples\n",
      "Skipping faktabmr.com only 14 samples\n",
      "Skipping miglianicocalcio.net only 14 samples\n",
      "Skipping www.cscpro.org only 14 samples\n",
      "Skipping levitra100pudoff.com only 14 samples\n",
      "Skipping megagroup.ir only 13 samples\n",
      "Skipping educortex.in only 12 samples\n",
      "Skipping arthurmurray.com only 13 samples\n",
      "Skipping hitburada.com only 13 samples\n",
      "Skipping odlotw.blogspot.com only 13 samples\n",
      "Skipping funakoshikarateaustralia.com.au only 13 samples\n",
      "Skipping whoisdog.com only 13 samples\n",
      "Skipping ksgroupscans.com only 1 samples\n",
      "Skipping kk-vine.at only 13 samples\n",
      "Skipping myegypthost.com only 13 samples\n",
      "Skipping matchingimages.com only 13 samples\n",
      "Skipping onlinecasino002.com only 10 samples\n",
      "Skipping kayseriolaylari.com only 9 samples\n",
      "Skipping hpsconline.in only 1 samples\n",
      "[feature_extract] Number of classes 124\n",
      "[feature_extract] Number of features 123\n",
      "[feature_extract] Number of samples 4188\n",
      "[feature_extract] Number of labels 4188\n",
      "Number of classes 124\n",
      "Number of features 123\n",
      "Number of samples 4188\n",
      "Number of labels 4188\n",
      "Fold 0\n",
      "Fold 1\n"
     ]
    },
    {
     "name": "stderr",
     "output_type": "stream",
     "text": [
      "/Users/ssiby/anaconda3/lib/python3.10/site-packages/sklearn/metrics/_classification.py:1344: UndefinedMetricWarning: Precision is ill-defined and being set to 0.0 in labels with no predicted samples. Use `zero_division` parameter to control this behavior.\n",
      "  _warn_prf(average, modifier, msg_start, len(result))\n"
     ]
    },
    {
     "name": "stdout",
     "output_type": "stream",
     "text": [
      "Fold 2\n",
      "Fold 3\n"
     ]
    },
    {
     "name": "stderr",
     "output_type": "stream",
     "text": [
      "/Users/ssiby/anaconda3/lib/python3.10/site-packages/sklearn/metrics/_classification.py:1344: UndefinedMetricWarning: Precision is ill-defined and being set to 0.0 in labels with no predicted samples. Use `zero_division` parameter to control this behavior.\n",
      "  _warn_prf(average, modifier, msg_start, len(result))\n"
     ]
    },
    {
     "name": "stdout",
     "output_type": "stream",
     "text": [
      "Fold 4\n"
     ]
    },
    {
     "name": "stderr",
     "output_type": "stream",
     "text": [
      "/Users/ssiby/anaconda3/lib/python3.10/site-packages/sklearn/metrics/_classification.py:1344: UndefinedMetricWarning: Precision is ill-defined and being set to 0.0 in labels with no predicted samples. Use `zero_division` parameter to control this behavior.\n",
      "  _warn_prf(average, modifier, msg_start, len(result))\n"
     ]
    },
    {
     "name": "stdout",
     "output_type": "stream",
     "text": [
      "Fold 5\n",
      "Fold 6\n"
     ]
    },
    {
     "name": "stderr",
     "output_type": "stream",
     "text": [
      "/Users/ssiby/anaconda3/lib/python3.10/site-packages/sklearn/metrics/_classification.py:1344: UndefinedMetricWarning: Precision is ill-defined and being set to 0.0 in labels with no predicted samples. Use `zero_division` parameter to control this behavior.\n",
      "  _warn_prf(average, modifier, msg_start, len(result))\n"
     ]
    },
    {
     "name": "stdout",
     "output_type": "stream",
     "text": [
      "Fold 7\n",
      "Fold 8\n"
     ]
    },
    {
     "name": "stderr",
     "output_type": "stream",
     "text": [
      "/Users/ssiby/anaconda3/lib/python3.10/site-packages/sklearn/metrics/_classification.py:1344: UndefinedMetricWarning: Precision is ill-defined and being set to 0.0 in labels with no predicted samples. Use `zero_division` parameter to control this behavior.\n",
      "  _warn_prf(average, modifier, msg_start, len(result))\n"
     ]
    },
    {
     "name": "stdout",
     "output_type": "stream",
     "text": [
      "Fold 9\n"
     ]
    },
    {
     "name": "stderr",
     "output_type": "stream",
     "text": [
      "/Users/ssiby/anaconda3/lib/python3.10/site-packages/sklearn/metrics/_classification.py:1344: UndefinedMetricWarning: Precision is ill-defined and being set to 0.0 in labels with no predicted samples. Use `zero_division` parameter to control this behavior.\n",
      "  _warn_prf(average, modifier, msg_start, len(result))\n"
     ]
    },
    {
     "name": "stdout",
     "output_type": "stream",
     "text": [
      "{'score': {'accuracy': (0.21599045346062057, 0.03060574221313474), 'precision': (0.20542101787891634, 0.03445264926953621), 'recall': (0.21338901689708142, 0.030238840026399413), 'f1score': (0.20153127048532057, 0.030721465846313443)}, 'features': [('bytes_outgoing', 0.11541410997703161, 0.039019878000940526), ('bytes_%_in', 0.11273930942095775, 0.007597928091783001), ('bytes_%_out', 0.0994947949265921, 0.03337426721299152), ('time_outgoing_p25', 0.10301648084490504, 0.0016608193261846264), ('time_p25', 0.1013074936937635, 0.00258570208744484), ('time_incoming_p25', 0.10034944449829346, 0.0029562794937521408), ('hist_2341', 0.018330791185217462, 0.036663814276800814), ('delta_rates_20_3', 0.08707992954603028, 0.031724229253496744), ('delta_rate_1', 0.06406470060427523, 0.04272544893229744), ('hist_1003', 0.06248943489302504, 0.005159838846626406), ('n_total', 0.011010702852402575, 0.03303210855720773), ('hist_6019', 0.004987230536999445, 0.014961691610998333), ('hist_1337', 0.044482545086866804, 0.04449573934229947), ('hist_3678', 0.006807763860257171, 0.020423291580771514), ('bytes_total', 0.02354876698342815, 0.047107388782865085), ('bytes_incoming', 0.021997540834353995, 0.04403593417174328), ('n_outgoing', 0.011546376353367771, 0.034639129060103316), ('delta_rate_std', 0.011332583902232553, 0.03399775170669766)]}\n",
      "***************** Working dummies=20\n",
      "Dummies cost [4090548.8068965515, 4580030.298838679, 18.338120636103866, 159.11339488972487]\n",
      "Skipping sahafah24.com only 19 samples\n",
      "Skipping 9quotes.com only 19 samples\n",
      "Skipping bieporn.com only 17 samples\n",
      "Skipping faktabmr.com only 14 samples\n",
      "Skipping miglianicocalcio.net only 14 samples\n",
      "Skipping www.cscpro.org only 14 samples\n",
      "Skipping levitra100pudoff.com only 14 samples\n",
      "Skipping megagroup.ir only 13 samples\n",
      "Skipping educortex.in only 12 samples\n",
      "Skipping arthurmurray.com only 13 samples\n",
      "Skipping hitburada.com only 13 samples\n",
      "Skipping odlotw.blogspot.com only 13 samples\n",
      "Skipping funakoshikarateaustralia.com.au only 13 samples\n",
      "Skipping whoisdog.com only 13 samples\n",
      "Skipping ksgroupscans.com only 1 samples\n",
      "Skipping kk-vine.at only 13 samples\n",
      "Skipping myegypthost.com only 13 samples\n",
      "Skipping matchingimages.com only 13 samples\n",
      "Skipping onlinecasino002.com only 10 samples\n",
      "Skipping kayseriolaylari.com only 9 samples\n",
      "Skipping hpsconline.in only 1 samples\n",
      "[feature_extract] Number of classes 124\n",
      "[feature_extract] Number of features 123\n",
      "[feature_extract] Number of samples 4188\n",
      "[feature_extract] Number of labels 4188\n",
      "Number of classes 124\n",
      "Number of features 123\n",
      "Number of samples 4188\n",
      "Number of labels 4188\n",
      "Fold 0\n",
      "Fold 1\n"
     ]
    },
    {
     "name": "stderr",
     "output_type": "stream",
     "text": [
      "/Users/ssiby/anaconda3/lib/python3.10/site-packages/sklearn/metrics/_classification.py:1344: UndefinedMetricWarning: Precision is ill-defined and being set to 0.0 in labels with no predicted samples. Use `zero_division` parameter to control this behavior.\n",
      "  _warn_prf(average, modifier, msg_start, len(result))\n"
     ]
    },
    {
     "name": "stdout",
     "output_type": "stream",
     "text": [
      "Fold 2\n"
     ]
    },
    {
     "name": "stderr",
     "output_type": "stream",
     "text": [
      "/Users/ssiby/anaconda3/lib/python3.10/site-packages/sklearn/metrics/_classification.py:1344: UndefinedMetricWarning: Precision is ill-defined and being set to 0.0 in labels with no predicted samples. Use `zero_division` parameter to control this behavior.\n",
      "  _warn_prf(average, modifier, msg_start, len(result))\n"
     ]
    },
    {
     "name": "stdout",
     "output_type": "stream",
     "text": [
      "Fold 3\n"
     ]
    },
    {
     "name": "stderr",
     "output_type": "stream",
     "text": [
      "/Users/ssiby/anaconda3/lib/python3.10/site-packages/sklearn/metrics/_classification.py:1344: UndefinedMetricWarning: Precision is ill-defined and being set to 0.0 in labels with no predicted samples. Use `zero_division` parameter to control this behavior.\n",
      "  _warn_prf(average, modifier, msg_start, len(result))\n"
     ]
    },
    {
     "name": "stdout",
     "output_type": "stream",
     "text": [
      "Fold 4\n",
      "Fold 5\n"
     ]
    },
    {
     "name": "stderr",
     "output_type": "stream",
     "text": [
      "/Users/ssiby/anaconda3/lib/python3.10/site-packages/sklearn/metrics/_classification.py:1344: UndefinedMetricWarning: Precision is ill-defined and being set to 0.0 in labels with no predicted samples. Use `zero_division` parameter to control this behavior.\n",
      "  _warn_prf(average, modifier, msg_start, len(result))\n"
     ]
    },
    {
     "name": "stdout",
     "output_type": "stream",
     "text": [
      "Fold 6\n",
      "Fold 7\n",
      "Fold 8\n"
     ]
    },
    {
     "name": "stderr",
     "output_type": "stream",
     "text": [
      "/Users/ssiby/anaconda3/lib/python3.10/site-packages/sklearn/metrics/_classification.py:1344: UndefinedMetricWarning: Precision is ill-defined and being set to 0.0 in labels with no predicted samples. Use `zero_division` parameter to control this behavior.\n",
      "  _warn_prf(average, modifier, msg_start, len(result))\n"
     ]
    },
    {
     "name": "stdout",
     "output_type": "stream",
     "text": [
      "Fold 9\n"
     ]
    },
    {
     "name": "stderr",
     "output_type": "stream",
     "text": [
      "/Users/ssiby/anaconda3/lib/python3.10/site-packages/sklearn/metrics/_classification.py:1344: UndefinedMetricWarning: Precision is ill-defined and being set to 0.0 in labels with no predicted samples. Use `zero_division` parameter to control this behavior.\n",
      "  _warn_prf(average, modifier, msg_start, len(result))\n"
     ]
    },
    {
     "name": "stdout",
     "output_type": "stream",
     "text": [
      "{'score': {'accuracy': (0.2110978520286396, 0.04540396378672847), 'precision': (0.19787659190114124, 0.04633569714337416), 'recall': (0.2085445468509985, 0.046441637423905835), 'f1score': (0.19574867352212838, 0.044819013249170765)}, 'features': [('delta_rate_std', 0.011749128714288563, 0.03524738614286569), ('bytes_incoming', 0.011517037935958364, 0.0345511138078751), ('delta_rates_20_3', 0.09578661170590307, 0.012654460950803522), ('bytes_%_in', 0.11145261207065855, 0.002259347447086627), ('bytes_%_out', 0.11087111138422326, 0.0032750965933461126), ('time_outgoing_p25', 0.09471031510370456, 0.031882172748679265), ('time_incoming_p25', 0.09148612118123804, 0.03097148941581263), ('time_p25', 0.10271327833082115, 0.006129300953391608), ('hist_1337', 0.05276119692265511, 0.04322034914194037), ('hist_1003', 0.06607496961206233, 0.005105850636837332), ('bytes_outgoing', 0.10218613277261931, 0.05175607957597699), ('n_outgoing', 0.033539651864930346, 0.05128134037492234), ('delta_rate_1', 0.06195373697071358, 0.04072868295621925), ('bytes_total', 0.023880697061678936, 0.04788413806407315), ('hist_6019', 0.009428298226158696, 0.018901742259353232), ('delta_rates_20_sum', 0.010583481313582516, 0.031750443940747546), ('hist_2341', 0.009305618828803645, 0.027916856486410936)]}\n",
      "***************** Working dummies=21\n",
      "Dummies cost [4318714.775862069, 4790921.060342138, 18.761207885247806, 167.35772719691406]\n",
      "Skipping sahafah24.com only 19 samples\n",
      "Skipping 9quotes.com only 19 samples\n",
      "Skipping bieporn.com only 17 samples\n",
      "Skipping faktabmr.com only 14 samples\n",
      "Skipping miglianicocalcio.net only 14 samples\n",
      "Skipping www.cscpro.org only 14 samples\n",
      "Skipping levitra100pudoff.com only 14 samples\n",
      "Skipping megagroup.ir only 13 samples\n",
      "Skipping educortex.in only 12 samples\n",
      "Skipping arthurmurray.com only 13 samples\n",
      "Skipping hitburada.com only 13 samples\n",
      "Skipping odlotw.blogspot.com only 13 samples\n",
      "Skipping funakoshikarateaustralia.com.au only 13 samples\n",
      "Skipping whoisdog.com only 13 samples\n",
      "Skipping ksgroupscans.com only 1 samples\n",
      "Skipping kk-vine.at only 13 samples\n",
      "Skipping myegypthost.com only 13 samples\n",
      "Skipping matchingimages.com only 13 samples\n",
      "Skipping onlinecasino002.com only 10 samples\n",
      "Skipping kayseriolaylari.com only 9 samples\n",
      "Skipping hpsconline.in only 1 samples\n",
      "[feature_extract] Number of classes 124\n",
      "[feature_extract] Number of features 123\n",
      "[feature_extract] Number of samples 4188\n",
      "[feature_extract] Number of labels 4188\n",
      "Number of classes 124\n",
      "Number of features 123\n",
      "Number of samples 4188\n",
      "Number of labels 4188\n",
      "Fold 0\n",
      "Fold 1\n"
     ]
    },
    {
     "name": "stderr",
     "output_type": "stream",
     "text": [
      "/Users/ssiby/anaconda3/lib/python3.10/site-packages/sklearn/metrics/_classification.py:1344: UndefinedMetricWarning: Precision is ill-defined and being set to 0.0 in labels with no predicted samples. Use `zero_division` parameter to control this behavior.\n",
      "  _warn_prf(average, modifier, msg_start, len(result))\n"
     ]
    },
    {
     "name": "stdout",
     "output_type": "stream",
     "text": [
      "Fold 2\n",
      "Fold 3\n",
      "Fold 4\n"
     ]
    },
    {
     "name": "stderr",
     "output_type": "stream",
     "text": [
      "/Users/ssiby/anaconda3/lib/python3.10/site-packages/sklearn/metrics/_classification.py:1344: UndefinedMetricWarning: Precision is ill-defined and being set to 0.0 in labels with no predicted samples. Use `zero_division` parameter to control this behavior.\n",
      "  _warn_prf(average, modifier, msg_start, len(result))\n"
     ]
    },
    {
     "name": "stdout",
     "output_type": "stream",
     "text": [
      "Fold 5\n",
      "Fold 6\n"
     ]
    },
    {
     "name": "stderr",
     "output_type": "stream",
     "text": [
      "/Users/ssiby/anaconda3/lib/python3.10/site-packages/sklearn/metrics/_classification.py:1344: UndefinedMetricWarning: Precision is ill-defined and being set to 0.0 in labels with no predicted samples. Use `zero_division` parameter to control this behavior.\n",
      "  _warn_prf(average, modifier, msg_start, len(result))\n"
     ]
    },
    {
     "name": "stdout",
     "output_type": "stream",
     "text": [
      "Fold 7\n"
     ]
    },
    {
     "name": "stderr",
     "output_type": "stream",
     "text": [
      "/Users/ssiby/anaconda3/lib/python3.10/site-packages/sklearn/metrics/_classification.py:1344: UndefinedMetricWarning: Precision is ill-defined and being set to 0.0 in labels with no predicted samples. Use `zero_division` parameter to control this behavior.\n",
      "  _warn_prf(average, modifier, msg_start, len(result))\n"
     ]
    },
    {
     "name": "stdout",
     "output_type": "stream",
     "text": [
      "Fold 8\n"
     ]
    },
    {
     "name": "stderr",
     "output_type": "stream",
     "text": [
      "/Users/ssiby/anaconda3/lib/python3.10/site-packages/sklearn/metrics/_classification.py:1344: UndefinedMetricWarning: Precision is ill-defined and being set to 0.0 in labels with no predicted samples. Use `zero_division` parameter to control this behavior.\n",
      "  _warn_prf(average, modifier, msg_start, len(result))\n"
     ]
    },
    {
     "name": "stdout",
     "output_type": "stream",
     "text": [
      "Fold 9\n",
      "{'score': {'accuracy': (0.23735083532219572, 0.0422860578107602), 'precision': (0.22207697452242048, 0.04339539513707983), 'recall': (0.23434427803379415, 0.04274471940965974), 'f1score': (0.22049925022198189, 0.04201441264771008)}, 'features': [('bytes_outgoing', 0.11007002949784997, 0.03701652344744151), ('n_outgoing', 0.022451480581773542, 0.04491504551985203), ('bytes_%_in', 0.1122220777623475, 0.007324704426858989), ('bytes_%_out', 0.09836886450967362, 0.03288345106986739), ('time_outgoing_p25', 0.10619589614317201, 0.00365029381384649), ('time_p25', 0.09220302349399064, 0.03139117543776198), ('time_incoming_p25', 0.08159120240840165, 0.04115525712292007), ('delta_rates_20_3', 0.061669916447412446, 0.051743438355156164), ('delta_rate_1', 0.04824669221032485, 0.049393186917798426), ('hist_1003', 0.06740214133293475, 0.005184420019478564), ('hist_1337', 0.0794060896964733, 0.026685826893341574), ('hist_6019', 0.01848450481462282, 0.02265348863047864), ('delta_rate_avg', 0.012291453536310473, 0.036874360608931414), ('delta_rates_20_sum', 0.033738771979518474, 0.05156942355771788), ('bytes_incoming', 0.01071505404431418, 0.032145162132942544), ('intertime_outgoing_p75', 0.022524224632776334, 0.045050822167534504), ('n_total', 0.022418576908103442, 0.04484179329292874)]}\n",
      "***************** Working dummies=22\n",
      "Dummies cost [4509600.65862069, 5056276.261123878, 18.96762552103861, 175.5517448046225]\n",
      "Skipping sahafah24.com only 19 samples\n",
      "Skipping 9quotes.com only 19 samples\n",
      "Skipping bieporn.com only 17 samples\n",
      "Skipping faktabmr.com only 14 samples\n",
      "Skipping miglianicocalcio.net only 14 samples\n",
      "Skipping www.cscpro.org only 14 samples\n",
      "Skipping levitra100pudoff.com only 14 samples\n",
      "Skipping megagroup.ir only 13 samples\n",
      "Skipping educortex.in only 12 samples\n",
      "Skipping arthurmurray.com only 13 samples\n",
      "Skipping hitburada.com only 13 samples\n",
      "Skipping odlotw.blogspot.com only 13 samples\n",
      "Skipping funakoshikarateaustralia.com.au only 13 samples\n",
      "Skipping whoisdog.com only 13 samples\n",
      "Skipping ksgroupscans.com only 1 samples\n",
      "Skipping kk-vine.at only 13 samples\n",
      "Skipping myegypthost.com only 13 samples\n",
      "Skipping matchingimages.com only 13 samples\n",
      "Skipping onlinecasino002.com only 10 samples\n",
      "Skipping kayseriolaylari.com only 9 samples\n",
      "Skipping hpsconline.in only 1 samples\n",
      "[feature_extract] Number of classes 124\n",
      "[feature_extract] Number of features 123\n",
      "[feature_extract] Number of samples 4188\n",
      "[feature_extract] Number of labels 4188\n",
      "Number of classes 124\n",
      "Number of features 123\n",
      "Number of samples 4188\n",
      "Number of labels 4188\n",
      "Fold 0\n",
      "Fold 1\n"
     ]
    },
    {
     "name": "stderr",
     "output_type": "stream",
     "text": [
      "/Users/ssiby/anaconda3/lib/python3.10/site-packages/sklearn/metrics/_classification.py:1344: UndefinedMetricWarning: Precision is ill-defined and being set to 0.0 in labels with no predicted samples. Use `zero_division` parameter to control this behavior.\n",
      "  _warn_prf(average, modifier, msg_start, len(result))\n"
     ]
    },
    {
     "name": "stdout",
     "output_type": "stream",
     "text": [
      "Fold 2\n"
     ]
    },
    {
     "name": "stderr",
     "output_type": "stream",
     "text": [
      "/Users/ssiby/anaconda3/lib/python3.10/site-packages/sklearn/metrics/_classification.py:1344: UndefinedMetricWarning: Precision is ill-defined and being set to 0.0 in labels with no predicted samples. Use `zero_division` parameter to control this behavior.\n",
      "  _warn_prf(average, modifier, msg_start, len(result))\n"
     ]
    },
    {
     "name": "stdout",
     "output_type": "stream",
     "text": [
      "Fold 3\n",
      "Fold 4\n",
      "Fold 5\n"
     ]
    },
    {
     "name": "stderr",
     "output_type": "stream",
     "text": [
      "/Users/ssiby/anaconda3/lib/python3.10/site-packages/sklearn/metrics/_classification.py:1344: UndefinedMetricWarning: Precision is ill-defined and being set to 0.0 in labels with no predicted samples. Use `zero_division` parameter to control this behavior.\n",
      "  _warn_prf(average, modifier, msg_start, len(result))\n"
     ]
    },
    {
     "name": "stdout",
     "output_type": "stream",
     "text": [
      "Fold 6\n"
     ]
    },
    {
     "name": "stderr",
     "output_type": "stream",
     "text": [
      "/Users/ssiby/anaconda3/lib/python3.10/site-packages/sklearn/metrics/_classification.py:1344: UndefinedMetricWarning: Precision is ill-defined and being set to 0.0 in labels with no predicted samples. Use `zero_division` parameter to control this behavior.\n",
      "  _warn_prf(average, modifier, msg_start, len(result))\n"
     ]
    },
    {
     "name": "stdout",
     "output_type": "stream",
     "text": [
      "Fold 7\n"
     ]
    },
    {
     "name": "stderr",
     "output_type": "stream",
     "text": [
      "/Users/ssiby/anaconda3/lib/python3.10/site-packages/sklearn/metrics/_classification.py:1344: UndefinedMetricWarning: Precision is ill-defined and being set to 0.0 in labels with no predicted samples. Use `zero_division` parameter to control this behavior.\n",
      "  _warn_prf(average, modifier, msg_start, len(result))\n"
     ]
    },
    {
     "name": "stdout",
     "output_type": "stream",
     "text": [
      "Fold 8\n",
      "Fold 9\n"
     ]
    },
    {
     "name": "stderr",
     "output_type": "stream",
     "text": [
      "/Users/ssiby/anaconda3/lib/python3.10/site-packages/sklearn/metrics/_classification.py:1344: UndefinedMetricWarning: Precision is ill-defined and being set to 0.0 in labels with no predicted samples. Use `zero_division` parameter to control this behavior.\n",
      "  _warn_prf(average, modifier, msg_start, len(result))\n"
     ]
    },
    {
     "name": "stdout",
     "output_type": "stream",
     "text": [
      "{'score': {'accuracy': (0.2159904534606205, 0.03682307647911348), 'precision': (0.2034644868361662, 0.03815038730761883), 'recall': (0.21303091397849458, 0.03720434067728682), 'f1score': (0.20103177189426966, 0.037228493433001025)}, 'features': [('bytes_outgoing', 0.11413260668345464, 0.038729043213150724), ('time_outgoing_p25', 0.10613850818781663, 0.004994034924662633), ('bytes_%_out', 0.11319639980834373, 0.0027470274530347286), ('time_incoming_p25', 0.10212668904952427, 0.006012562065297374), ('bytes_%_in', 0.11293456561062172, 0.0030185640142475875), ('hist_2341', 0.01908444068154875, 0.038180062068908734), ('delta_rates_20_3', 0.0866775616554647, 0.03160580522015617), ('hist_1337', 0.0351678895956055, 0.043092070264412724), ('delta_rate_1', 0.0634077383978694, 0.042480119820566514), ('hist_1003', 0.06660176707934747, 0.008072680053364931), ('time_p25', 0.08004069061335503, 0.04011366855618996), ('hist_6019', 0.019861231812307773, 0.0243418564977234), ('n_incoming', 0.03437155802541528, 0.052594480929463706), ('n_outgoing', 0.011134727908197615, 0.03340418372459285), ('intertime_outgoing_p75', 0.011501653834632709, 0.034504961503898125), ('delta_rate_std', 0.011668650947504654, 0.03500595284251396), ('delta_rates_20_sum', 0.011953320108990112, 0.035859960326970336)]}\n",
      "***************** Working dummies=23\n",
      "Dummies cost [4796035.644827587, 5302857.486863618, 19.11643282551211, 183.91215900541508]\n",
      "Skipping sahafah24.com only 19 samples\n",
      "Skipping 9quotes.com only 19 samples\n",
      "Skipping bieporn.com only 17 samples\n",
      "Skipping faktabmr.com only 14 samples\n",
      "Skipping miglianicocalcio.net only 14 samples\n",
      "Skipping www.cscpro.org only 14 samples\n",
      "Skipping levitra100pudoff.com only 14 samples\n",
      "Skipping megagroup.ir only 13 samples\n",
      "Skipping educortex.in only 12 samples\n",
      "Skipping arthurmurray.com only 13 samples\n",
      "Skipping hitburada.com only 13 samples\n",
      "Skipping odlotw.blogspot.com only 13 samples\n",
      "Skipping funakoshikarateaustralia.com.au only 13 samples\n",
      "Skipping whoisdog.com only 13 samples\n",
      "Skipping ksgroupscans.com only 1 samples\n",
      "Skipping kk-vine.at only 13 samples\n",
      "Skipping myegypthost.com only 13 samples\n",
      "Skipping matchingimages.com only 13 samples\n",
      "Skipping onlinecasino002.com only 10 samples\n",
      "Skipping kayseriolaylari.com only 9 samples\n",
      "Skipping hpsconline.in only 1 samples\n",
      "[feature_extract] Number of classes 124\n",
      "[feature_extract] Number of features 123\n",
      "[feature_extract] Number of samples 4188\n",
      "[feature_extract] Number of labels 4188\n",
      "Number of classes 124\n",
      "Number of features 123\n",
      "Number of samples 4188\n",
      "Number of labels 4188\n",
      "Fold 0\n",
      "Fold 1\n",
      "Fold 2\n",
      "Fold 3\n",
      "Fold 4\n"
     ]
    },
    {
     "name": "stderr",
     "output_type": "stream",
     "text": [
      "/Users/ssiby/anaconda3/lib/python3.10/site-packages/sklearn/metrics/_classification.py:1344: UndefinedMetricWarning: Precision is ill-defined and being set to 0.0 in labels with no predicted samples. Use `zero_division` parameter to control this behavior.\n",
      "  _warn_prf(average, modifier, msg_start, len(result))\n"
     ]
    },
    {
     "name": "stdout",
     "output_type": "stream",
     "text": [
      "Fold 5\n"
     ]
    },
    {
     "name": "stderr",
     "output_type": "stream",
     "text": [
      "/Users/ssiby/anaconda3/lib/python3.10/site-packages/sklearn/metrics/_classification.py:1344: UndefinedMetricWarning: Precision is ill-defined and being set to 0.0 in labels with no predicted samples. Use `zero_division` parameter to control this behavior.\n",
      "  _warn_prf(average, modifier, msg_start, len(result))\n"
     ]
    },
    {
     "name": "stdout",
     "output_type": "stream",
     "text": [
      "Fold 6\n"
     ]
    },
    {
     "name": "stderr",
     "output_type": "stream",
     "text": [
      "/Users/ssiby/anaconda3/lib/python3.10/site-packages/sklearn/metrics/_classification.py:1344: UndefinedMetricWarning: Precision is ill-defined and being set to 0.0 in labels with no predicted samples. Use `zero_division` parameter to control this behavior.\n",
      "  _warn_prf(average, modifier, msg_start, len(result))\n"
     ]
    },
    {
     "name": "stdout",
     "output_type": "stream",
     "text": [
      "Fold 7\n",
      "Fold 8\n",
      "Fold 9\n"
     ]
    },
    {
     "name": "stderr",
     "output_type": "stream",
     "text": [
      "/Users/ssiby/anaconda3/lib/python3.10/site-packages/sklearn/metrics/_classification.py:1344: UndefinedMetricWarning: Precision is ill-defined and being set to 0.0 in labels with no predicted samples. Use `zero_division` parameter to control this behavior.\n",
      "  _warn_prf(average, modifier, msg_start, len(result))\n"
     ]
    },
    {
     "name": "stdout",
     "output_type": "stream",
     "text": [
      "{'score': {'accuracy': (0.19093078758949883, 0.02042630401983734), 'precision': (0.1816707445911668, 0.024749149270017045), 'recall': (0.18883448540706602, 0.01983069927819881), 'f1score': (0.17775953982745643, 0.020415696816515873)}, 'features': [('bytes_total', 0.012678696696329608, 0.038036090088988825), ('bytes_%_in', 0.11619088815582787, 0.009655380342939009), ('bytes_%_out', 0.08983028107866182, 0.04506067360861602), ('time_outgoing_p25', 0.10901404666334484, 0.0030337235332433404), ('time_incoming_p25', 0.08375844484696686, 0.04208232165575482), ('time_p25', 0.09361185142407139, 0.03163141467491281), ('delta_rates_20_3', 0.07952136100276372, 0.026591446539172312), ('hist_1337', 0.06176968347305169, 0.0405698153481793), ('delta_rate_1', 0.08999242954078937, 0.007411714614635934), ('hist_1003', 0.06434226423397398, 0.005150618608773177), ('bytes_outgoing', 0.10147342862012634, 0.05098600968034295), ('n_outgoing', 0.011055408166982274, 0.03316622450094682), ('n_total', 0.01188060026830218, 0.035641800804906545), ('hist_6019', 0.0049520638513377985, 0.014856191554013395), ('delta_rate_std', 0.011840657867903333, 0.03552197360371), ('hist_2675', 0.01634860077264906, 0.03271013275908554), ('bytes_incoming', 0.011494233340825704, 0.03448270002247711), ('hist_2341', 0.018886540302779135, 0.037773281145299265), ('delta_rates_20_sum', 0.011358519693313064, 0.03407555907993919)]}\n",
      "***************** Working dummies=24\n",
      "Dummies cost [4970240.95862069, 5519776.462129149, 19.623700025747098, 192.25048630720755]\n",
      "Skipping sahafah24.com only 19 samples\n",
      "Skipping 9quotes.com only 19 samples\n",
      "Skipping bieporn.com only 17 samples\n",
      "Skipping faktabmr.com only 14 samples\n",
      "Skipping miglianicocalcio.net only 14 samples\n",
      "Skipping www.cscpro.org only 14 samples\n",
      "Skipping levitra100pudoff.com only 14 samples\n",
      "Skipping megagroup.ir only 13 samples\n",
      "Skipping educortex.in only 12 samples\n",
      "Skipping arthurmurray.com only 13 samples\n",
      "Skipping hitburada.com only 13 samples\n",
      "Skipping odlotw.blogspot.com only 13 samples\n",
      "Skipping funakoshikarateaustralia.com.au only 13 samples\n",
      "Skipping whoisdog.com only 13 samples\n",
      "Skipping ksgroupscans.com only 1 samples\n",
      "Skipping kk-vine.at only 13 samples\n",
      "Skipping myegypthost.com only 13 samples\n",
      "Skipping matchingimages.com only 13 samples\n",
      "Skipping onlinecasino002.com only 10 samples\n",
      "Skipping kayseriolaylari.com only 9 samples\n",
      "Skipping hpsconline.in only 1 samples\n",
      "[feature_extract] Number of classes 124\n",
      "[feature_extract] Number of features 123\n",
      "[feature_extract] Number of samples 4188\n",
      "[feature_extract] Number of labels 4188\n",
      "Number of classes 124\n",
      "Number of features 123\n",
      "Number of samples 4188\n",
      "Number of labels 4188\n",
      "Fold 0\n",
      "Fold 1\n"
     ]
    },
    {
     "name": "stderr",
     "output_type": "stream",
     "text": [
      "/Users/ssiby/anaconda3/lib/python3.10/site-packages/sklearn/metrics/_classification.py:1344: UndefinedMetricWarning: Precision is ill-defined and being set to 0.0 in labels with no predicted samples. Use `zero_division` parameter to control this behavior.\n",
      "  _warn_prf(average, modifier, msg_start, len(result))\n"
     ]
    },
    {
     "name": "stdout",
     "output_type": "stream",
     "text": [
      "Fold 2\n",
      "Fold 3\n"
     ]
    },
    {
     "name": "stderr",
     "output_type": "stream",
     "text": [
      "/Users/ssiby/anaconda3/lib/python3.10/site-packages/sklearn/metrics/_classification.py:1344: UndefinedMetricWarning: Precision is ill-defined and being set to 0.0 in labels with no predicted samples. Use `zero_division` parameter to control this behavior.\n",
      "  _warn_prf(average, modifier, msg_start, len(result))\n"
     ]
    },
    {
     "name": "stdout",
     "output_type": "stream",
     "text": [
      "Fold 4\n"
     ]
    },
    {
     "name": "stderr",
     "output_type": "stream",
     "text": [
      "/Users/ssiby/anaconda3/lib/python3.10/site-packages/sklearn/metrics/_classification.py:1344: UndefinedMetricWarning: Precision is ill-defined and being set to 0.0 in labels with no predicted samples. Use `zero_division` parameter to control this behavior.\n",
      "  _warn_prf(average, modifier, msg_start, len(result))\n"
     ]
    },
    {
     "name": "stdout",
     "output_type": "stream",
     "text": [
      "Fold 5\n",
      "Fold 6\n",
      "Fold 7\n",
      "Fold 8\n"
     ]
    },
    {
     "name": "stderr",
     "output_type": "stream",
     "text": [
      "/Users/ssiby/anaconda3/lib/python3.10/site-packages/sklearn/metrics/_classification.py:1344: UndefinedMetricWarning: Precision is ill-defined and being set to 0.0 in labels with no predicted samples. Use `zero_division` parameter to control this behavior.\n",
      "  _warn_prf(average, modifier, msg_start, len(result))\n"
     ]
    },
    {
     "name": "stdout",
     "output_type": "stream",
     "text": [
      "Fold 9\n"
     ]
    },
    {
     "name": "stderr",
     "output_type": "stream",
     "text": [
      "/Users/ssiby/anaconda3/lib/python3.10/site-packages/sklearn/metrics/_classification.py:1344: UndefinedMetricWarning: Precision is ill-defined and being set to 0.0 in labels with no predicted samples. Use `zero_division` parameter to control this behavior.\n",
      "  _warn_prf(average, modifier, msg_start, len(result))\n"
     ]
    },
    {
     "name": "stdout",
     "output_type": "stream",
     "text": [
      "{'score': {'accuracy': (0.21324582338902148, 0.041547501535345685), 'precision': (0.1999994109701178, 0.04413210326609346), 'recall': (0.20961117511520738, 0.04156994400650052), 'f1score': (0.1974920694151276, 0.041638467284723445)}, 'features': [('delta_rate_1', 0.07738703391236354, 0.04079434152624718), ('n_outgoing', 0.02239263088259179, 0.04484608721355519), ('time_outgoing_p25', 0.11003929561851603, 0.00867829439651193), ('time_incoming_p25', 0.0934189491559748, 0.031511184283324487), ('delta_rates_20_sum', 0.022703628195744747, 0.04540960709781316), ('bytes_%_in', 0.10261598445882411, 0.03515679749261011), ('bytes_%_out', 0.08969838549398379, 0.04545846668909637), ('hist_1337', 0.07249150801344055, 0.036324866820824996), ('hist_1003', 0.06416223648949174, 0.0071537353336912895), ('hist_6019', 0.014141941149537294, 0.021669019269093728), ('bytes_outgoing', 0.10079549932964182, 0.05076299357171007), ('delta_rates_20_3', 0.06438983657586775, 0.04285246652473674), ('time_p25', 0.07097063313016982, 0.04655314299770865), ('delta_rate_avg', 0.011666821325848158, 0.03500046397754447), ('hist_2341', 0.04697361119490749, 0.047080661098880004), ('delta_rate_std', 0.012057165153530362, 0.036171495460591084), ('intertime_incoming_p75', 0.012934137749167818, 0.03880241324750345), ('bytes_total', 0.011160702170398386, 0.03348210651119516)]}\n",
      "***************** Working dummies=25\n",
      "Dummies cost [5177727.9206896555, 5704231.612821617, 19.803322786791696, 199.2340863215514]\n",
      "Skipping sahafah24.com only 19 samples\n",
      "Skipping 9quotes.com only 19 samples\n",
      "Skipping bieporn.com only 17 samples\n",
      "Skipping faktabmr.com only 14 samples\n",
      "Skipping miglianicocalcio.net only 14 samples\n",
      "Skipping www.cscpro.org only 14 samples\n",
      "Skipping levitra100pudoff.com only 14 samples\n",
      "Skipping megagroup.ir only 13 samples\n",
      "Skipping educortex.in only 12 samples\n",
      "Skipping arthurmurray.com only 13 samples\n",
      "Skipping hitburada.com only 13 samples\n",
      "Skipping odlotw.blogspot.com only 13 samples\n",
      "Skipping funakoshikarateaustralia.com.au only 13 samples\n",
      "Skipping whoisdog.com only 13 samples\n",
      "Skipping ksgroupscans.com only 1 samples\n",
      "Skipping kk-vine.at only 13 samples\n",
      "Skipping myegypthost.com only 13 samples\n",
      "Skipping matchingimages.com only 13 samples\n",
      "Skipping onlinecasino002.com only 10 samples\n",
      "Skipping kayseriolaylari.com only 9 samples\n",
      "Skipping hpsconline.in only 1 samples\n",
      "[feature_extract] Number of classes 124\n",
      "[feature_extract] Number of features 123\n",
      "[feature_extract] Number of samples 4188\n",
      "[feature_extract] Number of labels 4188\n",
      "Number of classes 124\n",
      "Number of features 123\n",
      "Number of samples 4188\n",
      "Number of labels 4188\n",
      "Fold 0\n",
      "Fold 1\n"
     ]
    },
    {
     "name": "stderr",
     "output_type": "stream",
     "text": [
      "/Users/ssiby/anaconda3/lib/python3.10/site-packages/sklearn/metrics/_classification.py:1344: UndefinedMetricWarning: Precision is ill-defined and being set to 0.0 in labels with no predicted samples. Use `zero_division` parameter to control this behavior.\n",
      "  _warn_prf(average, modifier, msg_start, len(result))\n"
     ]
    },
    {
     "name": "stdout",
     "output_type": "stream",
     "text": [
      "Fold 2\n",
      "Fold 3\n"
     ]
    },
    {
     "name": "stderr",
     "output_type": "stream",
     "text": [
      "/Users/ssiby/anaconda3/lib/python3.10/site-packages/sklearn/metrics/_classification.py:1344: UndefinedMetricWarning: Precision is ill-defined and being set to 0.0 in labels with no predicted samples. Use `zero_division` parameter to control this behavior.\n",
      "  _warn_prf(average, modifier, msg_start, len(result))\n"
     ]
    },
    {
     "name": "stdout",
     "output_type": "stream",
     "text": [
      "Fold 4\n",
      "Fold 5\n",
      "Fold 6\n",
      "Fold 7\n",
      "Fold 8\n"
     ]
    },
    {
     "name": "stderr",
     "output_type": "stream",
     "text": [
      "/Users/ssiby/anaconda3/lib/python3.10/site-packages/sklearn/metrics/_classification.py:1344: UndefinedMetricWarning: Precision is ill-defined and being set to 0.0 in labels with no predicted samples. Use `zero_division` parameter to control this behavior.\n",
      "  _warn_prf(average, modifier, msg_start, len(result))\n"
     ]
    },
    {
     "name": "stdout",
     "output_type": "stream",
     "text": [
      "Fold 9\n"
     ]
    },
    {
     "name": "stderr",
     "output_type": "stream",
     "text": [
      "/Users/ssiby/anaconda3/lib/python3.10/site-packages/sklearn/metrics/_classification.py:1344: UndefinedMetricWarning: Precision is ill-defined and being set to 0.0 in labels with no predicted samples. Use `zero_division` parameter to control this behavior.\n",
      "  _warn_prf(average, modifier, msg_start, len(result))\n"
     ]
    },
    {
     "name": "stdout",
     "output_type": "stream",
     "text": [
      "{'score': {'accuracy': (0.18615751789976134, 0.0330744882164566), 'precision': (0.17350358218894746, 0.03667735420258102), 'recall': (0.18349078341013822, 0.03300278715969338), 'f1score': (0.17194947856385379, 0.03357802164613338)}, 'features': [('bytes_outgoing', 0.1267567135161075, 0.005090162033060821), ('bytes_%_out', 0.10344019253966907, 0.03497737784010507), ('bytes_%_in', 0.09001125830295864, 0.045115341969301115), ('time_outgoing_p25', 0.10856048333798833, 0.004761493306639313), ('time_incoming_p25', 0.09227841292406766, 0.031247015575448917), ('time_p25', 0.09189243855049516, 0.031009272639559063), ('hist_2341', 0.019440718887824088, 0.03889196782281313), ('delta_rates_20_3', 0.07831974794689506, 0.026146461792189653), ('delta_rate_1', 0.08786373911055081, 0.008088145613834913), ('hist_1003', 0.06569522983655708, 0.003040176906074424), ('n_outgoing', 0.034594133411500645, 0.052844771084355674), ('hist_1337', 0.06117262854383911, 0.04006759225109882), ('hist_6019', 0.005083380088862945, 0.015250140266588837), ('delta_rate_std', 0.01119240748405668, 0.03357722245217004), ('bytes_total', 0.010895501620652477, 0.032686504861957434), ('bytes_incoming', 0.012803013897974749, 0.03840904169392425)]}\n",
      "***************** Working dummies=26\n",
      "Dummies cost [5355818.403448276, 5900052.435869811, 19.979720480551016, 205.84197050201158]\n",
      "Skipping sahafah24.com only 19 samples\n",
      "Skipping 9quotes.com only 19 samples\n",
      "Skipping bieporn.com only 17 samples\n",
      "Skipping faktabmr.com only 14 samples\n",
      "Skipping miglianicocalcio.net only 14 samples\n",
      "Skipping www.cscpro.org only 14 samples\n",
      "Skipping levitra100pudoff.com only 14 samples\n",
      "Skipping megagroup.ir only 13 samples\n",
      "Skipping educortex.in only 12 samples\n",
      "Skipping arthurmurray.com only 13 samples\n",
      "Skipping hitburada.com only 13 samples\n",
      "Skipping odlotw.blogspot.com only 13 samples\n",
      "Skipping funakoshikarateaustralia.com.au only 13 samples\n",
      "Skipping whoisdog.com only 13 samples\n",
      "Skipping ksgroupscans.com only 1 samples\n",
      "Skipping kk-vine.at only 13 samples\n",
      "Skipping myegypthost.com only 13 samples\n",
      "Skipping matchingimages.com only 13 samples\n",
      "Skipping onlinecasino002.com only 10 samples\n",
      "Skipping kayseriolaylari.com only 9 samples\n",
      "Skipping hpsconline.in only 1 samples\n",
      "[feature_extract] Number of classes 124\n",
      "[feature_extract] Number of features 123\n",
      "[feature_extract] Number of samples 4188\n",
      "[feature_extract] Number of labels 4188\n",
      "Number of classes 124\n",
      "Number of features 123\n",
      "Number of samples 4188\n",
      "Number of labels 4188\n",
      "Fold 0\n"
     ]
    },
    {
     "name": "stderr",
     "output_type": "stream",
     "text": [
      "/Users/ssiby/anaconda3/lib/python3.10/site-packages/sklearn/metrics/_classification.py:1344: UndefinedMetricWarning: Precision is ill-defined and being set to 0.0 in labels with no predicted samples. Use `zero_division` parameter to control this behavior.\n",
      "  _warn_prf(average, modifier, msg_start, len(result))\n"
     ]
    },
    {
     "name": "stdout",
     "output_type": "stream",
     "text": [
      "Fold 1\n"
     ]
    },
    {
     "name": "stderr",
     "output_type": "stream",
     "text": [
      "/Users/ssiby/anaconda3/lib/python3.10/site-packages/sklearn/metrics/_classification.py:1344: UndefinedMetricWarning: Precision is ill-defined and being set to 0.0 in labels with no predicted samples. Use `zero_division` parameter to control this behavior.\n",
      "  _warn_prf(average, modifier, msg_start, len(result))\n"
     ]
    },
    {
     "name": "stdout",
     "output_type": "stream",
     "text": [
      "Fold 2\n",
      "Fold 3\n",
      "Fold 4\n",
      "Fold 5\n"
     ]
    },
    {
     "name": "stderr",
     "output_type": "stream",
     "text": [
      "/Users/ssiby/anaconda3/lib/python3.10/site-packages/sklearn/metrics/_classification.py:1344: UndefinedMetricWarning: Precision is ill-defined and being set to 0.0 in labels with no predicted samples. Use `zero_division` parameter to control this behavior.\n",
      "  _warn_prf(average, modifier, msg_start, len(result))\n"
     ]
    },
    {
     "name": "stdout",
     "output_type": "stream",
     "text": [
      "Fold 6\n",
      "Fold 7\n"
     ]
    },
    {
     "name": "stderr",
     "output_type": "stream",
     "text": [
      "/Users/ssiby/anaconda3/lib/python3.10/site-packages/sklearn/metrics/_classification.py:1344: UndefinedMetricWarning: Precision is ill-defined and being set to 0.0 in labels with no predicted samples. Use `zero_division` parameter to control this behavior.\n",
      "  _warn_prf(average, modifier, msg_start, len(result))\n"
     ]
    },
    {
     "name": "stdout",
     "output_type": "stream",
     "text": [
      "Fold 8\n"
     ]
    },
    {
     "name": "stderr",
     "output_type": "stream",
     "text": [
      "/Users/ssiby/anaconda3/lib/python3.10/site-packages/sklearn/metrics/_classification.py:1344: UndefinedMetricWarning: Precision is ill-defined and being set to 0.0 in labels with no predicted samples. Use `zero_division` parameter to control this behavior.\n",
      "  _warn_prf(average, modifier, msg_start, len(result))\n"
     ]
    },
    {
     "name": "stdout",
     "output_type": "stream",
     "text": [
      "Fold 9\n"
     ]
    },
    {
     "name": "stderr",
     "output_type": "stream",
     "text": [
      "/Users/ssiby/anaconda3/lib/python3.10/site-packages/sklearn/metrics/_classification.py:1344: UndefinedMetricWarning: Precision is ill-defined and being set to 0.0 in labels with no predicted samples. Use `zero_division` parameter to control this behavior.\n",
      "  _warn_prf(average, modifier, msg_start, len(result))\n"
     ]
    },
    {
     "name": "stdout",
     "output_type": "stream",
     "text": [
      "{'score': {'accuracy': (0.19463007159904536, 0.03594817981598368), 'precision': (0.1873873592895115, 0.03962434077262058), 'recall': (0.19097350230414742, 0.036293525895083126), 'f1score': (0.1808528332552644, 0.036949031077622346)}, 'features': [('bytes_outgoing', 0.11394842210823808, 0.0386012820490911), ('time_outgoing_p25', 0.08818451155057543, 0.044327710301634196), ('time_incoming_p25', 0.07446653431967164, 0.04899975589104587), ('bytes_%_out', 0.09907565861869785, 0.03314932696054279), ('bytes_%_in', 0.11156746846381416, 0.006597800775259168), ('n_outgoing', 0.01104532822869048, 0.03313598468607144), ('hist_1337', 0.07252778032819801, 0.03634898316468706), ('delta_rates_20_3', 0.08753431944995435, 0.0031903589572018715), ('delta_rate_1', 0.08703341912484742, 0.004364987082892502), ('hist_1003', 0.06622854739334505, 0.004945565308370135), ('time_p25', 0.0795362410023563, 0.053127224170722805), ('delta_rate_avg', 0.01227165432239877, 0.03681496296719632), ('bytes_total', 0.022730105608855466, 0.045489926281321605), ('hist_6019', 0.009261423168237984, 0.018522863201295384), ('delta_rates_20_sum', 0.011370743713815818, 0.03411223114144746), ('bytes_incoming', 0.021623350360872155, 0.04325062339139149), ('hist_2341', 0.00949402177991958, 0.02848206533975874), ('intertime_outgoing_p75', 0.011290362859829381, 0.033871088579488146), ('n_incoming', 0.010810107597682053, 0.03243032279304616)]}\n",
      "***************** Working dummies=27\n",
      "Dummies cost [5611275.217241379, 6133024.953313544, 20.38626427271955, 214.5869413648695]\n",
      "Skipping sahafah24.com only 19 samples\n",
      "Skipping 9quotes.com only 19 samples\n",
      "Skipping bieporn.com only 17 samples\n",
      "Skipping faktabmr.com only 14 samples\n",
      "Skipping miglianicocalcio.net only 14 samples\n",
      "Skipping www.cscpro.org only 14 samples\n",
      "Skipping levitra100pudoff.com only 14 samples\n",
      "Skipping megagroup.ir only 13 samples\n",
      "Skipping educortex.in only 12 samples\n",
      "Skipping arthurmurray.com only 13 samples\n",
      "Skipping hitburada.com only 13 samples\n",
      "Skipping odlotw.blogspot.com only 13 samples\n",
      "Skipping funakoshikarateaustralia.com.au only 13 samples\n",
      "Skipping whoisdog.com only 13 samples\n",
      "Skipping ksgroupscans.com only 1 samples\n",
      "Skipping kk-vine.at only 13 samples\n",
      "Skipping myegypthost.com only 13 samples\n",
      "Skipping matchingimages.com only 13 samples\n",
      "Skipping onlinecasino002.com only 10 samples\n",
      "Skipping kayseriolaylari.com only 9 samples\n",
      "Skipping hpsconline.in only 1 samples\n",
      "[feature_extract] Number of classes 124\n",
      "[feature_extract] Number of features 123\n",
      "[feature_extract] Number of samples 4188\n",
      "[feature_extract] Number of labels 4188\n",
      "Number of classes 124\n",
      "Number of features 123\n",
      "Number of samples 4188\n",
      "Number of labels 4188\n",
      "Fold 0\n"
     ]
    },
    {
     "name": "stderr",
     "output_type": "stream",
     "text": [
      "/Users/ssiby/anaconda3/lib/python3.10/site-packages/sklearn/metrics/_classification.py:1344: UndefinedMetricWarning: Precision is ill-defined and being set to 0.0 in labels with no predicted samples. Use `zero_division` parameter to control this behavior.\n",
      "  _warn_prf(average, modifier, msg_start, len(result))\n"
     ]
    },
    {
     "name": "stdout",
     "output_type": "stream",
     "text": [
      "Fold 1\n",
      "Fold 2\n",
      "Fold 3\n",
      "Fold 4\n"
     ]
    },
    {
     "name": "stderr",
     "output_type": "stream",
     "text": [
      "/Users/ssiby/anaconda3/lib/python3.10/site-packages/sklearn/metrics/_classification.py:1344: UndefinedMetricWarning: Precision is ill-defined and being set to 0.0 in labels with no predicted samples. Use `zero_division` parameter to control this behavior.\n",
      "  _warn_prf(average, modifier, msg_start, len(result))\n"
     ]
    },
    {
     "name": "stdout",
     "output_type": "stream",
     "text": [
      "Fold 5\n"
     ]
    },
    {
     "name": "stderr",
     "output_type": "stream",
     "text": [
      "/Users/ssiby/anaconda3/lib/python3.10/site-packages/sklearn/metrics/_classification.py:1344: UndefinedMetricWarning: Precision is ill-defined and being set to 0.0 in labels with no predicted samples. Use `zero_division` parameter to control this behavior.\n",
      "  _warn_prf(average, modifier, msg_start, len(result))\n"
     ]
    },
    {
     "name": "stdout",
     "output_type": "stream",
     "text": [
      "Fold 6\n"
     ]
    },
    {
     "name": "stderr",
     "output_type": "stream",
     "text": [
      "/Users/ssiby/anaconda3/lib/python3.10/site-packages/sklearn/metrics/_classification.py:1344: UndefinedMetricWarning: Precision is ill-defined and being set to 0.0 in labels with no predicted samples. Use `zero_division` parameter to control this behavior.\n",
      "  _warn_prf(average, modifier, msg_start, len(result))\n"
     ]
    },
    {
     "name": "stdout",
     "output_type": "stream",
     "text": [
      "Fold 7\n",
      "Fold 8\n",
      "Fold 9\n"
     ]
    },
    {
     "name": "stderr",
     "output_type": "stream",
     "text": [
      "/Users/ssiby/anaconda3/lib/python3.10/site-packages/sklearn/metrics/_classification.py:1344: UndefinedMetricWarning: Precision is ill-defined and being set to 0.0 in labels with no predicted samples. Use `zero_division` parameter to control this behavior.\n",
      "  _warn_prf(average, modifier, msg_start, len(result))\n"
     ]
    },
    {
     "name": "stdout",
     "output_type": "stream",
     "text": [
      "{'score': {'accuracy': (0.1668257756563246, 0.019973724060055056), 'precision': (0.15350105136382974, 0.016616438360218082), 'recall': (0.16318260368663592, 0.019734453072656765), 'f1score': (0.1529651036596654, 0.01817015579042533)}, 'features': [('delta_rate_1', 0.07898875666250968, 0.02783944517726368), ('bytes_%_out', 0.09996449494856835, 0.034084132600471495), ('n_total', 0.02242109218352393, 0.044860052171865984), ('n_outgoing', 0.023135312614348653, 0.04636288678284841), ('bytes_%_in', 0.1007039835658515, 0.03418862282851058), ('time_outgoing_p25', 0.08570841871228155, 0.042982303393887374), ('time_p25', 0.0937334887950354, 0.03151828494471761), ('time_incoming_p25', 0.08224103320106926, 0.04136864308831071), ('hist_1337', 0.060628887395668386, 0.03973201636116609), ('hist_1003', 0.0621140074246251, 0.003120808815109204), ('bytes_outgoing', 0.09987683854615466, 0.050187205596990116), ('delta_rate_std', 0.08195974972899613, 0.053695316997851135), ('delta_rates_20_3', 0.07885623761323426, 0.027219501579235975), ('hist_2341', 0.008671797333874595, 0.02601539200162379), ('delta_rate_2', 0.009824568042619334, 0.029473704127858002), ('n_incoming', 0.011171333231639317, 0.03351399969491796)]}\n",
      "***************** Working dummies=28\n",
      "Dummies cost [5858198.244827586, 6415670.527708997, 20.613172570814246, 223.27492204617252]\n",
      "Skipping sahafah24.com only 19 samples\n",
      "Skipping 9quotes.com only 19 samples\n",
      "Skipping bieporn.com only 17 samples\n",
      "Skipping faktabmr.com only 14 samples\n",
      "Skipping miglianicocalcio.net only 14 samples\n",
      "Skipping www.cscpro.org only 14 samples\n",
      "Skipping levitra100pudoff.com only 14 samples\n",
      "Skipping megagroup.ir only 13 samples\n",
      "Skipping educortex.in only 12 samples\n",
      "Skipping arthurmurray.com only 13 samples\n",
      "Skipping hitburada.com only 13 samples\n",
      "Skipping odlotw.blogspot.com only 13 samples\n",
      "Skipping funakoshikarateaustralia.com.au only 13 samples\n",
      "Skipping whoisdog.com only 13 samples\n",
      "Skipping ksgroupscans.com only 1 samples\n",
      "Skipping kk-vine.at only 13 samples\n",
      "Skipping myegypthost.com only 13 samples\n",
      "Skipping matchingimages.com only 13 samples\n",
      "Skipping onlinecasino002.com only 10 samples\n",
      "Skipping kayseriolaylari.com only 9 samples\n",
      "Skipping hpsconline.in only 1 samples\n",
      "[feature_extract] Number of classes 124\n",
      "[feature_extract] Number of features 123\n",
      "[feature_extract] Number of samples 4188\n",
      "[feature_extract] Number of labels 4188\n",
      "Number of classes 124\n",
      "Number of features 123\n",
      "Number of samples 4188\n",
      "Number of labels 4188\n",
      "Fold 0\n"
     ]
    },
    {
     "name": "stderr",
     "output_type": "stream",
     "text": [
      "/Users/ssiby/anaconda3/lib/python3.10/site-packages/sklearn/metrics/_classification.py:1344: UndefinedMetricWarning: Precision is ill-defined and being set to 0.0 in labels with no predicted samples. Use `zero_division` parameter to control this behavior.\n",
      "  _warn_prf(average, modifier, msg_start, len(result))\n"
     ]
    },
    {
     "name": "stdout",
     "output_type": "stream",
     "text": [
      "Fold 1\n"
     ]
    },
    {
     "name": "stderr",
     "output_type": "stream",
     "text": [
      "/Users/ssiby/anaconda3/lib/python3.10/site-packages/sklearn/metrics/_classification.py:1344: UndefinedMetricWarning: Precision is ill-defined and being set to 0.0 in labels with no predicted samples. Use `zero_division` parameter to control this behavior.\n",
      "  _warn_prf(average, modifier, msg_start, len(result))\n"
     ]
    },
    {
     "name": "stdout",
     "output_type": "stream",
     "text": [
      "Fold 2\n"
     ]
    },
    {
     "name": "stderr",
     "output_type": "stream",
     "text": [
      "/Users/ssiby/anaconda3/lib/python3.10/site-packages/sklearn/metrics/_classification.py:1344: UndefinedMetricWarning: Precision is ill-defined and being set to 0.0 in labels with no predicted samples. Use `zero_division` parameter to control this behavior.\n",
      "  _warn_prf(average, modifier, msg_start, len(result))\n"
     ]
    },
    {
     "name": "stdout",
     "output_type": "stream",
     "text": [
      "Fold 3\n",
      "Fold 4\n"
     ]
    },
    {
     "name": "stderr",
     "output_type": "stream",
     "text": [
      "/Users/ssiby/anaconda3/lib/python3.10/site-packages/sklearn/metrics/_classification.py:1344: UndefinedMetricWarning: Precision is ill-defined and being set to 0.0 in labels with no predicted samples. Use `zero_division` parameter to control this behavior.\n",
      "  _warn_prf(average, modifier, msg_start, len(result))\n"
     ]
    },
    {
     "name": "stdout",
     "output_type": "stream",
     "text": [
      "Fold 5\n"
     ]
    },
    {
     "name": "stderr",
     "output_type": "stream",
     "text": [
      "/Users/ssiby/anaconda3/lib/python3.10/site-packages/sklearn/metrics/_classification.py:1344: UndefinedMetricWarning: Precision is ill-defined and being set to 0.0 in labels with no predicted samples. Use `zero_division` parameter to control this behavior.\n",
      "  _warn_prf(average, modifier, msg_start, len(result))\n"
     ]
    },
    {
     "name": "stdout",
     "output_type": "stream",
     "text": [
      "Fold 6\n",
      "Fold 7\n",
      "Fold 8\n"
     ]
    },
    {
     "name": "stderr",
     "output_type": "stream",
     "text": [
      "/Users/ssiby/anaconda3/lib/python3.10/site-packages/sklearn/metrics/_classification.py:1344: UndefinedMetricWarning: Precision is ill-defined and being set to 0.0 in labels with no predicted samples. Use `zero_division` parameter to control this behavior.\n",
      "  _warn_prf(average, modifier, msg_start, len(result))\n"
     ]
    },
    {
     "name": "stdout",
     "output_type": "stream",
     "text": [
      "Fold 9\n"
     ]
    },
    {
     "name": "stderr",
     "output_type": "stream",
     "text": [
      "/Users/ssiby/anaconda3/lib/python3.10/site-packages/sklearn/metrics/_classification.py:1344: UndefinedMetricWarning: Precision is ill-defined and being set to 0.0 in labels with no predicted samples. Use `zero_division` parameter to control this behavior.\n",
      "  _warn_prf(average, modifier, msg_start, len(result))\n"
     ]
    },
    {
     "name": "stdout",
     "output_type": "stream",
     "text": [
      "{'score': {'accuracy': (0.1779236276849642, 0.027161802451188703), 'precision': (0.1651511561937682, 0.027656740502649504), 'recall': (0.17540514592933948, 0.02654967040010441), 'f1score': (0.16369345370722566, 0.025419357873442964)}, 'features': [('bytes_outgoing', 0.09802981393590623, 0.0492772549069502), ('delta_rates_20_3', 0.08366877559123487, 0.03129899592983386), ('n_total', 0.023774851013269965, 0.04773075211829303), ('bytes_%_in', 0.1100584806993709, 0.0035603219868375387), ('bytes_%_out', 0.10878411808555288, 0.004424297022086315), ('time_outgoing_p25', 0.09910806544378713, 0.033280466567737185), ('time_incoming_p25', 0.08287145402508196, 0.041699587217447334), ('time_p25', 0.09495448217790847, 0.03223619310352543), ('hist_1337', 0.05324857405361659, 0.04352635981996339), ('hist_1003', 0.0613925096111347, 0.004075652173012294), ('n_outgoing', 0.011003472066098178, 0.033010416198294534), ('hist_6019', 0.004904208122236545, 0.014712624366709634), ('delta_rate_std', 0.011763755196271921, 0.03529126558881576), ('n_incoming', 0.011063021156955751, 0.03318906347086726), ('delta_rate_1', 0.07222312601475415, 0.03714211346782071), ('delta_rate_2', 0.011326297222465939, 0.03397889166739782), ('hist_2341', 0.028690560357825405, 0.043835882368321435), ('bytes_incoming', 0.021888356466014412, 0.0437827494464396), ('bytes_total', 0.011246078760513976, 0.03373823628154193)]}\n",
      "***************** Working dummies=29\n",
      "Dummies cost [6058670.5344827585, 6598913.153498347, 20.99351184599558, 231.5566812263306]\n",
      "Skipping sahafah24.com only 19 samples\n",
      "Skipping 9quotes.com only 19 samples\n",
      "Skipping bieporn.com only 17 samples\n",
      "Skipping faktabmr.com only 14 samples\n",
      "Skipping miglianicocalcio.net only 14 samples\n",
      "Skipping www.cscpro.org only 14 samples\n",
      "Skipping levitra100pudoff.com only 14 samples\n",
      "Skipping megagroup.ir only 13 samples\n",
      "Skipping educortex.in only 12 samples\n",
      "Skipping arthurmurray.com only 13 samples\n",
      "Skipping hitburada.com only 13 samples\n",
      "Skipping odlotw.blogspot.com only 13 samples\n",
      "Skipping funakoshikarateaustralia.com.au only 13 samples\n",
      "Skipping whoisdog.com only 13 samples\n",
      "Skipping ksgroupscans.com only 1 samples\n",
      "Skipping kk-vine.at only 13 samples\n",
      "Skipping myegypthost.com only 13 samples\n",
      "Skipping matchingimages.com only 13 samples\n",
      "Skipping onlinecasino002.com only 10 samples\n",
      "Skipping kayseriolaylari.com only 9 samples\n",
      "Skipping hpsconline.in only 1 samples\n",
      "[feature_extract] Number of classes 124\n",
      "[feature_extract] Number of features 123\n",
      "[feature_extract] Number of samples 4188\n",
      "[feature_extract] Number of labels 4188\n",
      "Number of classes 124\n",
      "Number of features 123\n",
      "Number of samples 4188\n",
      "Number of labels 4188\n",
      "Fold 0\n",
      "Fold 1\n"
     ]
    },
    {
     "name": "stderr",
     "output_type": "stream",
     "text": [
      "/Users/ssiby/anaconda3/lib/python3.10/site-packages/sklearn/metrics/_classification.py:1344: UndefinedMetricWarning: Precision is ill-defined and being set to 0.0 in labels with no predicted samples. Use `zero_division` parameter to control this behavior.\n",
      "  _warn_prf(average, modifier, msg_start, len(result))\n"
     ]
    },
    {
     "name": "stdout",
     "output_type": "stream",
     "text": [
      "Fold 2\n"
     ]
    },
    {
     "name": "stderr",
     "output_type": "stream",
     "text": [
      "/Users/ssiby/anaconda3/lib/python3.10/site-packages/sklearn/metrics/_classification.py:1344: UndefinedMetricWarning: Precision is ill-defined and being set to 0.0 in labels with no predicted samples. Use `zero_division` parameter to control this behavior.\n",
      "  _warn_prf(average, modifier, msg_start, len(result))\n"
     ]
    },
    {
     "name": "stdout",
     "output_type": "stream",
     "text": [
      "Fold 3\n"
     ]
    },
    {
     "name": "stderr",
     "output_type": "stream",
     "text": [
      "/Users/ssiby/anaconda3/lib/python3.10/site-packages/sklearn/metrics/_classification.py:1344: UndefinedMetricWarning: Precision is ill-defined and being set to 0.0 in labels with no predicted samples. Use `zero_division` parameter to control this behavior.\n",
      "  _warn_prf(average, modifier, msg_start, len(result))\n"
     ]
    },
    {
     "name": "stdout",
     "output_type": "stream",
     "text": [
      "Fold 4\n",
      "Fold 5\n",
      "Fold 6\n",
      "Fold 7\n",
      "Fold 8\n",
      "Fold 9\n"
     ]
    },
    {
     "name": "stderr",
     "output_type": "stream",
     "text": [
      "/Users/ssiby/anaconda3/lib/python3.10/site-packages/sklearn/metrics/_classification.py:1344: UndefinedMetricWarning: Precision is ill-defined and being set to 0.0 in labels with no predicted samples. Use `zero_division` parameter to control this behavior.\n",
      "  _warn_prf(average, modifier, msg_start, len(result))\n"
     ]
    },
    {
     "name": "stdout",
     "output_type": "stream",
     "text": [
      "{'score': {'accuracy': (0.18126491646778042, 0.024914055882313907), 'precision': (0.16792765879755917, 0.029170037452885274), 'recall': (0.17862615207373272, 0.025385306339803362), 'f1score': (0.16646891035866887, 0.0255179396045118)}, 'features': [('n_total', 0.02426403822949097, 0.048728895950882346), ('bytes_%_out', 0.11271872965429786, 0.006476863633285741), ('time_outgoing_p25', 0.08730357017339252, 0.043796920583303825), ('bytes_%_in', 0.0997573882311092, 0.03341645946101559), ('time_p25', 0.0958931686444842, 0.0322774095243379), ('time_incoming_p25', 0.08572314492029628, 0.04381211334276554), ('delta_rates_20_3', 0.07899871213051805, 0.026569103166453792), ('delta_rate_1', 0.09087673736652149, 0.007181541064919642), ('hist_1003', 0.06556742815928987, 0.006476158242680404), ('hist_6019', 0.014487270834924926, 0.022135377475464128), ('bytes_outgoing', 0.088904411505378, 0.05841745207972442), ('delta_rate_3', 0.01093747984360447, 0.03281243953081341), ('hist_1337', 0.0447187333092698, 0.04476713450706978), ('n_outgoing', 0.03691099747189985, 0.05661943267104323), ('bytes_incoming', 0.011509416559755615, 0.03452824967926685), ('hist_2341', 0.027541855015533273, 0.04212009861355273), ('delta_rate_std', 0.02388691795023363, 0.047780986768641245)]}\n",
      "***************** Working dummies=30\n",
      "Dummies cost [6341703.2620689655, 6941358.871383133, 21.111950697323508, 239.02897945183693]\n",
      "Skipping sahafah24.com only 19 samples\n",
      "Skipping 9quotes.com only 19 samples\n",
      "Skipping bieporn.com only 17 samples\n",
      "Skipping faktabmr.com only 14 samples\n",
      "Skipping miglianicocalcio.net only 14 samples\n",
      "Skipping www.cscpro.org only 14 samples\n",
      "Skipping levitra100pudoff.com only 14 samples\n",
      "Skipping megagroup.ir only 13 samples\n",
      "Skipping educortex.in only 12 samples\n",
      "Skipping arthurmurray.com only 13 samples\n",
      "Skipping hitburada.com only 13 samples\n",
      "Skipping odlotw.blogspot.com only 13 samples\n",
      "Skipping funakoshikarateaustralia.com.au only 13 samples\n",
      "Skipping whoisdog.com only 13 samples\n",
      "Skipping ksgroupscans.com only 1 samples\n",
      "Skipping kk-vine.at only 13 samples\n",
      "Skipping myegypthost.com only 13 samples\n",
      "Skipping matchingimages.com only 13 samples\n",
      "Skipping onlinecasino002.com only 10 samples\n",
      "Skipping kayseriolaylari.com only 9 samples\n",
      "Skipping hpsconline.in only 1 samples\n",
      "[feature_extract] Number of classes 124\n",
      "[feature_extract] Number of features 123\n",
      "[feature_extract] Number of samples 4188\n",
      "[feature_extract] Number of labels 4188\n",
      "Number of classes 124\n",
      "Number of features 123\n",
      "Number of samples 4188\n",
      "Number of labels 4188\n",
      "Fold 0\n",
      "Fold 1\n",
      "Fold 2\n",
      "Fold 3\n"
     ]
    },
    {
     "name": "stderr",
     "output_type": "stream",
     "text": [
      "/Users/ssiby/anaconda3/lib/python3.10/site-packages/sklearn/metrics/_classification.py:1344: UndefinedMetricWarning: Precision is ill-defined and being set to 0.0 in labels with no predicted samples. Use `zero_division` parameter to control this behavior.\n",
      "  _warn_prf(average, modifier, msg_start, len(result))\n"
     ]
    },
    {
     "name": "stdout",
     "output_type": "stream",
     "text": [
      "Fold 4\n"
     ]
    },
    {
     "name": "stderr",
     "output_type": "stream",
     "text": [
      "/Users/ssiby/anaconda3/lib/python3.10/site-packages/sklearn/metrics/_classification.py:1344: UndefinedMetricWarning: Precision is ill-defined and being set to 0.0 in labels with no predicted samples. Use `zero_division` parameter to control this behavior.\n",
      "  _warn_prf(average, modifier, msg_start, len(result))\n"
     ]
    },
    {
     "name": "stdout",
     "output_type": "stream",
     "text": [
      "Fold 5\n",
      "Fold 6\n",
      "Fold 7\n",
      "Fold 8\n",
      "Fold 9\n",
      "{'score': {'accuracy': (0.17112171837708828, 0.0311188264612421), 'precision': (0.16081324409594533, 0.034554575864696874), 'recall': (0.16826036866359448, 0.03228314922605612), 'f1score': (0.15868442866832733, 0.032397050604797674)}, 'features': [('bytes_outgoing', 0.08894659105345736, 0.05840454252347789), ('time_outgoing_p25', 0.09889141656213964, 0.03324885466053601), ('bytes_%_out', 0.10172019181285807, 0.034116097533914994), ('time_p25', 0.09698309629587558, 0.032795809086522916), ('bytes_%_in', 0.10248741597827724, 0.0346717556106429), ('delta_rate_2', 0.010829478244535343, 0.032488434733606034), ('hist_1337', 0.08157526809522071, 0.027284462905219038), ('delta_rates_20_3', 0.08687601018320301, 0.0031724109586851843), ('delta_rate_1', 0.08647186170803849, 0.003831652384333622), ('hist_1003', 0.06324006030496998, 0.004168899782362459), ('time_incoming_p25', 0.0732644133054567, 0.04809486404757916), ('bytes_incoming', 0.023049836555935337, 0.04610884478906194), ('delta_rate_std', 0.011577395358013448, 0.03473218607404035), ('n_outgoing', 0.025868286171377645, 0.05174578103093222), ('hist_6019', 0.004684886558652747, 0.014054659675958243), ('delta_rates_20_5', 0.011107765162246503, 0.03332329548673951), ('intertime_incoming_p75', 0.011980078149471517, 0.03594023444841455), ('n_incoming', 0.011057090670951075, 0.03317127201285322), ('hist_2341', 0.009388857829319626, 0.028166573487958875)]}\n"
     ]
    }
   ],
   "source": [
    "# how many subresources do we need to inject ?\n",
    "\n",
    "def deepcopy(data):\n",
    "    data2 = {}\n",
    "    for url in data:\n",
    "        data2[url] = {}\n",
    "        for sample in data[url]:\n",
    "            data2[url][sample] = []\n",
    "            for request in data[url][sample]:\n",
    "                data2[url][sample].append(request)\n",
    "    return data2\n",
    "\n",
    "# same thing, no padding\n",
    "def inject_dummy_request(data, samples_to_inject, howmany=-1): # modifies data in place. Only in 20% of the cases, recursive\n",
    "    costs = []\n",
    "\n",
    "    for url in data:\n",
    "        costs_this_website = []\n",
    "        for sample in data[url]:\n",
    "            requests = data[url][sample]\n",
    "            last_t = 0\n",
    "            if len(requests) > 0:\n",
    "                last_t = requests[-1][2]\n",
    "\n",
    "            extra_bw = 0\n",
    "            extra_time = 0\n",
    "            extra_req = 0\n",
    "\n",
    "            if howmany == -1:\n",
    "                continue\n",
    "\n",
    "            for repeat in range(howmany):\n",
    "                # pick a sample at random\n",
    "                chosen_sample = random.choice(samples_to_inject)\n",
    "\n",
    "                # pick a starting subresource at random in the first half\n",
    "                start = 0\n",
    "                start_t = 0\n",
    "                if len(data[url][sample]) > 2:\n",
    "                    start = random.randint(0, int(len(data[url][sample]))-1)\n",
    "\n",
    "                if len(data[url][sample]) > 0:\n",
    "                    start_t = data[url][sample][start][0]\n",
    "\n",
    "                # shift by start_t\n",
    "                padded_samples = [[domain, fullurl, t+start_t, out_h, out_b, t_resp, inc_h, inc_b] for domain, fullurl, t, out_h, out_b, t_resp, inc_h, inc_b in chosen_sample]\n",
    "\n",
    "                for extra_request in padded_samples:\n",
    "                    domain, fullurl, t, out_h, out_b, t_resp, inc_h, inc_b = extra_request\n",
    "                    reformatted = [t, add(out_h, out_b), add(inc_h, inc_b)]\n",
    "                    data[url][sample].append(reformatted)\n",
    "                    extra_bw += reformatted[1] + reformatted[2] # add up and down\n",
    "                        \n",
    "                data[url][sample].sort(key=lambda row: row[0])\n",
    "                extra_time = data[url][sample][-1][0]\n",
    "                extra_req += len(padded_samples)\n",
    "\n",
    "            costs_this_website.append([extra_bw, extra_time, extra_req])\n",
    "\n",
    "        med_bw = np.median([cost[0] for cost in costs_this_website])\n",
    "        mean_bw = np.mean([cost[0] for cost in costs_this_website])\n",
    "        added_time = np.mean([cost[1] for cost in costs_this_website])\n",
    "        added_req = np.mean([cost[2] for cost in costs_this_website])\n",
    "        costs.append([med_bw, mean_bw, added_time, added_req])\n",
    "\n",
    "    cost_summary = []\n",
    "\n",
    "\n",
    "    med_bw = np.mean([cost[0] for cost in costs])\n",
    "    mean_bw = np.mean([cost[1] for cost in costs])\n",
    "    added_time = np.mean([cost[2] for cost in costs])\n",
    "    added_req = np.mean([cost[3] for cost in costs])\n",
    "    cost_summary = [med_bw, mean_bw, added_time, added_req]\n",
    "\n",
    "    return data, cost_summary\n",
    "\n",
    "def compute_rf_performance(data):\n",
    "    res = dict()\n",
    "    for howmany in range(31):\n",
    "        print(f\"***************** Working dummies={howmany}\")\n",
    "        data2 = deepcopy(data)\n",
    "        data_with_dummies, dummies_cost = inject_dummy_request(data2, DUMMIES, howmany=howmany)\n",
    "\n",
    "        print(\"Dummies cost\", dummies_cost)\n",
    "\n",
    "        features = get_features(data_with_dummies)\n",
    "        clf_res = rf_with_rfe(features)\n",
    "\n",
    "        print(clf_res)\n",
    "\n",
    "        res[str(howmany)] = [clf_res, dummies_cost]\n",
    "\n",
    "    return res\n",
    "\n",
    "clf_res_dummies = compute_rf_performance(data_old_format)\n",
    "np.save('datasets/clf_res_dummies.npy', clf_res_dummies)"
   ]
  },
  {
   "cell_type": "code",
   "execution_count": 12,
   "metadata": {},
   "outputs": [
    {
     "name": "stdout",
     "output_type": "stream",
     "text": [
      "[{'score': {'accuracy': (0.954632972322503, 0.0049043763832285914), 'precision': (0.9602044545337229, 0.004750673733368737), 'recall': (0.9545596205962061, 0.004483817790886499), 'f1score': (0.9536047029634208, 0.004443612262274709)}, 'features': [('bytes_incoming', 0.1286724537003897, 0.0048736758807739955), ('bytes_total', 0.12361453776378575, 0.004185567413108952), ('bytes_%_in', 0.11560682358692147, 0.0032948833787672317), ('bytes_%_out', 0.11371015143285781, 0.0028744699327644123), ('bytes_outgoing', 0.11766529585801092, 0.0036514691982286636), ('hist_2006', 0.08493399547688363, 0.002968452569898735), ('n_total', 0.08133082271755895, 0.007075978736087128), ('n_outgoing', 0.0728994268798227, 0.024608812293569378), ('hist_1672', 0.05448349624077929, 0.03569054410717205), ('n_incoming', 0.07028734151153301, 0.02410544440731296), ('time_p25', 0.008074884548701351, 0.02422465364610405), ('time_outgoing_p25', 0.007321698092102839, 0.02196509427630852), ('hist_2341', 0.014158931996793692, 0.028344929345515697), ('time_incoming_p25', 0.007240140193858863, 0.02172042058157659)]}, [0.0, 0.0, 0.0, 0.0]]\n",
      "[{'score': {'accuracy': (0.17112171837708828, 0.0311188264612421), 'precision': (0.16081324409594533, 0.034554575864696874), 'recall': (0.16826036866359448, 0.03228314922605612), 'f1score': (0.15868442866832733, 0.032397050604797674)}, 'features': [('bytes_outgoing', 0.08894659105345736, 0.05840454252347789), ('time_outgoing_p25', 0.09889141656213964, 0.03324885466053601), ('bytes_%_out', 0.10172019181285807, 0.034116097533914994), ('time_p25', 0.09698309629587558, 0.032795809086522916), ('bytes_%_in', 0.10248741597827724, 0.0346717556106429), ('delta_rate_2', 0.010829478244535343, 0.032488434733606034), ('hist_1337', 0.08157526809522071, 0.027284462905219038), ('delta_rates_20_3', 0.08687601018320301, 0.0031724109586851843), ('delta_rate_1', 0.08647186170803849, 0.003831652384333622), ('hist_1003', 0.06324006030496998, 0.004168899782362459), ('time_incoming_p25', 0.0732644133054567, 0.04809486404757916), ('bytes_incoming', 0.023049836555935337, 0.04610884478906194), ('delta_rate_std', 0.011577395358013448, 0.03473218607404035), ('n_outgoing', 0.025868286171377645, 0.05174578103093222), ('hist_6019', 0.004684886558652747, 0.014054659675958243), ('delta_rates_20_5', 0.011107765162246503, 0.03332329548673951), ('intertime_incoming_p75', 0.011980078149471517, 0.03594023444841455), ('n_incoming', 0.011057090670951075, 0.03317127201285322), ('hist_2341', 0.009388857829319626, 0.028166573487958875)]}, [6341703.2620689655, 6941358.871383133, 21.111950697323508, 239.02897945183693]]\n"
     ]
    }
   ],
   "source": [
    "clf_res_dummies = np.load('datasets/clf_res_dummies.npy', allow_pickle=True).item()\n",
    "print(clf_res_dummies['0'])\n",
    "print(clf_res_dummies['30'])"
   ]
  },
  {
   "cell_type": "code",
   "execution_count": 16,
   "metadata": {},
   "outputs": [
    {
     "name": "stdout",
     "output_type": "stream",
     "text": [
      "[[0, 0.95, 0.0, 0.0, 0.0], [1, 0.71, 0.03, 100453.1, 7.94], [2, 0.58, 0.05, 245487.91, 15.74], [3, 0.48, 0.05, 479305.04, 23.87], [4, 0.47, 0.05, 679489.66, 31.57], [5, 0.41, 0.05, 893941.83, 39.76], [6, 0.41, 0.04, 1077591.49, 47.89], [7, 0.37, 0.05, 1300190.2, 55.96], [8, 0.36, 0.05, 1482663.41, 63.74], [9, 0.35, 0.04, 1679851.72, 70.91], [10, 0.34, 0.04, 1934189.13, 79.98], [11, 0.32, 0.04, 2152832.3, 87.63], [12, 0.27, 0.06, 2412936.36, 95.68], [13, 0.25, 0.02, 2617915.28, 104.11], [14, 0.23, 0.03, 2746268.57, 111.07], [15, 0.26, 0.04, 3053479.8, 119.24], [16, 0.2, 0.01, 3223758.02, 127.46], [17, 0.26, 0.05, 3475875.07, 136.23], [18, 0.2, 0.03, 3634451.94, 142.81], [19, 0.2, 0.03, 3868337.44, 151.57], [20, 0.2, 0.04, 4090548.81, 159.11], [21, 0.22, 0.04, 4318714.78, 167.36], [22, 0.2, 0.04, 4509600.66, 175.55], [23, 0.18, 0.02, 4796035.64, 183.91], [24, 0.2, 0.04, 4970240.96, 192.25], [25, 0.17, 0.03, 5177727.92, 199.23], [26, 0.18, 0.04, 5355818.4, 205.84], [27, 0.15, 0.02, 5611275.22, 214.59], [28, 0.16, 0.03, 5858198.24, 223.27], [29, 0.17, 0.03, 6058670.53, 231.56], [30, 0.16, 0.03, 6341703.26, 239.03]]\n"
     ]
    },
    {
     "data": {
      "image/png": "[encoded data removed]",
      "text/plain": [
       "<Figure size 640x480 with 1 Axes>"
      ]
     },
     "metadata": {},
     "output_type": "display_data"
    }
   ],
   "source": [
    "clf_res_dummies = np.load('datasets/clf_res_dummies.npy', allow_pickle=True).item()\n",
    "\n",
    "plot_data = []\n",
    "\n",
    "for howmany in clf_res_dummies:\n",
    "    clf_res, cost = clf_res_dummies[howmany]\n",
    "    med_bw, mean_bw, added_time, added_req = cost\n",
    "\n",
    "    f1 = round(clf_res['score']['f1score'][0], 2)\n",
    "    f1std = round(clf_res['score']['f1score'][1], 2)\n",
    "\n",
    "    plot_data.append([int(howmany), f1, f1std, round(med_bw, 2), round(added_req, 2)])\n",
    "\n",
    "print(plot_data)\n",
    "\n",
    "xs = [row[0] for row in plot_data]\n",
    "ys = [row[1] for row in plot_data]\n",
    "yserr = [row[2] for row in plot_data]\n",
    "medbw = [row[3] for row in plot_data]\n",
    "\n",
    "\n",
    "plt.errorbar(xs, ys, yerr=yserr)\n",
    "plt.xlabel(\"Dummies\")\n",
    "plt.ylabel(\"F1-score\")\n",
    "plt.grid()"
   ]
  },
  {
   "cell_type": "code",
   "execution_count": 18,
   "metadata": {},
   "outputs": [
    {
     "data": {
      "image/png": "[encoded data removed]",
      "text/plain": [
       "<Figure size 640x480 with 1 Axes>"
      ]
     },
     "metadata": {},
     "output_type": "display_data"
    }
   ],
   "source": [
    "plt.plot(xs, medbw)\n",
    "plt.xlabel(\"Dummies\")\n",
    "plt.ylabel(\"Cost per page (bytes)\")\n",
    "plt.grid()"
   ]
  },
  {
   "cell_type": "code",
   "execution_count": null,
   "metadata": {},
   "outputs": [],
   "source": []
  }
 ],
 "metadata": {
  "interpreter": {
   "hash": "e7370f93d1d0cde622a1f8e1c04877d8463912d04d973331ad4851f04de6915a"
  },
  "kernelspec": {
   "display_name": "Python 3 (ipykernel)",
   "language": "python",
   "name": "python3"
  },
  "language_info": {
   "codemirror_mode": {
    "name": "ipython",
    "version": 3
   },
   "file_extension": ".py",
   "mimetype": "text/x-python",
   "name": "python",
   "nbconvert_exporter": "python",
   "pygments_lexer": "ipython3",
   "version": "3.10.9"
  }
 },
 "nbformat": 4,
 "nbformat_minor": 2
}
