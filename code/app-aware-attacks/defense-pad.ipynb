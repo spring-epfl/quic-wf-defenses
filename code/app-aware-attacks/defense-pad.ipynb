{
 "cells": [
  {
   "cell_type": "code",
   "execution_count": 5,
   "metadata": {},
   "outputs": [],
   "source": [
    "# imports and functions, does nothing\n",
    "\n",
    "from IPython.display import Image\n",
    "from sklearn import metrics\n",
    "from sklearn.ensemble import RandomForestClassifier\n",
    "from sklearn.feature_selection import RFE\n",
    "from sklearn.model_selection import StratifiedShuffleSplit\n",
    "import matplotlib.pyplot as plt\n",
    "import numpy as np\n",
    "import os\n",
    "import random\n",
    "from json import JSONEncoder\n",
    "import json\n",
    "\n",
    "class NumpyArrayEncoder(JSONEncoder):\n",
    "    def default(self, obj):\n",
    "        if isinstance(obj, np.integer):\n",
    "            return int(obj)\n",
    "        elif isinstance(obj, np.floating):\n",
    "            return float(obj)\n",
    "        elif isinstance(obj, np.ndarray):\n",
    "            return obj.tolist()\n",
    "        return JSONEncoder.default(self, obj)\n",
    "\n",
    "def serialize(uri, o, version=''):\n",
    "    try:\n",
    "        os.remove(uri)\n",
    "    except:\n",
    "        pass\n",
    "    with open(uri, \"w\") as f:\n",
    "        if version != '':\n",
    "            f.write('#version: '+version+'\\n')\n",
    "        json.dump(o, f, cls=NumpyArrayEncoder)\n",
    "\n",
    "def deserialize(uri, version=''):\n",
    "    if os.path.isfile(uri):\n",
    "        with open(uri, \"r\") as f:\n",
    "            data = []\n",
    "            for line in f:\n",
    "                if not line.startswith('#version:'):\n",
    "                    data.append(line)\n",
    "            return json.loads(''.join(data))\n",
    "    return None\n",
    "\n",
    "def load_or_compute(uri, compute_function, rebuild=False):\n",
    "    data = None\n",
    "    if not rebuild:\n",
    "        data = deserialize(uri)\n",
    "    if data is None:\n",
    "        data = compute_function()\n",
    "        serialize(uri, data)\n",
    "        return data\n",
    "    return data\n",
    "\n",
    "def img(path, width=400):\n",
    "    rnd = random.randint(0,2e9)\n",
    "    return f\"\"\"<img src=\"{path}?nocache={rnd}\" style=\"width:{width}px; \"></img>\"\"\"\n",
    "\n",
    "def plot_fi(features_of_interest, title):\n",
    "    features_of_interest.sort(key=lambda row: row[1], reverse=True) # truncate top ten\n",
    "    features_of_interest = features_of_interest[:10]\n",
    "    features_of_interest.sort(key=lambda row: row[1], reverse=False) # plotting needs ascending order\n",
    "\n",
    "    xs = [x[0] for x in features_of_interest]\n",
    "    ys = [y[1] for y in features_of_interest]\n",
    "    yerr = [[min(y[1], y[2]) for y in features_of_interest], [y[2] for y in features_of_interest]]\n",
    "\n",
    "    plt.barh(xs, ys, xerr=yerr)\n",
    "    plt.title(title)\n",
    "    plt.show()"
   ]
  },
  {
   "cell_type": "code",
   "execution_count": 6,
   "metadata": {},
   "outputs": [],
   "source": [
    "data_all = np.load('datasets/quic-100p-150-40runs.npy', allow_pickle=True).item()\n",
    "data = data_all['nofilter'] # adblock + decentraleyes\n",
    "urls = [url for url in data]\n",
    "\n",
    "# total incoming size\n",
    "def add(a, b):\n",
    "    x = 0\n",
    "    if a is not None:\n",
    "        x += abs(a)\n",
    "    if b is not None:\n",
    "        x += abs(b)\n",
    "    return x\n",
    "\n",
    "def toOldHARFormat(data):\n",
    "    data2 = {}\n",
    "    for url in data:\n",
    "        data2[url] = {}\n",
    "        for sample in data[url]:\n",
    "            data2[url][sample] = []\n",
    "            for request in data[url][sample]:\n",
    "                domain, fullurl, t, out_h, out_b, t_resp, inc_h, inc_b = request\n",
    "                data2[url][sample].append([t, add(out_h, out_b), add(inc_h, inc_b)])\n",
    "    return data2\n",
    "\n",
    "\n",
    "data_notimings = {}\n",
    "for url in data:\n",
    "    data_notimings[url] = {}\n",
    "    for sample in data[url]:\n",
    "        data_notimings[url][sample] = []\n",
    "        for request in data[url][sample]:\n",
    "            domain, fullurl, t, out_h, out_b, t_resp, inc_h, inc_b = request\n",
    "            data_notimings[url][sample].append([domain, fullurl, 0, out_h, out_b, 0, inc_h, inc_b ])\n",
    "\n",
    "\n",
    "data_old_format = toOldHARFormat(data)\n",
    "data_old_format_noprotections = toOldHARFormat(data_all['nofilter'])"
   ]
  },
  {
   "cell_type": "code",
   "execution_count": 7,
   "metadata": {},
   "outputs": [],
   "source": [
    "from lib.features import *\n",
    "from lib.rf import *\n",
    "\n",
    "def get_estimate_stats(result):\n",
    "    \n",
    "    random_guess = []\n",
    "    min_estimate = []\n",
    "    last_estimate = []\n",
    "    \n",
    "    for k, v in result.items():\n",
    "        random_guess.append(v['random-guessing'])\n",
    "        min_estimate.append(v['min-estimate'])\n",
    "        last_estimate.append(v['last-estimate'])\n",
    "        \n",
    "    return min_estimate, last_estimate, random_guess\n"
   ]
  },
  {
   "cell_type": "code",
   "execution_count": 8,
   "metadata": {},
   "outputs": [
    {
     "name": "stdout",
     "output_type": "stream",
     "text": [
      "Queries: median 14785.0 max 126557 \n",
      "Responses: median 768172.0 max 9324936 \n"
     ]
    },
    {
     "data": {
      "text/plain": [
       "Text(0, 0.5, 'Total Incoming [B]')"
      ]
     },
     "execution_count": 8,
     "metadata": {},
     "output_type": "execute_result"
    },
    {
     "data": {
      "image/png": "[encoded data removed]",
      "text/plain": [
       "<Figure size 640x480 with 1 Axes>"
      ]
     },
     "metadata": {},
     "output_type": "display_data"
    }
   ],
   "source": [
    "# total incoming size\n",
    "incoming_bytes = []\n",
    "incoming_bytes_per_website = dict()\n",
    "incoming_bytes_per_website_noprotection = dict()\n",
    "\n",
    "tot_queries = []\n",
    "tot_responses = []\n",
    "\n",
    "for url in data_old_format:\n",
    "    outgoing_bytes_this_website = []\n",
    "\n",
    "    for sample in data_old_format[url]:\n",
    "        query = 0\n",
    "        response = 0\n",
    "\n",
    "        outgoing_bytes_this_sample = 0\n",
    "        for request in data_old_format[url][sample]:\n",
    "            t, out, inc = request\n",
    "            outgoing_bytes_this_sample += out\n",
    "            query += out\n",
    "            response += inc\n",
    "            incoming_bytes.append(inc)\n",
    "\n",
    "        tot_queries.append(query)\n",
    "        tot_responses.append(response)\n",
    "        outgoing_bytes_this_website.append(outgoing_bytes_this_sample)\n",
    "\n",
    "    if len(outgoing_bytes_this_website) > 0:\n",
    "        incoming_bytes_per_website[url] = [np.mean(outgoing_bytes_this_website), np.std(outgoing_bytes_this_website)]\n",
    "\n",
    "\n",
    "print(f\"Queries: median {np.median(tot_queries)} max {np.max(tot_queries)} \")\n",
    "print(f\"Responses: median {np.median(tot_responses)} max {np.max(tot_responses)} \")\n",
    "\n",
    "tuples = list(incoming_bytes_per_website.items())\n",
    "tuples.sort(key=lambda row: row[1])\n",
    "\n",
    "xs = [t[0][:3] for t in tuples]\n",
    "ys = [int(t[1][0]) for t in tuples]\n",
    "\n",
    "plt.bar(np.arange(len(ys)), ys)\n",
    "plt.xticks(np.arange(len(ys)), xs)\n",
    "plt.xlabel('Websites')\n",
    "plt.ylabel('Total Incoming [B]')\n",
    "#plt.yscale('log')\n",
    "#plt.ylim([0, 10000])"
   ]
  },
  {
   "cell_type": "code",
   "execution_count": 9,
   "metadata": {},
   "outputs": [
    {
     "name": "stdout",
     "output_type": "stream",
     "text": [
      "Skipping sahafah24.com only 19 samples\n",
      "Skipping 9quotes.com only 19 samples\n",
      "Skipping ragazzeconlavaligia.com , 19 empty samples\n",
      "Skipping bieporn.com only 17 samples\n",
      "Skipping faktabmr.com only 14 samples\n",
      "Skipping miglianicocalcio.net only 14 samples\n",
      "Skipping www.cscpro.org only 14 samples\n",
      "Skipping levitra100pudoff.com only 14 samples\n",
      "Skipping megagroup.ir only 13 samples\n",
      "Skipping educortex.in only 12 samples\n",
      "Skipping arthurmurray.com only 13 samples\n",
      "Skipping hitburada.com only 13 samples\n",
      "Skipping odlotw.blogspot.com only 13 samples\n",
      "Skipping funakoshikarateaustralia.com.au only 13 samples\n",
      "Skipping whoisdog.com only 13 samples\n",
      "Skipping ksgroupscans.com only 1 samples\n",
      "Skipping kk-vine.at only 13 samples\n",
      "Skipping myegypthost.com only 13 samples\n",
      "Skipping matchingimages.com only 13 samples\n",
      "Skipping onlinecasino002.com only 10 samples\n",
      "Skipping kayseriolaylari.com only 9 samples\n",
      "Skipping hpsconline.in only 1 samples\n",
      "[feature_extract] Number of classes 123\n",
      "[feature_extract] Number of features 123\n",
      "[feature_extract] Number of samples 4155\n",
      "[feature_extract] Number of labels 4155\n",
      "Number of classes 123\n",
      "Number of features 123\n",
      "Number of samples 4155\n",
      "Number of labels 4155\n",
      "Fold 0\n",
      "141 but only found 123\n",
      "Scores were 0.9543056085739012 but were corrected to 0.8266168299619003.\n",
      "Fold 1\n"
     ]
    },
    {
     "name": "stderr",
     "output_type": "stream",
     "text": [
      "/Users/ssiby/anaconda3/lib/python3.10/site-packages/sklearn/metrics/_classification.py:1344: UndefinedMetricWarning: Precision is ill-defined and being set to 0.0 in labels with no predicted samples. Use `zero_division` parameter to control this behavior.\n",
      "  _warn_prf(average, modifier, msg_start, len(result))\n",
      "/Users/ssiby/anaconda3/lib/python3.10/site-packages/sklearn/metrics/_classification.py:1344: UndefinedMetricWarning: Recall is ill-defined and being set to 0.0 in labels with no true samples. Use `zero_division` parameter to control this behavior.\n",
      "  _warn_prf(average, modifier, msg_start, len(result))\n"
     ]
    },
    {
     "name": "stdout",
     "output_type": "stream",
     "text": [
      "141 but only found 123\n",
      "Scores were 0.95890796328386 but were corrected to 0.8306033766472871.\n",
      "Fold 2\n"
     ]
    },
    {
     "name": "stderr",
     "output_type": "stream",
     "text": [
      "/Users/ssiby/anaconda3/lib/python3.10/site-packages/sklearn/metrics/_classification.py:1344: UndefinedMetricWarning: Precision is ill-defined and being set to 0.0 in labels with no predicted samples. Use `zero_division` parameter to control this behavior.\n",
      "  _warn_prf(average, modifier, msg_start, len(result))\n",
      "/Users/ssiby/anaconda3/lib/python3.10/site-packages/sklearn/metrics/_classification.py:1344: UndefinedMetricWarning: Recall is ill-defined and being set to 0.0 in labels with no true samples. Use `zero_division` parameter to control this behavior.\n",
      "  _warn_prf(average, modifier, msg_start, len(result))\n"
     ]
    },
    {
     "name": "stdout",
     "output_type": "stream",
     "text": [
      "141 but only found 123\n",
      "Scores were 0.9511118763270843 but were corrected to 0.8238504280861365.\n",
      "Fold 3\n"
     ]
    },
    {
     "name": "stderr",
     "output_type": "stream",
     "text": [
      "/Users/ssiby/anaconda3/lib/python3.10/site-packages/sklearn/metrics/_classification.py:1344: UndefinedMetricWarning: Precision is ill-defined and being set to 0.0 in labels with no predicted samples. Use `zero_division` parameter to control this behavior.\n",
      "  _warn_prf(average, modifier, msg_start, len(result))\n",
      "/Users/ssiby/anaconda3/lib/python3.10/site-packages/sklearn/metrics/_classification.py:1344: UndefinedMetricWarning: Recall is ill-defined and being set to 0.0 in labels with no true samples. Use `zero_division` parameter to control this behavior.\n",
      "  _warn_prf(average, modifier, msg_start, len(result))\n"
     ]
    },
    {
     "name": "stdout",
     "output_type": "stream",
     "text": [
      "141 but only found 123\n",
      "Scores were 0.9516689126803904 but were corrected to 0.8243329314062536.\n",
      "Fold 4\n"
     ]
    },
    {
     "name": "stderr",
     "output_type": "stream",
     "text": [
      "/Users/ssiby/anaconda3/lib/python3.10/site-packages/sklearn/metrics/_classification.py:1344: UndefinedMetricWarning: Precision is ill-defined and being set to 0.0 in labels with no predicted samples. Use `zero_division` parameter to control this behavior.\n",
      "  _warn_prf(average, modifier, msg_start, len(result))\n",
      "/Users/ssiby/anaconda3/lib/python3.10/site-packages/sklearn/metrics/_classification.py:1344: UndefinedMetricWarning: Recall is ill-defined and being set to 0.0 in labels with no true samples. Use `zero_division` parameter to control this behavior.\n",
      "  _warn_prf(average, modifier, msg_start, len(result))\n"
     ]
    },
    {
     "name": "stdout",
     "output_type": "stream",
     "text": [
      "141 but only found 123\n",
      "Scores were 0.951400002834723 but were corrected to 0.8241000024554291.\n",
      "Fold 5\n"
     ]
    },
    {
     "name": "stderr",
     "output_type": "stream",
     "text": [
      "/Users/ssiby/anaconda3/lib/python3.10/site-packages/sklearn/metrics/_classification.py:1344: UndefinedMetricWarning: Precision is ill-defined and being set to 0.0 in labels with no predicted samples. Use `zero_division` parameter to control this behavior.\n",
      "  _warn_prf(average, modifier, msg_start, len(result))\n",
      "/Users/ssiby/anaconda3/lib/python3.10/site-packages/sklearn/metrics/_classification.py:1344: UndefinedMetricWarning: Recall is ill-defined and being set to 0.0 in labels with no true samples. Use `zero_division` parameter to control this behavior.\n",
      "  _warn_prf(average, modifier, msg_start, len(result))\n"
     ]
    },
    {
     "name": "stdout",
     "output_type": "stream",
     "text": [
      "141 but only found 123\n",
      "Scores were 0.9614518165488489 but were corrected to 0.8328068551796368.\n",
      "Fold 6\n"
     ]
    },
    {
     "name": "stderr",
     "output_type": "stream",
     "text": [
      "/Users/ssiby/anaconda3/lib/python3.10/site-packages/sklearn/metrics/_classification.py:1344: UndefinedMetricWarning: Precision is ill-defined and being set to 0.0 in labels with no predicted samples. Use `zero_division` parameter to control this behavior.\n",
      "  _warn_prf(average, modifier, msg_start, len(result))\n",
      "/Users/ssiby/anaconda3/lib/python3.10/site-packages/sklearn/metrics/_classification.py:1344: UndefinedMetricWarning: Recall is ill-defined and being set to 0.0 in labels with no true samples. Use `zero_division` parameter to control this behavior.\n",
      "  _warn_prf(average, modifier, msg_start, len(result))\n"
     ]
    },
    {
     "name": "stdout",
     "output_type": "stream",
     "text": [
      "141 but only found 123\n",
      "Scores were 0.9475013973220573 but were corrected to 0.8207230413423454.\n",
      "Fold 7\n"
     ]
    },
    {
     "name": "stderr",
     "output_type": "stream",
     "text": [
      "/Users/ssiby/anaconda3/lib/python3.10/site-packages/sklearn/metrics/_classification.py:1344: UndefinedMetricWarning: Precision is ill-defined and being set to 0.0 in labels with no predicted samples. Use `zero_division` parameter to control this behavior.\n",
      "  _warn_prf(average, modifier, msg_start, len(result))\n",
      "/Users/ssiby/anaconda3/lib/python3.10/site-packages/sklearn/metrics/_classification.py:1344: UndefinedMetricWarning: Recall is ill-defined and being set to 0.0 in labels with no true samples. Use `zero_division` parameter to control this behavior.\n",
      "  _warn_prf(average, modifier, msg_start, len(result))\n"
     ]
    },
    {
     "name": "stdout",
     "output_type": "stream",
     "text": [
      "141 but only found 123\n",
      "Scores were 0.9486419261168185 but were corrected to 0.8217109641716104.\n",
      "Fold 8\n"
     ]
    },
    {
     "name": "stderr",
     "output_type": "stream",
     "text": [
      "/Users/ssiby/anaconda3/lib/python3.10/site-packages/sklearn/metrics/_classification.py:1344: UndefinedMetricWarning: Precision is ill-defined and being set to 0.0 in labels with no predicted samples. Use `zero_division` parameter to control this behavior.\n",
      "  _warn_prf(average, modifier, msg_start, len(result))\n",
      "/Users/ssiby/anaconda3/lib/python3.10/site-packages/sklearn/metrics/_classification.py:1344: UndefinedMetricWarning: Recall is ill-defined and being set to 0.0 in labels with no true samples. Use `zero_division` parameter to control this behavior.\n",
      "  _warn_prf(average, modifier, msg_start, len(result))\n"
     ]
    },
    {
     "name": "stdout",
     "output_type": "stream",
     "text": [
      "141 but only found 123\n",
      "Scores were 0.9589315699109554 but were corrected to 0.8306238246411796.\n",
      "Fold 9\n"
     ]
    },
    {
     "name": "stderr",
     "output_type": "stream",
     "text": [
      "/Users/ssiby/anaconda3/lib/python3.10/site-packages/sklearn/metrics/_classification.py:1344: UndefinedMetricWarning: Precision is ill-defined and being set to 0.0 in labels with no predicted samples. Use `zero_division` parameter to control this behavior.\n",
      "  _warn_prf(average, modifier, msg_start, len(result))\n",
      "/Users/ssiby/anaconda3/lib/python3.10/site-packages/sklearn/metrics/_classification.py:1344: UndefinedMetricWarning: Recall is ill-defined and being set to 0.0 in labels with no true samples. Use `zero_division` parameter to control this behavior.\n",
      "  _warn_prf(average, modifier, msg_start, len(result))\n"
     ]
    },
    {
     "name": "stdout",
     "output_type": "stream",
     "text": [
      "141 but only found 123\n",
      "Scores were 0.9521259560355687 but were corrected to 0.824728821073063.\n",
      "{'score': {'accuracy': (0.9343934040047113, 0.004800396671923408), 'precision': (0.8317263937158303, 0.004115020205664465), 'recall': (0.8268368544600939, 0.0038838703399932876), 'f1score': (0.8260097074964842, 0.0038490444243647033)}, 'features': [('bytes_incoming', 0.1286724537003897, 0.0048736758807739955), ('bytes_total', 0.12361453776378575, 0.004185567413108952), ('bytes_%_in', 0.11560682358692147, 0.0032948833787672317), ('bytes_%_out', 0.11371015143285781, 0.0028744699327644123), ('bytes_outgoing', 0.11766529585801092, 0.0036514691982286636), ('hist_2006', 0.08493399547688363, 0.002968452569898735), ('n_total', 0.08133082271755895, 0.007075978736087128), ('n_outgoing', 0.0728994268798227, 0.024608812293569378), ('hist_1672', 0.05448349624077929, 0.03569054410717205), ('n_incoming', 0.07028734151153301, 0.02410544440731296), ('time_p25', 0.008074884548701351, 0.02422465364610405), ('time_outgoing_p25', 0.007321698092102839, 0.02196509427630852), ('hist_2341', 0.014158931996793692, 0.028344929345515697), ('time_incoming_p25', 0.007240140193858863, 0.02172042058157659)]}\n"
     ]
    },
    {
     "name": "stderr",
     "output_type": "stream",
     "text": [
      "/Users/ssiby/anaconda3/lib/python3.10/site-packages/sklearn/metrics/_classification.py:1344: UndefinedMetricWarning: Precision is ill-defined and being set to 0.0 in labels with no predicted samples. Use `zero_division` parameter to control this behavior.\n",
      "  _warn_prf(average, modifier, msg_start, len(result))\n",
      "/Users/ssiby/anaconda3/lib/python3.10/site-packages/sklearn/metrics/_classification.py:1344: UndefinedMetricWarning: Recall is ill-defined and being set to 0.0 in labels with no true samples. Use `zero_division` parameter to control this behavior.\n",
      "  _warn_prf(average, modifier, msg_start, len(result))\n"
     ]
    },
    {
     "data": {
      "image/png": "[encoded data removed]",
      "text/plain": [
       "<Figure size 640x480 with 1 Axes>"
      ]
     },
     "metadata": {},
     "output_type": "display_data"
    }
   ],
   "source": [
    "#baseline on HARs\n",
    "features = get_features(data_old_format)\n",
    "clf_res = rf_with_rfe(features, n_classes=141)\n",
    "print(clf_res)\n",
    "plot_fi(clf_res['features'], title=\"\")"
   ]
  },
  {
   "cell_type": "code",
   "execution_count": 10,
   "metadata": {},
   "outputs": [
    {
     "name": "stdout",
     "output_type": "stream",
     "text": [
      "Skipping sahafah24.com only 19 samples\n",
      "Skipping 9quotes.com only 19 samples\n",
      "Skipping ragazzeconlavaligia.com , 19 empty samples\n",
      "Skipping bieporn.com only 17 samples\n",
      "Skipping faktabmr.com only 14 samples\n",
      "Skipping miglianicocalcio.net only 14 samples\n",
      "Skipping www.cscpro.org only 14 samples\n",
      "Skipping levitra100pudoff.com only 14 samples\n",
      "Skipping megagroup.ir only 13 samples\n",
      "Skipping educortex.in only 12 samples\n",
      "Skipping arthurmurray.com only 13 samples\n",
      "Skipping hitburada.com only 13 samples\n",
      "Skipping odlotw.blogspot.com only 13 samples\n",
      "Skipping funakoshikarateaustralia.com.au only 13 samples\n",
      "Skipping whoisdog.com only 13 samples\n",
      "Skipping ksgroupscans.com only 1 samples\n",
      "Skipping kk-vine.at only 13 samples\n",
      "Skipping myegypthost.com only 13 samples\n",
      "Skipping matchingimages.com only 13 samples\n",
      "Skipping onlinecasino002.com only 10 samples\n",
      "Skipping kayseriolaylari.com only 9 samples\n",
      "Skipping hpsconline.in only 1 samples\n",
      "[feature_extract] Number of classes 123\n",
      "[feature_extract] Number of features 123\n",
      "[feature_extract] Number of samples 4155\n",
      "[feature_extract] Number of labels 4155\n",
      "Number of classes 123\n",
      "Number of features 123\n",
      "Number of samples 4155\n",
      "Number of labels 4155\n",
      "Fold 0\n",
      "141 but only found 123\n",
      "Scores were 0.9638541223907079 but were corrected to 0.8348877257327961.\n",
      "Fold 1\n"
     ]
    },
    {
     "name": "stderr",
     "output_type": "stream",
     "text": [
      "/Users/ssiby/anaconda3/lib/python3.10/site-packages/sklearn/metrics/_classification.py:1344: UndefinedMetricWarning: Precision is ill-defined and being set to 0.0 in labels with no predicted samples. Use `zero_division` parameter to control this behavior.\n",
      "  _warn_prf(average, modifier, msg_start, len(result))\n",
      "/Users/ssiby/anaconda3/lib/python3.10/site-packages/sklearn/metrics/_classification.py:1344: UndefinedMetricWarning: Recall is ill-defined and being set to 0.0 in labels with no true samples. Use `zero_division` parameter to control this behavior.\n",
      "  _warn_prf(average, modifier, msg_start, len(result))\n"
     ]
    },
    {
     "name": "stdout",
     "output_type": "stream",
     "text": [
      "141 but only found 123\n",
      "Scores were 0.9623693937180308 but were corrected to 0.8336016579388575.\n",
      "Fold 2\n"
     ]
    },
    {
     "name": "stderr",
     "output_type": "stream",
     "text": [
      "/Users/ssiby/anaconda3/lib/python3.10/site-packages/sklearn/metrics/_classification.py:1344: UndefinedMetricWarning: Precision is ill-defined and being set to 0.0 in labels with no predicted samples. Use `zero_division` parameter to control this behavior.\n",
      "  _warn_prf(average, modifier, msg_start, len(result))\n",
      "/Users/ssiby/anaconda3/lib/python3.10/site-packages/sklearn/metrics/_classification.py:1344: UndefinedMetricWarning: Recall is ill-defined and being set to 0.0 in labels with no true samples. Use `zero_division` parameter to control this behavior.\n",
      "  _warn_prf(average, modifier, msg_start, len(result))\n"
     ]
    },
    {
     "name": "stdout",
     "output_type": "stream",
     "text": [
      "141 but only found 123\n",
      "Scores were 0.9644383274942815 but were corrected to 0.8353937625478637.\n",
      "Fold 3\n"
     ]
    },
    {
     "name": "stderr",
     "output_type": "stream",
     "text": [
      "/Users/ssiby/anaconda3/lib/python3.10/site-packages/sklearn/metrics/_classification.py:1344: UndefinedMetricWarning: Precision is ill-defined and being set to 0.0 in labels with no predicted samples. Use `zero_division` parameter to control this behavior.\n",
      "  _warn_prf(average, modifier, msg_start, len(result))\n",
      "/Users/ssiby/anaconda3/lib/python3.10/site-packages/sklearn/metrics/_classification.py:1344: UndefinedMetricWarning: Recall is ill-defined and being set to 0.0 in labels with no true samples. Use `zero_division` parameter to control this behavior.\n",
      "  _warn_prf(average, modifier, msg_start, len(result))\n"
     ]
    },
    {
     "name": "stdout",
     "output_type": "stream",
     "text": [
      "141 but only found 123\n",
      "Scores were 0.9551378917591257 but were corrected to 0.827337751312482.\n",
      "Fold 4\n"
     ]
    },
    {
     "name": "stderr",
     "output_type": "stream",
     "text": [
      "/Users/ssiby/anaconda3/lib/python3.10/site-packages/sklearn/metrics/_classification.py:1344: UndefinedMetricWarning: Precision is ill-defined and being set to 0.0 in labels with no predicted samples. Use `zero_division` parameter to control this behavior.\n",
      "  _warn_prf(average, modifier, msg_start, len(result))\n",
      "/Users/ssiby/anaconda3/lib/python3.10/site-packages/sklearn/metrics/_classification.py:1344: UndefinedMetricWarning: Recall is ill-defined and being set to 0.0 in labels with no true samples. Use `zero_division` parameter to control this behavior.\n",
      "  _warn_prf(average, modifier, msg_start, len(result))\n"
     ]
    },
    {
     "name": "stdout",
     "output_type": "stream",
     "text": [
      "141 but only found 123\n",
      "Scores were 0.9606308286006996 but were corrected to 0.8320957177315919.\n",
      "Fold 5\n"
     ]
    },
    {
     "name": "stderr",
     "output_type": "stream",
     "text": [
      "/Users/ssiby/anaconda3/lib/python3.10/site-packages/sklearn/metrics/_classification.py:1344: UndefinedMetricWarning: Precision is ill-defined and being set to 0.0 in labels with no predicted samples. Use `zero_division` parameter to control this behavior.\n",
      "  _warn_prf(average, modifier, msg_start, len(result))\n",
      "/Users/ssiby/anaconda3/lib/python3.10/site-packages/sklearn/metrics/_classification.py:1344: UndefinedMetricWarning: Recall is ill-defined and being set to 0.0 in labels with no true samples. Use `zero_division` parameter to control this behavior.\n",
      "  _warn_prf(average, modifier, msg_start, len(result))\n"
     ]
    },
    {
     "name": "stdout",
     "output_type": "stream",
     "text": [
      "141 but only found 123\n",
      "Scores were 0.9530351415611553 but were corrected to 0.8255163550142403.\n",
      "Fold 6\n"
     ]
    },
    {
     "name": "stderr",
     "output_type": "stream",
     "text": [
      "/Users/ssiby/anaconda3/lib/python3.10/site-packages/sklearn/metrics/_classification.py:1344: UndefinedMetricWarning: Precision is ill-defined and being set to 0.0 in labels with no predicted samples. Use `zero_division` parameter to control this behavior.\n",
      "  _warn_prf(average, modifier, msg_start, len(result))\n",
      "/Users/ssiby/anaconda3/lib/python3.10/site-packages/sklearn/metrics/_classification.py:1344: UndefinedMetricWarning: Recall is ill-defined and being set to 0.0 in labels with no true samples. Use `zero_division` parameter to control this behavior.\n",
      "  _warn_prf(average, modifier, msg_start, len(result))\n"
     ]
    },
    {
     "name": "stdout",
     "output_type": "stream",
     "text": [
      "141 but only found 123\n",
      "Scores were 0.9538507430186053 but were corrected to 0.8262228266992144.\n",
      "Fold 7\n"
     ]
    },
    {
     "name": "stderr",
     "output_type": "stream",
     "text": [
      "/Users/ssiby/anaconda3/lib/python3.10/site-packages/sklearn/metrics/_classification.py:1344: UndefinedMetricWarning: Precision is ill-defined and being set to 0.0 in labels with no predicted samples. Use `zero_division` parameter to control this behavior.\n",
      "  _warn_prf(average, modifier, msg_start, len(result))\n",
      "/Users/ssiby/anaconda3/lib/python3.10/site-packages/sklearn/metrics/_classification.py:1344: UndefinedMetricWarning: Recall is ill-defined and being set to 0.0 in labels with no true samples. Use `zero_division` parameter to control this behavior.\n",
      "  _warn_prf(average, modifier, msg_start, len(result))\n"
     ]
    },
    {
     "name": "stdout",
     "output_type": "stream",
     "text": [
      "141 but only found 123\n",
      "Scores were 0.9486419261168185 but were corrected to 0.8217109641716104.\n",
      "Fold 8\n"
     ]
    },
    {
     "name": "stderr",
     "output_type": "stream",
     "text": [
      "/Users/ssiby/anaconda3/lib/python3.10/site-packages/sklearn/metrics/_classification.py:1344: UndefinedMetricWarning: Precision is ill-defined and being set to 0.0 in labels with no predicted samples. Use `zero_division` parameter to control this behavior.\n",
      "  _warn_prf(average, modifier, msg_start, len(result))\n",
      "/Users/ssiby/anaconda3/lib/python3.10/site-packages/sklearn/metrics/_classification.py:1344: UndefinedMetricWarning: Recall is ill-defined and being set to 0.0 in labels with no true samples. Use `zero_division` parameter to control this behavior.\n",
      "  _warn_prf(average, modifier, msg_start, len(result))\n"
     ]
    },
    {
     "name": "stdout",
     "output_type": "stream",
     "text": [
      "141 but only found 123\n",
      "Scores were 0.9652365117214471 but were corrected to 0.836085147477028.\n",
      "Fold 9\n"
     ]
    },
    {
     "name": "stderr",
     "output_type": "stream",
     "text": [
      "/Users/ssiby/anaconda3/lib/python3.10/site-packages/sklearn/metrics/_classification.py:1344: UndefinedMetricWarning: Precision is ill-defined and being set to 0.0 in labels with no predicted samples. Use `zero_division` parameter to control this behavior.\n",
      "  _warn_prf(average, modifier, msg_start, len(result))\n",
      "/Users/ssiby/anaconda3/lib/python3.10/site-packages/sklearn/metrics/_classification.py:1344: UndefinedMetricWarning: Recall is ill-defined and being set to 0.0 in labels with no true samples. Use `zero_division` parameter to control this behavior.\n",
      "  _warn_prf(average, modifier, msg_start, len(result))\n"
     ]
    },
    {
     "name": "stdout",
     "output_type": "stream",
     "text": [
      "141 but only found 123\n",
      "Scores were 0.9572739843184606 but were corrected to 0.8291880286702159.\n",
      "{'score': {'accuracy': (0.9386336866902237, 0.005331670340521216), 'precision': (0.8353735290531066, 0.004442193826364415), 'recall': (0.8305918846411805, 0.0046072159955942455), 'f1score': (0.83020399372959, 0.004666738543804266)}, 'features': [('bytes_incoming', 0.12436178237202518, 0.005682291687588504), ('bytes_total', 0.12243576201014887, 0.005069686749599236), ('bytes_outgoing', 0.11921298190917654, 0.004921965552403222), ('bytes_%_in', 0.11043437549355037, 0.004034832491966439), ('bytes_%_out', 0.11011222305649089, 0.005651594380735386), ('n_total', 0.0693218383669463, 0.03498477710568565), ('n_outgoing', 0.08102990511365828, 0.028221766990018018), ('hist_2006', 0.07605473628164748, 0.02549138988397013), ('hist_2341', 0.05492273424636753, 0.03598672257463661), ('hist_1672', 0.06714151380427318, 0.02266713110740253), ('n_incoming', 0.05841001960951033, 0.03901455053401908), ('hist_1003', 0.006562127736205049, 0.019686383208615148)]}\n"
     ]
    },
    {
     "name": "stderr",
     "output_type": "stream",
     "text": [
      "/Users/ssiby/anaconda3/lib/python3.10/site-packages/sklearn/metrics/_classification.py:1344: UndefinedMetricWarning: Precision is ill-defined and being set to 0.0 in labels with no predicted samples. Use `zero_division` parameter to control this behavior.\n",
      "  _warn_prf(average, modifier, msg_start, len(result))\n",
      "/Users/ssiby/anaconda3/lib/python3.10/site-packages/sklearn/metrics/_classification.py:1344: UndefinedMetricWarning: Recall is ill-defined and being set to 0.0 in labels with no true samples. Use `zero_division` parameter to control this behavior.\n",
      "  _warn_prf(average, modifier, msg_start, len(result))\n"
     ]
    },
    {
     "data": {
      "image/png": "[encoded data removed]",
      "text/plain": [
       "<Figure size 640x480 with 1 Axes>"
      ]
     },
     "metadata": {},
     "output_type": "display_data"
    }
   ],
   "source": [
    "#without timings\n",
    "\n",
    "data_no_timings = dict()\n",
    "for url in data_old_format:\n",
    "    data_no_timings[url] = dict()\n",
    "    for sample in data_old_format[url]:\n",
    "        data_no_timings[url][sample] = []\n",
    "        for t, out, inc in data_old_format[url][sample]:\n",
    "            data_no_timings[url][sample].append([0, out, inc])\n",
    "\n",
    "features = get_features(data_no_timings)\n",
    "clf_res = rf_with_rfe(features, n_classes=141)\n",
    "print(clf_res)\n",
    "plot_fi(clf_res['features'], title=\"\")"
   ]
  },
  {
   "cell_type": "code",
   "execution_count": 11,
   "metadata": {},
   "outputs": [
    {
     "name": "stdout",
     "output_type": "stream",
     "text": [
      "max query 55523\n",
      "{'ys': [186, 335, 483, 779, 784, 988, 1282, 1868, 1963, 1979, 2015, 2066, 2106, 2106, 2181, 2422, 2890, 2896, 3075, 3672, 3828, 4244, 4269, 4855, 4987, 5044, 5305, 5825, 5871, 6279, 6303, 6422, 6432, 6483, 6717, 6736, 7192, 7584, 7597, 7609, 7612, 7807, 7833, 8102, 8934, 9205, 9422, 9801, 9947, 10332, 10496, 10864, 10890, 10948, 11675, 11906, 11967, 12032, 12069, 12296, 12518, 12869, 13197, 13496, 13546, 13827, 13895, 14212, 14454, 14595, 14819, 15036, 15109, 15372, 15574, 15832, 15977, 16597, 16824, 17023, 17265, 17435, 17451, 17454, 17479, 17516, 18191, 18904, 19249, 19290, 19306, 19364, 19406, 20987, 21022, 21036, 21757, 22119, 22970, 23094, 23436, 23556, 23850, 24141, 24227, 24257, 24554, 24901, 26387, 26492, 26508, 27706, 28261, 29481, 29535, 30087, 30342, 30863, 31055, 31552, 31623, 33359, 34293, 35412, 35722, 35737, 39179, 40597, 41807, 42185, 43173, 45429, 48918, 54395, 55626, 58989, 64151, 66761, 69199, 72073, 72781, 74813, 78110, 81034, 104464], 'ys_err': [217, 219, 70, 275, 90, 785, 333, 667, 814, 602, 996, 1131, 579, 350, 951, 1518, 651, 1102, 1567, 1866, 498, 561, 1341, 646, 1772, 1552, 1046, 577, 1644, 719, 1489, 497, 472, 1002, 1377, 597, 729, 1053, 2280, 936, 1124, 4456, 674, 503, 579, 643, 3592, 2368, 13265, 1463, 1196, 484, 960, 493, 866, 799, 780, 4990, 985, 1231, 249, 285, 278, 535, 279, 711, 520, 3085, 1887, 556, 1603, 996, 2392, 495, 352, 628, 502, 527, 1787, 401, 7682, 864, 401, 409, 628, 1830, 650, 850, 2184, 738, 444, 2275, 2818, 673, 444, 401, 678, 817, 306, 803, 1834, 5477, 2479, 1548, 200, 491, 2088, 612, 2266, 802, 8223, 3202, 32983, 1792, 2346, 797, 870, 637, 267, 532, 806, 9909, 2052, 18524, 3674, 1266, 2607, 1296, 4729, 3537, 10952, 648, 7382, 899, 15824, 11748, 15400, 12426, 1565, 11577, 5363, 0, 2412, 18546, 0]}\n"
     ]
    },
    {
     "data": {
      "text/plain": [
       "Text(0, 0.5, 'Total Outgoing [B]')"
      ]
     },
     "execution_count": 11,
     "metadata": {},
     "output_type": "execute_result"
    },
    {
     "data": {
      "image/png": "[encoded data removed]",
      "text/plain": [
       "<Figure size 640x480 with 1 Axes>"
      ]
     },
     "metadata": {},
     "output_type": "display_data"
    }
   ],
   "source": [
    "# total outgoing size\n",
    "\n",
    "max_query = 0\n",
    "\n",
    "outgoing_bytes_per_website = dict()\n",
    "outgoing_bytes_per_website2 = dict()\n",
    "\n",
    "for url in data_old_format:\n",
    "    outgoing_bytes_this_website = []\n",
    "    outgoing_bytes_this_website2 = []\n",
    "\n",
    "    for sample in data_old_format[url]:\n",
    "        outgoing_bytes_this_sample = 0\n",
    "        outgoing_bytes_this_sample2 = 0\n",
    "        for request in data_old_format[url][sample]:\n",
    "            t, out, inc = request\n",
    "            outgoing_bytes_this_sample += out\n",
    "            outgoing_bytes_this_sample2 += 1400\n",
    "            if out > max_query:\n",
    "                max_query = out\n",
    "\n",
    "        outgoing_bytes_this_website.append(outgoing_bytes_this_sample)\n",
    "        outgoing_bytes_this_website2.append(outgoing_bytes_this_sample2)\n",
    "\n",
    "    if len(outgoing_bytes_this_website) > 0:\n",
    "        outgoing_bytes_per_website[url] = [np.mean(outgoing_bytes_this_website), np.std(outgoing_bytes_this_website)]\n",
    "        outgoing_bytes_per_website2[url] = np.mean(outgoing_bytes_this_website2)\n",
    "\n",
    "print(f\"max query {max_query}\")\n",
    "\n",
    "tuples = list(outgoing_bytes_per_website.items())\n",
    "tuples.sort(key=lambda row: row[1])\n",
    "\n",
    "xs = [t[0][:3] for t in tuples]\n",
    "ys = [int(t[1][0]) for t in tuples]\n",
    "ys_err = [int(t[1][1]) for t in tuples]\n",
    "\n",
    "tuples2 = list(outgoing_bytes_per_website2.items())\n",
    "tuples2.sort(key=lambda row: row[1])\n",
    "ys2 = [int(t[1]) for t in tuples2]\n",
    "\n",
    "plot_data = dict(ys=ys, ys_err=ys_err)\n",
    "print(plot_data)\n",
    "\n",
    "#plt.bar(np.arange(len(ys)), ys2, label=\"padded queries\")\n",
    "plt.errorbar(np.arange(len(ys2)), ys, yerr=ys_err, label=\"standard queries\")\n",
    "\n",
    "plt.xticks(np.arange(len(ys)), xs)\n",
    "plt.xlabel('Websites')\n",
    "plt.ylabel('Total Outgoing [B]')\n",
    "#plt.yscale('log')\n",
    "#plt.ylim([0, 10000])"
   ]
  },
  {
   "cell_type": "code",
   "execution_count": 12,
   "metadata": {},
   "outputs": [
    {
     "name": "stdout",
     "output_type": "stream",
     "text": [
      "6615527.5 [6625482]\n",
      "9778.0 [9954, 6625482]\n",
      "10909.0 [4596, 20874, 6625482]\n",
      "6136.0 [3068, 9955, 29140, 6625482]\n",
      "4549.5 [2518, 6226, 16518, 36256, 6625482]\n",
      "3690.0 [2281, 4596, 9955, 20874, 42208, 6625482]\n",
      "2878.0 [2156, 3645, 7083, 14218, 23804, 47211, 6625482]\n",
      "2542.0 [2044, 3068, 5751, 9955, 17429, 29140, 52131, 6625482]\n",
      "2412.0 [1934, 2743, 4596, 7783, 13154, 20874, 33054, 56882, 6625482]\n",
      "1935.0 [1829, 2518, 3894, 6226, 9955, 16518, 22934, 36256, 63986, 6625482]\n",
      "1751.0 [1756, 2401, 3409, 5309, 8168, 12637, 18055, 25434, 38741, 71072, 6625482]\n",
      "1722.0 [1656, 2281, 3068, 4596, 6690, 9955, 15180, 20874, 29140, 42208, 77886, 6625482]\n",
      "1539.0 [1588, 2225, 2849, 4055, 5996, 8531, 12283, 17210, 22057, 32090, 43934, 80534, 6625482]\n",
      "1208.0 [1558, 2156, 2665, 3645, 5162, 7083, 9957, 14219, 18501, 23804, 33798, 47211, 86080, 6625482]\n",
      "1395.0 [1516, 2093, 2518, 3278, 4596, 6226, 8733, 11971, 16518, 20874, 26347, 36260, 50351, 91554, 6625482]\n",
      "1074.0 [1490, 2044, 2445, 3068, 4135, 5754, 7476, 9957, 13514, 17432, 21639, 29155, 38138, 52131, 96892, 6625482]\n",
      "1097.0 [1476, 1995, 2359, 2924, 3804, 5052, 6553, 8902, 11545, 15501, 18834, 23009, 31096, 39614, 54373, 98570, 6625482]\n",
      "1069.0 [1423, 1934, 2281, 2743, 3516, 4596, 6095, 7783, 9955, 13154, 16950, 20874, 24795, 33054, 42214, 56882, 106481, 6625482]\n",
      "851.0 [1404, 1871, 2247, 2623, 3249, 4211, 5485, 6787, 9056, 11336, 14877, 17678, 21436, 26854, 34175, 43023, 61075, 112150, 6625482]\n",
      "956.0 [1381, 1829, 2200, 2518, 3068, 3894, 4971, 6226, 7983, 9957, 12895, 16518, 19149, 22934, 29158, 36260, 44879, 64207, 118564, 6625482]\n",
      "879.0 [1364, 1782, 2156, 2464, 2959, 3645, 4596, 5911, 7083, 9206, 11235, 14222, 17250, 20874, 23804, 30465, 37529, 47230, 67413, 124320, 6625482]\n",
      "752.0 [1356, 1756, 2104, 2401, 2803, 3409, 4262, 5309, 6474, 8168, 9957, 12639, 15745, 18060, 21404, 25442, 32520, 38743, 49280, 71110, 130800, 6625482]\n",
      "842.0 [1340, 1709, 2069, 2341, 2701, 3222, 4001, 4933, 6145, 7318, 9264, 11118, 13792, 16866, 19382, 22525, 27216, 33607, 40275, 50954, 74404, 137481, 6625482]\n",
      "731.0 [1334, 1656, 2044, 2281, 2608, 3068, 3756, 4596, 5751, 6690, 8345, 9955, 12402, 15180, 17429, 20874, 23112, 29140, 34765, 42208, 52131, 77886, 137823, 6625482]\n",
      "704.0 [1323, 1622, 2008, 2263, 2518, 2973, 3560, 4319, 5233, 6226, 7610, 9297, 11090, 13401, 16518, 18390, 21287, 24554, 30257, 36256, 42691, 53910, 78992, 142550, 6625482]\n",
      "704.0 [1316, 1588, 1979, 2225, 2473, 2850, 3336, 4055, 4897, 5996, 6860, 8534, 9960, 12287, 14690, 17210, 19600, 22065, 25984, 32090, 37126, 43940, 55123, 80534, 146045, 6625482]\n",
      "643.0 [1316, 1576, 1934, 2183, 2424, 2743, 3196, 3843, 4597, 5565, 6435, 7786, 9337, 11015, 13159, 15920, 17526, 20874, 22981, 27515, 33076, 38243, 45493, 56883, 83505, 151596, 6625482]\n",
      "642.0 [1301, 1558, 1898, 2156, 2377, 2665, 3068, 3645, 4348, 5162, 6180, 7083, 8670, 9957, 12107, 14219, 16866, 18501, 21088, 23804, 29155, 33798, 39416, 47211, 59252, 86080, 151837, 6625482]\n",
      "603.0 [1294, 1530, 1863, 2120, 2329, 2592, 2980, 3484, 4096, 4870, 5873, 6619, 7929, 9347, 10925, 13026, 15388, 17259, 19672, 21814, 25046, 30020, 35024, 40538, 48888, 62082, 87944, 152022, 6625482]\n",
      "604.0 [1288, 1516, 1829, 2093, 2281, 2518, 2887, 3278, 3894, 4596, 5416, 6226, 7243, 8733, 9957, 11971, 13846, 16518, 17844, 20874, 22934, 26347, 31438, 36260, 42217, 50351, 64207, 91554, 155363, 6625482]\n",
      "526.0 [1285, 1514, 1786, 2059, 2270, 2473, 2784, 3176, 3735, 4374, 5113, 6051, 6744, 8058, 9380, 10877, 12847, 14993, 17074, 18629, 21047, 23222, 27744, 32804, 37002, 42451, 51055, 66450, 94804, 158906, 6625482]\n",
      "554.0 [1283, 1490, 1776, 2044, 2234, 2445, 2715, 3069, 3586, 4136, 4839, 5754, 6401, 7476, 8803, 9960, 11733, 13516, 16000, 17435, 19806, 21642, 24400, 29170, 33405, 38140, 43505, 52133, 68706, 97009, 162494, 6625482]\n",
      "533.0 [1279, 1482, 1756, 2020, 2211, 2401, 2642, 2989, 3409, 3974, 4596, 5309, 6184, 6914, 8168, 9408, 10805, 12639, 14587, 16784, 18060, 20874, 22666, 25442, 29950, 33970, 38743, 44292, 53670, 71110, 97184, 165631, 6625482]\n",
      "489.0 [1279, 1476, 1726, 1995, 2182, 2359, 2578, 2924, 3269, 3804, 4386, 5052, 5949, 6553, 7628, 8902, 9959, 11545, 13330, 15501, 17250, 18834, 21022, 23009, 26688, 31096, 35147, 39614, 45677, 54373, 73628, 98570, 171001, 6625482]\n",
      "508.5 [1279, 1463, 1687, 1969, 2156, 2319, 2518, 2821, 3164, 3646, 4178, 4825, 5626, 6226, 7083, 8283, 9443, 10768, 12488, 14222, 16518, 17482, 19844, 21561, 23804, 27831, 32311, 36265, 40753, 47252, 55454, 75703, 101932, 175740, 6625482]\n",
      "508.0 [1278, 1423, 1656, 1934, 2130, 2281, 2477, 2743, 3069, 3518, 4022, 4597, 5256, 6095, 6692, 7786, 8999, 9960, 11444, 13159, 15181, 16950, 18322, 20874, 22422, 24802, 29170, 33076, 36953, 42222, 48605, 56883, 78146, 106483, 179587, 6625482]\n",
      "454.0 [1275, 1421, 1626, 1912, 2100, 2274, 2457, 2685, 2997, 3361, 3857, 4394, 5005, 5856, 6358, 7209, 8410, 9460, 10740, 12359, 13904, 16002, 17314, 18926, 21022, 22975, 25850, 29914, 33697, 37780, 42382, 49445, 58228, 78900, 109712, 184696, 6625482]\n",
      "433.0 [1270, 1404, 1606, 1871, 2079, 2247, 2419, 2624, 2942, 3249, 3720, 4211, 4812, 5488, 6184, 6788, 7884, 9057, 9959, 11336, 13078, 14879, 16717, 17699, 19858, 21447, 23260, 26858, 30732, 34177, 38329, 43043, 50891, 61201, 79528, 112198, 190410, 6625482]\n",
      "463.0 [1264, 1391, 1588, 1857, 2054, 2225, 2384, 2573, 2849, 3153, 3596, 4055, 4596, 5205, 5996, 6512, 7409, 8531, 9470, 10674, 12283, 13655, 15607, 17210, 18436, 20874, 22057, 24134, 27957, 32090, 35207, 39237, 43934, 51057, 62554, 80534, 115442, 195051, 6625482]\n",
      "441.0 [1259, 1381, 1578, 1830, 2044, 2200, 2349, 2519, 2776, 3069, 3456, 3895, 4412, 4973, 5755, 6226, 6967, 7987, 9133, 9961, 11269, 12897, 14528, 16518, 17437, 19172, 21022, 22935, 25175, 29174, 32889, 36268, 40105, 44895, 52133, 64262, 82506, 119208, 198013, 6625482]\n",
      "414.0 [1248, 1367, 1574, 1803, 2026, 2182, 2315, 2482, 2725, 3003, 3308, 3769, 4229, 4798, 5388, 6141, 6640, 7560, 8632, 9521, 10674, 12148, 13422, 15352, 16906, 17889, 19952, 21409, 23021, 26167, 29911, 33279, 36813, 41052, 46053, 53185, 66158, 84310, 123287, 200378, 6625482]\n",
      "418.0 [1244, 1364, 1559, 1782, 2007, 2156, 2281, 2464, 2666, 2960, 3234, 3646, 4085, 4598, 5164, 5912, 6339, 7084, 8101, 9208, 9961, 11235, 12800, 14226, 16002, 17250, 18506, 20880, 21892, 23804, 27107, 30485, 33809, 37543, 42244, 47273, 53948, 67480, 86372, 124501, 202948, 6625482]\n",
      "408.0 [1238, 1356, 1535, 1771, 1986, 2135, 2274, 2430, 2617, 2872, 3140, 3540, 3958, 4424, 4946, 5662, 6184, 6726, 7677, 8707, 9535, 10657, 12023, 13289, 15016, 16674, 17482, 19304, 21022, 22730, 24598, 28089, 31658, 34646, 38222, 42375, 48101, 54755, 69000, 87543, 126390, 211173, 6625482]\n",
      "391.0 [1231, 1356, 1516, 1756, 1963, 2104, 2256, 2401, 2567, 2803, 3068, 3409, 3829, 4262, 4776, 5309, 6048, 6474, 7186, 8168, 9246, 9957, 11146, 12639, 13937, 15745, 17074, 18060, 20040, 21404, 22986, 25442, 29158, 32520, 35273, 38743, 42817, 49280, 56123, 71110, 88746, 130800, 216450, 6625482]\n",
      "388.0 [1230, 1346, 1516, 1738, 1934, 2094, 2234, 2371, 2519, 2744, 3008, 3278, 3709, 4108, 4598, 5126, 5843, 6226, 6833, 7787, 8738, 9553, 10633, 11971, 13164, 14800, 16518, 17386, 18596, 20891, 21771, 23350, 26347, 29872, 33083, 36275, 39557, 43600, 50407, 56909, 73592, 91679, 135286, 220930, 6625482]\n",
      "368.0 [1223, 1340, 1516, 1709, 1922, 2069, 2216, 2341, 2483, 2701, 2968, 3222, 3604, 4001, 4436, 4933, 5530, 6145, 6593, 7318, 8250, 9264, 9957, 11118, 12518, 13792, 15461, 16866, 17578, 19382, 21022, 22525, 24048, 27216, 30318, 33607, 36713, 40275, 44191, 50954, 57862, 74404, 94208, 137481, 221705, 6625482]\n",
      "364.0 [1219, 1339, 1497, 1687, 1886, 2051, 2191, 2312, 2471, 2652, 2902, 3135, 3493, 3866, 4293, 4771, 5267, 5959, 6331, 6995, 7849, 8796, 9568, 10612, 11820, 13100, 14462, 16002, 17248, 18258, 20095, 21341, 22969, 25044, 28219, 31307, 33894, 37224, 41325, 45257, 51106, 60417, 76396, 95723, 137556, 225338, 6625482]\n",
      "359.0 [1219, 1334, 1490, 1656, 1866, 2044, 2182, 2281, 2445, 2608, 2829, 3069, 3374, 3757, 4136, 4597, 5104, 5754, 6185, 6692, 7476, 8345, 9264, 9960, 11096, 12402, 13516, 15181, 16674, 17435, 18743, 20874, 21642, 23119, 25786, 29170, 32246, 34769, 38140, 42222, 46203, 52133, 61651, 78146, 97009, 137825, 226394, 6625482]\n",
      "347.0 [1219, 1328, 1489, 1626, 1847, 2028, 2156, 2274, 2415, 2562, 2771, 3012, 3276, 3646, 4034, 4445, 4921, 5442, 6063, 6453, 7084, 7949, 8836, 9586, 10601, 11648, 12991, 14227, 15847, 17072, 17822, 19536, 21022, 22372, 23804, 26584, 29770, 32931, 35469, 38372, 42367, 47293, 53022, 62771, 78884, 97184, 139468, 228437, 6625482]\n"
     ]
    }
   ],
   "source": [
    "# compute optimal padding functions based on incoming sizes\n",
    "\n",
    "incoming_bytes.sort()\n",
    "incoming_bytes = [x for x in incoming_bytes if x > 2] # 0 and 1 are special case that correspond to blocked resources\n",
    "\n",
    "def chunks(lst, n):\n",
    "    \"\"\"Yield successive n-sized chunks from lst.\"\"\"\n",
    "    for i in range(0, len(lst), n):\n",
    "        yield lst[i:i + n]\n",
    "\n",
    "def find_cost(data, padding_function_steps):\n",
    "    costs = []\n",
    "    # data is sorted, so i is never decreasing\n",
    "    i = 0\n",
    "    for x in data:\n",
    "        pad_to = padding_function_steps[i]\n",
    "        while x > pad_to:\n",
    "            i += 1\n",
    "            pad_to = padding_function_steps[i]\n",
    "        costs.append(pad_to - x)\n",
    "    return costs\n",
    "\n",
    "\n",
    "def find_optimal_pad(data, n_cut): # data must be sorted\n",
    "    size_of_cut = math.ceil(len(data) / n_cut)\n",
    "    chunked = chunks(data, size_of_cut)\n",
    "    cuts = [chunk[-1] for chunk in chunked]\n",
    "    costs = find_cost(data, cuts)\n",
    "\n",
    "    return cuts, np.median(costs), np.mean(costs)\n",
    "\n",
    "def build_padding_functions():\n",
    "    padding_functions = []\n",
    "    prev_n_cuts = -1\n",
    "    for cut in range(1, 50):\n",
    "        cuts, med_cost, mean_cost = find_optimal_pad(incoming_bytes, cut)\n",
    "        if len(cuts) == prev_n_cuts:\n",
    "            continue\n",
    "        prev_n_cuts = len(cuts)\n",
    "        padding_functions.append([cuts, med_cost, mean_cost])\n",
    "    return padding_functions\n",
    "\n",
    "padding_functions = load_or_compute(\"pad_fn.npy\", build_padding_functions, rebuild=True)\n",
    "\n",
    "for cut, med_cost, mean_cost in padding_functions:\n",
    "    print(med_cost, cut)\n"
   ]
  },
  {
   "cell_type": "code",
   "execution_count": 14,
   "metadata": {},
   "outputs": [],
   "source": [
    "# compute standard padding functions\n",
    "\n",
    "def build_padding_functions_cst_block_size(data):\n",
    "    padding_functions_cst_block_size = []\n",
    "    for blocksize in np.linspace(100, 100000, 10):\n",
    "\n",
    "        cuts = []\n",
    "        cut = 0\n",
    "        m = max(data)\n",
    "        while cut < m:\n",
    "            cut += blocksize\n",
    "            cuts.append(cut)\n",
    "\n",
    "        costs = find_cost(data, cuts)\n",
    "        padding_functions_cst_block_size.append([cuts, np.median(costs), np.mean(costs)])\n",
    "    return padding_functions_cst_block_size\n",
    "\n",
    "padding_functions_cst_block_size = load_or_compute(\"pad_fn_cst_block_size.npy\", lambda: build_padding_functions_cst_block_size(incoming_bytes), rebuild=True)\n",
    "\n",
    "# for cuts, med_cost, mean_cost in padding_functions_cst_block_size:\n",
    "#     if med_cost > 0:\n",
    "#         print(med_cost, cuts)\n",
    "#     else:\n",
    "#         print(med_cost, \"...\")\n"
   ]
  },
  {
   "cell_type": "code",
   "execution_count": 16,
   "metadata": {},
   "outputs": [
    {
     "name": "stdout",
     "output_type": "stream",
     "text": [
      "***************** Working on n cuts: 1\n",
      "Skipping sahafah24.com only 19 samples\n",
      "Skipping 9quotes.com only 19 samples\n",
      "Skipping ragazzeconlavaligia.com , 19 empty samples\n",
      "Skipping bieporn.com only 17 samples\n",
      "Skipping faktabmr.com only 14 samples\n",
      "Skipping miglianicocalcio.net only 14 samples\n",
      "Skipping www.cscpro.org only 14 samples\n",
      "Skipping levitra100pudoff.com only 14 samples\n",
      "Skipping megagroup.ir only 13 samples\n",
      "Skipping educortex.in only 12 samples\n",
      "Skipping arthurmurray.com only 13 samples\n",
      "Skipping hitburada.com only 13 samples\n",
      "Skipping odlotw.blogspot.com only 13 samples\n",
      "Skipping funakoshikarateaustralia.com.au only 13 samples\n",
      "Skipping whoisdog.com only 13 samples\n",
      "Skipping ksgroupscans.com only 1 samples\n",
      "Skipping kk-vine.at only 13 samples\n",
      "Skipping myegypthost.com only 13 samples\n",
      "Skipping matchingimages.com only 13 samples\n",
      "Skipping onlinecasino002.com only 10 samples\n",
      "Skipping kayseriolaylari.com only 9 samples\n",
      "Skipping hpsconline.in only 1 samples\n",
      "[feature_extract] Number of classes 123\n",
      "[feature_extract] Number of features 123\n",
      "[feature_extract] Number of samples 4155\n",
      "[feature_extract] Number of labels 4155\n",
      "Number of classes 123\n",
      "Number of features 123\n",
      "Number of samples 4155\n",
      "Number of labels 4155\n",
      "Fold 0\n",
      "Fold 1\n",
      "Fold 2\n",
      "Fold 3\n"
     ]
    },
    {
     "name": "stderr",
     "output_type": "stream",
     "text": [
      "/Users/ssiby/anaconda3/lib/python3.10/site-packages/sklearn/metrics/_classification.py:1344: UndefinedMetricWarning: Precision is ill-defined and being set to 0.0 in labels with no predicted samples. Use `zero_division` parameter to control this behavior.\n",
      "  _warn_prf(average, modifier, msg_start, len(result))\n"
     ]
    },
    {
     "name": "stdout",
     "output_type": "stream",
     "text": [
      "Fold 4\n"
     ]
    },
    {
     "name": "stderr",
     "output_type": "stream",
     "text": [
      "/Users/ssiby/anaconda3/lib/python3.10/site-packages/sklearn/metrics/_classification.py:1344: UndefinedMetricWarning: Precision is ill-defined and being set to 0.0 in labels with no predicted samples. Use `zero_division` parameter to control this behavior.\n",
      "  _warn_prf(average, modifier, msg_start, len(result))\n"
     ]
    },
    {
     "name": "stdout",
     "output_type": "stream",
     "text": [
      "Fold 5\n"
     ]
    },
    {
     "name": "stderr",
     "output_type": "stream",
     "text": [
      "/Users/ssiby/anaconda3/lib/python3.10/site-packages/sklearn/metrics/_classification.py:1344: UndefinedMetricWarning: Precision is ill-defined and being set to 0.0 in labels with no predicted samples. Use `zero_division` parameter to control this behavior.\n",
      "  _warn_prf(average, modifier, msg_start, len(result))\n"
     ]
    },
    {
     "name": "stdout",
     "output_type": "stream",
     "text": [
      "Fold 6\n"
     ]
    },
    {
     "name": "stderr",
     "output_type": "stream",
     "text": [
      "/Users/ssiby/anaconda3/lib/python3.10/site-packages/sklearn/metrics/_classification.py:1344: UndefinedMetricWarning: Precision is ill-defined and being set to 0.0 in labels with no predicted samples. Use `zero_division` parameter to control this behavior.\n",
      "  _warn_prf(average, modifier, msg_start, len(result))\n"
     ]
    },
    {
     "name": "stdout",
     "output_type": "stream",
     "text": [
      "Fold 7\n"
     ]
    },
    {
     "name": "stderr",
     "output_type": "stream",
     "text": [
      "/Users/ssiby/anaconda3/lib/python3.10/site-packages/sklearn/metrics/_classification.py:1344: UndefinedMetricWarning: Precision is ill-defined and being set to 0.0 in labels with no predicted samples. Use `zero_division` parameter to control this behavior.\n",
      "  _warn_prf(average, modifier, msg_start, len(result))\n"
     ]
    },
    {
     "name": "stdout",
     "output_type": "stream",
     "text": [
      "Fold 8\n",
      "Fold 9\n",
      "***************** Working on n cuts: 2\n",
      "Skipping sahafah24.com only 19 samples\n",
      "Skipping 9quotes.com only 19 samples\n",
      "Skipping ragazzeconlavaligia.com , 19 empty samples\n",
      "Skipping bieporn.com only 17 samples\n",
      "Skipping faktabmr.com only 14 samples\n",
      "Skipping miglianicocalcio.net only 14 samples\n",
      "Skipping www.cscpro.org only 14 samples\n",
      "Skipping levitra100pudoff.com only 14 samples\n",
      "Skipping megagroup.ir only 13 samples\n",
      "Skipping educortex.in only 12 samples\n",
      "Skipping arthurmurray.com only 13 samples\n",
      "Skipping hitburada.com only 13 samples\n",
      "Skipping odlotw.blogspot.com only 13 samples\n",
      "Skipping funakoshikarateaustralia.com.au only 13 samples\n",
      "Skipping whoisdog.com only 13 samples\n",
      "Skipping ksgroupscans.com only 1 samples\n",
      "Skipping kk-vine.at only 13 samples\n",
      "Skipping myegypthost.com only 13 samples\n",
      "Skipping matchingimages.com only 13 samples\n",
      "Skipping onlinecasino002.com only 10 samples\n",
      "Skipping kayseriolaylari.com only 9 samples\n",
      "Skipping hpsconline.in only 1 samples\n",
      "[feature_extract] Number of classes 123\n",
      "[feature_extract] Number of features 123\n",
      "[feature_extract] Number of samples 4155\n",
      "[feature_extract] Number of labels 4155\n",
      "Number of classes 123\n",
      "Number of features 123\n",
      "Number of samples 4155\n",
      "Number of labels 4155\n",
      "Fold 0\n",
      "Fold 1\n",
      "Fold 2\n",
      "Fold 3\n",
      "Fold 4\n",
      "Fold 5\n",
      "Fold 6\n",
      "Fold 7\n",
      "Fold 8\n",
      "Fold 9\n",
      "***************** Working on n cuts: 3\n",
      "Skipping sahafah24.com only 19 samples\n",
      "Skipping 9quotes.com only 19 samples\n",
      "Skipping ragazzeconlavaligia.com , 19 empty samples\n",
      "Skipping bieporn.com only 17 samples\n",
      "Skipping faktabmr.com only 14 samples\n",
      "Skipping miglianicocalcio.net only 14 samples\n",
      "Skipping www.cscpro.org only 14 samples\n",
      "Skipping levitra100pudoff.com only 14 samples\n",
      "Skipping megagroup.ir only 13 samples\n",
      "Skipping educortex.in only 12 samples\n",
      "Skipping arthurmurray.com only 13 samples\n",
      "Skipping hitburada.com only 13 samples\n",
      "Skipping odlotw.blogspot.com only 13 samples\n",
      "Skipping funakoshikarateaustralia.com.au only 13 samples\n",
      "Skipping whoisdog.com only 13 samples\n",
      "Skipping ksgroupscans.com only 1 samples\n",
      "Skipping kk-vine.at only 13 samples\n",
      "Skipping myegypthost.com only 13 samples\n",
      "Skipping matchingimages.com only 13 samples\n",
      "Skipping onlinecasino002.com only 10 samples\n",
      "Skipping kayseriolaylari.com only 9 samples\n",
      "Skipping hpsconline.in only 1 samples\n",
      "[feature_extract] Number of classes 123\n",
      "[feature_extract] Number of features 123\n",
      "[feature_extract] Number of samples 4155\n",
      "[feature_extract] Number of labels 4155\n",
      "Number of classes 123\n",
      "Number of features 123\n",
      "Number of samples 4155\n",
      "Number of labels 4155\n",
      "Fold 0\n",
      "Fold 1\n",
      "Fold 2\n",
      "Fold 3\n",
      "Fold 4\n",
      "Fold 5\n",
      "Fold 6\n",
      "Fold 7\n",
      "Fold 8\n",
      "Fold 9\n",
      "***************** Working on n cuts: 4\n",
      "Skipping sahafah24.com only 19 samples\n",
      "Skipping 9quotes.com only 19 samples\n",
      "Skipping ragazzeconlavaligia.com , 19 empty samples\n",
      "Skipping bieporn.com only 17 samples\n",
      "Skipping faktabmr.com only 14 samples\n",
      "Skipping miglianicocalcio.net only 14 samples\n",
      "Skipping www.cscpro.org only 14 samples\n",
      "Skipping levitra100pudoff.com only 14 samples\n",
      "Skipping megagroup.ir only 13 samples\n",
      "Skipping educortex.in only 12 samples\n",
      "Skipping arthurmurray.com only 13 samples\n",
      "Skipping hitburada.com only 13 samples\n",
      "Skipping odlotw.blogspot.com only 13 samples\n",
      "Skipping funakoshikarateaustralia.com.au only 13 samples\n",
      "Skipping whoisdog.com only 13 samples\n",
      "Skipping ksgroupscans.com only 1 samples\n",
      "Skipping kk-vine.at only 13 samples\n",
      "Skipping myegypthost.com only 13 samples\n",
      "Skipping matchingimages.com only 13 samples\n",
      "Skipping onlinecasino002.com only 10 samples\n",
      "Skipping kayseriolaylari.com only 9 samples\n",
      "Skipping hpsconline.in only 1 samples\n",
      "[feature_extract] Number of classes 123\n",
      "[feature_extract] Number of features 123\n",
      "[feature_extract] Number of samples 4155\n",
      "[feature_extract] Number of labels 4155\n",
      "Number of classes 123\n",
      "Number of features 123\n",
      "Number of samples 4155\n",
      "Number of labels 4155\n",
      "Fold 0\n"
     ]
    },
    {
     "name": "stderr",
     "output_type": "stream",
     "text": [
      "/Users/ssiby/anaconda3/lib/python3.10/site-packages/sklearn/metrics/_classification.py:1344: UndefinedMetricWarning: Precision is ill-defined and being set to 0.0 in labels with no predicted samples. Use `zero_division` parameter to control this behavior.\n",
      "  _warn_prf(average, modifier, msg_start, len(result))\n"
     ]
    },
    {
     "name": "stdout",
     "output_type": "stream",
     "text": [
      "Fold 1\n"
     ]
    },
    {
     "name": "stderr",
     "output_type": "stream",
     "text": [
      "/Users/ssiby/anaconda3/lib/python3.10/site-packages/sklearn/metrics/_classification.py:1344: UndefinedMetricWarning: Precision is ill-defined and being set to 0.0 in labels with no predicted samples. Use `zero_division` parameter to control this behavior.\n",
      "  _warn_prf(average, modifier, msg_start, len(result))\n"
     ]
    },
    {
     "name": "stdout",
     "output_type": "stream",
     "text": [
      "Fold 2\n"
     ]
    },
    {
     "name": "stderr",
     "output_type": "stream",
     "text": [
      "/Users/ssiby/anaconda3/lib/python3.10/site-packages/sklearn/metrics/_classification.py:1344: UndefinedMetricWarning: Precision is ill-defined and being set to 0.0 in labels with no predicted samples. Use `zero_division` parameter to control this behavior.\n",
      "  _warn_prf(average, modifier, msg_start, len(result))\n"
     ]
    },
    {
     "name": "stdout",
     "output_type": "stream",
     "text": [
      "Fold 3\n"
     ]
    },
    {
     "name": "stderr",
     "output_type": "stream",
     "text": [
      "/Users/ssiby/anaconda3/lib/python3.10/site-packages/sklearn/metrics/_classification.py:1344: UndefinedMetricWarning: Precision is ill-defined and being set to 0.0 in labels with no predicted samples. Use `zero_division` parameter to control this behavior.\n",
      "  _warn_prf(average, modifier, msg_start, len(result))\n"
     ]
    },
    {
     "name": "stdout",
     "output_type": "stream",
     "text": [
      "Fold 4\n"
     ]
    },
    {
     "name": "stderr",
     "output_type": "stream",
     "text": [
      "/Users/ssiby/anaconda3/lib/python3.10/site-packages/sklearn/metrics/_classification.py:1344: UndefinedMetricWarning: Precision is ill-defined and being set to 0.0 in labels with no predicted samples. Use `zero_division` parameter to control this behavior.\n",
      "  _warn_prf(average, modifier, msg_start, len(result))\n"
     ]
    },
    {
     "name": "stdout",
     "output_type": "stream",
     "text": [
      "Fold 5\n"
     ]
    },
    {
     "name": "stderr",
     "output_type": "stream",
     "text": [
      "/Users/ssiby/anaconda3/lib/python3.10/site-packages/sklearn/metrics/_classification.py:1344: UndefinedMetricWarning: Precision is ill-defined and being set to 0.0 in labels with no predicted samples. Use `zero_division` parameter to control this behavior.\n",
      "  _warn_prf(average, modifier, msg_start, len(result))\n"
     ]
    },
    {
     "name": "stdout",
     "output_type": "stream",
     "text": [
      "Fold 6\n"
     ]
    },
    {
     "name": "stderr",
     "output_type": "stream",
     "text": [
      "/Users/ssiby/anaconda3/lib/python3.10/site-packages/sklearn/metrics/_classification.py:1344: UndefinedMetricWarning: Precision is ill-defined and being set to 0.0 in labels with no predicted samples. Use `zero_division` parameter to control this behavior.\n",
      "  _warn_prf(average, modifier, msg_start, len(result))\n"
     ]
    },
    {
     "name": "stdout",
     "output_type": "stream",
     "text": [
      "Fold 7\n"
     ]
    },
    {
     "name": "stderr",
     "output_type": "stream",
     "text": [
      "/Users/ssiby/anaconda3/lib/python3.10/site-packages/sklearn/metrics/_classification.py:1344: UndefinedMetricWarning: Precision is ill-defined and being set to 0.0 in labels with no predicted samples. Use `zero_division` parameter to control this behavior.\n",
      "  _warn_prf(average, modifier, msg_start, len(result))\n"
     ]
    },
    {
     "name": "stdout",
     "output_type": "stream",
     "text": [
      "Fold 8\n"
     ]
    },
    {
     "name": "stderr",
     "output_type": "stream",
     "text": [
      "/Users/ssiby/anaconda3/lib/python3.10/site-packages/sklearn/metrics/_classification.py:1344: UndefinedMetricWarning: Precision is ill-defined and being set to 0.0 in labels with no predicted samples. Use `zero_division` parameter to control this behavior.\n",
      "  _warn_prf(average, modifier, msg_start, len(result))\n"
     ]
    },
    {
     "name": "stdout",
     "output_type": "stream",
     "text": [
      "Fold 9\n"
     ]
    },
    {
     "name": "stderr",
     "output_type": "stream",
     "text": [
      "/Users/ssiby/anaconda3/lib/python3.10/site-packages/sklearn/metrics/_classification.py:1344: UndefinedMetricWarning: Precision is ill-defined and being set to 0.0 in labels with no predicted samples. Use `zero_division` parameter to control this behavior.\n",
      "  _warn_prf(average, modifier, msg_start, len(result))\n"
     ]
    },
    {
     "name": "stdout",
     "output_type": "stream",
     "text": [
      "***************** Working on n cuts: 5\n",
      "Skipping sahafah24.com only 19 samples\n",
      "Skipping 9quotes.com only 19 samples\n",
      "Skipping ragazzeconlavaligia.com , 19 empty samples\n",
      "Skipping bieporn.com only 17 samples\n",
      "Skipping faktabmr.com only 14 samples\n",
      "Skipping miglianicocalcio.net only 14 samples\n",
      "Skipping www.cscpro.org only 14 samples\n",
      "Skipping levitra100pudoff.com only 14 samples\n",
      "Skipping megagroup.ir only 13 samples\n",
      "Skipping educortex.in only 12 samples\n",
      "Skipping arthurmurray.com only 13 samples\n",
      "Skipping hitburada.com only 13 samples\n",
      "Skipping odlotw.blogspot.com only 13 samples\n",
      "Skipping funakoshikarateaustralia.com.au only 13 samples\n",
      "Skipping whoisdog.com only 13 samples\n",
      "Skipping ksgroupscans.com only 1 samples\n",
      "Skipping kk-vine.at only 13 samples\n",
      "Skipping myegypthost.com only 13 samples\n",
      "Skipping matchingimages.com only 13 samples\n",
      "Skipping onlinecasino002.com only 10 samples\n",
      "Skipping kayseriolaylari.com only 9 samples\n",
      "Skipping hpsconline.in only 1 samples\n",
      "[feature_extract] Number of classes 123\n",
      "[feature_extract] Number of features 123\n",
      "[feature_extract] Number of samples 4155\n",
      "[feature_extract] Number of labels 4155\n",
      "Number of classes 123\n",
      "Number of features 123\n",
      "Number of samples 4155\n",
      "Number of labels 4155\n",
      "Fold 0\n"
     ]
    },
    {
     "name": "stderr",
     "output_type": "stream",
     "text": [
      "/Users/ssiby/anaconda3/lib/python3.10/site-packages/sklearn/metrics/_classification.py:1344: UndefinedMetricWarning: Precision is ill-defined and being set to 0.0 in labels with no predicted samples. Use `zero_division` parameter to control this behavior.\n",
      "  _warn_prf(average, modifier, msg_start, len(result))\n"
     ]
    },
    {
     "name": "stdout",
     "output_type": "stream",
     "text": [
      "Fold 1\n"
     ]
    },
    {
     "name": "stderr",
     "output_type": "stream",
     "text": [
      "/Users/ssiby/anaconda3/lib/python3.10/site-packages/sklearn/metrics/_classification.py:1344: UndefinedMetricWarning: Precision is ill-defined and being set to 0.0 in labels with no predicted samples. Use `zero_division` parameter to control this behavior.\n",
      "  _warn_prf(average, modifier, msg_start, len(result))\n"
     ]
    },
    {
     "name": "stdout",
     "output_type": "stream",
     "text": [
      "Fold 2\n"
     ]
    },
    {
     "name": "stderr",
     "output_type": "stream",
     "text": [
      "/Users/ssiby/anaconda3/lib/python3.10/site-packages/sklearn/metrics/_classification.py:1344: UndefinedMetricWarning: Precision is ill-defined and being set to 0.0 in labels with no predicted samples. Use `zero_division` parameter to control this behavior.\n",
      "  _warn_prf(average, modifier, msg_start, len(result))\n"
     ]
    },
    {
     "name": "stdout",
     "output_type": "stream",
     "text": [
      "Fold 3\n"
     ]
    },
    {
     "name": "stderr",
     "output_type": "stream",
     "text": [
      "/Users/ssiby/anaconda3/lib/python3.10/site-packages/sklearn/metrics/_classification.py:1344: UndefinedMetricWarning: Precision is ill-defined and being set to 0.0 in labels with no predicted samples. Use `zero_division` parameter to control this behavior.\n",
      "  _warn_prf(average, modifier, msg_start, len(result))\n"
     ]
    },
    {
     "name": "stdout",
     "output_type": "stream",
     "text": [
      "Fold 4\n"
     ]
    },
    {
     "name": "stderr",
     "output_type": "stream",
     "text": [
      "/Users/ssiby/anaconda3/lib/python3.10/site-packages/sklearn/metrics/_classification.py:1344: UndefinedMetricWarning: Precision is ill-defined and being set to 0.0 in labels with no predicted samples. Use `zero_division` parameter to control this behavior.\n",
      "  _warn_prf(average, modifier, msg_start, len(result))\n"
     ]
    },
    {
     "name": "stdout",
     "output_type": "stream",
     "text": [
      "Fold 5\n"
     ]
    },
    {
     "name": "stderr",
     "output_type": "stream",
     "text": [
      "/Users/ssiby/anaconda3/lib/python3.10/site-packages/sklearn/metrics/_classification.py:1344: UndefinedMetricWarning: Precision is ill-defined and being set to 0.0 in labels with no predicted samples. Use `zero_division` parameter to control this behavior.\n",
      "  _warn_prf(average, modifier, msg_start, len(result))\n"
     ]
    },
    {
     "name": "stdout",
     "output_type": "stream",
     "text": [
      "Fold 6\n"
     ]
    },
    {
     "name": "stderr",
     "output_type": "stream",
     "text": [
      "/Users/ssiby/anaconda3/lib/python3.10/site-packages/sklearn/metrics/_classification.py:1344: UndefinedMetricWarning: Precision is ill-defined and being set to 0.0 in labels with no predicted samples. Use `zero_division` parameter to control this behavior.\n",
      "  _warn_prf(average, modifier, msg_start, len(result))\n"
     ]
    },
    {
     "name": "stdout",
     "output_type": "stream",
     "text": [
      "Fold 7\n"
     ]
    },
    {
     "name": "stderr",
     "output_type": "stream",
     "text": [
      "/Users/ssiby/anaconda3/lib/python3.10/site-packages/sklearn/metrics/_classification.py:1344: UndefinedMetricWarning: Precision is ill-defined and being set to 0.0 in labels with no predicted samples. Use `zero_division` parameter to control this behavior.\n",
      "  _warn_prf(average, modifier, msg_start, len(result))\n"
     ]
    },
    {
     "name": "stdout",
     "output_type": "stream",
     "text": [
      "Fold 8\n"
     ]
    },
    {
     "name": "stderr",
     "output_type": "stream",
     "text": [
      "/Users/ssiby/anaconda3/lib/python3.10/site-packages/sklearn/metrics/_classification.py:1344: UndefinedMetricWarning: Precision is ill-defined and being set to 0.0 in labels with no predicted samples. Use `zero_division` parameter to control this behavior.\n",
      "  _warn_prf(average, modifier, msg_start, len(result))\n"
     ]
    },
    {
     "name": "stdout",
     "output_type": "stream",
     "text": [
      "Fold 9\n"
     ]
    },
    {
     "name": "stderr",
     "output_type": "stream",
     "text": [
      "/Users/ssiby/anaconda3/lib/python3.10/site-packages/sklearn/metrics/_classification.py:1344: UndefinedMetricWarning: Precision is ill-defined and being set to 0.0 in labels with no predicted samples. Use `zero_division` parameter to control this behavior.\n",
      "  _warn_prf(average, modifier, msg_start, len(result))\n"
     ]
    },
    {
     "name": "stdout",
     "output_type": "stream",
     "text": [
      "***************** Working on n cuts: 6\n",
      "Skipping sahafah24.com only 19 samples\n",
      "Skipping 9quotes.com only 19 samples\n",
      "Skipping ragazzeconlavaligia.com , 19 empty samples\n",
      "Skipping bieporn.com only 17 samples\n",
      "Skipping faktabmr.com only 14 samples\n",
      "Skipping miglianicocalcio.net only 14 samples\n",
      "Skipping www.cscpro.org only 14 samples\n",
      "Skipping levitra100pudoff.com only 14 samples\n",
      "Skipping megagroup.ir only 13 samples\n",
      "Skipping educortex.in only 12 samples\n",
      "Skipping arthurmurray.com only 13 samples\n",
      "Skipping hitburada.com only 13 samples\n",
      "Skipping odlotw.blogspot.com only 13 samples\n",
      "Skipping funakoshikarateaustralia.com.au only 13 samples\n",
      "Skipping whoisdog.com only 13 samples\n",
      "Skipping ksgroupscans.com only 1 samples\n",
      "Skipping kk-vine.at only 13 samples\n",
      "Skipping myegypthost.com only 13 samples\n",
      "Skipping matchingimages.com only 13 samples\n",
      "Skipping onlinecasino002.com only 10 samples\n",
      "Skipping kayseriolaylari.com only 9 samples\n",
      "Skipping hpsconline.in only 1 samples\n",
      "[feature_extract] Number of classes 123\n",
      "[feature_extract] Number of features 123\n",
      "[feature_extract] Number of samples 4155\n",
      "[feature_extract] Number of labels 4155\n",
      "Number of classes 123\n",
      "Number of features 123\n",
      "Number of samples 4155\n",
      "Number of labels 4155\n",
      "Fold 0\n"
     ]
    },
    {
     "name": "stderr",
     "output_type": "stream",
     "text": [
      "/Users/ssiby/anaconda3/lib/python3.10/site-packages/sklearn/metrics/_classification.py:1344: UndefinedMetricWarning: Precision is ill-defined and being set to 0.0 in labels with no predicted samples. Use `zero_division` parameter to control this behavior.\n",
      "  _warn_prf(average, modifier, msg_start, len(result))\n"
     ]
    },
    {
     "name": "stdout",
     "output_type": "stream",
     "text": [
      "Fold 1\n"
     ]
    },
    {
     "name": "stderr",
     "output_type": "stream",
     "text": [
      "/Users/ssiby/anaconda3/lib/python3.10/site-packages/sklearn/metrics/_classification.py:1344: UndefinedMetricWarning: Precision is ill-defined and being set to 0.0 in labels with no predicted samples. Use `zero_division` parameter to control this behavior.\n",
      "  _warn_prf(average, modifier, msg_start, len(result))\n"
     ]
    },
    {
     "name": "stdout",
     "output_type": "stream",
     "text": [
      "Fold 2\n"
     ]
    },
    {
     "name": "stderr",
     "output_type": "stream",
     "text": [
      "/Users/ssiby/anaconda3/lib/python3.10/site-packages/sklearn/metrics/_classification.py:1344: UndefinedMetricWarning: Precision is ill-defined and being set to 0.0 in labels with no predicted samples. Use `zero_division` parameter to control this behavior.\n",
      "  _warn_prf(average, modifier, msg_start, len(result))\n"
     ]
    },
    {
     "name": "stdout",
     "output_type": "stream",
     "text": [
      "Fold 3\n"
     ]
    },
    {
     "name": "stderr",
     "output_type": "stream",
     "text": [
      "/Users/ssiby/anaconda3/lib/python3.10/site-packages/sklearn/metrics/_classification.py:1344: UndefinedMetricWarning: Precision is ill-defined and being set to 0.0 in labels with no predicted samples. Use `zero_division` parameter to control this behavior.\n",
      "  _warn_prf(average, modifier, msg_start, len(result))\n"
     ]
    },
    {
     "name": "stdout",
     "output_type": "stream",
     "text": [
      "Fold 4\n"
     ]
    },
    {
     "name": "stderr",
     "output_type": "stream",
     "text": [
      "/Users/ssiby/anaconda3/lib/python3.10/site-packages/sklearn/metrics/_classification.py:1344: UndefinedMetricWarning: Precision is ill-defined and being set to 0.0 in labels with no predicted samples. Use `zero_division` parameter to control this behavior.\n",
      "  _warn_prf(average, modifier, msg_start, len(result))\n"
     ]
    },
    {
     "name": "stdout",
     "output_type": "stream",
     "text": [
      "Fold 5\n",
      "Fold 6\n"
     ]
    },
    {
     "name": "stderr",
     "output_type": "stream",
     "text": [
      "/Users/ssiby/anaconda3/lib/python3.10/site-packages/sklearn/metrics/_classification.py:1344: UndefinedMetricWarning: Precision is ill-defined and being set to 0.0 in labels with no predicted samples. Use `zero_division` parameter to control this behavior.\n",
      "  _warn_prf(average, modifier, msg_start, len(result))\n"
     ]
    },
    {
     "name": "stdout",
     "output_type": "stream",
     "text": [
      "Fold 7\n"
     ]
    },
    {
     "name": "stderr",
     "output_type": "stream",
     "text": [
      "/Users/ssiby/anaconda3/lib/python3.10/site-packages/sklearn/metrics/_classification.py:1344: UndefinedMetricWarning: Precision is ill-defined and being set to 0.0 in labels with no predicted samples. Use `zero_division` parameter to control this behavior.\n",
      "  _warn_prf(average, modifier, msg_start, len(result))\n"
     ]
    },
    {
     "name": "stdout",
     "output_type": "stream",
     "text": [
      "Fold 8\n",
      "Fold 9\n"
     ]
    },
    {
     "name": "stderr",
     "output_type": "stream",
     "text": [
      "/Users/ssiby/anaconda3/lib/python3.10/site-packages/sklearn/metrics/_classification.py:1344: UndefinedMetricWarning: Precision is ill-defined and being set to 0.0 in labels with no predicted samples. Use `zero_division` parameter to control this behavior.\n",
      "  _warn_prf(average, modifier, msg_start, len(result))\n"
     ]
    },
    {
     "name": "stdout",
     "output_type": "stream",
     "text": [
      "***************** Working on n cuts: 7\n",
      "Skipping sahafah24.com only 19 samples\n",
      "Skipping 9quotes.com only 19 samples\n",
      "Skipping ragazzeconlavaligia.com , 19 empty samples\n",
      "Skipping bieporn.com only 17 samples\n",
      "Skipping faktabmr.com only 14 samples\n",
      "Skipping miglianicocalcio.net only 14 samples\n",
      "Skipping www.cscpro.org only 14 samples\n",
      "Skipping levitra100pudoff.com only 14 samples\n",
      "Skipping megagroup.ir only 13 samples\n",
      "Skipping educortex.in only 12 samples\n",
      "Skipping arthurmurray.com only 13 samples\n",
      "Skipping hitburada.com only 13 samples\n",
      "Skipping odlotw.blogspot.com only 13 samples\n",
      "Skipping funakoshikarateaustralia.com.au only 13 samples\n",
      "Skipping whoisdog.com only 13 samples\n",
      "Skipping ksgroupscans.com only 1 samples\n",
      "Skipping kk-vine.at only 13 samples\n",
      "Skipping myegypthost.com only 13 samples\n",
      "Skipping matchingimages.com only 13 samples\n",
      "Skipping onlinecasino002.com only 10 samples\n",
      "Skipping kayseriolaylari.com only 9 samples\n",
      "Skipping hpsconline.in only 1 samples\n",
      "[feature_extract] Number of classes 123\n",
      "[feature_extract] Number of features 123\n",
      "[feature_extract] Number of samples 4155\n",
      "[feature_extract] Number of labels 4155\n",
      "Number of classes 123\n",
      "Number of features 123\n",
      "Number of samples 4155\n",
      "Number of labels 4155\n",
      "Fold 0\n"
     ]
    },
    {
     "name": "stderr",
     "output_type": "stream",
     "text": [
      "/Users/ssiby/anaconda3/lib/python3.10/site-packages/sklearn/metrics/_classification.py:1344: UndefinedMetricWarning: Precision is ill-defined and being set to 0.0 in labels with no predicted samples. Use `zero_division` parameter to control this behavior.\n",
      "  _warn_prf(average, modifier, msg_start, len(result))\n"
     ]
    },
    {
     "name": "stdout",
     "output_type": "stream",
     "text": [
      "Fold 1\n"
     ]
    },
    {
     "name": "stderr",
     "output_type": "stream",
     "text": [
      "/Users/ssiby/anaconda3/lib/python3.10/site-packages/sklearn/metrics/_classification.py:1344: UndefinedMetricWarning: Precision is ill-defined and being set to 0.0 in labels with no predicted samples. Use `zero_division` parameter to control this behavior.\n",
      "  _warn_prf(average, modifier, msg_start, len(result))\n"
     ]
    },
    {
     "name": "stdout",
     "output_type": "stream",
     "text": [
      "Fold 2\n"
     ]
    },
    {
     "name": "stderr",
     "output_type": "stream",
     "text": [
      "/Users/ssiby/anaconda3/lib/python3.10/site-packages/sklearn/metrics/_classification.py:1344: UndefinedMetricWarning: Precision is ill-defined and being set to 0.0 in labels with no predicted samples. Use `zero_division` parameter to control this behavior.\n",
      "  _warn_prf(average, modifier, msg_start, len(result))\n"
     ]
    },
    {
     "name": "stdout",
     "output_type": "stream",
     "text": [
      "Fold 3\n"
     ]
    },
    {
     "name": "stderr",
     "output_type": "stream",
     "text": [
      "/Users/ssiby/anaconda3/lib/python3.10/site-packages/sklearn/metrics/_classification.py:1344: UndefinedMetricWarning: Precision is ill-defined and being set to 0.0 in labels with no predicted samples. Use `zero_division` parameter to control this behavior.\n",
      "  _warn_prf(average, modifier, msg_start, len(result))\n"
     ]
    },
    {
     "name": "stdout",
     "output_type": "stream",
     "text": [
      "Fold 4\n"
     ]
    },
    {
     "name": "stderr",
     "output_type": "stream",
     "text": [
      "/Users/ssiby/anaconda3/lib/python3.10/site-packages/sklearn/metrics/_classification.py:1344: UndefinedMetricWarning: Precision is ill-defined and being set to 0.0 in labels with no predicted samples. Use `zero_division` parameter to control this behavior.\n",
      "  _warn_prf(average, modifier, msg_start, len(result))\n"
     ]
    },
    {
     "name": "stdout",
     "output_type": "stream",
     "text": [
      "Fold 5\n"
     ]
    },
    {
     "name": "stderr",
     "output_type": "stream",
     "text": [
      "/Users/ssiby/anaconda3/lib/python3.10/site-packages/sklearn/metrics/_classification.py:1344: UndefinedMetricWarning: Precision is ill-defined and being set to 0.0 in labels with no predicted samples. Use `zero_division` parameter to control this behavior.\n",
      "  _warn_prf(average, modifier, msg_start, len(result))\n"
     ]
    },
    {
     "name": "stdout",
     "output_type": "stream",
     "text": [
      "Fold 6\n"
     ]
    },
    {
     "name": "stderr",
     "output_type": "stream",
     "text": [
      "/Users/ssiby/anaconda3/lib/python3.10/site-packages/sklearn/metrics/_classification.py:1344: UndefinedMetricWarning: Precision is ill-defined and being set to 0.0 in labels with no predicted samples. Use `zero_division` parameter to control this behavior.\n",
      "  _warn_prf(average, modifier, msg_start, len(result))\n"
     ]
    },
    {
     "name": "stdout",
     "output_type": "stream",
     "text": [
      "Fold 7\n"
     ]
    },
    {
     "name": "stderr",
     "output_type": "stream",
     "text": [
      "/Users/ssiby/anaconda3/lib/python3.10/site-packages/sklearn/metrics/_classification.py:1344: UndefinedMetricWarning: Precision is ill-defined and being set to 0.0 in labels with no predicted samples. Use `zero_division` parameter to control this behavior.\n",
      "  _warn_prf(average, modifier, msg_start, len(result))\n"
     ]
    },
    {
     "name": "stdout",
     "output_type": "stream",
     "text": [
      "Fold 8\n"
     ]
    },
    {
     "name": "stderr",
     "output_type": "stream",
     "text": [
      "/Users/ssiby/anaconda3/lib/python3.10/site-packages/sklearn/metrics/_classification.py:1344: UndefinedMetricWarning: Precision is ill-defined and being set to 0.0 in labels with no predicted samples. Use `zero_division` parameter to control this behavior.\n",
      "  _warn_prf(average, modifier, msg_start, len(result))\n"
     ]
    },
    {
     "name": "stdout",
     "output_type": "stream",
     "text": [
      "Fold 9\n"
     ]
    },
    {
     "name": "stderr",
     "output_type": "stream",
     "text": [
      "/Users/ssiby/anaconda3/lib/python3.10/site-packages/sklearn/metrics/_classification.py:1344: UndefinedMetricWarning: Precision is ill-defined and being set to 0.0 in labels with no predicted samples. Use `zero_division` parameter to control this behavior.\n",
      "  _warn_prf(average, modifier, msg_start, len(result))\n"
     ]
    },
    {
     "name": "stdout",
     "output_type": "stream",
     "text": [
      "***************** Working on n cuts: 8\n",
      "Skipping sahafah24.com only 19 samples\n",
      "Skipping 9quotes.com only 19 samples\n",
      "Skipping ragazzeconlavaligia.com , 19 empty samples\n",
      "Skipping bieporn.com only 17 samples\n",
      "Skipping faktabmr.com only 14 samples\n",
      "Skipping miglianicocalcio.net only 14 samples\n",
      "Skipping www.cscpro.org only 14 samples\n",
      "Skipping levitra100pudoff.com only 14 samples\n",
      "Skipping megagroup.ir only 13 samples\n",
      "Skipping educortex.in only 12 samples\n",
      "Skipping arthurmurray.com only 13 samples\n",
      "Skipping hitburada.com only 13 samples\n",
      "Skipping odlotw.blogspot.com only 13 samples\n",
      "Skipping funakoshikarateaustralia.com.au only 13 samples\n",
      "Skipping whoisdog.com only 13 samples\n",
      "Skipping ksgroupscans.com only 1 samples\n",
      "Skipping kk-vine.at only 13 samples\n",
      "Skipping myegypthost.com only 13 samples\n",
      "Skipping matchingimages.com only 13 samples\n",
      "Skipping onlinecasino002.com only 10 samples\n",
      "Skipping kayseriolaylari.com only 9 samples\n",
      "Skipping hpsconline.in only 1 samples\n",
      "[feature_extract] Number of classes 123\n",
      "[feature_extract] Number of features 123\n",
      "[feature_extract] Number of samples 4155\n",
      "[feature_extract] Number of labels 4155\n",
      "Number of classes 123\n",
      "Number of features 123\n",
      "Number of samples 4155\n",
      "Number of labels 4155\n",
      "Fold 0\n"
     ]
    },
    {
     "name": "stderr",
     "output_type": "stream",
     "text": [
      "/Users/ssiby/anaconda3/lib/python3.10/site-packages/sklearn/metrics/_classification.py:1344: UndefinedMetricWarning: Precision is ill-defined and being set to 0.0 in labels with no predicted samples. Use `zero_division` parameter to control this behavior.\n",
      "  _warn_prf(average, modifier, msg_start, len(result))\n"
     ]
    },
    {
     "name": "stdout",
     "output_type": "stream",
     "text": [
      "Fold 1\n"
     ]
    },
    {
     "name": "stderr",
     "output_type": "stream",
     "text": [
      "/Users/ssiby/anaconda3/lib/python3.10/site-packages/sklearn/metrics/_classification.py:1344: UndefinedMetricWarning: Precision is ill-defined and being set to 0.0 in labels with no predicted samples. Use `zero_division` parameter to control this behavior.\n",
      "  _warn_prf(average, modifier, msg_start, len(result))\n"
     ]
    },
    {
     "name": "stdout",
     "output_type": "stream",
     "text": [
      "Fold 2\n"
     ]
    },
    {
     "name": "stderr",
     "output_type": "stream",
     "text": [
      "/Users/ssiby/anaconda3/lib/python3.10/site-packages/sklearn/metrics/_classification.py:1344: UndefinedMetricWarning: Precision is ill-defined and being set to 0.0 in labels with no predicted samples. Use `zero_division` parameter to control this behavior.\n",
      "  _warn_prf(average, modifier, msg_start, len(result))\n"
     ]
    },
    {
     "name": "stdout",
     "output_type": "stream",
     "text": [
      "Fold 3\n"
     ]
    },
    {
     "name": "stderr",
     "output_type": "stream",
     "text": [
      "/Users/ssiby/anaconda3/lib/python3.10/site-packages/sklearn/metrics/_classification.py:1344: UndefinedMetricWarning: Precision is ill-defined and being set to 0.0 in labels with no predicted samples. Use `zero_division` parameter to control this behavior.\n",
      "  _warn_prf(average, modifier, msg_start, len(result))\n"
     ]
    },
    {
     "name": "stdout",
     "output_type": "stream",
     "text": [
      "Fold 4\n"
     ]
    },
    {
     "name": "stderr",
     "output_type": "stream",
     "text": [
      "/Users/ssiby/anaconda3/lib/python3.10/site-packages/sklearn/metrics/_classification.py:1344: UndefinedMetricWarning: Precision is ill-defined and being set to 0.0 in labels with no predicted samples. Use `zero_division` parameter to control this behavior.\n",
      "  _warn_prf(average, modifier, msg_start, len(result))\n"
     ]
    },
    {
     "name": "stdout",
     "output_type": "stream",
     "text": [
      "Fold 5\n"
     ]
    },
    {
     "name": "stderr",
     "output_type": "stream",
     "text": [
      "/Users/ssiby/anaconda3/lib/python3.10/site-packages/sklearn/metrics/_classification.py:1344: UndefinedMetricWarning: Precision is ill-defined and being set to 0.0 in labels with no predicted samples. Use `zero_division` parameter to control this behavior.\n",
      "  _warn_prf(average, modifier, msg_start, len(result))\n"
     ]
    },
    {
     "name": "stdout",
     "output_type": "stream",
     "text": [
      "Fold 6\n"
     ]
    },
    {
     "name": "stderr",
     "output_type": "stream",
     "text": [
      "/Users/ssiby/anaconda3/lib/python3.10/site-packages/sklearn/metrics/_classification.py:1344: UndefinedMetricWarning: Precision is ill-defined and being set to 0.0 in labels with no predicted samples. Use `zero_division` parameter to control this behavior.\n",
      "  _warn_prf(average, modifier, msg_start, len(result))\n"
     ]
    },
    {
     "name": "stdout",
     "output_type": "stream",
     "text": [
      "Fold 7\n"
     ]
    },
    {
     "name": "stderr",
     "output_type": "stream",
     "text": [
      "/Users/ssiby/anaconda3/lib/python3.10/site-packages/sklearn/metrics/_classification.py:1344: UndefinedMetricWarning: Precision is ill-defined and being set to 0.0 in labels with no predicted samples. Use `zero_division` parameter to control this behavior.\n",
      "  _warn_prf(average, modifier, msg_start, len(result))\n"
     ]
    },
    {
     "name": "stdout",
     "output_type": "stream",
     "text": [
      "Fold 8\n"
     ]
    },
    {
     "name": "stderr",
     "output_type": "stream",
     "text": [
      "/Users/ssiby/anaconda3/lib/python3.10/site-packages/sklearn/metrics/_classification.py:1344: UndefinedMetricWarning: Precision is ill-defined and being set to 0.0 in labels with no predicted samples. Use `zero_division` parameter to control this behavior.\n",
      "  _warn_prf(average, modifier, msg_start, len(result))\n"
     ]
    },
    {
     "name": "stdout",
     "output_type": "stream",
     "text": [
      "Fold 9\n"
     ]
    },
    {
     "name": "stderr",
     "output_type": "stream",
     "text": [
      "/Users/ssiby/anaconda3/lib/python3.10/site-packages/sklearn/metrics/_classification.py:1344: UndefinedMetricWarning: Precision is ill-defined and being set to 0.0 in labels with no predicted samples. Use `zero_division` parameter to control this behavior.\n",
      "  _warn_prf(average, modifier, msg_start, len(result))\n"
     ]
    },
    {
     "name": "stdout",
     "output_type": "stream",
     "text": [
      "***************** Working on n cuts: 9\n",
      "Skipping sahafah24.com only 19 samples\n",
      "Skipping 9quotes.com only 19 samples\n",
      "Skipping ragazzeconlavaligia.com , 19 empty samples\n",
      "Skipping bieporn.com only 17 samples\n",
      "Skipping faktabmr.com only 14 samples\n",
      "Skipping miglianicocalcio.net only 14 samples\n",
      "Skipping www.cscpro.org only 14 samples\n",
      "Skipping levitra100pudoff.com only 14 samples\n",
      "Skipping megagroup.ir only 13 samples\n",
      "Skipping educortex.in only 12 samples\n",
      "Skipping arthurmurray.com only 13 samples\n",
      "Skipping hitburada.com only 13 samples\n",
      "Skipping odlotw.blogspot.com only 13 samples\n",
      "Skipping funakoshikarateaustralia.com.au only 13 samples\n",
      "Skipping whoisdog.com only 13 samples\n",
      "Skipping ksgroupscans.com only 1 samples\n",
      "Skipping kk-vine.at only 13 samples\n",
      "Skipping myegypthost.com only 13 samples\n",
      "Skipping matchingimages.com only 13 samples\n",
      "Skipping onlinecasino002.com only 10 samples\n",
      "Skipping kayseriolaylari.com only 9 samples\n",
      "Skipping hpsconline.in only 1 samples\n",
      "[feature_extract] Number of classes 123\n",
      "[feature_extract] Number of features 123\n",
      "[feature_extract] Number of samples 4155\n",
      "[feature_extract] Number of labels 4155\n",
      "Number of classes 123\n",
      "Number of features 123\n",
      "Number of samples 4155\n",
      "Number of labels 4155\n",
      "Fold 0\n",
      "Fold 1\n",
      "Fold 2\n",
      "Fold 3\n",
      "Fold 4\n",
      "Fold 5\n",
      "Fold 6\n",
      "Fold 7\n",
      "Fold 8\n",
      "Fold 9\n",
      "***************** Working on n cuts: 10\n",
      "Skipping sahafah24.com only 19 samples\n",
      "Skipping 9quotes.com only 19 samples\n",
      "Skipping ragazzeconlavaligia.com , 19 empty samples\n",
      "Skipping bieporn.com only 17 samples\n",
      "Skipping faktabmr.com only 14 samples\n",
      "Skipping miglianicocalcio.net only 14 samples\n",
      "Skipping www.cscpro.org only 14 samples\n",
      "Skipping levitra100pudoff.com only 14 samples\n",
      "Skipping megagroup.ir only 13 samples\n",
      "Skipping educortex.in only 12 samples\n",
      "Skipping arthurmurray.com only 13 samples\n",
      "Skipping hitburada.com only 13 samples\n",
      "Skipping odlotw.blogspot.com only 13 samples\n",
      "Skipping funakoshikarateaustralia.com.au only 13 samples\n",
      "Skipping whoisdog.com only 13 samples\n",
      "Skipping ksgroupscans.com only 1 samples\n",
      "Skipping kk-vine.at only 13 samples\n",
      "Skipping myegypthost.com only 13 samples\n",
      "Skipping matchingimages.com only 13 samples\n",
      "Skipping onlinecasino002.com only 10 samples\n",
      "Skipping kayseriolaylari.com only 9 samples\n",
      "Skipping hpsconline.in only 1 samples\n",
      "[feature_extract] Number of classes 123\n",
      "[feature_extract] Number of features 123\n",
      "[feature_extract] Number of samples 4155\n",
      "[feature_extract] Number of labels 4155\n",
      "Number of classes 123\n",
      "Number of features 123\n",
      "Number of samples 4155\n",
      "Number of labels 4155\n",
      "Fold 0\n"
     ]
    },
    {
     "name": "stderr",
     "output_type": "stream",
     "text": [
      "/Users/ssiby/anaconda3/lib/python3.10/site-packages/sklearn/metrics/_classification.py:1344: UndefinedMetricWarning: Precision is ill-defined and being set to 0.0 in labels with no predicted samples. Use `zero_division` parameter to control this behavior.\n",
      "  _warn_prf(average, modifier, msg_start, len(result))\n"
     ]
    },
    {
     "name": "stdout",
     "output_type": "stream",
     "text": [
      "Fold 1\n"
     ]
    },
    {
     "name": "stderr",
     "output_type": "stream",
     "text": [
      "/Users/ssiby/anaconda3/lib/python3.10/site-packages/sklearn/metrics/_classification.py:1344: UndefinedMetricWarning: Precision is ill-defined and being set to 0.0 in labels with no predicted samples. Use `zero_division` parameter to control this behavior.\n",
      "  _warn_prf(average, modifier, msg_start, len(result))\n"
     ]
    },
    {
     "name": "stdout",
     "output_type": "stream",
     "text": [
      "Fold 2\n"
     ]
    },
    {
     "name": "stderr",
     "output_type": "stream",
     "text": [
      "/Users/ssiby/anaconda3/lib/python3.10/site-packages/sklearn/metrics/_classification.py:1344: UndefinedMetricWarning: Precision is ill-defined and being set to 0.0 in labels with no predicted samples. Use `zero_division` parameter to control this behavior.\n",
      "  _warn_prf(average, modifier, msg_start, len(result))\n"
     ]
    },
    {
     "name": "stdout",
     "output_type": "stream",
     "text": [
      "Fold 3\n"
     ]
    },
    {
     "name": "stderr",
     "output_type": "stream",
     "text": [
      "/Users/ssiby/anaconda3/lib/python3.10/site-packages/sklearn/metrics/_classification.py:1344: UndefinedMetricWarning: Precision is ill-defined and being set to 0.0 in labels with no predicted samples. Use `zero_division` parameter to control this behavior.\n",
      "  _warn_prf(average, modifier, msg_start, len(result))\n"
     ]
    },
    {
     "name": "stdout",
     "output_type": "stream",
     "text": [
      "Fold 4\n"
     ]
    },
    {
     "name": "stderr",
     "output_type": "stream",
     "text": [
      "/Users/ssiby/anaconda3/lib/python3.10/site-packages/sklearn/metrics/_classification.py:1344: UndefinedMetricWarning: Precision is ill-defined and being set to 0.0 in labels with no predicted samples. Use `zero_division` parameter to control this behavior.\n",
      "  _warn_prf(average, modifier, msg_start, len(result))\n"
     ]
    },
    {
     "name": "stdout",
     "output_type": "stream",
     "text": [
      "Fold 5\n"
     ]
    },
    {
     "name": "stderr",
     "output_type": "stream",
     "text": [
      "/Users/ssiby/anaconda3/lib/python3.10/site-packages/sklearn/metrics/_classification.py:1344: UndefinedMetricWarning: Precision is ill-defined and being set to 0.0 in labels with no predicted samples. Use `zero_division` parameter to control this behavior.\n",
      "  _warn_prf(average, modifier, msg_start, len(result))\n"
     ]
    },
    {
     "name": "stdout",
     "output_type": "stream",
     "text": [
      "Fold 6\n"
     ]
    },
    {
     "name": "stderr",
     "output_type": "stream",
     "text": [
      "/Users/ssiby/anaconda3/lib/python3.10/site-packages/sklearn/metrics/_classification.py:1344: UndefinedMetricWarning: Precision is ill-defined and being set to 0.0 in labels with no predicted samples. Use `zero_division` parameter to control this behavior.\n",
      "  _warn_prf(average, modifier, msg_start, len(result))\n"
     ]
    },
    {
     "name": "stdout",
     "output_type": "stream",
     "text": [
      "Fold 7\n"
     ]
    },
    {
     "name": "stderr",
     "output_type": "stream",
     "text": [
      "/Users/ssiby/anaconda3/lib/python3.10/site-packages/sklearn/metrics/_classification.py:1344: UndefinedMetricWarning: Precision is ill-defined and being set to 0.0 in labels with no predicted samples. Use `zero_division` parameter to control this behavior.\n",
      "  _warn_prf(average, modifier, msg_start, len(result))\n"
     ]
    },
    {
     "name": "stdout",
     "output_type": "stream",
     "text": [
      "Fold 8\n"
     ]
    },
    {
     "name": "stderr",
     "output_type": "stream",
     "text": [
      "/Users/ssiby/anaconda3/lib/python3.10/site-packages/sklearn/metrics/_classification.py:1344: UndefinedMetricWarning: Precision is ill-defined and being set to 0.0 in labels with no predicted samples. Use `zero_division` parameter to control this behavior.\n",
      "  _warn_prf(average, modifier, msg_start, len(result))\n"
     ]
    },
    {
     "name": "stdout",
     "output_type": "stream",
     "text": [
      "Fold 9\n",
      "***************** Working on n cuts: 11\n",
      "Skipping sahafah24.com only 19 samples\n",
      "Skipping 9quotes.com only 19 samples\n",
      "Skipping ragazzeconlavaligia.com , 19 empty samples\n",
      "Skipping bieporn.com only 17 samples\n",
      "Skipping faktabmr.com only 14 samples\n",
      "Skipping miglianicocalcio.net only 14 samples\n",
      "Skipping www.cscpro.org only 14 samples\n",
      "Skipping levitra100pudoff.com only 14 samples\n",
      "Skipping megagroup.ir only 13 samples\n",
      "Skipping educortex.in only 12 samples\n",
      "Skipping arthurmurray.com only 13 samples\n",
      "Skipping hitburada.com only 13 samples\n",
      "Skipping odlotw.blogspot.com only 13 samples\n",
      "Skipping funakoshikarateaustralia.com.au only 13 samples\n",
      "Skipping whoisdog.com only 13 samples\n",
      "Skipping ksgroupscans.com only 1 samples\n",
      "Skipping kk-vine.at only 13 samples\n",
      "Skipping myegypthost.com only 13 samples\n",
      "Skipping matchingimages.com only 13 samples\n",
      "Skipping onlinecasino002.com only 10 samples\n",
      "Skipping kayseriolaylari.com only 9 samples\n",
      "Skipping hpsconline.in only 1 samples\n",
      "[feature_extract] Number of classes 123\n",
      "[feature_extract] Number of features 123\n",
      "[feature_extract] Number of samples 4155\n",
      "[feature_extract] Number of labels 4155\n",
      "Number of classes 123\n",
      "Number of features 123\n",
      "Number of samples 4155\n",
      "Number of labels 4155\n",
      "Fold 0\n",
      "Fold 1\n",
      "Fold 2\n"
     ]
    },
    {
     "name": "stderr",
     "output_type": "stream",
     "text": [
      "/Users/ssiby/anaconda3/lib/python3.10/site-packages/sklearn/metrics/_classification.py:1344: UndefinedMetricWarning: Precision is ill-defined and being set to 0.0 in labels with no predicted samples. Use `zero_division` parameter to control this behavior.\n",
      "  _warn_prf(average, modifier, msg_start, len(result))\n"
     ]
    },
    {
     "name": "stdout",
     "output_type": "stream",
     "text": [
      "Fold 3\n"
     ]
    },
    {
     "name": "stderr",
     "output_type": "stream",
     "text": [
      "/Users/ssiby/anaconda3/lib/python3.10/site-packages/sklearn/metrics/_classification.py:1344: UndefinedMetricWarning: Precision is ill-defined and being set to 0.0 in labels with no predicted samples. Use `zero_division` parameter to control this behavior.\n",
      "  _warn_prf(average, modifier, msg_start, len(result))\n"
     ]
    },
    {
     "name": "stdout",
     "output_type": "stream",
     "text": [
      "Fold 4\n"
     ]
    },
    {
     "name": "stderr",
     "output_type": "stream",
     "text": [
      "/Users/ssiby/anaconda3/lib/python3.10/site-packages/sklearn/metrics/_classification.py:1344: UndefinedMetricWarning: Precision is ill-defined and being set to 0.0 in labels with no predicted samples. Use `zero_division` parameter to control this behavior.\n",
      "  _warn_prf(average, modifier, msg_start, len(result))\n"
     ]
    },
    {
     "name": "stdout",
     "output_type": "stream",
     "text": [
      "Fold 5\n"
     ]
    },
    {
     "name": "stderr",
     "output_type": "stream",
     "text": [
      "/Users/ssiby/anaconda3/lib/python3.10/site-packages/sklearn/metrics/_classification.py:1344: UndefinedMetricWarning: Precision is ill-defined and being set to 0.0 in labels with no predicted samples. Use `zero_division` parameter to control this behavior.\n",
      "  _warn_prf(average, modifier, msg_start, len(result))\n"
     ]
    },
    {
     "name": "stdout",
     "output_type": "stream",
     "text": [
      "Fold 6\n",
      "Fold 7\n",
      "Fold 8\n",
      "Fold 9\n"
     ]
    },
    {
     "name": "stderr",
     "output_type": "stream",
     "text": [
      "/Users/ssiby/anaconda3/lib/python3.10/site-packages/sklearn/metrics/_classification.py:1344: UndefinedMetricWarning: Precision is ill-defined and being set to 0.0 in labels with no predicted samples. Use `zero_division` parameter to control this behavior.\n",
      "  _warn_prf(average, modifier, msg_start, len(result))\n"
     ]
    },
    {
     "name": "stdout",
     "output_type": "stream",
     "text": [
      "***************** Working on n cuts: 12\n",
      "Skipping sahafah24.com only 19 samples\n",
      "Skipping 9quotes.com only 19 samples\n",
      "Skipping ragazzeconlavaligia.com , 19 empty samples\n",
      "Skipping bieporn.com only 17 samples\n",
      "Skipping faktabmr.com only 14 samples\n",
      "Skipping miglianicocalcio.net only 14 samples\n",
      "Skipping www.cscpro.org only 14 samples\n",
      "Skipping levitra100pudoff.com only 14 samples\n",
      "Skipping megagroup.ir only 13 samples\n",
      "Skipping educortex.in only 12 samples\n",
      "Skipping arthurmurray.com only 13 samples\n",
      "Skipping hitburada.com only 13 samples\n",
      "Skipping odlotw.blogspot.com only 13 samples\n",
      "Skipping funakoshikarateaustralia.com.au only 13 samples\n",
      "Skipping whoisdog.com only 13 samples\n",
      "Skipping ksgroupscans.com only 1 samples\n",
      "Skipping kk-vine.at only 13 samples\n",
      "Skipping myegypthost.com only 13 samples\n",
      "Skipping matchingimages.com only 13 samples\n",
      "Skipping onlinecasino002.com only 10 samples\n",
      "Skipping kayseriolaylari.com only 9 samples\n",
      "Skipping hpsconline.in only 1 samples\n",
      "[feature_extract] Number of classes 123\n",
      "[feature_extract] Number of features 123\n",
      "[feature_extract] Number of samples 4155\n",
      "[feature_extract] Number of labels 4155\n",
      "Number of classes 123\n",
      "Number of features 123\n",
      "Number of samples 4155\n",
      "Number of labels 4155\n",
      "Fold 0\n",
      "Fold 1\n",
      "Fold 2\n"
     ]
    },
    {
     "name": "stderr",
     "output_type": "stream",
     "text": [
      "/Users/ssiby/anaconda3/lib/python3.10/site-packages/sklearn/metrics/_classification.py:1344: UndefinedMetricWarning: Precision is ill-defined and being set to 0.0 in labels with no predicted samples. Use `zero_division` parameter to control this behavior.\n",
      "  _warn_prf(average, modifier, msg_start, len(result))\n"
     ]
    },
    {
     "name": "stdout",
     "output_type": "stream",
     "text": [
      "Fold 3\n",
      "Fold 4\n",
      "Fold 5\n",
      "Fold 6\n",
      "Fold 7\n",
      "Fold 8\n",
      "Fold 9\n",
      "***************** Working on n cuts: 13\n",
      "Skipping sahafah24.com only 19 samples\n",
      "Skipping 9quotes.com only 19 samples\n",
      "Skipping ragazzeconlavaligia.com , 19 empty samples\n",
      "Skipping bieporn.com only 17 samples\n",
      "Skipping faktabmr.com only 14 samples\n",
      "Skipping miglianicocalcio.net only 14 samples\n",
      "Skipping www.cscpro.org only 14 samples\n",
      "Skipping levitra100pudoff.com only 14 samples\n",
      "Skipping megagroup.ir only 13 samples\n",
      "Skipping educortex.in only 12 samples\n",
      "Skipping arthurmurray.com only 13 samples\n",
      "Skipping hitburada.com only 13 samples\n",
      "Skipping odlotw.blogspot.com only 13 samples\n",
      "Skipping funakoshikarateaustralia.com.au only 13 samples\n",
      "Skipping whoisdog.com only 13 samples\n",
      "Skipping ksgroupscans.com only 1 samples\n",
      "Skipping kk-vine.at only 13 samples\n",
      "Skipping myegypthost.com only 13 samples\n",
      "Skipping matchingimages.com only 13 samples\n",
      "Skipping onlinecasino002.com only 10 samples\n",
      "Skipping kayseriolaylari.com only 9 samples\n",
      "Skipping hpsconline.in only 1 samples\n",
      "[feature_extract] Number of classes 123\n",
      "[feature_extract] Number of features 123\n",
      "[feature_extract] Number of samples 4155\n",
      "[feature_extract] Number of labels 4155\n",
      "Number of classes 123\n",
      "Number of features 123\n",
      "Number of samples 4155\n",
      "Number of labels 4155\n",
      "Fold 0\n"
     ]
    },
    {
     "name": "stderr",
     "output_type": "stream",
     "text": [
      "/Users/ssiby/anaconda3/lib/python3.10/site-packages/sklearn/metrics/_classification.py:1344: UndefinedMetricWarning: Precision is ill-defined and being set to 0.0 in labels with no predicted samples. Use `zero_division` parameter to control this behavior.\n",
      "  _warn_prf(average, modifier, msg_start, len(result))\n"
     ]
    },
    {
     "name": "stdout",
     "output_type": "stream",
     "text": [
      "Fold 1\n"
     ]
    },
    {
     "name": "stderr",
     "output_type": "stream",
     "text": [
      "/Users/ssiby/anaconda3/lib/python3.10/site-packages/sklearn/metrics/_classification.py:1344: UndefinedMetricWarning: Precision is ill-defined and being set to 0.0 in labels with no predicted samples. Use `zero_division` parameter to control this behavior.\n",
      "  _warn_prf(average, modifier, msg_start, len(result))\n"
     ]
    },
    {
     "name": "stdout",
     "output_type": "stream",
     "text": [
      "Fold 2\n"
     ]
    },
    {
     "name": "stderr",
     "output_type": "stream",
     "text": [
      "/Users/ssiby/anaconda3/lib/python3.10/site-packages/sklearn/metrics/_classification.py:1344: UndefinedMetricWarning: Precision is ill-defined and being set to 0.0 in labels with no predicted samples. Use `zero_division` parameter to control this behavior.\n",
      "  _warn_prf(average, modifier, msg_start, len(result))\n"
     ]
    },
    {
     "name": "stdout",
     "output_type": "stream",
     "text": [
      "Fold 3\n"
     ]
    },
    {
     "name": "stderr",
     "output_type": "stream",
     "text": [
      "/Users/ssiby/anaconda3/lib/python3.10/site-packages/sklearn/metrics/_classification.py:1344: UndefinedMetricWarning: Precision is ill-defined and being set to 0.0 in labels with no predicted samples. Use `zero_division` parameter to control this behavior.\n",
      "  _warn_prf(average, modifier, msg_start, len(result))\n"
     ]
    },
    {
     "name": "stdout",
     "output_type": "stream",
     "text": [
      "Fold 4\n"
     ]
    },
    {
     "name": "stderr",
     "output_type": "stream",
     "text": [
      "/Users/ssiby/anaconda3/lib/python3.10/site-packages/sklearn/metrics/_classification.py:1344: UndefinedMetricWarning: Precision is ill-defined and being set to 0.0 in labels with no predicted samples. Use `zero_division` parameter to control this behavior.\n",
      "  _warn_prf(average, modifier, msg_start, len(result))\n"
     ]
    },
    {
     "name": "stdout",
     "output_type": "stream",
     "text": [
      "Fold 5\n"
     ]
    },
    {
     "name": "stderr",
     "output_type": "stream",
     "text": [
      "/Users/ssiby/anaconda3/lib/python3.10/site-packages/sklearn/metrics/_classification.py:1344: UndefinedMetricWarning: Precision is ill-defined and being set to 0.0 in labels with no predicted samples. Use `zero_division` parameter to control this behavior.\n",
      "  _warn_prf(average, modifier, msg_start, len(result))\n"
     ]
    },
    {
     "name": "stdout",
     "output_type": "stream",
     "text": [
      "Fold 6\n"
     ]
    },
    {
     "name": "stderr",
     "output_type": "stream",
     "text": [
      "/Users/ssiby/anaconda3/lib/python3.10/site-packages/sklearn/metrics/_classification.py:1344: UndefinedMetricWarning: Precision is ill-defined and being set to 0.0 in labels with no predicted samples. Use `zero_division` parameter to control this behavior.\n",
      "  _warn_prf(average, modifier, msg_start, len(result))\n"
     ]
    },
    {
     "name": "stdout",
     "output_type": "stream",
     "text": [
      "Fold 7\n"
     ]
    },
    {
     "name": "stderr",
     "output_type": "stream",
     "text": [
      "/Users/ssiby/anaconda3/lib/python3.10/site-packages/sklearn/metrics/_classification.py:1344: UndefinedMetricWarning: Precision is ill-defined and being set to 0.0 in labels with no predicted samples. Use `zero_division` parameter to control this behavior.\n",
      "  _warn_prf(average, modifier, msg_start, len(result))\n"
     ]
    },
    {
     "name": "stdout",
     "output_type": "stream",
     "text": [
      "Fold 8\n",
      "Fold 9\n"
     ]
    },
    {
     "name": "stderr",
     "output_type": "stream",
     "text": [
      "/Users/ssiby/anaconda3/lib/python3.10/site-packages/sklearn/metrics/_classification.py:1344: UndefinedMetricWarning: Precision is ill-defined and being set to 0.0 in labels with no predicted samples. Use `zero_division` parameter to control this behavior.\n",
      "  _warn_prf(average, modifier, msg_start, len(result))\n"
     ]
    },
    {
     "name": "stdout",
     "output_type": "stream",
     "text": [
      "***************** Working on n cuts: 14\n",
      "Skipping sahafah24.com only 19 samples\n",
      "Skipping 9quotes.com only 19 samples\n",
      "Skipping ragazzeconlavaligia.com , 19 empty samples\n",
      "Skipping bieporn.com only 17 samples\n",
      "Skipping faktabmr.com only 14 samples\n",
      "Skipping miglianicocalcio.net only 14 samples\n",
      "Skipping www.cscpro.org only 14 samples\n",
      "Skipping levitra100pudoff.com only 14 samples\n",
      "Skipping megagroup.ir only 13 samples\n",
      "Skipping educortex.in only 12 samples\n",
      "Skipping arthurmurray.com only 13 samples\n",
      "Skipping hitburada.com only 13 samples\n",
      "Skipping odlotw.blogspot.com only 13 samples\n",
      "Skipping funakoshikarateaustralia.com.au only 13 samples\n",
      "Skipping whoisdog.com only 13 samples\n",
      "Skipping ksgroupscans.com only 1 samples\n",
      "Skipping kk-vine.at only 13 samples\n",
      "Skipping myegypthost.com only 13 samples\n",
      "Skipping matchingimages.com only 13 samples\n",
      "Skipping onlinecasino002.com only 10 samples\n",
      "Skipping kayseriolaylari.com only 9 samples\n",
      "Skipping hpsconline.in only 1 samples\n",
      "[feature_extract] Number of classes 123\n",
      "[feature_extract] Number of features 123\n",
      "[feature_extract] Number of samples 4155\n",
      "[feature_extract] Number of labels 4155\n",
      "Number of classes 123\n",
      "Number of features 123\n",
      "Number of samples 4155\n",
      "Number of labels 4155\n",
      "Fold 0\n"
     ]
    },
    {
     "name": "stderr",
     "output_type": "stream",
     "text": [
      "/Users/ssiby/anaconda3/lib/python3.10/site-packages/sklearn/metrics/_classification.py:1344: UndefinedMetricWarning: Precision is ill-defined and being set to 0.0 in labels with no predicted samples. Use `zero_division` parameter to control this behavior.\n",
      "  _warn_prf(average, modifier, msg_start, len(result))\n"
     ]
    },
    {
     "name": "stdout",
     "output_type": "stream",
     "text": [
      "Fold 1\n"
     ]
    },
    {
     "name": "stderr",
     "output_type": "stream",
     "text": [
      "/Users/ssiby/anaconda3/lib/python3.10/site-packages/sklearn/metrics/_classification.py:1344: UndefinedMetricWarning: Precision is ill-defined and being set to 0.0 in labels with no predicted samples. Use `zero_division` parameter to control this behavior.\n",
      "  _warn_prf(average, modifier, msg_start, len(result))\n"
     ]
    },
    {
     "name": "stdout",
     "output_type": "stream",
     "text": [
      "Fold 2\n"
     ]
    },
    {
     "name": "stderr",
     "output_type": "stream",
     "text": [
      "/Users/ssiby/anaconda3/lib/python3.10/site-packages/sklearn/metrics/_classification.py:1344: UndefinedMetricWarning: Precision is ill-defined and being set to 0.0 in labels with no predicted samples. Use `zero_division` parameter to control this behavior.\n",
      "  _warn_prf(average, modifier, msg_start, len(result))\n"
     ]
    },
    {
     "name": "stdout",
     "output_type": "stream",
     "text": [
      "Fold 3\n"
     ]
    },
    {
     "name": "stderr",
     "output_type": "stream",
     "text": [
      "/Users/ssiby/anaconda3/lib/python3.10/site-packages/sklearn/metrics/_classification.py:1344: UndefinedMetricWarning: Precision is ill-defined and being set to 0.0 in labels with no predicted samples. Use `zero_division` parameter to control this behavior.\n",
      "  _warn_prf(average, modifier, msg_start, len(result))\n"
     ]
    },
    {
     "name": "stdout",
     "output_type": "stream",
     "text": [
      "Fold 4\n"
     ]
    },
    {
     "name": "stderr",
     "output_type": "stream",
     "text": [
      "/Users/ssiby/anaconda3/lib/python3.10/site-packages/sklearn/metrics/_classification.py:1344: UndefinedMetricWarning: Precision is ill-defined and being set to 0.0 in labels with no predicted samples. Use `zero_division` parameter to control this behavior.\n",
      "  _warn_prf(average, modifier, msg_start, len(result))\n"
     ]
    },
    {
     "name": "stdout",
     "output_type": "stream",
     "text": [
      "Fold 5\n"
     ]
    },
    {
     "name": "stderr",
     "output_type": "stream",
     "text": [
      "/Users/ssiby/anaconda3/lib/python3.10/site-packages/sklearn/metrics/_classification.py:1344: UndefinedMetricWarning: Precision is ill-defined and being set to 0.0 in labels with no predicted samples. Use `zero_division` parameter to control this behavior.\n",
      "  _warn_prf(average, modifier, msg_start, len(result))\n"
     ]
    },
    {
     "name": "stdout",
     "output_type": "stream",
     "text": [
      "Fold 6\n",
      "Fold 7\n"
     ]
    },
    {
     "name": "stderr",
     "output_type": "stream",
     "text": [
      "/Users/ssiby/anaconda3/lib/python3.10/site-packages/sklearn/metrics/_classification.py:1344: UndefinedMetricWarning: Precision is ill-defined and being set to 0.0 in labels with no predicted samples. Use `zero_division` parameter to control this behavior.\n",
      "  _warn_prf(average, modifier, msg_start, len(result))\n"
     ]
    },
    {
     "name": "stdout",
     "output_type": "stream",
     "text": [
      "Fold 8\n"
     ]
    },
    {
     "name": "stderr",
     "output_type": "stream",
     "text": [
      "/Users/ssiby/anaconda3/lib/python3.10/site-packages/sklearn/metrics/_classification.py:1344: UndefinedMetricWarning: Precision is ill-defined and being set to 0.0 in labels with no predicted samples. Use `zero_division` parameter to control this behavior.\n",
      "  _warn_prf(average, modifier, msg_start, len(result))\n"
     ]
    },
    {
     "name": "stdout",
     "output_type": "stream",
     "text": [
      "Fold 9\n"
     ]
    },
    {
     "name": "stderr",
     "output_type": "stream",
     "text": [
      "/Users/ssiby/anaconda3/lib/python3.10/site-packages/sklearn/metrics/_classification.py:1344: UndefinedMetricWarning: Precision is ill-defined and being set to 0.0 in labels with no predicted samples. Use `zero_division` parameter to control this behavior.\n",
      "  _warn_prf(average, modifier, msg_start, len(result))\n"
     ]
    },
    {
     "name": "stdout",
     "output_type": "stream",
     "text": [
      "***************** Working on n cuts: 15\n",
      "Skipping sahafah24.com only 19 samples\n",
      "Skipping 9quotes.com only 19 samples\n",
      "Skipping ragazzeconlavaligia.com , 19 empty samples\n",
      "Skipping bieporn.com only 17 samples\n",
      "Skipping faktabmr.com only 14 samples\n",
      "Skipping miglianicocalcio.net only 14 samples\n",
      "Skipping www.cscpro.org only 14 samples\n",
      "Skipping levitra100pudoff.com only 14 samples\n",
      "Skipping megagroup.ir only 13 samples\n",
      "Skipping educortex.in only 12 samples\n",
      "Skipping arthurmurray.com only 13 samples\n",
      "Skipping hitburada.com only 13 samples\n",
      "Skipping odlotw.blogspot.com only 13 samples\n",
      "Skipping funakoshikarateaustralia.com.au only 13 samples\n",
      "Skipping whoisdog.com only 13 samples\n",
      "Skipping ksgroupscans.com only 1 samples\n",
      "Skipping kk-vine.at only 13 samples\n",
      "Skipping myegypthost.com only 13 samples\n",
      "Skipping matchingimages.com only 13 samples\n",
      "Skipping onlinecasino002.com only 10 samples\n",
      "Skipping kayseriolaylari.com only 9 samples\n",
      "Skipping hpsconline.in only 1 samples\n",
      "[feature_extract] Number of classes 123\n",
      "[feature_extract] Number of features 123\n",
      "[feature_extract] Number of samples 4155\n",
      "[feature_extract] Number of labels 4155\n",
      "Number of classes 123\n",
      "Number of features 123\n",
      "Number of samples 4155\n",
      "Number of labels 4155\n",
      "Fold 0\n"
     ]
    },
    {
     "name": "stderr",
     "output_type": "stream",
     "text": [
      "/Users/ssiby/anaconda3/lib/python3.10/site-packages/sklearn/metrics/_classification.py:1344: UndefinedMetricWarning: Precision is ill-defined and being set to 0.0 in labels with no predicted samples. Use `zero_division` parameter to control this behavior.\n",
      "  _warn_prf(average, modifier, msg_start, len(result))\n"
     ]
    },
    {
     "name": "stdout",
     "output_type": "stream",
     "text": [
      "Fold 1\n",
      "Fold 2\n"
     ]
    },
    {
     "name": "stderr",
     "output_type": "stream",
     "text": [
      "/Users/ssiby/anaconda3/lib/python3.10/site-packages/sklearn/metrics/_classification.py:1344: UndefinedMetricWarning: Precision is ill-defined and being set to 0.0 in labels with no predicted samples. Use `zero_division` parameter to control this behavior.\n",
      "  _warn_prf(average, modifier, msg_start, len(result))\n"
     ]
    },
    {
     "name": "stdout",
     "output_type": "stream",
     "text": [
      "Fold 3\n",
      "Fold 4\n",
      "Fold 5\n",
      "Fold 6\n",
      "Fold 7\n",
      "Fold 8\n",
      "Fold 9\n",
      "***************** Working on n cuts: 16\n",
      "Skipping sahafah24.com only 19 samples\n",
      "Skipping 9quotes.com only 19 samples\n",
      "Skipping ragazzeconlavaligia.com , 19 empty samples\n",
      "Skipping bieporn.com only 17 samples\n",
      "Skipping faktabmr.com only 14 samples\n",
      "Skipping miglianicocalcio.net only 14 samples\n",
      "Skipping www.cscpro.org only 14 samples\n",
      "Skipping levitra100pudoff.com only 14 samples\n",
      "Skipping megagroup.ir only 13 samples\n",
      "Skipping educortex.in only 12 samples\n",
      "Skipping arthurmurray.com only 13 samples\n",
      "Skipping hitburada.com only 13 samples\n",
      "Skipping odlotw.blogspot.com only 13 samples\n",
      "Skipping funakoshikarateaustralia.com.au only 13 samples\n",
      "Skipping whoisdog.com only 13 samples\n",
      "Skipping ksgroupscans.com only 1 samples\n",
      "Skipping kk-vine.at only 13 samples\n",
      "Skipping myegypthost.com only 13 samples\n",
      "Skipping matchingimages.com only 13 samples\n",
      "Skipping onlinecasino002.com only 10 samples\n",
      "Skipping kayseriolaylari.com only 9 samples\n",
      "Skipping hpsconline.in only 1 samples\n",
      "[feature_extract] Number of classes 123\n",
      "[feature_extract] Number of features 123\n",
      "[feature_extract] Number of samples 4155\n",
      "[feature_extract] Number of labels 4155\n",
      "Number of classes 123\n",
      "Number of features 123\n",
      "Number of samples 4155\n",
      "Number of labels 4155\n",
      "Fold 0\n",
      "Fold 1\n",
      "Fold 2\n"
     ]
    },
    {
     "name": "stderr",
     "output_type": "stream",
     "text": [
      "/Users/ssiby/anaconda3/lib/python3.10/site-packages/sklearn/metrics/_classification.py:1344: UndefinedMetricWarning: Precision is ill-defined and being set to 0.0 in labels with no predicted samples. Use `zero_division` parameter to control this behavior.\n",
      "  _warn_prf(average, modifier, msg_start, len(result))\n"
     ]
    },
    {
     "name": "stdout",
     "output_type": "stream",
     "text": [
      "Fold 3\n",
      "Fold 4\n",
      "Fold 5\n",
      "Fold 6\n",
      "Fold 7\n",
      "Fold 8\n",
      "Fold 9\n",
      "***************** Working on n cuts: 17\n",
      "Skipping sahafah24.com only 19 samples\n",
      "Skipping 9quotes.com only 19 samples\n",
      "Skipping ragazzeconlavaligia.com , 19 empty samples\n",
      "Skipping bieporn.com only 17 samples\n",
      "Skipping faktabmr.com only 14 samples\n",
      "Skipping miglianicocalcio.net only 14 samples\n",
      "Skipping www.cscpro.org only 14 samples\n",
      "Skipping levitra100pudoff.com only 14 samples\n",
      "Skipping megagroup.ir only 13 samples\n",
      "Skipping educortex.in only 12 samples\n",
      "Skipping arthurmurray.com only 13 samples\n",
      "Skipping hitburada.com only 13 samples\n",
      "Skipping odlotw.blogspot.com only 13 samples\n",
      "Skipping funakoshikarateaustralia.com.au only 13 samples\n",
      "Skipping whoisdog.com only 13 samples\n",
      "Skipping ksgroupscans.com only 1 samples\n",
      "Skipping kk-vine.at only 13 samples\n",
      "Skipping myegypthost.com only 13 samples\n",
      "Skipping matchingimages.com only 13 samples\n",
      "Skipping onlinecasino002.com only 10 samples\n",
      "Skipping kayseriolaylari.com only 9 samples\n",
      "Skipping hpsconline.in only 1 samples\n",
      "[feature_extract] Number of classes 123\n",
      "[feature_extract] Number of features 123\n",
      "[feature_extract] Number of samples 4155\n",
      "[feature_extract] Number of labels 4155\n",
      "Number of classes 123\n",
      "Number of features 123\n",
      "Number of samples 4155\n",
      "Number of labels 4155\n",
      "Fold 0\n",
      "Fold 1\n"
     ]
    },
    {
     "name": "stderr",
     "output_type": "stream",
     "text": [
      "/Users/ssiby/anaconda3/lib/python3.10/site-packages/sklearn/metrics/_classification.py:1344: UndefinedMetricWarning: Precision is ill-defined and being set to 0.0 in labels with no predicted samples. Use `zero_division` parameter to control this behavior.\n",
      "  _warn_prf(average, modifier, msg_start, len(result))\n"
     ]
    },
    {
     "name": "stdout",
     "output_type": "stream",
     "text": [
      "Fold 2\n",
      "Fold 3\n",
      "Fold 4\n"
     ]
    },
    {
     "name": "stderr",
     "output_type": "stream",
     "text": [
      "/Users/ssiby/anaconda3/lib/python3.10/site-packages/sklearn/metrics/_classification.py:1344: UndefinedMetricWarning: Precision is ill-defined and being set to 0.0 in labels with no predicted samples. Use `zero_division` parameter to control this behavior.\n",
      "  _warn_prf(average, modifier, msg_start, len(result))\n"
     ]
    },
    {
     "name": "stdout",
     "output_type": "stream",
     "text": [
      "Fold 5\n",
      "Fold 6\n",
      "Fold 7\n",
      "Fold 8\n"
     ]
    },
    {
     "name": "stderr",
     "output_type": "stream",
     "text": [
      "/Users/ssiby/anaconda3/lib/python3.10/site-packages/sklearn/metrics/_classification.py:1344: UndefinedMetricWarning: Precision is ill-defined and being set to 0.0 in labels with no predicted samples. Use `zero_division` parameter to control this behavior.\n",
      "  _warn_prf(average, modifier, msg_start, len(result))\n"
     ]
    },
    {
     "name": "stdout",
     "output_type": "stream",
     "text": [
      "Fold 9\n"
     ]
    },
    {
     "name": "stderr",
     "output_type": "stream",
     "text": [
      "/Users/ssiby/anaconda3/lib/python3.10/site-packages/sklearn/metrics/_classification.py:1344: UndefinedMetricWarning: Precision is ill-defined and being set to 0.0 in labels with no predicted samples. Use `zero_division` parameter to control this behavior.\n",
      "  _warn_prf(average, modifier, msg_start, len(result))\n"
     ]
    },
    {
     "name": "stdout",
     "output_type": "stream",
     "text": [
      "***************** Working on n cuts: 18\n",
      "Skipping sahafah24.com only 19 samples\n",
      "Skipping 9quotes.com only 19 samples\n",
      "Skipping ragazzeconlavaligia.com , 19 empty samples\n",
      "Skipping bieporn.com only 17 samples\n",
      "Skipping faktabmr.com only 14 samples\n",
      "Skipping miglianicocalcio.net only 14 samples\n",
      "Skipping www.cscpro.org only 14 samples\n",
      "Skipping levitra100pudoff.com only 14 samples\n",
      "Skipping megagroup.ir only 13 samples\n",
      "Skipping educortex.in only 12 samples\n",
      "Skipping arthurmurray.com only 13 samples\n",
      "Skipping hitburada.com only 13 samples\n",
      "Skipping odlotw.blogspot.com only 13 samples\n",
      "Skipping funakoshikarateaustralia.com.au only 13 samples\n",
      "Skipping whoisdog.com only 13 samples\n",
      "Skipping ksgroupscans.com only 1 samples\n",
      "Skipping kk-vine.at only 13 samples\n",
      "Skipping myegypthost.com only 13 samples\n",
      "Skipping matchingimages.com only 13 samples\n",
      "Skipping onlinecasino002.com only 10 samples\n",
      "Skipping kayseriolaylari.com only 9 samples\n",
      "Skipping hpsconline.in only 1 samples\n",
      "[feature_extract] Number of classes 123\n",
      "[feature_extract] Number of features 123\n",
      "[feature_extract] Number of samples 4155\n",
      "[feature_extract] Number of labels 4155\n",
      "Number of classes 123\n",
      "Number of features 123\n",
      "Number of samples 4155\n",
      "Number of labels 4155\n",
      "Fold 0\n",
      "Fold 1\n",
      "Fold 2\n",
      "Fold 3\n",
      "Fold 4\n",
      "Fold 5\n",
      "Fold 6\n",
      "Fold 7\n",
      "Fold 8\n",
      "Fold 9\n",
      "***************** Working on n cuts: 19\n",
      "Skipping sahafah24.com only 19 samples\n",
      "Skipping 9quotes.com only 19 samples\n",
      "Skipping ragazzeconlavaligia.com , 19 empty samples\n",
      "Skipping bieporn.com only 17 samples\n",
      "Skipping faktabmr.com only 14 samples\n",
      "Skipping miglianicocalcio.net only 14 samples\n",
      "Skipping www.cscpro.org only 14 samples\n",
      "Skipping levitra100pudoff.com only 14 samples\n",
      "Skipping megagroup.ir only 13 samples\n",
      "Skipping educortex.in only 12 samples\n",
      "Skipping arthurmurray.com only 13 samples\n",
      "Skipping hitburada.com only 13 samples\n",
      "Skipping odlotw.blogspot.com only 13 samples\n",
      "Skipping funakoshikarateaustralia.com.au only 13 samples\n",
      "Skipping whoisdog.com only 13 samples\n",
      "Skipping ksgroupscans.com only 1 samples\n",
      "Skipping kk-vine.at only 13 samples\n",
      "Skipping myegypthost.com only 13 samples\n",
      "Skipping matchingimages.com only 13 samples\n",
      "Skipping onlinecasino002.com only 10 samples\n",
      "Skipping kayseriolaylari.com only 9 samples\n",
      "Skipping hpsconline.in only 1 samples\n",
      "[feature_extract] Number of classes 123\n",
      "[feature_extract] Number of features 123\n",
      "[feature_extract] Number of samples 4155\n",
      "[feature_extract] Number of labels 4155\n",
      "Number of classes 123\n",
      "Number of features 123\n",
      "Number of samples 4155\n",
      "Number of labels 4155\n",
      "Fold 0\n",
      "Fold 1\n",
      "Fold 2\n",
      "Fold 3\n",
      "Fold 4\n",
      "Fold 5\n",
      "Fold 6\n",
      "Fold 7\n",
      "Fold 8\n",
      "Fold 9\n",
      "***************** Working on n cuts: 20\n",
      "Skipping sahafah24.com only 19 samples\n",
      "Skipping 9quotes.com only 19 samples\n",
      "Skipping ragazzeconlavaligia.com , 19 empty samples\n",
      "Skipping bieporn.com only 17 samples\n",
      "Skipping faktabmr.com only 14 samples\n",
      "Skipping miglianicocalcio.net only 14 samples\n",
      "Skipping www.cscpro.org only 14 samples\n",
      "Skipping levitra100pudoff.com only 14 samples\n",
      "Skipping megagroup.ir only 13 samples\n",
      "Skipping educortex.in only 12 samples\n",
      "Skipping arthurmurray.com only 13 samples\n",
      "Skipping hitburada.com only 13 samples\n",
      "Skipping odlotw.blogspot.com only 13 samples\n",
      "Skipping funakoshikarateaustralia.com.au only 13 samples\n",
      "Skipping whoisdog.com only 13 samples\n",
      "Skipping ksgroupscans.com only 1 samples\n",
      "Skipping kk-vine.at only 13 samples\n",
      "Skipping myegypthost.com only 13 samples\n",
      "Skipping matchingimages.com only 13 samples\n",
      "Skipping onlinecasino002.com only 10 samples\n",
      "Skipping kayseriolaylari.com only 9 samples\n",
      "Skipping hpsconline.in only 1 samples\n",
      "[feature_extract] Number of classes 123\n",
      "[feature_extract] Number of features 123\n",
      "[feature_extract] Number of samples 4155\n",
      "[feature_extract] Number of labels 4155\n",
      "Number of classes 123\n",
      "Number of features 123\n",
      "Number of samples 4155\n",
      "Number of labels 4155\n",
      "Fold 0\n",
      "Fold 1\n",
      "Fold 2\n",
      "Fold 3\n",
      "Fold 4\n",
      "Fold 5\n",
      "Fold 6\n",
      "Fold 7\n",
      "Fold 8\n",
      "Fold 9\n",
      "***************** Working on n cuts: 21\n",
      "Skipping sahafah24.com only 19 samples\n",
      "Skipping 9quotes.com only 19 samples\n",
      "Skipping ragazzeconlavaligia.com , 19 empty samples\n",
      "Skipping bieporn.com only 17 samples\n",
      "Skipping faktabmr.com only 14 samples\n",
      "Skipping miglianicocalcio.net only 14 samples\n",
      "Skipping www.cscpro.org only 14 samples\n",
      "Skipping levitra100pudoff.com only 14 samples\n",
      "Skipping megagroup.ir only 13 samples\n",
      "Skipping educortex.in only 12 samples\n",
      "Skipping arthurmurray.com only 13 samples\n",
      "Skipping hitburada.com only 13 samples\n",
      "Skipping odlotw.blogspot.com only 13 samples\n",
      "Skipping funakoshikarateaustralia.com.au only 13 samples\n",
      "Skipping whoisdog.com only 13 samples\n",
      "Skipping ksgroupscans.com only 1 samples\n",
      "Skipping kk-vine.at only 13 samples\n",
      "Skipping myegypthost.com only 13 samples\n",
      "Skipping matchingimages.com only 13 samples\n",
      "Skipping onlinecasino002.com only 10 samples\n",
      "Skipping kayseriolaylari.com only 9 samples\n",
      "Skipping hpsconline.in only 1 samples\n",
      "[feature_extract] Number of classes 123\n",
      "[feature_extract] Number of features 123\n",
      "[feature_extract] Number of samples 4155\n",
      "[feature_extract] Number of labels 4155\n",
      "Number of classes 123\n",
      "Number of features 123\n",
      "Number of samples 4155\n",
      "Number of labels 4155\n",
      "Fold 0\n",
      "Fold 1\n",
      "Fold 2\n"
     ]
    },
    {
     "name": "stderr",
     "output_type": "stream",
     "text": [
      "/Users/ssiby/anaconda3/lib/python3.10/site-packages/sklearn/metrics/_classification.py:1344: UndefinedMetricWarning: Precision is ill-defined and being set to 0.0 in labels with no predicted samples. Use `zero_division` parameter to control this behavior.\n",
      "  _warn_prf(average, modifier, msg_start, len(result))\n"
     ]
    },
    {
     "name": "stdout",
     "output_type": "stream",
     "text": [
      "Fold 3\n",
      "Fold 4\n",
      "Fold 5\n",
      "Fold 6\n",
      "Fold 7\n",
      "Fold 8\n",
      "Fold 9\n",
      "***************** Working on n cuts: 22\n",
      "Skipping sahafah24.com only 19 samples\n",
      "Skipping 9quotes.com only 19 samples\n",
      "Skipping ragazzeconlavaligia.com , 19 empty samples\n",
      "Skipping bieporn.com only 17 samples\n",
      "Skipping faktabmr.com only 14 samples\n",
      "Skipping miglianicocalcio.net only 14 samples\n",
      "Skipping www.cscpro.org only 14 samples\n",
      "Skipping levitra100pudoff.com only 14 samples\n",
      "Skipping megagroup.ir only 13 samples\n",
      "Skipping educortex.in only 12 samples\n",
      "Skipping arthurmurray.com only 13 samples\n",
      "Skipping hitburada.com only 13 samples\n",
      "Skipping odlotw.blogspot.com only 13 samples\n",
      "Skipping funakoshikarateaustralia.com.au only 13 samples\n",
      "Skipping whoisdog.com only 13 samples\n",
      "Skipping ksgroupscans.com only 1 samples\n",
      "Skipping kk-vine.at only 13 samples\n",
      "Skipping myegypthost.com only 13 samples\n",
      "Skipping matchingimages.com only 13 samples\n",
      "Skipping onlinecasino002.com only 10 samples\n",
      "Skipping kayseriolaylari.com only 9 samples\n",
      "Skipping hpsconline.in only 1 samples\n",
      "[feature_extract] Number of classes 123\n",
      "[feature_extract] Number of features 123\n",
      "[feature_extract] Number of samples 4155\n",
      "[feature_extract] Number of labels 4155\n",
      "Number of classes 123\n",
      "Number of features 123\n",
      "Number of samples 4155\n",
      "Number of labels 4155\n",
      "Fold 0\n",
      "Fold 1\n",
      "Fold 2\n",
      "Fold 3\n",
      "Fold 4\n",
      "Fold 5\n",
      "Fold 6\n",
      "Fold 7\n",
      "Fold 8\n",
      "Fold 9\n",
      "***************** Working on n cuts: 23\n",
      "Skipping sahafah24.com only 19 samples\n",
      "Skipping 9quotes.com only 19 samples\n",
      "Skipping ragazzeconlavaligia.com , 19 empty samples\n",
      "Skipping bieporn.com only 17 samples\n",
      "Skipping faktabmr.com only 14 samples\n",
      "Skipping miglianicocalcio.net only 14 samples\n",
      "Skipping www.cscpro.org only 14 samples\n",
      "Skipping levitra100pudoff.com only 14 samples\n",
      "Skipping megagroup.ir only 13 samples\n",
      "Skipping educortex.in only 12 samples\n",
      "Skipping arthurmurray.com only 13 samples\n",
      "Skipping hitburada.com only 13 samples\n",
      "Skipping odlotw.blogspot.com only 13 samples\n",
      "Skipping funakoshikarateaustralia.com.au only 13 samples\n",
      "Skipping whoisdog.com only 13 samples\n",
      "Skipping ksgroupscans.com only 1 samples\n",
      "Skipping kk-vine.at only 13 samples\n",
      "Skipping myegypthost.com only 13 samples\n",
      "Skipping matchingimages.com only 13 samples\n",
      "Skipping onlinecasino002.com only 10 samples\n",
      "Skipping kayseriolaylari.com only 9 samples\n",
      "Skipping hpsconline.in only 1 samples\n",
      "[feature_extract] Number of classes 123\n",
      "[feature_extract] Number of features 123\n",
      "[feature_extract] Number of samples 4155\n",
      "[feature_extract] Number of labels 4155\n",
      "Number of classes 123\n",
      "Number of features 123\n",
      "Number of samples 4155\n",
      "Number of labels 4155\n",
      "Fold 0\n",
      "Fold 1\n",
      "Fold 2\n",
      "Fold 3\n",
      "Fold 4\n",
      "Fold 5\n",
      "Fold 6\n",
      "Fold 7\n",
      "Fold 8\n",
      "Fold 9\n",
      "***************** Working on n cuts: 24\n",
      "Skipping sahafah24.com only 19 samples\n",
      "Skipping 9quotes.com only 19 samples\n",
      "Skipping ragazzeconlavaligia.com , 19 empty samples\n",
      "Skipping bieporn.com only 17 samples\n",
      "Skipping faktabmr.com only 14 samples\n",
      "Skipping miglianicocalcio.net only 14 samples\n",
      "Skipping www.cscpro.org only 14 samples\n",
      "Skipping levitra100pudoff.com only 14 samples\n",
      "Skipping megagroup.ir only 13 samples\n",
      "Skipping educortex.in only 12 samples\n",
      "Skipping arthurmurray.com only 13 samples\n",
      "Skipping hitburada.com only 13 samples\n",
      "Skipping odlotw.blogspot.com only 13 samples\n",
      "Skipping funakoshikarateaustralia.com.au only 13 samples\n",
      "Skipping whoisdog.com only 13 samples\n",
      "Skipping ksgroupscans.com only 1 samples\n",
      "Skipping kk-vine.at only 13 samples\n",
      "Skipping myegypthost.com only 13 samples\n",
      "Skipping matchingimages.com only 13 samples\n",
      "Skipping onlinecasino002.com only 10 samples\n",
      "Skipping kayseriolaylari.com only 9 samples\n",
      "Skipping hpsconline.in only 1 samples\n",
      "[feature_extract] Number of classes 123\n",
      "[feature_extract] Number of features 123\n",
      "[feature_extract] Number of samples 4155\n",
      "[feature_extract] Number of labels 4155\n",
      "Number of classes 123\n",
      "Number of features 123\n",
      "Number of samples 4155\n",
      "Number of labels 4155\n",
      "Fold 0\n",
      "Fold 1\n",
      "Fold 2\n",
      "Fold 3\n",
      "Fold 4\n",
      "Fold 5\n",
      "Fold 6\n",
      "Fold 7\n",
      "Fold 8\n",
      "Fold 9\n",
      "***************** Working on n cuts: 25\n",
      "Skipping sahafah24.com only 19 samples\n",
      "Skipping 9quotes.com only 19 samples\n",
      "Skipping ragazzeconlavaligia.com , 19 empty samples\n",
      "Skipping bieporn.com only 17 samples\n",
      "Skipping faktabmr.com only 14 samples\n",
      "Skipping miglianicocalcio.net only 14 samples\n",
      "Skipping www.cscpro.org only 14 samples\n",
      "Skipping levitra100pudoff.com only 14 samples\n",
      "Skipping megagroup.ir only 13 samples\n",
      "Skipping educortex.in only 12 samples\n",
      "Skipping arthurmurray.com only 13 samples\n",
      "Skipping hitburada.com only 13 samples\n",
      "Skipping odlotw.blogspot.com only 13 samples\n",
      "Skipping funakoshikarateaustralia.com.au only 13 samples\n",
      "Skipping whoisdog.com only 13 samples\n",
      "Skipping ksgroupscans.com only 1 samples\n",
      "Skipping kk-vine.at only 13 samples\n",
      "Skipping myegypthost.com only 13 samples\n",
      "Skipping matchingimages.com only 13 samples\n",
      "Skipping onlinecasino002.com only 10 samples\n",
      "Skipping kayseriolaylari.com only 9 samples\n",
      "Skipping hpsconline.in only 1 samples\n",
      "[feature_extract] Number of classes 123\n",
      "[feature_extract] Number of features 123\n",
      "[feature_extract] Number of samples 4155\n",
      "[feature_extract] Number of labels 4155\n",
      "Number of classes 123\n",
      "Number of features 123\n",
      "Number of samples 4155\n",
      "Number of labels 4155\n",
      "Fold 0\n",
      "Fold 1\n",
      "Fold 2\n",
      "Fold 3\n",
      "Fold 4\n",
      "Fold 5\n",
      "Fold 6\n",
      "Fold 7\n",
      "Fold 8\n",
      "Fold 9\n",
      "***************** Working on n cuts: 26\n",
      "Skipping sahafah24.com only 19 samples\n",
      "Skipping 9quotes.com only 19 samples\n",
      "Skipping ragazzeconlavaligia.com , 19 empty samples\n",
      "Skipping bieporn.com only 17 samples\n",
      "Skipping faktabmr.com only 14 samples\n",
      "Skipping miglianicocalcio.net only 14 samples\n",
      "Skipping www.cscpro.org only 14 samples\n",
      "Skipping levitra100pudoff.com only 14 samples\n",
      "Skipping megagroup.ir only 13 samples\n",
      "Skipping educortex.in only 12 samples\n",
      "Skipping arthurmurray.com only 13 samples\n",
      "Skipping hitburada.com only 13 samples\n",
      "Skipping odlotw.blogspot.com only 13 samples\n",
      "Skipping funakoshikarateaustralia.com.au only 13 samples\n",
      "Skipping whoisdog.com only 13 samples\n",
      "Skipping ksgroupscans.com only 1 samples\n",
      "Skipping kk-vine.at only 13 samples\n",
      "Skipping myegypthost.com only 13 samples\n",
      "Skipping matchingimages.com only 13 samples\n",
      "Skipping onlinecasino002.com only 10 samples\n",
      "Skipping kayseriolaylari.com only 9 samples\n",
      "Skipping hpsconline.in only 1 samples\n",
      "[feature_extract] Number of classes 123\n",
      "[feature_extract] Number of features 123\n",
      "[feature_extract] Number of samples 4155\n",
      "[feature_extract] Number of labels 4155\n",
      "Number of classes 123\n",
      "Number of features 123\n",
      "Number of samples 4155\n",
      "Number of labels 4155\n",
      "Fold 0\n",
      "Fold 1\n",
      "Fold 2\n",
      "Fold 3\n",
      "Fold 4\n",
      "Fold 5\n",
      "Fold 6\n",
      "Fold 7\n",
      "Fold 8\n",
      "Fold 9\n",
      "***************** Working on n cuts: 27\n",
      "Skipping sahafah24.com only 19 samples\n",
      "Skipping 9quotes.com only 19 samples\n",
      "Skipping ragazzeconlavaligia.com , 19 empty samples\n",
      "Skipping bieporn.com only 17 samples\n",
      "Skipping faktabmr.com only 14 samples\n",
      "Skipping miglianicocalcio.net only 14 samples\n",
      "Skipping www.cscpro.org only 14 samples\n",
      "Skipping levitra100pudoff.com only 14 samples\n",
      "Skipping megagroup.ir only 13 samples\n",
      "Skipping educortex.in only 12 samples\n",
      "Skipping arthurmurray.com only 13 samples\n",
      "Skipping hitburada.com only 13 samples\n",
      "Skipping odlotw.blogspot.com only 13 samples\n",
      "Skipping funakoshikarateaustralia.com.au only 13 samples\n",
      "Skipping whoisdog.com only 13 samples\n",
      "Skipping ksgroupscans.com only 1 samples\n",
      "Skipping kk-vine.at only 13 samples\n",
      "Skipping myegypthost.com only 13 samples\n",
      "Skipping matchingimages.com only 13 samples\n",
      "Skipping onlinecasino002.com only 10 samples\n",
      "Skipping kayseriolaylari.com only 9 samples\n",
      "Skipping hpsconline.in only 1 samples\n",
      "[feature_extract] Number of classes 123\n",
      "[feature_extract] Number of features 123\n",
      "[feature_extract] Number of samples 4155\n",
      "[feature_extract] Number of labels 4155\n",
      "Number of classes 123\n",
      "Number of features 123\n",
      "Number of samples 4155\n",
      "Number of labels 4155\n",
      "Fold 0\n",
      "Fold 1\n",
      "Fold 2\n",
      "Fold 3\n",
      "Fold 4\n",
      "Fold 5\n",
      "Fold 6\n",
      "Fold 7\n",
      "Fold 8\n",
      "Fold 9\n",
      "***************** Working on n cuts: 28\n",
      "Skipping sahafah24.com only 19 samples\n",
      "Skipping 9quotes.com only 19 samples\n",
      "Skipping ragazzeconlavaligia.com , 19 empty samples\n",
      "Skipping bieporn.com only 17 samples\n",
      "Skipping faktabmr.com only 14 samples\n",
      "Skipping miglianicocalcio.net only 14 samples\n",
      "Skipping www.cscpro.org only 14 samples\n",
      "Skipping levitra100pudoff.com only 14 samples\n",
      "Skipping megagroup.ir only 13 samples\n",
      "Skipping educortex.in only 12 samples\n",
      "Skipping arthurmurray.com only 13 samples\n",
      "Skipping hitburada.com only 13 samples\n",
      "Skipping odlotw.blogspot.com only 13 samples\n",
      "Skipping funakoshikarateaustralia.com.au only 13 samples\n",
      "Skipping whoisdog.com only 13 samples\n",
      "Skipping ksgroupscans.com only 1 samples\n",
      "Skipping kk-vine.at only 13 samples\n",
      "Skipping myegypthost.com only 13 samples\n",
      "Skipping matchingimages.com only 13 samples\n",
      "Skipping onlinecasino002.com only 10 samples\n",
      "Skipping kayseriolaylari.com only 9 samples\n",
      "Skipping hpsconline.in only 1 samples\n",
      "[feature_extract] Number of classes 123\n",
      "[feature_extract] Number of features 123\n",
      "[feature_extract] Number of samples 4155\n",
      "[feature_extract] Number of labels 4155\n",
      "Number of classes 123\n",
      "Number of features 123\n",
      "Number of samples 4155\n",
      "Number of labels 4155\n",
      "Fold 0\n"
     ]
    },
    {
     "name": "stdout",
     "output_type": "stream",
     "text": [
      "Fold 1\n",
      "Fold 2\n",
      "Fold 3\n",
      "Fold 4\n",
      "Fold 5\n",
      "Fold 6\n",
      "Fold 7\n",
      "Fold 8\n",
      "Fold 9\n",
      "***************** Working on n cuts: 29\n",
      "Skipping sahafah24.com only 19 samples\n",
      "Skipping 9quotes.com only 19 samples\n",
      "Skipping ragazzeconlavaligia.com , 19 empty samples\n",
      "Skipping bieporn.com only 17 samples\n",
      "Skipping faktabmr.com only 14 samples\n",
      "Skipping miglianicocalcio.net only 14 samples\n",
      "Skipping www.cscpro.org only 14 samples\n",
      "Skipping levitra100pudoff.com only 14 samples\n",
      "Skipping megagroup.ir only 13 samples\n",
      "Skipping educortex.in only 12 samples\n",
      "Skipping arthurmurray.com only 13 samples\n",
      "Skipping hitburada.com only 13 samples\n",
      "Skipping odlotw.blogspot.com only 13 samples\n",
      "Skipping funakoshikarateaustralia.com.au only 13 samples\n",
      "Skipping whoisdog.com only 13 samples\n",
      "Skipping ksgroupscans.com only 1 samples\n",
      "Skipping kk-vine.at only 13 samples\n",
      "Skipping myegypthost.com only 13 samples\n",
      "Skipping matchingimages.com only 13 samples\n",
      "Skipping onlinecasino002.com only 10 samples\n",
      "Skipping kayseriolaylari.com only 9 samples\n",
      "Skipping hpsconline.in only 1 samples\n",
      "[feature_extract] Number of classes 123\n",
      "[feature_extract] Number of features 123\n",
      "[feature_extract] Number of samples 4155\n",
      "[feature_extract] Number of labels 4155\n",
      "Number of classes 123\n",
      "Number of features 123\n",
      "Number of samples 4155\n",
      "Number of labels 4155\n",
      "Fold 0\n",
      "Fold 1\n",
      "Fold 2\n",
      "Fold 3\n",
      "Fold 4\n",
      "Fold 5\n",
      "Fold 6\n",
      "Fold 7\n",
      "Fold 8\n",
      "Fold 9\n",
      "***************** Working on n cuts: 30\n",
      "Skipping sahafah24.com only 19 samples\n",
      "Skipping 9quotes.com only 19 samples\n",
      "Skipping ragazzeconlavaligia.com , 19 empty samples\n",
      "Skipping bieporn.com only 17 samples\n",
      "Skipping faktabmr.com only 14 samples\n",
      "Skipping miglianicocalcio.net only 14 samples\n",
      "Skipping www.cscpro.org only 14 samples\n",
      "Skipping levitra100pudoff.com only 14 samples\n",
      "Skipping megagroup.ir only 13 samples\n",
      "Skipping educortex.in only 12 samples\n",
      "Skipping arthurmurray.com only 13 samples\n",
      "Skipping hitburada.com only 13 samples\n",
      "Skipping odlotw.blogspot.com only 13 samples\n",
      "Skipping funakoshikarateaustralia.com.au only 13 samples\n",
      "Skipping whoisdog.com only 13 samples\n",
      "Skipping ksgroupscans.com only 1 samples\n",
      "Skipping kk-vine.at only 13 samples\n",
      "Skipping myegypthost.com only 13 samples\n",
      "Skipping matchingimages.com only 13 samples\n",
      "Skipping onlinecasino002.com only 10 samples\n",
      "Skipping kayseriolaylari.com only 9 samples\n",
      "Skipping hpsconline.in only 1 samples\n",
      "[feature_extract] Number of classes 123\n",
      "[feature_extract] Number of features 123\n",
      "[feature_extract] Number of samples 4155\n",
      "[feature_extract] Number of labels 4155\n",
      "Number of classes 123\n",
      "Number of features 123\n",
      "Number of samples 4155\n",
      "Number of labels 4155\n",
      "Fold 0\n",
      "Fold 1\n",
      "Fold 2\n",
      "Fold 3\n",
      "Fold 4\n",
      "Fold 5\n",
      "Fold 6\n",
      "Fold 7\n",
      "Fold 8\n",
      "Fold 9\n",
      "***************** Working on n cuts: 31\n",
      "Skipping sahafah24.com only 19 samples\n",
      "Skipping 9quotes.com only 19 samples\n",
      "Skipping ragazzeconlavaligia.com , 19 empty samples\n",
      "Skipping bieporn.com only 17 samples\n",
      "Skipping faktabmr.com only 14 samples\n",
      "Skipping miglianicocalcio.net only 14 samples\n",
      "Skipping www.cscpro.org only 14 samples\n",
      "Skipping levitra100pudoff.com only 14 samples\n",
      "Skipping megagroup.ir only 13 samples\n",
      "Skipping educortex.in only 12 samples\n",
      "Skipping arthurmurray.com only 13 samples\n",
      "Skipping hitburada.com only 13 samples\n",
      "Skipping odlotw.blogspot.com only 13 samples\n",
      "Skipping funakoshikarateaustralia.com.au only 13 samples\n",
      "Skipping whoisdog.com only 13 samples\n",
      "Skipping ksgroupscans.com only 1 samples\n",
      "Skipping kk-vine.at only 13 samples\n",
      "Skipping myegypthost.com only 13 samples\n",
      "Skipping matchingimages.com only 13 samples\n",
      "Skipping onlinecasino002.com only 10 samples\n",
      "Skipping kayseriolaylari.com only 9 samples\n",
      "Skipping hpsconline.in only 1 samples\n",
      "[feature_extract] Number of classes 123\n",
      "[feature_extract] Number of features 123\n",
      "[feature_extract] Number of samples 4155\n",
      "[feature_extract] Number of labels 4155\n",
      "Number of classes 123\n",
      "Number of features 123\n",
      "Number of samples 4155\n",
      "Number of labels 4155\n",
      "Fold 0\n",
      "Fold 1\n",
      "Fold 2\n",
      "Fold 3\n",
      "Fold 4\n",
      "Fold 5\n",
      "Fold 6\n",
      "Fold 7\n",
      "Fold 8\n",
      "Fold 9\n",
      "***************** Working on n cuts: 32\n",
      "Skipping sahafah24.com only 19 samples\n",
      "Skipping 9quotes.com only 19 samples\n",
      "Skipping ragazzeconlavaligia.com , 19 empty samples\n",
      "Skipping bieporn.com only 17 samples\n",
      "Skipping faktabmr.com only 14 samples\n",
      "Skipping miglianicocalcio.net only 14 samples\n",
      "Skipping www.cscpro.org only 14 samples\n",
      "Skipping levitra100pudoff.com only 14 samples\n",
      "Skipping megagroup.ir only 13 samples\n",
      "Skipping educortex.in only 12 samples\n",
      "Skipping arthurmurray.com only 13 samples\n",
      "Skipping hitburada.com only 13 samples\n",
      "Skipping odlotw.blogspot.com only 13 samples\n",
      "Skipping funakoshikarateaustralia.com.au only 13 samples\n",
      "Skipping whoisdog.com only 13 samples\n",
      "Skipping ksgroupscans.com only 1 samples\n",
      "Skipping kk-vine.at only 13 samples\n",
      "Skipping myegypthost.com only 13 samples\n",
      "Skipping matchingimages.com only 13 samples\n",
      "Skipping onlinecasino002.com only 10 samples\n",
      "Skipping kayseriolaylari.com only 9 samples\n",
      "Skipping hpsconline.in only 1 samples\n",
      "[feature_extract] Number of classes 123\n",
      "[feature_extract] Number of features 123\n",
      "[feature_extract] Number of samples 4155\n",
      "[feature_extract] Number of labels 4155\n",
      "Number of classes 123\n",
      "Number of features 123\n",
      "Number of samples 4155\n",
      "Number of labels 4155\n",
      "Fold 0\n",
      "Fold 1\n",
      "Fold 2\n",
      "Fold 3\n",
      "Fold 4\n",
      "Fold 5\n",
      "Fold 6\n",
      "Fold 7\n",
      "Fold 8\n",
      "Fold 9\n",
      "***************** Working on n cuts: 33\n",
      "Skipping sahafah24.com only 19 samples\n",
      "Skipping 9quotes.com only 19 samples\n",
      "Skipping ragazzeconlavaligia.com , 19 empty samples\n",
      "Skipping bieporn.com only 17 samples\n",
      "Skipping faktabmr.com only 14 samples\n",
      "Skipping miglianicocalcio.net only 14 samples\n",
      "Skipping www.cscpro.org only 14 samples\n",
      "Skipping levitra100pudoff.com only 14 samples\n",
      "Skipping megagroup.ir only 13 samples\n",
      "Skipping educortex.in only 12 samples\n",
      "Skipping arthurmurray.com only 13 samples\n",
      "Skipping hitburada.com only 13 samples\n",
      "Skipping odlotw.blogspot.com only 13 samples\n",
      "Skipping funakoshikarateaustralia.com.au only 13 samples\n",
      "Skipping whoisdog.com only 13 samples\n",
      "Skipping ksgroupscans.com only 1 samples\n",
      "Skipping kk-vine.at only 13 samples\n",
      "Skipping myegypthost.com only 13 samples\n",
      "Skipping matchingimages.com only 13 samples\n",
      "Skipping onlinecasino002.com only 10 samples\n",
      "Skipping kayseriolaylari.com only 9 samples\n",
      "Skipping hpsconline.in only 1 samples\n",
      "[feature_extract] Number of classes 123\n",
      "[feature_extract] Number of features 123\n",
      "[feature_extract] Number of samples 4155\n",
      "[feature_extract] Number of labels 4155\n",
      "Number of classes 123\n",
      "Number of features 123\n",
      "Number of samples 4155\n",
      "Number of labels 4155\n",
      "Fold 0\n",
      "Fold 1\n",
      "Fold 2\n",
      "Fold 3\n",
      "Fold 4\n",
      "Fold 5\n",
      "Fold 6\n",
      "Fold 7\n",
      "Fold 8\n",
      "Fold 9\n",
      "***************** Working on n cuts: 34\n",
      "Skipping sahafah24.com only 19 samples\n",
      "Skipping 9quotes.com only 19 samples\n",
      "Skipping ragazzeconlavaligia.com , 19 empty samples\n",
      "Skipping bieporn.com only 17 samples\n",
      "Skipping faktabmr.com only 14 samples\n",
      "Skipping miglianicocalcio.net only 14 samples\n",
      "Skipping www.cscpro.org only 14 samples\n",
      "Skipping levitra100pudoff.com only 14 samples\n",
      "Skipping megagroup.ir only 13 samples\n",
      "Skipping educortex.in only 12 samples\n",
      "Skipping arthurmurray.com only 13 samples\n",
      "Skipping hitburada.com only 13 samples\n",
      "Skipping odlotw.blogspot.com only 13 samples\n",
      "Skipping funakoshikarateaustralia.com.au only 13 samples\n",
      "Skipping whoisdog.com only 13 samples\n",
      "Skipping ksgroupscans.com only 1 samples\n",
      "Skipping kk-vine.at only 13 samples\n",
      "Skipping myegypthost.com only 13 samples\n",
      "Skipping matchingimages.com only 13 samples\n",
      "Skipping onlinecasino002.com only 10 samples\n",
      "Skipping kayseriolaylari.com only 9 samples\n",
      "Skipping hpsconline.in only 1 samples\n",
      "[feature_extract] Number of classes 123\n",
      "[feature_extract] Number of features 123\n",
      "[feature_extract] Number of samples 4155\n",
      "[feature_extract] Number of labels 4155\n",
      "Number of classes 123\n",
      "Number of features 123\n",
      "Number of samples 4155\n",
      "Number of labels 4155\n",
      "Fold 0\n",
      "Fold 1\n",
      "Fold 2\n",
      "Fold 3\n",
      "Fold 4\n",
      "Fold 5\n",
      "Fold 6\n",
      "Fold 7\n",
      "Fold 8\n",
      "Fold 9\n",
      "***************** Working on n cuts: 35\n",
      "Skipping sahafah24.com only 19 samples\n",
      "Skipping 9quotes.com only 19 samples\n",
      "Skipping ragazzeconlavaligia.com , 19 empty samples\n",
      "Skipping bieporn.com only 17 samples\n",
      "Skipping faktabmr.com only 14 samples\n",
      "Skipping miglianicocalcio.net only 14 samples\n",
      "Skipping www.cscpro.org only 14 samples\n",
      "Skipping levitra100pudoff.com only 14 samples\n",
      "Skipping megagroup.ir only 13 samples\n",
      "Skipping educortex.in only 12 samples\n",
      "Skipping arthurmurray.com only 13 samples\n",
      "Skipping hitburada.com only 13 samples\n",
      "Skipping odlotw.blogspot.com only 13 samples\n",
      "Skipping funakoshikarateaustralia.com.au only 13 samples\n",
      "Skipping whoisdog.com only 13 samples\n",
      "Skipping ksgroupscans.com only 1 samples\n",
      "Skipping kk-vine.at only 13 samples\n",
      "Skipping myegypthost.com only 13 samples\n",
      "Skipping matchingimages.com only 13 samples\n",
      "Skipping onlinecasino002.com only 10 samples\n",
      "Skipping kayseriolaylari.com only 9 samples\n",
      "Skipping hpsconline.in only 1 samples\n",
      "[feature_extract] Number of classes 123\n",
      "[feature_extract] Number of features 123\n",
      "[feature_extract] Number of samples 4155\n",
      "[feature_extract] Number of labels 4155\n",
      "Number of classes 123\n",
      "Number of features 123\n",
      "Number of samples 4155\n",
      "Number of labels 4155\n",
      "Fold 0\n"
     ]
    },
    {
     "name": "stdout",
     "output_type": "stream",
     "text": [
      "Fold 1\n",
      "Fold 2\n",
      "Fold 3\n",
      "Fold 4\n",
      "Fold 5\n",
      "Fold 6\n",
      "Fold 7\n",
      "Fold 8\n",
      "Fold 9\n",
      "***************** Working on n cuts: 36\n",
      "Skipping sahafah24.com only 19 samples\n",
      "Skipping 9quotes.com only 19 samples\n",
      "Skipping ragazzeconlavaligia.com , 19 empty samples\n",
      "Skipping bieporn.com only 17 samples\n",
      "Skipping faktabmr.com only 14 samples\n",
      "Skipping miglianicocalcio.net only 14 samples\n",
      "Skipping www.cscpro.org only 14 samples\n",
      "Skipping levitra100pudoff.com only 14 samples\n",
      "Skipping megagroup.ir only 13 samples\n",
      "Skipping educortex.in only 12 samples\n",
      "Skipping arthurmurray.com only 13 samples\n",
      "Skipping hitburada.com only 13 samples\n",
      "Skipping odlotw.blogspot.com only 13 samples\n",
      "Skipping funakoshikarateaustralia.com.au only 13 samples\n",
      "Skipping whoisdog.com only 13 samples\n",
      "Skipping ksgroupscans.com only 1 samples\n",
      "Skipping kk-vine.at only 13 samples\n",
      "Skipping myegypthost.com only 13 samples\n",
      "Skipping matchingimages.com only 13 samples\n",
      "Skipping onlinecasino002.com only 10 samples\n",
      "Skipping kayseriolaylari.com only 9 samples\n",
      "Skipping hpsconline.in only 1 samples\n",
      "[feature_extract] Number of classes 123\n",
      "[feature_extract] Number of features 123\n",
      "[feature_extract] Number of samples 4155\n",
      "[feature_extract] Number of labels 4155\n",
      "Number of classes 123\n",
      "Number of features 123\n",
      "Number of samples 4155\n",
      "Number of labels 4155\n",
      "Fold 0\n",
      "Fold 1\n",
      "Fold 2\n",
      "Fold 3\n",
      "Fold 4\n",
      "Fold 5\n",
      "Fold 6\n",
      "Fold 7\n",
      "Fold 8\n",
      "Fold 9\n",
      "***************** Working on n cuts: 37\n",
      "Skipping sahafah24.com only 19 samples\n",
      "Skipping 9quotes.com only 19 samples\n",
      "Skipping ragazzeconlavaligia.com , 19 empty samples\n",
      "Skipping bieporn.com only 17 samples\n",
      "Skipping faktabmr.com only 14 samples\n",
      "Skipping miglianicocalcio.net only 14 samples\n",
      "Skipping www.cscpro.org only 14 samples\n",
      "Skipping levitra100pudoff.com only 14 samples\n",
      "Skipping megagroup.ir only 13 samples\n",
      "Skipping educortex.in only 12 samples\n",
      "Skipping arthurmurray.com only 13 samples\n",
      "Skipping hitburada.com only 13 samples\n",
      "Skipping odlotw.blogspot.com only 13 samples\n",
      "Skipping funakoshikarateaustralia.com.au only 13 samples\n",
      "Skipping whoisdog.com only 13 samples\n",
      "Skipping ksgroupscans.com only 1 samples\n",
      "Skipping kk-vine.at only 13 samples\n",
      "Skipping myegypthost.com only 13 samples\n",
      "Skipping matchingimages.com only 13 samples\n",
      "Skipping onlinecasino002.com only 10 samples\n",
      "Skipping kayseriolaylari.com only 9 samples\n",
      "Skipping hpsconline.in only 1 samples\n",
      "[feature_extract] Number of classes 123\n",
      "[feature_extract] Number of features 123\n",
      "[feature_extract] Number of samples 4155\n",
      "[feature_extract] Number of labels 4155\n",
      "Number of classes 123\n",
      "Number of features 123\n",
      "Number of samples 4155\n",
      "Number of labels 4155\n",
      "Fold 0\n",
      "Fold 1\n",
      "Fold 2\n",
      "Fold 3\n",
      "Fold 4\n",
      "Fold 5\n",
      "Fold 6\n",
      "Fold 7\n",
      "Fold 8\n",
      "Fold 9\n",
      "***************** Working on n cuts: 38\n",
      "Skipping sahafah24.com only 19 samples\n",
      "Skipping 9quotes.com only 19 samples\n",
      "Skipping ragazzeconlavaligia.com , 19 empty samples\n",
      "Skipping bieporn.com only 17 samples\n",
      "Skipping faktabmr.com only 14 samples\n",
      "Skipping miglianicocalcio.net only 14 samples\n",
      "Skipping www.cscpro.org only 14 samples\n",
      "Skipping levitra100pudoff.com only 14 samples\n",
      "Skipping megagroup.ir only 13 samples\n",
      "Skipping educortex.in only 12 samples\n",
      "Skipping arthurmurray.com only 13 samples\n",
      "Skipping hitburada.com only 13 samples\n",
      "Skipping odlotw.blogspot.com only 13 samples\n",
      "Skipping funakoshikarateaustralia.com.au only 13 samples\n",
      "Skipping whoisdog.com only 13 samples\n",
      "Skipping ksgroupscans.com only 1 samples\n",
      "Skipping kk-vine.at only 13 samples\n",
      "Skipping myegypthost.com only 13 samples\n",
      "Skipping matchingimages.com only 13 samples\n",
      "Skipping onlinecasino002.com only 10 samples\n",
      "Skipping kayseriolaylari.com only 9 samples\n",
      "Skipping hpsconline.in only 1 samples\n",
      "[feature_extract] Number of classes 123\n",
      "[feature_extract] Number of features 123\n",
      "[feature_extract] Number of samples 4155\n",
      "[feature_extract] Number of labels 4155\n",
      "Number of classes 123\n",
      "Number of features 123\n",
      "Number of samples 4155\n",
      "Number of labels 4155\n",
      "Fold 0\n",
      "Fold 1\n",
      "Fold 2\n",
      "Fold 3\n",
      "Fold 4\n",
      "Fold 5\n",
      "Fold 6\n",
      "Fold 7\n",
      "Fold 8\n",
      "Fold 9\n",
      "***************** Working on n cuts: 39\n",
      "Skipping sahafah24.com only 19 samples\n",
      "Skipping 9quotes.com only 19 samples\n",
      "Skipping ragazzeconlavaligia.com , 19 empty samples\n",
      "Skipping bieporn.com only 17 samples\n",
      "Skipping faktabmr.com only 14 samples\n",
      "Skipping miglianicocalcio.net only 14 samples\n",
      "Skipping www.cscpro.org only 14 samples\n",
      "Skipping levitra100pudoff.com only 14 samples\n",
      "Skipping megagroup.ir only 13 samples\n",
      "Skipping educortex.in only 12 samples\n",
      "Skipping arthurmurray.com only 13 samples\n",
      "Skipping hitburada.com only 13 samples\n",
      "Skipping odlotw.blogspot.com only 13 samples\n",
      "Skipping funakoshikarateaustralia.com.au only 13 samples\n",
      "Skipping whoisdog.com only 13 samples\n",
      "Skipping ksgroupscans.com only 1 samples\n",
      "Skipping kk-vine.at only 13 samples\n",
      "Skipping myegypthost.com only 13 samples\n",
      "Skipping matchingimages.com only 13 samples\n",
      "Skipping onlinecasino002.com only 10 samples\n",
      "Skipping kayseriolaylari.com only 9 samples\n",
      "Skipping hpsconline.in only 1 samples\n",
      "[feature_extract] Number of classes 123\n",
      "[feature_extract] Number of features 123\n",
      "[feature_extract] Number of samples 4155\n",
      "[feature_extract] Number of labels 4155\n",
      "Number of classes 123\n",
      "Number of features 123\n",
      "Number of samples 4155\n",
      "Number of labels 4155\n",
      "Fold 0\n",
      "Fold 1\n",
      "Fold 2\n",
      "Fold 3\n",
      "Fold 4\n",
      "Fold 5\n",
      "Fold 6\n",
      "Fold 7\n",
      "Fold 8\n",
      "Fold 9\n",
      "***************** Working on n cuts: 40\n",
      "Skipping sahafah24.com only 19 samples\n",
      "Skipping 9quotes.com only 19 samples\n",
      "Skipping ragazzeconlavaligia.com , 19 empty samples\n",
      "Skipping bieporn.com only 17 samples\n",
      "Skipping faktabmr.com only 14 samples\n",
      "Skipping miglianicocalcio.net only 14 samples\n",
      "Skipping www.cscpro.org only 14 samples\n",
      "Skipping levitra100pudoff.com only 14 samples\n",
      "Skipping megagroup.ir only 13 samples\n",
      "Skipping educortex.in only 12 samples\n",
      "Skipping arthurmurray.com only 13 samples\n",
      "Skipping hitburada.com only 13 samples\n",
      "Skipping odlotw.blogspot.com only 13 samples\n",
      "Skipping funakoshikarateaustralia.com.au only 13 samples\n",
      "Skipping whoisdog.com only 13 samples\n",
      "Skipping ksgroupscans.com only 1 samples\n",
      "Skipping kk-vine.at only 13 samples\n",
      "Skipping myegypthost.com only 13 samples\n",
      "Skipping matchingimages.com only 13 samples\n",
      "Skipping onlinecasino002.com only 10 samples\n",
      "Skipping kayseriolaylari.com only 9 samples\n",
      "Skipping hpsconline.in only 1 samples\n",
      "[feature_extract] Number of classes 123\n",
      "[feature_extract] Number of features 123\n",
      "[feature_extract] Number of samples 4155\n",
      "[feature_extract] Number of labels 4155\n",
      "Number of classes 123\n",
      "Number of features 123\n",
      "Number of samples 4155\n",
      "Number of labels 4155\n",
      "Fold 0\n",
      "Fold 1\n",
      "Fold 2\n",
      "Fold 3\n",
      "Fold 4\n",
      "Fold 5\n",
      "Fold 6\n",
      "Fold 7\n",
      "Fold 8\n",
      "Fold 9\n",
      "***************** Working on n cuts: 41\n",
      "Skipping sahafah24.com only 19 samples\n",
      "Skipping 9quotes.com only 19 samples\n",
      "Skipping ragazzeconlavaligia.com , 19 empty samples\n",
      "Skipping bieporn.com only 17 samples\n",
      "Skipping faktabmr.com only 14 samples\n",
      "Skipping miglianicocalcio.net only 14 samples\n",
      "Skipping www.cscpro.org only 14 samples\n",
      "Skipping levitra100pudoff.com only 14 samples\n",
      "Skipping megagroup.ir only 13 samples\n",
      "Skipping educortex.in only 12 samples\n",
      "Skipping arthurmurray.com only 13 samples\n",
      "Skipping hitburada.com only 13 samples\n",
      "Skipping odlotw.blogspot.com only 13 samples\n",
      "Skipping funakoshikarateaustralia.com.au only 13 samples\n",
      "Skipping whoisdog.com only 13 samples\n",
      "Skipping ksgroupscans.com only 1 samples\n",
      "Skipping kk-vine.at only 13 samples\n",
      "Skipping myegypthost.com only 13 samples\n",
      "Skipping matchingimages.com only 13 samples\n",
      "Skipping onlinecasino002.com only 10 samples\n",
      "Skipping kayseriolaylari.com only 9 samples\n",
      "Skipping hpsconline.in only 1 samples\n",
      "[feature_extract] Number of classes 123\n",
      "[feature_extract] Number of features 123\n",
      "[feature_extract] Number of samples 4155\n",
      "[feature_extract] Number of labels 4155\n",
      "Number of classes 123\n",
      "Number of features 123\n",
      "Number of samples 4155\n",
      "Number of labels 4155\n",
      "Fold 0\n",
      "Fold 1\n",
      "Fold 2\n",
      "Fold 3\n",
      "Fold 4\n",
      "Fold 5\n",
      "Fold 6\n",
      "Fold 7\n",
      "Fold 8\n",
      "Fold 9\n",
      "***************** Working on n cuts: 42\n",
      "Skipping sahafah24.com only 19 samples\n",
      "Skipping 9quotes.com only 19 samples\n",
      "Skipping ragazzeconlavaligia.com , 19 empty samples\n",
      "Skipping bieporn.com only 17 samples\n",
      "Skipping faktabmr.com only 14 samples\n",
      "Skipping miglianicocalcio.net only 14 samples\n",
      "Skipping www.cscpro.org only 14 samples\n",
      "Skipping levitra100pudoff.com only 14 samples\n",
      "Skipping megagroup.ir only 13 samples\n",
      "Skipping educortex.in only 12 samples\n",
      "Skipping arthurmurray.com only 13 samples\n",
      "Skipping hitburada.com only 13 samples\n",
      "Skipping odlotw.blogspot.com only 13 samples\n",
      "Skipping funakoshikarateaustralia.com.au only 13 samples\n",
      "Skipping whoisdog.com only 13 samples\n",
      "Skipping ksgroupscans.com only 1 samples\n",
      "Skipping kk-vine.at only 13 samples\n",
      "Skipping myegypthost.com only 13 samples\n",
      "Skipping matchingimages.com only 13 samples\n",
      "Skipping onlinecasino002.com only 10 samples\n",
      "Skipping kayseriolaylari.com only 9 samples\n",
      "Skipping hpsconline.in only 1 samples\n",
      "[feature_extract] Number of classes 123\n",
      "[feature_extract] Number of features 123\n",
      "[feature_extract] Number of samples 4155\n",
      "[feature_extract] Number of labels 4155\n",
      "Number of classes 123\n",
      "Number of features 123\n",
      "Number of samples 4155\n",
      "Number of labels 4155\n",
      "Fold 0\n"
     ]
    },
    {
     "name": "stdout",
     "output_type": "stream",
     "text": [
      "Fold 1\n",
      "Fold 2\n",
      "Fold 3\n",
      "Fold 4\n",
      "Fold 5\n",
      "Fold 6\n",
      "Fold 7\n",
      "Fold 8\n",
      "Fold 9\n",
      "***************** Working on n cuts: 43\n",
      "Skipping sahafah24.com only 19 samples\n",
      "Skipping 9quotes.com only 19 samples\n",
      "Skipping ragazzeconlavaligia.com , 19 empty samples\n",
      "Skipping bieporn.com only 17 samples\n",
      "Skipping faktabmr.com only 14 samples\n",
      "Skipping miglianicocalcio.net only 14 samples\n",
      "Skipping www.cscpro.org only 14 samples\n",
      "Skipping levitra100pudoff.com only 14 samples\n",
      "Skipping megagroup.ir only 13 samples\n",
      "Skipping educortex.in only 12 samples\n",
      "Skipping arthurmurray.com only 13 samples\n",
      "Skipping hitburada.com only 13 samples\n",
      "Skipping odlotw.blogspot.com only 13 samples\n",
      "Skipping funakoshikarateaustralia.com.au only 13 samples\n",
      "Skipping whoisdog.com only 13 samples\n",
      "Skipping ksgroupscans.com only 1 samples\n",
      "Skipping kk-vine.at only 13 samples\n",
      "Skipping myegypthost.com only 13 samples\n",
      "Skipping matchingimages.com only 13 samples\n",
      "Skipping onlinecasino002.com only 10 samples\n",
      "Skipping kayseriolaylari.com only 9 samples\n",
      "Skipping hpsconline.in only 1 samples\n",
      "[feature_extract] Number of classes 123\n",
      "[feature_extract] Number of features 123\n",
      "[feature_extract] Number of samples 4155\n",
      "[feature_extract] Number of labels 4155\n",
      "Number of classes 123\n",
      "Number of features 123\n",
      "Number of samples 4155\n",
      "Number of labels 4155\n",
      "Fold 0\n",
      "Fold 1\n",
      "Fold 2\n",
      "Fold 3\n",
      "Fold 4\n",
      "Fold 5\n",
      "Fold 6\n",
      "Fold 7\n",
      "Fold 8\n",
      "Fold 9\n",
      "***************** Working on n cuts: 44\n",
      "Skipping sahafah24.com only 19 samples\n",
      "Skipping 9quotes.com only 19 samples\n",
      "Skipping ragazzeconlavaligia.com , 19 empty samples\n",
      "Skipping bieporn.com only 17 samples\n",
      "Skipping faktabmr.com only 14 samples\n",
      "Skipping miglianicocalcio.net only 14 samples\n",
      "Skipping www.cscpro.org only 14 samples\n",
      "Skipping levitra100pudoff.com only 14 samples\n",
      "Skipping megagroup.ir only 13 samples\n",
      "Skipping educortex.in only 12 samples\n",
      "Skipping arthurmurray.com only 13 samples\n",
      "Skipping hitburada.com only 13 samples\n",
      "Skipping odlotw.blogspot.com only 13 samples\n",
      "Skipping funakoshikarateaustralia.com.au only 13 samples\n",
      "Skipping whoisdog.com only 13 samples\n",
      "Skipping ksgroupscans.com only 1 samples\n",
      "Skipping kk-vine.at only 13 samples\n",
      "Skipping myegypthost.com only 13 samples\n",
      "Skipping matchingimages.com only 13 samples\n",
      "Skipping onlinecasino002.com only 10 samples\n",
      "Skipping kayseriolaylari.com only 9 samples\n",
      "Skipping hpsconline.in only 1 samples\n",
      "[feature_extract] Number of classes 123\n",
      "[feature_extract] Number of features 123\n",
      "[feature_extract] Number of samples 4155\n",
      "[feature_extract] Number of labels 4155\n",
      "Number of classes 123\n",
      "Number of features 123\n",
      "Number of samples 4155\n",
      "Number of labels 4155\n",
      "Fold 0\n",
      "Fold 1\n",
      "Fold 2\n",
      "Fold 3\n",
      "Fold 4\n",
      "Fold 5\n",
      "Fold 6\n",
      "Fold 7\n",
      "Fold 8\n",
      "Fold 9\n",
      "***************** Working on n cuts: 45\n",
      "Skipping sahafah24.com only 19 samples\n",
      "Skipping 9quotes.com only 19 samples\n",
      "Skipping ragazzeconlavaligia.com , 19 empty samples\n",
      "Skipping bieporn.com only 17 samples\n",
      "Skipping faktabmr.com only 14 samples\n",
      "Skipping miglianicocalcio.net only 14 samples\n",
      "Skipping www.cscpro.org only 14 samples\n",
      "Skipping levitra100pudoff.com only 14 samples\n",
      "Skipping megagroup.ir only 13 samples\n",
      "Skipping educortex.in only 12 samples\n",
      "Skipping arthurmurray.com only 13 samples\n",
      "Skipping hitburada.com only 13 samples\n",
      "Skipping odlotw.blogspot.com only 13 samples\n",
      "Skipping funakoshikarateaustralia.com.au only 13 samples\n",
      "Skipping whoisdog.com only 13 samples\n",
      "Skipping ksgroupscans.com only 1 samples\n",
      "Skipping kk-vine.at only 13 samples\n",
      "Skipping myegypthost.com only 13 samples\n",
      "Skipping matchingimages.com only 13 samples\n",
      "Skipping onlinecasino002.com only 10 samples\n",
      "Skipping kayseriolaylari.com only 9 samples\n",
      "Skipping hpsconline.in only 1 samples\n",
      "[feature_extract] Number of classes 123\n",
      "[feature_extract] Number of features 123\n",
      "[feature_extract] Number of samples 4155\n",
      "[feature_extract] Number of labels 4155\n",
      "Number of classes 123\n",
      "Number of features 123\n",
      "Number of samples 4155\n",
      "Number of labels 4155\n",
      "Fold 0\n",
      "Fold 1\n",
      "Fold 2\n",
      "Fold 3\n",
      "Fold 4\n",
      "Fold 5\n",
      "Fold 6\n",
      "Fold 7\n",
      "Fold 8\n",
      "Fold 9\n",
      "***************** Working on n cuts: 46\n",
      "Skipping sahafah24.com only 19 samples\n",
      "Skipping 9quotes.com only 19 samples\n",
      "Skipping ragazzeconlavaligia.com , 19 empty samples\n",
      "Skipping bieporn.com only 17 samples\n",
      "Skipping faktabmr.com only 14 samples\n",
      "Skipping miglianicocalcio.net only 14 samples\n",
      "Skipping www.cscpro.org only 14 samples\n",
      "Skipping levitra100pudoff.com only 14 samples\n",
      "Skipping megagroup.ir only 13 samples\n",
      "Skipping educortex.in only 12 samples\n",
      "Skipping arthurmurray.com only 13 samples\n",
      "Skipping hitburada.com only 13 samples\n",
      "Skipping odlotw.blogspot.com only 13 samples\n",
      "Skipping funakoshikarateaustralia.com.au only 13 samples\n",
      "Skipping whoisdog.com only 13 samples\n",
      "Skipping ksgroupscans.com only 1 samples\n",
      "Skipping kk-vine.at only 13 samples\n",
      "Skipping myegypthost.com only 13 samples\n",
      "Skipping matchingimages.com only 13 samples\n",
      "Skipping onlinecasino002.com only 10 samples\n",
      "Skipping kayseriolaylari.com only 9 samples\n",
      "Skipping hpsconline.in only 1 samples\n",
      "[feature_extract] Number of classes 123\n",
      "[feature_extract] Number of features 123\n",
      "[feature_extract] Number of samples 4155\n",
      "[feature_extract] Number of labels 4155\n",
      "Number of classes 123\n",
      "Number of features 123\n",
      "Number of samples 4155\n",
      "Number of labels 4155\n",
      "Fold 0\n",
      "Fold 1\n",
      "Fold 2\n",
      "Fold 3\n",
      "Fold 4\n",
      "Fold 5\n",
      "Fold 6\n",
      "Fold 7\n",
      "Fold 8\n",
      "Fold 9\n",
      "***************** Working on n cuts: 47\n",
      "Skipping sahafah24.com only 19 samples\n",
      "Skipping 9quotes.com only 19 samples\n",
      "Skipping ragazzeconlavaligia.com , 19 empty samples\n",
      "Skipping bieporn.com only 17 samples\n",
      "Skipping faktabmr.com only 14 samples\n",
      "Skipping miglianicocalcio.net only 14 samples\n",
      "Skipping www.cscpro.org only 14 samples\n",
      "Skipping levitra100pudoff.com only 14 samples\n",
      "Skipping megagroup.ir only 13 samples\n",
      "Skipping educortex.in only 12 samples\n",
      "Skipping arthurmurray.com only 13 samples\n",
      "Skipping hitburada.com only 13 samples\n",
      "Skipping odlotw.blogspot.com only 13 samples\n",
      "Skipping funakoshikarateaustralia.com.au only 13 samples\n",
      "Skipping whoisdog.com only 13 samples\n",
      "Skipping ksgroupscans.com only 1 samples\n",
      "Skipping kk-vine.at only 13 samples\n",
      "Skipping myegypthost.com only 13 samples\n",
      "Skipping matchingimages.com only 13 samples\n",
      "Skipping onlinecasino002.com only 10 samples\n",
      "Skipping kayseriolaylari.com only 9 samples\n",
      "Skipping hpsconline.in only 1 samples\n",
      "[feature_extract] Number of classes 123\n",
      "[feature_extract] Number of features 123\n",
      "[feature_extract] Number of samples 4155\n",
      "[feature_extract] Number of labels 4155\n",
      "Number of classes 123\n",
      "Number of features 123\n",
      "Number of samples 4155\n",
      "Number of labels 4155\n",
      "Fold 0\n",
      "Fold 1\n",
      "Fold 2\n",
      "Fold 3\n",
      "Fold 4\n",
      "Fold 5\n",
      "Fold 6\n",
      "Fold 7\n",
      "Fold 8\n",
      "Fold 9\n",
      "***************** Working on n cuts: 48\n",
      "Skipping sahafah24.com only 19 samples\n",
      "Skipping 9quotes.com only 19 samples\n",
      "Skipping ragazzeconlavaligia.com , 19 empty samples\n",
      "Skipping bieporn.com only 17 samples\n",
      "Skipping faktabmr.com only 14 samples\n",
      "Skipping miglianicocalcio.net only 14 samples\n",
      "Skipping www.cscpro.org only 14 samples\n",
      "Skipping levitra100pudoff.com only 14 samples\n",
      "Skipping megagroup.ir only 13 samples\n",
      "Skipping educortex.in only 12 samples\n",
      "Skipping arthurmurray.com only 13 samples\n",
      "Skipping hitburada.com only 13 samples\n",
      "Skipping odlotw.blogspot.com only 13 samples\n",
      "Skipping funakoshikarateaustralia.com.au only 13 samples\n",
      "Skipping whoisdog.com only 13 samples\n",
      "Skipping ksgroupscans.com only 1 samples\n",
      "Skipping kk-vine.at only 13 samples\n",
      "Skipping myegypthost.com only 13 samples\n",
      "Skipping matchingimages.com only 13 samples\n",
      "Skipping onlinecasino002.com only 10 samples\n",
      "Skipping kayseriolaylari.com only 9 samples\n",
      "Skipping hpsconline.in only 1 samples\n",
      "[feature_extract] Number of classes 123\n",
      "[feature_extract] Number of features 123\n",
      "[feature_extract] Number of samples 4155\n",
      "[feature_extract] Number of labels 4155\n",
      "Number of classes 123\n",
      "Number of features 123\n",
      "Number of samples 4155\n",
      "Number of labels 4155\n",
      "Fold 0\n",
      "Fold 1\n",
      "Fold 2\n",
      "Fold 3\n",
      "Fold 4\n",
      "Fold 5\n",
      "Fold 6\n",
      "Fold 7\n",
      "Fold 8\n",
      "Fold 9\n",
      "***************** Working on n cuts: 49\n",
      "Skipping sahafah24.com only 19 samples\n",
      "Skipping 9quotes.com only 19 samples\n",
      "Skipping ragazzeconlavaligia.com , 19 empty samples\n",
      "Skipping bieporn.com only 17 samples\n",
      "Skipping faktabmr.com only 14 samples\n",
      "Skipping miglianicocalcio.net only 14 samples\n",
      "Skipping www.cscpro.org only 14 samples\n",
      "Skipping levitra100pudoff.com only 14 samples\n",
      "Skipping megagroup.ir only 13 samples\n",
      "Skipping educortex.in only 12 samples\n",
      "Skipping arthurmurray.com only 13 samples\n",
      "Skipping hitburada.com only 13 samples\n",
      "Skipping odlotw.blogspot.com only 13 samples\n",
      "Skipping funakoshikarateaustralia.com.au only 13 samples\n",
      "Skipping whoisdog.com only 13 samples\n",
      "Skipping ksgroupscans.com only 1 samples\n",
      "Skipping kk-vine.at only 13 samples\n",
      "Skipping myegypthost.com only 13 samples\n",
      "Skipping matchingimages.com only 13 samples\n",
      "Skipping onlinecasino002.com only 10 samples\n",
      "Skipping kayseriolaylari.com only 9 samples\n",
      "Skipping hpsconline.in only 1 samples\n",
      "[feature_extract] Number of classes 123\n",
      "[feature_extract] Number of features 123\n",
      "[feature_extract] Number of samples 4155\n",
      "[feature_extract] Number of labels 4155\n",
      "Number of classes 123\n",
      "Number of features 123\n",
      "Number of samples 4155\n",
      "Number of labels 4155\n",
      "Fold 0\n"
     ]
    },
    {
     "name": "stdout",
     "output_type": "stream",
     "text": [
      "Fold 1\n",
      "Fold 2\n",
      "Fold 3\n",
      "Fold 4\n",
      "Fold 5\n",
      "Fold 6\n",
      "Fold 7\n",
      "Fold 8\n",
      "Fold 9\n"
     ]
    }
   ],
   "source": [
    "def next_val(x, padding_function_steps):\n",
    "    i = 0\n",
    "    pad_to = padding_function_steps[i]\n",
    "    while x > pad_to:\n",
    "        i += 1\n",
    "        if i >= len(padding_function_steps):\n",
    "            print(x, padding_function_steps)\n",
    "        pad_to = padding_function_steps[i]\n",
    "    return padding_function_steps[i]\n",
    "\n",
    "\n",
    "def pad_to_cuts(data, cuts):\n",
    "    data2 = {}\n",
    "    for url in data:\n",
    "        data2[url] = {}\n",
    "        for sample in data[url]:\n",
    "            data2[url][sample] = []\n",
    "            for request in data[url][sample]:\n",
    "                t, out, inc = request\n",
    "                out = 600 # pad all requests\n",
    "                data2[url][sample].append([t, out, next_val(inc, cuts)])\n",
    "    return data2\n",
    "\n",
    "def build_clf_perfs(padding_functions, data_old_format):\n",
    "    clf_perfs = {}\n",
    "    for cuts, med_cost, mean_cost in padding_functions:\n",
    "        print(f\"***************** Working on n cuts: {len(cuts)}\")\n",
    "        data_padded = pad_to_cuts(data_old_format, cuts)\n",
    "        features = get_features(data_padded)\n",
    "        clf_res = rf_with_rfe(features)\n",
    "\n",
    "        clf_perfs[len(cuts)] = [clf_res]\n",
    "\n",
    "    return clf_perfs\n",
    "\n",
    "clf_perfs = load_or_compute(\"clf_perfs.npy\", lambda: build_clf_perfs(padding_functions, data_old_format), rebuild=False)"
   ]
  },
  {
   "cell_type": "code",
   "execution_count": 34,
   "metadata": {},
   "outputs": [
    {
     "data": {
      "text/plain": [
       "{'score': {'accuracy': (0.811913357400722, 0.014620319597855612),\n",
       "  'precision': (0.8311473334781876, 0.014509356985658044),\n",
       "  'recall': (0.8131562137049941, 0.014448442243473372),\n",
       "  'f1score': (0.8099048979829145, 0.014630191237616986)},\n",
       " 'features': [('time_p25', 0.18802574109423573, 0.12923572103583375),\n",
       "  ('bytes_total', 0.10525760243048288, 0.0035915692103576854),\n",
       "  ('bytes_incoming', 0.10658849210207526, 0.005638392357472416),\n",
       "  ('bytes_%_in', 0.09470461938972663, 0.0024767229977733156),\n",
       "  ('bytes_%_out', 0.09442411824691374, 0.0018104053035977671),\n",
       "  ('hist_9697', 0.0826660102220377, 0.0027463291961204632),\n",
       "  ('bytes_outgoing', 0.05814580850372834, 0.005158640051502373),\n",
       "  ('n_outgoing', 0.06023574954326209, 0.002795242922049196),\n",
       "  ('n_incoming', 0.056694285842370726, 0.004748693255069127),\n",
       "  ('n_total', 0.052183128787212804, 0.01766974152589609),\n",
       "  ('time_outgoing_p25', 0.07283632808632527, 0.1166010290691217),\n",
       "  ('time_incoming_p25', 0.028238115751628778, 0.08471434725488633)]}"
      ]
     },
     "execution_count": 34,
     "metadata": {},
     "output_type": "execute_result"
    }
   ],
   "source": [
    "clf_perfs[2][0]"
   ]
  },
  {
   "cell_type": "code",
   "execution_count": 25,
   "metadata": {},
   "outputs": [
    {
     "data": {
      "text/plain": [
       "[[9954, 6625482], 9778.0, 3286457.141370654]"
      ]
     },
     "execution_count": 25,
     "metadata": {},
     "output_type": "execute_result"
    }
   ],
   "source": [
    "padding_functions[1]"
   ]
  },
  {
   "cell_type": "code",
   "execution_count": 37,
   "metadata": {},
   "outputs": [
    {
     "name": "stdout",
     "output_type": "stream",
     "text": [
      "steps: 1, mean extra cost/subresource 6460 kB, acc 0.72, features: ['time_p50', 'time_outgoing_p25', 'time_incoming_p25', 'time_p25', 'bytes_outgoing', 'n_outgoing', 'bytes_total', 'bytes_incoming', 'n_total', 'n_incoming']\n",
      "steps: 2, mean extra cost/subresource 10 kB, acc 0.81, features: ['time_p25', 'bytes_total', 'bytes_incoming', 'bytes_%_in', 'bytes_%_out', 'hist_9697', 'bytes_outgoing', 'n_outgoing', 'n_incoming', 'n_total']\n",
      "steps: 3, mean extra cost/subresource 11 kB, acc 0.89, features: ['time_p25', 'hist_4347', 'bytes_total', 'bytes_incoming', 'bytes_%_out', 'bytes_%_in', 'bytes_outgoing', 'n_incoming', 'n_outgoing', 'n_total']\n",
      "steps: 4, mean extra cost/subresource 6 kB, acc 0.9, features: ['hist_9697', 'bytes_total', 'hist_3009', 'bytes_incoming', 'bytes_%_in', 'bytes_%_out', 'bytes_outgoing', 'n_outgoing', 'n_incoming', 'n_total']\n",
      "steps: 5, mean extra cost/subresource 4 kB, acc 0.92, features: ['hist_6019', 'bytes_incoming', 'bytes_total', 'hist_2341', 'bytes_%_in', 'bytes_%_out', 'bytes_outgoing', 'n_outgoing', 'n_incoming', 'n_total']\n",
      "steps: 6, mean extra cost/subresource 4 kB, acc 0.93, features: ['hist_4347', 'hist_9697', 'bytes_total', 'bytes_incoming', 'bytes_%_in', 'hist_2006', 'bytes_%_out', 'bytes_outgoing', 'n_incoming', 'n_outgoing']\n",
      "steps: 7, mean extra cost/subresource 3 kB, acc 0.93, features: ['hist_7022', 'bytes_total', 'bytes_incoming', 'hist_14043', 'bytes_%_out', 'hist_2006', 'hist_3344', 'bytes_%_in', 'n_incoming', 'bytes_outgoing']\n",
      "steps: 8, mean extra cost/subresource 2 kB, acc 0.93, features: ['hist_3009', 'bytes_incoming', 'hist_5684', 'hist_9697', 'bytes_total', 'bytes_%_in', 'hist_2006', 'n_total', 'bytes_%_out', 'n_incoming']\n",
      "steps: 9, mean extra cost/subresource 2 kB, acc 0.95, features: ['bytes_total', 'bytes_incoming', 'hist_4347', 'hist_7690', 'bytes_outgoing', 'hist_2675', 'bytes_%_in', 'hist_13040', 'bytes_%_out', 'hist_1672']\n",
      "steps: 10, mean extra cost/subresource 2 kB, acc 0.94, features: ['bytes_incoming', 'n_total', 'bytes_total', 'hist_3678', 'hist_2341', 'hist_6019', 'bytes_%_in', 'bytes_%_out', 'hist_9697', 'hist_1672']\n",
      "steps: 11, mean extra cost/subresource 2 kB, acc 0.93, features: ['bytes_total', 'bytes_incoming', 'bytes_%_out', 'hist_8025', 'hist_2341', 'bytes_%_in', 'hist_12372', 'hist_3344', 'hist_5016', 'hist_1672']\n",
      "steps: 12, mean extra cost/subresource 2 kB, acc 0.94, features: ['bytes_incoming', 'n_outgoing', 'bytes_total', 'hist_2006', 'hist_6687', 'hist_3009', 'bytes_%_in', 'hist_4347', 'bytes_%_out', 'hist_15047']\n",
      "steps: 13, mean extra cost/subresource 2 kB, acc 0.95, features: ['bytes_incoming', 'bytes_total', 'hist_2006', 'bytes_%_in', 'hist_4012', 'bytes_%_out', 'hist_12037', 'hist_2675', 'hist_5684', 'hist_8359']\n",
      "steps: 14, mean extra cost/subresource 1 kB, acc 0.95, features: ['bytes_incoming', 'bytes_total', 'n_outgoing', 'bytes_%_in', 'hist_7022', 'bytes_%_out', 'hist_2006', 'hist_2341', 'hist_14043', 'hist_5016']\n",
      "steps: 15, mean extra cost/subresource 1 kB, acc 0.95, features: ['bytes_incoming', 'n_incoming', 'bytes_total', 'bytes_%_in', 'bytes_%_out', 'hist_4347', 'hist_3009', 'hist_2006', 'hist_6019', 'hist_2341']\n",
      "steps: 16, mean extra cost/subresource 1 kB, acc 0.95, features: ['bytes_total', 'bytes_incoming', 'n_incoming', 'bytes_%_in', 'bytes_%_out', 'hist_7356', 'hist_4012', 'hist_13375', 'hist_2006', 'hist_5684']\n",
      "steps: 17, mean extra cost/subresource 1 kB, acc 0.95, features: ['bytes_incoming', 'bytes_total', 'bytes_%_out', 'bytes_%_in', 'hist_6353', 'hist_2341', 'hist_3678', 'hist_8694', 'hist_5016', 'hist_1672']\n",
      "steps: 18, mean extra cost/subresource 1 kB, acc 0.95, features: ['bytes_incoming', 'bytes_total', 'bytes_%_in', 'bytes_%_out', 'hist_7690', 'hist_2675', 'hist_2006', 'hist_13040', 'hist_6019', 'hist_3344']\n",
      "steps: 19, mean extra cost/subresource 851 B, acc 0.94, features: ['bytes_total', 'bytes_incoming', 'bytes_%_out', 'bytes_%_in', 'hist_6687', 'hist_4012', 'hist_14712', 'hist_2341', 'hist_2006', 'hist_11034']\n",
      "steps: 20, mean extra cost/subresource 956 B, acc 0.95, features: ['bytes_incoming', 'bytes_total', 'bytes_%_out', 'bytes_%_in', 'hist_6019', 'hist_4681', 'hist_3678', 'hist_2341', 'hist_2006', 'hist_3009']\n",
      "steps: 21, mean extra cost/subresource 879 B, acc 0.94, features: ['bytes_total', 'bytes_incoming', 'bytes_%_in', 'bytes_%_out', 'n_outgoing', 'n_total', 'hist_7022', 'hist_2006', 'hist_3344', 'hist_5684']\n",
      "steps: 22, mean extra cost/subresource 752 B, acc 0.94, features: ['bytes_incoming', 'bytes_total', 'n_incoming', 'bytes_%_out', 'bytes_%_in', 'times_sum', 'hist_4012', 'hist_6353', 'hist_2675', 'hist_15715']\n",
      "steps: 23, mean extra cost/subresource 842 B, acc 0.95, features: ['bytes_incoming', 'bytes_total', 'bytes_%_in', 'bytes_%_out', 'hist_2006', 'hist_7022', 'n_total', 'hist_13709', 'bytes_outgoing', 'n_outgoing']\n",
      "steps: 24, mean extra cost/subresource 731 B, acc 0.95, features: ['bytes_incoming', 'bytes_total', 'bytes_%_out', 'bytes_%_in', 'hist_2006', 'n_outgoing', 'n_incoming', 'time_p25', 'hist_6687', 'hist_3678']\n",
      "steps: 25, mean extra cost/subresource 704 B, acc 0.95, features: ['bytes_total', 'bytes_incoming', 'bytes_%_out', 'bytes_%_in', 'hist_2006', 'hist_4012', 'n_outgoing', 'hist_2675', 'n_total', 'n_incoming']\n",
      "steps: 26, mean extra cost/subresource 704 B, acc 0.94, features: ['bytes_incoming', 'bytes_total', 'bytes_%_in', 'bytes_%_out', 'hist_5684', 'hist_4012', 'n_outgoing', 'bytes_outgoing', 'n_incoming', 'n_total']\n",
      "steps: 27, mean extra cost/subresource 643 B, acc 0.94, features: ['bytes_total', 'bytes_incoming', 'bytes_%_out', 'bytes_%_in', 'hist_6353', 'bytes_outgoing', 'n_outgoing', 'n_total', 'hist_2675', 'hist_1672']\n",
      "steps: 28, mean extra cost/subresource 642 B, acc 0.94, features: ['bytes_incoming', 'bytes_total', 'bytes_%_in', 'hist_2341', 'bytes_%_out', 'n_incoming', 'bytes_outgoing', 'time_outgoing_p25', 'hist_6019', 'hist_1003']\n",
      "steps: 29, mean extra cost/subresource 603 B, acc 0.95, features: ['bytes_incoming', 'bytes_total', 'bytes_%_in', 'bytes_%_out', 'n_total', 'n_outgoing', 'hist_2006', 'hist_6353', 'hist_3344', 'hist_1003']\n",
      "steps: 30, mean extra cost/subresource 604 B, acc 0.94, features: ['bytes_incoming', 'bytes_total', 'bytes_%_in', 'bytes_%_out', 'time_outgoing_p75', 'hist_2006', 'bytes_outgoing', 'hist_6019', 'n_total', 'n_incoming']\n",
      "steps: 31, mean extra cost/subresource 526 B, acc 0.93, features: ['bytes_total', 'bytes_incoming', 'bytes_%_in', 'bytes_%_out', 'hist_2006', 'time_outgoing_p25', 'n_total', 'n_incoming', 'n_outgoing', 'hist_1003']\n",
      "steps: 32, mean extra cost/subresource 554 B, acc 0.93, features: ['bytes_incoming', 'bytes_total', 'bytes_%_out', 'bytes_%_in', 'hist_2006', 'n_incoming', 'n_outgoing', 'hist_8694', 'n_total', 'hist_6353']\n",
      "steps: 33, mean extra cost/subresource 533 B, acc 0.94, features: ['bytes_total', 'bytes_incoming', 'bytes_%_in', 'bytes_%_out', 'n_outgoing', 'n_total', 'hist_2006', 'hist_2341', 'hist_3344', 'hist_12372']\n",
      "steps: 34, mean extra cost/subresource 489 B, acc 0.94, features: ['bytes_incoming', 'bytes_total', 'bytes_%_out', 'bytes_%_in', 'hist_2341', 'hist_1672', 'n_total', 'n_outgoing', 'bytes_outgoing', 'n_incoming']\n",
      "steps: 35, mean extra cost/subresource 508 B, acc 0.92, features: ['bytes_incoming', 'bytes_total', 'bytes_%_in', 'bytes_%_out', 'hist_2006', 'hist_1672', 'n_outgoing', 'bytes_outgoing', 'n_total', 'n_incoming']\n",
      "steps: 36, mean extra cost/subresource 508 B, acc 0.93, features: ['bytes_incoming', 'bytes_total', 'bytes_%_in', 'bytes_%_out', 'hist_2006', 'hist_4012', 'bytes_outgoing', 'n_incoming', 'n_total', 'hist_1672']\n",
      "steps: 37, mean extra cost/subresource 454 B, acc 0.93, features: ['bytes_incoming', 'bytes_total', 'bytes_%_in', 'bytes_%_out', 'hist_2006', 'n_total', 'n_outgoing', 'n_incoming', 'hist_6353', 'hist_1672']\n",
      "steps: 38, mean extra cost/subresource 433 B, acc 0.93, features: ['bytes_incoming', 'bytes_total', 'bytes_%_out', 'bytes_%_in', 'hist_2006', 'hist_2341', 'bytes_outgoing', 'n_total', 'n_outgoing', 'n_incoming']\n",
      "steps: 39, mean extra cost/subresource 463 B, acc 0.93, features: ['bytes_total', 'bytes_incoming', 'bytes_%_in', 'bytes_%_out', 'hist_2341', 'hist_2006', 'n_incoming', 'n_total', 'n_outgoing', 'bytes_outgoing']\n",
      "steps: 40, mean extra cost/subresource 441 B, acc 0.93, features: ['bytes_total', 'bytes_incoming', 'bytes_%_in', 'bytes_%_out', 'times_sum', 'hist_2341', 'hist_2006', 'bytes_outgoing', 'n_total', 'n_outgoing']\n",
      "steps: 41, mean extra cost/subresource 414 B, acc 0.94, features: ['bytes_incoming', 'bytes_total', 'bytes_%_in', 'bytes_%_out', 'hist_2006', 'hist_2675', 'n_total', 'n_incoming', 'bytes_outgoing', 'n_outgoing']\n",
      "steps: 42, mean extra cost/subresource 418 B, acc 0.93, features: ['bytes_incoming', 'bytes_total', 'bytes_%_in', 'bytes_%_out', 'hist_2006', 'n_incoming', 'n_total', 'hist_2341', 'n_outgoing', 'hist_1337']\n",
      "steps: 43, mean extra cost/subresource 408 B, acc 0.93, features: ['bytes_incoming', 'bytes_total', 'bytes_%_out', 'bytes_%_in', 'hist_2006', 'hist_1337', 'bytes_outgoing', 'n_incoming', 'n_outgoing', 'n_total']\n",
      "steps: 44, mean extra cost/subresource 391 B, acc 0.92, features: ['bytes_incoming', 'bytes_total', 'bytes_%_in', 'bytes_%_out', 'hist_2341', 'n_incoming', 'n_total', 'n_outgoing', 'hist_1672', 'hist_2006']\n",
      "steps: 45, mean extra cost/subresource 388 B, acc 0.94, features: ['bytes_total', 'bytes_incoming', 'bytes_%_out', 'bytes_%_in', 'n_outgoing', 'n_incoming', 'n_total', 'hist_1672', 'hist_1337', 'hist_2006']\n",
      "steps: 46, mean extra cost/subresource 368 B, acc 0.93, features: ['bytes_incoming', 'bytes_total', 'bytes_%_out', 'bytes_%_in', 'hist_2006', 'hist_2341', 'bytes_outgoing', 'n_incoming', 'n_total', 'n_outgoing']\n",
      "steps: 47, mean extra cost/subresource 364 B, acc 0.93, features: ['bytes_incoming', 'bytes_total', 'bytes_%_in', 'bytes_%_out', 'hist_2006', 'hist_1672', 'hist_2341', 'n_total', 'n_incoming', 'n_outgoing']\n",
      "steps: 48, mean extra cost/subresource 359 B, acc 0.93, features: ['bytes_total', 'bytes_incoming', 'bytes_%_in', 'bytes_%_out', 'times_sum', 'hist_2006', 'bytes_outgoing', 'hist_2341', 'n_outgoing', 'n_total']\n",
      "steps: 49, mean extra cost/subresource 347 B, acc 0.94, features: ['bytes_incoming', 'bytes_total', 'bytes_%_out', 'bytes_%_in', 'n_total', 'n_incoming', 'hist_2006', 'n_outgoing', 'hist_2341', 'hist_6019']\n"
     ]
    }
   ],
   "source": [
    "last_size = 0\n",
    "for cuts, med_cost, mean_cost in padding_functions:\n",
    "\n",
    "    if not len(cuts) in clf_perfs: # if the attack was not run, skip\n",
    "        continue\n",
    "    if len(cuts) == last_size: # skips repeat due to rounding in np.linrange\n",
    "        continue\n",
    "    \n",
    "    last_size = len(cuts)\n",
    "    acc = round(clf_perfs[len(cuts)][0]['score']['accuracy'][0], 2)\n",
    "    top_f = [feature_name for feature_name, *_ in clf_perfs[len(cuts)][0]['features'][:10]]\n",
    "    med_cost_str = f\"{round(med_cost)} B\"\n",
    "    if med_cost > 1024:\n",
    "        med_cost_str = f\"{round(med_cost/1024)} kB\"\n",
    "    print(f\"steps: {len(cuts)}, mean extra cost/subresource {med_cost_str}, acc {acc}, features: {top_f}\")"
   ]
  },
  {
   "cell_type": "code",
   "execution_count": 46,
   "metadata": {},
   "outputs": [
    {
     "data": {
      "image/png": "[encoded data removed]",
      "text/plain": [
       "<Figure size 640x480 with 1 Axes>"
      ]
     },
     "metadata": {},
     "output_type": "display_data"
    },
    {
     "data": {
      "image/png": "[encoded data removed]",
      "text/plain": [
       "<Figure size 640x480 with 1 Axes>"
      ]
     },
     "metadata": {},
     "output_type": "display_data"
    }
   ],
   "source": [
    "#print(padding_functions)\n",
    "#print(clf_perfs)\n",
    "\n",
    "to_plot = []\n",
    "for cuts, med_cost, mean_cost in padding_functions:\n",
    "\n",
    "    if not len(cuts) in clf_perfs: # if the attack was not run, skip\n",
    "        continue\n",
    "    if len(cuts) == last_size: # skips repeat due to rounding in np.linrange\n",
    "        continue\n",
    "\n",
    "    last_size = len(cuts)\n",
    "    acc = round(clf_perfs[len(cuts)][0]['score']['f1score'][0], 2)\n",
    "    top_f = [feature_name for feature_name, *_ in clf_perfs[len(cuts)][0]['features'][:3]]\n",
    " \n",
    "    to_plot.append([len(cuts), med_cost, acc])\n",
    "\n",
    "len_cuts = [row[0] for row in to_plot]\n",
    "med_costs = [row[1] for row in to_plot]\n",
    "accs = [row[2] for row in to_plot]\n",
    "\n",
    "plt.plot(len_cuts, accs, marker=\".\")\n",
    "plt.ylabel(\"Attacker accuracy\")\n",
    "plt.xlabel(\"Padding function steps\")\n",
    "plt.show()\n",
    "plt.scatter(len_cuts, med_costs, marker=\".\")\n",
    "plt.ylim([1,5000])\n",
    "plt.ylabel(\"Mean cost/subrequest [kB]\")\n",
    "plt.xlabel(\"Padding function steps\")\n",
    "plt.show()"
   ]
  },
  {
   "cell_type": "code",
   "execution_count": null,
   "metadata": {},
   "outputs": [],
   "source": []
  }
 ],
 "metadata": {
  "interpreter": {
   "hash": "e7370f93d1d0cde622a1f8e1c04877d8463912d04d973331ad4851f04de6915a"
  },
  "kernelspec": {
   "display_name": "Python 3 (ipykernel)",
   "language": "python",
   "name": "python3"
  },
  "language_info": {
   "codemirror_mode": {
    "name": "ipython",
    "version": 3
   },
   "file_extension": ".py",
   "mimetype": "text/x-python",
   "name": "python",
   "nbconvert_exporter": "python",
   "pygments_lexer": "ipython3",
   "version": "3.10.9"
  }
 },
 "nbformat": 4,
 "nbformat_minor": 2
}
